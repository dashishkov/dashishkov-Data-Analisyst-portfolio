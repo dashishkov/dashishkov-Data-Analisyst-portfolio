{
 "cells": [
  {
   "cell_type": "markdown",
   "metadata": {},
   "source": [
    "#### Декомпозиция "
   ]
  },
  {
   "cell_type": "markdown",
   "metadata": {},
   "source": [
    "Загрузка данных"
   ]
  },
  {
   "cell_type": "markdown",
   "metadata": {},
   "source": [
    "Знакомство с данными."
   ]
  },
  {
   "cell_type": "markdown",
   "metadata": {},
   "source": [
    " Предобработка данных"
   ]
  },
  {
   "cell_type": "markdown",
   "metadata": {},
   "source": [
    "На данном этапе, посмотрим соответствие типов данных. Рассмотрим данные на предмет дубликатов, на предмет пропущенных значений. При возможности заполним пропуски. "
   ]
  },
  {
   "cell_type": "markdown",
   "metadata": {},
   "source": [
    "Исследовательский анализ данных"
   ]
  },
  {
   "cell_type": "markdown",
   "metadata": {},
   "source": [
    "Рассмотрим анализ распределений (по возрасту, доходу, имуществу, полу, городам) построим гистограммы, боксплоты. Построим график корреляции."
   ]
  },
  {
   "cell_type": "markdown",
   "metadata": {},
   "source": [
    "Проверка гипотез"
   ]
  },
  {
   "cell_type": "markdown",
   "metadata": {},
   "source": [
    "На основе EDA проверим несколько гипотез о статистической значимости результатов"
   ]
  },
  {
   "cell_type": "markdown",
   "metadata": {},
   "source": [
    "Сегментация клиентов"
   ]
  },
  {
   "cell_type": "markdown",
   "metadata": {},
   "source": [
    "На основе предыдущих этапов проведем сегментацию клиентов. Расставим приоритеты в сегментах"
   ]
  },
  {
   "cell_type": "markdown",
   "metadata": {},
   "source": [
    "Пропишем итоговые выводы и рекомендации"
   ]
  },
  {
   "cell_type": "markdown",
   "metadata": {},
   "source": [
    "<a href=\"https://cloud.mail.ru/public/iV6j/v6X2Zi4o8\">Ссылка на презентацию</a>"
   ]
  },
  {
   "cell_type": "markdown",
   "metadata": {},
   "source": [
    "<h1> Банк — Анализ оттока\n",
    "клиентов </h1>"
   ]
  },
  {
   "cell_type": "markdown",
   "metadata": {},
   "source": [
    "<font size=\"3\"><strong>Описание проекта</strong></font><br><br>\n",
    "Датасет содержит данные о клиентах банка «Метанпром». Банк располагается в\n",
    "Ярославле и областных городах: Ростов Великий и Рыбинск.\n",
    "Колонки:\n",
    "- USERID — идентификатор пользователя,\n",
    "- Банки — Анализ оттока клиентов 2\n",
    "- score — баллы кредитного скоринга,\n",
    "- city — город,\n",
    "- gender — пол,\n",
    "- age — возраст,\n",
    "- equity — количество баллов собственности\n",
    "- balance — баланс на счёте,\n",
    "- products — количество продуктов, которыми пользуется клиент,\n",
    "- credit_card — есть ли кредитная карта,\n",
    "- last_activity — активный клиент,\n",
    "- EST_SALARY — оценочный доход клиента,\n",
    "- сhurn — признак оттока.\n",
    "<br><br>\n",
    "<font size=\"3\"><strong>Цель проекта:</strong></font><br><br>\n",
    "Проанализировать клиентов регионального банка и выделить сегменты клиентов,\n",
    "которые склонны уходить из банка.\n",
    "\n"
   ]
  },
  {
   "cell_type": "markdown",
   "metadata": {},
   "source": [
    "<font size=\"3\"><strong>План проекта:</strong></font>\n",
    "\n",
    "1. [Импорт библиотек](#1)\n",
    "\n",
    "2. [Загрузка данных](#2)\n",
    "\n",
    "3. [Предобработка данных](#3)\n",
    "\n",
    "3.1. [Замена названий столбцов](#4)\n",
    "\n",
    "3.2. [Проверим есть ли выбросы](#5)\n",
    "\n",
    "3.3. [Обработка пропущенных значений](#6)\n",
    "\n",
    "3.4. [Проверка дубликатов](#7)\n",
    "\n",
    "4. [Исследовательский анализ данных](#8)\n",
    "\n",
    "4.1. [Посмотрим на изначальное распределиние признаков](#9)\n",
    "\n",
    "4.2. [Проверка распределения числовым данным в зависимости от churn клиента](#10)\n",
    "\n",
    "4.3. [Проверим отток по категориальным данным](#11)\n",
    "\n",
    "4.4. [Процентное распределение оттока в категориальных данных](#12)\n",
    "\n",
    "4.5. [Матрица корреляции](#13)\n",
    "\n",
    "4.6. [Корреляция по phik](#14)\n",
    "\n",
    "4.7. [Портрет клиента](#15)\n",
    "\n",
    "4.8. [Вывод](#16)\n",
    "\n",
    "5. [Проверка статистических гипотез](#17)\n",
    "\n",
    "5.1. [Проверка гипотез равенстве долей ушедших клиентов среди клиентов у которых есть/нет кредитных карт.](#18)\n",
    "\n",
    "5.2. [Проверка гипотезы о различии возраста между ушедшими и оставшимися клиентами](#19)\n",
    "\n",
    "5.3. [Гипотеза о различии дохода между теми клиентами, которые ушли и теми, которые остались](#20)\n",
    "\n",
    "5.4. [Вывод по проверке статистических гипотез:](#30)\n",
    "\n",
    "6. [Сегментация клиентов](#21)\n",
    "\n",
    "6.1. [Распределим сегоменты по приоритету](#22)\n",
    "\n",
    "6.2. [Приоритет номер 1: Сегмент по полу, наличию крединой карты и балансу ](#23)\n",
    "\n",
    "6.3. [Приоритет номер 2: Сегменты по балансу, собственности и возрасту](#24)\n",
    "\n",
    "6.4. [Приоритет номер 3: Сегменты по полу, кредитному рейтингу и балансу](#25)\n",
    "\n",
    "6.5. [Вывод по итогам сегментации клиентов](#26)\n",
    "\n",
    "7. [Итоговый вывод](#27)"
   ]
  },
  {
   "cell_type": "markdown",
   "metadata": {},
   "source": [
    "<a id='1'></a>\n",
    "#### Импорт библиотек"
   ]
  },
  {
   "cell_type": "code",
   "execution_count": 1,
   "metadata": {},
   "outputs": [],
   "source": [
    "! pip install phik -q\n",
    "import time\n",
    "import json\n",
    "import pandas as pd\n",
    "import numpy as np\n",
    "import seaborn as sns\n",
    "import matplotlib.pyplot as plt\n",
    "import datetime as dt\n",
    "from scipy import stats\n",
    "from pandas.plotting import register_matplotlib_converters\n",
    "import warnings\n",
    "import plotly.graph_objects as go\n",
    "import math\n",
    "import plotly.express as px\n",
    "from folium.plugins import MarkerCluster\n",
    "import folium\n",
    "from statsmodels.stats.proportion import proportions_ztest\n",
    "import warnings\n",
    "from scipy.stats import ttest_ind\n",
    "from scipy.stats import mannwhitneyu\n",
    "import phik\n",
    "from phik import report\n",
    "import itertools\n",
    "warnings.filterwarnings('ignore')"
   ]
  },
  {
   "cell_type": "code",
   "execution_count": 2,
   "metadata": {},
   "outputs": [],
   "source": [
    "# Установка максимального количества отображаемых столбцов\n",
    "pd.set_option('display.max_columns', None)\n",
    "# Установка максимальной ширины стоблцов df\n",
    "pd.set_option('display.max_colwidth', None)"
   ]
  },
  {
   "cell_type": "markdown",
   "metadata": {},
   "source": [
    "<a id='2'></a>\n",
    "#### Загрузка данных"
   ]
  },
  {
   "cell_type": "code",
   "execution_count": 3,
   "metadata": {},
   "outputs": [],
   "source": [
    "df = pd.read_csv('/datasets/bank_scrooge.csv')"
   ]
  },
  {
   "cell_type": "code",
   "execution_count": 4,
   "metadata": {},
   "outputs": [
    {
     "data": {
      "text/html": [
       "<div>\n",
       "<style scoped>\n",
       "    .dataframe tbody tr th:only-of-type {\n",
       "        vertical-align: middle;\n",
       "    }\n",
       "\n",
       "    .dataframe tbody tr th {\n",
       "        vertical-align: top;\n",
       "    }\n",
       "\n",
       "    .dataframe thead th {\n",
       "        text-align: right;\n",
       "    }\n",
       "</style>\n",
       "<table border=\"1\" class=\"dataframe\">\n",
       "  <thead>\n",
       "    <tr style=\"text-align: right;\">\n",
       "      <th></th>\n",
       "      <th>USERID</th>\n",
       "      <th>score</th>\n",
       "      <th>city</th>\n",
       "      <th>gender</th>\n",
       "      <th>age</th>\n",
       "      <th>equity</th>\n",
       "      <th>balance</th>\n",
       "      <th>products</th>\n",
       "      <th>credit_card</th>\n",
       "      <th>last_activity</th>\n",
       "      <th>EST_SALARY</th>\n",
       "      <th>churn</th>\n",
       "    </tr>\n",
       "  </thead>\n",
       "  <tbody>\n",
       "    <tr>\n",
       "      <th>0</th>\n",
       "      <td>183012</td>\n",
       "      <td>850.0</td>\n",
       "      <td>Рыбинск</td>\n",
       "      <td>Ж</td>\n",
       "      <td>25.0</td>\n",
       "      <td>1</td>\n",
       "      <td>59214.82</td>\n",
       "      <td>2</td>\n",
       "      <td>0</td>\n",
       "      <td>1</td>\n",
       "      <td>75719.14</td>\n",
       "      <td>1</td>\n",
       "    </tr>\n",
       "    <tr>\n",
       "      <th>1</th>\n",
       "      <td>146556</td>\n",
       "      <td>861.0</td>\n",
       "      <td>Рыбинск</td>\n",
       "      <td>Ж</td>\n",
       "      <td>37.0</td>\n",
       "      <td>5</td>\n",
       "      <td>850594.33</td>\n",
       "      <td>3</td>\n",
       "      <td>1</td>\n",
       "      <td>0</td>\n",
       "      <td>86621.77</td>\n",
       "      <td>0</td>\n",
       "    </tr>\n",
       "    <tr>\n",
       "      <th>2</th>\n",
       "      <td>120722</td>\n",
       "      <td>892.0</td>\n",
       "      <td>Рыбинск</td>\n",
       "      <td>Ж</td>\n",
       "      <td>30.0</td>\n",
       "      <td>0</td>\n",
       "      <td>NaN</td>\n",
       "      <td>1</td>\n",
       "      <td>1</td>\n",
       "      <td>1</td>\n",
       "      <td>107683.34</td>\n",
       "      <td>0</td>\n",
       "    </tr>\n",
       "    <tr>\n",
       "      <th>3</th>\n",
       "      <td>225363</td>\n",
       "      <td>866.0</td>\n",
       "      <td>Ярославль</td>\n",
       "      <td>Ж</td>\n",
       "      <td>51.0</td>\n",
       "      <td>5</td>\n",
       "      <td>1524746.26</td>\n",
       "      <td>2</td>\n",
       "      <td>0</td>\n",
       "      <td>1</td>\n",
       "      <td>174423.53</td>\n",
       "      <td>1</td>\n",
       "    </tr>\n",
       "    <tr>\n",
       "      <th>4</th>\n",
       "      <td>157978</td>\n",
       "      <td>730.0</td>\n",
       "      <td>Ярославль</td>\n",
       "      <td>М</td>\n",
       "      <td>34.0</td>\n",
       "      <td>5</td>\n",
       "      <td>174.00</td>\n",
       "      <td>1</td>\n",
       "      <td>1</td>\n",
       "      <td>0</td>\n",
       "      <td>67353.16</td>\n",
       "      <td>1</td>\n",
       "    </tr>\n",
       "  </tbody>\n",
       "</table>\n",
       "</div>"
      ],
      "text/plain": [
       "   USERID  score       city gender   age  equity     balance  products  \\\n",
       "0  183012  850.0    Рыбинск      Ж  25.0       1    59214.82         2   \n",
       "1  146556  861.0    Рыбинск      Ж  37.0       5   850594.33         3   \n",
       "2  120722  892.0    Рыбинск      Ж  30.0       0         NaN         1   \n",
       "3  225363  866.0  Ярославль      Ж  51.0       5  1524746.26         2   \n",
       "4  157978  730.0  Ярославль      М  34.0       5      174.00         1   \n",
       "\n",
       "   credit_card  last_activity  EST_SALARY  churn  \n",
       "0            0              1    75719.14      1  \n",
       "1            1              0    86621.77      0  \n",
       "2            1              1   107683.34      0  \n",
       "3            0              1   174423.53      1  \n",
       "4            1              0    67353.16      1  "
      ]
     },
     "metadata": {},
     "output_type": "display_data"
    },
    {
     "data": {
      "text/html": [
       "<div>\n",
       "<style scoped>\n",
       "    .dataframe tbody tr th:only-of-type {\n",
       "        vertical-align: middle;\n",
       "    }\n",
       "\n",
       "    .dataframe tbody tr th {\n",
       "        vertical-align: top;\n",
       "    }\n",
       "\n",
       "    .dataframe thead th {\n",
       "        text-align: right;\n",
       "    }\n",
       "</style>\n",
       "<table border=\"1\" class=\"dataframe\">\n",
       "  <thead>\n",
       "    <tr style=\"text-align: right;\">\n",
       "      <th></th>\n",
       "      <th>USERID</th>\n",
       "      <th>score</th>\n",
       "      <th>city</th>\n",
       "      <th>gender</th>\n",
       "      <th>age</th>\n",
       "      <th>equity</th>\n",
       "      <th>balance</th>\n",
       "      <th>products</th>\n",
       "      <th>credit_card</th>\n",
       "      <th>last_activity</th>\n",
       "      <th>EST_SALARY</th>\n",
       "      <th>churn</th>\n",
       "    </tr>\n",
       "  </thead>\n",
       "  <tbody>\n",
       "    <tr>\n",
       "      <th>9995</th>\n",
       "      <td>120553</td>\n",
       "      <td>814.0</td>\n",
       "      <td>Рыбинск</td>\n",
       "      <td>М</td>\n",
       "      <td>27.0</td>\n",
       "      <td>1</td>\n",
       "      <td>78144.65</td>\n",
       "      <td>1</td>\n",
       "      <td>0</td>\n",
       "      <td>1</td>\n",
       "      <td>18943.64</td>\n",
       "      <td>0</td>\n",
       "    </tr>\n",
       "    <tr>\n",
       "      <th>9996</th>\n",
       "      <td>139170</td>\n",
       "      <td>894.0</td>\n",
       "      <td>Ярославль</td>\n",
       "      <td>М</td>\n",
       "      <td>46.0</td>\n",
       "      <td>0</td>\n",
       "      <td>NaN</td>\n",
       "      <td>1</td>\n",
       "      <td>1</td>\n",
       "      <td>0</td>\n",
       "      <td>196898.29</td>\n",
       "      <td>0</td>\n",
       "    </tr>\n",
       "    <tr>\n",
       "      <th>9997</th>\n",
       "      <td>115639</td>\n",
       "      <td>903.0</td>\n",
       "      <td>Ярославль</td>\n",
       "      <td>М</td>\n",
       "      <td>24.0</td>\n",
       "      <td>0</td>\n",
       "      <td>NaN</td>\n",
       "      <td>2</td>\n",
       "      <td>1</td>\n",
       "      <td>1</td>\n",
       "      <td>108905.09</td>\n",
       "      <td>0</td>\n",
       "    </tr>\n",
       "    <tr>\n",
       "      <th>9998</th>\n",
       "      <td>148700</td>\n",
       "      <td>777.0</td>\n",
       "      <td>Ярославль</td>\n",
       "      <td>Ж</td>\n",
       "      <td>68.0</td>\n",
       "      <td>3</td>\n",
       "      <td>865457.97</td>\n",
       "      <td>3</td>\n",
       "      <td>0</td>\n",
       "      <td>1</td>\n",
       "      <td>86874.90</td>\n",
       "      <td>0</td>\n",
       "    </tr>\n",
       "    <tr>\n",
       "      <th>9999</th>\n",
       "      <td>96267</td>\n",
       "      <td>828.0</td>\n",
       "      <td>Рыбинск</td>\n",
       "      <td>Ж</td>\n",
       "      <td>58.0</td>\n",
       "      <td>3</td>\n",
       "      <td>1180886.70</td>\n",
       "      <td>4</td>\n",
       "      <td>0</td>\n",
       "      <td>1</td>\n",
       "      <td>21422.37</td>\n",
       "      <td>0</td>\n",
       "    </tr>\n",
       "  </tbody>\n",
       "</table>\n",
       "</div>"
      ],
      "text/plain": [
       "      USERID  score       city gender   age  equity     balance  products  \\\n",
       "9995  120553  814.0    Рыбинск      М  27.0       1    78144.65         1   \n",
       "9996  139170  894.0  Ярославль      М  46.0       0         NaN         1   \n",
       "9997  115639  903.0  Ярославль      М  24.0       0         NaN         2   \n",
       "9998  148700  777.0  Ярославль      Ж  68.0       3   865457.97         3   \n",
       "9999   96267  828.0    Рыбинск      Ж  58.0       3  1180886.70         4   \n",
       "\n",
       "      credit_card  last_activity  EST_SALARY  churn  \n",
       "9995            0              1    18943.64      0  \n",
       "9996            1              0   196898.29      0  \n",
       "9997            1              1   108905.09      0  \n",
       "9998            0              1    86874.90      0  \n",
       "9999            0              1    21422.37      0  "
      ]
     },
     "metadata": {},
     "output_type": "display_data"
    }
   ],
   "source": [
    "display(df.head(), df.tail())"
   ]
  },
  {
   "cell_type": "code",
   "execution_count": 5,
   "metadata": {},
   "outputs": [
    {
     "name": "stdout",
     "output_type": "stream",
     "text": [
      "<class 'pandas.core.frame.DataFrame'>\n",
      "RangeIndex: 10000 entries, 0 to 9999\n",
      "Data columns (total 12 columns):\n",
      " #   Column         Non-Null Count  Dtype  \n",
      "---  ------         --------------  -----  \n",
      " 0   USERID         10000 non-null  int64  \n",
      " 1   score          10000 non-null  float64\n",
      " 2   city           10000 non-null  object \n",
      " 3   gender         10000 non-null  object \n",
      " 4   age            9974 non-null   float64\n",
      " 5   equity         10000 non-null  int64  \n",
      " 6   balance        7705 non-null   float64\n",
      " 7   products       10000 non-null  int64  \n",
      " 8   credit_card    10000 non-null  int64  \n",
      " 9   last_activity  10000 non-null  int64  \n",
      " 10  EST_SALARY     10000 non-null  float64\n",
      " 11  churn          10000 non-null  int64  \n",
      "dtypes: float64(4), int64(6), object(2)\n",
      "memory usage: 937.6+ KB\n"
     ]
    }
   ],
   "source": [
    "df.info()"
   ]
  },
  {
   "cell_type": "markdown",
   "metadata": {},
   "source": [
    "Всего имеем 10000 строк с данными. Нужно привести к нижнему регистру названия столбцов USERID и EST_SALARY. Видим 26 пропущенных значений в столбцу age, так же 2295 пропущеных значений в столбце balance. Типы данных в столбцах соответствуют содержанию."
   ]
  },
  {
   "cell_type": "markdown",
   "metadata": {},
   "source": [
    "<a id='3'></a>\n",
    "#### Предобработка данных"
   ]
  },
  {
   "cell_type": "markdown",
   "metadata": {},
   "source": [
    "<a id='4'></a>\n",
    "##### Приведение названий столбцов к нижнему регистру"
   ]
  },
  {
   "cell_type": "code",
   "execution_count": 6,
   "metadata": {
    "scrolled": true
   },
   "outputs": [],
   "source": [
    "# Приведение названий столбцов к нижнему регистру\n",
    "df.rename(columns={'USERID': 'user_id', 'EST_SALARY': 'est_salary'}, inplace=True)"
   ]
  },
  {
   "cell_type": "markdown",
   "metadata": {},
   "source": [
    "<a id='5'></a>\n",
    "##### Проверим есть ли выбросы"
   ]
  },
  {
   "cell_type": "code",
   "execution_count": 7,
   "metadata": {},
   "outputs": [
    {
     "data": {
      "image/png": "[encoded data removed]",
      "text/plain": [
       "<Figure size 1296x864 with 6 Axes>"
      ]
     },
     "metadata": {
      "needs_background": "light"
     },
     "output_type": "display_data"
    }
   ],
   "source": [
    "# Создадим boxplot для анализа выбросов\n",
    "fig, axes = plt.subplots(nrows=2, ncols=3, figsize=(18, 12))\n",
    "columns_to_plot = ['score', 'age', 'equity', 'balance', 'products', 'est_salary']\n",
    "\n",
    "for col, ax in zip(columns_to_plot, axes.flatten()):\n",
    "    df.boxplot(column=col, ax=ax, vert=False)\n",
    "    ax.set_title(col)\n",
    "\n",
    "plt.tight_layout()\n",
    "plt.show()"
   ]
  },
  {
   "cell_type": "markdown",
   "metadata": {},
   "source": [
    "<ul>score: Выбросов не наблюдается.</ul>\n",
    "<ul>age: Есть несколько выбросов для очень высоких значений.</ul>\n",
    "<ul>equity: Распределение сильно скошено влево, с несколькими значительными выбросами в правой части.</ul>\n",
    "<ul>balance: Присутствуют значительные выбросы для очень высоких значений баланса.</ul>\n",
    "<ul>products: Похоже, что большинство пользователей использует от 1 до 2 продуктов, но есть несколько выбросов для пользователей, использующих более 3 продуктов. Так же видим products с нулевым значением, это анамальный выброс, не может клиента с нулем банковских продуктов</ul>\n",
    "<ul>est_salary: Большое количество выбросов примерно после 300 тысяч.</ul>"
   ]
  },
  {
   "cell_type": "code",
   "execution_count": 8,
   "metadata": {},
   "outputs": [],
   "source": [
    "# Удаление строк c нулевым значением products \n",
    "df = df.query('products != 0')"
   ]
  },
  {
   "cell_type": "markdown",
   "metadata": {},
   "source": [
    "<a id='6'></a>\n",
    "##### Обработка пропущенных значений"
   ]
  },
  {
   "cell_type": "code",
   "execution_count": 9,
   "metadata": {},
   "outputs": [
    {
     "name": "stdout",
     "output_type": "stream",
     "text": [
      "user_id             0\n",
      "score               0\n",
      "city                0\n",
      "gender              0\n",
      "age                26\n",
      "equity              0\n",
      "balance          2294\n",
      "products            0\n",
      "credit_card         0\n",
      "last_activity       0\n",
      "est_salary          0\n",
      "churn               0\n",
      "dtype: int64\n",
      "--------------------------------------------------------------------------------\n",
      "               age_missing  balance_missing\n",
      "score             0.005045         0.138598\n",
      "age                    NaN        -0.029226\n",
      "equity           -0.032039        -0.710106\n",
      "balance           0.007686              NaN\n",
      "products         -0.033772        -0.487297\n",
      "credit_card       0.009719         0.158645\n",
      "last_activity     0.025116         0.028561\n",
      "est_salary        0.011248         0.307379\n",
      "churn            -0.018987        -0.249907\n"
     ]
    }
   ],
   "source": [
    "# Создание признаков для индикации пропусков в данных\n",
    "missing_indicators = df.isnull().astype(int).add_suffix('_missing')\n",
    "\n",
    "# Добавление этих признаков в основной датафрейм\n",
    "df_with_missing = df.join(missing_indicators)\n",
    "\n",
    "# Удаление столбца id из анализа (предполагается, что имя столбца 'id', замените на актуальное, если отличается)\n",
    "df_with_missing = df_with_missing.drop(columns=['user_id'])\n",
    "\n",
    "# Вычисление количества пропусков в каждом столбце\n",
    "missing_counts = df.isnull().sum()\n",
    "\n",
    "# Проверим корреляции новых признаков пропусков с другими переменными\n",
    "correlation_with_missing = df_with_missing.corr().filter(like='_missing').drop(index=missing_indicators.columns)\n",
    "\n",
    "print(missing_counts)\n",
    "\n",
    "print('-'*80)\n",
    "\n",
    "print(correlation_with_missing[['age_missing', 'balance_missing']].head(10))"
   ]
  },
  {
   "cell_type": "markdown",
   "metadata": {},
   "source": [
    "В случае с age корреляция низкая, в случае с balance по Чеддоку отрицательная корреляция заметная(-0.48) с balance  и высокая отрицательная корреляция(-0.7) с equity."
   ]
  },
  {
   "cell_type": "markdown",
   "metadata": {},
   "source": [
    "Создадим сводную таблицу, что бы посмотреть на различия данных с пропусками по столбцам balance и age"
   ]
  },
  {
   "cell_type": "code",
   "execution_count": 10,
   "metadata": {},
   "outputs": [
    {
     "name": "stdout",
     "output_type": "stream",
     "text": [
      "age_missing              0              1 Relative Difference (%)\n",
      "est_salary   147799.115241  178585.199231               20.829681\n",
      "age              42.730773            NaN                     NaN\n",
      "products               2.0            1.0                   -50.0\n",
      "equity                 3.0            0.0                  -100.0\n",
      "balance      827245.587515    1250033.573               51.107917\n",
      "city             Ярославль      Ярославль                     NaN\n",
      "gender                   М              М                     NaN\n",
      "----------------------------------------------------------------------\n",
      "balance_missing              0              1 Relative Difference (%)\n",
      "est_salary       124501.872366  226397.935876               81.842997\n",
      "age                  42.924366      42.076822               -1.974507\n",
      "products                   2.0            1.0                   -50.0\n",
      "equity                     4.0            0.0                  -100.0\n",
      "balance           827794.30651            NaN                     NaN\n",
      "city                 Ярославль      Ярославль                     NaN\n",
      "gender                       Ж              М                     NaN\n"
     ]
    }
   ],
   "source": [
    "# Создание сводных таблиц для анализа\n",
    "summary_tables = {}\n",
    "\n",
    "# Функции агрегации\n",
    "aggregations = {\n",
    "    'est_salary': 'mean',\n",
    "    'age': 'mean',\n",
    "    'products': 'median',\n",
    "    'equity': 'median',\n",
    "    'balance': 'mean',\n",
    "    'city': lambda x: x.mode()[0],\n",
    "    'gender': lambda x: x.mode()[0]\n",
    "}\n",
    "\n",
    "# Создание сводных таблиц для переменных с пропусками\n",
    "for column in ['age_missing', 'balance_missing']:\n",
    "    # Агрегирование данных по группам\n",
    "    summary_table = df_with_missing.groupby(column).agg(aggregations)\n",
    "    \n",
    "    # Выбор только числовых столбцов для вычисления разницы\n",
    "    numeric_columns = summary_table.select_dtypes(include=[np.number]).columns\n",
    "    \n",
    "    # Вычисление относительных разниц\n",
    "    diff = summary_table[numeric_columns].diff().iloc[-1]\n",
    "    relative_diff = pd.Series(np.nan, index=summary_table.columns)  # Создание серии с NaN\n",
    "    for col in numeric_columns:\n",
    "        relative_diff[col] = (diff[col] / summary_table.iloc[0][col] * 100 if summary_table.iloc[0][col] != 0 else np.nan)\n",
    "    relative_diff.name = 'Relative Difference (%)'\n",
    "    # Добавление строки с разницей в сводную таблицу\n",
    "    summary_table = summary_table.append(relative_diff)\n",
    "    \n",
    "    # Сохранение таблицы в словаре\n",
    "    summary_tables[column] = summary_table\n",
    "\n",
    "print(summary_tables['age_missing'].T)\n",
    "print('-'*70)\n",
    "print(summary_tables['balance_missing'].T)"
   ]
  },
  {
   "cell_type": "markdown",
   "metadata": {},
   "source": [
    "Видим что в данных с пропусками в age на 20% выше est_salary. На 50% ниже products и на 100% ниже equity.Balance у данных с пропусками по age на 50% выше чем у данных без пропусков. Equity у данных с пропусками по age нулевой.\n",
    "В данных с пропусками по balance на 81% выше est_salary. На 50% ниже products и на 100% ниже equity. Equity у данных с пропусками по balance нулевой."
   ]
  },
  {
   "cell_type": "markdown",
   "metadata": {},
   "source": [
    "По скольку поле возраст влияет мало на какие столбцы, но мы не хотим терять эти данные, то заменим пропущенные значения в возрасте на средние значения по датасету, тем самым это не повлияет на распределение возраста по нашим данным."
   ]
  },
  {
   "cell_type": "code",
   "execution_count": 11,
   "metadata": {},
   "outputs": [],
   "source": [
    "df['age'].fillna(df['age'].mean(), inplace=True)"
   ]
  },
  {
   "cell_type": "markdown",
   "metadata": {},
   "source": [
    "Данные по balance имеют пропуски чуть более 20 процентов, логически корректно заполнить их не получается, если заполним их средними значениями то сильно увеличим пропорцию средний значений в распределении. На данный момент ничего не буду делать с этими данными, оставим пропуски, на построение графиков они не повлияют."
   ]
  },
  {
   "cell_type": "markdown",
   "metadata": {},
   "source": [
    " Пропуски в age отнесем к категории MCAR, эти пропуски не связаны с другими данными и являются случайными. Пропуски в balance отнесем к  MAR, посколько вероятность пропуска может быть определена на основе других данных, например products и equity. "
   ]
  },
  {
   "cell_type": "markdown",
   "metadata": {},
   "source": [
    "<a id='7'></a>\n",
    "##### Проверка дубликатов"
   ]
  },
  {
   "cell_type": "code",
   "execution_count": 12,
   "metadata": {},
   "outputs": [
    {
     "name": "stdout",
     "output_type": "stream",
     "text": [
      "Количество дубликатов в данных: 0\n"
     ]
    }
   ],
   "source": [
    "duplicates = df.duplicated().sum()\n",
    "print(\"Количество дубликатов в данных:\", duplicates)"
   ]
  },
  {
   "cell_type": "code",
   "execution_count": 13,
   "metadata": {},
   "outputs": [
    {
     "name": "stdout",
     "output_type": "stream",
     "text": [
      "      user_id  score       city gender        age  equity     balance  \\\n",
      "1893   116540  883.0    Рыбинск      Ж  55.000000       1   362756.49   \n",
      "7694   116540  887.0  Ярославль      Ж  38.000000       0         NaN   \n",
      "7542   117943  880.0  Ярославль      Ж  40.000000       0         NaN   \n",
      "4866   117943  855.0    Рыбинск      Ж  32.000000       6  1036832.93   \n",
      "5896   120258  905.0  Ярославль      М  30.000000       0         NaN   \n",
      "5863   120258  908.0    Рыбинск      Ж  38.000000       4  2213581.63   \n",
      "1411   123461  829.0  Ярославль      Ж  59.000000       0    96222.44   \n",
      "8638   123461  934.0    Рыбинск      М  34.000000       0         NaN   \n",
      "8164   124450  859.0  Ярославль      Ж  38.000000       6   516811.20   \n",
      "9775   124450  758.0    Рыбинск      Ж  36.000000       0    73574.07   \n",
      "4850   126368  909.0  Ярославль      Ж  30.000000       4  1322623.29   \n",
      "5420   126368  832.0    Рыбинск      Ж  33.000000       0         NaN   \n",
      "8785   127440  663.0  Ярославль      М  42.730773       0         NaN   \n",
      "4443   127440  846.0    Рыбинск      М  66.000000       1    57405.67   \n",
      "3988   129785  904.0    Рыбинск      М  33.000000       5  2427737.60   \n",
      "9504   129785  949.0  Ярославль      М  43.000000       0         NaN   \n",
      "904    131419  934.0  Ярославль      М  35.000000       5  2348335.95   \n",
      "2138   131419  739.0    Рыбинск      Ж  37.000000       3  1307941.65   \n",
      "7487   140377  930.0    Рыбинск      Ж  34.000000       5  1123967.02   \n",
      "1608   140377  802.0  Ярославль      М  26.000000       3   539863.29   \n",
      "\n",
      "      products  credit_card  last_activity  est_salary  churn  \n",
      "1893         3            0              1   175920.48      1  \n",
      "7694         1            0              1   119247.61      0  \n",
      "7542         1            1              0   137718.93      0  \n",
      "4866         4            1              1   107792.71      1  \n",
      "5896         1            1              1   146427.96      0  \n",
      "5863         2            0              1   160327.77      1  \n",
      "1411         2            0              1   102771.55      1  \n",
      "8638         2            1              0   291619.27      0  \n",
      "8164         1            1              1    95144.63      1  \n",
      "9775         2            0              1    79963.59      0  \n",
      "4850         2            0              1   140675.66      1  \n",
      "5420         1            0              0   118465.34      0  \n",
      "8785         1            1              1   117197.56      0  \n",
      "4443         2            0              1    17831.63      0  \n",
      "3988         3            0              1   188856.75      1  \n",
      "9504         1            1              1   166845.37      0  \n",
      "904          2            0              0   217105.13      1  \n",
      "2138         3            0              0   103867.47      0  \n",
      "7487         1            1              1   148336.26      0  \n",
      "1608         4            1              1   112167.83      1  \n",
      "-------------------------------------------------------\n",
      "user_id          0\n",
      "score            0\n",
      "city             0\n",
      "gender           0\n",
      "age              0\n",
      "equity           0\n",
      "balance          0\n",
      "products         0\n",
      "credit_card      0\n",
      "last_activity    0\n",
      "est_salary       0\n",
      "churn            0\n",
      "dtype: int64\n"
     ]
    }
   ],
   "source": [
    "# Поиск дубликатов по userid\n",
    "duplicated_user_ids = df[df.duplicated('user_id', keep=False)].sort_values('user_id')\n",
    "\n",
    "# Поиск полных дубликатов строк с повторяющимися userid\n",
    "full_duplicates = duplicated_user_ids[duplicated_user_ids.duplicated(keep=False)]\n",
    "\n",
    "print(duplicated_user_ids.head(20))\n",
    "\n",
    "print('-'*55)\n",
    "\n",
    "print(full_duplicates.count())"
   ]
  },
  {
   "cell_type": "markdown",
   "metadata": {},
   "source": [
    "В результате анализа были найдены строки с повторяющимися userid, но нет полных дубликатов строк — все записи с дублированными userid имеют различия в одном или нескольких столбцах. Всего было найдено 146 строк с неявными дубликатами userid.\n",
    "\n",
    "Отсутствие полных дубликатов означает, что хотя user_id повторяются, остальные данные в этих строках различаются. Это может быть следствием ошибок в данных.\n",
    "\n",
    "Так же, на взгляд кажется, что нет одинаковых userid в одном городе, проверим это."
   ]
  },
  {
   "cell_type": "code",
   "execution_count": 14,
   "metadata": {
    "scrolled": true
   },
   "outputs": [
    {
     "name": "stdout",
     "output_type": "stream",
     "text": [
      "Empty DataFrame\n",
      "Columns: [user_id, score, city, gender, age, equity, balance, products, credit_card, last_activity, est_salary, churn]\n",
      "Index: []\n",
      "Empty DataFrame\n",
      "Columns: [user_id, score, city, gender, age, equity, balance, products, credit_card, last_activity, est_salary, churn]\n",
      "Index: []\n"
     ]
    }
   ],
   "source": [
    "# Поиск дубликатов по комбинации userid и city\n",
    "duplicated_user_city = df[df.duplicated(['user_id', 'city'], keep=False)].sort_values(['user_id', 'city'])\n",
    "\n",
    "# Поиск полных дубликатов строк с повторяющимися userid и city\n",
    "full_duplicates_user_city = duplicated_user_city[duplicated_user_city.duplicated(keep=False)]\n",
    "\n",
    "print(duplicated_user_city) \n",
    "\n",
    "print(full_duplicates_user_city)"
   ]
  },
  {
   "cell_type": "markdown",
   "metadata": {},
   "source": [
    "Не обнаружилось дубликатов по user_id и city, что может означать то что id уникальны только в рамках региональных подразделений и не уникальны по банку в целом. В данном случае не будем нечего делать с дубликатами."
   ]
  },
  {
   "cell_type": "markdown",
   "metadata": {},
   "source": [
    "<a id='8'></a>\n",
    "#### Исследовательский анализ данных"
   ]
  },
  {
   "cell_type": "markdown",
   "metadata": {},
   "source": [
    "<a id='9'></a>\n",
    "##### Посмотрим на изначальное распределиние признаков"
   ]
  },
  {
   "cell_type": "code",
   "execution_count": 15,
   "metadata": {},
   "outputs": [
    {
     "data": {
      "image/png": "[encoded data removed]",
      "text/plain": [
       "<Figure size 720x288 with 1 Axes>"
      ]
     },
     "metadata": {
      "needs_background": "light"
     },
     "output_type": "display_data"
    },
    {
     "data": {
      "image/png": "[encoded data removed]",
      "text/plain": [
       "<Figure size 720x288 with 1 Axes>"
      ]
     },
     "metadata": {
      "needs_background": "light"
     },
     "output_type": "display_data"
    },
    {
     "data": {
      "image/png": "[encoded data removed]",
      "text/plain": [
       "<Figure size 720x288 with 1 Axes>"
      ]
     },
     "metadata": {
      "needs_background": "light"
     },
     "output_type": "display_data"
    },
    {
     "data": {
      "image/png": "[encoded data removed]",
      "text/plain": [
       "<Figure size 720x288 with 1 Axes>"
      ]
     },
     "metadata": {
      "needs_background": "light"
     },
     "output_type": "display_data"
    },
    {
     "data": {
      "image/png": "[encoded data removed]",
      "text/plain": [
       "<Figure size 720x288 with 1 Axes>"
      ]
     },
     "metadata": {
      "needs_background": "light"
     },
     "output_type": "display_data"
    },
    {
     "data": {
      "image/png": "[encoded data removed]",
      "text/plain": [
       "<Figure size 720x288 with 1 Axes>"
      ]
     },
     "metadata": {
      "needs_background": "light"
     },
     "output_type": "display_data"
    },
    {
     "data": {
      "image/png": "[encoded data removed]",
      "text/plain": [
       "<Figure size 720x288 with 1 Axes>"
      ]
     },
     "metadata": {
      "needs_background": "light"
     },
     "output_type": "display_data"
    },
    {
     "data": {
      "image/png": "[encoded data removed]",
      "text/plain": [
       "<Figure size 720x288 with 1 Axes>"
      ]
     },
     "metadata": {
      "needs_background": "light"
     },
     "output_type": "display_data"
    },
    {
     "data": {
      "image/png": "[encoded data removed]",
      "text/plain": [
       "<Figure size 720x288 with 1 Axes>"
      ]
     },
     "metadata": {
      "needs_background": "light"
     },
     "output_type": "display_data"
    },
    {
     "data": {
      "image/png": "[encoded data removed]",
      "text/plain": [
       "<Figure size 720x288 with 1 Axes>"
      ]
     },
     "metadata": {
      "needs_background": "light"
     },
     "output_type": "display_data"
    },
    {
     "data": {
      "image/png": "[encoded data removed]",
      "text/plain": [
       "<Figure size 720x288 with 1 Axes>"
      ]
     },
     "metadata": {
      "needs_background": "light"
     },
     "output_type": "display_data"
    }
   ],
   "source": [
    "for column in df.columns:\n",
    "    if column == 'user_id':  # Исключаем столбец user_id\n",
    "        continue\n",
    "    plt.figure(figsize=(10, 4))\n",
    "    # Определение типа данных и выбор метода визуализации\n",
    "    if df[column].dtype == 'object' or df[column].nunique() < 10 or column == 'equity':\n",
    "        # Категориальные данные \n",
    "        sns.countplot(x=df[column], palette='viridis')\n",
    "        plt.title(f'Распределение {column}')\n",
    "    else:\n",
    "        # Числовые данные\n",
    "        bins = int(df[column].max() - df[column].min()) if column == 'age' else 'auto'\n",
    "        sns.histplot(df[column], kde=True, bins=bins, color='skyblue')\n",
    "        plt.title(f'Распределение {column}')\n",
    "    plt.ylabel('Count')\n",
    "    plt.xlabel(column)\n",
    "    plt.show()"
   ]
  },
  {
   "cell_type": "markdown",
   "metadata": {},
   "source": [
    "- По столбцу score видим в целом нормальное распределение, но есть смещение вершины вправо\n",
    "- Большинство клиентов из Ярославля, далее Рыбинск и Ростов\n",
    "- Распределение по полу равномерное, мужчин и женщин примерно одинаково\n",
    "- Возраст напоминает нормальное распределение. Пик 30-40 лет, но правое крыло сильно увеличено относительно левого, из-за ограничения минимального возраста для клиента банка.\n",
    "- Большинство клиентов не имеет никакого имущества, далее идут люди у которых 3, 4, 5 объектов имущества\n",
    "- График баланса показывает, что явное большинство клиентов имеет на балансе до 50 000, и далее идет тонкое правое крыло распределения с клиентами у котрых баланс от 50 000 до 1200 000\n",
    "- У большинства клиентов 2 банковской продукта, далее идет 1 продукт. 3 и 4 продукта у меньшинства людей.\n",
    "- У большинства клиентов есть кредитная карта\n",
    "- Большинство клиентов являются активными\n",
    "- Доходы большинства клиентов в районе 100 000, с более крупным правым крылом распределения.\n",
    "- Большинство клиентов из нашей базы являются клиентами банка на данный момент"
   ]
  },
  {
   "cell_type": "markdown",
   "metadata": {},
   "source": [
    "<a id='10'></a>\n",
    "##### Проверка распределения числовым данным в зависимости от churn клиента"
   ]
  },
  {
   "cell_type": "code",
   "execution_count": 16,
   "metadata": {},
   "outputs": [
    {
     "data": {
      "image/png": "[encoded data removed]",
      "text/plain": [
       "<Figure size 1296x1296 with 4 Axes>"
      ]
     },
     "metadata": {
      "needs_background": "light"
     },
     "output_type": "display_data"
    }
   ],
   "source": [
    "plt.figure(figsize=(18, 18))\n",
    "\n",
    "# Построение распределения для 'score'\n",
    "plt.subplot(4, 1, 1)\n",
    "sns.histplot(data=df, x='score', hue='churn', element='step', stat=\"density\", common_norm=False, palette=\"coolwarm\", alpha=0.6)\n",
    "plt.title('Распределение по оценке кредитного рейтинга')\n",
    "\n",
    "# Построение распределения для 'age' \n",
    "plt.subplot(4, 1, 2)\n",
    "age_bins = range(int(df['age'].min()), int(df['age'].max()) + 1) \n",
    "sns.histplot(data=df, x='age', hue='churn', element='step', stat=\"density\", common_norm=False, palette=\"coolwarm\", alpha=0.6, bins=age_bins)\n",
    "plt.title('Распределение по возрасту')\n",
    "\n",
    "# Построение распределения для 'balance'\n",
    "plt.subplot(4, 1, 3)\n",
    "sns.histplot(data=df[df['balance'] <= 3000000], x='balance', hue='churn', element='step', stat=\"density\", common_norm=False, palette=\"coolwarm\", alpha=0.6)\n",
    "plt.title('Распределение по балансу')\n",
    "\n",
    "# Построение распределения для 'est_salary'\n",
    "plt.subplot(4, 1, 4)\n",
    "sns.histplot(data=df, x='est_salary', hue='churn', element='step', stat=\"density\", common_norm=False, palette=\"coolwarm\", alpha=0.6)\n",
    "plt.title('Распределение по предполагаемой зарплате')\n",
    "\n",
    "plt.tight_layout()\n",
    "plt.show()"
   ]
  },
  {
   "cell_type": "markdown",
   "metadata": {},
   "source": [
    "Распределение по оценке кредитного рейтинга:\n",
    "Видим что ушло много клиентов с хорошим средним рейтингом\n",
    "Распределение по возрасту:\n",
    "Уровень оттока повышенный среди людей от 25 до 35 лет. Так же видно повышенный уровень оттока у людей от 50 до 60 лет.\n",
    "Распределение по балансу:\n",
    "По распределению заметно что до 750 тысяч на балансе клиенты скорее остаются в банке, при балансе свыше 750 тысяч клиенты чаще уходят из банка.\n",
    "Распределение по предполагаемой зарплате:\n",
    "Распределение оттока по уровню зарплаты довольно равномерное, есть небольшой перевес на стороне оттока среди клиентов с зарплатой выше средней, но разница не велика, это может быть в рамках статистического отклонения."
   ]
  },
  {
   "cell_type": "markdown",
   "metadata": {},
   "source": [
    "<a id='11'></a>\n",
    "##### Проверим отток по категориальным данным"
   ]
  },
  {
   "cell_type": "code",
   "execution_count": 17,
   "metadata": {},
   "outputs": [
    {
     "name": "stdout",
     "output_type": "stream",
     "text": [
      "Средний процент оттока по банку: 18.19181918191819\n"
     ]
    },
    {
     "data": {
      "image/png": "[encoded data removed]",
      "text/plain": [
       "<Figure size 1296x1800 with 6 Axes>"
      ]
     },
     "metadata": {
      "needs_background": "light"
     },
     "output_type": "display_data"
    }
   ],
   "source": [
    "average_churn_rate = df[\"churn\"].mean()\n",
    "print(f'Средний процент оттока по банку: {df[\"churn\"].mean()*100}')\n",
    "\n",
    "plt.figure(figsize=(18, 25))\n",
    "\n",
    "# Нарисуем распределение для 'products'\n",
    "plt.subplot(6, 1, 1)\n",
    "sns.barplot(x='products', y='churn', data=df, palette=\"coolwarm\", ci=None)\n",
    "plt.title('Отток по количеству продуктов')\n",
    "plt.axhline(df['churn'].mean(), color='red', linestyle='--')\n",
    "\n",
    "# Нарисуем распределение для 'city'\n",
    "plt.subplot(6, 1, 2)\n",
    "sns.barplot(x='city', y='churn', data=df, palette=\"coolwarm\", ci=None)\n",
    "plt.title('Отток по городам')\n",
    "plt.axhline(df['churn'].mean(), color='red', linestyle='--')\n",
    "\n",
    "# Нарисуем распределение для 'gender'\n",
    "plt.subplot(6, 1, 3)\n",
    "sns.barplot(x='gender', y='churn', data=df, palette=\"coolwarm\", ci=None)\n",
    "plt.title('Отток по полу')\n",
    "plt.axhline(df['churn'].mean(), color='red', linestyle='--')\n",
    "\n",
    "# Нарисуем распределение для 'credit_card'\n",
    "plt.subplot(6, 1, 4)\n",
    "sns.barplot(x='credit_card', y='churn', data=df, palette=\"coolwarm\", ci=None)\n",
    "plt.title('Отток по наличию кредитной карты')\n",
    "plt.axhline(df['churn'].mean(), color='red', linestyle='--')\n",
    "\n",
    "# Нарисуем распределение для 'products'\n",
    "plt.subplot(6, 1, 5)\n",
    "sns.barplot(x='equity', y='churn', data=df, palette=\"coolwarm\", ci=None)\n",
    "plt.title('Отток по количеству собственности')\n",
    "plt.axhline(df['churn'].mean(), color='red', linestyle='--')\n",
    "\n",
    "# Нарисуем распределение для 'last_activity'\n",
    "plt.subplot(6, 1, 6)\n",
    "sns.barplot(x='last_activity', y='churn', data=df, palette=\"coolwarm\", ci=None)\n",
    "plt.title('Отток по активности')\n",
    "plt.axhline(df['churn'].mean(), color='red', linestyle='--')\n",
    "\n",
    "plt.tight_layout()\n",
    "plt.show()"
   ]
  },
  {
   "cell_type": "markdown",
   "metadata": {},
   "source": [
    "<ul>Отток по количеству продуктов:\n",
    "    Наблюдается отток выше среднего уровня среди клиентов с  3, 4 и 2 продуктами. Клиенты с 1 или 2 продуктами демонстрируют более низкий уровень оттока. Данные по клиентам 5 продуктами не будем принимать в серьез, ввиду малого количества наблюдений ( 19 наблюдений по 5 продуктам) </ul>\n",
    "<ul>Отток по городам:\n",
    "Клиенты из города Ярославль имеют самый высокий уровень оттока по сравнению с другими городами. В городе Ростов отток ниже, а в Рыбинске — наименьший.</ul>\n",
    "<ul>Отток по полу:\n",
    "Среди мужчин ооток заметно выше среднего уровня. У женщин отток ниже среднего.</ul>\n",
    "<ul>Отток по наличию кредитной карты: среди клиентов без кредитной карты отток выше среднего</ul>\n",
    "<ul>Отток по баллам собственности: начиная с 3 баллов собственности, отточность у клиентов превышает среднюю по банку</ul>\n",
    "<ul>Отток по активности: у активных клиентов отточность выше средней по банку</ul>\n",
    "\n",
    "Красные пунктирные линии на графиках показывают средний уровень оттока по банку. Это помогает визуально сравнить, как отдельные значения признаков влияют на отток по сравнению со средним."
   ]
  },
  {
   "cell_type": "markdown",
   "metadata": {},
   "source": [
    "<a id='12'></a>\n",
    "##### Процентное распределение оттока в категориальных данных"
   ]
  },
  {
   "cell_type": "code",
   "execution_count": 18,
   "metadata": {},
   "outputs": [
    {
     "data": {
      "image/png": "[encoded data removed]",
      "text/plain": [
       "<Figure size 864x576 with 1 Axes>"
      ]
     },
     "metadata": {},
     "output_type": "display_data"
    },
    {
     "data": {
      "image/png": "[encoded data removed]",
      "text/plain": [
       "<Figure size 864x576 with 1 Axes>"
      ]
     },
     "metadata": {},
     "output_type": "display_data"
    },
    {
     "data": {
      "image/png": "[encoded data removed]",
      "text/plain": [
       "<Figure size 864x576 with 1 Axes>"
      ]
     },
     "metadata": {},
     "output_type": "display_data"
    },
    {
     "data": {
      "image/png": "[encoded data removed]",
      "text/plain": [
       "<Figure size 864x576 with 1 Axes>"
      ]
     },
     "metadata": {},
     "output_type": "display_data"
    },
    {
     "data": {
      "image/png": "[encoded data removed]",
      "text/plain": [
       "<Figure size 864x576 with 1 Axes>"
      ]
     },
     "metadata": {},
     "output_type": "display_data"
    },
    {
     "data": {
      "image/png": "[encoded data removed]",
      "text/plain": [
       "<Figure size 864x576 with 1 Axes>"
      ]
     },
     "metadata": {},
     "output_type": "display_data"
    }
   ],
   "source": [
    "\n",
    "# Фильтрация категориальных столбцов\n",
    "categorical_columns = ['city', 'equity', 'gender', 'credit_card', 'products', 'last_activity'] \n",
    "\n",
    "# Определение столбца 'churn' в отдельный DataFrame для удобства\n",
    "df_churn = df[df['churn'] == 1]\n",
    "df_stay = df[df['churn'] == 0]\n",
    "\n",
    "# Настройка стиля осей\n",
    "with sns.axes_style('white'):\n",
    "    for col in categorical_columns:\n",
    "        data_all = df[col].value_counts().sort_index()\n",
    "        data_churn = df_churn[col].value_counts().reindex(data_all.index, fill_value=0).sort_index()\n",
    "        data_stay = df_stay[col].value_counts().reindex(data_all.index, fill_value=0).sort_index()\n",
    "\n",
    "        # Расчет процентов\n",
    "        percentage_stay = (data_stay / data_all).sort_index() * 100\n",
    "        percentage_churn = (data_churn / data_all).sort_index() * 100\n",
    "\n",
    "        # Визуализация\n",
    "        fig, ax = plt.subplots(figsize=(12, 8))  \n",
    "        bar_plot = data_all.plot(kind='bar', stacked=True, color='lightblue', ax=ax, label='осталось')\n",
    "        data_churn.plot(kind='bar', stacked=True, color='salmon', ax=ax, label='ушло')\n",
    "\n",
    "        # Добавление подписей\n",
    "        for i, rect in enumerate(bar_plot.patches):\n",
    "            height = rect.get_height()\n",
    "            y = rect.get_y()\n",
    "            # Подписи для процентов над столбцами\n",
    "            if col not in ['products', 'equity']:\n",
    "                if i < len(bar_plot.patches) / 2:  # Подписи для \"остался\"\n",
    "                    label = f'{percentage_stay.iloc[i]:.1f}%'\n",
    "                else:  # Подписи для \"ушел\"\n",
    "                    label = f'{percentage_churn.iloc[i - len(bar_plot.patches) // 2]:.1f}%'\n",
    "                ax.text(rect.get_x() + rect.get_width() / 2, y + height / 2, label, ha='center', va='center')\n",
    "                total_label = f'total: {data_all.iloc[i % len(data_all)]}'\n",
    "                ax.text(rect.get_x() + rect.get_width() / 2, y - 0.05 * max(data_all), total_label, ha='center', va='top')\n",
    "            # Подписи под гистограммой\n",
    "            else:\n",
    "                label_under = f'{percentage_stay.iloc[i % len(percentage_stay)]:.1f}% ост.\\n{percentage_churn.iloc[i % len(percentage_churn)]:.1f}% ушло'\n",
    "                ax.text(rect.get_x() + rect.get_width() / 2, -500, label_under, ha='center', va='top')\n",
    "                total_label = f'total: {data_all.iloc[i % len(data_all)]}'\n",
    "                ax.text(rect.get_x() + rect.get_width() / 2, y - 0.05 * max(data_all), total_label, ha='center', va='top')\n",
    "                \n",
    "        plt.title(f'Распределение признака \"{col}\"')\n",
    "        plt.xticks(rotation=0)\n",
    "        plt.ylabel('Количество клиентов')\n",
    "        plt.grid(axis='y', linestyle='--')\n",
    "        plt.legend()\n",
    "\n",
    "        plt.show()"
   ]
  },
  {
   "cell_type": "markdown",
   "metadata": {},
   "source": [
    "В процентном соотношении:\n",
    "- Больше всего склонны к оттоку клиенты из Ярославля (19%) и Ростова (18.8%)\n",
    "- Среди мужчин 23.6 процента склонны к уходу из банка\n",
    "- Среди клиентов у которых нет кредитной карты 25.6 процентов склонны к уходу из банка\n",
    "- По набору банковских продуктов высокая склонность к оттоку у клиентов с 3 продуктами, так же чуть выше среднего склонность к оттоку у клиентов с 2 продуктами. Данные по клиентам с 5 продуктами не будем принимать в серьез, ввиду малого количества наблюдений ( 19 наблюдений по 5 продуктам)\n",
    "- Чаще уходят активные клиенты. 24.4% из них в итоге перестали обслуживаться в банке.\n",
    "- Повышенный процент оттока среди клиентов у которых более 3 объектов собственности"
   ]
  },
  {
   "cell_type": "markdown",
   "metadata": {},
   "source": [
    "<a id='13'></a>\n",
    "##### Матрица корреляции"
   ]
  },
  {
   "cell_type": "code",
   "execution_count": 19,
   "metadata": {},
   "outputs": [
    {
     "data": {
      "image/png": "[encoded data removed]",
      "text/plain": [
       "<Figure size 720x576 with 2 Axes>"
      ]
     },
     "metadata": {
      "needs_background": "light"
     },
     "output_type": "display_data"
    }
   ],
   "source": [
    "# Подготовим данные\n",
    "numeric_cols = ['score', 'age', 'equity', 'balance', 'products', 'est_salary', 'gender', 'churn']\n",
    "numeric_data = df[numeric_cols].dropna()\n",
    "\n",
    "# Создадим матрицу корреляции\n",
    "correlation_matrix = numeric_data.corr()\n",
    "\n",
    "# Зададим размер графика\n",
    "plt.figure(figsize=(10, 8))\n",
    "\n",
    "# Нарисуем тепловую карту\n",
    "sns.heatmap(correlation_matrix, annot=True, fmt=\".2f\", cmap='coolwarm', center=0, linewidths=.5)\n",
    "plt.title(\"Матрица корреляции\")\n",
    "plt.show()"
   ]
  },
  {
   "cell_type": "markdown",
   "metadata": {},
   "source": [
    "Анализ корреляций по шкале Чеддока:\n",
    "- Слабая (0.1 до 0.3 или -0.1 до -0.3)\n",
    "- Умеренная (0.3 до 0.5 или -0.3 до -0.5)\n",
    "- Заметная (0.5 до 0.7 или -0.5 до -0.7)\n",
    "- Высокая (0.7 до 0.9 или -0.7 до -0.9)\n",
    "- Очень высокая (0.9 до 1.0 или -0.9 до -1.0)\n",
    "\n",
    "По интересующем нас параметру churn имеет место только слабая корреляция."
   ]
  },
  {
   "cell_type": "markdown",
   "metadata": {},
   "source": [
    "<a id='14'></a>\n",
    "##### Посчитаем корреляцию по phik"
   ]
  },
  {
   "cell_type": "code",
   "execution_count": 20,
   "metadata": {},
   "outputs": [],
   "source": [
    "# Пропишем непрерывные столбцы для phik\n",
    "interval_cols = ['score', 'age', 'balance', 'est_salary']\n",
    "\n",
    "df_no_id = df.drop('user_id', axis=1)\n",
    "\n",
    "phik_matrix = df_no_id.phik_matrix(interval_cols=interval_cols)"
   ]
  },
  {
   "cell_type": "code",
   "execution_count": 21,
   "metadata": {},
   "outputs": [
    {
     "data": {
      "image/png": "[encoded data removed]",
      "text/plain": [
       "<Figure size 864x720 with 2 Axes>"
      ]
     },
     "metadata": {
      "needs_background": "light"
     },
     "output_type": "display_data"
    }
   ],
   "source": [
    "plt.figure(figsize=(12, 10))\n",
    "sns.heatmap(phik_matrix, annot=True, fmt=\".2f\", cmap=\"coolwarm\", cbar=True)\n",
    "plt.title(\"Матрица корреляции по phik\")\n",
    "plt.show()"
   ]
  },
  {
   "cell_type": "markdown",
   "metadata": {},
   "source": [
    "Анализ корреляций по шкале Чеддока:\n",
    "- Слабая (0.1 до 0.3 или -0.1 до -0.3)\n",
    "- Умеренная (0.3 до 0.5 или -0.3 до -0.5)\n",
    "- Заметная (0.5 до 0.7 или -0.5 до -0.7)\n",
    "- Высокая (0.7 до 0.9 или -0.7 до -0.9)\n",
    "- Очень высокая (0.9 до 1.0 или -0.9 до -1.0)\n",
    "\n",
    "Самую высокую взамосвязь с churn мы видим по products(0.44), это умеренная корреляция. Отмечу что, данная корреляция, с моей точки не является неким решающим фактором оттока. Так как стандартно у многих пользователей более 1 банковского продукта. Обязательно есть карта, есть текущий счет, может быть вклад, кредит, инвестиционный продукт, накопительный счет. Но логично то, что более активный потребитель банковских услуг ( человек у которого более 2 продуктов) склонен к сравнению и поиску наиболее выгодных для себя банков. Так же в умеренную корреляцию попадаем equity (0.35). Корреляции с age, score, gender, credit_card и balance являются слабыми."
   ]
  },
  {
   "cell_type": "code",
   "execution_count": 22,
   "metadata": {},
   "outputs": [
    {
     "data": {
      "image/png": "[encoded data removed]",
      "text/plain": [
       "<Figure size 288x576 with 2 Axes>"
      ]
     },
     "metadata": {
      "needs_background": "light"
     },
     "output_type": "display_data"
    }
   ],
   "source": [
    "churn_col = phik_matrix['churn'].to_frame()\n",
    "\n",
    "# Визуализация матрицы корреляции для 'churn'\n",
    "plt.figure(figsize=(4, 8))  \n",
    "sns.heatmap(churn_col.sort_values(by='churn', ascending=False), annot=True, fmt=\".2f\", cmap=\"coolwarm\", cbar=True)\n",
    "plt.title(\"Корреляция признаков с churn\")\n",
    "plt.show()"
   ]
  },
  {
   "cell_type": "markdown",
   "metadata": {},
   "source": [
    "<a id='15'></a>\n",
    "##### Портрет  клиента"
   ]
  },
  {
   "cell_type": "code",
   "execution_count": 23,
   "metadata": {
    "scrolled": true
   },
   "outputs": [
    {
     "data": {
      "text/html": [
       "<div>\n",
       "<style scoped>\n",
       "    .dataframe tbody tr th:only-of-type {\n",
       "        vertical-align: middle;\n",
       "    }\n",
       "\n",
       "    .dataframe tbody tr th {\n",
       "        vertical-align: top;\n",
       "    }\n",
       "\n",
       "    .dataframe thead th {\n",
       "        text-align: right;\n",
       "    }\n",
       "</style>\n",
       "<table border=\"1\" class=\"dataframe\">\n",
       "  <thead>\n",
       "    <tr style=\"text-align: right;\">\n",
       "      <th></th>\n",
       "      <th>Среднее (Не отток)</th>\n",
       "      <th>Среднее (Отток)</th>\n",
       "      <th>Медиана (Не отток)</th>\n",
       "      <th>Медиана (Отток)</th>\n",
       "      <th>Относительная разница (%)</th>\n",
       "      <th>Относительная разница медианы (%)</th>\n",
       "    </tr>\n",
       "  </thead>\n",
       "  <tbody>\n",
       "    <tr>\n",
       "      <th>score</th>\n",
       "      <td>845.428362</td>\n",
       "      <td>863.346894</td>\n",
       "      <td>848.0</td>\n",
       "      <td>866.0</td>\n",
       "      <td>-2.08</td>\n",
       "      <td>-2.08</td>\n",
       "    </tr>\n",
       "    <tr>\n",
       "      <th>age</th>\n",
       "      <td>43.01996</td>\n",
       "      <td>41.430308</td>\n",
       "      <td>40.0</td>\n",
       "      <td>39.0</td>\n",
       "      <td>3.84</td>\n",
       "      <td>2.56</td>\n",
       "    </tr>\n",
       "    <tr>\n",
       "      <th>equity</th>\n",
       "      <td>2.374817</td>\n",
       "      <td>3.764156</td>\n",
       "      <td>3.0</td>\n",
       "      <td>4.0</td>\n",
       "      <td>-36.91</td>\n",
       "      <td>-25.0</td>\n",
       "    </tr>\n",
       "    <tr>\n",
       "      <th>balance</th>\n",
       "      <td>733982.585648</td>\n",
       "      <td>1133993.27145</td>\n",
       "      <td>475382.445</td>\n",
       "      <td>782410.47</td>\n",
       "      <td>-35.27</td>\n",
       "      <td>-39.24</td>\n",
       "    </tr>\n",
       "    <tr>\n",
       "      <th>products</th>\n",
       "      <td>1.757579</td>\n",
       "      <td>2.37713</td>\n",
       "      <td>2.0</td>\n",
       "      <td>2.0</td>\n",
       "      <td>-26.06</td>\n",
       "      <td>0.0</td>\n",
       "    </tr>\n",
       "    <tr>\n",
       "      <th>est_salary</th>\n",
       "      <td>147783.200108</td>\n",
       "      <td>148310.728202</td>\n",
       "      <td>118257.715</td>\n",
       "      <td>125395.22</td>\n",
       "      <td>-0.36</td>\n",
       "      <td>-5.69</td>\n",
       "    </tr>\n",
       "    <tr>\n",
       "      <th>churn</th>\n",
       "      <td>0.0</td>\n",
       "      <td>1.0</td>\n",
       "      <td>0.0</td>\n",
       "      <td>1.0</td>\n",
       "      <td>-100.0</td>\n",
       "      <td>-100.0</td>\n",
       "    </tr>\n",
       "    <tr>\n",
       "      <th>Мода по городу</th>\n",
       "      <td>Ярославль</td>\n",
       "      <td>Ярославль</td>\n",
       "      <td>None</td>\n",
       "      <td>None</td>\n",
       "      <td>None</td>\n",
       "      <td>None</td>\n",
       "    </tr>\n",
       "    <tr>\n",
       "      <th>Мода по полу</th>\n",
       "      <td>Ж</td>\n",
       "      <td>М</td>\n",
       "      <td>None</td>\n",
       "      <td>None</td>\n",
       "      <td>None</td>\n",
       "      <td>None</td>\n",
       "    </tr>\n",
       "    <tr>\n",
       "      <th>Мода по кредитной карте</th>\n",
       "      <td>1</td>\n",
       "      <td>1</td>\n",
       "      <td>None</td>\n",
       "      <td>None</td>\n",
       "      <td>None</td>\n",
       "      <td>None</td>\n",
       "    </tr>\n",
       "  </tbody>\n",
       "</table>\n",
       "</div>"
      ],
      "text/plain": [
       "                        Среднее (Не отток) Среднее (Отток) Медиана (Не отток)  \\\n",
       "score                           845.428362      863.346894              848.0   \n",
       "age                               43.01996       41.430308               40.0   \n",
       "equity                            2.374817        3.764156                3.0   \n",
       "balance                      733982.585648   1133993.27145         475382.445   \n",
       "products                          1.757579         2.37713                2.0   \n",
       "est_salary                   147783.200108   148310.728202         118257.715   \n",
       "churn                                  0.0             1.0                0.0   \n",
       "Мода по городу                   Ярославль       Ярославль               None   \n",
       "Мода по полу                             Ж               М               None   \n",
       "Мода по кредитной карте                  1               1               None   \n",
       "\n",
       "                        Медиана (Отток) Относительная разница (%)  \\\n",
       "score                             866.0                     -2.08   \n",
       "age                                39.0                      3.84   \n",
       "equity                              4.0                    -36.91   \n",
       "balance                       782410.47                    -35.27   \n",
       "products                            2.0                    -26.06   \n",
       "est_salary                    125395.22                     -0.36   \n",
       "churn                               1.0                    -100.0   \n",
       "Мода по городу                     None                      None   \n",
       "Мода по полу                       None                      None   \n",
       "Мода по кредитной карте            None                      None   \n",
       "\n",
       "                        Относительная разница медианы (%)  \n",
       "score                                               -2.08  \n",
       "age                                                  2.56  \n",
       "equity                                              -25.0  \n",
       "balance                                            -39.24  \n",
       "products                                              0.0  \n",
       "est_salary                                          -5.69  \n",
       "churn                                              -100.0  \n",
       "Мода по городу                                       None  \n",
       "Мода по полу                                         None  \n",
       "Мода по кредитной карте                              None  "
      ]
     },
     "execution_count": 23,
     "metadata": {},
     "output_type": "execute_result"
    }
   ],
   "source": [
    "# Группируем данные по churn\n",
    "grouped_data = df.groupby('churn')\n",
    "\n",
    "# Высчитываем среднее и медиану для числовых данных\n",
    "mean_values = grouped_data[numeric_cols].mean()\n",
    "median_values = grouped_data[numeric_cols].median()\n",
    "\n",
    "# Высчитываем моду для категориальных данных\n",
    "mode_city = grouped_data['city'].agg(pd.Series.mode)\n",
    "mode_gender = grouped_data['gender'].agg(pd.Series.mode)\n",
    "mode_credit_card = grouped_data['credit_card'].agg(pd.Series.mode)\n",
    "mode_last_activity = grouped_data['last_activity'].agg(pd.Series.mode)\n",
    "\n",
    "# Высчитываем относительную разницу между средними значениями\n",
    "relative_difference = round(((mean_values.loc[0] - mean_values.loc[1]) / mean_values.loc[1] * 100), 2)\n",
    "\n",
    "relative_difference_median = round(((median_values.loc[0] - median_values.loc[1]) / median_values.loc[1] * 100), 2)\n",
    "\n",
    "# Подготавливаем таблицу с результатами для среднего и медианы\n",
    "result_table = pd.concat([mean_values.T, median_values.T], axis=1)\n",
    "result_table.columns = ['Среднее (Не отток)', 'Среднее (Отток)', 'Медиана (Не отток)', 'Медиана (Отток)']\n",
    "\n",
    "# Добавляем столбцы с относительной разницей\n",
    "result_table['Относительная разница (%)'] = relative_difference.T\n",
    "result_table['Относительная разница медианы (%)'] = relative_difference_median.T\n",
    "\n",
    "# Добавляем результаты с модой\n",
    "mode_data = pd.DataFrame({\n",
    "    'Среднее (Не отток)': [mode_city[0], mode_gender[0], mode_credit_card[0]],\n",
    "    'Среднее (Отток)': [mode_city[1], mode_gender[1], mode_credit_card[1]],\n",
    "    'Медиана (Не отток)': [None, None, None],\n",
    "    'Медиана (Отток)': [None, None, None],\n",
    "    'Относительная разница (%)': [None, None, None],\n",
    "    'Относительная разница медианы (%)': [None, None, None]\n",
    "}, index=['Мода по городу', 'Мода по полу', 'Мода по кредитной карте'])\n",
    "\n",
    "result_table = result_table.append(mode_data)\n",
    "\n",
    "result_table"
   ]
  },
  {
   "cell_type": "markdown",
   "metadata": {},
   "source": [
    "- По значениям score видим не большую разницу в 2% по среднему и медиане.\n",
    "- По age видим разницу в 3.79% по среднему и 2.56% по медиане.\n",
    "- Более серьезные расхождения по equity. Видим 36.9% разницу по средним значениям и 25% по медиане.\n",
    "- Разница в est_salary по средним значениям 0.31%, по медианным 5.69%\n",
    "- По products видим то что в среднем клиент покидающий банк имеет больше банковский продуктов, это более активный потребитель."
   ]
  },
  {
   "cell_type": "markdown",
   "metadata": {},
   "source": [
    "<a id='16'></a>\n",
    "##### Вывод"
   ]
  },
  {
   "cell_type": "markdown",
   "metadata": {},
   "source": [
    "По итогам исследовательского анализа данных:\n",
    "- Видим что уходит много клиентов с хорошим кредтным рейтингом от 825 по 910\n",
    "- Большинство наших клиентов из Ярославля, среди жителей этого города самый высокий колиественный и процентный отток\n",
    "- Клиенты с балансом выше 750 000 чаще уходят из банка\n",
    "- Мужчин и женщин примерно поровну, но churn rate мужчин ощутимо выше чем у женщин\n",
    "- Уровень оттока повышенный среди людей от 25 до 35 лет. Так же повышенный уровень оттока у людей от 50 до 60 лет.\n",
    "- Выше среднего уровень оттока по клиентом у которых более 3 объектов в собственности\n",
    "- Повышенный уровень оттока у клиентов с балансом от 750 000\n",
    "- Выше среднего уровень оттока у клиентов с 3, 4 и 5 банковскими продуктами\n",
    "- Выше уровень оотока среди тех у кого нет кредитной карты\n",
    "- Выше уровень оттока среди активных клиентов\n",
    "- Чуть более склонны к оттоку клиенты с зарплатой выше средней по клиентам банка"
   ]
  },
  {
   "cell_type": "markdown",
   "metadata": {},
   "source": [
    "<a id='17'></a>\n",
    "#### Проверка статистических гипотез"
   ]
  },
  {
   "cell_type": "markdown",
   "metadata": {},
   "source": [
    "<a id='18'></a>\n",
    "##### Проверка гипотез равенстве долей ушедших клиентов среди клиентов у которых есть/нет кредитных карт."
   ]
  },
  {
   "cell_type": "markdown",
   "metadata": {},
   "source": [
    "Будем использовать z-тест для двух пропорций. Этот тест позволяет сравнить доли между двумя независимыми группами.\n",
    "\n",
    "Нулевая гипотеза (H₀):\n",
    "Доли ушедших клиентов равны между клиентами с кредитной картой и клиентами без кредитной карты.\n",
    "<br>\n",
    "Альтернативная гипотеза (H₁):\n",
    "Доли ушедших клиентов различаются между этими двумя группами."
   ]
  },
  {
   "cell_type": "code",
   "execution_count": 24,
   "metadata": {},
   "outputs": [
    {
     "data": {
      "text/plain": [
       "(-13.051770089391798, 6.208788084566672e-39)"
      ]
     },
     "execution_count": 24,
     "metadata": {},
     "output_type": "execute_result"
    }
   ],
   "source": [
    "# Подготовка данных для групп\n",
    "group_with_card = df[df['credit_card'] == 1]['churn']\n",
    "group_without_card = df[df['credit_card'] == 0]['churn']\n",
    "\n",
    "# Количество ушедших в каждой группе\n",
    "count_with_card = group_with_card.sum()\n",
    "count_without_card = group_without_card.sum()\n",
    "\n",
    "# Общее количество клиентов в каждой группе\n",
    "all_with_card = len(group_with_card)\n",
    "all_without_card = len(group_without_card)\n",
    "\n",
    "# Проведение z-теста для сравнения двух пропорций\n",
    "stat, pval = proportions_ztest([count_with_card, count_without_card], [all_with_card, all_without_card])\n",
    "\n",
    "stat, pval"
   ]
  },
  {
   "cell_type": "markdown",
   "metadata": {},
   "source": [
    "Возьмем 0.05 за уровень значимости. По итогам теста мы отклоняем нулевую гипотезу в пользу альтернативной. Отрицательное z значение говорит о том что среди клиентов с кредитной картой доля уходящих выше. Р значение гораздо ниже уровня значимости, что говорит против нулевой гипотезы."
   ]
  },
  {
   "cell_type": "markdown",
   "metadata": {},
   "source": [
    "<a id='19'></a>\n",
    "##### Проверка гипотезы о различии возраста между ушедшими и оставшимися клиентами"
   ]
  },
  {
   "cell_type": "markdown",
   "metadata": {},
   "source": [
    "Выберем t_test так он подходит для сравнения средних показателей в независимых группах, распредение которых схоже с нормальным. ttest чуствителен к сильным выбросам, в наших данных по age нет сильных выбросов,  поэтому ttest подойдет."
   ]
  },
  {
   "cell_type": "markdown",
   "metadata": {},
   "source": [
    "Нулевая гипотеза (H₀):\n",
    "Возраст ушедших и оставшишся клиентов равен (нет статистически значимой разницы)\n",
    "<br>\n",
    "Альтернативная гипотеза (H₁):\n",
    "Возраст ушедших и оставшихся клиентов статистически значимо отличается"
   ]
  },
  {
   "cell_type": "code",
   "execution_count": 25,
   "metadata": {},
   "outputs": [
    {
     "data": {
      "text/plain": [
       "(-5.392210571017457, 7.519023009140847e-08)"
      ]
     },
     "execution_count": 25,
     "metadata": {},
     "output_type": "execute_result"
    }
   ],
   "source": [
    "# Разделение данных на ушедших и оставшихся клиентов\n",
    "departed = df[df['churn'] == 1]['age']\n",
    "stayed = df[df['churn'] == 0]['age']\n",
    "\n",
    "# Выполнение t-теста для независимых выборок\n",
    "t_stat, p_value = ttest_ind(departed, stayed, equal_var=False)  # t-test Уэлча, который  не предполагает равенства дисперсий\n",
    "\n",
    "t_stat, p_value"
   ]
  },
  {
   "cell_type": "markdown",
   "metadata": {},
   "source": [
    "Возьмем 0.05 за уровень значимости. По итогам теста мы отклоняем нулевую гипотезу в пользу альтернативной. T значение показывает что средние у ушедших клиентов статистически значимо ниже чем у оставшихся. Р значение ниже уровня значимости."
   ]
  },
  {
   "cell_type": "markdown",
   "metadata": {},
   "source": [
    "<a id='20'></a>\n",
    "##### Гипотеза  о различии дохода между теми клиентами, которые ушли и теми, которые остались"
   ]
  },
  {
   "cell_type": "markdown",
   "metadata": {},
   "source": [
    "Выберем t_test так он подходит для сравнения средних показателей в независимых группах, распредение которых схоже с нормальным.\n",
    "ttest чуствителен к сильным выбросам, но попробуем провести этот тест на наших данных."
   ]
  },
  {
   "cell_type": "markdown",
   "metadata": {},
   "source": [
    "Нулевая гипотеза (H₀): Доходы между ушедшими и оставшимися клиентами равны. \n",
    "<br>\n",
    "Альтернативная гипотеза (H₁): Доходы между ушедшими и оставшимися клиентами не равны."
   ]
  },
  {
   "cell_type": "code",
   "execution_count": 26,
   "metadata": {},
   "outputs": [
    {
     "data": {
      "text/plain": [
       "(0.16053209039121677, 0.8724727072323815)"
      ]
     },
     "execution_count": 26,
     "metadata": {},
     "output_type": "execute_result"
    }
   ],
   "source": [
    "# Подготовка данных для t-теста\n",
    "salaries_departed = df[df['churn'] == 1]['est_salary']\n",
    "salaries_stayed = df[df['churn'] == 0]['est_salary']\n",
    "\n",
    "# Проведение t-теста для независимых выборок\n",
    "t_stat_salary, p_value_salary = ttest_ind(salaries_departed, salaries_stayed, equal_var=False)  # t-test Уэлча, который  не предполагает равенства дисперсий\n",
    "\n",
    "t_stat_salary, p_value_salary"
   ]
  },
  {
   "cell_type": "markdown",
   "metadata": {},
   "source": [
    "Возьмем 0.05 за уровень значимости. Мы не можем отклонить нулевую гипотезу, статистически значимых различий в средних наших групп по зарплате не нашлось. T статистика показывает очень незначительное превышение средней зарплаты у оставшихся клиентов."
   ]
  },
  {
   "cell_type": "markdown",
   "metadata": {},
   "source": [
    "Поскольку в наших данных длинных хвост вправо по зарплатному распределению, для сглаживания выбросов попробуем провести тест Манна-Уитни.\n",
    "\n",
    "Нулевая гипотеза (H₀): Доходы между ушедшими и оставшимися клиентами равны.\n",
    "Альтернативная гипотеза (H₁): Доходы между ушедшими и оставшимися клиентами не равны."
   ]
  },
  {
   "cell_type": "code",
   "execution_count": 27,
   "metadata": {},
   "outputs": [
    {
     "name": "stdout",
     "output_type": "stream",
     "text": [
      "P-value: 0.00021160652203623057\n"
     ]
    }
   ],
   "source": [
    "# Проведение теста Манна-Уитни\n",
    "_, p_value = mannwhitneyu(salaries_departed, salaries_stayed, alternative='two-sided')\n",
    "\n",
    "# Вывод результатов теста\n",
    "print(\"P-value:\", p_value)"
   ]
  },
  {
   "cell_type": "markdown",
   "metadata": {},
   "source": [
    "Возьмем за уровень значимости 0.05, в данном случае получается что у нас есть статистически значимые различия в заработной плате между ушедшими и оставшимися клиентами."
   ]
  },
  {
   "cell_type": "markdown",
   "metadata": {},
   "source": [
    "<a id='30'></a>\n",
    "##### Вывод по проверке статистических гипотез:"
   ]
  },
  {
   "cell_type": "markdown",
   "metadata": {},
   "source": [
    "\n",
    "- Доли ушедших пользователей значимо различаются между клиентам \"с\" или \"без\" крединой карты. Доля ушедших выше среди людей \"без\" кредитной карты\n",
    "- Возраст ушедших клиентов статистически значимо ниже чем у оставшихся.\n",
    "- Соласно тесту Манна-Уитни есть статистически значимая разница в доходе среди ушедших и оставшихся клиентов."
   ]
  },
  {
   "cell_type": "markdown",
   "metadata": {},
   "source": [
    "<a id='21'></a>\n",
    "#### Сегментация клиентов"
   ]
  },
  {
   "cell_type": "markdown",
   "metadata": {},
   "source": [
    "Распределение по оценке кредитного рейтинга:\n",
    "<p>Видим что ушло много клиентов с хорошим средним рейтингом от 825 до 910</p><br>\n",
    "Распределение по возрасту:\n",
    "<p>Уровень оттока повышенный среди людей от 25 до 35 лет. Так же видно повышенный уровень оттока у людей от 50 до 60 лет.</p><br>\n",
    "Распределение по балансу:\n",
    "<p>При балансе свыше 750 тысяч клиенты чаще уходят из банка.</p><br>\n",
    "Отток по количеству продуктов: <p>Наблюдается отток выше среднего уровня среди клиентов с 3, 4 и 2 продуктами. Клиенты с 1 или 2 продуктами демонстрируют более низкий уровень оттока.</p><br>\n",
    "Отток по городам: <p>Клиенты из города Ярославль имеют самый высокий уровень оттока по сравнению с другими городами. В городе Ростов отток ниже, а в Рыбинске — наименьший.</p><br>\n",
    "Отток по полу: <p>Среди мужчин отток заметно выше среднего уровня. У женщин отток ниже среднего.</p><br>\n",
    "Отток по наличию кредитной карты: <p>среди клиентов без кредитной карты отток выше среднего</p><br>\n",
    "\n",
    "Сегментацию клиентов будем проводить по алгоритму. Алгоритм будет искать максимальный churn_rate при сочетании вышеуказанных факторов. В критерии не возьмем город, будем делать универсальные рекомендации для всего банка. "
   ]
  },
  {
   "cell_type": "code",
   "execution_count": 28,
   "metadata": {},
   "outputs": [
    {
     "name": "stdout",
     "output_type": "stream",
     "text": [
      "Сегменты с самым высоким уровнем оттока:\n",
      "Характеристики: gender == \"М\" and credit_card == 0 and balance > 750000, Churn_Rate: 55.96%, Всего: 570\n",
      "Характеристики: equity >= 3 and age >= 25 and age <= 35 and balance > 750000, Churn_Rate: 49.83%, Всего: 578\n",
      "Характеристики: gender == \"М\" and score >= 820 and score <= 910 and balance > 750000, Churn_Rate: 48.76%, Всего: 765\n"
     ]
    }
   ],
   "source": [
    "# Определение критериев сегментации\n",
    "criteria = [\n",
    "    'equity >= 3',\n",
    "    'gender == \"М\"',\n",
    "    'credit_card == 0',\n",
    "    'age >= 25 and age <= 35',\n",
    "    'age > 50 and age <= 60',\n",
    "    'score >= 820 and score <= 910',\n",
    "    'balance > 750000'\n",
    "]\n",
    "\n",
    "# Функция для анализа сегмента\n",
    "def analyze_segment(query):\n",
    "    segment = df.query(query)\n",
    "    if len(segment) < 500:\n",
    "        return None  # Пропускаем сегменты с менее чем 500 клиентов\n",
    "    churn_rate = segment['churn'].mean()\n",
    "    return churn_rate, len(segment) # Возвращет средний churn_rate и кол-во клиентов в сегменте\n",
    "\n",
    "# Функция для поиска комбинаций\n",
    "def find_churn_segments(criteria, top_n=3): #По умолчанию возьмем топ-3\n",
    "    churn_segments = []\n",
    "\n",
    "    # Перебор всех комбинаций \n",
    "    for crit in range(2, 4):\n",
    "        for combination in itertools.combinations(criteria, crit):\n",
    "            query = ' and '.join(combination) # Собираем строку для query\n",
    "            result = analyze_segment(query) # Вызываем analyze_segment\n",
    "            if result:\n",
    "                churn_segments.append((query, result[0], result[1])) # Добавляем кортежи в итоговый список churn_segments\n",
    "\n",
    "    # Сортируем найденные сегменты по уровню убывания оттока и берем топ 3\n",
    "    churn_segments.sort(key=lambda x: x[1], reverse=True)\n",
    "    return churn_segments[:top_n]\n",
    "\n",
    "# Анализ сегментов\n",
    "churn_segments = find_churn_segments(criteria)\n",
    "\n",
    "# Вывод результатов\n",
    "print(\"Сегменты с самым высоким уровнем оттока:\")\n",
    "for segment in churn_segments:\n",
    "    print(f\"Характеристики: {segment[0]}, Churn_Rate: {segment[1]:.2%}, Всего: {segment[2]}\")\n"
   ]
  },
  {
   "cell_type": "markdown",
   "metadata": {},
   "source": [
    "<a id='22'></a>\n",
    "##### Распределим сегоменты по приоритету"
   ]
  },
  {
   "cell_type": "markdown",
   "metadata": {},
   "source": [
    "<a id='23'></a>\n",
    "##### Приоритет номер 1: Сегмент по полу, наличию кредитной карты и балансу "
   ]
  },
  {
   "cell_type": "markdown",
   "metadata": {},
   "source": [
    "В данный сегмент входят:\n",
    "<ul>Мужчины</ul>\n",
    "<ul>Без кредитной карты</ul>\n",
    "<ul>С балансом более 750 000</ul>\n",
    "\n",
    "В данном сегменте самый высокий уровень Churn_Rate - 55.96%, в сегмент входит 570 человек."
   ]
  },
  {
   "cell_type": "markdown",
   "metadata": {},
   "source": [
    "<a id='24'></a>\n",
    "##### Приоритет номер 2: Сегменты по балансу, собственности и возрасту"
   ]
  },
  {
   "cell_type": "markdown",
   "metadata": {},
   "source": [
    "В данный сегмент входят:\n",
    "<ul>Клиенты с имущественным баллом более 3</ul>\n",
    "<ul>Возраст между 25 и 35 лет</ul>\n",
    "<ul>С балансом более 750 000</ul>\n",
    "\n",
    "В данном сегменте второй по объему Churn_Rate - 49.83%, в сегмент входит 578 человек.\n"
   ]
  },
  {
   "cell_type": "markdown",
   "metadata": {},
   "source": [
    "<a id='25'></a>\n",
    "##### Приоритет номер 3: Сегменты по полу, кредитному рейтингу и балансу"
   ]
  },
  {
   "cell_type": "markdown",
   "metadata": {},
   "source": [
    "В данный сегмент входят:\n",
    "<ul>Мужчины</ul>\n",
    "<ul>С кредитным рейтингом 820-910 баллов</ul>\n",
    "<ul>С балансом более 750 000</ul>\n",
    "\n",
    "В данном сегменте самый высокий уровень Churn_Rate - 55.96%, в сегмент входит 570 человек."
   ]
  },
  {
   "cell_type": "markdown",
   "metadata": {},
   "source": [
    "<a id='26'></a>\n",
    "##### Вывод по итогам сегментации клиентов\n"
   ]
  },
  {
   "cell_type": "markdown",
   "metadata": {},
   "source": [
    "Получили три сегмента. Общее во всех трех сегментах это баланс свыше 750.000. В большинстве своем это мужчины, с имущественным баллом свыше 3, кредитным рейтингом от 820 до 910. И без кредитной карты.\n"
   ]
  },
  {
   "cell_type": "markdown",
   "metadata": {},
   "source": [
    "<a id='27'></a>\n",
    "#### Итоговый вывод"
   ]
  },
  {
   "cell_type": "markdown",
   "metadata": {},
   "source": [
    "<font size=\"2\"><strong>Основные выводы:</strong></font>\n",
    "\n",
    "- Кредитный рейтинг: Клиенты с высоким кредитным рейтингом (825-910) склонны к уходу. Это может указывать на то, что клиенты с хорошей кредитной историей находят более выгодные предложения в других банках.\n",
    "- Географическая концентрация: Наибольший отток наблюдается среди жителей Ярославля, что может свидетельствовать о наличии сильных конкурентов в этом регионе.\n",
    "- Демографические и финансовые факторы: Отток высок среди молодежи (25-35 лет) и пожилых людей (50-60 лет), а также среди клиентов с балансом выше 750 000. Это указывает на возможные недостатки в услугах или продуктах, предлагаемых этим возрастным группам, а также в управлении большими суммами на счетах клиентов.\n",
    "- Продукты и услуги: Высокий уровень оттока у клиентов, использующих 3-5 банковских продуктов, говорит о том, что это активное пользователи банковских услуг, которые ищут наиболее выгодные для себе предложения на рынке.\n",
    "<br>\n",
    "\n",
    "<font size=\"2\"><strong>Рекомендации по работе с ключевыми сегментами:</strong></font>\n",
    "\n",
    "1. Мужчины без кредитной карты с балансом свыше 750,000\n",
    "<ul>Разработка эксклюзивных кредитных продуктов: Можем предложить этой группе эксклюзивные кредитные карты с привлекательными условиями, такими как повышенный кэшбэк на определенные категории расходов или бонусы за большие покупки.<br>\n",
    "Персонализированные инвестиционные предложения: Учитывая высокий баланс, эти клиенты могут быть заинтересованы в инвестиционных продуктах. Можем предложить инвестиционные продукты с защитой капитала, специальные условия открытия инвестиционного счета.<br>\n",
    "Улучшенный сервис накоплений: Можем предложить клиентам повышенный процент на остаток по балансу, повышенный процент по накопительным счетам и вкладам.</ul><br>\n",
    "\n",
    "2. Клиенты с капиталом более 3, возрастом от 25 до 35 лет и балансом свыше 750,000\n",
    "<ul>Целевые финансовые советы для молодых профессионалов: Эта категория клиентов может быть заинтересована в планировании своего финансового будущего. Можем организовать вебинары и семинары по финансовому планированию, инвестициям и управлению активами.<br>\n",
    "Эксклюзивные предложения и услуги: Можем предложить программы лояльности или премиум-услуги, которые могут включать специальные предложения для путешествий, страхования или покупок.<br>\n",
    "Мобильное банковское обслуживание: Учитывая возрастную категорию, уделите особое внимание мобильным банковским технологиям, предлагая удобные и инновационные приложения для управления счетами и инвестициями.</ul><br>\n",
    "\n",
    "3. Мужчины с кредитным рейтингом от 820 до 910 и балансом свыше 750,000\n",
    "<ul>Программы премиального обслуживания: Предложите услуги премиального класса, которые могут включать доступ к эксклюзивным мероприятиям, персонализированное обслуживание и привилегии, доступные только для членов премиального клуба.<br>\n",
    "Индивидуальные кредитные предложения: Разработайте специальные кредитные предложения с низкими процентными ставками и улучшенными условиями для крупных покупок или инвестиций.<br>\n",
    "Повышение финансовой грамотности и доверия: Можем проводить онлайн вебинары-консультации по управлению активами и капиталом, помогая клиентам оптимизировать их финансовые портфолио для достижения долгосрочных целей.</ul>"
   ]
  }
 ],
 "metadata": {
  "ExecuteTimeLog": [
   {
    "duration": 49,
    "start_time": "2024-04-21T15:36:14.529Z"
   },
   {
    "duration": 427,
    "start_time": "2024-04-21T15:36:27.138Z"
   },
   {
    "duration": 91,
    "start_time": "2024-04-21T15:36:27.567Z"
   },
   {
    "duration": 30,
    "start_time": "2024-04-21T15:36:27.660Z"
   },
   {
    "duration": 1321,
    "start_time": "2024-04-21T15:56:53.846Z"
   },
   {
    "duration": 3,
    "start_time": "2024-04-21T15:56:55.169Z"
   },
   {
    "duration": 55,
    "start_time": "2024-04-21T15:56:55.174Z"
   },
   {
    "duration": 3,
    "start_time": "2024-04-21T15:57:52.847Z"
   },
   {
    "duration": 32,
    "start_time": "2024-04-21T15:58:56.195Z"
   },
   {
    "duration": 12,
    "start_time": "2024-04-21T15:59:28.145Z"
   },
   {
    "duration": 3,
    "start_time": "2024-04-21T16:06:27.031Z"
   },
   {
    "duration": 25,
    "start_time": "2024-04-21T16:17:05.333Z"
   },
   {
    "duration": 47,
    "start_time": "2024-04-21T16:20:58.667Z"
   },
   {
    "duration": 34,
    "start_time": "2024-04-21T16:22:03.478Z"
   },
   {
    "duration": 26,
    "start_time": "2024-04-21T16:23:34.143Z"
   },
   {
    "duration": 18,
    "start_time": "2024-04-21T16:25:03.074Z"
   },
   {
    "duration": 11,
    "start_time": "2024-04-21T16:25:13.667Z"
   },
   {
    "duration": 9,
    "start_time": "2024-04-21T16:25:31.397Z"
   },
   {
    "duration": 9,
    "start_time": "2024-04-21T16:25:37.198Z"
   },
   {
    "duration": 9,
    "start_time": "2024-04-21T16:26:05.955Z"
   },
   {
    "duration": 2,
    "start_time": "2024-04-21T16:26:31.129Z"
   },
   {
    "duration": 35,
    "start_time": "2024-04-21T16:27:11.905Z"
   },
   {
    "duration": 18,
    "start_time": "2024-04-21T16:27:20.233Z"
   },
   {
    "duration": 17,
    "start_time": "2024-04-21T16:27:34.578Z"
   },
   {
    "duration": 15,
    "start_time": "2024-04-21T16:27:52.676Z"
   },
   {
    "duration": 13,
    "start_time": "2024-04-21T16:28:21.531Z"
   },
   {
    "duration": 18,
    "start_time": "2024-04-21T16:28:54.985Z"
   },
   {
    "duration": 122,
    "start_time": "2024-04-21T16:29:04.876Z"
   },
   {
    "duration": 24,
    "start_time": "2024-04-21T16:29:12.062Z"
   },
   {
    "duration": 15,
    "start_time": "2024-04-21T16:29:19.465Z"
   },
   {
    "duration": 18,
    "start_time": "2024-04-21T16:29:40.769Z"
   },
   {
    "duration": 16,
    "start_time": "2024-04-21T16:29:47.870Z"
   },
   {
    "duration": 31,
    "start_time": "2024-04-21T16:29:59.937Z"
   },
   {
    "duration": 10,
    "start_time": "2024-04-21T16:37:05.400Z"
   },
   {
    "duration": 9,
    "start_time": "2024-04-21T16:37:28.446Z"
   },
   {
    "duration": 9,
    "start_time": "2024-04-21T16:38:05.157Z"
   },
   {
    "duration": 26,
    "start_time": "2024-04-21T16:39:46.673Z"
   },
   {
    "duration": 19,
    "start_time": "2024-04-21T16:39:47.666Z"
   },
   {
    "duration": 35,
    "start_time": "2024-04-21T16:39:48.552Z"
   },
   {
    "duration": 34,
    "start_time": "2024-04-21T16:39:52.817Z"
   },
   {
    "duration": 27,
    "start_time": "2024-04-21T16:39:58.441Z"
   },
   {
    "duration": 9,
    "start_time": "2024-04-21T16:39:59.570Z"
   },
   {
    "duration": 16,
    "start_time": "2024-04-21T16:40:02.000Z"
   },
   {
    "duration": 1469,
    "start_time": "2024-04-21T16:40:18.925Z"
   },
   {
    "duration": 4,
    "start_time": "2024-04-21T16:40:20.396Z"
   },
   {
    "duration": 52,
    "start_time": "2024-04-21T16:40:20.401Z"
   },
   {
    "duration": 34,
    "start_time": "2024-04-21T16:40:20.456Z"
   },
   {
    "duration": 12,
    "start_time": "2024-04-21T16:40:20.493Z"
   },
   {
    "duration": 23,
    "start_time": "2024-04-21T16:40:20.507Z"
   },
   {
    "duration": 47,
    "start_time": "2024-04-21T16:40:20.532Z"
   },
   {
    "duration": 44,
    "start_time": "2024-04-21T16:40:20.581Z"
   },
   {
    "duration": 27,
    "start_time": "2024-04-21T16:40:20.626Z"
   },
   {
    "duration": 22,
    "start_time": "2024-04-21T16:40:20.655Z"
   },
   {
    "duration": 139,
    "start_time": "2024-04-21T16:40:20.679Z"
   },
   {
    "duration": 0,
    "start_time": "2024-04-21T16:40:20.820Z"
   },
   {
    "duration": 10,
    "start_time": "2024-04-21T16:40:26.684Z"
   },
   {
    "duration": 22,
    "start_time": "2024-04-21T16:40:37.943Z"
   },
   {
    "duration": 2,
    "start_time": "2024-04-21T16:43:15.401Z"
   },
   {
    "duration": 3,
    "start_time": "2024-04-21T16:43:36.088Z"
   },
   {
    "duration": 15,
    "start_time": "2024-04-21T16:44:04.087Z"
   },
   {
    "duration": 2,
    "start_time": "2024-04-21T16:44:23.442Z"
   },
   {
    "duration": 24,
    "start_time": "2024-04-21T16:47:03.891Z"
   },
   {
    "duration": 22,
    "start_time": "2024-04-21T16:47:27.552Z"
   },
   {
    "duration": 24,
    "start_time": "2024-04-21T16:47:30.250Z"
   },
   {
    "duration": 24,
    "start_time": "2024-04-21T16:47:45.292Z"
   },
   {
    "duration": 27,
    "start_time": "2024-04-21T16:47:50.745Z"
   },
   {
    "duration": 30,
    "start_time": "2024-04-21T16:47:55.785Z"
   },
   {
    "duration": 32,
    "start_time": "2024-04-21T16:51:49.708Z"
   },
   {
    "duration": 37,
    "start_time": "2024-04-21T16:55:04.831Z"
   },
   {
    "duration": 55,
    "start_time": "2024-04-21T16:56:17.411Z"
   },
   {
    "duration": 36,
    "start_time": "2024-04-21T16:56:42.117Z"
   },
   {
    "duration": 38,
    "start_time": "2024-04-21T16:56:48.079Z"
   },
   {
    "duration": 35,
    "start_time": "2024-04-21T16:56:53.813Z"
   },
   {
    "duration": 36,
    "start_time": "2024-04-21T16:58:15.069Z"
   },
   {
    "duration": 38,
    "start_time": "2024-04-21T16:58:27.069Z"
   },
   {
    "duration": 35,
    "start_time": "2024-04-21T16:58:30.290Z"
   },
   {
    "duration": 38,
    "start_time": "2024-04-21T16:58:44.692Z"
   },
   {
    "duration": 40,
    "start_time": "2024-04-21T17:00:09.131Z"
   },
   {
    "duration": 39,
    "start_time": "2024-04-21T17:00:38.083Z"
   },
   {
    "duration": 35,
    "start_time": "2024-04-21T17:01:48.355Z"
   },
   {
    "duration": 34,
    "start_time": "2024-04-21T17:01:56.583Z"
   },
   {
    "duration": 59,
    "start_time": "2024-04-21T17:07:56.863Z"
   },
   {
    "duration": 2211,
    "start_time": "2024-04-21T17:11:59.242Z"
   },
   {
    "duration": 1878,
    "start_time": "2024-04-21T17:13:21.200Z"
   },
   {
    "duration": 1149,
    "start_time": "2024-04-21T17:14:32.669Z"
   },
   {
    "duration": 1347,
    "start_time": "2024-04-21T17:14:53.274Z"
   },
   {
    "duration": 222,
    "start_time": "2024-04-21T17:15:22.875Z"
   },
   {
    "duration": 1969,
    "start_time": "2024-04-21T17:20:02.930Z"
   },
   {
    "duration": 2112,
    "start_time": "2024-04-21T17:20:16.917Z"
   },
   {
    "duration": 4402,
    "start_time": "2024-04-21T17:21:15.768Z"
   },
   {
    "duration": 4419,
    "start_time": "2024-04-21T17:21:28.040Z"
   },
   {
    "duration": 2007,
    "start_time": "2024-04-21T17:22:34.032Z"
   },
   {
    "duration": 737,
    "start_time": "2024-04-21T17:23:52.508Z"
   },
   {
    "duration": 556,
    "start_time": "2024-04-21T17:24:08.059Z"
   },
   {
    "duration": 393,
    "start_time": "2024-04-21T17:24:19.265Z"
   },
   {
    "duration": 462,
    "start_time": "2024-04-21T17:24:32.073Z"
   },
   {
    "duration": 10,
    "start_time": "2024-04-21T17:26:37.120Z"
   },
   {
    "duration": 11,
    "start_time": "2024-04-21T17:26:44.180Z"
   },
   {
    "duration": 16,
    "start_time": "2024-04-21T17:27:08.973Z"
   },
   {
    "duration": 4404,
    "start_time": "2024-04-21T17:28:15.400Z"
   },
   {
    "duration": 4705,
    "start_time": "2024-04-21T17:29:21.905Z"
   },
   {
    "duration": 86,
    "start_time": "2024-04-21T17:30:50.524Z"
   },
   {
    "duration": 10,
    "start_time": "2024-04-21T17:31:02.226Z"
   },
   {
    "duration": 2055,
    "start_time": "2024-04-21T17:32:14.402Z"
   },
   {
    "duration": 2140,
    "start_time": "2024-04-21T17:33:24.996Z"
   },
   {
    "duration": 2090,
    "start_time": "2024-04-21T17:33:35.692Z"
   },
   {
    "duration": 2145,
    "start_time": "2024-04-21T17:33:50.012Z"
   },
   {
    "duration": 2268,
    "start_time": "2024-04-21T17:34:15.407Z"
   },
   {
    "duration": 2485,
    "start_time": "2024-04-21T17:34:59.911Z"
   },
   {
    "duration": 11,
    "start_time": "2024-04-21T17:35:42.323Z"
   },
   {
    "duration": 6,
    "start_time": "2024-04-21T17:35:51.982Z"
   },
   {
    "duration": 5,
    "start_time": "2024-04-21T17:35:58.289Z"
   },
   {
    "duration": 6,
    "start_time": "2024-04-21T17:36:37.957Z"
   },
   {
    "duration": 2398,
    "start_time": "2024-04-21T17:38:55.266Z"
   },
   {
    "duration": 2467,
    "start_time": "2024-04-21T17:40:00.543Z"
   },
   {
    "duration": 3644,
    "start_time": "2024-04-21T17:43:10.385Z"
   },
   {
    "duration": 4,
    "start_time": "2024-04-21T17:44:57.646Z"
   },
   {
    "duration": 1445,
    "start_time": "2024-04-21T17:45:05.329Z"
   },
   {
    "duration": 2,
    "start_time": "2024-04-21T17:45:06.776Z"
   },
   {
    "duration": 87,
    "start_time": "2024-04-21T17:45:06.780Z"
   },
   {
    "duration": 32,
    "start_time": "2024-04-21T17:45:06.868Z"
   },
   {
    "duration": 13,
    "start_time": "2024-04-21T17:45:06.902Z"
   },
   {
    "duration": 5,
    "start_time": "2024-04-21T17:45:06.917Z"
   },
   {
    "duration": 16,
    "start_time": "2024-04-21T17:45:06.923Z"
   },
   {
    "duration": 26,
    "start_time": "2024-04-21T17:45:06.940Z"
   },
   {
    "duration": 70,
    "start_time": "2024-04-21T17:45:06.970Z"
   },
   {
    "duration": 49,
    "start_time": "2024-04-21T17:45:07.042Z"
   },
   {
    "duration": 11,
    "start_time": "2024-04-21T17:45:07.093Z"
   },
   {
    "duration": 18,
    "start_time": "2024-04-21T17:45:07.106Z"
   },
   {
    "duration": 11,
    "start_time": "2024-04-21T17:45:07.125Z"
   },
   {
    "duration": 2641,
    "start_time": "2024-04-21T17:45:07.138Z"
   },
   {
    "duration": 3699,
    "start_time": "2024-04-21T17:45:09.781Z"
   },
   {
    "duration": 3575,
    "start_time": "2024-04-21T17:48:02.309Z"
   },
   {
    "duration": 3651,
    "start_time": "2024-04-21T17:48:47.542Z"
   },
   {
    "duration": 3779,
    "start_time": "2024-04-21T17:48:58.148Z"
   },
   {
    "duration": 3553,
    "start_time": "2024-04-21T17:49:07.221Z"
   },
   {
    "duration": 3569,
    "start_time": "2024-04-21T17:51:34.256Z"
   },
   {
    "duration": 3857,
    "start_time": "2024-04-21T17:51:56.186Z"
   },
   {
    "duration": 3823,
    "start_time": "2024-04-21T17:52:06.867Z"
   },
   {
    "duration": 3682,
    "start_time": "2024-04-21T17:52:11.930Z"
   },
   {
    "duration": 6000,
    "start_time": "2024-04-21T17:55:48.075Z"
   },
   {
    "duration": 5929,
    "start_time": "2024-04-21T17:58:09.914Z"
   },
   {
    "duration": 6164,
    "start_time": "2024-04-21T17:59:15.575Z"
   },
   {
    "duration": 5994,
    "start_time": "2024-04-21T17:59:26.139Z"
   },
   {
    "duration": 1682,
    "start_time": "2024-04-21T18:03:24.908Z"
   },
   {
    "duration": 197,
    "start_time": "2024-04-21T18:05:00.475Z"
   },
   {
    "duration": 921,
    "start_time": "2024-04-21T18:05:26.488Z"
   },
   {
    "duration": 1523,
    "start_time": "2024-04-21T18:07:27.747Z"
   },
   {
    "duration": 5118,
    "start_time": "2024-04-21T18:09:58.829Z"
   },
   {
    "duration": 28,
    "start_time": "2024-04-21T18:16:26.813Z"
   },
   {
    "duration": 10,
    "start_time": "2024-04-21T18:19:36.324Z"
   },
   {
    "duration": 464,
    "start_time": "2024-04-21T18:20:09.294Z"
   },
   {
    "duration": 12,
    "start_time": "2024-04-21T18:23:16.896Z"
   },
   {
    "duration": 26,
    "start_time": "2024-04-21T18:23:28.713Z"
   },
   {
    "duration": 26,
    "start_time": "2024-04-21T18:27:19.411Z"
   },
   {
    "duration": 571,
    "start_time": "2024-04-21T18:30:40.760Z"
   },
   {
    "duration": 880,
    "start_time": "2024-04-21T18:31:08.689Z"
   },
   {
    "duration": 690,
    "start_time": "2024-04-21T18:32:01.215Z"
   },
   {
    "duration": 878,
    "start_time": "2024-04-21T18:32:08.296Z"
   },
   {
    "duration": 906,
    "start_time": "2024-04-21T18:32:37.511Z"
   },
   {
    "duration": 139,
    "start_time": "2024-04-21T18:33:41.661Z"
   },
   {
    "duration": 966,
    "start_time": "2024-04-21T18:33:52.358Z"
   },
   {
    "duration": 753,
    "start_time": "2024-04-21T18:34:21.506Z"
   },
   {
    "duration": 786,
    "start_time": "2024-04-21T18:34:27.292Z"
   },
   {
    "duration": 83,
    "start_time": "2024-04-21T18:34:51.045Z"
   },
   {
    "duration": 10,
    "start_time": "2024-04-21T18:40:54.880Z"
   },
   {
    "duration": 10,
    "start_time": "2024-04-21T18:41:08.455Z"
   },
   {
    "duration": 10,
    "start_time": "2024-04-21T18:52:01.839Z"
   },
   {
    "duration": 15,
    "start_time": "2024-04-21T18:52:15.458Z"
   },
   {
    "duration": 11,
    "start_time": "2024-04-21T18:53:43.136Z"
   },
   {
    "duration": 13,
    "start_time": "2024-04-21T18:54:02.585Z"
   },
   {
    "duration": 1820,
    "start_time": "2024-04-22T08:26:20.870Z"
   },
   {
    "duration": 3,
    "start_time": "2024-04-22T08:26:22.693Z"
   },
   {
    "duration": 96,
    "start_time": "2024-04-22T08:26:22.697Z"
   },
   {
    "duration": 27,
    "start_time": "2024-04-22T08:26:22.796Z"
   },
   {
    "duration": 13,
    "start_time": "2024-04-22T08:26:22.825Z"
   },
   {
    "duration": 3,
    "start_time": "2024-04-22T08:26:22.839Z"
   },
   {
    "duration": 4,
    "start_time": "2024-04-22T08:26:22.844Z"
   },
   {
    "duration": 16,
    "start_time": "2024-04-22T08:26:22.849Z"
   },
   {
    "duration": 58,
    "start_time": "2024-04-22T08:26:22.867Z"
   },
   {
    "duration": 47,
    "start_time": "2024-04-22T08:26:22.928Z"
   },
   {
    "duration": 10,
    "start_time": "2024-04-22T08:26:22.976Z"
   },
   {
    "duration": 26,
    "start_time": "2024-04-22T08:26:22.988Z"
   },
   {
    "duration": 17,
    "start_time": "2024-04-22T08:26:23.015Z"
   },
   {
    "duration": 1041,
    "start_time": "2024-04-22T08:26:23.034Z"
   },
   {
    "duration": 798,
    "start_time": "2024-04-22T08:26:24.076Z"
   },
   {
    "duration": 5220,
    "start_time": "2024-04-22T08:26:24.876Z"
   },
   {
    "duration": 1750,
    "start_time": "2024-04-22T08:26:30.098Z"
   },
   {
    "duration": 487,
    "start_time": "2024-04-22T08:26:31.850Z"
   },
   {
    "duration": 6,
    "start_time": "2024-04-22T08:26:32.338Z"
   },
   {
    "duration": 0,
    "start_time": "2024-04-22T08:26:32.355Z"
   },
   {
    "duration": 0,
    "start_time": "2024-04-22T08:26:32.356Z"
   },
   {
    "duration": 0,
    "start_time": "2024-04-22T08:26:32.357Z"
   },
   {
    "duration": 5,
    "start_time": "2024-04-22T08:26:54.464Z"
   },
   {
    "duration": 26,
    "start_time": "2024-04-22T08:27:27.127Z"
   },
   {
    "duration": 497,
    "start_time": "2024-04-22T08:40:43.042Z"
   },
   {
    "duration": 1555,
    "start_time": "2024-04-22T08:41:46.169Z"
   },
   {
    "duration": 1782,
    "start_time": "2024-04-22T08:41:54.677Z"
   },
   {
    "duration": 1745,
    "start_time": "2024-04-22T08:42:23.022Z"
   },
   {
    "duration": 1623,
    "start_time": "2024-04-22T08:42:31.339Z"
   },
   {
    "duration": 1815,
    "start_time": "2024-04-22T08:42:38.806Z"
   },
   {
    "duration": 1849,
    "start_time": "2024-04-22T08:42:47.574Z"
   },
   {
    "duration": 1725,
    "start_time": "2024-04-22T08:43:11.750Z"
   },
   {
    "duration": 576,
    "start_time": "2024-04-22T08:43:53.288Z"
   },
   {
    "duration": 30,
    "start_time": "2024-04-22T08:47:33.682Z"
   },
   {
    "duration": 33,
    "start_time": "2024-04-22T08:49:49.481Z"
   },
   {
    "duration": 31,
    "start_time": "2024-04-22T08:52:35.550Z"
   },
   {
    "duration": 12,
    "start_time": "2024-04-22T08:53:32.346Z"
   },
   {
    "duration": 22,
    "start_time": "2024-04-22T08:53:35.430Z"
   },
   {
    "duration": 13,
    "start_time": "2024-04-22T08:53:39.443Z"
   },
   {
    "duration": 402,
    "start_time": "2024-04-22T08:55:32.323Z"
   },
   {
    "duration": 585,
    "start_time": "2024-04-22T08:56:33.471Z"
   },
   {
    "duration": 547,
    "start_time": "2024-04-22T08:57:11.985Z"
   },
   {
    "duration": 23,
    "start_time": "2024-04-22T09:09:48.555Z"
   },
   {
    "duration": 1302,
    "start_time": "2024-04-22T09:10:13.711Z"
   },
   {
    "duration": 17,
    "start_time": "2024-04-22T09:11:19.343Z"
   },
   {
    "duration": 30,
    "start_time": "2024-04-22T09:58:41.211Z"
   },
   {
    "duration": 34,
    "start_time": "2024-04-22T09:59:52.311Z"
   },
   {
    "duration": 182,
    "start_time": "2024-04-22T10:00:36.954Z"
   },
   {
    "duration": 17,
    "start_time": "2024-04-22T10:12:33.930Z"
   },
   {
    "duration": 376,
    "start_time": "2024-04-22T10:12:51.776Z"
   },
   {
    "duration": 354,
    "start_time": "2024-04-22T10:13:44.497Z"
   },
   {
    "duration": 872,
    "start_time": "2024-04-22T10:14:00.572Z"
   },
   {
    "duration": 392,
    "start_time": "2024-04-22T10:14:08.098Z"
   },
   {
    "duration": 401,
    "start_time": "2024-04-22T10:14:54.878Z"
   },
   {
    "duration": 350,
    "start_time": "2024-04-22T10:15:05.672Z"
   },
   {
    "duration": 344,
    "start_time": "2024-04-22T10:15:12.236Z"
   },
   {
    "duration": 496,
    "start_time": "2024-04-22T10:15:24.313Z"
   },
   {
    "duration": 366,
    "start_time": "2024-04-22T10:15:37.266Z"
   },
   {
    "duration": 367,
    "start_time": "2024-04-22T10:15:42.416Z"
   },
   {
    "duration": 392,
    "start_time": "2024-04-22T10:15:49.557Z"
   },
   {
    "duration": 757,
    "start_time": "2024-04-22T10:16:50.395Z"
   },
   {
    "duration": 16,
    "start_time": "2024-04-22T10:17:57.588Z"
   },
   {
    "duration": 416,
    "start_time": "2024-04-22T10:18:09.502Z"
   },
   {
    "duration": 522,
    "start_time": "2024-04-22T10:18:17.305Z"
   },
   {
    "duration": 171,
    "start_time": "2024-04-22T10:25:53.152Z"
   },
   {
    "duration": 1124,
    "start_time": "2024-04-22T10:26:14.794Z"
   },
   {
    "duration": 164,
    "start_time": "2024-04-22T10:34:13.888Z"
   },
   {
    "duration": 820,
    "start_time": "2024-04-22T10:34:26.751Z"
   },
   {
    "duration": 1021,
    "start_time": "2024-04-22T13:27:18.162Z"
   },
   {
    "duration": 32,
    "start_time": "2024-04-22T13:30:10.680Z"
   },
   {
    "duration": 1365,
    "start_time": "2024-04-22T13:36:18.518Z"
   },
   {
    "duration": 1076,
    "start_time": "2024-04-22T13:37:14.177Z"
   },
   {
    "duration": 1717,
    "start_time": "2024-04-22T13:38:56.746Z"
   },
   {
    "duration": 1027,
    "start_time": "2024-04-22T13:39:06.172Z"
   },
   {
    "duration": 1170,
    "start_time": "2024-04-22T13:39:49.113Z"
   },
   {
    "duration": 1239,
    "start_time": "2024-04-22T13:40:05.005Z"
   },
   {
    "duration": 1037,
    "start_time": "2024-04-22T13:40:27.330Z"
   },
   {
    "duration": 1131,
    "start_time": "2024-04-22T13:40:34.454Z"
   },
   {
    "duration": 163,
    "start_time": "2024-04-22T13:45:53.425Z"
   },
   {
    "duration": 360,
    "start_time": "2024-04-22T13:46:07.525Z"
   },
   {
    "duration": 1115,
    "start_time": "2024-04-22T13:49:11.173Z"
   },
   {
    "duration": 1241,
    "start_time": "2024-04-22T13:49:46.973Z"
   },
   {
    "duration": 1117,
    "start_time": "2024-04-22T13:49:55.487Z"
   },
   {
    "duration": 1242,
    "start_time": "2024-04-22T13:50:01.188Z"
   },
   {
    "duration": 1088,
    "start_time": "2024-04-22T13:51:43.085Z"
   },
   {
    "duration": 1033,
    "start_time": "2024-04-22T13:53:00.446Z"
   },
   {
    "duration": 1142,
    "start_time": "2024-04-22T13:53:48.546Z"
   },
   {
    "duration": 1048,
    "start_time": "2024-04-22T13:55:10.205Z"
   },
   {
    "duration": 593,
    "start_time": "2024-04-22T14:00:40.306Z"
   },
   {
    "duration": 938,
    "start_time": "2024-04-22T14:01:12.077Z"
   },
   {
    "duration": 2,
    "start_time": "2024-04-22T14:04:27.118Z"
   },
   {
    "duration": 962,
    "start_time": "2024-04-22T14:05:30.656Z"
   },
   {
    "duration": 58,
    "start_time": "2024-04-22T17:45:15.878Z"
   },
   {
    "duration": 12,
    "start_time": "2024-04-22T17:45:35.330Z"
   },
   {
    "duration": 1943,
    "start_time": "2024-04-22T17:45:44.142Z"
   },
   {
    "duration": 4,
    "start_time": "2024-04-22T17:45:46.087Z"
   },
   {
    "duration": 113,
    "start_time": "2024-04-22T17:45:46.093Z"
   },
   {
    "duration": 29,
    "start_time": "2024-04-22T17:45:46.209Z"
   },
   {
    "duration": 20,
    "start_time": "2024-04-22T17:45:46.240Z"
   },
   {
    "duration": 893,
    "start_time": "2024-04-22T17:45:46.262Z"
   },
   {
    "duration": 0,
    "start_time": "2024-04-22T17:45:47.157Z"
   },
   {
    "duration": 0,
    "start_time": "2024-04-22T17:45:47.158Z"
   },
   {
    "duration": 0,
    "start_time": "2024-04-22T17:45:47.160Z"
   },
   {
    "duration": 0,
    "start_time": "2024-04-22T17:45:47.161Z"
   },
   {
    "duration": 0,
    "start_time": "2024-04-22T17:45:47.173Z"
   },
   {
    "duration": 0,
    "start_time": "2024-04-22T17:45:47.175Z"
   },
   {
    "duration": 0,
    "start_time": "2024-04-22T17:45:47.176Z"
   },
   {
    "duration": 0,
    "start_time": "2024-04-22T17:45:47.177Z"
   },
   {
    "duration": 0,
    "start_time": "2024-04-22T17:45:47.177Z"
   },
   {
    "duration": 0,
    "start_time": "2024-04-22T17:45:47.179Z"
   },
   {
    "duration": 0,
    "start_time": "2024-04-22T17:45:47.180Z"
   },
   {
    "duration": 0,
    "start_time": "2024-04-22T17:45:47.181Z"
   },
   {
    "duration": 0,
    "start_time": "2024-04-22T17:45:47.182Z"
   },
   {
    "duration": 0,
    "start_time": "2024-04-22T17:45:47.184Z"
   },
   {
    "duration": 0,
    "start_time": "2024-04-22T17:45:47.185Z"
   },
   {
    "duration": 0,
    "start_time": "2024-04-22T17:45:47.186Z"
   },
   {
    "duration": 0,
    "start_time": "2024-04-22T17:45:47.187Z"
   },
   {
    "duration": 0,
    "start_time": "2024-04-22T17:45:47.189Z"
   },
   {
    "duration": 0,
    "start_time": "2024-04-22T17:45:47.190Z"
   },
   {
    "duration": 0,
    "start_time": "2024-04-22T17:45:47.191Z"
   },
   {
    "duration": 0,
    "start_time": "2024-04-22T17:45:47.192Z"
   },
   {
    "duration": 0,
    "start_time": "2024-04-22T17:45:47.193Z"
   },
   {
    "duration": 0,
    "start_time": "2024-04-22T17:45:47.194Z"
   },
   {
    "duration": 38,
    "start_time": "2024-04-22T17:46:24.472Z"
   },
   {
    "duration": 818,
    "start_time": "2024-04-22T17:47:55.547Z"
   },
   {
    "duration": 1722,
    "start_time": "2024-04-22T17:49:01.766Z"
   },
   {
    "duration": 4,
    "start_time": "2024-04-22T17:49:03.490Z"
   },
   {
    "duration": 57,
    "start_time": "2024-04-22T17:49:03.496Z"
   },
   {
    "duration": 37,
    "start_time": "2024-04-22T17:49:03.555Z"
   },
   {
    "duration": 14,
    "start_time": "2024-04-22T17:49:03.594Z"
   },
   {
    "duration": 7,
    "start_time": "2024-04-22T17:49:03.610Z"
   },
   {
    "duration": 1022,
    "start_time": "2024-04-22T17:49:03.619Z"
   },
   {
    "duration": 3,
    "start_time": "2024-04-22T17:49:04.643Z"
   },
   {
    "duration": 40,
    "start_time": "2024-04-22T17:49:04.647Z"
   },
   {
    "duration": 69,
    "start_time": "2024-04-22T17:49:04.689Z"
   },
   {
    "duration": 28,
    "start_time": "2024-04-22T17:49:04.760Z"
   },
   {
    "duration": 1663,
    "start_time": "2024-04-22T17:49:04.790Z"
   },
   {
    "duration": 0,
    "start_time": "2024-04-22T17:49:06.455Z"
   },
   {
    "duration": 0,
    "start_time": "2024-04-22T17:49:06.457Z"
   },
   {
    "duration": 0,
    "start_time": "2024-04-22T17:49:06.458Z"
   },
   {
    "duration": 0,
    "start_time": "2024-04-22T17:49:06.459Z"
   },
   {
    "duration": 0,
    "start_time": "2024-04-22T17:49:06.460Z"
   },
   {
    "duration": 0,
    "start_time": "2024-04-22T17:49:06.462Z"
   },
   {
    "duration": 0,
    "start_time": "2024-04-22T17:49:06.462Z"
   },
   {
    "duration": 0,
    "start_time": "2024-04-22T17:49:06.464Z"
   },
   {
    "duration": 0,
    "start_time": "2024-04-22T17:49:06.465Z"
   },
   {
    "duration": 0,
    "start_time": "2024-04-22T17:49:06.466Z"
   },
   {
    "duration": 0,
    "start_time": "2024-04-22T17:49:06.468Z"
   },
   {
    "duration": 0,
    "start_time": "2024-04-22T17:49:06.470Z"
   },
   {
    "duration": 0,
    "start_time": "2024-04-22T17:49:06.471Z"
   },
   {
    "duration": 0,
    "start_time": "2024-04-22T17:49:06.473Z"
   },
   {
    "duration": 0,
    "start_time": "2024-04-22T17:49:06.474Z"
   },
   {
    "duration": 0,
    "start_time": "2024-04-22T17:49:06.477Z"
   },
   {
    "duration": 0,
    "start_time": "2024-04-22T17:49:06.479Z"
   },
   {
    "duration": 3,
    "start_time": "2024-04-22T17:49:25.975Z"
   },
   {
    "duration": 121,
    "start_time": "2024-04-22T17:53:25.754Z"
   },
   {
    "duration": 200,
    "start_time": "2024-04-22T17:53:51.337Z"
   },
   {
    "duration": 1275,
    "start_time": "2024-04-22T17:55:47.792Z"
   },
   {
    "duration": 43,
    "start_time": "2024-04-22T17:56:26.496Z"
   },
   {
    "duration": 12,
    "start_time": "2024-04-22T18:00:07.616Z"
   },
   {
    "duration": 13,
    "start_time": "2024-04-22T18:00:37.726Z"
   },
   {
    "duration": 31,
    "start_time": "2024-04-22T18:01:29.269Z"
   },
   {
    "duration": 124,
    "start_time": "2024-04-22T18:03:09.370Z"
   },
   {
    "duration": 18,
    "start_time": "2024-04-22T18:06:58.788Z"
   },
   {
    "duration": 29,
    "start_time": "2024-04-22T18:10:09.959Z"
   },
   {
    "duration": 30,
    "start_time": "2024-04-22T18:11:38.128Z"
   },
   {
    "duration": 51,
    "start_time": "2024-04-22T18:12:44.477Z"
   },
   {
    "duration": 40,
    "start_time": "2024-04-22T18:13:23.102Z"
   },
   {
    "duration": 40,
    "start_time": "2024-04-22T18:13:52.904Z"
   },
   {
    "duration": 40,
    "start_time": "2024-04-22T18:14:18.177Z"
   },
   {
    "duration": 46,
    "start_time": "2024-04-22T18:18:43.362Z"
   },
   {
    "duration": 40,
    "start_time": "2024-04-22T18:19:17.378Z"
   },
   {
    "duration": 40,
    "start_time": "2024-04-22T18:19:25.278Z"
   },
   {
    "duration": 46,
    "start_time": "2024-04-22T18:19:33.332Z"
   },
   {
    "duration": 61,
    "start_time": "2024-04-22T18:22:54.463Z"
   },
   {
    "duration": 58,
    "start_time": "2024-04-22T18:24:28.334Z"
   },
   {
    "duration": 57,
    "start_time": "2024-04-22T18:24:53.268Z"
   },
   {
    "duration": 78,
    "start_time": "2024-04-22T18:25:48.543Z"
   },
   {
    "duration": 55,
    "start_time": "2024-04-22T18:25:58.765Z"
   },
   {
    "duration": 56,
    "start_time": "2024-04-22T18:27:31.284Z"
   },
   {
    "duration": 56,
    "start_time": "2024-04-22T18:27:44.613Z"
   },
   {
    "duration": 21,
    "start_time": "2024-04-22T18:29:10.603Z"
   },
   {
    "duration": 6,
    "start_time": "2024-04-22T18:29:32.022Z"
   },
   {
    "duration": 6,
    "start_time": "2024-04-22T18:29:57.439Z"
   },
   {
    "duration": 44,
    "start_time": "2024-04-22T18:30:25.806Z"
   },
   {
    "duration": 1670,
    "start_time": "2024-04-22T18:35:08.932Z"
   },
   {
    "duration": 3,
    "start_time": "2024-04-22T18:35:10.604Z"
   },
   {
    "duration": 82,
    "start_time": "2024-04-22T18:35:10.608Z"
   },
   {
    "duration": 30,
    "start_time": "2024-04-22T18:35:10.692Z"
   },
   {
    "duration": 14,
    "start_time": "2024-04-22T18:35:10.725Z"
   },
   {
    "duration": 3,
    "start_time": "2024-04-22T18:35:10.741Z"
   },
   {
    "duration": 1009,
    "start_time": "2024-04-22T18:35:10.746Z"
   },
   {
    "duration": 46,
    "start_time": "2024-04-22T18:35:11.757Z"
   },
   {
    "duration": 45,
    "start_time": "2024-04-22T18:35:11.805Z"
   },
   {
    "duration": 10,
    "start_time": "2024-04-22T18:35:11.852Z"
   },
   {
    "duration": 18,
    "start_time": "2024-04-22T18:35:11.873Z"
   },
   {
    "duration": 11,
    "start_time": "2024-04-22T18:35:11.893Z"
   },
   {
    "duration": 1137,
    "start_time": "2024-04-22T18:35:11.905Z"
   },
   {
    "duration": 896,
    "start_time": "2024-04-22T18:35:13.046Z"
   },
   {
    "duration": 594,
    "start_time": "2024-04-22T18:35:13.945Z"
   },
   {
    "duration": 141,
    "start_time": "2024-04-22T18:35:14.541Z"
   },
   {
    "duration": 0,
    "start_time": "2024-04-22T18:35:14.684Z"
   },
   {
    "duration": 0,
    "start_time": "2024-04-22T18:35:14.685Z"
   },
   {
    "duration": 0,
    "start_time": "2024-04-22T18:35:14.686Z"
   },
   {
    "duration": 0,
    "start_time": "2024-04-22T18:35:14.687Z"
   },
   {
    "duration": 0,
    "start_time": "2024-04-22T18:35:14.689Z"
   },
   {
    "duration": 0,
    "start_time": "2024-04-22T18:35:14.690Z"
   },
   {
    "duration": 0,
    "start_time": "2024-04-22T18:35:14.691Z"
   },
   {
    "duration": 0,
    "start_time": "2024-04-22T18:35:14.692Z"
   },
   {
    "duration": 1,
    "start_time": "2024-04-22T18:35:14.693Z"
   },
   {
    "duration": 0,
    "start_time": "2024-04-22T18:35:14.695Z"
   },
   {
    "duration": 11,
    "start_time": "2024-04-22T18:35:35.399Z"
   },
   {
    "duration": 1640,
    "start_time": "2024-04-22T18:35:56.329Z"
   },
   {
    "duration": 3,
    "start_time": "2024-04-22T18:35:57.972Z"
   },
   {
    "duration": 49,
    "start_time": "2024-04-22T18:35:57.976Z"
   },
   {
    "duration": 27,
    "start_time": "2024-04-22T18:35:58.027Z"
   },
   {
    "duration": 12,
    "start_time": "2024-04-22T18:35:58.057Z"
   },
   {
    "duration": 3,
    "start_time": "2024-04-22T18:35:58.071Z"
   },
   {
    "duration": 969,
    "start_time": "2024-04-22T18:35:58.076Z"
   },
   {
    "duration": 46,
    "start_time": "2024-04-22T18:35:59.047Z"
   },
   {
    "duration": 41,
    "start_time": "2024-04-22T18:35:59.095Z"
   },
   {
    "duration": 13,
    "start_time": "2024-04-22T18:35:59.138Z"
   },
   {
    "duration": 22,
    "start_time": "2024-04-22T18:35:59.174Z"
   },
   {
    "duration": 12,
    "start_time": "2024-04-22T18:35:59.198Z"
   },
   {
    "duration": 1119,
    "start_time": "2024-04-22T18:35:59.212Z"
   },
   {
    "duration": 900,
    "start_time": "2024-04-22T18:36:00.334Z"
   },
   {
    "duration": 570,
    "start_time": "2024-04-22T18:36:01.236Z"
   },
   {
    "duration": 1083,
    "start_time": "2024-04-22T18:36:01.808Z"
   },
   {
    "duration": 1227,
    "start_time": "2024-04-22T18:36:02.893Z"
   },
   {
    "duration": 861,
    "start_time": "2024-04-22T18:36:04.122Z"
   },
   {
    "duration": 5577,
    "start_time": "2024-04-22T18:36:04.985Z"
   },
   {
    "duration": 1855,
    "start_time": "2024-04-22T18:36:10.564Z"
   },
   {
    "duration": 658,
    "start_time": "2024-04-22T18:36:12.421Z"
   },
   {
    "duration": 31,
    "start_time": "2024-04-22T18:36:13.080Z"
   },
   {
    "duration": 10,
    "start_time": "2024-04-22T18:36:13.113Z"
   },
   {
    "duration": 15,
    "start_time": "2024-04-22T18:36:13.125Z"
   },
   {
    "duration": 42,
    "start_time": "2024-04-22T18:36:13.142Z"
   },
   {
    "duration": 1010,
    "start_time": "2024-04-22T18:44:31.020Z"
   },
   {
    "duration": 130,
    "start_time": "2024-04-22T19:08:30.808Z"
   },
   {
    "duration": 14,
    "start_time": "2024-04-22T19:08:48.784Z"
   },
   {
    "duration": 13,
    "start_time": "2024-04-22T19:08:58.761Z"
   },
   {
    "duration": 11,
    "start_time": "2024-04-22T19:11:03.105Z"
   },
   {
    "duration": 10,
    "start_time": "2024-04-22T19:12:08.987Z"
   },
   {
    "duration": 10,
    "start_time": "2024-04-22T19:12:17.036Z"
   },
   {
    "duration": 9,
    "start_time": "2024-04-22T19:12:43.983Z"
   },
   {
    "duration": 9,
    "start_time": "2024-04-22T19:12:50.724Z"
   },
   {
    "duration": 1350,
    "start_time": "2024-04-22T19:16:25.770Z"
   },
   {
    "duration": 1462,
    "start_time": "2024-04-22T19:16:55.770Z"
   },
   {
    "duration": 15,
    "start_time": "2024-04-22T19:17:04.393Z"
   },
   {
    "duration": 1661,
    "start_time": "2024-04-22T19:18:09.017Z"
   },
   {
    "duration": 3,
    "start_time": "2024-04-22T19:18:10.680Z"
   },
   {
    "duration": 46,
    "start_time": "2024-04-22T19:18:10.684Z"
   },
   {
    "duration": 27,
    "start_time": "2024-04-22T19:18:10.733Z"
   },
   {
    "duration": 13,
    "start_time": "2024-04-22T19:18:10.761Z"
   },
   {
    "duration": 18,
    "start_time": "2024-04-22T19:18:10.776Z"
   },
   {
    "duration": 973,
    "start_time": "2024-04-22T19:18:10.796Z"
   },
   {
    "duration": 36,
    "start_time": "2024-04-22T19:18:11.773Z"
   },
   {
    "duration": 40,
    "start_time": "2024-04-22T19:18:11.811Z"
   },
   {
    "duration": 10,
    "start_time": "2024-04-22T19:18:11.872Z"
   },
   {
    "duration": 20,
    "start_time": "2024-04-22T19:18:11.884Z"
   },
   {
    "duration": 9,
    "start_time": "2024-04-22T19:18:11.906Z"
   },
   {
    "duration": 1115,
    "start_time": "2024-04-22T19:18:11.917Z"
   },
   {
    "duration": 779,
    "start_time": "2024-04-22T19:18:13.033Z"
   },
   {
    "duration": 578,
    "start_time": "2024-04-22T19:18:13.813Z"
   },
   {
    "duration": 1080,
    "start_time": "2024-04-22T19:18:14.393Z"
   },
   {
    "duration": 1195,
    "start_time": "2024-04-22T19:18:15.474Z"
   },
   {
    "duration": 883,
    "start_time": "2024-04-22T19:18:16.673Z"
   },
   {
    "duration": 5575,
    "start_time": "2024-04-22T19:18:17.558Z"
   },
   {
    "duration": 1847,
    "start_time": "2024-04-22T19:18:23.135Z"
   },
   {
    "duration": 597,
    "start_time": "2024-04-22T19:18:24.984Z"
   },
   {
    "duration": 31,
    "start_time": "2024-04-22T19:18:25.583Z"
   },
   {
    "duration": 9,
    "start_time": "2024-04-22T19:18:25.616Z"
   },
   {
    "duration": 47,
    "start_time": "2024-04-22T19:18:25.627Z"
   },
   {
    "duration": 17,
    "start_time": "2024-04-22T19:18:25.676Z"
   },
   {
    "duration": 15,
    "start_time": "2024-04-22T19:18:25.695Z"
   },
   {
    "duration": 15,
    "start_time": "2024-04-22T19:18:25.711Z"
   },
   {
    "duration": 31,
    "start_time": "2024-04-22T19:18:25.729Z"
   },
   {
    "duration": 51,
    "start_time": "2024-04-23T09:20:42.940Z"
   },
   {
    "duration": 1952,
    "start_time": "2024-04-23T09:20:49.347Z"
   },
   {
    "duration": 3,
    "start_time": "2024-04-23T09:20:51.302Z"
   },
   {
    "duration": 99,
    "start_time": "2024-04-23T09:20:51.306Z"
   },
   {
    "duration": 28,
    "start_time": "2024-04-23T09:20:51.407Z"
   },
   {
    "duration": 17,
    "start_time": "2024-04-23T09:20:51.437Z"
   },
   {
    "duration": 8,
    "start_time": "2024-04-23T09:20:51.456Z"
   },
   {
    "duration": 995,
    "start_time": "2024-04-23T09:20:51.466Z"
   },
   {
    "duration": 38,
    "start_time": "2024-04-23T09:20:52.462Z"
   },
   {
    "duration": 62,
    "start_time": "2024-04-23T09:20:52.501Z"
   },
   {
    "duration": 12,
    "start_time": "2024-04-23T09:20:52.565Z"
   },
   {
    "duration": 26,
    "start_time": "2024-04-23T09:20:52.579Z"
   },
   {
    "duration": 15,
    "start_time": "2024-04-23T09:20:52.607Z"
   },
   {
    "duration": 1112,
    "start_time": "2024-04-23T09:20:52.624Z"
   },
   {
    "duration": 755,
    "start_time": "2024-04-23T09:20:53.738Z"
   },
   {
    "duration": 577,
    "start_time": "2024-04-23T09:20:54.495Z"
   },
   {
    "duration": 1073,
    "start_time": "2024-04-23T09:20:55.074Z"
   },
   {
    "duration": 1185,
    "start_time": "2024-04-23T09:20:56.149Z"
   },
   {
    "duration": 854,
    "start_time": "2024-04-23T09:20:57.336Z"
   },
   {
    "duration": 5477,
    "start_time": "2024-04-23T09:20:58.192Z"
   },
   {
    "duration": 1816,
    "start_time": "2024-04-23T09:21:03.670Z"
   },
   {
    "duration": 722,
    "start_time": "2024-04-23T09:21:05.487Z"
   },
   {
    "duration": 33,
    "start_time": "2024-04-23T09:21:06.211Z"
   },
   {
    "duration": 21,
    "start_time": "2024-04-23T09:21:06.246Z"
   },
   {
    "duration": 23,
    "start_time": "2024-04-23T09:21:06.269Z"
   },
   {
    "duration": 14,
    "start_time": "2024-04-23T09:21:06.294Z"
   },
   {
    "duration": 33,
    "start_time": "2024-04-23T09:21:06.310Z"
   },
   {
    "duration": 19,
    "start_time": "2024-04-23T09:21:06.346Z"
   },
   {
    "duration": 18,
    "start_time": "2024-04-23T09:21:06.367Z"
   },
   {
    "duration": 10,
    "start_time": "2024-04-23T09:21:06.387Z"
   },
   {
    "duration": 10,
    "start_time": "2024-04-23T09:21:17.191Z"
   },
   {
    "duration": 123,
    "start_time": "2024-04-23T09:22:07.743Z"
   },
   {
    "duration": 10,
    "start_time": "2024-04-23T09:22:16.815Z"
   },
   {
    "duration": 1652,
    "start_time": "2024-04-23T09:24:50.616Z"
   },
   {
    "duration": 4,
    "start_time": "2024-04-23T09:24:52.270Z"
   },
   {
    "duration": 70,
    "start_time": "2024-04-23T09:24:52.276Z"
   },
   {
    "duration": 29,
    "start_time": "2024-04-23T09:24:52.347Z"
   },
   {
    "duration": 15,
    "start_time": "2024-04-23T09:24:52.379Z"
   },
   {
    "duration": 19,
    "start_time": "2024-04-23T09:24:52.395Z"
   },
   {
    "duration": 977,
    "start_time": "2024-04-23T09:24:52.416Z"
   },
   {
    "duration": 42,
    "start_time": "2024-04-23T09:24:53.396Z"
   },
   {
    "duration": 57,
    "start_time": "2024-04-23T09:24:53.439Z"
   },
   {
    "duration": 21,
    "start_time": "2024-04-23T09:24:53.498Z"
   },
   {
    "duration": 30,
    "start_time": "2024-04-23T09:24:53.521Z"
   },
   {
    "duration": 41,
    "start_time": "2024-04-23T09:24:53.552Z"
   },
   {
    "duration": 44,
    "start_time": "2024-04-23T09:24:53.594Z"
   },
   {
    "duration": 1042,
    "start_time": "2024-04-23T09:24:53.641Z"
   },
   {
    "duration": 789,
    "start_time": "2024-04-23T09:24:54.685Z"
   },
   {
    "duration": 553,
    "start_time": "2024-04-23T09:24:55.476Z"
   },
   {
    "duration": 1045,
    "start_time": "2024-04-23T09:24:56.031Z"
   },
   {
    "duration": 1193,
    "start_time": "2024-04-23T09:24:57.078Z"
   },
   {
    "duration": 865,
    "start_time": "2024-04-23T09:24:58.272Z"
   },
   {
    "duration": 5469,
    "start_time": "2024-04-23T09:24:59.139Z"
   },
   {
    "duration": 1812,
    "start_time": "2024-04-23T09:25:04.610Z"
   },
   {
    "duration": 636,
    "start_time": "2024-04-23T09:25:06.424Z"
   },
   {
    "duration": 32,
    "start_time": "2024-04-23T09:25:07.062Z"
   },
   {
    "duration": 20,
    "start_time": "2024-04-23T09:25:07.096Z"
   },
   {
    "duration": 38,
    "start_time": "2024-04-23T09:25:07.118Z"
   },
   {
    "duration": 18,
    "start_time": "2024-04-23T09:25:07.158Z"
   },
   {
    "duration": 27,
    "start_time": "2024-04-23T09:25:07.178Z"
   },
   {
    "duration": 30,
    "start_time": "2024-04-23T09:25:07.207Z"
   },
   {
    "duration": 42,
    "start_time": "2024-04-23T09:25:07.239Z"
   },
   {
    "duration": 19,
    "start_time": "2024-04-23T09:25:07.282Z"
   },
   {
    "duration": 7,
    "start_time": "2024-04-23T09:27:22.026Z"
   },
   {
    "duration": 121,
    "start_time": "2024-04-23T09:30:44.005Z"
   },
   {
    "duration": 9,
    "start_time": "2024-04-23T09:31:01.042Z"
   },
   {
    "duration": 126,
    "start_time": "2024-04-23T09:32:27.266Z"
   },
   {
    "duration": 10,
    "start_time": "2024-04-23T09:33:16.985Z"
   },
   {
    "duration": 8,
    "start_time": "2024-04-23T09:33:26.666Z"
   },
   {
    "duration": 9,
    "start_time": "2024-04-23T09:34:00.426Z"
   },
   {
    "duration": 13,
    "start_time": "2024-04-23T09:38:12.905Z"
   },
   {
    "duration": 9,
    "start_time": "2024-04-23T09:38:23.085Z"
   },
   {
    "duration": 10,
    "start_time": "2024-04-23T09:38:52.391Z"
   },
   {
    "duration": 8,
    "start_time": "2024-04-23T09:40:56.388Z"
   },
   {
    "duration": 10,
    "start_time": "2024-04-23T09:41:01.065Z"
   },
   {
    "duration": 9,
    "start_time": "2024-04-23T09:42:11.685Z"
   },
   {
    "duration": 24,
    "start_time": "2024-04-23T09:44:26.441Z"
   },
   {
    "duration": 9,
    "start_time": "2024-04-23T09:44:43.999Z"
   },
   {
    "duration": 9,
    "start_time": "2024-04-23T09:45:00.442Z"
   },
   {
    "duration": 9,
    "start_time": "2024-04-23T09:45:17.137Z"
   },
   {
    "duration": 11,
    "start_time": "2024-04-23T09:49:10.816Z"
   },
   {
    "duration": 2732,
    "start_time": "2024-04-23T09:49:18.677Z"
   },
   {
    "duration": 9,
    "start_time": "2024-04-23T09:49:37.796Z"
   },
   {
    "duration": 146,
    "start_time": "2024-04-23T10:48:39.090Z"
   },
   {
    "duration": 128,
    "start_time": "2024-04-23T10:50:23.230Z"
   },
   {
    "duration": 696,
    "start_time": "2024-04-23T10:51:55.266Z"
   },
   {
    "duration": 299,
    "start_time": "2024-04-23T10:52:02.038Z"
   },
   {
    "duration": 556,
    "start_time": "2024-04-23T10:53:55.162Z"
   },
   {
    "duration": 566,
    "start_time": "2024-04-23T10:54:41.652Z"
   },
   {
    "duration": 550,
    "start_time": "2024-04-23T10:54:46.764Z"
   },
   {
    "duration": 677,
    "start_time": "2024-04-23T10:56:04.524Z"
   },
   {
    "duration": 547,
    "start_time": "2024-04-23T10:57:59.044Z"
   },
   {
    "duration": 569,
    "start_time": "2024-04-23T10:58:04.852Z"
   },
   {
    "duration": 29,
    "start_time": "2024-04-23T10:58:28.403Z"
   },
   {
    "duration": 538,
    "start_time": "2024-04-23T10:58:35.523Z"
   },
   {
    "duration": 556,
    "start_time": "2024-04-23T10:58:42.724Z"
   },
   {
    "duration": 664,
    "start_time": "2024-04-23T10:59:11.271Z"
   },
   {
    "duration": 546,
    "start_time": "2024-04-23T10:59:26.824Z"
   },
   {
    "duration": 139,
    "start_time": "2024-04-23T11:00:49.184Z"
   },
   {
    "duration": 130,
    "start_time": "2024-04-23T11:01:08.703Z"
   },
   {
    "duration": 561,
    "start_time": "2024-04-23T11:01:30.643Z"
   },
   {
    "duration": 739,
    "start_time": "2024-04-23T11:02:04.784Z"
   },
   {
    "duration": 42,
    "start_time": "2024-04-23T11:09:59.231Z"
   },
   {
    "duration": 38,
    "start_time": "2024-04-23T11:10:09.829Z"
   },
   {
    "duration": 39,
    "start_time": "2024-04-23T11:11:12.329Z"
   },
   {
    "duration": 16,
    "start_time": "2024-04-23T11:14:49.595Z"
   },
   {
    "duration": 42,
    "start_time": "2024-04-23T11:15:02.909Z"
   },
   {
    "duration": 151,
    "start_time": "2024-04-23T11:18:30.581Z"
   },
   {
    "duration": 38,
    "start_time": "2024-04-23T11:23:58.304Z"
   },
   {
    "duration": 39,
    "start_time": "2024-04-23T11:26:20.435Z"
   },
   {
    "duration": 44,
    "start_time": "2024-04-23T11:26:49.177Z"
   },
   {
    "duration": 9,
    "start_time": "2024-04-23T11:33:03.817Z"
   },
   {
    "duration": 10,
    "start_time": "2024-04-23T11:33:33.833Z"
   },
   {
    "duration": 9,
    "start_time": "2024-04-23T11:34:07.881Z"
   },
   {
    "duration": 12,
    "start_time": "2024-04-23T11:34:15.422Z"
   },
   {
    "duration": 8,
    "start_time": "2024-04-23T11:34:37.277Z"
   },
   {
    "duration": 927,
    "start_time": "2024-04-23T11:52:20.569Z"
   },
   {
    "duration": 984,
    "start_time": "2024-04-23T11:52:51.099Z"
   },
   {
    "duration": 954,
    "start_time": "2024-04-23T11:52:58.769Z"
   },
   {
    "duration": 943,
    "start_time": "2024-04-23T12:01:18.643Z"
   },
   {
    "duration": 1044,
    "start_time": "2024-04-23T12:02:25.799Z"
   },
   {
    "duration": 1376,
    "start_time": "2024-04-23T12:03:01.573Z"
   },
   {
    "duration": 184,
    "start_time": "2024-04-23T12:03:57.757Z"
   },
   {
    "duration": 927,
    "start_time": "2024-04-23T12:04:13.216Z"
   },
   {
    "duration": 1071,
    "start_time": "2024-04-23T12:04:32.326Z"
   },
   {
    "duration": 1604,
    "start_time": "2024-04-23T12:09:08.897Z"
   },
   {
    "duration": 12,
    "start_time": "2024-04-23T12:09:19.817Z"
   },
   {
    "duration": 20,
    "start_time": "2024-04-23T12:09:33.028Z"
   },
   {
    "duration": 8,
    "start_time": "2024-04-23T12:09:53.863Z"
   },
   {
    "duration": 8,
    "start_time": "2024-04-23T12:10:03.804Z"
   },
   {
    "duration": 7,
    "start_time": "2024-04-23T12:10:06.443Z"
   },
   {
    "duration": 9,
    "start_time": "2024-04-23T12:10:08.856Z"
   },
   {
    "duration": 9,
    "start_time": "2024-04-23T12:10:11.032Z"
   },
   {
    "duration": 8,
    "start_time": "2024-04-23T12:10:13.709Z"
   },
   {
    "duration": 8,
    "start_time": "2024-04-23T12:10:16.027Z"
   },
   {
    "duration": 6,
    "start_time": "2024-04-23T12:10:18.645Z"
   },
   {
    "duration": 850,
    "start_time": "2024-04-23T12:13:57.113Z"
   },
   {
    "duration": 699,
    "start_time": "2024-04-23T12:48:08.321Z"
   },
   {
    "duration": 352,
    "start_time": "2024-04-23T12:49:43.894Z"
   },
   {
    "duration": 438,
    "start_time": "2024-04-23T12:50:18.214Z"
   },
   {
    "duration": 610,
    "start_time": "2024-04-23T12:50:40.096Z"
   },
   {
    "duration": 614,
    "start_time": "2024-04-23T12:50:45.454Z"
   },
   {
    "duration": 15,
    "start_time": "2024-04-23T13:25:41.861Z"
   },
   {
    "duration": 1678,
    "start_time": "2024-04-23T13:25:54.397Z"
   },
   {
    "duration": 3,
    "start_time": "2024-04-23T13:25:56.077Z"
   },
   {
    "duration": 46,
    "start_time": "2024-04-23T13:25:56.081Z"
   },
   {
    "duration": 28,
    "start_time": "2024-04-23T13:25:56.128Z"
   },
   {
    "duration": 13,
    "start_time": "2024-04-23T13:25:56.158Z"
   },
   {
    "duration": 3,
    "start_time": "2024-04-23T13:25:56.172Z"
   },
   {
    "duration": 1046,
    "start_time": "2024-04-23T13:25:56.177Z"
   },
   {
    "duration": 46,
    "start_time": "2024-04-23T13:25:57.225Z"
   },
   {
    "duration": 42,
    "start_time": "2024-04-23T13:25:57.272Z"
   },
   {
    "duration": 4,
    "start_time": "2024-04-23T13:25:57.315Z"
   },
   {
    "duration": 17,
    "start_time": "2024-04-23T13:25:57.321Z"
   },
   {
    "duration": 16,
    "start_time": "2024-04-23T13:25:57.359Z"
   },
   {
    "duration": 10,
    "start_time": "2024-04-23T13:25:57.376Z"
   },
   {
    "duration": 1108,
    "start_time": "2024-04-23T13:25:57.389Z"
   },
   {
    "duration": 912,
    "start_time": "2024-04-23T13:25:58.499Z"
   },
   {
    "duration": 937,
    "start_time": "2024-04-23T13:25:59.413Z"
   },
   {
    "duration": 640,
    "start_time": "2024-04-23T13:26:00.351Z"
   },
   {
    "duration": 133,
    "start_time": "2024-04-23T13:26:00.993Z"
   },
   {
    "duration": 0,
    "start_time": "2024-04-23T13:26:01.128Z"
   },
   {
    "duration": 0,
    "start_time": "2024-04-23T13:26:01.130Z"
   },
   {
    "duration": 0,
    "start_time": "2024-04-23T13:26:01.133Z"
   },
   {
    "duration": 0,
    "start_time": "2024-04-23T13:26:01.134Z"
   },
   {
    "duration": 0,
    "start_time": "2024-04-23T13:26:01.135Z"
   },
   {
    "duration": 0,
    "start_time": "2024-04-23T13:26:01.136Z"
   },
   {
    "duration": 0,
    "start_time": "2024-04-23T13:26:01.137Z"
   },
   {
    "duration": 0,
    "start_time": "2024-04-23T13:26:01.160Z"
   },
   {
    "duration": 0,
    "start_time": "2024-04-23T13:26:01.161Z"
   },
   {
    "duration": 0,
    "start_time": "2024-04-23T13:26:01.163Z"
   },
   {
    "duration": 0,
    "start_time": "2024-04-23T13:26:01.164Z"
   },
   {
    "duration": 0,
    "start_time": "2024-04-23T13:26:01.165Z"
   },
   {
    "duration": 3858,
    "start_time": "2024-04-23T13:27:39.689Z"
   },
   {
    "duration": 4491,
    "start_time": "2024-04-23T13:27:48.889Z"
   },
   {
    "duration": 222,
    "start_time": "2024-04-23T13:38:46.283Z"
   },
   {
    "duration": 11,
    "start_time": "2024-04-23T13:39:32.655Z"
   },
   {
    "duration": 5,
    "start_time": "2024-04-23T13:40:41.409Z"
   },
   {
    "duration": 5,
    "start_time": "2024-04-23T13:41:18.114Z"
   },
   {
    "duration": 5223,
    "start_time": "2024-04-24T07:15:17.916Z"
   },
   {
    "duration": 2,
    "start_time": "2024-04-24T07:15:23.141Z"
   },
   {
    "duration": 116,
    "start_time": "2024-04-24T07:15:23.144Z"
   },
   {
    "duration": 20,
    "start_time": "2024-04-24T07:15:23.261Z"
   },
   {
    "duration": 43,
    "start_time": "2024-04-24T07:15:23.282Z"
   },
   {
    "duration": 11,
    "start_time": "2024-04-24T07:15:23.326Z"
   },
   {
    "duration": 922,
    "start_time": "2024-04-24T07:15:23.338Z"
   },
   {
    "duration": 45,
    "start_time": "2024-04-24T07:15:24.262Z"
   },
   {
    "duration": 35,
    "start_time": "2024-04-24T07:15:24.309Z"
   },
   {
    "duration": 17,
    "start_time": "2024-04-24T07:15:24.345Z"
   },
   {
    "duration": 33,
    "start_time": "2024-04-24T07:15:24.364Z"
   },
   {
    "duration": 27,
    "start_time": "2024-04-24T07:15:24.398Z"
   },
   {
    "duration": 8,
    "start_time": "2024-04-24T07:15:24.427Z"
   },
   {
    "duration": 869,
    "start_time": "2024-04-24T07:15:24.437Z"
   },
   {
    "duration": 856,
    "start_time": "2024-04-24T07:15:25.308Z"
   },
   {
    "duration": 747,
    "start_time": "2024-04-24T07:15:26.165Z"
   },
   {
    "duration": 566,
    "start_time": "2024-04-24T07:15:26.913Z"
   },
   {
    "duration": 1332,
    "start_time": "2024-04-24T07:15:27.481Z"
   },
   {
    "duration": 25,
    "start_time": "2024-04-24T07:15:28.814Z"
   },
   {
    "duration": 33,
    "start_time": "2024-04-24T07:15:28.840Z"
   },
   {
    "duration": 43,
    "start_time": "2024-04-24T07:15:28.874Z"
   },
   {
    "duration": 12,
    "start_time": "2024-04-24T07:15:28.918Z"
   },
   {
    "duration": 7,
    "start_time": "2024-04-24T07:15:28.932Z"
   },
   {
    "duration": 19,
    "start_time": "2024-04-24T07:15:28.940Z"
   },
   {
    "duration": 8,
    "start_time": "2024-04-24T07:15:28.961Z"
   },
   {
    "duration": 10,
    "start_time": "2024-04-24T07:15:28.971Z"
   },
   {
    "duration": 8,
    "start_time": "2024-04-24T07:15:28.988Z"
   },
   {
    "duration": 29,
    "start_time": "2024-04-24T07:15:28.999Z"
   },
   {
    "duration": 7,
    "start_time": "2024-04-24T07:15:29.029Z"
   },
   {
    "duration": 7,
    "start_time": "2024-04-24T07:15:29.037Z"
   },
   {
    "duration": 8,
    "start_time": "2024-04-24T07:15:29.045Z"
   },
   {
    "duration": 8,
    "start_time": "2024-04-24T07:15:29.054Z"
   },
   {
    "duration": 1430,
    "start_time": "2024-04-24T07:16:56.406Z"
   },
   {
    "duration": 39,
    "start_time": "2024-04-24T07:19:41.206Z"
   },
   {
    "duration": 28,
    "start_time": "2024-04-24T07:19:49.322Z"
   },
   {
    "duration": 5028,
    "start_time": "2024-04-24T07:20:04.284Z"
   },
   {
    "duration": 3,
    "start_time": "2024-04-24T07:20:09.314Z"
   },
   {
    "duration": 52,
    "start_time": "2024-04-24T07:20:09.318Z"
   },
   {
    "duration": 38,
    "start_time": "2024-04-24T07:20:09.371Z"
   },
   {
    "duration": 11,
    "start_time": "2024-04-24T07:20:09.411Z"
   },
   {
    "duration": 33,
    "start_time": "2024-04-24T07:20:09.423Z"
   },
   {
    "duration": 952,
    "start_time": "2024-04-24T07:20:09.458Z"
   },
   {
    "duration": 94,
    "start_time": "2024-04-24T07:20:10.412Z"
   },
   {
    "duration": 41,
    "start_time": "2024-04-24T07:20:10.508Z"
   },
   {
    "duration": 4,
    "start_time": "2024-04-24T07:20:10.551Z"
   },
   {
    "duration": 14,
    "start_time": "2024-04-24T07:20:10.556Z"
   },
   {
    "duration": 15,
    "start_time": "2024-04-24T07:20:10.572Z"
   },
   {
    "duration": 16,
    "start_time": "2024-04-24T07:20:10.588Z"
   },
   {
    "duration": 1055,
    "start_time": "2024-04-24T07:20:10.607Z"
   },
   {
    "duration": 916,
    "start_time": "2024-04-24T07:20:11.663Z"
   },
   {
    "duration": 842,
    "start_time": "2024-04-24T07:20:12.580Z"
   },
   {
    "duration": 535,
    "start_time": "2024-04-24T07:20:13.424Z"
   },
   {
    "duration": 1663,
    "start_time": "2024-04-24T07:20:13.961Z"
   },
   {
    "duration": 28,
    "start_time": "2024-04-24T07:20:15.626Z"
   },
   {
    "duration": 8,
    "start_time": "2024-04-24T07:20:15.656Z"
   },
   {
    "duration": 25,
    "start_time": "2024-04-24T07:20:15.685Z"
   },
   {
    "duration": 22,
    "start_time": "2024-04-24T07:20:15.711Z"
   },
   {
    "duration": 21,
    "start_time": "2024-04-24T07:20:15.735Z"
   },
   {
    "duration": 40,
    "start_time": "2024-04-24T07:20:15.757Z"
   },
   {
    "duration": 30,
    "start_time": "2024-04-24T07:20:15.799Z"
   },
   {
    "duration": 47,
    "start_time": "2024-04-24T07:20:15.830Z"
   },
   {
    "duration": 17,
    "start_time": "2024-04-24T07:20:15.879Z"
   },
   {
    "duration": 13,
    "start_time": "2024-04-24T07:20:15.899Z"
   },
   {
    "duration": 27,
    "start_time": "2024-04-24T07:20:15.914Z"
   },
   {
    "duration": 23,
    "start_time": "2024-04-24T07:20:15.943Z"
   },
   {
    "duration": 38,
    "start_time": "2024-04-24T07:20:15.967Z"
   },
   {
    "duration": 28,
    "start_time": "2024-04-24T07:20:16.007Z"
   },
   {
    "duration": 27,
    "start_time": "2024-04-24T07:20:56.000Z"
   },
   {
    "duration": 884,
    "start_time": "2024-04-24T07:28:21.531Z"
   },
   {
    "duration": 28,
    "start_time": "2024-04-24T07:34:33.083Z"
   },
   {
    "duration": 26,
    "start_time": "2024-04-24T07:34:41.612Z"
   },
   {
    "duration": 4076,
    "start_time": "2024-04-24T07:34:53.730Z"
   },
   {
    "duration": 2,
    "start_time": "2024-04-24T07:34:57.808Z"
   },
   {
    "duration": 72,
    "start_time": "2024-04-24T07:34:57.811Z"
   },
   {
    "duration": 27,
    "start_time": "2024-04-24T07:34:57.884Z"
   },
   {
    "duration": 12,
    "start_time": "2024-04-24T07:34:57.913Z"
   },
   {
    "duration": 9,
    "start_time": "2024-04-24T07:34:57.927Z"
   },
   {
    "duration": 847,
    "start_time": "2024-04-24T07:34:57.937Z"
   },
   {
    "duration": 102,
    "start_time": "2024-04-24T07:34:58.798Z"
   },
   {
    "duration": 37,
    "start_time": "2024-04-24T07:34:58.902Z"
   },
   {
    "duration": 4,
    "start_time": "2024-04-24T07:34:58.941Z"
   },
   {
    "duration": 17,
    "start_time": "2024-04-24T07:34:58.946Z"
   },
   {
    "duration": 40,
    "start_time": "2024-04-24T07:34:58.965Z"
   },
   {
    "duration": 34,
    "start_time": "2024-04-24T07:34:59.006Z"
   },
   {
    "duration": 897,
    "start_time": "2024-04-24T07:34:59.042Z"
   },
   {
    "duration": 821,
    "start_time": "2024-04-24T07:34:59.940Z"
   },
   {
    "duration": 899,
    "start_time": "2024-04-24T07:35:00.763Z"
   },
   {
    "duration": 561,
    "start_time": "2024-04-24T07:35:01.664Z"
   },
   {
    "duration": 1527,
    "start_time": "2024-04-24T07:35:02.227Z"
   },
   {
    "duration": 36,
    "start_time": "2024-04-24T07:35:03.756Z"
   },
   {
    "duration": 10,
    "start_time": "2024-04-24T07:35:03.797Z"
   },
   {
    "duration": 23,
    "start_time": "2024-04-24T07:35:03.808Z"
   },
   {
    "duration": 11,
    "start_time": "2024-04-24T07:35:03.832Z"
   },
   {
    "duration": 9,
    "start_time": "2024-04-24T07:35:03.844Z"
   },
   {
    "duration": 45,
    "start_time": "2024-04-24T07:35:03.854Z"
   },
   {
    "duration": 10,
    "start_time": "2024-04-24T07:35:03.901Z"
   },
   {
    "duration": 10,
    "start_time": "2024-04-24T07:35:03.912Z"
   },
   {
    "duration": 4,
    "start_time": "2024-04-24T07:35:03.923Z"
   },
   {
    "duration": 22,
    "start_time": "2024-04-24T07:35:03.928Z"
   },
   {
    "duration": 13,
    "start_time": "2024-04-24T07:35:03.952Z"
   },
   {
    "duration": 10,
    "start_time": "2024-04-24T07:35:03.966Z"
   },
   {
    "duration": 23,
    "start_time": "2024-04-24T07:35:03.977Z"
   },
   {
    "duration": 6,
    "start_time": "2024-04-24T07:35:04.001Z"
   },
   {
    "duration": 28,
    "start_time": "2024-04-24T07:35:23.765Z"
   },
   {
    "duration": 111,
    "start_time": "2024-04-24T07:53:44.076Z"
   },
   {
    "duration": 14,
    "start_time": "2024-04-24T07:54:04.702Z"
   },
   {
    "duration": 14,
    "start_time": "2024-04-24T07:54:22.094Z"
   },
   {
    "duration": 16,
    "start_time": "2024-04-24T07:54:35.256Z"
   },
   {
    "duration": 20,
    "start_time": "2024-04-24T07:55:02.282Z"
   },
   {
    "duration": 177,
    "start_time": "2024-04-24T07:56:35.615Z"
   },
   {
    "duration": 17,
    "start_time": "2024-04-24T07:56:54.353Z"
   },
   {
    "duration": 20,
    "start_time": "2024-04-24T07:57:08.187Z"
   },
   {
    "duration": 20,
    "start_time": "2024-04-24T07:57:25.159Z"
   },
   {
    "duration": 18,
    "start_time": "2024-04-24T07:57:35.134Z"
   },
   {
    "duration": 15,
    "start_time": "2024-04-24T07:57:53.012Z"
   },
   {
    "duration": 19,
    "start_time": "2024-04-24T07:58:04.385Z"
   },
   {
    "duration": 21,
    "start_time": "2024-04-24T07:58:15.977Z"
   },
   {
    "duration": 17,
    "start_time": "2024-04-24T07:58:38.331Z"
   },
   {
    "duration": 22,
    "start_time": "2024-04-24T07:58:47.502Z"
   },
   {
    "duration": 22,
    "start_time": "2024-04-24T07:59:50.758Z"
   },
   {
    "duration": 21,
    "start_time": "2024-04-24T08:00:07.831Z"
   },
   {
    "duration": 12,
    "start_time": "2024-04-24T08:01:33.711Z"
   },
   {
    "duration": 15,
    "start_time": "2024-04-24T08:01:43.721Z"
   },
   {
    "duration": 21,
    "start_time": "2024-04-24T08:01:51.035Z"
   },
   {
    "duration": 37,
    "start_time": "2024-04-24T08:02:01.751Z"
   },
   {
    "duration": 36,
    "start_time": "2024-04-24T08:03:15.073Z"
   },
   {
    "duration": 46,
    "start_time": "2024-04-24T08:04:42.492Z"
   },
   {
    "duration": 35,
    "start_time": "2024-04-24T08:05:30.125Z"
   },
   {
    "duration": 35,
    "start_time": "2024-04-24T08:05:40.946Z"
   },
   {
    "duration": 33,
    "start_time": "2024-04-24T08:05:45.586Z"
   },
   {
    "duration": 37,
    "start_time": "2024-04-24T08:05:53.950Z"
   },
   {
    "duration": 93,
    "start_time": "2024-04-24T08:07:11.352Z"
   },
   {
    "duration": 50,
    "start_time": "2024-04-24T08:10:18.086Z"
   },
   {
    "duration": 46,
    "start_time": "2024-04-24T08:11:01.772Z"
   },
   {
    "duration": 44,
    "start_time": "2024-04-24T08:11:25.170Z"
   },
   {
    "duration": 35,
    "start_time": "2024-04-24T08:12:31.173Z"
   },
   {
    "duration": 43,
    "start_time": "2024-04-24T08:12:48.124Z"
   },
   {
    "duration": 41,
    "start_time": "2024-04-24T08:13:03.681Z"
   },
   {
    "duration": 46,
    "start_time": "2024-04-24T08:18:09.357Z"
   },
   {
    "duration": 35,
    "start_time": "2024-04-24T08:18:14.116Z"
   },
   {
    "duration": 45,
    "start_time": "2024-04-24T08:25:17.785Z"
   },
   {
    "duration": 14,
    "start_time": "2024-04-24T08:25:29.035Z"
   },
   {
    "duration": 14,
    "start_time": "2024-04-24T08:25:54.637Z"
   },
   {
    "duration": 15,
    "start_time": "2024-04-24T08:26:15.546Z"
   },
   {
    "duration": 17,
    "start_time": "2024-04-24T08:26:55.268Z"
   },
   {
    "duration": 5,
    "start_time": "2024-04-24T08:28:16.075Z"
   },
   {
    "duration": 4097,
    "start_time": "2024-04-24T08:28:32.974Z"
   },
   {
    "duration": 3,
    "start_time": "2024-04-24T08:28:37.073Z"
   },
   {
    "duration": 49,
    "start_time": "2024-04-24T08:28:37.077Z"
   },
   {
    "duration": 23,
    "start_time": "2024-04-24T08:28:37.127Z"
   },
   {
    "duration": 10,
    "start_time": "2024-04-24T08:28:37.151Z"
   },
   {
    "duration": 3,
    "start_time": "2024-04-24T08:28:37.163Z"
   },
   {
    "duration": 846,
    "start_time": "2024-04-24T08:28:37.167Z"
   },
   {
    "duration": 102,
    "start_time": "2024-04-24T08:28:38.015Z"
   },
   {
    "duration": 36,
    "start_time": "2024-04-24T08:28:38.118Z"
   },
   {
    "duration": 19,
    "start_time": "2024-04-24T08:28:38.156Z"
   },
   {
    "duration": 31,
    "start_time": "2024-04-24T08:28:38.177Z"
   },
   {
    "duration": 19,
    "start_time": "2024-04-24T08:28:38.210Z"
   },
   {
    "duration": 10,
    "start_time": "2024-04-24T08:28:38.230Z"
   },
   {
    "duration": 848,
    "start_time": "2024-04-24T08:28:38.244Z"
   },
   {
    "duration": 883,
    "start_time": "2024-04-24T08:28:39.094Z"
   },
   {
    "duration": 897,
    "start_time": "2024-04-24T08:28:39.979Z"
   },
   {
    "duration": 506,
    "start_time": "2024-04-24T08:28:40.878Z"
   },
   {
    "duration": 1500,
    "start_time": "2024-04-24T08:28:41.385Z"
   },
   {
    "duration": 30,
    "start_time": "2024-04-24T08:28:42.887Z"
   },
   {
    "duration": 7,
    "start_time": "2024-04-24T08:28:42.919Z"
   },
   {
    "duration": 20,
    "start_time": "2024-04-24T08:28:42.928Z"
   },
   {
    "duration": 11,
    "start_time": "2024-04-24T08:28:42.949Z"
   },
   {
    "duration": 36,
    "start_time": "2024-04-24T08:28:42.984Z"
   },
   {
    "duration": 21,
    "start_time": "2024-04-24T08:28:43.021Z"
   },
   {
    "duration": 10,
    "start_time": "2024-04-24T08:28:43.043Z"
   },
   {
    "duration": 7,
    "start_time": "2024-04-24T08:28:43.055Z"
   },
   {
    "duration": 10,
    "start_time": "2024-04-24T08:28:43.063Z"
   },
   {
    "duration": 9,
    "start_time": "2024-04-24T08:28:43.074Z"
   },
   {
    "duration": 7,
    "start_time": "2024-04-24T08:28:43.085Z"
   },
   {
    "duration": 11,
    "start_time": "2024-04-24T08:28:43.093Z"
   },
   {
    "duration": 10,
    "start_time": "2024-04-24T08:28:43.106Z"
   },
   {
    "duration": 4,
    "start_time": "2024-04-24T08:28:43.117Z"
   },
   {
    "duration": 4,
    "start_time": "2024-04-24T08:28:43.123Z"
   },
   {
    "duration": 189,
    "start_time": "2024-04-24T08:28:43.129Z"
   },
   {
    "duration": 0,
    "start_time": "2024-04-24T08:28:43.319Z"
   },
   {
    "duration": 4121,
    "start_time": "2024-04-24T08:30:32.868Z"
   },
   {
    "duration": 3,
    "start_time": "2024-04-24T08:30:36.991Z"
   },
   {
    "duration": 77,
    "start_time": "2024-04-24T08:30:36.995Z"
   },
   {
    "duration": 22,
    "start_time": "2024-04-24T08:30:37.073Z"
   },
   {
    "duration": 15,
    "start_time": "2024-04-24T08:30:37.097Z"
   },
   {
    "duration": 20,
    "start_time": "2024-04-24T08:30:37.113Z"
   },
   {
    "duration": 814,
    "start_time": "2024-04-24T08:30:37.134Z"
   },
   {
    "duration": 106,
    "start_time": "2024-04-24T08:30:37.949Z"
   },
   {
    "duration": 44,
    "start_time": "2024-04-24T08:30:38.057Z"
   },
   {
    "duration": 4,
    "start_time": "2024-04-24T08:30:38.103Z"
   },
   {
    "duration": 20,
    "start_time": "2024-04-24T08:30:38.109Z"
   },
   {
    "duration": 22,
    "start_time": "2024-04-24T08:30:38.131Z"
   },
   {
    "duration": 21,
    "start_time": "2024-04-24T08:30:38.154Z"
   },
   {
    "duration": 808,
    "start_time": "2024-04-24T08:30:38.184Z"
   },
   {
    "duration": 849,
    "start_time": "2024-04-24T08:30:38.994Z"
   },
   {
    "duration": 920,
    "start_time": "2024-04-24T08:30:39.845Z"
   },
   {
    "duration": 528,
    "start_time": "2024-04-24T08:30:40.766Z"
   },
   {
    "duration": 1469,
    "start_time": "2024-04-24T08:30:41.296Z"
   },
   {
    "duration": 44,
    "start_time": "2024-04-24T08:30:42.766Z"
   },
   {
    "duration": 9,
    "start_time": "2024-04-24T08:30:42.811Z"
   },
   {
    "duration": 14,
    "start_time": "2024-04-24T08:30:42.821Z"
   },
   {
    "duration": 12,
    "start_time": "2024-04-24T08:30:42.837Z"
   },
   {
    "duration": 9,
    "start_time": "2024-04-24T08:30:42.884Z"
   },
   {
    "duration": 11,
    "start_time": "2024-04-24T08:30:42.894Z"
   },
   {
    "duration": 15,
    "start_time": "2024-04-24T08:30:42.907Z"
   },
   {
    "duration": 18,
    "start_time": "2024-04-24T08:30:42.923Z"
   },
   {
    "duration": 6,
    "start_time": "2024-04-24T08:30:42.943Z"
   },
   {
    "duration": 12,
    "start_time": "2024-04-24T08:30:42.950Z"
   },
   {
    "duration": 9,
    "start_time": "2024-04-24T08:30:42.985Z"
   },
   {
    "duration": 8,
    "start_time": "2024-04-24T08:30:42.995Z"
   },
   {
    "duration": 10,
    "start_time": "2024-04-24T08:30:43.005Z"
   },
   {
    "duration": 6,
    "start_time": "2024-04-24T08:30:43.017Z"
   },
   {
    "duration": 3,
    "start_time": "2024-04-24T08:30:43.025Z"
   },
   {
    "duration": 91,
    "start_time": "2024-04-24T08:30:43.030Z"
   },
   {
    "duration": 43,
    "start_time": "2024-04-24T08:30:43.123Z"
   },
   {
    "duration": 114,
    "start_time": "2024-04-24T08:31:36.158Z"
   },
   {
    "duration": 48,
    "start_time": "2024-04-24T08:31:57.030Z"
   },
   {
    "duration": 52,
    "start_time": "2024-04-24T08:32:23.398Z"
   },
   {
    "duration": 56,
    "start_time": "2024-04-24T08:32:30.765Z"
   },
   {
    "duration": 43,
    "start_time": "2024-04-24T08:32:51.769Z"
   },
   {
    "duration": 25,
    "start_time": "2024-04-24T08:35:02.434Z"
   },
   {
    "duration": 26,
    "start_time": "2024-04-24T08:35:09.749Z"
   },
   {
    "duration": 41,
    "start_time": "2024-04-24T08:35:44.509Z"
   },
   {
    "duration": 40,
    "start_time": "2024-04-24T08:35:58.730Z"
   },
   {
    "duration": 42,
    "start_time": "2024-04-24T08:36:21.174Z"
   },
   {
    "duration": 37,
    "start_time": "2024-04-24T08:36:46.209Z"
   },
   {
    "duration": 28,
    "start_time": "2024-04-24T08:37:12.342Z"
   },
   {
    "duration": 26,
    "start_time": "2024-04-24T08:37:26.510Z"
   },
   {
    "duration": 25,
    "start_time": "2024-04-24T08:37:33.609Z"
   },
   {
    "duration": 24,
    "start_time": "2024-04-24T08:40:15.810Z"
   },
   {
    "duration": 23,
    "start_time": "2024-04-24T08:40:19.694Z"
   },
   {
    "duration": 25,
    "start_time": "2024-04-24T08:40:26.050Z"
   },
   {
    "duration": 2,
    "start_time": "2024-04-24T08:40:59.542Z"
   },
   {
    "duration": 4428,
    "start_time": "2024-04-24T08:43:29.371Z"
   },
   {
    "duration": 3,
    "start_time": "2024-04-24T08:43:33.800Z"
   },
   {
    "duration": 70,
    "start_time": "2024-04-24T08:43:33.804Z"
   },
   {
    "duration": 22,
    "start_time": "2024-04-24T08:43:33.875Z"
   },
   {
    "duration": 9,
    "start_time": "2024-04-24T08:43:33.899Z"
   },
   {
    "duration": 3,
    "start_time": "2024-04-24T08:43:33.909Z"
   },
   {
    "duration": 848,
    "start_time": "2024-04-24T08:43:33.913Z"
   },
   {
    "duration": 98,
    "start_time": "2024-04-24T08:43:34.762Z"
   },
   {
    "duration": 40,
    "start_time": "2024-04-24T08:43:34.861Z"
   },
   {
    "duration": 3,
    "start_time": "2024-04-24T08:43:34.902Z"
   },
   {
    "duration": 22,
    "start_time": "2024-04-24T08:43:34.906Z"
   },
   {
    "duration": 20,
    "start_time": "2024-04-24T08:43:34.929Z"
   },
   {
    "duration": 43,
    "start_time": "2024-04-24T08:43:34.950Z"
   },
   {
    "duration": 840,
    "start_time": "2024-04-24T08:43:34.995Z"
   },
   {
    "duration": 820,
    "start_time": "2024-04-24T08:43:35.836Z"
   },
   {
    "duration": 873,
    "start_time": "2024-04-24T08:43:36.657Z"
   },
   {
    "duration": 487,
    "start_time": "2024-04-24T08:43:37.531Z"
   },
   {
    "duration": 1388,
    "start_time": "2024-04-24T08:43:38.019Z"
   },
   {
    "duration": 28,
    "start_time": "2024-04-24T08:43:39.409Z"
   },
   {
    "duration": 7,
    "start_time": "2024-04-24T08:43:39.438Z"
   },
   {
    "duration": 40,
    "start_time": "2024-04-24T08:43:39.446Z"
   },
   {
    "duration": 10,
    "start_time": "2024-04-24T08:43:39.487Z"
   },
   {
    "duration": 12,
    "start_time": "2024-04-24T08:43:39.499Z"
   },
   {
    "duration": 16,
    "start_time": "2024-04-24T08:43:39.512Z"
   },
   {
    "duration": 16,
    "start_time": "2024-04-24T08:43:39.530Z"
   },
   {
    "duration": 8,
    "start_time": "2024-04-24T08:43:39.547Z"
   },
   {
    "duration": 5,
    "start_time": "2024-04-24T08:43:39.557Z"
   },
   {
    "duration": 24,
    "start_time": "2024-04-24T08:43:39.563Z"
   },
   {
    "duration": 8,
    "start_time": "2024-04-24T08:43:39.588Z"
   },
   {
    "duration": 20,
    "start_time": "2024-04-24T08:43:39.597Z"
   },
   {
    "duration": 9,
    "start_time": "2024-04-24T08:43:39.618Z"
   },
   {
    "duration": 13,
    "start_time": "2024-04-24T08:43:39.629Z"
   },
   {
    "duration": 10,
    "start_time": "2024-04-24T08:43:39.643Z"
   },
   {
    "duration": 34,
    "start_time": "2024-04-24T08:43:39.654Z"
   },
   {
    "duration": 22,
    "start_time": "2024-04-24T08:43:39.690Z"
   },
   {
    "duration": 24,
    "start_time": "2024-04-24T08:43:39.714Z"
   },
   {
    "duration": 48,
    "start_time": "2024-04-24T08:43:39.739Z"
   },
   {
    "duration": 116,
    "start_time": "2024-04-24T08:56:48.543Z"
   },
   {
    "duration": 20,
    "start_time": "2024-04-24T08:57:54.010Z"
   },
   {
    "duration": 112,
    "start_time": "2024-04-24T09:05:00.395Z"
   },
   {
    "duration": 96,
    "start_time": "2024-04-24T09:05:15.045Z"
   },
   {
    "duration": 33,
    "start_time": "2024-04-24T09:06:46.615Z"
   },
   {
    "duration": 3904,
    "start_time": "2024-04-24T09:09:44.964Z"
   },
   {
    "duration": 3977,
    "start_time": "2024-04-24T09:10:12.854Z"
   },
   {
    "duration": 2,
    "start_time": "2024-04-24T09:10:16.833Z"
   },
   {
    "duration": 79,
    "start_time": "2024-04-24T09:10:16.837Z"
   },
   {
    "duration": 22,
    "start_time": "2024-04-24T09:10:16.918Z"
   },
   {
    "duration": 17,
    "start_time": "2024-04-24T09:10:16.942Z"
   },
   {
    "duration": 4,
    "start_time": "2024-04-24T09:10:16.960Z"
   },
   {
    "duration": 764,
    "start_time": "2024-04-24T09:10:16.965Z"
   },
   {
    "duration": 93,
    "start_time": "2024-04-24T09:10:17.731Z"
   },
   {
    "duration": 34,
    "start_time": "2024-04-24T09:10:17.826Z"
   },
   {
    "duration": 23,
    "start_time": "2024-04-24T09:10:17.861Z"
   },
   {
    "duration": 9,
    "start_time": "2024-04-24T09:10:17.885Z"
   },
   {
    "duration": 12,
    "start_time": "2024-04-24T09:10:17.895Z"
   },
   {
    "duration": 7,
    "start_time": "2024-04-24T09:10:17.909Z"
   },
   {
    "duration": 4166,
    "start_time": "2024-04-24T09:10:17.919Z"
   },
   {
    "duration": 1005,
    "start_time": "2024-04-24T09:10:22.087Z"
   },
   {
    "duration": 766,
    "start_time": "2024-04-24T09:10:23.094Z"
   },
   {
    "duration": 872,
    "start_time": "2024-04-24T09:10:23.862Z"
   },
   {
    "duration": 500,
    "start_time": "2024-04-24T09:10:24.735Z"
   },
   {
    "duration": 1399,
    "start_time": "2024-04-24T09:10:25.237Z"
   },
   {
    "duration": 27,
    "start_time": "2024-04-24T09:10:26.638Z"
   },
   {
    "duration": 23,
    "start_time": "2024-04-24T09:10:26.666Z"
   },
   {
    "duration": 14,
    "start_time": "2024-04-24T09:10:26.691Z"
   },
   {
    "duration": 10,
    "start_time": "2024-04-24T09:10:26.707Z"
   },
   {
    "duration": 8,
    "start_time": "2024-04-24T09:10:26.718Z"
   },
   {
    "duration": 11,
    "start_time": "2024-04-24T09:10:26.727Z"
   },
   {
    "duration": 11,
    "start_time": "2024-04-24T09:10:26.739Z"
   },
   {
    "duration": 36,
    "start_time": "2024-04-24T09:10:26.751Z"
   },
   {
    "duration": 4,
    "start_time": "2024-04-24T09:10:26.788Z"
   },
   {
    "duration": 15,
    "start_time": "2024-04-24T09:10:26.793Z"
   },
   {
    "duration": 9,
    "start_time": "2024-04-24T09:10:26.809Z"
   },
   {
    "duration": 7,
    "start_time": "2024-04-24T09:10:26.819Z"
   },
   {
    "duration": 24,
    "start_time": "2024-04-24T09:10:26.827Z"
   },
   {
    "duration": 12,
    "start_time": "2024-04-24T09:10:26.852Z"
   },
   {
    "duration": 22,
    "start_time": "2024-04-24T09:10:26.865Z"
   },
   {
    "duration": 23,
    "start_time": "2024-04-24T09:10:26.889Z"
   },
   {
    "duration": 22,
    "start_time": "2024-04-24T09:10:26.914Z"
   },
   {
    "duration": 48,
    "start_time": "2024-04-24T09:10:26.937Z"
   },
   {
    "duration": 26,
    "start_time": "2024-04-24T09:10:26.986Z"
   },
   {
    "duration": 43,
    "start_time": "2024-04-24T09:10:27.014Z"
   },
   {
    "duration": 4119,
    "start_time": "2024-04-24T09:12:09.843Z"
   },
   {
    "duration": 3,
    "start_time": "2024-04-24T09:12:13.964Z"
   },
   {
    "duration": 48,
    "start_time": "2024-04-24T09:12:13.969Z"
   },
   {
    "duration": 24,
    "start_time": "2024-04-24T09:12:14.018Z"
   },
   {
    "duration": 14,
    "start_time": "2024-04-24T09:12:14.044Z"
   },
   {
    "duration": 5,
    "start_time": "2024-04-24T09:12:14.060Z"
   },
   {
    "duration": 831,
    "start_time": "2024-04-24T09:12:14.067Z"
   },
   {
    "duration": 95,
    "start_time": "2024-04-24T09:12:14.899Z"
   },
   {
    "duration": 35,
    "start_time": "2024-04-24T09:12:14.995Z"
   },
   {
    "duration": 36,
    "start_time": "2024-04-24T09:12:15.032Z"
   },
   {
    "duration": 42,
    "start_time": "2024-04-24T09:12:15.069Z"
   },
   {
    "duration": 29,
    "start_time": "2024-04-24T09:12:15.112Z"
   },
   {
    "duration": 30,
    "start_time": "2024-04-24T09:12:15.142Z"
   },
   {
    "duration": 4223,
    "start_time": "2024-04-24T09:12:15.174Z"
   },
   {
    "duration": 988,
    "start_time": "2024-04-24T09:12:19.398Z"
   },
   {
    "duration": 779,
    "start_time": "2024-04-24T09:12:20.388Z"
   },
   {
    "duration": 862,
    "start_time": "2024-04-24T09:12:21.168Z"
   },
   {
    "duration": 516,
    "start_time": "2024-04-24T09:12:22.032Z"
   },
   {
    "duration": 1409,
    "start_time": "2024-04-24T09:12:22.550Z"
   },
   {
    "duration": 33,
    "start_time": "2024-04-24T09:12:23.960Z"
   },
   {
    "duration": 31,
    "start_time": "2024-04-24T09:12:23.995Z"
   },
   {
    "duration": 16,
    "start_time": "2024-04-24T09:12:24.028Z"
   },
   {
    "duration": 10,
    "start_time": "2024-04-24T09:12:24.045Z"
   },
   {
    "duration": 14,
    "start_time": "2024-04-24T09:12:24.057Z"
   },
   {
    "duration": 15,
    "start_time": "2024-04-24T09:12:24.072Z"
   },
   {
    "duration": 25,
    "start_time": "2024-04-24T09:12:24.089Z"
   },
   {
    "duration": 16,
    "start_time": "2024-04-24T09:12:24.115Z"
   },
   {
    "duration": 27,
    "start_time": "2024-04-24T09:12:24.133Z"
   },
   {
    "duration": 31,
    "start_time": "2024-04-24T09:12:24.162Z"
   },
   {
    "duration": 16,
    "start_time": "2024-04-24T09:12:24.194Z"
   },
   {
    "duration": 28,
    "start_time": "2024-04-24T09:12:24.211Z"
   },
   {
    "duration": 24,
    "start_time": "2024-04-24T09:12:24.240Z"
   },
   {
    "duration": 4,
    "start_time": "2024-04-24T09:12:24.265Z"
   },
   {
    "duration": 21,
    "start_time": "2024-04-24T09:12:24.270Z"
   },
   {
    "duration": 23,
    "start_time": "2024-04-24T09:12:24.293Z"
   },
   {
    "duration": 20,
    "start_time": "2024-04-24T09:12:24.318Z"
   },
   {
    "duration": 36,
    "start_time": "2024-04-24T09:12:24.339Z"
   },
   {
    "duration": 23,
    "start_time": "2024-04-24T09:12:24.384Z"
   },
   {
    "duration": 34,
    "start_time": "2024-04-24T09:12:24.408Z"
   },
   {
    "duration": 4219,
    "start_time": "2024-04-24T09:15:22.470Z"
   },
   {
    "duration": 10,
    "start_time": "2024-04-24T09:15:26.691Z"
   },
   {
    "duration": 90,
    "start_time": "2024-04-24T09:15:26.703Z"
   },
   {
    "duration": 26,
    "start_time": "2024-04-24T09:15:26.795Z"
   },
   {
    "duration": 25,
    "start_time": "2024-04-24T09:15:26.823Z"
   },
   {
    "duration": 23,
    "start_time": "2024-04-24T09:15:26.849Z"
   },
   {
    "duration": 888,
    "start_time": "2024-04-24T09:15:26.874Z"
   },
   {
    "duration": 100,
    "start_time": "2024-04-24T09:15:27.764Z"
   },
   {
    "duration": 45,
    "start_time": "2024-04-24T09:15:27.866Z"
   },
   {
    "duration": 4,
    "start_time": "2024-04-24T09:15:27.912Z"
   },
   {
    "duration": 31,
    "start_time": "2024-04-24T09:15:27.917Z"
   },
   {
    "duration": 13,
    "start_time": "2024-04-24T09:15:27.950Z"
   },
   {
    "duration": 8,
    "start_time": "2024-04-24T09:15:27.964Z"
   },
   {
    "duration": 3486,
    "start_time": "2024-04-24T09:15:27.983Z"
   },
   {
    "duration": 1052,
    "start_time": "2024-04-24T09:15:31.470Z"
   },
   {
    "duration": 871,
    "start_time": "2024-04-24T09:15:32.524Z"
   },
   {
    "duration": 944,
    "start_time": "2024-04-24T09:15:33.397Z"
   },
   {
    "duration": 554,
    "start_time": "2024-04-24T09:15:34.343Z"
   },
   {
    "duration": 1503,
    "start_time": "2024-04-24T09:15:34.898Z"
   },
   {
    "duration": 26,
    "start_time": "2024-04-24T09:15:36.402Z"
   },
   {
    "duration": 16,
    "start_time": "2024-04-24T09:15:36.430Z"
   },
   {
    "duration": 13,
    "start_time": "2024-04-24T09:15:36.448Z"
   },
   {
    "duration": 11,
    "start_time": "2024-04-24T09:15:36.484Z"
   },
   {
    "duration": 12,
    "start_time": "2024-04-24T09:15:36.497Z"
   },
   {
    "duration": 7,
    "start_time": "2024-04-24T09:15:36.510Z"
   },
   {
    "duration": 15,
    "start_time": "2024-04-24T09:15:36.518Z"
   },
   {
    "duration": 15,
    "start_time": "2024-04-24T09:15:36.535Z"
   },
   {
    "duration": 12,
    "start_time": "2024-04-24T09:15:36.552Z"
   },
   {
    "duration": 25,
    "start_time": "2024-04-24T09:15:36.565Z"
   },
   {
    "duration": 14,
    "start_time": "2024-04-24T09:15:36.592Z"
   },
   {
    "duration": 7,
    "start_time": "2024-04-24T09:15:36.607Z"
   },
   {
    "duration": 13,
    "start_time": "2024-04-24T09:15:36.616Z"
   },
   {
    "duration": 5,
    "start_time": "2024-04-24T09:15:36.630Z"
   },
   {
    "duration": 13,
    "start_time": "2024-04-24T09:15:36.636Z"
   },
   {
    "duration": 50,
    "start_time": "2024-04-24T09:15:36.650Z"
   },
   {
    "duration": 25,
    "start_time": "2024-04-24T09:15:36.702Z"
   },
   {
    "duration": 27,
    "start_time": "2024-04-24T09:15:36.728Z"
   },
   {
    "duration": 49,
    "start_time": "2024-04-24T09:15:36.757Z"
   },
   {
    "duration": 33,
    "start_time": "2024-04-24T09:15:36.807Z"
   },
   {
    "duration": 32,
    "start_time": "2024-04-24T09:30:46.941Z"
   },
   {
    "duration": 25,
    "start_time": "2024-04-24T10:33:03.399Z"
   },
   {
    "duration": 29,
    "start_time": "2024-04-24T10:33:08.668Z"
   },
   {
    "duration": 24,
    "start_time": "2024-04-24T10:33:20.786Z"
   },
   {
    "duration": 945,
    "start_time": "2024-04-24T10:44:44.495Z"
   },
   {
    "duration": 1065,
    "start_time": "2024-04-24T10:53:43.740Z"
   },
   {
    "duration": 892,
    "start_time": "2024-04-24T10:56:12.850Z"
   },
   {
    "duration": 896,
    "start_time": "2024-04-24T10:57:28.549Z"
   },
   {
    "duration": 957,
    "start_time": "2024-04-24T10:57:49.110Z"
   },
   {
    "duration": 920,
    "start_time": "2024-04-24T10:58:04.122Z"
   },
   {
    "duration": 971,
    "start_time": "2024-04-24T10:58:27.030Z"
   },
   {
    "duration": 936,
    "start_time": "2024-04-24T10:58:46.050Z"
   },
   {
    "duration": 1005,
    "start_time": "2024-04-24T10:59:03.870Z"
   },
   {
    "duration": 926,
    "start_time": "2024-04-24T10:59:11.490Z"
   },
   {
    "duration": 1026,
    "start_time": "2024-04-24T10:59:48.480Z"
   },
   {
    "duration": 890,
    "start_time": "2024-04-24T10:59:59.812Z"
   },
   {
    "duration": 932,
    "start_time": "2024-04-24T11:00:33.470Z"
   },
   {
    "duration": 723,
    "start_time": "2024-04-24T11:01:28.129Z"
   },
   {
    "duration": 821,
    "start_time": "2024-04-24T11:03:16.041Z"
   },
   {
    "duration": 953,
    "start_time": "2024-04-24T11:03:54.731Z"
   },
   {
    "duration": 981,
    "start_time": "2024-04-24T11:04:02.221Z"
   },
   {
    "duration": 1241,
    "start_time": "2024-04-24T11:14:37.868Z"
   },
   {
    "duration": 863,
    "start_time": "2024-04-24T11:16:10.440Z"
   },
   {
    "duration": 1018,
    "start_time": "2024-04-24T11:16:56.452Z"
   },
   {
    "duration": 1309,
    "start_time": "2024-04-24T11:17:37.263Z"
   },
   {
    "duration": 1211,
    "start_time": "2024-04-24T11:17:53.019Z"
   },
   {
    "duration": 1117,
    "start_time": "2024-04-24T11:23:02.202Z"
   },
   {
    "duration": 270,
    "start_time": "2024-04-24T11:30:22.025Z"
   },
   {
    "duration": 1154,
    "start_time": "2024-04-24T11:31:00.545Z"
   },
   {
    "duration": 1209,
    "start_time": "2024-04-24T11:31:55.124Z"
   },
   {
    "duration": 1152,
    "start_time": "2024-04-24T11:32:32.134Z"
   },
   {
    "duration": 8,
    "start_time": "2024-04-24T11:43:04.423Z"
   },
   {
    "duration": 7,
    "start_time": "2024-04-24T11:47:20.726Z"
   },
   {
    "duration": 12,
    "start_time": "2024-04-24T11:58:00.485Z"
   },
   {
    "duration": 22,
    "start_time": "2024-04-24T12:11:29.329Z"
   },
   {
    "duration": 20,
    "start_time": "2024-04-24T12:11:32.589Z"
   },
   {
    "duration": 21,
    "start_time": "2024-04-24T12:17:01.469Z"
   },
   {
    "duration": 23,
    "start_time": "2024-04-24T12:17:09.063Z"
   },
   {
    "duration": 1340,
    "start_time": "2024-04-24T13:21:11.659Z"
   },
   {
    "duration": 1028,
    "start_time": "2024-04-24T13:21:38.303Z"
   },
   {
    "duration": 1146,
    "start_time": "2024-04-24T13:22:14.050Z"
   },
   {
    "duration": 14,
    "start_time": "2024-04-24T13:23:36.678Z"
   },
   {
    "duration": 24,
    "start_time": "2024-04-24T13:23:48.730Z"
   },
   {
    "duration": 18,
    "start_time": "2024-04-24T13:24:53.618Z"
   },
   {
    "duration": 74,
    "start_time": "2024-04-24T13:27:58.113Z"
   },
   {
    "duration": 76,
    "start_time": "2024-04-24T13:28:02.878Z"
   },
   {
    "duration": 3890,
    "start_time": "2024-04-24T13:30:06.958Z"
   },
   {
    "duration": 3,
    "start_time": "2024-04-24T13:30:10.849Z"
   },
   {
    "duration": 51,
    "start_time": "2024-04-24T13:30:10.853Z"
   },
   {
    "duration": 21,
    "start_time": "2024-04-24T13:30:10.905Z"
   },
   {
    "duration": 10,
    "start_time": "2024-04-24T13:30:10.928Z"
   },
   {
    "duration": 3,
    "start_time": "2024-04-24T13:30:10.940Z"
   },
   {
    "duration": 778,
    "start_time": "2024-04-24T13:30:10.945Z"
   },
   {
    "duration": 85,
    "start_time": "2024-04-24T13:30:11.725Z"
   },
   {
    "duration": 33,
    "start_time": "2024-04-24T13:30:11.811Z"
   },
   {
    "duration": 3,
    "start_time": "2024-04-24T13:30:11.845Z"
   },
   {
    "duration": 32,
    "start_time": "2024-04-24T13:30:11.849Z"
   },
   {
    "duration": 20,
    "start_time": "2024-04-24T13:30:11.882Z"
   },
   {
    "duration": 39,
    "start_time": "2024-04-24T13:30:11.903Z"
   },
   {
    "duration": 3255,
    "start_time": "2024-04-24T13:30:11.945Z"
   },
   {
    "duration": 1115,
    "start_time": "2024-04-24T13:30:15.202Z"
   },
   {
    "duration": 1189,
    "start_time": "2024-04-24T13:30:16.318Z"
   },
   {
    "duration": 1198,
    "start_time": "2024-04-24T13:30:17.509Z"
   },
   {
    "duration": 560,
    "start_time": "2024-04-24T13:30:18.708Z"
   },
   {
    "duration": 1321,
    "start_time": "2024-04-24T13:30:19.270Z"
   },
   {
    "duration": 28,
    "start_time": "2024-04-24T13:30:20.592Z"
   },
   {
    "duration": 9,
    "start_time": "2024-04-24T13:30:20.622Z"
   },
   {
    "duration": 10,
    "start_time": "2024-04-24T13:30:20.632Z"
   },
   {
    "duration": 41,
    "start_time": "2024-04-24T13:30:20.644Z"
   },
   {
    "duration": 11,
    "start_time": "2024-04-24T13:30:20.687Z"
   },
   {
    "duration": 22,
    "start_time": "2024-04-24T13:30:20.699Z"
   },
   {
    "duration": 23,
    "start_time": "2024-04-24T13:30:20.723Z"
   },
   {
    "duration": 60,
    "start_time": "2024-04-24T13:30:20.747Z"
   },
   {
    "duration": 26,
    "start_time": "2024-04-24T13:30:20.809Z"
   },
   {
    "duration": 52,
    "start_time": "2024-04-24T13:30:20.836Z"
   },
   {
    "duration": 45,
    "start_time": "2024-04-25T06:33:32.140Z"
   },
   {
    "duration": 4743,
    "start_time": "2024-04-25T06:47:11.772Z"
   },
   {
    "duration": 3,
    "start_time": "2024-04-25T06:47:16.517Z"
   },
   {
    "duration": 169,
    "start_time": "2024-04-25T06:47:16.521Z"
   },
   {
    "duration": 24,
    "start_time": "2024-04-25T06:47:16.692Z"
   },
   {
    "duration": 13,
    "start_time": "2024-04-25T06:47:16.719Z"
   },
   {
    "duration": 3,
    "start_time": "2024-04-25T06:47:16.734Z"
   },
   {
    "duration": 932,
    "start_time": "2024-04-25T06:47:16.739Z"
   },
   {
    "duration": 106,
    "start_time": "2024-04-25T06:47:17.672Z"
   },
   {
    "duration": 37,
    "start_time": "2024-04-25T06:47:17.780Z"
   },
   {
    "duration": 4,
    "start_time": "2024-04-25T06:47:17.819Z"
   },
   {
    "duration": 10,
    "start_time": "2024-04-25T06:47:17.844Z"
   },
   {
    "duration": 23,
    "start_time": "2024-04-25T06:47:17.856Z"
   },
   {
    "duration": 11,
    "start_time": "2024-04-25T06:47:17.881Z"
   },
   {
    "duration": 3872,
    "start_time": "2024-04-25T06:47:17.895Z"
   },
   {
    "duration": 1297,
    "start_time": "2024-04-25T06:47:21.769Z"
   },
   {
    "duration": 1403,
    "start_time": "2024-04-25T06:47:23.069Z"
   },
   {
    "duration": 1281,
    "start_time": "2024-04-25T06:47:24.473Z"
   },
   {
    "duration": 636,
    "start_time": "2024-04-25T06:47:25.755Z"
   },
   {
    "duration": 1513,
    "start_time": "2024-04-25T06:47:26.393Z"
   },
   {
    "duration": 27,
    "start_time": "2024-04-25T06:47:27.908Z"
   },
   {
    "duration": 8,
    "start_time": "2024-04-25T06:47:27.945Z"
   },
   {
    "duration": 8,
    "start_time": "2024-04-25T06:47:27.955Z"
   },
   {
    "duration": 7,
    "start_time": "2024-04-25T06:47:27.965Z"
   },
   {
    "duration": 10,
    "start_time": "2024-04-25T06:47:27.974Z"
   },
   {
    "duration": 22,
    "start_time": "2024-04-25T06:47:27.985Z"
   },
   {
    "duration": 54,
    "start_time": "2024-04-25T06:47:28.009Z"
   },
   {
    "duration": 26,
    "start_time": "2024-04-25T06:47:28.065Z"
   },
   {
    "duration": 24,
    "start_time": "2024-04-25T06:47:28.092Z"
   },
   {
    "duration": 41,
    "start_time": "2024-04-25T06:47:28.118Z"
   },
   {
    "duration": 3705,
    "start_time": "2024-04-25T06:57:21.529Z"
   },
   {
    "duration": 3,
    "start_time": "2024-04-25T06:57:25.235Z"
   },
   {
    "duration": 78,
    "start_time": "2024-04-25T06:57:25.239Z"
   },
   {
    "duration": 25,
    "start_time": "2024-04-25T06:57:25.319Z"
   },
   {
    "duration": 11,
    "start_time": "2024-04-25T06:57:25.346Z"
   },
   {
    "duration": 3,
    "start_time": "2024-04-25T06:57:25.358Z"
   },
   {
    "duration": 851,
    "start_time": "2024-04-25T06:57:25.362Z"
   },
   {
    "duration": 98,
    "start_time": "2024-04-25T06:57:26.214Z"
   },
   {
    "duration": 49,
    "start_time": "2024-04-25T06:57:26.313Z"
   },
   {
    "duration": 4,
    "start_time": "2024-04-25T06:57:26.363Z"
   },
   {
    "duration": 10,
    "start_time": "2024-04-25T06:57:26.368Z"
   },
   {
    "duration": 16,
    "start_time": "2024-04-25T06:57:26.379Z"
   },
   {
    "duration": 22,
    "start_time": "2024-04-25T06:57:26.397Z"
   },
   {
    "duration": 3945,
    "start_time": "2024-04-25T06:57:26.422Z"
   },
   {
    "duration": 1407,
    "start_time": "2024-04-25T06:57:30.368Z"
   },
   {
    "duration": 1536,
    "start_time": "2024-04-25T06:57:31.778Z"
   },
   {
    "duration": 1314,
    "start_time": "2024-04-25T06:57:33.315Z"
   },
   {
    "duration": 653,
    "start_time": "2024-04-25T06:57:34.630Z"
   },
   {
    "duration": 1477,
    "start_time": "2024-04-25T06:57:35.285Z"
   },
   {
    "duration": 28,
    "start_time": "2024-04-25T06:57:36.764Z"
   },
   {
    "duration": 7,
    "start_time": "2024-04-25T06:57:36.794Z"
   },
   {
    "duration": 11,
    "start_time": "2024-04-25T06:57:36.803Z"
   },
   {
    "duration": 34,
    "start_time": "2024-04-25T06:57:36.816Z"
   },
   {
    "duration": 10,
    "start_time": "2024-04-25T06:57:36.851Z"
   },
   {
    "duration": 23,
    "start_time": "2024-04-25T06:57:36.862Z"
   },
   {
    "duration": 22,
    "start_time": "2024-04-25T06:57:36.887Z"
   },
   {
    "duration": 57,
    "start_time": "2024-04-25T06:57:36.911Z"
   },
   {
    "duration": 26,
    "start_time": "2024-04-25T06:57:36.970Z"
   },
   {
    "duration": 20,
    "start_time": "2024-04-25T06:57:36.997Z"
   },
   {
    "duration": 3754,
    "start_time": "2024-04-25T07:02:10.011Z"
   },
   {
    "duration": 3,
    "start_time": "2024-04-25T07:02:13.767Z"
   },
   {
    "duration": 53,
    "start_time": "2024-04-25T07:02:13.772Z"
   },
   {
    "duration": 26,
    "start_time": "2024-04-25T07:02:13.826Z"
   },
   {
    "duration": 11,
    "start_time": "2024-04-25T07:02:13.854Z"
   },
   {
    "duration": 17,
    "start_time": "2024-04-25T07:02:13.867Z"
   },
   {
    "duration": 869,
    "start_time": "2024-04-25T07:02:13.885Z"
   },
   {
    "duration": 107,
    "start_time": "2024-04-25T07:02:14.756Z"
   },
   {
    "duration": 38,
    "start_time": "2024-04-25T07:02:14.864Z"
   },
   {
    "duration": 4,
    "start_time": "2024-04-25T07:02:14.903Z"
   },
   {
    "duration": 13,
    "start_time": "2024-04-25T07:02:14.908Z"
   },
   {
    "duration": 34,
    "start_time": "2024-04-25T07:02:14.922Z"
   },
   {
    "duration": 19,
    "start_time": "2024-04-25T07:02:14.957Z"
   },
   {
    "duration": 3902,
    "start_time": "2024-04-25T07:02:14.978Z"
   },
   {
    "duration": 1265,
    "start_time": "2024-04-25T07:02:18.881Z"
   },
   {
    "duration": 1253,
    "start_time": "2024-04-25T07:02:20.148Z"
   },
   {
    "duration": 1331,
    "start_time": "2024-04-25T07:02:21.403Z"
   },
   {
    "duration": 669,
    "start_time": "2024-04-25T07:02:22.736Z"
   },
   {
    "duration": 1606,
    "start_time": "2024-04-25T07:02:23.407Z"
   },
   {
    "duration": 40,
    "start_time": "2024-04-25T07:02:25.015Z"
   },
   {
    "duration": 9,
    "start_time": "2024-04-25T07:02:25.056Z"
   },
   {
    "duration": 24,
    "start_time": "2024-04-25T07:02:25.066Z"
   },
   {
    "duration": 9,
    "start_time": "2024-04-25T07:02:25.092Z"
   },
   {
    "duration": 11,
    "start_time": "2024-04-25T07:02:25.102Z"
   },
   {
    "duration": 46,
    "start_time": "2024-04-25T07:02:25.114Z"
   },
   {
    "duration": 23,
    "start_time": "2024-04-25T07:02:25.161Z"
   },
   {
    "duration": 27,
    "start_time": "2024-04-25T07:02:25.186Z"
   },
   {
    "duration": 51,
    "start_time": "2024-04-25T07:02:25.214Z"
   },
   {
    "duration": 20,
    "start_time": "2024-04-25T07:02:25.267Z"
   },
   {
    "duration": 3641,
    "start_time": "2024-04-25T07:03:49.799Z"
   },
   {
    "duration": 3,
    "start_time": "2024-04-25T07:03:53.442Z"
   },
   {
    "duration": 65,
    "start_time": "2024-04-25T07:03:53.446Z"
   },
   {
    "duration": 24,
    "start_time": "2024-04-25T07:03:53.513Z"
   },
   {
    "duration": 15,
    "start_time": "2024-04-25T07:03:53.538Z"
   },
   {
    "duration": 4,
    "start_time": "2024-04-25T07:03:53.555Z"
   },
   {
    "duration": 842,
    "start_time": "2024-04-25T07:03:53.560Z"
   },
   {
    "duration": 99,
    "start_time": "2024-04-25T07:03:54.403Z"
   },
   {
    "duration": 44,
    "start_time": "2024-04-25T07:03:54.504Z"
   },
   {
    "duration": 5,
    "start_time": "2024-04-25T07:03:54.549Z"
   },
   {
    "duration": 17,
    "start_time": "2024-04-25T07:03:54.555Z"
   },
   {
    "duration": 13,
    "start_time": "2024-04-25T07:03:54.574Z"
   },
   {
    "duration": 11,
    "start_time": "2024-04-25T07:03:54.588Z"
   },
   {
    "duration": 3882,
    "start_time": "2024-04-25T07:03:54.601Z"
   },
   {
    "duration": 1262,
    "start_time": "2024-04-25T07:03:58.484Z"
   },
   {
    "duration": 1233,
    "start_time": "2024-04-25T07:03:59.748Z"
   },
   {
    "duration": 1280,
    "start_time": "2024-04-25T07:04:00.982Z"
   },
   {
    "duration": 617,
    "start_time": "2024-04-25T07:04:02.264Z"
   },
   {
    "duration": 1503,
    "start_time": "2024-04-25T07:04:02.883Z"
   },
   {
    "duration": 28,
    "start_time": "2024-04-25T07:04:04.388Z"
   },
   {
    "duration": 7,
    "start_time": "2024-04-25T07:04:04.417Z"
   },
   {
    "duration": 24,
    "start_time": "2024-04-25T07:04:04.426Z"
   },
   {
    "duration": 6,
    "start_time": "2024-04-25T07:04:04.452Z"
   },
   {
    "duration": 11,
    "start_time": "2024-04-25T07:04:04.460Z"
   },
   {
    "duration": 34,
    "start_time": "2024-04-25T07:04:04.473Z"
   },
   {
    "duration": 39,
    "start_time": "2024-04-25T07:04:04.509Z"
   },
   {
    "duration": 27,
    "start_time": "2024-04-25T07:04:04.549Z"
   },
   {
    "duration": 26,
    "start_time": "2024-04-25T07:04:04.578Z"
   },
   {
    "duration": 45,
    "start_time": "2024-04-25T07:04:04.605Z"
   },
   {
    "duration": 55,
    "start_time": "2024-04-25T08:11:41.160Z"
   },
   {
    "duration": 3781,
    "start_time": "2024-04-25T08:15:07.976Z"
   },
   {
    "duration": 3,
    "start_time": "2024-04-25T08:15:11.759Z"
   },
   {
    "duration": 59,
    "start_time": "2024-04-25T08:15:11.763Z"
   },
   {
    "duration": 24,
    "start_time": "2024-04-25T08:15:11.823Z"
   },
   {
    "duration": 14,
    "start_time": "2024-04-25T08:15:11.848Z"
   },
   {
    "duration": 3,
    "start_time": "2024-04-25T08:15:11.863Z"
   },
   {
    "duration": 878,
    "start_time": "2024-04-25T08:15:11.868Z"
   },
   {
    "duration": 103,
    "start_time": "2024-04-25T08:15:12.748Z"
   },
   {
    "duration": 37,
    "start_time": "2024-04-25T08:15:12.853Z"
   },
   {
    "duration": 4,
    "start_time": "2024-04-25T08:15:12.892Z"
   },
   {
    "duration": 12,
    "start_time": "2024-04-25T08:15:12.898Z"
   },
   {
    "duration": 39,
    "start_time": "2024-04-25T08:15:12.912Z"
   },
   {
    "duration": 9,
    "start_time": "2024-04-25T08:15:12.953Z"
   },
   {
    "duration": 3941,
    "start_time": "2024-04-25T08:15:12.963Z"
   },
   {
    "duration": 1389,
    "start_time": "2024-04-25T08:15:16.906Z"
   },
   {
    "duration": 1296,
    "start_time": "2024-04-25T08:15:18.297Z"
   },
   {
    "duration": 1323,
    "start_time": "2024-04-25T08:15:19.594Z"
   },
   {
    "duration": 716,
    "start_time": "2024-04-25T08:15:20.919Z"
   },
   {
    "duration": 1513,
    "start_time": "2024-04-25T08:15:21.636Z"
   },
   {
    "duration": 30,
    "start_time": "2024-04-25T08:15:23.151Z"
   },
   {
    "duration": 18,
    "start_time": "2024-04-25T08:15:23.183Z"
   },
   {
    "duration": 28,
    "start_time": "2024-04-25T08:15:23.203Z"
   },
   {
    "duration": 35,
    "start_time": "2024-04-25T08:15:23.232Z"
   },
   {
    "duration": 27,
    "start_time": "2024-04-25T08:15:23.268Z"
   },
   {
    "duration": 65,
    "start_time": "2024-04-25T08:15:23.297Z"
   },
   {
    "duration": 37,
    "start_time": "2024-04-25T08:15:23.364Z"
   },
   {
    "duration": 45,
    "start_time": "2024-04-25T08:15:23.402Z"
   },
   {
    "duration": 64,
    "start_time": "2024-04-25T08:15:23.450Z"
   },
   {
    "duration": 57,
    "start_time": "2024-04-25T08:15:23.516Z"
   },
   {
    "duration": 4801,
    "start_time": "2024-04-26T07:46:45.042Z"
   },
   {
    "duration": 3,
    "start_time": "2024-04-26T07:46:49.846Z"
   },
   {
    "duration": 98,
    "start_time": "2024-04-26T07:46:49.850Z"
   },
   {
    "duration": 24,
    "start_time": "2024-04-26T07:46:49.950Z"
   },
   {
    "duration": 15,
    "start_time": "2024-04-26T07:46:49.975Z"
   },
   {
    "duration": 36,
    "start_time": "2024-04-26T07:46:49.992Z"
   },
   {
    "duration": 878,
    "start_time": "2024-04-26T07:46:50.030Z"
   },
   {
    "duration": 33,
    "start_time": "2024-04-26T07:46:50.909Z"
   },
   {
    "duration": 57,
    "start_time": "2024-04-26T07:46:50.944Z"
   },
   {
    "duration": 4,
    "start_time": "2024-04-26T07:46:51.003Z"
   },
   {
    "duration": 19,
    "start_time": "2024-04-26T07:46:51.009Z"
   },
   {
    "duration": 15,
    "start_time": "2024-04-26T07:46:51.030Z"
   },
   {
    "duration": 8,
    "start_time": "2024-04-26T07:46:51.047Z"
   },
   {
    "duration": 5276,
    "start_time": "2024-04-26T07:46:51.057Z"
   },
   {
    "duration": 1159,
    "start_time": "2024-04-26T07:46:56.335Z"
   },
   {
    "duration": 1303,
    "start_time": "2024-04-26T07:46:57.496Z"
   },
   {
    "duration": 2094,
    "start_time": "2024-04-26T07:46:58.801Z"
   },
   {
    "duration": 456,
    "start_time": "2024-04-26T07:47:00.897Z"
   },
   {
    "duration": 1371,
    "start_time": "2024-04-26T07:47:01.354Z"
   },
   {
    "duration": 30,
    "start_time": "2024-04-26T07:47:02.727Z"
   },
   {
    "duration": 128,
    "start_time": "2024-04-26T07:47:02.758Z"
   },
   {
    "duration": 29,
    "start_time": "2024-04-26T07:47:02.888Z"
   },
   {
    "duration": 25,
    "start_time": "2024-04-26T07:47:02.919Z"
   },
   {
    "duration": 39,
    "start_time": "2024-04-26T07:47:02.946Z"
   },
   {
    "duration": 61,
    "start_time": "2024-04-26T07:47:02.986Z"
   },
   {
    "duration": 24,
    "start_time": "2024-04-26T07:47:03.048Z"
   },
   {
    "duration": 27,
    "start_time": "2024-04-26T07:47:03.074Z"
   },
   {
    "duration": 27,
    "start_time": "2024-04-26T07:47:03.104Z"
   },
   {
    "duration": 27,
    "start_time": "2024-04-26T07:47:03.132Z"
   },
   {
    "duration": 80,
    "start_time": "2024-04-26T08:35:19.926Z"
   },
   {
    "duration": 6489,
    "start_time": "2024-04-26T08:37:29.479Z"
   },
   {
    "duration": 5,
    "start_time": "2024-04-26T08:37:35.971Z"
   },
   {
    "duration": 105,
    "start_time": "2024-04-26T08:37:35.978Z"
   },
   {
    "duration": 41,
    "start_time": "2024-04-26T08:37:36.086Z"
   },
   {
    "duration": 85,
    "start_time": "2024-04-26T08:37:36.130Z"
   },
   {
    "duration": 87,
    "start_time": "2024-04-26T08:37:36.217Z"
   },
   {
    "duration": 1104,
    "start_time": "2024-04-26T08:37:36.305Z"
   },
   {
    "duration": 143,
    "start_time": "2024-04-26T08:37:37.411Z"
   },
   {
    "duration": 53,
    "start_time": "2024-04-26T08:37:37.555Z"
   },
   {
    "duration": 4,
    "start_time": "2024-04-26T08:37:37.610Z"
   },
   {
    "duration": 12,
    "start_time": "2024-04-26T08:37:37.615Z"
   },
   {
    "duration": 48,
    "start_time": "2024-04-26T08:37:37.629Z"
   },
   {
    "duration": 10,
    "start_time": "2024-04-26T08:37:37.679Z"
   },
   {
    "duration": 5681,
    "start_time": "2024-04-26T08:37:37.694Z"
   },
   {
    "duration": 1529,
    "start_time": "2024-04-26T08:37:43.377Z"
   },
   {
    "duration": 1744,
    "start_time": "2024-04-26T08:37:44.908Z"
   },
   {
    "duration": 1594,
    "start_time": "2024-04-26T08:37:46.654Z"
   },
   {
    "duration": 618,
    "start_time": "2024-04-26T08:37:48.249Z"
   },
   {
    "duration": 715,
    "start_time": "2024-04-26T08:37:48.868Z"
   },
   {
    "duration": 1175,
    "start_time": "2024-04-26T08:37:49.584Z"
   },
   {
    "duration": 38,
    "start_time": "2024-04-26T08:37:50.761Z"
   },
   {
    "duration": 28,
    "start_time": "2024-04-26T08:37:50.801Z"
   },
   {
    "duration": 18,
    "start_time": "2024-04-26T08:37:50.830Z"
   },
   {
    "duration": 10,
    "start_time": "2024-04-26T08:37:50.850Z"
   },
   {
    "duration": 14,
    "start_time": "2024-04-26T08:37:50.862Z"
   },
   {
    "duration": 28,
    "start_time": "2024-04-26T08:37:50.877Z"
   },
   {
    "duration": 28,
    "start_time": "2024-04-26T08:37:50.907Z"
   },
   {
    "duration": 39,
    "start_time": "2024-04-26T08:37:50.937Z"
   },
   {
    "duration": 31,
    "start_time": "2024-04-26T08:37:50.977Z"
   },
   {
    "duration": 30,
    "start_time": "2024-04-26T08:37:51.010Z"
   },
   {
    "duration": 51,
    "start_time": "2024-04-26T08:37:51.041Z"
   },
   {
    "duration": 5190,
    "start_time": "2024-04-26T08:40:40.465Z"
   },
   {
    "duration": 5157,
    "start_time": "2024-04-26T08:41:21.126Z"
   },
   {
    "duration": 7,
    "start_time": "2024-04-26T08:45:42.994Z"
   },
   {
    "duration": 4315,
    "start_time": "2024-04-26T08:45:49.328Z"
   },
   {
    "duration": 3,
    "start_time": "2024-04-26T08:45:53.645Z"
   },
   {
    "duration": 55,
    "start_time": "2024-04-26T08:45:53.650Z"
   },
   {
    "duration": 28,
    "start_time": "2024-04-26T08:45:53.707Z"
   },
   {
    "duration": 18,
    "start_time": "2024-04-26T08:45:53.738Z"
   },
   {
    "duration": 15,
    "start_time": "2024-04-26T08:45:53.758Z"
   },
   {
    "duration": 1019,
    "start_time": "2024-04-26T08:45:53.775Z"
   },
   {
    "duration": 9,
    "start_time": "2024-04-26T08:45:54.796Z"
   },
   {
    "duration": 125,
    "start_time": "2024-04-26T08:45:54.807Z"
   },
   {
    "duration": 68,
    "start_time": "2024-04-26T08:45:54.934Z"
   },
   {
    "duration": 5,
    "start_time": "2024-04-26T08:45:55.005Z"
   },
   {
    "duration": 21,
    "start_time": "2024-04-26T08:45:55.012Z"
   },
   {
    "duration": 43,
    "start_time": "2024-04-26T08:45:55.035Z"
   },
   {
    "duration": 13,
    "start_time": "2024-04-26T08:45:55.083Z"
   },
   {
    "duration": 4571,
    "start_time": "2024-04-26T08:45:55.098Z"
   },
   {
    "duration": 1519,
    "start_time": "2024-04-26T08:45:59.670Z"
   },
   {
    "duration": 1641,
    "start_time": "2024-04-26T08:46:01.190Z"
   },
   {
    "duration": 1656,
    "start_time": "2024-04-26T08:46:02.833Z"
   },
   {
    "duration": 604,
    "start_time": "2024-04-26T08:46:04.490Z"
   },
   {
    "duration": 684,
    "start_time": "2024-04-26T08:46:05.096Z"
   },
   {
    "duration": 2091,
    "start_time": "2024-04-26T08:46:05.782Z"
   },
   {
    "duration": 33,
    "start_time": "2024-04-26T08:46:07.875Z"
   },
   {
    "duration": 6,
    "start_time": "2024-04-26T08:46:07.909Z"
   },
   {
    "duration": 11,
    "start_time": "2024-04-26T08:46:07.917Z"
   },
   {
    "duration": 19,
    "start_time": "2024-04-26T08:46:07.930Z"
   },
   {
    "duration": 9,
    "start_time": "2024-04-26T08:46:07.973Z"
   },
   {
    "duration": 14,
    "start_time": "2024-04-26T08:46:07.984Z"
   },
   {
    "duration": 34,
    "start_time": "2024-04-26T08:46:08.000Z"
   },
   {
    "duration": 55,
    "start_time": "2024-04-26T08:46:08.036Z"
   },
   {
    "duration": 43,
    "start_time": "2024-04-26T08:46:08.094Z"
   },
   {
    "duration": 54,
    "start_time": "2024-04-26T08:46:08.139Z"
   },
   {
    "duration": 24,
    "start_time": "2024-04-26T08:46:08.195Z"
   },
   {
    "duration": 83,
    "start_time": "2024-04-26T08:48:08.780Z"
   },
   {
    "duration": 1228,
    "start_time": "2024-04-26T08:50:29.387Z"
   },
   {
    "duration": 1227,
    "start_time": "2024-04-26T08:52:28.210Z"
   },
   {
    "duration": 1401,
    "start_time": "2024-04-26T08:52:45.527Z"
   },
   {
    "duration": 1268,
    "start_time": "2024-04-26T08:52:59.527Z"
   },
   {
    "duration": 1330,
    "start_time": "2024-04-26T08:54:20.292Z"
   },
   {
    "duration": 929,
    "start_time": "2024-04-26T08:55:32.906Z"
   },
   {
    "duration": 26022,
    "start_time": "2024-04-26T08:58:46.775Z"
   },
   {
    "duration": 1656,
    "start_time": "2024-04-26T08:59:12.800Z"
   },
   {
    "duration": 702,
    "start_time": "2024-04-26T09:03:36.500Z"
   },
   {
    "duration": 1537,
    "start_time": "2024-04-26T09:03:38.853Z"
   },
   {
    "duration": 142,
    "start_time": "2024-04-26T09:06:16.451Z"
   },
   {
    "duration": 19,
    "start_time": "2024-04-26T09:06:28.148Z"
   },
   {
    "duration": 18,
    "start_time": "2024-04-26T09:08:52.557Z"
   },
   {
    "duration": 14,
    "start_time": "2024-04-26T09:09:19.202Z"
   },
   {
    "duration": 71,
    "start_time": "2024-04-26T09:09:50.636Z"
   },
   {
    "duration": 14,
    "start_time": "2024-04-26T09:09:54.276Z"
   },
   {
    "duration": 524,
    "start_time": "2024-04-26T09:10:03.896Z"
   },
   {
    "duration": 384,
    "start_time": "2024-04-26T09:10:29.175Z"
   },
   {
    "duration": 76,
    "start_time": "2024-04-26T09:11:16.815Z"
   },
   {
    "duration": 55,
    "start_time": "2024-04-26T09:15:53.260Z"
   },
   {
    "duration": 43,
    "start_time": "2024-04-26T09:16:50.295Z"
   },
   {
    "duration": 36,
    "start_time": "2024-04-26T09:18:17.555Z"
   },
   {
    "duration": 87,
    "start_time": "2024-04-26T09:19:19.895Z"
   },
   {
    "duration": 12,
    "start_time": "2024-04-26T09:19:46.598Z"
   },
   {
    "duration": 79,
    "start_time": "2024-04-26T09:20:13.053Z"
   },
   {
    "duration": 17,
    "start_time": "2024-04-26T09:34:11.738Z"
   },
   {
    "duration": 21,
    "start_time": "2024-04-26T09:34:31.487Z"
   },
   {
    "duration": 23,
    "start_time": "2024-04-26T09:34:44.912Z"
   },
   {
    "duration": 22,
    "start_time": "2024-04-26T09:35:08.098Z"
   },
   {
    "duration": 75,
    "start_time": "2024-04-26T09:44:05.688Z"
   },
   {
    "duration": 300,
    "start_time": "2024-04-26T09:45:18.515Z"
   },
   {
    "duration": 4422,
    "start_time": "2024-04-26T11:22:21.860Z"
   },
   {
    "duration": 3,
    "start_time": "2024-04-26T11:22:26.284Z"
   },
   {
    "duration": 66,
    "start_time": "2024-04-26T11:22:26.288Z"
   },
   {
    "duration": 32,
    "start_time": "2024-04-26T11:22:26.356Z"
   },
   {
    "duration": 35,
    "start_time": "2024-04-26T11:22:26.391Z"
   },
   {
    "duration": 4,
    "start_time": "2024-04-26T11:22:26.428Z"
   },
   {
    "duration": 1029,
    "start_time": "2024-04-26T11:22:26.434Z"
   },
   {
    "duration": 15,
    "start_time": "2024-04-26T11:22:27.464Z"
   },
   {
    "duration": 134,
    "start_time": "2024-04-26T11:22:27.481Z"
   },
   {
    "duration": 67,
    "start_time": "2024-04-26T11:22:27.617Z"
   },
   {
    "duration": 5,
    "start_time": "2024-04-26T11:22:27.686Z"
   },
   {
    "duration": 17,
    "start_time": "2024-04-26T11:22:27.692Z"
   },
   {
    "duration": 17,
    "start_time": "2024-04-26T11:22:27.710Z"
   },
   {
    "duration": 47,
    "start_time": "2024-04-26T11:22:27.730Z"
   },
   {
    "duration": 5702,
    "start_time": "2024-04-26T11:22:27.779Z"
   },
   {
    "duration": 1553,
    "start_time": "2024-04-26T11:22:33.483Z"
   },
   {
    "duration": 1587,
    "start_time": "2024-04-26T11:22:35.038Z"
   },
   {
    "duration": 1623,
    "start_time": "2024-04-26T11:22:36.626Z"
   },
   {
    "duration": 660,
    "start_time": "2024-04-26T11:22:38.251Z"
   },
   {
    "duration": 400,
    "start_time": "2024-04-26T11:22:38.913Z"
   },
   {
    "duration": 1054,
    "start_time": "2024-04-26T11:22:39.315Z"
   },
   {
    "duration": 347,
    "start_time": "2024-04-26T11:22:40.374Z"
   },
   {
    "duration": 54,
    "start_time": "2024-04-26T11:22:40.723Z"
   },
   {
    "duration": 10,
    "start_time": "2024-04-26T11:22:40.779Z"
   },
   {
    "duration": 9,
    "start_time": "2024-04-26T11:22:40.790Z"
   },
   {
    "duration": 9,
    "start_time": "2024-04-26T11:22:40.800Z"
   },
   {
    "duration": 28,
    "start_time": "2024-04-26T11:22:40.811Z"
   },
   {
    "duration": 49,
    "start_time": "2024-04-26T11:22:40.840Z"
   },
   {
    "duration": 35,
    "start_time": "2024-04-26T11:22:40.891Z"
   },
   {
    "duration": 60,
    "start_time": "2024-04-26T11:22:40.928Z"
   },
   {
    "duration": 31,
    "start_time": "2024-04-26T11:22:40.990Z"
   },
   {
    "duration": 23,
    "start_time": "2024-04-26T11:22:41.023Z"
   },
   {
    "duration": 38,
    "start_time": "2024-04-26T11:25:29.809Z"
   },
   {
    "duration": 165,
    "start_time": "2024-04-26T12:10:47.375Z"
   },
   {
    "duration": 36,
    "start_time": "2024-04-26T12:10:59.626Z"
   },
   {
    "duration": 50,
    "start_time": "2024-04-26T12:11:26.338Z"
   },
   {
    "duration": 35,
    "start_time": "2024-04-26T12:11:38.246Z"
   },
   {
    "duration": 82,
    "start_time": "2024-04-26T12:12:05.322Z"
   },
   {
    "duration": 22,
    "start_time": "2024-04-26T12:12:26.027Z"
   },
   {
    "duration": 81,
    "start_time": "2024-04-26T12:12:46.811Z"
   },
   {
    "duration": 8623,
    "start_time": "2024-04-26T12:13:03.657Z"
   },
   {
    "duration": 33,
    "start_time": "2024-04-26T12:14:01.461Z"
   },
   {
    "duration": 8579,
    "start_time": "2024-04-26T12:14:34.344Z"
   },
   {
    "duration": 8804,
    "start_time": "2024-04-26T12:15:07.436Z"
   },
   {
    "duration": 79,
    "start_time": "2024-04-26T12:17:46.797Z"
   },
   {
    "duration": 8984,
    "start_time": "2024-04-26T12:17:54.757Z"
   },
   {
    "duration": 91,
    "start_time": "2024-04-26T12:18:17.057Z"
   },
   {
    "duration": 8590,
    "start_time": "2024-04-26T12:18:29.538Z"
   },
   {
    "duration": 520,
    "start_time": "2024-04-26T12:20:58.177Z"
   },
   {
    "duration": 516,
    "start_time": "2024-04-26T12:23:40.289Z"
   },
   {
    "duration": 511,
    "start_time": "2024-04-26T12:24:47.529Z"
   },
   {
    "duration": 516,
    "start_time": "2024-04-26T12:26:57.943Z"
   },
   {
    "duration": 518,
    "start_time": "2024-04-26T12:27:08.184Z"
   },
   {
    "duration": 300,
    "start_time": "2024-04-26T12:27:38.562Z"
   },
   {
    "duration": 295,
    "start_time": "2024-04-26T12:28:14.724Z"
   },
   {
    "duration": 179,
    "start_time": "2024-04-26T12:30:11.427Z"
   },
   {
    "duration": 523,
    "start_time": "2024-04-26T12:37:42.804Z"
   },
   {
    "duration": 523,
    "start_time": "2024-04-26T12:37:57.550Z"
   },
   {
    "duration": 527,
    "start_time": "2024-04-26T12:38:30.595Z"
   },
   {
    "duration": 313,
    "start_time": "2024-04-26T12:42:54.162Z"
   },
   {
    "duration": 311,
    "start_time": "2024-04-26T12:44:40.763Z"
   },
   {
    "duration": 351,
    "start_time": "2024-04-26T12:45:01.821Z"
   },
   {
    "duration": 326,
    "start_time": "2024-04-26T12:45:13.702Z"
   },
   {
    "duration": 407,
    "start_time": "2024-04-26T12:46:30.892Z"
   },
   {
    "duration": 309,
    "start_time": "2024-04-26T12:47:34.879Z"
   },
   {
    "duration": 304,
    "start_time": "2024-04-26T14:06:46.379Z"
   },
   {
    "duration": 333,
    "start_time": "2024-04-26T14:06:57.872Z"
   },
   {
    "duration": 324,
    "start_time": "2024-04-26T14:07:11.993Z"
   },
   {
    "duration": 109,
    "start_time": "2024-04-26T14:07:26.358Z"
   },
   {
    "duration": 296,
    "start_time": "2024-04-26T14:07:34.294Z"
   },
   {
    "duration": 1214,
    "start_time": "2024-04-26T14:08:16.839Z"
   },
   {
    "duration": 310,
    "start_time": "2024-04-26T14:08:48.548Z"
   },
   {
    "duration": 49,
    "start_time": "2024-04-26T16:58:33.080Z"
   },
   {
    "duration": 5315,
    "start_time": "2024-04-26T16:58:39.969Z"
   },
   {
    "duration": 2,
    "start_time": "2024-04-26T16:58:45.287Z"
   },
   {
    "duration": 131,
    "start_time": "2024-04-26T16:58:45.291Z"
   },
   {
    "duration": 29,
    "start_time": "2024-04-26T16:58:45.424Z"
   },
   {
    "duration": 28,
    "start_time": "2024-04-26T16:58:45.455Z"
   },
   {
    "duration": 4,
    "start_time": "2024-04-26T16:58:45.485Z"
   },
   {
    "duration": 941,
    "start_time": "2024-04-26T16:58:45.491Z"
   },
   {
    "duration": 10,
    "start_time": "2024-04-26T16:58:46.434Z"
   },
   {
    "duration": 112,
    "start_time": "2024-04-26T16:58:46.446Z"
   },
   {
    "duration": 52,
    "start_time": "2024-04-26T16:58:46.560Z"
   },
   {
    "duration": 4,
    "start_time": "2024-04-26T16:58:46.614Z"
   },
   {
    "duration": 20,
    "start_time": "2024-04-26T16:58:46.620Z"
   },
   {
    "duration": 40,
    "start_time": "2024-04-26T16:58:46.641Z"
   },
   {
    "duration": 43,
    "start_time": "2024-04-26T16:58:46.683Z"
   },
   {
    "duration": 4119,
    "start_time": "2024-04-26T16:58:46.728Z"
   },
   {
    "duration": 1350,
    "start_time": "2024-04-26T16:58:50.848Z"
   },
   {
    "duration": 1392,
    "start_time": "2024-04-26T16:58:52.200Z"
   },
   {
    "duration": 1491,
    "start_time": "2024-04-26T16:58:53.595Z"
   },
   {
    "duration": 584,
    "start_time": "2024-04-26T16:58:55.088Z"
   },
   {
    "duration": 360,
    "start_time": "2024-04-26T16:58:55.673Z"
   },
   {
    "duration": 953,
    "start_time": "2024-04-26T16:58:56.034Z"
   },
   {
    "duration": 336,
    "start_time": "2024-04-26T16:58:56.988Z"
   },
   {
    "duration": 33,
    "start_time": "2024-04-26T16:58:57.326Z"
   },
   {
    "duration": 7,
    "start_time": "2024-04-26T16:58:57.361Z"
   },
   {
    "duration": 55,
    "start_time": "2024-04-26T16:58:57.370Z"
   },
   {
    "duration": 84,
    "start_time": "2024-04-26T16:58:57.427Z"
   },
   {
    "duration": 66,
    "start_time": "2024-04-26T16:58:57.512Z"
   },
   {
    "duration": 131,
    "start_time": "2024-04-26T16:58:57.581Z"
   },
   {
    "duration": 0,
    "start_time": "2024-04-26T16:58:57.713Z"
   },
   {
    "duration": 0,
    "start_time": "2024-04-26T16:58:57.714Z"
   },
   {
    "duration": 0,
    "start_time": "2024-04-26T16:58:57.716Z"
   },
   {
    "duration": 0,
    "start_time": "2024-04-26T16:58:57.717Z"
   },
   {
    "duration": 0,
    "start_time": "2024-04-26T16:58:57.718Z"
   },
   {
    "duration": 0,
    "start_time": "2024-04-26T16:58:57.719Z"
   },
   {
    "duration": 12,
    "start_time": "2024-04-26T17:00:37.785Z"
   },
   {
    "duration": 16,
    "start_time": "2024-04-26T17:01:18.446Z"
   },
   {
    "duration": 2430,
    "start_time": "2024-04-26T17:01:46.675Z"
   },
   {
    "duration": 3918,
    "start_time": "2024-04-26T17:01:53.682Z"
   },
   {
    "duration": 3,
    "start_time": "2024-04-26T17:01:57.602Z"
   },
   {
    "duration": 84,
    "start_time": "2024-04-26T17:01:57.606Z"
   },
   {
    "duration": 26,
    "start_time": "2024-04-26T17:01:57.692Z"
   },
   {
    "duration": 15,
    "start_time": "2024-04-26T17:01:57.721Z"
   },
   {
    "duration": 6,
    "start_time": "2024-04-26T17:01:57.738Z"
   },
   {
    "duration": 835,
    "start_time": "2024-04-26T17:01:57.746Z"
   },
   {
    "duration": 14,
    "start_time": "2024-04-26T17:01:58.583Z"
   },
   {
    "duration": 105,
    "start_time": "2024-04-26T17:01:58.599Z"
   },
   {
    "duration": 37,
    "start_time": "2024-04-26T17:01:58.706Z"
   },
   {
    "duration": 15,
    "start_time": "2024-04-26T17:01:58.744Z"
   },
   {
    "duration": 50,
    "start_time": "2024-04-26T17:01:58.760Z"
   },
   {
    "duration": 14,
    "start_time": "2024-04-26T17:01:58.812Z"
   },
   {
    "duration": 19,
    "start_time": "2024-04-26T17:01:58.829Z"
   },
   {
    "duration": 4146,
    "start_time": "2024-04-26T17:01:58.850Z"
   },
   {
    "duration": 1364,
    "start_time": "2024-04-26T17:02:02.998Z"
   },
   {
    "duration": 1473,
    "start_time": "2024-04-26T17:02:04.364Z"
   },
   {
    "duration": 1465,
    "start_time": "2024-04-26T17:02:05.839Z"
   },
   {
    "duration": 996,
    "start_time": "2024-04-26T17:02:07.305Z"
   },
   {
    "duration": 725,
    "start_time": "2024-04-26T17:02:08.303Z"
   },
   {
    "duration": 1146,
    "start_time": "2024-04-26T17:02:09.031Z"
   },
   {
    "duration": 386,
    "start_time": "2024-04-26T17:02:10.178Z"
   },
   {
    "duration": 42,
    "start_time": "2024-04-26T17:02:10.566Z"
   },
   {
    "duration": 32,
    "start_time": "2024-04-26T17:02:10.610Z"
   },
   {
    "duration": 42,
    "start_time": "2024-04-26T17:02:10.644Z"
   },
   {
    "duration": 11,
    "start_time": "2024-04-26T17:02:10.688Z"
   },
   {
    "duration": 43,
    "start_time": "2024-04-26T17:02:10.701Z"
   },
   {
    "duration": 130,
    "start_time": "2024-04-26T17:02:10.746Z"
   },
   {
    "duration": 0,
    "start_time": "2024-04-26T17:02:10.878Z"
   },
   {
    "duration": 0,
    "start_time": "2024-04-26T17:02:10.879Z"
   },
   {
    "duration": 0,
    "start_time": "2024-04-26T17:02:10.881Z"
   },
   {
    "duration": 0,
    "start_time": "2024-04-26T17:02:10.894Z"
   },
   {
    "duration": 0,
    "start_time": "2024-04-26T17:02:10.895Z"
   },
   {
    "duration": 0,
    "start_time": "2024-04-26T17:02:10.897Z"
   },
   {
    "duration": 23,
    "start_time": "2024-04-26T17:02:39.270Z"
   },
   {
    "duration": 20,
    "start_time": "2024-04-26T17:02:52.820Z"
   },
   {
    "duration": 379,
    "start_time": "2024-04-26T17:03:00.108Z"
   },
   {
    "duration": 349,
    "start_time": "2024-04-26T17:03:40.156Z"
   },
   {
    "duration": 84,
    "start_time": "2024-04-26T17:03:47.492Z"
   },
   {
    "duration": 145,
    "start_time": "2024-04-26T17:03:52.464Z"
   },
   {
    "duration": 249,
    "start_time": "2024-04-26T17:03:56.757Z"
   },
   {
    "duration": 332,
    "start_time": "2024-04-26T17:04:01.964Z"
   },
   {
    "duration": 256,
    "start_time": "2024-04-26T17:04:06.094Z"
   },
   {
    "duration": 143,
    "start_time": "2024-04-26T17:06:27.128Z"
   },
   {
    "duration": 252,
    "start_time": "2024-04-26T17:06:35.169Z"
   },
   {
    "duration": 56,
    "start_time": "2024-04-26T17:06:40.070Z"
   },
   {
    "duration": 151,
    "start_time": "2024-04-26T17:06:45.430Z"
   },
   {
    "duration": 275,
    "start_time": "2024-04-26T17:07:23.925Z"
   },
   {
    "duration": 262,
    "start_time": "2024-04-26T17:07:37.637Z"
   },
   {
    "duration": 5205,
    "start_time": "2024-04-27T06:59:48.824Z"
   },
   {
    "duration": 3,
    "start_time": "2024-04-27T06:59:54.030Z"
   },
   {
    "duration": 168,
    "start_time": "2024-04-27T06:59:54.034Z"
   },
   {
    "duration": 29,
    "start_time": "2024-04-27T06:59:54.203Z"
   },
   {
    "duration": 13,
    "start_time": "2024-04-27T06:59:54.234Z"
   },
   {
    "duration": 30,
    "start_time": "2024-04-27T06:59:54.248Z"
   },
   {
    "duration": 991,
    "start_time": "2024-04-27T06:59:54.280Z"
   },
   {
    "duration": 13,
    "start_time": "2024-04-27T06:59:55.272Z"
   },
   {
    "duration": 109,
    "start_time": "2024-04-27T06:59:55.287Z"
   },
   {
    "duration": 39,
    "start_time": "2024-04-27T06:59:55.397Z"
   },
   {
    "duration": 4,
    "start_time": "2024-04-27T06:59:55.437Z"
   },
   {
    "duration": 24,
    "start_time": "2024-04-27T06:59:55.443Z"
   },
   {
    "duration": 15,
    "start_time": "2024-04-27T06:59:55.482Z"
   },
   {
    "duration": 9,
    "start_time": "2024-04-27T06:59:55.500Z"
   },
   {
    "duration": 4319,
    "start_time": "2024-04-27T06:59:55.510Z"
   },
   {
    "duration": 1443,
    "start_time": "2024-04-27T06:59:59.831Z"
   },
   {
    "duration": 1517,
    "start_time": "2024-04-27T07:00:01.275Z"
   },
   {
    "duration": 1646,
    "start_time": "2024-04-27T07:00:02.794Z"
   },
   {
    "duration": 650,
    "start_time": "2024-04-27T07:00:04.442Z"
   },
   {
    "duration": 423,
    "start_time": "2024-04-27T07:00:05.093Z"
   },
   {
    "duration": 1001,
    "start_time": "2024-04-27T07:00:05.518Z"
   },
   {
    "duration": 331,
    "start_time": "2024-04-27T07:00:06.521Z"
   },
   {
    "duration": 43,
    "start_time": "2024-04-27T07:00:06.854Z"
   },
   {
    "duration": 8,
    "start_time": "2024-04-27T07:00:06.899Z"
   },
   {
    "duration": 23,
    "start_time": "2024-04-27T07:00:06.909Z"
   },
   {
    "duration": 15,
    "start_time": "2024-04-27T07:00:06.933Z"
   },
   {
    "duration": 302,
    "start_time": "2024-04-27T07:00:06.950Z"
   },
   {
    "duration": 28,
    "start_time": "2024-04-27T07:00:07.254Z"
   },
   {
    "duration": 27,
    "start_time": "2024-04-27T07:00:07.284Z"
   },
   {
    "duration": 27,
    "start_time": "2024-04-27T07:00:07.313Z"
   },
   {
    "duration": 62,
    "start_time": "2024-04-27T07:00:07.342Z"
   },
   {
    "duration": 30,
    "start_time": "2024-04-27T07:00:07.406Z"
   },
   {
    "duration": 59,
    "start_time": "2024-04-27T07:00:07.438Z"
   },
   {
    "duration": 310,
    "start_time": "2024-04-27T07:00:34.011Z"
   },
   {
    "duration": 284,
    "start_time": "2024-04-27T07:02:56.623Z"
   },
   {
    "duration": 302,
    "start_time": "2024-04-27T07:04:35.333Z"
   },
   {
    "duration": 181,
    "start_time": "2024-04-27T07:04:56.825Z"
   },
   {
    "duration": 169,
    "start_time": "2024-04-27T07:05:09.423Z"
   },
   {
    "duration": 57,
    "start_time": "2024-04-27T07:14:12.166Z"
   },
   {
    "duration": 4007,
    "start_time": "2024-04-27T07:21:53.140Z"
   },
   {
    "duration": 3,
    "start_time": "2024-04-27T07:21:57.149Z"
   },
   {
    "duration": 63,
    "start_time": "2024-04-27T07:21:57.154Z"
   },
   {
    "duration": 25,
    "start_time": "2024-04-27T07:21:57.219Z"
   },
   {
    "duration": 20,
    "start_time": "2024-04-27T07:21:57.245Z"
   },
   {
    "duration": 16,
    "start_time": "2024-04-27T07:21:57.267Z"
   },
   {
    "duration": 963,
    "start_time": "2024-04-27T07:21:57.284Z"
   },
   {
    "duration": 7,
    "start_time": "2024-04-27T07:21:58.249Z"
   },
   {
    "duration": 113,
    "start_time": "2024-04-27T07:21:58.258Z"
   },
   {
    "duration": 60,
    "start_time": "2024-04-27T07:21:58.384Z"
   },
   {
    "duration": 28,
    "start_time": "2024-04-27T07:21:58.446Z"
   },
   {
    "duration": 42,
    "start_time": "2024-04-27T07:21:58.475Z"
   },
   {
    "duration": 40,
    "start_time": "2024-04-27T07:21:58.519Z"
   },
   {
    "duration": 38,
    "start_time": "2024-04-27T07:21:58.561Z"
   },
   {
    "duration": 4347,
    "start_time": "2024-04-27T07:21:58.601Z"
   },
   {
    "duration": 1456,
    "start_time": "2024-04-27T07:22:02.950Z"
   },
   {
    "duration": 1421,
    "start_time": "2024-04-27T07:22:04.408Z"
   },
   {
    "duration": 1547,
    "start_time": "2024-04-27T07:22:05.831Z"
   },
   {
    "duration": 595,
    "start_time": "2024-04-27T07:22:07.380Z"
   },
   {
    "duration": 418,
    "start_time": "2024-04-27T07:22:07.977Z"
   },
   {
    "duration": 1001,
    "start_time": "2024-04-27T07:22:08.397Z"
   },
   {
    "duration": 335,
    "start_time": "2024-04-27T07:22:09.399Z"
   },
   {
    "duration": 49,
    "start_time": "2024-04-27T07:22:09.736Z"
   },
   {
    "duration": 12,
    "start_time": "2024-04-27T07:22:09.787Z"
   },
   {
    "duration": 18,
    "start_time": "2024-04-27T07:22:09.801Z"
   },
   {
    "duration": 26,
    "start_time": "2024-04-27T07:22:09.822Z"
   },
   {
    "duration": 191,
    "start_time": "2024-04-27T07:22:09.850Z"
   },
   {
    "duration": 5499,
    "start_time": "2024-04-27T07:39:17.934Z"
   },
   {
    "duration": 3,
    "start_time": "2024-04-27T07:39:23.435Z"
   },
   {
    "duration": 52,
    "start_time": "2024-04-27T07:39:23.440Z"
   },
   {
    "duration": 27,
    "start_time": "2024-04-27T07:39:23.494Z"
   },
   {
    "duration": 14,
    "start_time": "2024-04-27T07:39:23.523Z"
   },
   {
    "duration": 4,
    "start_time": "2024-04-27T07:39:23.538Z"
   },
   {
    "duration": 1018,
    "start_time": "2024-04-27T07:39:23.543Z"
   },
   {
    "duration": 21,
    "start_time": "2024-04-27T07:39:24.563Z"
   },
   {
    "duration": 116,
    "start_time": "2024-04-27T07:39:24.585Z"
   },
   {
    "duration": 41,
    "start_time": "2024-04-27T07:39:24.705Z"
   },
   {
    "duration": 4,
    "start_time": "2024-04-27T07:39:24.748Z"
   },
   {
    "duration": 36,
    "start_time": "2024-04-27T07:39:24.753Z"
   },
   {
    "duration": 20,
    "start_time": "2024-04-27T07:39:24.790Z"
   },
   {
    "duration": 9,
    "start_time": "2024-04-27T07:39:24.812Z"
   },
   {
    "duration": 4336,
    "start_time": "2024-04-27T07:39:24.822Z"
   },
   {
    "duration": 1455,
    "start_time": "2024-04-27T07:39:29.160Z"
   },
   {
    "duration": 1474,
    "start_time": "2024-04-27T07:39:30.617Z"
   },
   {
    "duration": 1640,
    "start_time": "2024-04-27T07:39:32.094Z"
   },
   {
    "duration": 650,
    "start_time": "2024-04-27T07:39:33.736Z"
   },
   {
    "duration": 403,
    "start_time": "2024-04-27T07:39:34.387Z"
   },
   {
    "duration": 1048,
    "start_time": "2024-04-27T07:39:34.791Z"
   },
   {
    "duration": 377,
    "start_time": "2024-04-27T07:39:35.841Z"
   },
   {
    "duration": 35,
    "start_time": "2024-04-27T07:39:36.220Z"
   },
   {
    "duration": 28,
    "start_time": "2024-04-27T07:39:36.256Z"
   },
   {
    "duration": 9,
    "start_time": "2024-04-27T07:39:36.286Z"
   },
   {
    "duration": 9,
    "start_time": "2024-04-27T07:39:36.296Z"
   },
   {
    "duration": 198,
    "start_time": "2024-04-27T07:39:36.306Z"
   },
   {
    "duration": 164,
    "start_time": "2024-04-27T07:42:51.252Z"
   },
   {
    "duration": 4160,
    "start_time": "2024-04-27T08:14:47.218Z"
   },
   {
    "duration": 3,
    "start_time": "2024-04-27T08:14:51.381Z"
   },
   {
    "duration": 68,
    "start_time": "2024-04-27T08:14:51.385Z"
   },
   {
    "duration": 26,
    "start_time": "2024-04-27T08:14:51.455Z"
   },
   {
    "duration": 17,
    "start_time": "2024-04-27T08:14:51.482Z"
   },
   {
    "duration": 18,
    "start_time": "2024-04-27T08:14:51.501Z"
   },
   {
    "duration": 964,
    "start_time": "2024-04-27T08:14:51.521Z"
   },
   {
    "duration": 7,
    "start_time": "2024-04-27T08:14:52.487Z"
   },
   {
    "duration": 125,
    "start_time": "2024-04-27T08:14:52.496Z"
   },
   {
    "duration": 57,
    "start_time": "2024-04-27T08:14:52.625Z"
   },
   {
    "duration": 5,
    "start_time": "2024-04-27T08:14:52.683Z"
   },
   {
    "duration": 20,
    "start_time": "2024-04-27T08:14:52.689Z"
   },
   {
    "duration": 19,
    "start_time": "2024-04-27T08:14:52.710Z"
   },
   {
    "duration": 27,
    "start_time": "2024-04-27T08:14:52.731Z"
   },
   {
    "duration": 5172,
    "start_time": "2024-04-27T08:14:52.759Z"
   },
   {
    "duration": 1459,
    "start_time": "2024-04-27T08:14:57.933Z"
   },
   {
    "duration": 1475,
    "start_time": "2024-04-27T08:14:59.394Z"
   },
   {
    "duration": 1595,
    "start_time": "2024-04-27T08:15:00.871Z"
   },
   {
    "duration": 640,
    "start_time": "2024-04-27T08:15:02.468Z"
   },
   {
    "duration": 435,
    "start_time": "2024-04-27T08:15:03.109Z"
   },
   {
    "duration": 1070,
    "start_time": "2024-04-27T08:15:03.545Z"
   },
   {
    "duration": 321,
    "start_time": "2024-04-27T08:15:04.616Z"
   },
   {
    "duration": 44,
    "start_time": "2024-04-27T08:15:04.939Z"
   },
   {
    "duration": 9,
    "start_time": "2024-04-27T08:15:04.985Z"
   },
   {
    "duration": 21,
    "start_time": "2024-04-27T08:15:04.995Z"
   },
   {
    "duration": 18,
    "start_time": "2024-04-27T08:15:05.017Z"
   },
   {
    "duration": 196,
    "start_time": "2024-04-27T08:15:05.037Z"
   },
   {
    "duration": 6471,
    "start_time": "2024-04-28T08:07:17.575Z"
   },
   {
    "duration": 3,
    "start_time": "2024-04-28T08:07:24.048Z"
   },
   {
    "duration": 108,
    "start_time": "2024-04-28T08:07:24.053Z"
   },
   {
    "duration": 29,
    "start_time": "2024-04-28T08:07:24.164Z"
   },
   {
    "duration": 14,
    "start_time": "2024-04-28T08:07:24.195Z"
   },
   {
    "duration": 13,
    "start_time": "2024-04-28T08:07:24.210Z"
   },
   {
    "duration": 1080,
    "start_time": "2024-04-28T08:07:24.224Z"
   },
   {
    "duration": 8,
    "start_time": "2024-04-28T08:07:25.306Z"
   },
   {
    "duration": 121,
    "start_time": "2024-04-28T08:07:25.316Z"
   },
   {
    "duration": 77,
    "start_time": "2024-04-28T08:07:25.440Z"
   },
   {
    "duration": 5,
    "start_time": "2024-04-28T08:07:25.519Z"
   },
   {
    "duration": 25,
    "start_time": "2024-04-28T08:07:25.527Z"
   },
   {
    "duration": 42,
    "start_time": "2024-04-28T08:07:25.554Z"
   },
   {
    "duration": 18,
    "start_time": "2024-04-28T08:07:25.598Z"
   },
   {
    "duration": 4649,
    "start_time": "2024-04-28T08:07:25.617Z"
   },
   {
    "duration": 1562,
    "start_time": "2024-04-28T08:07:30.268Z"
   },
   {
    "duration": 1490,
    "start_time": "2024-04-28T08:07:31.831Z"
   },
   {
    "duration": 1627,
    "start_time": "2024-04-28T08:07:33.323Z"
   },
   {
    "duration": 630,
    "start_time": "2024-04-28T08:07:34.952Z"
   },
   {
    "duration": 445,
    "start_time": "2024-04-28T08:07:35.584Z"
   },
   {
    "duration": 1110,
    "start_time": "2024-04-28T08:07:36.031Z"
   },
   {
    "duration": 386,
    "start_time": "2024-04-28T08:07:37.143Z"
   },
   {
    "duration": 38,
    "start_time": "2024-04-28T08:07:37.531Z"
   },
   {
    "duration": 9,
    "start_time": "2024-04-28T08:07:37.581Z"
   },
   {
    "duration": 24,
    "start_time": "2024-04-28T08:07:37.591Z"
   },
   {
    "duration": 139,
    "start_time": "2024-04-28T08:07:58.778Z"
   },
   {
    "duration": 115,
    "start_time": "2024-04-28T08:08:10.033Z"
   },
   {
    "duration": 98,
    "start_time": "2024-04-28T08:08:17.001Z"
   },
   {
    "duration": 2826,
    "start_time": "2024-04-28T08:08:58.421Z"
   },
   {
    "duration": 4,
    "start_time": "2024-04-28T08:09:01.249Z"
   },
   {
    "duration": 156,
    "start_time": "2024-04-28T08:09:01.254Z"
   },
   {
    "duration": 58,
    "start_time": "2024-04-28T08:09:01.412Z"
   },
   {
    "duration": 61,
    "start_time": "2024-04-28T08:09:01.472Z"
   },
   {
    "duration": 70,
    "start_time": "2024-04-28T08:09:01.534Z"
   },
   {
    "duration": 1213,
    "start_time": "2024-04-28T08:09:01.606Z"
   },
   {
    "duration": 9,
    "start_time": "2024-04-28T08:09:02.821Z"
   },
   {
    "duration": 64,
    "start_time": "2024-04-28T08:09:02.832Z"
   },
   {
    "duration": 196,
    "start_time": "2024-04-28T08:09:02.900Z"
   },
   {
    "duration": 5,
    "start_time": "2024-04-28T08:09:03.099Z"
   },
   {
    "duration": 28,
    "start_time": "2024-04-28T08:09:03.106Z"
   },
   {
    "duration": 25,
    "start_time": "2024-04-28T08:09:03.136Z"
   },
   {
    "duration": 25,
    "start_time": "2024-04-28T08:09:03.163Z"
   },
   {
    "duration": 5832,
    "start_time": "2024-04-28T08:09:03.190Z"
   },
   {
    "duration": 1556,
    "start_time": "2024-04-28T08:09:09.024Z"
   },
   {
    "duration": 1837,
    "start_time": "2024-04-28T08:09:10.582Z"
   },
   {
    "duration": 1570,
    "start_time": "2024-04-28T08:09:12.420Z"
   },
   {
    "duration": 657,
    "start_time": "2024-04-28T08:09:13.992Z"
   },
   {
    "duration": 588,
    "start_time": "2024-04-28T08:09:14.651Z"
   },
   {
    "duration": 1113,
    "start_time": "2024-04-28T08:09:15.241Z"
   },
   {
    "duration": 384,
    "start_time": "2024-04-28T08:09:16.356Z"
   },
   {
    "duration": 43,
    "start_time": "2024-04-28T08:09:16.742Z"
   },
   {
    "duration": 11,
    "start_time": "2024-04-28T08:09:16.787Z"
   },
   {
    "duration": 17,
    "start_time": "2024-04-28T08:09:16.799Z"
   },
   {
    "duration": 123,
    "start_time": "2024-04-28T08:09:16.818Z"
   },
   {
    "duration": 9,
    "start_time": "2024-04-28T08:09:16.942Z"
   },
   {
    "duration": 195,
    "start_time": "2024-04-28T08:09:16.954Z"
   },
   {
    "duration": 5442,
    "start_time": "2024-04-28T15:52:57.474Z"
   },
   {
    "duration": 3,
    "start_time": "2024-04-28T15:53:02.919Z"
   },
   {
    "duration": 155,
    "start_time": "2024-04-28T15:53:02.923Z"
   },
   {
    "duration": 28,
    "start_time": "2024-04-28T15:53:03.080Z"
   },
   {
    "duration": 14,
    "start_time": "2024-04-28T15:53:03.111Z"
   },
   {
    "duration": 16,
    "start_time": "2024-04-28T15:53:03.127Z"
   },
   {
    "duration": 1025,
    "start_time": "2024-04-28T15:53:03.144Z"
   },
   {
    "duration": 9,
    "start_time": "2024-04-28T15:53:04.171Z"
   },
   {
    "duration": 121,
    "start_time": "2024-04-28T15:53:04.182Z"
   },
   {
    "duration": 47,
    "start_time": "2024-04-28T15:53:04.305Z"
   },
   {
    "duration": 5,
    "start_time": "2024-04-28T15:53:04.354Z"
   },
   {
    "duration": 44,
    "start_time": "2024-04-28T15:53:04.360Z"
   },
   {
    "duration": 20,
    "start_time": "2024-04-28T15:53:04.406Z"
   },
   {
    "duration": 10,
    "start_time": "2024-04-28T15:53:04.429Z"
   },
   {
    "duration": 4187,
    "start_time": "2024-04-28T15:53:04.441Z"
   },
   {
    "duration": 1365,
    "start_time": "2024-04-28T15:53:08.630Z"
   },
   {
    "duration": 1523,
    "start_time": "2024-04-28T15:53:09.997Z"
   },
   {
    "duration": 1516,
    "start_time": "2024-04-28T15:53:11.522Z"
   },
   {
    "duration": 601,
    "start_time": "2024-04-28T15:53:13.039Z"
   },
   {
    "duration": 428,
    "start_time": "2024-04-28T15:53:13.642Z"
   },
   {
    "duration": 964,
    "start_time": "2024-04-28T15:53:14.072Z"
   },
   {
    "duration": 358,
    "start_time": "2024-04-28T15:53:15.037Z"
   },
   {
    "duration": 36,
    "start_time": "2024-04-28T15:53:15.397Z"
   },
   {
    "duration": 14,
    "start_time": "2024-04-28T15:53:15.435Z"
   },
   {
    "duration": 39,
    "start_time": "2024-04-28T15:53:15.451Z"
   },
   {
    "duration": 91,
    "start_time": "2024-04-28T15:53:15.492Z"
   },
   {
    "duration": 8,
    "start_time": "2024-04-28T15:53:15.585Z"
   },
   {
    "duration": 171,
    "start_time": "2024-04-28T15:53:15.595Z"
   },
   {
    "duration": 17,
    "start_time": "2024-04-28T15:53:46.436Z"
   },
   {
    "duration": 11,
    "start_time": "2024-04-28T15:54:23.270Z"
   },
   {
    "duration": 90,
    "start_time": "2024-04-28T16:08:05.933Z"
   },
   {
    "duration": 5509,
    "start_time": "2024-08-05T12:37:22.623Z"
   },
   {
    "duration": 4,
    "start_time": "2024-08-05T12:37:28.134Z"
   },
   {
    "duration": 187,
    "start_time": "2024-08-05T12:37:28.139Z"
   },
   {
    "duration": 29,
    "start_time": "2024-08-05T12:37:28.328Z"
   },
   {
    "duration": 13,
    "start_time": "2024-08-05T12:37:28.358Z"
   },
   {
    "duration": 3,
    "start_time": "2024-08-05T12:37:28.373Z"
   },
   {
    "duration": 1045,
    "start_time": "2024-08-05T12:37:28.378Z"
   },
   {
    "duration": 10,
    "start_time": "2024-08-05T12:37:29.426Z"
   },
   {
    "duration": 125,
    "start_time": "2024-08-05T12:37:29.446Z"
   },
   {
    "duration": 43,
    "start_time": "2024-08-05T12:37:29.573Z"
   },
   {
    "duration": 4,
    "start_time": "2024-08-05T12:37:29.618Z"
   },
   {
    "duration": 30,
    "start_time": "2024-08-05T12:37:29.624Z"
   },
   {
    "duration": 16,
    "start_time": "2024-08-05T12:37:29.656Z"
   },
   {
    "duration": 9,
    "start_time": "2024-08-05T12:37:29.674Z"
   },
   {
    "duration": 4436,
    "start_time": "2024-08-05T12:37:29.684Z"
   },
   {
    "duration": 1440,
    "start_time": "2024-08-05T12:37:34.121Z"
   },
   {
    "duration": 1555,
    "start_time": "2024-08-05T12:37:35.563Z"
   },
   {
    "duration": 1592,
    "start_time": "2024-08-05T12:37:37.120Z"
   },
   {
    "duration": 638,
    "start_time": "2024-08-05T12:37:38.713Z"
   },
   {
    "duration": 473,
    "start_time": "2024-08-05T12:37:39.353Z"
   },
   {
    "duration": 1066,
    "start_time": "2024-08-05T12:37:39.827Z"
   },
   {
    "duration": 387,
    "start_time": "2024-08-05T12:37:40.895Z"
   },
   {
    "duration": 37,
    "start_time": "2024-08-05T12:37:41.284Z"
   },
   {
    "duration": 25,
    "start_time": "2024-08-05T12:37:41.322Z"
   },
   {
    "duration": 8,
    "start_time": "2024-08-05T12:37:41.349Z"
   },
   {
    "duration": 9,
    "start_time": "2024-08-05T12:37:41.359Z"
   },
   {
    "duration": 15,
    "start_time": "2024-08-05T12:37:41.369Z"
   },
   {
    "duration": 200,
    "start_time": "2024-08-05T12:37:41.388Z"
   }
  ],
  "kernelspec": {
   "display_name": "Python 3 (ipykernel)",
   "language": "python",
   "name": "python3"
  },
  "language_info": {
   "codemirror_mode": {
    "name": "ipython",
    "version": 3
   },
   "file_extension": ".py",
   "mimetype": "text/x-python",
   "name": "python",
   "nbconvert_exporter": "python",
   "pygments_lexer": "ipython3",
   "version": "3.12.9"
  },
  "toc": {
   "base_numbering": 1,
   "nav_menu": {},
   "number_sections": true,
   "sideBar": true,
   "skip_h1_title": true,
   "title_cell": "Table of Contents",
   "title_sidebar": "Contents",
   "toc_cell": false,
   "toc_position": {
    "height": "calc(100% - 180px)",
    "left": "10px",
    "top": "150px",
    "width": "256.989px"
   },
   "toc_section_display": true,
   "toc_window_display": true
  }
 },
 "nbformat": 4,
 "nbformat_minor": 4
}
