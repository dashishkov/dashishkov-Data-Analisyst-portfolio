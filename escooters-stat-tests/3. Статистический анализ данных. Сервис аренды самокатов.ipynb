{
 "cells": [
  {
   "cell_type": "markdown",
   "id": "46edcfdf",
   "metadata": {},
   "source": [
    "#           Анализ групп подписчиков сервиса аренды самокатов GoFast"
   ]
  },
  {
   "cell_type": "markdown",
   "id": "bd29e310",
   "metadata": {},
   "source": [
    "### Введение в проект: \n",
    "Вы аналитик популярного сервиса аренды самокатов GoFast. Вам передали данные о некоторых пользователях из нескольких городов, а также об их поездках. Проанализируйте данные и проверьте некоторые гипотезы, которые могут помочь бизнесу вырасти.\n",
    "Чтобы совершать поездки по городу, пользователи сервиса GoFast пользуются мобильным приложением. Сервисом можно пользоваться:\n",
    "\n",
    "    без подписки\n",
    "      \n",
    "        абонентская плата отсутствует;\n",
    "        стоимость одной минуты поездки — 8 рублей;\n",
    "        стоимость старта (начала поездки) — 50 рублей;\n",
    "        \n",
    "    с подпиской Ultra\n",
    "      \n",
    "        абонентская плата — 199 рублей в месяц;\n",
    "        стоимость одной минуты поездки — 6 рублей;\n",
    "        стоимость старта — бесплатно."
   ]
  },
  {
   "cell_type": "code",
   "execution_count": 1,
   "id": "688c7202",
   "metadata": {},
   "outputs": [],
   "source": [
    "import pandas as pd\n",
    "import seaborn as sns\n",
    "import matplotlib.pyplot as plt\n",
    "import numpy as np\n",
    "from scipy import stats as st"
   ]
  },
  {
   "cell_type": "markdown",
   "id": "763380ad",
   "metadata": {},
   "source": [
    "#### Шаг 1. Загрузка данных"
   ]
  },
  {
   "cell_type": "code",
   "execution_count": 2,
   "id": "fb2fd71c",
   "metadata": {},
   "outputs": [
    {
     "data": {
      "text/html": [
       "<div>\n",
       "<style scoped>\n",
       "    .dataframe tbody tr th:only-of-type {\n",
       "        vertical-align: middle;\n",
       "    }\n",
       "\n",
       "    .dataframe tbody tr th {\n",
       "        vertical-align: top;\n",
       "    }\n",
       "\n",
       "    .dataframe thead th {\n",
       "        text-align: right;\n",
       "    }\n",
       "</style>\n",
       "<table border=\"1\" class=\"dataframe\">\n",
       "  <thead>\n",
       "    <tr style=\"text-align: right;\">\n",
       "      <th></th>\n",
       "      <th>user_id</th>\n",
       "      <th>name</th>\n",
       "      <th>age</th>\n",
       "      <th>city</th>\n",
       "      <th>subscription_type</th>\n",
       "    </tr>\n",
       "  </thead>\n",
       "  <tbody>\n",
       "    <tr>\n",
       "      <th>0</th>\n",
       "      <td>1</td>\n",
       "      <td>Кира</td>\n",
       "      <td>22</td>\n",
       "      <td>Тюмень</td>\n",
       "      <td>ultra</td>\n",
       "    </tr>\n",
       "    <tr>\n",
       "      <th>1</th>\n",
       "      <td>2</td>\n",
       "      <td>Станислав</td>\n",
       "      <td>31</td>\n",
       "      <td>Омск</td>\n",
       "      <td>ultra</td>\n",
       "    </tr>\n",
       "    <tr>\n",
       "      <th>2</th>\n",
       "      <td>3</td>\n",
       "      <td>Алексей</td>\n",
       "      <td>20</td>\n",
       "      <td>Москва</td>\n",
       "      <td>ultra</td>\n",
       "    </tr>\n",
       "    <tr>\n",
       "      <th>3</th>\n",
       "      <td>4</td>\n",
       "      <td>Константин</td>\n",
       "      <td>26</td>\n",
       "      <td>Ростов-на-Дону</td>\n",
       "      <td>ultra</td>\n",
       "    </tr>\n",
       "    <tr>\n",
       "      <th>4</th>\n",
       "      <td>5</td>\n",
       "      <td>Адель</td>\n",
       "      <td>28</td>\n",
       "      <td>Омск</td>\n",
       "      <td>ultra</td>\n",
       "    </tr>\n",
       "  </tbody>\n",
       "</table>\n",
       "</div>"
      ],
      "text/plain": [
       "   user_id        name  age            city subscription_type\n",
       "0        1        Кира   22          Тюмень             ultra\n",
       "1        2   Станислав   31            Омск             ultra\n",
       "2        3     Алексей   20          Москва             ultra\n",
       "3        4  Константин   26  Ростов-на-Дону             ultra\n",
       "4        5       Адель   28            Омск             ultra"
      ]
     },
     "execution_count": 2,
     "metadata": {},
     "output_type": "execute_result"
    }
   ],
   "source": [
    "pd.set_option('display.max_columns', None)\n",
    "users = pd.read_csv('/datasets/users_go.csv')\n",
    "users.head()"
   ]
  },
  {
   "cell_type": "code",
   "execution_count": 3,
   "id": "4128d52a",
   "metadata": {
    "scrolled": true
   },
   "outputs": [
    {
     "name": "stdout",
     "output_type": "stream",
     "text": [
      "<class 'pandas.core.frame.DataFrame'>\n",
      "RangeIndex: 1565 entries, 0 to 1564\n",
      "Data columns (total 5 columns):\n",
      " #   Column             Non-Null Count  Dtype \n",
      "---  ------             --------------  ----- \n",
      " 0   user_id            1565 non-null   int64 \n",
      " 1   name               1565 non-null   object\n",
      " 2   age                1565 non-null   int64 \n",
      " 3   city               1565 non-null   object\n",
      " 4   subscription_type  1565 non-null   object\n",
      "dtypes: int64(2), object(3)\n",
      "memory usage: 61.3+ KB\n"
     ]
    }
   ],
   "source": [
    "users.info()"
   ]
  },
  {
   "cell_type": "markdown",
   "id": "c96a898d",
   "metadata": {},
   "source": [
    "В датафрейме 1565 строк и нет пропущенных значений"
   ]
  },
  {
   "cell_type": "code",
   "execution_count": 4,
   "id": "69f1b4c8",
   "metadata": {
    "scrolled": true
   },
   "outputs": [
    {
     "data": {
      "text/html": [
       "<div>\n",
       "<style scoped>\n",
       "    .dataframe tbody tr th:only-of-type {\n",
       "        vertical-align: middle;\n",
       "    }\n",
       "\n",
       "    .dataframe tbody tr th {\n",
       "        vertical-align: top;\n",
       "    }\n",
       "\n",
       "    .dataframe thead th {\n",
       "        text-align: right;\n",
       "    }\n",
       "</style>\n",
       "<table border=\"1\" class=\"dataframe\">\n",
       "  <thead>\n",
       "    <tr style=\"text-align: right;\">\n",
       "      <th></th>\n",
       "      <th>user_id</th>\n",
       "      <th>distance</th>\n",
       "      <th>duration</th>\n",
       "      <th>date</th>\n",
       "    </tr>\n",
       "  </thead>\n",
       "  <tbody>\n",
       "    <tr>\n",
       "      <th>0</th>\n",
       "      <td>1</td>\n",
       "      <td>4409.919140</td>\n",
       "      <td>25.599769</td>\n",
       "      <td>2021-01-01</td>\n",
       "    </tr>\n",
       "    <tr>\n",
       "      <th>1</th>\n",
       "      <td>1</td>\n",
       "      <td>2617.592153</td>\n",
       "      <td>15.816871</td>\n",
       "      <td>2021-01-18</td>\n",
       "    </tr>\n",
       "    <tr>\n",
       "      <th>2</th>\n",
       "      <td>1</td>\n",
       "      <td>754.159807</td>\n",
       "      <td>6.232113</td>\n",
       "      <td>2021-04-20</td>\n",
       "    </tr>\n",
       "    <tr>\n",
       "      <th>3</th>\n",
       "      <td>1</td>\n",
       "      <td>2694.783254</td>\n",
       "      <td>18.511000</td>\n",
       "      <td>2021-08-11</td>\n",
       "    </tr>\n",
       "    <tr>\n",
       "      <th>4</th>\n",
       "      <td>1</td>\n",
       "      <td>4028.687306</td>\n",
       "      <td>26.265803</td>\n",
       "      <td>2021-08-28</td>\n",
       "    </tr>\n",
       "  </tbody>\n",
       "</table>\n",
       "</div>"
      ],
      "text/plain": [
       "   user_id     distance   duration        date\n",
       "0        1  4409.919140  25.599769  2021-01-01\n",
       "1        1  2617.592153  15.816871  2021-01-18\n",
       "2        1   754.159807   6.232113  2021-04-20\n",
       "3        1  2694.783254  18.511000  2021-08-11\n",
       "4        1  4028.687306  26.265803  2021-08-28"
      ]
     },
     "execution_count": 4,
     "metadata": {},
     "output_type": "execute_result"
    }
   ],
   "source": [
    "rides = pd.read_csv('/datasets/rides_go.csv')\n",
    "rides.head()"
   ]
  },
  {
   "cell_type": "code",
   "execution_count": 5,
   "id": "34e6f949",
   "metadata": {
    "scrolled": true
   },
   "outputs": [
    {
     "name": "stdout",
     "output_type": "stream",
     "text": [
      "<class 'pandas.core.frame.DataFrame'>\n",
      "RangeIndex: 18068 entries, 0 to 18067\n",
      "Data columns (total 4 columns):\n",
      " #   Column    Non-Null Count  Dtype  \n",
      "---  ------    --------------  -----  \n",
      " 0   user_id   18068 non-null  int64  \n",
      " 1   distance  18068 non-null  float64\n",
      " 2   duration  18068 non-null  float64\n",
      " 3   date      18068 non-null  object \n",
      "dtypes: float64(2), int64(1), object(1)\n",
      "memory usage: 564.8+ KB\n"
     ]
    }
   ],
   "source": [
    "rides.info()"
   ]
  },
  {
   "cell_type": "markdown",
   "id": "1aebbe47",
   "metadata": {},
   "source": [
    "В датафрейме 18068 строк и нет пропущенных значений"
   ]
  },
  {
   "cell_type": "code",
   "execution_count": 6,
   "id": "37fae73c",
   "metadata": {},
   "outputs": [
    {
     "data": {
      "text/html": [
       "<div>\n",
       "<style scoped>\n",
       "    .dataframe tbody tr th:only-of-type {\n",
       "        vertical-align: middle;\n",
       "    }\n",
       "\n",
       "    .dataframe tbody tr th {\n",
       "        vertical-align: top;\n",
       "    }\n",
       "\n",
       "    .dataframe thead th {\n",
       "        text-align: right;\n",
       "    }\n",
       "</style>\n",
       "<table border=\"1\" class=\"dataframe\">\n",
       "  <thead>\n",
       "    <tr style=\"text-align: right;\">\n",
       "      <th></th>\n",
       "      <th>subscription_type</th>\n",
       "      <th>minute_price</th>\n",
       "      <th>start_ride_price</th>\n",
       "      <th>subscription_fee</th>\n",
       "    </tr>\n",
       "  </thead>\n",
       "  <tbody>\n",
       "    <tr>\n",
       "      <th>0</th>\n",
       "      <td>free</td>\n",
       "      <td>8</td>\n",
       "      <td>50</td>\n",
       "      <td>0</td>\n",
       "    </tr>\n",
       "    <tr>\n",
       "      <th>1</th>\n",
       "      <td>ultra</td>\n",
       "      <td>6</td>\n",
       "      <td>0</td>\n",
       "      <td>199</td>\n",
       "    </tr>\n",
       "  </tbody>\n",
       "</table>\n",
       "</div>"
      ],
      "text/plain": [
       "  subscription_type  minute_price  start_ride_price  subscription_fee\n",
       "0              free             8                50                 0\n",
       "1             ultra             6                 0               199"
      ]
     },
     "execution_count": 6,
     "metadata": {},
     "output_type": "execute_result"
    }
   ],
   "source": [
    "subscriptions = pd.read_csv('/datasets/subscriptions_go.csv')\n",
    "subscriptions.head()"
   ]
  },
  {
   "cell_type": "code",
   "execution_count": 7,
   "id": "af39acb2",
   "metadata": {
    "scrolled": true
   },
   "outputs": [
    {
     "name": "stdout",
     "output_type": "stream",
     "text": [
      "<class 'pandas.core.frame.DataFrame'>\n",
      "RangeIndex: 2 entries, 0 to 1\n",
      "Data columns (total 4 columns):\n",
      " #   Column             Non-Null Count  Dtype \n",
      "---  ------             --------------  ----- \n",
      " 0   subscription_type  2 non-null      object\n",
      " 1   minute_price       2 non-null      int64 \n",
      " 2   start_ride_price   2 non-null      int64 \n",
      " 3   subscription_fee   2 non-null      int64 \n",
      "dtypes: int64(3), object(1)\n",
      "memory usage: 192.0+ bytes\n"
     ]
    }
   ],
   "source": [
    "subscriptions.info()"
   ]
  },
  {
   "cell_type": "markdown",
   "id": "c266f4c2",
   "metadata": {},
   "source": [
    "В датафрейме 2 строки и нет пропущенных значений. Типы данных, соответствуют необходимым, кроме  rides['date']. Названия столбцов логичны и понятны, переименований не требуется."
   ]
  },
  {
   "cell_type": "markdown",
   "id": "2d653f31",
   "metadata": {},
   "source": [
    "#### Шаг 2. Предобработка данных"
   ]
  },
  {
   "cell_type": "code",
   "execution_count": 8,
   "id": "30acdf47",
   "metadata": {},
   "outputs": [
    {
     "name": "stdout",
     "output_type": "stream",
     "text": [
      "Данные за период с 2021-01-01 по 2021-12-30\n"
     ]
    }
   ],
   "source": [
    "# Изменяем тип данных в rides['date'] на datetime\n",
    "rides['date'] = pd.to_datetime(rides['date'])\n",
    "\n",
    "# Добавляем столбец с номером месяца\n",
    "rides['month'] = rides['date'].dt.month\n",
    "# Проверяем уникальные месяцы на предмет некорректных данных\n",
    "rides['month'].sort_values().unique()\n",
    "# Проверка за какой период у нас данные.\n",
    "min_date = rides['date'].min()\n",
    "max_date = rides['date'].max()\n",
    "print(f\"Данные за период с {min_date.strftime('%Y-%m-%d')} по {max_date.strftime('%Y-%m-%d')}\")"
   ]
  },
  {
   "cell_type": "code",
   "execution_count": 9,
   "id": "d600e335",
   "metadata": {},
   "outputs": [
    {
     "name": "stdout",
     "output_type": "stream",
     "text": [
      "В таблице users: 31 дубликатов\n",
      "В таблице rides: 0 дубликатов\n",
      "В таблице subscriptions: 0 дубликатов\n"
     ]
    }
   ],
   "source": [
    "# Проводим проверку на наличие дубликатов\n",
    "print(f'В таблице users: {users.duplicated().sum()} дубликатов')\n",
    "print(f'В таблице rides: {rides.duplicated().sum()} дубликатов')\n",
    "print(f'В таблице subscriptions: {subscriptions.duplicated().sum()} дубликатов')\n",
    "\n",
    "# Устраняем дублмкаты в users\n",
    "users.drop_duplicates(inplace=True)"
   ]
  },
  {
   "cell_type": "markdown",
   "id": "02ee7039",
   "metadata": {},
   "source": [
    "В датафрейме rides['date'], был изменен тип данных на datetime. Были найдены и устранены дубликаты (31) в датафрейме users.\n",
    "В других таблицах дубликатов не было найдено."
   ]
  },
  {
   "cell_type": "markdown",
   "id": "770e8291",
   "metadata": {},
   "source": [
    "#### Шаг 3. Исследовательский анализ данных"
   ]
  },
  {
   "cell_type": "markdown",
   "id": "2e188418",
   "metadata": {},
   "source": [
    "##### Построение графика распределения городов по выборке"
   ]
  },
  {
   "cell_type": "code",
   "execution_count": 10,
   "id": "57efa559",
   "metadata": {},
   "outputs": [
    {
     "data": {
      "image/png": "[encoded data removed]",
      "text/plain": [
       "<Figure size 720x432 with 1 Axes>"
      ]
     },
     "metadata": {},
     "output_type": "display_data"
    }
   ],
   "source": [
    "city_counts = users['city'].value_counts()\n",
    "\n",
    "sns.set(style=\"whitegrid\")\n",
    "plt.figure(figsize=(10, 6))\n",
    "sns.barplot(x=city_counts.index, y=city_counts.values, palette=\"Dark2\")\n",
    "plt.title('Частота встречаемости городов')\n",
    "plt.xlabel('Города')\n",
    "plt.ylabel('Частота')\n",
    "plt.xticks(rotation=45)\n",
    "plt.show()"
   ]
  },
  {
   "cell_type": "markdown",
   "id": "eb820be7",
   "metadata": {},
   "source": [
    "В нашей выборке больше всего пользователей из Пятигорска, Екатеринбурга и Ростова-на-Дону"
   ]
  },
  {
   "cell_type": "markdown",
   "id": "5797c918",
   "metadata": {},
   "source": [
    "###### Построение графика распределения типов подписки по выборке"
   ]
  },
  {
   "cell_type": "code",
   "execution_count": 11,
   "id": "9c5a1e12",
   "metadata": {},
   "outputs": [
    {
     "data": {
      "image/png": "[encoded data removed]",
      "text/plain": [
       "<Figure size 576x576 with 1 Axes>"
      ]
     },
     "metadata": {},
     "output_type": "display_data"
    }
   ],
   "source": [
    "# Формируем параметры для графика\n",
    "subscr = users['subscription_type'].value_counts()\n",
    "labels = users['subscription_type'].unique()\n",
    "sizes = [subscr.free, subscr.ultra]\n",
    "\n",
    "plt.figure(figsize=(8, 8))\n",
    "plt.pie(sizes, labels=labels, autopct='%1.2f%%', startangle=90, colors=['pink', 'lightblue'])\n",
    "plt.title('Соотношение типов подписки')\n",
    "plt.show()"
   ]
  },
  {
   "cell_type": "markdown",
   "id": "0dd04e1a",
   "metadata": {},
   "source": [
    "Большинство пользователей имееют подписку."
   ]
  },
  {
   "cell_type": "markdown",
   "id": "e335c2af",
   "metadata": {},
   "source": [
    "###### Построение графика распределения возраста пользователей  по выборке"
   ]
  },
  {
   "cell_type": "code",
   "execution_count": 12,
   "id": "9ea62580",
   "metadata": {},
   "outputs": [
    {
     "data": {
      "image/png": "[encoded data removed]",
      "text/plain": [
       "<Figure size 1080x432 with 1 Axes>"
      ]
     },
     "metadata": {},
     "output_type": "display_data"
    },
    {
     "name": "stdout",
     "output_type": "stream",
     "text": [
      "count    1534.000000\n",
      "mean       24.903520\n",
      "std         4.572367\n",
      "min        12.000000\n",
      "25%        22.000000\n",
      "50%        25.000000\n",
      "75%        28.000000\n",
      "max        43.000000\n",
      "Name: age, dtype: float64\n"
     ]
    }
   ],
   "source": [
    "plt.figure(figsize=(15, 6))\n",
    "sns.histplot(users['age'], bins=30, color='blue', kde=True)\n",
    "plt.title('Распределение возраста пользователей')\n",
    "plt.xlabel('Возраст')\n",
    "plt.ylabel('Частота')\n",
    "plt.show()\n",
    "print(users['age'].describe())"
   ]
  },
  {
   "cell_type": "markdown",
   "id": "1626ba6a",
   "metadata": {},
   "source": [
    "Возраст пользователей имеет нормальное распределение, средний возраст около 25 лет. Минимальный 12 лет, максимальный 43."
   ]
  },
  {
   "cell_type": "markdown",
   "id": "8f1f2005",
   "metadata": {},
   "source": [
    "###### Построение графика распределения дальности поездок по выборке"
   ]
  },
  {
   "cell_type": "code",
   "execution_count": 13,
   "id": "64c8334d",
   "metadata": {},
   "outputs": [
    {
     "data": {
      "image/png": "[encoded data removed]",
      "text/plain": [
       "<Figure size 1080x432 with 1 Axes>"
      ]
     },
     "metadata": {},
     "output_type": "display_data"
    }
   ],
   "source": [
    "plt.figure(figsize=(15, 6))\n",
    "sns.histplot(rides['distance'], bins=45, color='green', kde=True)\n",
    "plt.title('Распределение дальности поездок')\n",
    "plt.xlabel('Расстояние')\n",
    "plt.ylabel('Частота')\n",
    "plt.show()"
   ]
  },
  {
   "cell_type": "markdown",
   "id": "b52aad51",
   "metadata": {},
   "source": [
    "Назвал бы этот график двугорбым, состоящим из двух распределений, напоминающих нормальное. Пик первого горба в районе 700 метров, правый конец в районе 1400 метров. Это поезки на короткое расстояние. Пик второго горба в районе 3100 метров, правых хвост графика в районе 6000 метров. Это поездки средней и большой дальности."
   ]
  },
  {
   "cell_type": "markdown",
   "id": "6efddac6",
   "metadata": {},
   "source": [
    "###### Построение графика распределения продолжительности поездок по выборке"
   ]
  },
  {
   "cell_type": "code",
   "execution_count": 14,
   "id": "93b47b79",
   "metadata": {},
   "outputs": [
    {
     "data": {
      "image/png": "[encoded data removed]",
      "text/plain": [
       "<Figure size 1080x432 with 1 Axes>"
      ]
     },
     "metadata": {},
     "output_type": "display_data"
    },
    {
     "name": "stdout",
     "output_type": "stream",
     "text": [
      "Средняя продолжительность поездки: 17.81, медианная продолжительность поездки: 18.0\n"
     ]
    }
   ],
   "source": [
    "plt.figure(figsize=(15, 6))\n",
    "sns.histplot(rides['duration'], bins=45, color='darkblue', kde=True)\n",
    "plt.title('Распределение продолжительности поездок')\n",
    "plt.xlabel('Длительность (мин)')\n",
    "plt.ylabel('Частота')\n",
    "plt.show()\n",
    "print(f\"Средняя продолжительность поездки: {rides['duration'].mean().round(2)}, медианная продолжительность поездки: {rides['duration'].median().round()}\")"
   ]
  },
  {
   "cell_type": "markdown",
   "id": "69a15f7d",
   "metadata": {},
   "source": [
    "График длительности поездок напоминает нормальное распределение, с пиком около 18 минут. Так же на графике виден выделяющийся рост частоты поездок (в районе 100 поездок) длительностью около 1 минуты."
   ]
  },
  {
   "cell_type": "markdown",
   "id": "4c77db28",
   "metadata": {},
   "source": [
    "#### Шаг 4. Объединение данных"
   ]
  },
  {
   "cell_type": "markdown",
   "id": "64cffc25",
   "metadata": {},
   "source": [
    "##### Объединение данных о пользователях"
   ]
  },
  {
   "cell_type": "code",
   "execution_count": 15,
   "id": "62965f79",
   "metadata": {
    "scrolled": true
   },
   "outputs": [
    {
     "name": "stdout",
     "output_type": "stream",
     "text": [
      "В users было 1534 строк, в rides было 18068 в big_data стало 18068.\n",
      "В конечном big_data 18068 строк.\n"
     ]
    }
   ],
   "source": [
    "# Создаем общий Dataframe\n",
    "big_data = pd.merge(users, rides, on='user_id')\n",
    "print(f'В users было {users.shape[0]} строк, в rides было {rides.shape[0]} в big_data стало {big_data.shape[0]}.')\n",
    "big_data = pd.merge(big_data, subscriptions, on='subscription_type')\n",
    "print(f'В конечном big_data {big_data.shape[0]} строк.')"
   ]
  },
  {
   "cell_type": "code",
   "execution_count": 16,
   "id": "10ce40dd",
   "metadata": {
    "scrolled": true
   },
   "outputs": [],
   "source": [
    "data_free = big_data[big_data['subscription_type'] == 'free']"
   ]
  },
  {
   "cell_type": "code",
   "execution_count": 17,
   "id": "bfb10de4",
   "metadata": {},
   "outputs": [],
   "source": [
    "data_ultra = big_data[big_data['subscription_type'] == 'ultra']"
   ]
  },
  {
   "cell_type": "markdown",
   "id": "b3ff969f",
   "metadata": {},
   "source": [
    "##### Сравнение дальности поездок в зависимости о подписки"
   ]
  },
  {
   "cell_type": "code",
   "execution_count": 18,
   "id": "f23507a1",
   "metadata": {},
   "outputs": [
    {
     "data": {
      "image/png": "[encoded data removed]",
      "text/plain": [
       "<Figure size 1080x432 with 1 Axes>"
      ]
     },
     "metadata": {},
     "output_type": "display_data"
    }
   ],
   "source": [
    "plt.figure(figsize=(15, 6))\n",
    "sns.histplot(data_free['distance'], bins=45, color='gray', kde=True, label='Free')\n",
    "sns.histplot(data_ultra['distance'], bins=45, color='gold', kde=True, label='Ultra')\n",
    "plt.title('Распределение дальности поездок')\n",
    "plt.xlabel('Расстояние')\n",
    "plt.ylabel('Частота')\n",
    "plt.legend()\n",
    "plt.show()"
   ]
  },
  {
   "cell_type": "markdown",
   "id": "be75d75a",
   "metadata": {},
   "source": [
    "В целом графики пользователей с разными подписками похожи пропорциями. Отличия заключаются в том, что разброс у пользователей без подписки шире. Пользователи без подписки чаще берут самокаты на очень короткие (до 500 метров) и дальние (свыше 5000 метров) расстояния."
   ]
  },
  {
   "cell_type": "markdown",
   "id": "ab8dbb51",
   "metadata": {},
   "source": [
    "##### Сравнение длительности поездок в зависимости о подписки"
   ]
  },
  {
   "cell_type": "code",
   "execution_count": 19,
   "id": "bad254eb",
   "metadata": {},
   "outputs": [
    {
     "data": {
      "image/png": "[encoded data removed]",
      "text/plain": [
       "<Figure size 1080x432 with 1 Axes>"
      ]
     },
     "metadata": {},
     "output_type": "display_data"
    }
   ],
   "source": [
    "plt.figure(figsize=(15, 6))\n",
    "sns.histplot(data_free['duration'], bins=45, color='blue', kde=True, label='Free')\n",
    "sns.histplot(data_ultra['duration'], bins=45, color='gold', kde=True,  label='Ultra')\n",
    "plt.title('Распределение длительности поездок')\n",
    "plt.xlabel('Длительность (мин)')\n",
    "plt.ylabel('Частота')\n",
    "plt.legend()\n",
    "plt.show()"
   ]
  },
  {
   "cell_type": "markdown",
   "id": "eeb36c78",
   "metadata": {},
   "source": [
    "Графики длительности поездок пропорционально похожи. С одним явным отличием - пользователи с подпиской практически не берут самокаты на время менее 5 минут. Так же пользователи с подпиской не берут самокаты на время около одной минуты. Что говорит о том, что это опытные пользователи, которые не берут самокат на тест-драйв ради интереса."
   ]
  },
  {
   "cell_type": "markdown",
   "id": "18630908",
   "metadata": {},
   "source": [
    "#### Шаг 5. Подсчёт выручки"
   ]
  },
  {
   "cell_type": "markdown",
   "id": "52e919d4",
   "metadata": {},
   "source": [
    "##### Создание датафрейма с агрегированными данными о поездках на основе датафрейма с объединёнными данными:  суммарное расстояние, количество поездок и суммарное время для каждого пользователя за каждый месяц"
   ]
  },
  {
   "cell_type": "code",
   "execution_count": 20,
   "id": "0da640f7",
   "metadata": {
    "scrolled": true
   },
   "outputs": [],
   "source": [
    "# Округляем значения в distance и duration\n",
    "big_data['distance'] = big_data['distance'].round(2)\n",
    "big_data['duration'] = big_data['duration'].round(2)\n",
    "# Добавим суммарное расстояние, количество поездок и суммарное время для каждого пользователя за каждый месяц\n",
    "big_data['total_distance'] = big_data.groupby('user_id')['distance'].transform('sum')\n",
    "big_data['total_rides'] = big_data.groupby('user_id')['distance'].transform('count')\n",
    "big_data['total_month_time'] = big_data.groupby(['user_id', 'month'])['duration'].transform('sum')\n",
    "# Расчет стоимости каждой поездки\n",
    "big_data['ride_sum'] = big_data['start_ride_price'] + big_data['minute_price'] * np.ceil(big_data['duration'])"
   ]
  },
  {
   "cell_type": "markdown",
   "id": "e9547a50",
   "metadata": {},
   "source": [
    "##### Создание датафрейма с помесячной выручкой, которую принёс каждый пользователь"
   ]
  },
  {
   "cell_type": "code",
   "execution_count": 21,
   "id": "7ffaa741",
   "metadata": {},
   "outputs": [
    {
     "data": {
      "text/html": [
       "<div>\n",
       "<style scoped>\n",
       "    .dataframe tbody tr th:only-of-type {\n",
       "        vertical-align: middle;\n",
       "    }\n",
       "\n",
       "    .dataframe tbody tr th {\n",
       "        vertical-align: top;\n",
       "    }\n",
       "\n",
       "    .dataframe thead th {\n",
       "        text-align: right;\n",
       "    }\n",
       "</style>\n",
       "<table border=\"1\" class=\"dataframe\">\n",
       "  <thead>\n",
       "    <tr style=\"text-align: right;\">\n",
       "      <th></th>\n",
       "      <th>user_id</th>\n",
       "      <th>month</th>\n",
       "      <th>ride_sum</th>\n",
       "      <th>subscription_fee</th>\n",
       "      <th>subscription_type</th>\n",
       "      <th>month_revenue</th>\n",
       "    </tr>\n",
       "  </thead>\n",
       "  <tbody>\n",
       "    <tr>\n",
       "      <th>0</th>\n",
       "      <td>1</td>\n",
       "      <td>1</td>\n",
       "      <td>252.0</td>\n",
       "      <td>199</td>\n",
       "      <td>ultra</td>\n",
       "      <td>451.0</td>\n",
       "    </tr>\n",
       "    <tr>\n",
       "      <th>1</th>\n",
       "      <td>1</td>\n",
       "      <td>4</td>\n",
       "      <td>42.0</td>\n",
       "      <td>199</td>\n",
       "      <td>ultra</td>\n",
       "      <td>241.0</td>\n",
       "    </tr>\n",
       "    <tr>\n",
       "      <th>2</th>\n",
       "      <td>1</td>\n",
       "      <td>8</td>\n",
       "      <td>276.0</td>\n",
       "      <td>199</td>\n",
       "      <td>ultra</td>\n",
       "      <td>475.0</td>\n",
       "    </tr>\n",
       "    <tr>\n",
       "      <th>3</th>\n",
       "      <td>1</td>\n",
       "      <td>10</td>\n",
       "      <td>192.0</td>\n",
       "      <td>199</td>\n",
       "      <td>ultra</td>\n",
       "      <td>391.0</td>\n",
       "    </tr>\n",
       "    <tr>\n",
       "      <th>4</th>\n",
       "      <td>1</td>\n",
       "      <td>11</td>\n",
       "      <td>336.0</td>\n",
       "      <td>199</td>\n",
       "      <td>ultra</td>\n",
       "      <td>535.0</td>\n",
       "    </tr>\n",
       "    <tr>\n",
       "      <th>5</th>\n",
       "      <td>1</td>\n",
       "      <td>12</td>\n",
       "      <td>168.0</td>\n",
       "      <td>199</td>\n",
       "      <td>ultra</td>\n",
       "      <td>367.0</td>\n",
       "    </tr>\n",
       "    <tr>\n",
       "      <th>6</th>\n",
       "      <td>2</td>\n",
       "      <td>3</td>\n",
       "      <td>378.0</td>\n",
       "      <td>199</td>\n",
       "      <td>ultra</td>\n",
       "      <td>577.0</td>\n",
       "    </tr>\n",
       "    <tr>\n",
       "      <th>7</th>\n",
       "      <td>2</td>\n",
       "      <td>4</td>\n",
       "      <td>240.0</td>\n",
       "      <td>199</td>\n",
       "      <td>ultra</td>\n",
       "      <td>439.0</td>\n",
       "    </tr>\n",
       "    <tr>\n",
       "      <th>8</th>\n",
       "      <td>2</td>\n",
       "      <td>6</td>\n",
       "      <td>84.0</td>\n",
       "      <td>199</td>\n",
       "      <td>ultra</td>\n",
       "      <td>283.0</td>\n",
       "    </tr>\n",
       "    <tr>\n",
       "      <th>9</th>\n",
       "      <td>2</td>\n",
       "      <td>7</td>\n",
       "      <td>288.0</td>\n",
       "      <td>199</td>\n",
       "      <td>ultra</td>\n",
       "      <td>487.0</td>\n",
       "    </tr>\n",
       "  </tbody>\n",
       "</table>\n",
       "</div>"
      ],
      "text/plain": [
       "   user_id  month  ride_sum  subscription_fee subscription_type  month_revenue\n",
       "0        1      1     252.0               199             ultra          451.0\n",
       "1        1      4      42.0               199             ultra          241.0\n",
       "2        1      8     276.0               199             ultra          475.0\n",
       "3        1     10     192.0               199             ultra          391.0\n",
       "4        1     11     336.0               199             ultra          535.0\n",
       "5        1     12     168.0               199             ultra          367.0\n",
       "6        2      3     378.0               199             ultra          577.0\n",
       "7        2      4     240.0               199             ultra          439.0\n",
       "8        2      6      84.0               199             ultra          283.0\n",
       "9        2      7     288.0               199             ultra          487.0"
      ]
     },
     "execution_count": 21,
     "metadata": {},
     "output_type": "execute_result"
    }
   ],
   "source": [
    "# Создание сводной таблицы для получения уникальной выручки пользователя за месяц\n",
    "revenue_pivot = big_data.pivot_table(index=['user_id', 'month'], values='ride_sum', aggfunc='sum')\n",
    "\n",
    "# Добавление столбцов со стоимостью и типом подписки к сводной таблице\n",
    "revenue_pivot['subscription_fee'] = big_data.groupby(['user_id', 'month'])['subscription_fee'].first().values\n",
    "revenue_pivot['subscription_type'] = big_data.groupby(['user_id', 'month'])['subscription_type'].first().values\n",
    "\n",
    "# Расчет ежемесячной выручки для каждого пользователя\n",
    "revenue_pivot['month_revenue'] = revenue_pivot['ride_sum'] + revenue_pivot['subscription_fee']\n",
    "\n",
    "# Сброс индексов \n",
    "revenue_pivot.reset_index(inplace=True)\n",
    "revenue_pivot.head(10)"
   ]
  },
  {
   "cell_type": "markdown",
   "id": "f56b19cd",
   "metadata": {},
   "source": [
    "В датафрейм добавлены столбцы ride_sum и month_revenue, для выделение выручки от одной конкретной поездки и общей выручки пользователя за календарный месяц."
   ]
  },
  {
   "cell_type": "code",
   "execution_count": 22,
   "id": "f636ac38",
   "metadata": {},
   "outputs": [
    {
     "name": "stdout",
     "output_type": "stream",
     "text": [
      " Средняя выручка за поездку: 262.63р.\n",
      " Средняя выручка за месяц по всем пользователям: 323157.75р.\n"
     ]
    },
    {
     "data": {
      "text/plain": [
       "Text(0, 0.5, 'Выручка')"
      ]
     },
     "execution_count": 22,
     "metadata": {},
     "output_type": "execute_result"
    },
    {
     "data": {
      "image/png": "[encoded data removed]",
      "text/plain": [
       "<Figure size 864x432 with 1 Axes>"
      ]
     },
     "metadata": {},
     "output_type": "display_data"
    }
   ],
   "source": [
    "# Дополнительный расчет статистических показателей\n",
    "print(f' Средняя выручка за поездку: {revenue_pivot.ride_sum.mean().round(2)}р.')\n",
    "print(f' Средняя выручка за месяц по всем пользователям: {revenue_pivot.groupby(\"month\")[\"month_revenue\"].sum().mean().round(2)}р.')\n",
    "monthly_revenue = revenue_pivot.groupby('month')['month_revenue'].sum().reset_index()\n",
    "# Создание графика\n",
    "sns.set(style=\"whitegrid\")\n",
    "plt.figure(figsize=(12, 6))\n",
    "sns.lineplot(x='month', y='month_revenue', data=monthly_revenue, marker='o');\n",
    "plt.title('Месячная выручка', fontsize=16)\n",
    "plt.xlabel('Месяц', fontsize=14)\n",
    "plt.ylabel('Выручка', fontsize=14)"
   ]
  },
  {
   "cell_type": "markdown",
   "id": "9541c609",
   "metadata": {},
   "source": [
    "#### Шаг 6. Проверка гипотез"
   ]
  },
  {
   "cell_type": "markdown",
   "id": "406594b8",
   "metadata": {},
   "source": [
    "##### Нулевая гипотеза: Средние значения продолжительности поездок пользователей с разным уровнем подписки равны.                                 Альтернативная гипотеза: Средние продолжительность поездок пользователей с подпиской больше чем у пользователей без подписки"
   ]
  },
  {
   "cell_type": "code",
   "execution_count": 23,
   "id": "84d9eaea",
   "metadata": {
    "scrolled": true
   },
   "outputs": [
    {
     "name": "stdout",
     "output_type": "stream",
     "text": [
      "Среднее время ultra = 18.54, среднее время free = 17.39\n",
      "p-value: 1.2804098316645618e-34\n",
      "Отвергаем нулевую гипотезу: пользователи с подпиской тратят больше времени на поездки.\n"
     ]
    }
   ],
   "source": [
    "# Проведение t-теста\n",
    "p_value = st.ttest_ind(data_ultra['duration'], data_free['duration'], alternative='greater')\n",
    "\n",
    "# Вывод результатов\n",
    "print(f'Среднее время ultra = {data_ultra[\"duration\"].mean().round(2)}, среднее время free = {data_free[\"duration\"].mean().round(2)}')\n",
    "print(f\"p-value: {p_value.pvalue}\")\n",
    "\n",
    "# Проверка статистической значимости\n",
    "alpha = 0.05\n",
    "if p_value.pvalue < alpha:\n",
    "    print(\"Отвергаем нулевую гипотезу: пользователи с подпиской тратят больше времени на поездки.\")\n",
    "else:\n",
    "    print(\"Не отвергаем нулевую гипотезу.\")"
   ]
  },
  {
   "cell_type": "markdown",
   "id": "9e9241c5",
   "metadata": {},
   "source": [
    " P-value значительно меньше общепринятого уровня значимости. На этом основании сделаем выводы о том, что можно отвергнуть нулевую гипотезу в пользу альтернативной. Пользователи с подпиской в среднем тратят больше времени на поездки."
   ]
  },
  {
   "cell_type": "markdown",
   "id": "5a5879ad",
   "metadata": {},
   "source": [
    "##### Нулевая гопотеза:  Средняя дистанция пользователей с подпиской равна 3130 метров. Альтернативная гипотеза: Средняя дистанция пользователей с подпиской больше 3130 метров"
   ]
  },
  {
   "cell_type": "code",
   "execution_count": 24,
   "id": "ea56fbd1",
   "metadata": {},
   "outputs": [
    {
     "name": "stdout",
     "output_type": "stream",
     "text": [
      "Расчет среднего расстояния составляет: 3115.45 метров\n",
      "p-value: 0.9195368847849785\n",
      "Нет достаточных статистических доказательств для отвержения нулевой гипотезы.\n"
     ]
    }
   ],
   "source": [
    "p_value = st.ttest_1samp(data_ultra['distance'], 3130, alternative='greater')\n",
    "\n",
    "alpha = 0.05\n",
    "print(f'Расчет среднего расстояния составляет: {data_ultra[\"distance\"].mean().round(2)} метров')\n",
    "print(f\"p-value: {p_value.pvalue}\")\n",
    "\n",
    "if p_value.pvalue < alpha:\n",
    "    print(\"Отвергаем нулевую гипотезу: среднее расстояние для пользователей с подпиской равно 3130 метров.\")\n",
    "else:\n",
    "    print(\"Нет достаточных статистических доказательств для отвержения нулевой гипотезы.\")"
   ]
  },
  {
   "cell_type": "markdown",
   "id": "4fda7fb5",
   "metadata": {},
   "source": [
    "Значение p-value больше общепринятого уровня значимости. Это означает, что у нас нет достаточных статистических доказательств для отвержения нулевой гипотезы. То есть среднее время рассчитаное по данным (3115) на столько близко к 3130 метров, что мы не можем уверенно принять альтернативную гипотезу.  На основе данных нет достаточных статистических доказательств для того, чтобы утверждать, что среднее расстояние для пользователей с подпиской отличается от 3130 метров"
   ]
  },
  {
   "cell_type": "markdown",
   "id": "8df339b9",
   "metadata": {},
   "source": [
    "##### Нулевая гипотеза:  Средняя выручка пользователей с разными типами подписки равна. Альтернативная гипотеза: Средная выручка пользователей с подпиской выше."
   ]
  },
  {
   "cell_type": "code",
   "execution_count": 25,
   "id": "0840ac2a",
   "metadata": {},
   "outputs": [
    {
     "name": "stdout",
     "output_type": "stream",
     "text": [
      "Средняя выручка пользователей ultra: 362.73\n",
      "Средняя выручка пользователей free: 328.58.\n",
      "p-value: 8.473077792319447e-40\n",
      "Отвергаем нулевую гипотезу: Средняя месячная выручка от пользователей с подпиской выше.\n"
     ]
    }
   ],
   "source": [
    "revenue_subscribed = revenue_pivot.loc[revenue_pivot['subscription_type'] == 'ultra', 'month_revenue']\n",
    "revenue_not_subscribed = revenue_pivot.loc[revenue_pivot['subscription_type'] == 'free', 'month_revenue']\n",
    "\n",
    "# Проведем t-тест\n",
    "p_value = st.ttest_ind(revenue_subscribed, revenue_not_subscribed, equal_var=False, alternative='greater')\n",
    "\n",
    "# Выведем результаты\n",
    "print(f\"Средняя выручка пользователей ultra: {revenue_pivot[revenue_pivot['subscription_type'] == 'ultra'].month_revenue.mean().round(2)}\")\n",
    "print(f\"Средняя выручка пользователей free: {revenue_pivot[revenue_pivot['subscription_type'] == 'free'].month_revenue.mean().round(2)}.\")\n",
    "print(f\"p-value: {p_value.pvalue}\") # Было при дублировании выручек 0.999999\n",
    "\n",
    "# Примем уровень значимости 0.05\n",
    "alpha = 0.05\n",
    "if p_value.pvalue < alpha:\n",
    "    print(\"Отвергаем нулевую гипотезу: Средняя месячная выручка от пользователей с подпиской выше.\")\n",
    "else:\n",
    "    print(\"Нет оснований отвергнуть нулевую гипотезу\")"
   ]
  },
  {
   "cell_type": "markdown",
   "id": "a33378cb",
   "metadata": {},
   "source": [
    "Р-value близок к нулевому значению, и значительно ниже alpha. На этом основании мы отвергаем нулевую гипотезу в пользу альтернативной. Средняя месячная выручка от пользователей с подпиской выше."
   ]
  },
  {
   "cell_type": "markdown",
   "id": "34a16566",
   "metadata": {},
   "source": [
    "##### Представьте такую ситуацию: техническая команда сервиса обновила сервера, с которыми взаимодействует мобильное приложение. Она надеется, что из-за этого количество обращений в техподдержку значимо снизилось. Некоторый файл содержит для каждого пользователя данные о количестве обращений до обновления и после него. Какой тест вам понадобился бы для проверки этой гипотезы?"
   ]
  },
  {
   "cell_type": "markdown",
   "id": "341267c1",
   "metadata": {},
   "source": [
    "Ответ: Нам бы потребовался тест для зависимых выборок (scipy.stats.ttest_rel(before, after))"
   ]
  },
  {
   "cell_type": "markdown",
   "id": "6982f233",
   "metadata": {},
   "source": [
    "#### Шаг 7. Распределения"
   ]
  },
  {
   "cell_type": "markdown",
   "id": "520339fe",
   "metadata": {},
   "source": [
    "##### Подбор оптимального количества промокодов"
   ]
  },
  {
   "cell_type": "code",
   "execution_count": null,
   "id": "e81fba4a",
   "metadata": {
    "scrolled": true
   },
   "outputs": [],
   "source": [
    "# Находим n\n",
    "# задаём параметры биномиального распределения\n",
    "n = np.nan\n",
    "p = 0.1\n",
    "target = 100\n",
    "for step in range(1, 5000):\n",
    "    result = st.norm(step*p, np.sqrt(step * p * (1 - p))).cdf(target)\n",
    "    if result < 0.05:\n",
    "        n = step\n",
    "        break\n",
    "        \n",
    "\n",
    "# зададим мат.ожидание и ст.отклонение нормального распределения равными\n",
    "# мат.ожиданию и ст.отклонению биномиального распределения\n",
    "mu = n * p\n",
    "sigma = np.sqrt(n * p * (1 - p))\n",
    " \n",
    "# строим график\n",
    "plt.figure(figsize=(10,5))\n",
    "x = np.linspace(mu - 4*sigma, mu + 4*sigma)\n",
    "y = st.norm(mu, sigma).cdf(x)\n",
    "plt.plot(x, y)\n",
    "plt.yticks(np.linspace(0, 1, 21))\n",
    " \n",
    "# считаем вероятность хвоста слева\n",
    "result = st.norm(mu, sigma).cdf(target)\n",
    "print(f'При рассылке промокодов для {n} пользователей, вероятность получить менее {target} продлений равна:{result.round(2)}')\n",
    "#result2 = st.norm(mu, sigma).ppf(0.05)\n",
    "#print(result2)"
   ]
  },
  {
   "cell_type": "markdown",
   "id": "02572870",
   "metadata": {},
   "source": [
    "График и расчет по формуле показывают что минимальное количество промокодов, необходимое для рассылки  - 1169 шт.\n",
    "При этом количестве вероятность получение нужного результата - 95%"
   ]
  },
  {
   "cell_type": "markdown",
   "id": "4e533e0b",
   "metadata": {},
   "source": [
    "##### Оценка вероятности открытия  399500 уведомлений"
   ]
  },
  {
   "cell_type": "code",
   "execution_count": null,
   "id": "8d25af95",
   "metadata": {},
   "outputs": [],
   "source": [
    "# Заданные параметры\n",
    "n = 1000000  # количество рассылаемых уведомлений\n",
    "p = 0.4  # вероятность открытия уведомления\n",
    "\n",
    "# Аппроксимация биномиального распределения нормальным\n",
    "mu = n * p\n",
    "sigma = np.sqrt(n * p * (1 - p))\n",
    "norm_approx = st.norm(mu, sigma)\n",
    "\n",
    "# Оценка вероятности открытия не более 399,5 тыс. пользователей\n",
    "target_openings = 399500\n",
    "probability = norm_approx.cdf(target_openings)\n",
    "\n",
    "# Построение графика\n",
    "plt.figure(figsize=(10,5))\n",
    "x = np.linspace(mu - 4*sigma, mu + 4*sigma)\n",
    "y = norm_approx.cdf(x)\n",
    "plt.plot(x, y, label='Аппроксимация нормальным распределением')\n",
    "plt.title('Аппроксимация биномиального распределения нормальным')\n",
    "plt.xlabel('Количество открытых уведомлений')\n",
    "plt.ylabel('Плотность вероятности')\n",
    "plt.xticks(rotation=45)\n",
    "plt.yticks(np.linspace(0, 1, 21))\n",
    "\n",
    "\n",
    "# Вывод результатов\n",
    "print(f\"Оценка вероятности открытия не более {target_openings} пользователей: {probability:.2f}\")"
   ]
  },
  {
   "cell_type": "code",
   "execution_count": null,
   "id": "99134a6e",
   "metadata": {},
   "outputs": [],
   "source": [
    "# Построение графика\n",
    "plt.figure(figsize=(10,5))\n",
    "x = np.linspace(mu - 4*sigma, mu + 4*sigma)\n",
    "y = norm_approx.cdf(x)\n",
    "\n",
    "# Найти точку пересечения\n",
    "intersection_point = norm_approx.ppf(0.5)\n",
    "intersection_probability = norm_approx.cdf(intersection_point)\n",
    "\n",
    "# Построение графика аппроксимации\n",
    "plt.plot(x, y, label='Аппроксимация нормальным распределением')\n",
    "\n",
    "# Построение красной вертикальной линии в точке пересечения\n",
    "plt.axvline(intersection_point, color='red', linestyle='--', label=f'Точка пересечения\\n({intersection_point:.2f}, {intersection_probability:.2f})')\n",
    "\n",
    "# Добавление легенды и названий осей\n",
    "plt.title('Аппроксимация биномиального распределения нормальным')\n",
    "plt.xlabel('Количество открытых уведомлений')\n",
    "plt.ylabel('Плотность вероятности')\n",
    "\n",
    "# Установка меток на осях для более наглядного отображения\n",
    "plt.xticks(rotation=45)\n",
    "plt.yticks(np.linspace(0, 1, 21))\n",
    "\n",
    "# Добавление легенды\n",
    "plt.legend()\n",
    "\n",
    "# Вывод результатов\n",
    "print(f\"Оценка вероятности открытия не более {target_openings} пользователей: {probability:.2f}\")\n",
    "\n",
    "# Отображение графика\n",
    "plt.show()"
   ]
  },
  {
   "cell_type": "markdown",
   "id": "272fb01c",
   "metadata": {},
   "source": [
    "Расчет показывает, что вероятность того, что уведомление откроют не более 399,5 тыс. пользователей равна 0.15"
   ]
  },
  {
   "cell_type": "markdown",
   "id": "40d698a8",
   "metadata": {},
   "source": [
    "#### Вывод"
   ]
  },
  {
   "cell_type": "markdown",
   "id": "c1fdeffa",
   "metadata": {},
   "source": [
    "В этом проекте был выполнен анализ данных по сервису аренды самокатов. Была проанализированна вырчука по месяцам года и пользователям, сравнивались пользователи с подпиской и без подписки.\n",
    "\n",
    "По итогу могу констатировать следущее. В целом пользователи с подпиской приносят больше выручки, чеще пользуются услугами сервиса. В целом это более лояльные сервису пользователи, увеличение их количества должно положительно сказаться на развитии сервиса. \n",
    "\n",
    "Основной возраст пользователей сервиса это 20 - 30 лет. Длительность большинства поездок находится в диапазоне от 10 до 25 минут. Расстояние большинства поездок находятся в диапазоне от 2 до 4,5 километров.Средняя выручка за поездку: 262.63р. Средняя выручка за месяц по всем пользователям: 323157.75р. Нет сильно выраженного фактора сезонности. Относительные просадки по выручке в феврале(290 т.р.) и ноябре(305 т.р.), в остальные выручка держится в диапазоне 320 - 340 т.р.\n",
    "\n",
    "К качестве рекомендации было бы интересно подробнее проанализировать клиентов по возрастным группам, роду занятий и интересов для более четкого выявления целевой аудитории. И в дальнейшем привлечения людей с подходящими под ЦА характеристиками в пул клиентов сервиса.\n",
    "   "
   ]
  }
 ],
 "metadata": {
  "ExecuteTimeLog": [
   {
    "duration": 1261,
    "start_time": "2023-11-27T13:09:31.311Z"
   },
   {
    "duration": 138,
    "start_time": "2023-11-27T13:11:10.823Z"
   },
   {
    "duration": 82,
    "start_time": "2023-11-27T13:11:36.803Z"
   },
   {
    "duration": 96,
    "start_time": "2023-11-27T13:12:12.651Z"
   },
   {
    "duration": 42,
    "start_time": "2023-11-27T13:12:28.835Z"
   },
   {
    "duration": 67,
    "start_time": "2023-11-27T13:13:17.929Z"
   },
   {
    "duration": 35,
    "start_time": "2023-11-27T13:13:46.981Z"
   },
   {
    "duration": 10,
    "start_time": "2023-11-27T13:14:07.871Z"
   },
   {
    "duration": 33,
    "start_time": "2023-11-27T13:14:10.481Z"
   },
   {
    "duration": 10,
    "start_time": "2023-11-27T13:14:26.330Z"
   },
   {
    "duration": 9,
    "start_time": "2023-11-27T13:14:37.413Z"
   },
   {
    "duration": 32,
    "start_time": "2023-11-27T13:15:48.210Z"
   },
   {
    "duration": 34,
    "start_time": "2023-11-27T13:15:55.469Z"
   },
   {
    "duration": 32,
    "start_time": "2023-11-27T13:16:06.870Z"
   },
   {
    "duration": 1040,
    "start_time": "2023-11-27T14:10:03.016Z"
   },
   {
    "duration": 34,
    "start_time": "2023-11-27T14:10:04.058Z"
   },
   {
    "duration": 8,
    "start_time": "2023-11-27T14:10:04.094Z"
   },
   {
    "duration": 32,
    "start_time": "2023-11-27T14:10:04.104Z"
   },
   {
    "duration": 10,
    "start_time": "2023-11-27T14:10:04.137Z"
   },
   {
    "duration": 19,
    "start_time": "2023-11-27T14:10:04.148Z"
   },
   {
    "duration": 7,
    "start_time": "2023-11-27T14:10:04.168Z"
   },
   {
    "duration": 49,
    "start_time": "2023-11-27T17:37:23.577Z"
   },
   {
    "duration": 1282,
    "start_time": "2023-11-27T17:37:30.585Z"
   },
   {
    "duration": 86,
    "start_time": "2023-11-27T17:37:31.869Z"
   },
   {
    "duration": 11,
    "start_time": "2023-11-27T17:37:31.957Z"
   },
   {
    "duration": 88,
    "start_time": "2023-11-27T17:37:31.970Z"
   },
   {
    "duration": 12,
    "start_time": "2023-11-27T17:37:32.060Z"
   },
   {
    "duration": 63,
    "start_time": "2023-11-27T17:37:32.073Z"
   },
   {
    "duration": 9,
    "start_time": "2023-11-27T17:37:32.138Z"
   },
   {
    "duration": 38,
    "start_time": "2023-11-27T17:37:32.149Z"
   },
   {
    "duration": 19,
    "start_time": "2023-11-27T17:38:05.597Z"
   },
   {
    "duration": 123,
    "start_time": "2023-11-27T17:40:10.663Z"
   },
   {
    "duration": 21,
    "start_time": "2023-11-27T17:40:51.991Z"
   },
   {
    "duration": 23,
    "start_time": "2023-11-27T17:41:13.015Z"
   },
   {
    "duration": 20,
    "start_time": "2023-11-27T17:41:16.194Z"
   },
   {
    "duration": 17,
    "start_time": "2023-11-27T17:42:53.496Z"
   },
   {
    "duration": 18,
    "start_time": "2023-11-27T17:43:50.790Z"
   },
   {
    "duration": 16,
    "start_time": "2023-11-27T17:44:12.949Z"
   },
   {
    "duration": 71,
    "start_time": "2023-11-27T17:45:40.416Z"
   },
   {
    "duration": 18,
    "start_time": "2023-11-27T17:45:58.609Z"
   },
   {
    "duration": 22,
    "start_time": "2023-11-27T17:49:02.888Z"
   },
   {
    "duration": 21,
    "start_time": "2023-11-27T17:49:23.662Z"
   },
   {
    "duration": 22,
    "start_time": "2023-11-27T17:50:14.456Z"
   },
   {
    "duration": 24,
    "start_time": "2023-11-27T17:50:50.387Z"
   },
   {
    "duration": 31,
    "start_time": "2023-11-27T17:51:23.382Z"
   },
   {
    "duration": 1091,
    "start_time": "2023-11-27T17:51:34.715Z"
   },
   {
    "duration": 38,
    "start_time": "2023-11-27T17:51:35.808Z"
   },
   {
    "duration": 12,
    "start_time": "2023-11-27T17:51:35.848Z"
   },
   {
    "duration": 45,
    "start_time": "2023-11-27T17:51:35.862Z"
   },
   {
    "duration": 13,
    "start_time": "2023-11-27T17:51:35.909Z"
   },
   {
    "duration": 25,
    "start_time": "2023-11-27T17:51:35.925Z"
   },
   {
    "duration": 15,
    "start_time": "2023-11-27T17:51:35.952Z"
   },
   {
    "duration": 27,
    "start_time": "2023-11-27T17:51:35.969Z"
   },
   {
    "duration": 103,
    "start_time": "2023-11-27T17:57:38.885Z"
   },
   {
    "duration": 13,
    "start_time": "2023-11-27T17:57:49.691Z"
   },
   {
    "duration": 136,
    "start_time": "2023-11-27T17:58:05.748Z"
   },
   {
    "duration": 234,
    "start_time": "2023-11-27T18:00:16.590Z"
   },
   {
    "duration": 160,
    "start_time": "2023-11-27T18:00:44.706Z"
   },
   {
    "duration": 168,
    "start_time": "2023-11-27T18:01:00.835Z"
   },
   {
    "duration": 166,
    "start_time": "2023-11-27T18:01:07.349Z"
   },
   {
    "duration": 26,
    "start_time": "2023-11-27T18:03:12.286Z"
   },
   {
    "duration": 157,
    "start_time": "2023-11-27T18:03:24.389Z"
   },
   {
    "duration": 168,
    "start_time": "2023-11-27T18:03:43.691Z"
   },
   {
    "duration": 180,
    "start_time": "2023-11-27T18:03:49.355Z"
   },
   {
    "duration": 226,
    "start_time": "2023-11-27T18:03:54.500Z"
   },
   {
    "duration": 159,
    "start_time": "2023-11-27T18:04:27.918Z"
   },
   {
    "duration": 222,
    "start_time": "2023-11-27T18:06:55.907Z"
   },
   {
    "duration": 19,
    "start_time": "2023-11-27T18:15:08.633Z"
   },
   {
    "duration": 203,
    "start_time": "2023-11-27T18:15:29.888Z"
   },
   {
    "duration": 176,
    "start_time": "2023-11-27T18:15:56.773Z"
   },
   {
    "duration": 175,
    "start_time": "2023-11-27T18:16:07.036Z"
   },
   {
    "duration": 29,
    "start_time": "2023-11-27T18:16:24.667Z"
   },
   {
    "duration": 189,
    "start_time": "2023-11-27T18:17:14.463Z"
   },
   {
    "duration": 195,
    "start_time": "2023-11-27T18:18:38.229Z"
   },
   {
    "duration": 26,
    "start_time": "2023-11-27T18:19:02.637Z"
   },
   {
    "duration": 175,
    "start_time": "2023-11-27T18:19:07.882Z"
   },
   {
    "duration": 233,
    "start_time": "2023-11-27T18:21:18.164Z"
   },
   {
    "duration": 130,
    "start_time": "2023-11-27T18:22:19.303Z"
   },
   {
    "duration": 236,
    "start_time": "2023-11-27T18:25:04.718Z"
   },
   {
    "duration": 206,
    "start_time": "2023-11-27T18:26:27.379Z"
   },
   {
    "duration": 254,
    "start_time": "2023-11-27T18:26:51.563Z"
   },
   {
    "duration": 253,
    "start_time": "2023-11-27T18:27:08.149Z"
   },
   {
    "duration": 243,
    "start_time": "2023-11-27T18:27:21.274Z"
   },
   {
    "duration": 241,
    "start_time": "2023-11-27T18:27:28.568Z"
   },
   {
    "duration": 229,
    "start_time": "2023-11-27T18:27:35.116Z"
   },
   {
    "duration": 256,
    "start_time": "2023-11-27T18:27:46.160Z"
   },
   {
    "duration": 259,
    "start_time": "2023-11-27T18:27:56.246Z"
   },
   {
    "duration": 376,
    "start_time": "2023-11-27T18:28:02.059Z"
   },
   {
    "duration": 243,
    "start_time": "2023-11-27T18:28:06.951Z"
   },
   {
    "duration": 251,
    "start_time": "2023-11-27T18:28:34.740Z"
   },
   {
    "duration": 250,
    "start_time": "2023-11-27T18:29:03.551Z"
   },
   {
    "duration": 254,
    "start_time": "2023-11-27T18:29:39.275Z"
   },
   {
    "duration": 250,
    "start_time": "2023-11-27T18:30:38.980Z"
   },
   {
    "duration": 455,
    "start_time": "2023-11-27T18:32:42.015Z"
   },
   {
    "duration": 417,
    "start_time": "2023-11-27T18:35:13.909Z"
   },
   {
    "duration": 466,
    "start_time": "2023-11-27T18:35:32.257Z"
   },
   {
    "duration": 436,
    "start_time": "2023-11-27T18:35:38.195Z"
   },
   {
    "duration": 471,
    "start_time": "2023-11-27T18:36:13.048Z"
   },
   {
    "duration": 585,
    "start_time": "2023-11-27T18:36:20.343Z"
   },
   {
    "duration": 256,
    "start_time": "2023-11-27T18:36:31.014Z"
   },
   {
    "duration": 465,
    "start_time": "2023-11-27T18:37:08.453Z"
   },
   {
    "duration": 389,
    "start_time": "2023-11-27T18:37:17.764Z"
   },
   {
    "duration": 463,
    "start_time": "2023-11-27T18:37:22.763Z"
   },
   {
    "duration": 519,
    "start_time": "2023-11-27T18:38:19.531Z"
   },
   {
    "duration": 516,
    "start_time": "2023-11-27T18:38:43.533Z"
   },
   {
    "duration": 490,
    "start_time": "2023-11-27T18:38:58.873Z"
   },
   {
    "duration": 610,
    "start_time": "2023-11-27T18:39:11.348Z"
   },
   {
    "duration": 9,
    "start_time": "2023-11-27T18:40:05.062Z"
   },
   {
    "duration": 7,
    "start_time": "2023-11-27T18:40:19.349Z"
   },
   {
    "duration": 491,
    "start_time": "2023-11-27T18:40:51.061Z"
   },
   {
    "duration": 409,
    "start_time": "2023-11-27T18:43:44.979Z"
   },
   {
    "duration": 493,
    "start_time": "2023-11-27T18:44:13.657Z"
   },
   {
    "duration": 455,
    "start_time": "2023-11-27T18:44:30.595Z"
   },
   {
    "duration": 28,
    "start_time": "2023-11-27T19:14:45.096Z"
   },
   {
    "duration": 20,
    "start_time": "2023-11-27T19:14:51.095Z"
   },
   {
    "duration": 23,
    "start_time": "2023-11-27T19:16:54.889Z"
   },
   {
    "duration": 33,
    "start_time": "2023-11-27T19:18:19.040Z"
   },
   {
    "duration": 36,
    "start_time": "2023-11-27T19:18:55.749Z"
   },
   {
    "duration": 21,
    "start_time": "2023-11-27T19:21:50.194Z"
   },
   {
    "duration": 19,
    "start_time": "2023-11-27T19:23:12.887Z"
   },
   {
    "duration": 81,
    "start_time": "2023-11-27T19:25:53.443Z"
   },
   {
    "duration": 25,
    "start_time": "2023-11-27T19:26:11.649Z"
   },
   {
    "duration": 16,
    "start_time": "2023-11-27T19:26:20.667Z"
   },
   {
    "duration": 1119,
    "start_time": "2023-11-27T19:26:31.179Z"
   },
   {
    "duration": 38,
    "start_time": "2023-11-27T19:26:32.300Z"
   },
   {
    "duration": 10,
    "start_time": "2023-11-27T19:26:32.340Z"
   },
   {
    "duration": 45,
    "start_time": "2023-11-27T19:26:32.352Z"
   },
   {
    "duration": 12,
    "start_time": "2023-11-27T19:26:32.399Z"
   },
   {
    "duration": 25,
    "start_time": "2023-11-27T19:26:32.412Z"
   },
   {
    "duration": 11,
    "start_time": "2023-11-27T19:26:32.438Z"
   },
   {
    "duration": 32,
    "start_time": "2023-11-27T19:26:32.450Z"
   },
   {
    "duration": 205,
    "start_time": "2023-11-27T19:26:32.484Z"
   },
   {
    "duration": 150,
    "start_time": "2023-11-27T19:26:32.690Z"
   },
   {
    "duration": 268,
    "start_time": "2023-11-27T19:26:32.842Z"
   },
   {
    "duration": 520,
    "start_time": "2023-11-27T19:26:33.111Z"
   },
   {
    "duration": 505,
    "start_time": "2023-11-27T19:26:33.633Z"
   },
   {
    "duration": 13,
    "start_time": "2023-11-27T19:26:34.141Z"
   },
   {
    "duration": 20,
    "start_time": "2023-11-27T19:26:34.156Z"
   },
   {
    "duration": 14,
    "start_time": "2023-11-27T19:26:34.178Z"
   },
   {
    "duration": 494,
    "start_time": "2023-11-27T19:28:07.225Z"
   },
   {
    "duration": 528,
    "start_time": "2023-11-27T19:28:40.010Z"
   },
   {
    "duration": 657,
    "start_time": "2023-11-27T19:29:20.916Z"
   },
   {
    "duration": 588,
    "start_time": "2023-11-27T19:30:09.610Z"
   },
   {
    "duration": 570,
    "start_time": "2023-11-27T19:31:33.476Z"
   },
   {
    "duration": 632,
    "start_time": "2023-11-27T19:32:23.733Z"
   },
   {
    "duration": 581,
    "start_time": "2023-11-27T19:33:13.759Z"
   },
   {
    "duration": 569,
    "start_time": "2023-11-27T19:34:39.383Z"
   },
   {
    "duration": 772,
    "start_time": "2023-11-27T19:35:10.212Z"
   },
   {
    "duration": 534,
    "start_time": "2023-11-27T19:35:23.706Z"
   },
   {
    "duration": 611,
    "start_time": "2023-11-27T19:35:38.168Z"
   },
   {
    "duration": 635,
    "start_time": "2023-11-27T19:37:05.610Z"
   },
   {
    "duration": 48,
    "start_time": "2023-11-28T10:05:59.755Z"
   },
   {
    "duration": 1350,
    "start_time": "2023-11-28T10:06:06.588Z"
   },
   {
    "duration": 94,
    "start_time": "2023-11-28T10:06:07.940Z"
   },
   {
    "duration": 11,
    "start_time": "2023-11-28T10:06:08.036Z"
   },
   {
    "duration": 161,
    "start_time": "2023-11-28T10:06:08.048Z"
   },
   {
    "duration": 10,
    "start_time": "2023-11-28T10:06:08.211Z"
   },
   {
    "duration": 71,
    "start_time": "2023-11-28T10:06:08.222Z"
   },
   {
    "duration": 10,
    "start_time": "2023-11-28T10:06:08.295Z"
   },
   {
    "duration": 25,
    "start_time": "2023-11-28T10:06:08.306Z"
   },
   {
    "duration": 191,
    "start_time": "2023-11-28T10:06:08.333Z"
   },
   {
    "duration": 141,
    "start_time": "2023-11-28T10:06:08.526Z"
   },
   {
    "duration": 256,
    "start_time": "2023-11-28T10:06:08.669Z"
   },
   {
    "duration": 455,
    "start_time": "2023-11-28T10:06:08.927Z"
   },
   {
    "duration": 502,
    "start_time": "2023-11-28T10:06:09.384Z"
   },
   {
    "duration": 18,
    "start_time": "2023-11-28T10:06:09.889Z"
   },
   {
    "duration": 22,
    "start_time": "2023-11-28T10:06:09.909Z"
   },
   {
    "duration": 7,
    "start_time": "2023-11-28T10:06:09.932Z"
   },
   {
    "duration": 572,
    "start_time": "2023-11-28T10:06:09.940Z"
   },
   {
    "duration": 598,
    "start_time": "2023-11-28T10:06:10.514Z"
   },
   {
    "duration": 5,
    "start_time": "2023-11-28T10:06:11.114Z"
   },
   {
    "duration": 112,
    "start_time": "2023-11-28T10:06:23.460Z"
   },
   {
    "duration": 934,
    "start_time": "2023-11-28T10:06:36.596Z"
   },
   {
    "duration": 8,
    "start_time": "2023-11-28T10:06:49.906Z"
   },
   {
    "duration": 6,
    "start_time": "2023-11-28T10:07:06.901Z"
   },
   {
    "duration": 17,
    "start_time": "2023-11-28T10:07:26.282Z"
   },
   {
    "duration": 22,
    "start_time": "2023-11-28T10:07:41.632Z"
   },
   {
    "duration": 20,
    "start_time": "2023-11-28T10:12:19.322Z"
   },
   {
    "duration": 22,
    "start_time": "2023-11-28T10:13:08.074Z"
   },
   {
    "duration": 27,
    "start_time": "2023-11-28T10:13:44.876Z"
   },
   {
    "duration": 27,
    "start_time": "2023-11-28T10:13:57.061Z"
   },
   {
    "duration": 27,
    "start_time": "2023-11-28T10:14:11.301Z"
   },
   {
    "duration": 10,
    "start_time": "2023-11-28T10:14:47.441Z"
   },
   {
    "duration": 9,
    "start_time": "2023-11-28T10:16:04.021Z"
   },
   {
    "duration": 32,
    "start_time": "2023-11-28T10:20:22.698Z"
   },
   {
    "duration": 11,
    "start_time": "2023-11-28T10:22:14.069Z"
   },
   {
    "duration": 15,
    "start_time": "2023-11-28T10:22:44.480Z"
   },
   {
    "duration": 274,
    "start_time": "2023-11-28T10:24:23.941Z"
   },
   {
    "duration": 2,
    "start_time": "2023-11-28T10:25:05.439Z"
   },
   {
    "duration": 305,
    "start_time": "2023-11-28T10:26:31.667Z"
   },
   {
    "duration": 1247,
    "start_time": "2023-11-28T10:28:25.049Z"
   },
   {
    "duration": 94,
    "start_time": "2023-11-28T10:28:26.298Z"
   },
   {
    "duration": 13,
    "start_time": "2023-11-28T10:28:26.394Z"
   },
   {
    "duration": 204,
    "start_time": "2023-11-28T10:28:26.409Z"
   },
   {
    "duration": 11,
    "start_time": "2023-11-28T10:28:26.615Z"
   },
   {
    "duration": 68,
    "start_time": "2023-11-28T10:28:26.628Z"
   },
   {
    "duration": 10,
    "start_time": "2023-11-28T10:28:26.698Z"
   },
   {
    "duration": 52,
    "start_time": "2023-11-28T10:28:26.710Z"
   },
   {
    "duration": 201,
    "start_time": "2023-11-28T10:28:26.764Z"
   },
   {
    "duration": 146,
    "start_time": "2023-11-28T10:28:26.968Z"
   },
   {
    "duration": 259,
    "start_time": "2023-11-28T10:28:27.116Z"
   },
   {
    "duration": 554,
    "start_time": "2023-11-28T10:28:27.377Z"
   },
   {
    "duration": 481,
    "start_time": "2023-11-28T10:28:27.933Z"
   },
   {
    "duration": 23,
    "start_time": "2023-11-28T10:28:28.417Z"
   },
   {
    "duration": 28,
    "start_time": "2023-11-28T10:28:28.442Z"
   },
   {
    "duration": 8,
    "start_time": "2023-11-28T10:28:28.472Z"
   },
   {
    "duration": 642,
    "start_time": "2023-11-28T10:28:28.482Z"
   },
   {
    "duration": 709,
    "start_time": "2023-11-28T10:28:29.125Z"
   },
   {
    "duration": 11,
    "start_time": "2023-11-28T10:28:29.837Z"
   },
   {
    "duration": 52,
    "start_time": "2023-11-28T10:38:38.540Z"
   },
   {
    "duration": 1244,
    "start_time": "2023-11-28T10:38:47.192Z"
   },
   {
    "duration": 96,
    "start_time": "2023-11-28T10:38:48.438Z"
   },
   {
    "duration": 17,
    "start_time": "2023-11-28T10:38:48.536Z"
   },
   {
    "duration": 206,
    "start_time": "2023-11-28T10:38:48.556Z"
   },
   {
    "duration": 12,
    "start_time": "2023-11-28T10:38:48.764Z"
   },
   {
    "duration": 111,
    "start_time": "2023-11-28T10:38:48.778Z"
   },
   {
    "duration": 13,
    "start_time": "2023-11-28T10:38:48.891Z"
   },
   {
    "duration": 55,
    "start_time": "2023-11-28T10:38:48.906Z"
   },
   {
    "duration": 222,
    "start_time": "2023-11-28T10:38:48.963Z"
   },
   {
    "duration": 190,
    "start_time": "2023-11-28T10:38:49.189Z"
   },
   {
    "duration": 304,
    "start_time": "2023-11-28T10:38:49.382Z"
   },
   {
    "duration": 509,
    "start_time": "2023-11-28T10:38:49.688Z"
   },
   {
    "duration": 534,
    "start_time": "2023-11-28T10:38:50.199Z"
   },
   {
    "duration": 17,
    "start_time": "2023-11-28T10:38:50.735Z"
   },
   {
    "duration": 15,
    "start_time": "2023-11-28T10:38:50.753Z"
   },
   {
    "duration": 24,
    "start_time": "2023-11-28T10:38:50.769Z"
   },
   {
    "duration": 749,
    "start_time": "2023-11-28T10:38:50.794Z"
   },
   {
    "duration": 681,
    "start_time": "2023-11-28T10:38:51.553Z"
   },
   {
    "duration": 10,
    "start_time": "2023-11-28T10:38:52.236Z"
   },
   {
    "duration": 48,
    "start_time": "2023-11-28T10:41:16.696Z"
   },
   {
    "duration": 1295,
    "start_time": "2023-11-28T10:41:29.924Z"
   },
   {
    "duration": 103,
    "start_time": "2023-11-28T10:41:31.221Z"
   },
   {
    "duration": 14,
    "start_time": "2023-11-28T10:41:31.326Z"
   },
   {
    "duration": 209,
    "start_time": "2023-11-28T10:41:31.342Z"
   },
   {
    "duration": 17,
    "start_time": "2023-11-28T10:41:31.554Z"
   },
   {
    "duration": 108,
    "start_time": "2023-11-28T10:41:31.573Z"
   },
   {
    "duration": 15,
    "start_time": "2023-11-28T10:41:31.683Z"
   },
   {
    "duration": 58,
    "start_time": "2023-11-28T10:41:31.700Z"
   },
   {
    "duration": 222,
    "start_time": "2023-11-28T10:41:31.760Z"
   },
   {
    "duration": 153,
    "start_time": "2023-11-28T10:41:31.985Z"
   },
   {
    "duration": 261,
    "start_time": "2023-11-28T10:41:32.140Z"
   },
   {
    "duration": 505,
    "start_time": "2023-11-28T10:41:32.404Z"
   },
   {
    "duration": 607,
    "start_time": "2023-11-28T10:41:32.912Z"
   },
   {
    "duration": 23,
    "start_time": "2023-11-28T10:41:33.521Z"
   },
   {
    "duration": 9,
    "start_time": "2023-11-28T10:41:33.545Z"
   },
   {
    "duration": 14,
    "start_time": "2023-11-28T10:41:33.555Z"
   },
   {
    "duration": 671,
    "start_time": "2023-11-28T10:41:33.571Z"
   },
   {
    "duration": 703,
    "start_time": "2023-11-28T10:41:34.244Z"
   },
   {
    "duration": 10,
    "start_time": "2023-11-28T10:41:34.949Z"
   },
   {
    "duration": 60,
    "start_time": "2023-11-28T10:41:34.960Z"
   },
   {
    "duration": 101,
    "start_time": "2023-11-28T10:44:51.220Z"
   },
   {
    "duration": 28,
    "start_time": "2023-11-28T10:45:11.740Z"
   },
   {
    "duration": 31,
    "start_time": "2023-11-28T10:56:23.122Z"
   },
   {
    "duration": 966,
    "start_time": "2023-11-28T11:08:36.603Z"
   },
   {
    "duration": 909,
    "start_time": "2023-11-28T11:11:11.841Z"
   },
   {
    "duration": 3,
    "start_time": "2023-11-28T11:14:44.679Z"
   },
   {
    "duration": 103,
    "start_time": "2023-11-28T11:14:53.107Z"
   },
   {
    "duration": 12,
    "start_time": "2023-11-28T11:15:33.827Z"
   },
   {
    "duration": 906,
    "start_time": "2023-11-28T11:17:07.859Z"
   },
   {
    "duration": 968,
    "start_time": "2023-11-28T11:17:44.457Z"
   },
   {
    "duration": 15,
    "start_time": "2023-11-28T11:20:30.119Z"
   },
   {
    "duration": 98,
    "start_time": "2023-11-28T11:22:06.372Z"
   },
   {
    "duration": 934,
    "start_time": "2023-11-28T11:22:09.058Z"
   },
   {
    "duration": 2789,
    "start_time": "2023-11-28T11:22:43.125Z"
   },
   {
    "duration": 1102,
    "start_time": "2023-11-28T11:23:02.783Z"
   },
   {
    "duration": 42,
    "start_time": "2023-11-28T11:23:03.887Z"
   },
   {
    "duration": 11,
    "start_time": "2023-11-28T11:23:03.940Z"
   },
   {
    "duration": 50,
    "start_time": "2023-11-28T11:23:03.953Z"
   },
   {
    "duration": 12,
    "start_time": "2023-11-28T11:23:04.004Z"
   },
   {
    "duration": 19,
    "start_time": "2023-11-28T11:23:04.017Z"
   },
   {
    "duration": 10,
    "start_time": "2023-11-28T11:23:04.038Z"
   },
   {
    "duration": 22,
    "start_time": "2023-11-28T11:23:04.050Z"
   },
   {
    "duration": 205,
    "start_time": "2023-11-28T11:23:04.074Z"
   },
   {
    "duration": 137,
    "start_time": "2023-11-28T11:23:04.282Z"
   },
   {
    "duration": 252,
    "start_time": "2023-11-28T11:23:04.421Z"
   },
   {
    "duration": 531,
    "start_time": "2023-11-28T11:23:04.675Z"
   },
   {
    "duration": 486,
    "start_time": "2023-11-28T11:23:05.208Z"
   },
   {
    "duration": 16,
    "start_time": "2023-11-28T11:23:05.696Z"
   },
   {
    "duration": 17,
    "start_time": "2023-11-28T11:23:05.714Z"
   },
   {
    "duration": 6,
    "start_time": "2023-11-28T11:23:05.732Z"
   },
   {
    "duration": 595,
    "start_time": "2023-11-28T11:23:05.739Z"
   },
   {
    "duration": 591,
    "start_time": "2023-11-28T11:23:06.336Z"
   },
   {
    "duration": 9,
    "start_time": "2023-11-28T11:23:06.928Z"
   },
   {
    "duration": 47,
    "start_time": "2023-11-28T11:23:23.606Z"
   },
   {
    "duration": 1106,
    "start_time": "2023-11-28T11:23:32.881Z"
   },
   {
    "duration": 94,
    "start_time": "2023-11-28T11:23:33.989Z"
   },
   {
    "duration": 11,
    "start_time": "2023-11-28T11:23:34.084Z"
   },
   {
    "duration": 182,
    "start_time": "2023-11-28T11:23:34.097Z"
   },
   {
    "duration": 11,
    "start_time": "2023-11-28T11:23:34.281Z"
   },
   {
    "duration": 60,
    "start_time": "2023-11-28T11:23:34.293Z"
   },
   {
    "duration": 10,
    "start_time": "2023-11-28T11:23:34.356Z"
   },
   {
    "duration": 36,
    "start_time": "2023-11-28T11:23:34.368Z"
   },
   {
    "duration": 188,
    "start_time": "2023-11-28T11:23:34.406Z"
   },
   {
    "duration": 136,
    "start_time": "2023-11-28T11:23:34.596Z"
   },
   {
    "duration": 241,
    "start_time": "2023-11-28T11:23:34.734Z"
   },
   {
    "duration": 515,
    "start_time": "2023-11-28T11:23:34.977Z"
   },
   {
    "duration": 498,
    "start_time": "2023-11-28T11:23:35.494Z"
   },
   {
    "duration": 15,
    "start_time": "2023-11-28T11:23:35.994Z"
   },
   {
    "duration": 20,
    "start_time": "2023-11-28T11:23:36.010Z"
   },
   {
    "duration": 10,
    "start_time": "2023-11-28T11:23:36.032Z"
   },
   {
    "duration": 552,
    "start_time": "2023-11-28T11:23:36.044Z"
   },
   {
    "duration": 608,
    "start_time": "2023-11-28T11:23:36.598Z"
   },
   {
    "duration": 10,
    "start_time": "2023-11-28T11:23:37.207Z"
   },
   {
    "duration": 1189,
    "start_time": "2023-11-28T11:24:09.676Z"
   },
   {
    "duration": 93,
    "start_time": "2023-11-28T11:24:10.867Z"
   },
   {
    "duration": 11,
    "start_time": "2023-11-28T11:24:10.962Z"
   },
   {
    "duration": 166,
    "start_time": "2023-11-28T11:24:10.975Z"
   },
   {
    "duration": 15,
    "start_time": "2023-11-28T11:24:11.143Z"
   },
   {
    "duration": 68,
    "start_time": "2023-11-28T11:24:11.160Z"
   },
   {
    "duration": 9,
    "start_time": "2023-11-28T11:24:11.230Z"
   },
   {
    "duration": 22,
    "start_time": "2023-11-28T11:24:11.241Z"
   },
   {
    "duration": 207,
    "start_time": "2023-11-28T11:24:11.265Z"
   },
   {
    "duration": 158,
    "start_time": "2023-11-28T11:24:11.474Z"
   },
   {
    "duration": 247,
    "start_time": "2023-11-28T11:24:11.633Z"
   },
   {
    "duration": 514,
    "start_time": "2023-11-28T11:24:11.882Z"
   },
   {
    "duration": 489,
    "start_time": "2023-11-28T11:24:12.398Z"
   },
   {
    "duration": 14,
    "start_time": "2023-11-28T11:24:12.889Z"
   },
   {
    "duration": 10,
    "start_time": "2023-11-28T11:24:12.905Z"
   },
   {
    "duration": 14,
    "start_time": "2023-11-28T11:24:12.917Z"
   },
   {
    "duration": 580,
    "start_time": "2023-11-28T11:24:12.933Z"
   },
   {
    "duration": 618,
    "start_time": "2023-11-28T11:24:13.515Z"
   },
   {
    "duration": 12,
    "start_time": "2023-11-28T11:24:14.135Z"
   },
   {
    "duration": 48,
    "start_time": "2023-11-28T11:25:09.992Z"
   },
   {
    "duration": 7,
    "start_time": "2023-11-28T11:25:26.015Z"
   },
   {
    "duration": 1154,
    "start_time": "2023-11-28T11:25:34.755Z"
   },
   {
    "duration": 94,
    "start_time": "2023-11-28T11:25:35.911Z"
   },
   {
    "duration": 13,
    "start_time": "2023-11-28T11:25:36.007Z"
   },
   {
    "duration": 195,
    "start_time": "2023-11-28T11:25:36.022Z"
   },
   {
    "duration": 13,
    "start_time": "2023-11-28T11:25:36.219Z"
   },
   {
    "duration": 72,
    "start_time": "2023-11-28T11:25:36.233Z"
   },
   {
    "duration": 10,
    "start_time": "2023-11-28T11:25:36.306Z"
   },
   {
    "duration": 31,
    "start_time": "2023-11-28T11:25:36.318Z"
   },
   {
    "duration": 196,
    "start_time": "2023-11-28T11:25:36.351Z"
   },
   {
    "duration": 146,
    "start_time": "2023-11-28T11:25:36.550Z"
   },
   {
    "duration": 249,
    "start_time": "2023-11-28T11:25:36.698Z"
   },
   {
    "duration": 469,
    "start_time": "2023-11-28T11:25:36.949Z"
   },
   {
    "duration": 491,
    "start_time": "2023-11-28T11:25:37.420Z"
   },
   {
    "duration": 22,
    "start_time": "2023-11-28T11:25:37.913Z"
   },
   {
    "duration": 8,
    "start_time": "2023-11-28T11:25:37.937Z"
   },
   {
    "duration": 15,
    "start_time": "2023-11-28T11:25:37.947Z"
   },
   {
    "duration": 647,
    "start_time": "2023-11-28T11:25:37.964Z"
   },
   {
    "duration": 593,
    "start_time": "2023-11-28T11:25:38.613Z"
   },
   {
    "duration": 10,
    "start_time": "2023-11-28T11:25:39.207Z"
   },
   {
    "duration": 32,
    "start_time": "2023-11-28T11:25:39.219Z"
   },
   {
    "duration": 102,
    "start_time": "2023-11-28T11:27:11.479Z"
   },
   {
    "duration": 12,
    "start_time": "2023-11-28T11:27:21.479Z"
   },
   {
    "duration": 5,
    "start_time": "2023-11-28T11:27:47.376Z"
   },
   {
    "duration": 5,
    "start_time": "2023-11-28T11:27:58.616Z"
   },
   {
    "duration": 10,
    "start_time": "2023-11-28T11:28:05.207Z"
   },
   {
    "duration": 9,
    "start_time": "2023-11-28T11:28:47.817Z"
   },
   {
    "duration": 439,
    "start_time": "2023-11-28T11:29:23.265Z"
   },
   {
    "duration": 17,
    "start_time": "2023-11-28T11:30:09.049Z"
   },
   {
    "duration": 1294,
    "start_time": "2023-11-28T11:30:57.867Z"
   },
   {
    "duration": 17,
    "start_time": "2023-11-28T11:31:27.679Z"
   },
   {
    "duration": 17,
    "start_time": "2023-11-28T11:31:48.187Z"
   },
   {
    "duration": 35,
    "start_time": "2023-11-28T11:32:07.561Z"
   },
   {
    "duration": 13,
    "start_time": "2023-11-28T11:32:36.201Z"
   },
   {
    "duration": 32,
    "start_time": "2023-11-28T11:33:54.633Z"
   },
   {
    "duration": 28,
    "start_time": "2023-11-28T11:34:48.518Z"
   },
   {
    "duration": 353,
    "start_time": "2023-11-28T11:38:18.300Z"
   },
   {
    "duration": 502,
    "start_time": "2023-11-28T11:38:56.724Z"
   },
   {
    "duration": 434,
    "start_time": "2023-11-28T11:40:06.765Z"
   },
   {
    "duration": 445,
    "start_time": "2023-11-28T11:41:04.393Z"
   },
   {
    "duration": 30,
    "start_time": "2023-11-28T11:42:37.993Z"
   },
   {
    "duration": 526,
    "start_time": "2023-11-28T11:46:25.271Z"
   },
   {
    "duration": 458,
    "start_time": "2023-11-28T11:48:05.239Z"
   },
   {
    "duration": 431,
    "start_time": "2023-11-28T11:48:14.705Z"
   },
   {
    "duration": 34,
    "start_time": "2023-11-28T11:52:39.259Z"
   },
   {
    "duration": 1191,
    "start_time": "2023-11-28T11:52:50.274Z"
   },
   {
    "duration": 41,
    "start_time": "2023-11-28T11:52:51.467Z"
   },
   {
    "duration": 12,
    "start_time": "2023-11-28T11:52:51.510Z"
   },
   {
    "duration": 75,
    "start_time": "2023-11-28T11:52:51.525Z"
   },
   {
    "duration": 13,
    "start_time": "2023-11-28T11:52:51.603Z"
   },
   {
    "duration": 19,
    "start_time": "2023-11-28T11:52:51.618Z"
   },
   {
    "duration": 10,
    "start_time": "2023-11-28T11:52:51.639Z"
   },
   {
    "duration": 19,
    "start_time": "2023-11-28T11:52:51.651Z"
   },
   {
    "duration": 191,
    "start_time": "2023-11-28T11:52:51.672Z"
   },
   {
    "duration": 131,
    "start_time": "2023-11-28T11:52:51.866Z"
   },
   {
    "duration": 234,
    "start_time": "2023-11-28T11:52:51.999Z"
   },
   {
    "duration": 469,
    "start_time": "2023-11-28T11:52:52.234Z"
   },
   {
    "duration": 490,
    "start_time": "2023-11-28T11:52:52.705Z"
   },
   {
    "duration": 14,
    "start_time": "2023-11-28T11:52:53.196Z"
   },
   {
    "duration": 7,
    "start_time": "2023-11-28T11:52:53.211Z"
   },
   {
    "duration": 14,
    "start_time": "2023-11-28T11:52:53.220Z"
   },
   {
    "duration": 594,
    "start_time": "2023-11-28T11:52:53.236Z"
   },
   {
    "duration": 588,
    "start_time": "2023-11-28T11:52:53.832Z"
   },
   {
    "duration": 115,
    "start_time": "2023-11-28T11:52:54.422Z"
   },
   {
    "duration": 2,
    "start_time": "2023-11-28T11:52:54.539Z"
   },
   {
    "duration": 29,
    "start_time": "2023-11-28T11:54:30.252Z"
   },
   {
    "duration": 27,
    "start_time": "2023-11-28T11:55:22.239Z"
   },
   {
    "duration": 27,
    "start_time": "2023-11-28T11:56:00.695Z"
   },
   {
    "duration": 19,
    "start_time": "2023-11-28T12:02:50.299Z"
   },
   {
    "duration": 45,
    "start_time": "2023-11-28T12:04:15.019Z"
   },
   {
    "duration": 48,
    "start_time": "2023-11-28T12:05:06.890Z"
   },
   {
    "duration": 47,
    "start_time": "2023-11-28T12:05:47.144Z"
   },
   {
    "duration": 107,
    "start_time": "2023-11-28T12:08:28.339Z"
   },
   {
    "duration": 112,
    "start_time": "2023-11-28T12:08:56.308Z"
   },
   {
    "duration": 48,
    "start_time": "2023-11-28T12:09:08.667Z"
   },
   {
    "duration": 121,
    "start_time": "2023-11-28T12:10:43.072Z"
   },
   {
    "duration": 27,
    "start_time": "2023-11-28T12:11:03.986Z"
   },
   {
    "duration": 1106,
    "start_time": "2023-11-28T12:11:22.561Z"
   },
   {
    "duration": 36,
    "start_time": "2023-11-28T12:11:23.669Z"
   },
   {
    "duration": 10,
    "start_time": "2023-11-28T12:11:23.707Z"
   },
   {
    "duration": 38,
    "start_time": "2023-11-28T12:11:23.719Z"
   },
   {
    "duration": 10,
    "start_time": "2023-11-28T12:11:23.759Z"
   },
   {
    "duration": 32,
    "start_time": "2023-11-28T12:11:23.771Z"
   },
   {
    "duration": 10,
    "start_time": "2023-11-28T12:11:23.804Z"
   },
   {
    "duration": 20,
    "start_time": "2023-11-28T12:11:23.815Z"
   },
   {
    "duration": 183,
    "start_time": "2023-11-28T12:11:23.837Z"
   },
   {
    "duration": 140,
    "start_time": "2023-11-28T12:11:24.022Z"
   },
   {
    "duration": 239,
    "start_time": "2023-11-28T12:11:24.164Z"
   },
   {
    "duration": 501,
    "start_time": "2023-11-28T12:11:24.405Z"
   },
   {
    "duration": 487,
    "start_time": "2023-11-28T12:11:24.908Z"
   },
   {
    "duration": 16,
    "start_time": "2023-11-28T12:11:25.397Z"
   },
   {
    "duration": 17,
    "start_time": "2023-11-28T12:11:25.414Z"
   },
   {
    "duration": 5,
    "start_time": "2023-11-28T12:11:25.432Z"
   },
   {
    "duration": 587,
    "start_time": "2023-11-28T12:11:25.439Z"
   },
   {
    "duration": 593,
    "start_time": "2023-11-28T12:11:26.030Z"
   },
   {
    "duration": 210,
    "start_time": "2023-11-28T12:11:26.625Z"
   },
   {
    "duration": 0,
    "start_time": "2023-11-28T12:11:26.837Z"
   },
   {
    "duration": 50,
    "start_time": "2023-11-28T12:11:43.507Z"
   },
   {
    "duration": 50,
    "start_time": "2023-11-28T14:01:53.983Z"
   },
   {
    "duration": 1197,
    "start_time": "2023-11-28T14:02:15.011Z"
   },
   {
    "duration": 38,
    "start_time": "2023-11-28T14:02:16.210Z"
   },
   {
    "duration": 11,
    "start_time": "2023-11-28T14:02:16.250Z"
   },
   {
    "duration": 53,
    "start_time": "2023-11-28T14:02:16.263Z"
   },
   {
    "duration": 10,
    "start_time": "2023-11-28T14:02:16.318Z"
   },
   {
    "duration": 26,
    "start_time": "2023-11-28T14:02:16.329Z"
   },
   {
    "duration": 10,
    "start_time": "2023-11-28T14:02:16.356Z"
   },
   {
    "duration": 42,
    "start_time": "2023-11-28T14:02:16.368Z"
   },
   {
    "duration": 181,
    "start_time": "2023-11-28T14:02:16.411Z"
   },
   {
    "duration": 139,
    "start_time": "2023-11-28T14:02:16.594Z"
   },
   {
    "duration": 249,
    "start_time": "2023-11-28T14:02:16.735Z"
   },
   {
    "duration": 505,
    "start_time": "2023-11-28T14:02:16.986Z"
   },
   {
    "duration": 525,
    "start_time": "2023-11-28T14:02:17.494Z"
   },
   {
    "duration": 22,
    "start_time": "2023-11-28T14:02:18.021Z"
   },
   {
    "duration": 15,
    "start_time": "2023-11-28T14:02:18.045Z"
   },
   {
    "duration": 13,
    "start_time": "2023-11-28T14:02:18.062Z"
   },
   {
    "duration": 624,
    "start_time": "2023-11-28T14:02:18.077Z"
   },
   {
    "duration": 624,
    "start_time": "2023-11-28T14:02:18.703Z"
   },
   {
    "duration": 144,
    "start_time": "2023-11-28T14:02:19.330Z"
   },
   {
    "duration": 3,
    "start_time": "2023-11-28T14:02:19.476Z"
   },
   {
    "duration": 127,
    "start_time": "2023-11-28T14:03:01.967Z"
   },
   {
    "duration": 43,
    "start_time": "2023-11-28T14:03:17.873Z"
   },
   {
    "duration": 54,
    "start_time": "2023-11-28T14:03:46.265Z"
   },
   {
    "duration": 27,
    "start_time": "2023-11-28T14:04:13.819Z"
   },
   {
    "duration": 57,
    "start_time": "2023-11-28T14:04:29.140Z"
   },
   {
    "duration": 951,
    "start_time": "2023-11-28T14:05:24.159Z"
   },
   {
    "duration": 6,
    "start_time": "2023-11-28T14:05:48.959Z"
   },
   {
    "duration": 34,
    "start_time": "2023-11-28T14:06:04.051Z"
   },
   {
    "duration": 631,
    "start_time": "2023-11-28T14:06:27.619Z"
   },
   {
    "duration": 969,
    "start_time": "2023-11-28T14:06:43.860Z"
   },
   {
    "duration": 63,
    "start_time": "2023-11-28T14:07:02.158Z"
   },
   {
    "duration": 1120,
    "start_time": "2023-11-28T14:07:11.240Z"
   },
   {
    "duration": 37,
    "start_time": "2023-11-28T14:07:12.361Z"
   },
   {
    "duration": 12,
    "start_time": "2023-11-28T14:07:12.399Z"
   },
   {
    "duration": 43,
    "start_time": "2023-11-28T14:07:12.412Z"
   },
   {
    "duration": 13,
    "start_time": "2023-11-28T14:07:12.456Z"
   },
   {
    "duration": 20,
    "start_time": "2023-11-28T14:07:12.471Z"
   },
   {
    "duration": 24,
    "start_time": "2023-11-28T14:07:12.493Z"
   },
   {
    "duration": 40,
    "start_time": "2023-11-28T14:07:12.518Z"
   },
   {
    "duration": 229,
    "start_time": "2023-11-28T14:07:12.560Z"
   },
   {
    "duration": 138,
    "start_time": "2023-11-28T14:07:12.792Z"
   },
   {
    "duration": 241,
    "start_time": "2023-11-28T14:07:12.932Z"
   },
   {
    "duration": 532,
    "start_time": "2023-11-28T14:07:13.175Z"
   },
   {
    "duration": 475,
    "start_time": "2023-11-28T14:07:13.708Z"
   },
   {
    "duration": 15,
    "start_time": "2023-11-28T14:07:14.185Z"
   },
   {
    "duration": 7,
    "start_time": "2023-11-28T14:07:14.201Z"
   },
   {
    "duration": 22,
    "start_time": "2023-11-28T14:07:14.210Z"
   },
   {
    "duration": 572,
    "start_time": "2023-11-28T14:07:14.233Z"
   },
   {
    "duration": 597,
    "start_time": "2023-11-28T14:07:14.807Z"
   },
   {
    "duration": 133,
    "start_time": "2023-11-28T14:07:15.405Z"
   },
   {
    "duration": 3,
    "start_time": "2023-11-28T14:07:15.540Z"
   },
   {
    "duration": 27,
    "start_time": "2023-11-28T14:15:48.506Z"
   },
   {
    "duration": 22,
    "start_time": "2023-11-28T14:16:02.340Z"
   },
   {
    "duration": 24,
    "start_time": "2023-11-28T14:16:10.139Z"
   },
   {
    "duration": 20,
    "start_time": "2023-11-28T14:16:25.893Z"
   },
   {
    "duration": 18,
    "start_time": "2023-11-28T14:16:40.440Z"
   },
   {
    "duration": 19,
    "start_time": "2023-11-28T14:16:43.200Z"
   },
   {
    "duration": 19,
    "start_time": "2023-11-28T14:17:33.259Z"
   },
   {
    "duration": 1127,
    "start_time": "2023-11-28T14:17:45.767Z"
   },
   {
    "duration": 39,
    "start_time": "2023-11-28T14:17:46.896Z"
   },
   {
    "duration": 12,
    "start_time": "2023-11-28T14:17:46.936Z"
   },
   {
    "duration": 41,
    "start_time": "2023-11-28T14:17:46.950Z"
   },
   {
    "duration": 11,
    "start_time": "2023-11-28T14:17:46.993Z"
   },
   {
    "duration": 21,
    "start_time": "2023-11-28T14:17:47.006Z"
   },
   {
    "duration": 11,
    "start_time": "2023-11-28T14:17:47.031Z"
   },
   {
    "duration": 31,
    "start_time": "2023-11-28T14:17:47.044Z"
   },
   {
    "duration": 225,
    "start_time": "2023-11-28T14:17:47.077Z"
   },
   {
    "duration": 144,
    "start_time": "2023-11-28T14:17:47.304Z"
   },
   {
    "duration": 260,
    "start_time": "2023-11-28T14:17:47.450Z"
   },
   {
    "duration": 501,
    "start_time": "2023-11-28T14:17:47.712Z"
   },
   {
    "duration": 484,
    "start_time": "2023-11-28T14:17:48.215Z"
   },
   {
    "duration": 16,
    "start_time": "2023-11-28T14:17:48.701Z"
   },
   {
    "duration": 21,
    "start_time": "2023-11-28T14:17:48.719Z"
   },
   {
    "duration": 9,
    "start_time": "2023-11-28T14:17:48.742Z"
   },
   {
    "duration": 677,
    "start_time": "2023-11-28T14:17:48.753Z"
   },
   {
    "duration": 588,
    "start_time": "2023-11-28T14:17:49.432Z"
   },
   {
    "duration": 124,
    "start_time": "2023-11-28T14:17:50.021Z"
   },
   {
    "duration": 3,
    "start_time": "2023-11-28T14:17:50.147Z"
   },
   {
    "duration": 26,
    "start_time": "2023-11-28T14:18:01.610Z"
   },
   {
    "duration": 28,
    "start_time": "2023-11-28T14:24:11.331Z"
   },
   {
    "duration": 52,
    "start_time": "2023-11-28T14:24:25.921Z"
   },
   {
    "duration": 1220,
    "start_time": "2023-11-28T18:12:09.720Z"
   },
   {
    "duration": 78,
    "start_time": "2023-11-28T18:12:10.941Z"
   },
   {
    "duration": 9,
    "start_time": "2023-11-28T18:12:11.021Z"
   },
   {
    "duration": 65,
    "start_time": "2023-11-28T18:12:11.031Z"
   },
   {
    "duration": 9,
    "start_time": "2023-11-28T18:12:11.097Z"
   },
   {
    "duration": 52,
    "start_time": "2023-11-28T18:12:11.107Z"
   },
   {
    "duration": 8,
    "start_time": "2023-11-28T18:12:11.160Z"
   },
   {
    "duration": 18,
    "start_time": "2023-11-28T18:12:11.169Z"
   },
   {
    "duration": 165,
    "start_time": "2023-11-28T18:12:11.188Z"
   },
   {
    "duration": 118,
    "start_time": "2023-11-28T18:12:11.356Z"
   },
   {
    "duration": 203,
    "start_time": "2023-11-28T18:12:11.475Z"
   },
   {
    "duration": 459,
    "start_time": "2023-11-28T18:12:11.680Z"
   },
   {
    "duration": 402,
    "start_time": "2023-11-28T18:12:12.141Z"
   },
   {
    "duration": 14,
    "start_time": "2023-11-28T18:12:12.544Z"
   },
   {
    "duration": 7,
    "start_time": "2023-11-28T18:12:12.559Z"
   },
   {
    "duration": 12,
    "start_time": "2023-11-28T18:12:12.567Z"
   },
   {
    "duration": 545,
    "start_time": "2023-11-28T18:12:12.580Z"
   },
   {
    "duration": 510,
    "start_time": "2023-11-28T18:12:13.126Z"
   },
   {
    "duration": 68,
    "start_time": "2023-11-28T18:12:13.638Z"
   },
   {
    "duration": 9,
    "start_time": "2023-11-28T18:12:13.707Z"
   },
   {
    "duration": 21,
    "start_time": "2023-11-28T18:13:02.376Z"
   },
   {
    "duration": 41,
    "start_time": "2023-11-28T18:13:36.243Z"
   },
   {
    "duration": 43,
    "start_time": "2023-11-28T18:14:09.935Z"
   },
   {
    "duration": 47,
    "start_time": "2023-11-28T18:14:38.708Z"
   },
   {
    "duration": 1038,
    "start_time": "2023-11-28T18:14:50.721Z"
   },
   {
    "duration": 33,
    "start_time": "2023-11-28T18:14:51.761Z"
   },
   {
    "duration": 9,
    "start_time": "2023-11-28T18:14:51.796Z"
   },
   {
    "duration": 36,
    "start_time": "2023-11-28T18:14:51.806Z"
   },
   {
    "duration": 9,
    "start_time": "2023-11-28T18:14:51.844Z"
   },
   {
    "duration": 33,
    "start_time": "2023-11-28T18:14:51.854Z"
   },
   {
    "duration": 8,
    "start_time": "2023-11-28T18:14:51.888Z"
   },
   {
    "duration": 23,
    "start_time": "2023-11-28T18:14:51.897Z"
   },
   {
    "duration": 161,
    "start_time": "2023-11-28T18:14:51.921Z"
   },
   {
    "duration": 113,
    "start_time": "2023-11-28T18:14:52.083Z"
   },
   {
    "duration": 203,
    "start_time": "2023-11-28T18:14:52.197Z"
   },
   {
    "duration": 427,
    "start_time": "2023-11-28T18:14:52.401Z"
   },
   {
    "duration": 406,
    "start_time": "2023-11-28T18:14:52.829Z"
   },
   {
    "duration": 13,
    "start_time": "2023-11-28T18:14:53.237Z"
   },
   {
    "duration": 6,
    "start_time": "2023-11-28T18:14:53.251Z"
   },
   {
    "duration": 8,
    "start_time": "2023-11-28T18:14:53.258Z"
   },
   {
    "duration": 574,
    "start_time": "2023-11-28T18:14:53.267Z"
   },
   {
    "duration": 482,
    "start_time": "2023-11-28T18:14:53.843Z"
   },
   {
    "duration": 100,
    "start_time": "2023-11-28T18:14:54.327Z"
   },
   {
    "duration": 2,
    "start_time": "2023-11-28T18:14:54.428Z"
   },
   {
    "duration": 495,
    "start_time": "2023-11-28T18:16:11.743Z"
   },
   {
    "duration": 406,
    "start_time": "2023-11-28T18:16:29.398Z"
   },
   {
    "duration": 44,
    "start_time": "2023-11-28T18:16:54.966Z"
   },
   {
    "duration": 34,
    "start_time": "2023-11-28T18:17:11.535Z"
   },
   {
    "duration": 326,
    "start_time": "2023-11-28T18:17:39.236Z"
   },
   {
    "duration": 399,
    "start_time": "2023-11-28T18:18:17.454Z"
   },
   {
    "duration": 39,
    "start_time": "2023-11-28T18:18:34.173Z"
   },
   {
    "duration": 47,
    "start_time": "2023-11-28T18:18:48.290Z"
   },
   {
    "duration": 41,
    "start_time": "2023-11-28T18:19:18.706Z"
   },
   {
    "duration": 982,
    "start_time": "2023-11-28T18:20:48.080Z"
   },
   {
    "duration": 33,
    "start_time": "2023-11-28T18:20:49.064Z"
   },
   {
    "duration": 8,
    "start_time": "2023-11-28T18:20:49.098Z"
   },
   {
    "duration": 28,
    "start_time": "2023-11-28T18:20:49.107Z"
   },
   {
    "duration": 7,
    "start_time": "2023-11-28T18:20:49.137Z"
   },
   {
    "duration": 17,
    "start_time": "2023-11-28T18:20:49.145Z"
   },
   {
    "duration": 7,
    "start_time": "2023-11-28T18:20:49.163Z"
   },
   {
    "duration": 28,
    "start_time": "2023-11-28T18:20:49.171Z"
   },
   {
    "duration": 154,
    "start_time": "2023-11-28T18:20:49.200Z"
   },
   {
    "duration": 126,
    "start_time": "2023-11-28T18:20:49.355Z"
   },
   {
    "duration": 203,
    "start_time": "2023-11-28T18:20:49.482Z"
   },
   {
    "duration": 444,
    "start_time": "2023-11-28T18:20:49.687Z"
   },
   {
    "duration": 411,
    "start_time": "2023-11-28T18:20:50.132Z"
   },
   {
    "duration": 12,
    "start_time": "2023-11-28T18:20:50.545Z"
   },
   {
    "duration": 8,
    "start_time": "2023-11-28T18:20:50.559Z"
   },
   {
    "duration": 9,
    "start_time": "2023-11-28T18:20:50.568Z"
   },
   {
    "duration": 564,
    "start_time": "2023-11-28T18:20:50.578Z"
   },
   {
    "duration": 496,
    "start_time": "2023-11-28T18:20:51.143Z"
   },
   {
    "duration": 83,
    "start_time": "2023-11-28T18:20:51.640Z"
   },
   {
    "duration": 0,
    "start_time": "2023-11-28T18:20:51.724Z"
   },
   {
    "duration": 91,
    "start_time": "2023-11-28T18:21:03.049Z"
   },
   {
    "duration": 105,
    "start_time": "2023-11-28T18:25:53.765Z"
   },
   {
    "duration": 69,
    "start_time": "2023-11-28T18:26:16.603Z"
   },
   {
    "duration": 29,
    "start_time": "2023-11-28T18:26:38.204Z"
   },
   {
    "duration": 109,
    "start_time": "2023-11-28T18:27:13.565Z"
   },
   {
    "duration": 26,
    "start_time": "2023-11-28T18:27:27.383Z"
   },
   {
    "duration": 9,
    "start_time": "2023-11-28T18:36:04.324Z"
   },
   {
    "duration": 5,
    "start_time": "2023-11-28T18:36:15.964Z"
   },
   {
    "duration": 5,
    "start_time": "2023-11-28T18:42:59.501Z"
   },
   {
    "duration": 8,
    "start_time": "2023-11-28T18:48:13.740Z"
   },
   {
    "duration": 4,
    "start_time": "2023-11-28T18:48:22.261Z"
   },
   {
    "duration": 5,
    "start_time": "2023-11-28T18:52:15.009Z"
   },
   {
    "duration": 4,
    "start_time": "2023-11-28T18:52:24.920Z"
   },
   {
    "duration": 10,
    "start_time": "2023-11-28T18:58:34.275Z"
   },
   {
    "duration": 10,
    "start_time": "2023-11-28T18:58:40.327Z"
   },
   {
    "duration": 10,
    "start_time": "2023-11-28T19:09:33.998Z"
   },
   {
    "duration": 116,
    "start_time": "2023-11-28T19:10:07.945Z"
   },
   {
    "duration": 9,
    "start_time": "2023-11-28T19:11:50.116Z"
   },
   {
    "duration": 123,
    "start_time": "2023-11-28T19:11:56.857Z"
   },
   {
    "duration": 10,
    "start_time": "2023-11-28T19:13:34.596Z"
   },
   {
    "duration": 245,
    "start_time": "2023-11-28T19:13:48.258Z"
   },
   {
    "duration": 53,
    "start_time": "2023-11-29T07:46:24.386Z"
   },
   {
    "duration": 1377,
    "start_time": "2023-11-29T07:46:32.114Z"
   },
   {
    "duration": 99,
    "start_time": "2023-11-29T07:46:33.493Z"
   },
   {
    "duration": 12,
    "start_time": "2023-11-29T07:46:33.594Z"
   },
   {
    "duration": 173,
    "start_time": "2023-11-29T07:46:33.609Z"
   },
   {
    "duration": 12,
    "start_time": "2023-11-29T07:46:33.784Z"
   },
   {
    "duration": 79,
    "start_time": "2023-11-29T07:46:33.798Z"
   },
   {
    "duration": 11,
    "start_time": "2023-11-29T07:46:33.879Z"
   },
   {
    "duration": 44,
    "start_time": "2023-11-29T07:46:33.892Z"
   },
   {
    "duration": 205,
    "start_time": "2023-11-29T07:46:33.938Z"
   },
   {
    "duration": 151,
    "start_time": "2023-11-29T07:46:34.146Z"
   },
   {
    "duration": 268,
    "start_time": "2023-11-29T07:46:34.299Z"
   },
   {
    "duration": 624,
    "start_time": "2023-11-29T07:46:34.569Z"
   },
   {
    "duration": 520,
    "start_time": "2023-11-29T07:46:35.195Z"
   },
   {
    "duration": 17,
    "start_time": "2023-11-29T07:46:35.717Z"
   },
   {
    "duration": 9,
    "start_time": "2023-11-29T07:46:35.736Z"
   },
   {
    "duration": 7,
    "start_time": "2023-11-29T07:46:35.746Z"
   },
   {
    "duration": 673,
    "start_time": "2023-11-29T07:46:35.754Z"
   },
   {
    "duration": 623,
    "start_time": "2023-11-29T07:46:36.429Z"
   },
   {
    "duration": 128,
    "start_time": "2023-11-29T07:46:37.054Z"
   },
   {
    "duration": 6,
    "start_time": "2023-11-29T07:46:37.183Z"
   },
   {
    "duration": 6,
    "start_time": "2023-11-29T07:46:37.191Z"
   },
   {
    "duration": 35,
    "start_time": "2023-11-29T07:46:37.199Z"
   },
   {
    "duration": 191,
    "start_time": "2023-11-29T07:46:37.236Z"
   },
   {
    "duration": 309,
    "start_time": "2023-11-29T07:46:37.429Z"
   },
   {
    "duration": 0,
    "start_time": "2023-11-29T07:46:37.740Z"
   },
   {
    "duration": 57,
    "start_time": "2023-11-29T07:47:28.436Z"
   },
   {
    "duration": 20,
    "start_time": "2023-11-29T07:48:49.685Z"
   },
   {
    "duration": 287,
    "start_time": "2023-11-29T07:48:55.443Z"
   },
   {
    "duration": 294,
    "start_time": "2023-11-29T07:50:50.653Z"
   },
   {
    "duration": 278,
    "start_time": "2023-11-29T07:50:56.443Z"
   },
   {
    "duration": 284,
    "start_time": "2023-11-29T07:51:25.047Z"
   },
   {
    "duration": 375,
    "start_time": "2023-11-29T07:51:33.126Z"
   },
   {
    "duration": 308,
    "start_time": "2023-11-29T07:51:41.705Z"
   },
   {
    "duration": 280,
    "start_time": "2023-11-29T07:52:18.933Z"
   },
   {
    "duration": 399,
    "start_time": "2023-11-29T07:52:35.374Z"
   },
   {
    "duration": 506,
    "start_time": "2023-11-29T07:52:44.794Z"
   },
   {
    "duration": 278,
    "start_time": "2023-11-29T07:53:02.841Z"
   },
   {
    "duration": 356,
    "start_time": "2023-11-29T07:53:10.881Z"
   },
   {
    "duration": 380,
    "start_time": "2023-11-29T07:53:23.113Z"
   },
   {
    "duration": 31,
    "start_time": "2023-11-29T07:53:45.083Z"
   },
   {
    "duration": 36,
    "start_time": "2023-11-29T07:53:51.704Z"
   },
   {
    "duration": 384,
    "start_time": "2023-11-29T07:54:00.274Z"
   },
   {
    "duration": 459,
    "start_time": "2023-11-29T07:55:24.580Z"
   },
   {
    "duration": 367,
    "start_time": "2023-11-29T07:55:37.445Z"
   },
   {
    "duration": 361,
    "start_time": "2023-11-29T07:56:04.933Z"
   },
   {
    "duration": 360,
    "start_time": "2023-11-29T07:56:11.658Z"
   },
   {
    "duration": 480,
    "start_time": "2023-11-29T07:56:15.795Z"
   },
   {
    "duration": 358,
    "start_time": "2023-11-29T07:57:25.335Z"
   },
   {
    "duration": 385,
    "start_time": "2023-11-29T07:57:32.107Z"
   },
   {
    "duration": 373,
    "start_time": "2023-11-29T07:57:37.724Z"
   },
   {
    "duration": 367,
    "start_time": "2023-11-29T07:59:27.908Z"
   },
   {
    "duration": 371,
    "start_time": "2023-11-29T07:59:33.513Z"
   },
   {
    "duration": 373,
    "start_time": "2023-11-29T07:59:36.913Z"
   },
   {
    "duration": 357,
    "start_time": "2023-11-29T07:59:55.858Z"
   },
   {
    "duration": 532,
    "start_time": "2023-11-29T08:00:56.431Z"
   },
   {
    "duration": 585,
    "start_time": "2023-11-29T08:01:07.773Z"
   },
   {
    "duration": 569,
    "start_time": "2023-11-29T08:01:19.650Z"
   },
   {
    "duration": 568,
    "start_time": "2023-11-29T08:01:27.634Z"
   },
   {
    "duration": 1713,
    "start_time": "2023-11-29T08:01:34.747Z"
   },
   {
    "duration": 15987,
    "start_time": "2023-11-29T08:02:00.911Z"
   },
   {
    "duration": 16345,
    "start_time": "2023-11-29T08:02:28.219Z"
   },
   {
    "duration": 4489,
    "start_time": "2023-11-29T08:02:57.319Z"
   },
   {
    "duration": 3918,
    "start_time": "2023-11-29T08:03:10.409Z"
   },
   {
    "duration": 3867,
    "start_time": "2023-11-29T08:09:46.353Z"
   },
   {
    "duration": 2782,
    "start_time": "2023-11-29T08:13:10.656Z"
   },
   {
    "duration": 3970,
    "start_time": "2023-11-29T08:16:15.201Z"
   },
   {
    "duration": 3752,
    "start_time": "2023-11-29T08:17:23.169Z"
   },
   {
    "duration": 2833,
    "start_time": "2023-11-29T08:17:39.573Z"
   },
   {
    "duration": 3951,
    "start_time": "2023-11-29T08:19:54.553Z"
   },
   {
    "duration": 1647,
    "start_time": "2023-11-29T08:20:19.102Z"
   },
   {
    "duration": 3250,
    "start_time": "2023-11-29T08:20:29.454Z"
   },
   {
    "duration": 2000,
    "start_time": "2023-11-29T08:22:57.925Z"
   },
   {
    "duration": 1964,
    "start_time": "2023-11-29T08:23:39.161Z"
   },
   {
    "duration": 3186,
    "start_time": "2023-11-29T08:25:09.111Z"
   },
   {
    "duration": 2019,
    "start_time": "2023-11-29T08:25:46.433Z"
   },
   {
    "duration": 3095,
    "start_time": "2023-11-29T08:25:57.016Z"
   },
   {
    "duration": 1946,
    "start_time": "2023-11-29T08:26:07.693Z"
   },
   {
    "duration": 2032,
    "start_time": "2023-11-29T08:26:38.102Z"
   },
   {
    "duration": 3180,
    "start_time": "2023-11-29T08:26:53.297Z"
   },
   {
    "duration": 1847,
    "start_time": "2023-11-29T08:27:52.337Z"
   },
   {
    "duration": 3039,
    "start_time": "2023-11-29T08:28:01.169Z"
   },
   {
    "duration": 1961,
    "start_time": "2023-11-29T08:29:01.131Z"
   },
   {
    "duration": 331,
    "start_time": "2023-11-29T08:30:18.052Z"
   },
   {
    "duration": 3321,
    "start_time": "2023-11-29T08:30:59.506Z"
   },
   {
    "duration": 324,
    "start_time": "2023-11-29T08:31:08.780Z"
   },
   {
    "duration": 369,
    "start_time": "2023-11-29T08:31:33.987Z"
   },
   {
    "duration": 395,
    "start_time": "2023-11-29T08:32:35.096Z"
   },
   {
    "duration": 6,
    "start_time": "2023-11-29T08:33:07.552Z"
   },
   {
    "duration": 14,
    "start_time": "2023-11-29T08:52:27.970Z"
   },
   {
    "duration": 162,
    "start_time": "2023-11-29T08:52:49.474Z"
   },
   {
    "duration": 101484,
    "start_time": "2023-11-29T08:53:09.914Z"
   },
   {
    "duration": 15,
    "start_time": "2023-11-29T09:02:30.017Z"
   },
   {
    "duration": 12,
    "start_time": "2023-11-29T09:05:35.881Z"
   },
   {
    "duration": 238,
    "start_time": "2023-11-29T09:06:08.515Z"
   },
   {
    "duration": 233,
    "start_time": "2023-11-29T09:09:55.875Z"
   },
   {
    "duration": 215,
    "start_time": "2023-11-29T09:10:18.067Z"
   },
   {
    "duration": 193,
    "start_time": "2023-11-29T09:12:54.056Z"
   },
   {
    "duration": 196,
    "start_time": "2023-11-29T09:15:32.136Z"
   },
   {
    "duration": 124,
    "start_time": "2023-11-29T09:15:56.478Z"
   },
   {
    "duration": 213,
    "start_time": "2023-11-29T09:16:08.276Z"
   },
   {
    "duration": 242,
    "start_time": "2023-11-29T09:16:16.483Z"
   },
   {
    "duration": 15,
    "start_time": "2023-11-29T09:16:57.347Z"
   },
   {
    "duration": 393,
    "start_time": "2023-11-29T09:17:50.896Z"
   },
   {
    "duration": 297,
    "start_time": "2023-11-29T09:18:08.079Z"
   },
   {
    "duration": 233,
    "start_time": "2023-11-29T09:18:19.073Z"
   },
   {
    "duration": 252,
    "start_time": "2023-11-29T09:18:29.733Z"
   },
   {
    "duration": 270,
    "start_time": "2023-11-29T09:18:46.700Z"
   },
   {
    "duration": 1658,
    "start_time": "2023-11-29T09:20:18.716Z"
   },
   {
    "duration": 1683,
    "start_time": "2023-11-29T09:20:33.749Z"
   },
   {
    "duration": 2662,
    "start_time": "2023-11-29T09:20:43.695Z"
   },
   {
    "duration": 1675,
    "start_time": "2023-11-29T09:21:41.316Z"
   },
   {
    "duration": 1799,
    "start_time": "2023-11-29T09:22:03.885Z"
   },
   {
    "duration": 3062,
    "start_time": "2023-11-29T09:22:21.760Z"
   },
   {
    "duration": 1778,
    "start_time": "2023-11-29T09:22:35.176Z"
   },
   {
    "duration": 2721,
    "start_time": "2023-11-29T09:22:52.546Z"
   },
   {
    "duration": 1897,
    "start_time": "2023-11-29T09:28:31.828Z"
   },
   {
    "duration": 1671,
    "start_time": "2023-11-29T09:28:52.954Z"
   },
   {
    "duration": 2813,
    "start_time": "2023-11-29T09:29:54.251Z"
   },
   {
    "duration": 1669,
    "start_time": "2023-11-29T09:30:05.075Z"
   },
   {
    "duration": 386,
    "start_time": "2023-11-29T09:30:25.595Z"
   },
   {
    "duration": 389,
    "start_time": "2023-11-29T09:30:37.414Z"
   },
   {
    "duration": 5,
    "start_time": "2023-11-29T09:35:33.634Z"
   },
   {
    "duration": 4,
    "start_time": "2023-11-29T09:47:03.315Z"
   },
   {
    "duration": 5,
    "start_time": "2023-11-29T09:48:20.684Z"
   },
   {
    "duration": 4,
    "start_time": "2023-11-29T09:48:38.894Z"
   },
   {
    "duration": 5,
    "start_time": "2023-11-29T09:49:48.179Z"
   },
   {
    "duration": 7,
    "start_time": "2023-11-29T09:51:30.607Z"
   },
   {
    "duration": 5,
    "start_time": "2023-11-29T09:56:28.617Z"
   },
   {
    "duration": 5,
    "start_time": "2023-11-29T09:56:32.793Z"
   },
   {
    "duration": 5,
    "start_time": "2023-11-29T09:56:39.024Z"
   },
   {
    "duration": 5,
    "start_time": "2023-11-29T09:56:43.354Z"
   },
   {
    "duration": 4,
    "start_time": "2023-11-29T09:56:52.594Z"
   },
   {
    "duration": 4,
    "start_time": "2023-11-29T09:56:59.422Z"
   },
   {
    "duration": 4,
    "start_time": "2023-11-29T09:57:12.374Z"
   },
   {
    "duration": 5,
    "start_time": "2023-11-29T09:57:25.853Z"
   },
   {
    "duration": 6,
    "start_time": "2023-11-29T09:57:30.594Z"
   },
   {
    "duration": 4,
    "start_time": "2023-11-29T09:57:36.601Z"
   },
   {
    "duration": 6,
    "start_time": "2023-11-29T09:57:41.488Z"
   },
   {
    "duration": 6,
    "start_time": "2023-11-29T09:57:54.091Z"
   },
   {
    "duration": 6,
    "start_time": "2023-11-29T09:57:57.629Z"
   },
   {
    "duration": 6,
    "start_time": "2023-11-29T09:58:01.496Z"
   },
   {
    "duration": 6,
    "start_time": "2023-11-29T09:58:05.014Z"
   },
   {
    "duration": 6,
    "start_time": "2023-11-29T09:58:09.162Z"
   },
   {
    "duration": 6,
    "start_time": "2023-11-29T09:58:14.317Z"
   },
   {
    "duration": 5,
    "start_time": "2023-11-29T09:58:17.913Z"
   },
   {
    "duration": 5,
    "start_time": "2023-11-29T09:58:21.436Z"
   },
   {
    "duration": 5,
    "start_time": "2023-11-29T09:58:46.002Z"
   },
   {
    "duration": 5,
    "start_time": "2023-11-29T09:58:54.609Z"
   },
   {
    "duration": 4,
    "start_time": "2023-11-29T09:59:45.455Z"
   },
   {
    "duration": 4,
    "start_time": "2023-11-29T09:59:53.694Z"
   },
   {
    "duration": 5,
    "start_time": "2023-11-29T10:00:35.684Z"
   },
   {
    "duration": 10,
    "start_time": "2023-11-29T10:07:23.738Z"
   },
   {
    "duration": 5,
    "start_time": "2023-11-29T10:07:31.969Z"
   },
   {
    "duration": 6,
    "start_time": "2023-11-29T10:07:44.869Z"
   },
   {
    "duration": 5,
    "start_time": "2023-11-29T10:07:50.464Z"
   },
   {
    "duration": 6,
    "start_time": "2023-11-29T10:07:55.429Z"
   },
   {
    "duration": 5,
    "start_time": "2023-11-29T10:08:05.286Z"
   },
   {
    "duration": 6,
    "start_time": "2023-11-29T10:08:10.241Z"
   },
   {
    "duration": 5,
    "start_time": "2023-11-29T10:08:21.023Z"
   },
   {
    "duration": 6,
    "start_time": "2023-11-29T10:08:33.241Z"
   },
   {
    "duration": 5,
    "start_time": "2023-11-29T10:08:38.693Z"
   },
   {
    "duration": 5,
    "start_time": "2023-11-29T10:08:46.117Z"
   },
   {
    "duration": 6,
    "start_time": "2023-11-29T10:08:50.522Z"
   },
   {
    "duration": 5,
    "start_time": "2023-11-29T10:08:53.781Z"
   },
   {
    "duration": 6,
    "start_time": "2023-11-29T10:08:57.993Z"
   },
   {
    "duration": 6,
    "start_time": "2023-11-29T10:09:01.561Z"
   },
   {
    "duration": 5,
    "start_time": "2023-11-29T10:09:05.302Z"
   },
   {
    "duration": 5,
    "start_time": "2023-11-29T10:09:08.914Z"
   },
   {
    "duration": 5,
    "start_time": "2023-11-29T10:09:12.570Z"
   },
   {
    "duration": 5,
    "start_time": "2023-11-29T10:09:16.813Z"
   },
   {
    "duration": 4,
    "start_time": "2023-11-29T10:18:34.153Z"
   },
   {
    "duration": 9,
    "start_time": "2023-11-29T10:20:27.866Z"
   },
   {
    "duration": 5,
    "start_time": "2023-11-29T10:20:38.674Z"
   },
   {
    "duration": 9,
    "start_time": "2023-11-29T10:21:14.663Z"
   },
   {
    "duration": 5,
    "start_time": "2023-11-29T10:21:20.355Z"
   },
   {
    "duration": 11,
    "start_time": "2023-11-29T10:21:56.521Z"
   },
   {
    "duration": 6,
    "start_time": "2023-11-29T10:22:04.861Z"
   },
   {
    "duration": 6,
    "start_time": "2023-11-29T10:22:16.274Z"
   },
   {
    "duration": 7,
    "start_time": "2023-11-29T10:22:56.501Z"
   },
   {
    "duration": 6,
    "start_time": "2023-11-29T10:23:33.941Z"
   },
   {
    "duration": 6,
    "start_time": "2023-11-29T10:23:46.401Z"
   },
   {
    "duration": 4,
    "start_time": "2023-11-29T10:24:46.590Z"
   },
   {
    "duration": 6,
    "start_time": "2023-11-29T10:25:04.837Z"
   },
   {
    "duration": 6,
    "start_time": "2023-11-29T10:25:09.301Z"
   },
   {
    "duration": 7,
    "start_time": "2023-11-29T10:25:13.393Z"
   },
   {
    "duration": 6,
    "start_time": "2023-11-29T10:25:17.182Z"
   },
   {
    "duration": 6,
    "start_time": "2023-11-29T10:25:21.001Z"
   },
   {
    "duration": 7,
    "start_time": "2023-11-29T10:25:25.242Z"
   },
   {
    "duration": 6,
    "start_time": "2023-11-29T10:25:41.121Z"
   },
   {
    "duration": 6,
    "start_time": "2023-11-29T10:25:44.260Z"
   },
   {
    "duration": 7,
    "start_time": "2023-11-29T10:25:50.469Z"
   },
   {
    "duration": 6,
    "start_time": "2023-11-29T10:25:54.261Z"
   },
   {
    "duration": 6,
    "start_time": "2023-11-29T10:26:59.001Z"
   },
   {
    "duration": 6,
    "start_time": "2023-11-29T10:27:05.677Z"
   },
   {
    "duration": 6,
    "start_time": "2023-11-29T10:27:11.037Z"
   },
   {
    "duration": 143,
    "start_time": "2023-11-29T10:28:54.949Z"
   },
   {
    "duration": 157,
    "start_time": "2023-11-29T10:30:02.421Z"
   },
   {
    "duration": 168,
    "start_time": "2023-11-29T10:31:16.541Z"
   },
   {
    "duration": 229,
    "start_time": "2023-11-29T10:32:06.622Z"
   },
   {
    "duration": 219,
    "start_time": "2023-11-29T10:32:28.121Z"
   },
   {
    "duration": 223,
    "start_time": "2023-11-29T10:35:21.253Z"
   },
   {
    "duration": 222,
    "start_time": "2023-11-29T10:35:39.721Z"
   },
   {
    "duration": 199,
    "start_time": "2023-11-29T10:36:10.717Z"
   },
   {
    "duration": 231,
    "start_time": "2023-11-29T10:36:24.444Z"
   },
   {
    "duration": 212,
    "start_time": "2023-11-29T10:36:41.481Z"
   },
   {
    "duration": 214,
    "start_time": "2023-11-29T10:37:23.462Z"
   },
   {
    "duration": 212,
    "start_time": "2023-11-29T10:37:36.922Z"
   },
   {
    "duration": 203,
    "start_time": "2023-11-29T10:39:22.781Z"
   },
   {
    "duration": 203,
    "start_time": "2023-11-29T10:39:40.565Z"
   },
   {
    "duration": 207,
    "start_time": "2023-11-29T10:39:51.360Z"
   },
   {
    "duration": 207,
    "start_time": "2023-11-29T10:39:57.401Z"
   },
   {
    "duration": 208,
    "start_time": "2023-11-29T10:45:43.850Z"
   },
   {
    "duration": 215,
    "start_time": "2023-11-29T10:45:59.261Z"
   },
   {
    "duration": 204,
    "start_time": "2023-11-29T10:46:54.233Z"
   },
   {
    "duration": 206,
    "start_time": "2023-11-29T10:47:14.221Z"
   },
   {
    "duration": 205,
    "start_time": "2023-11-29T10:47:19.762Z"
   },
   {
    "duration": 139,
    "start_time": "2023-11-29T10:59:54.181Z"
   },
   {
    "duration": 145,
    "start_time": "2023-11-29T11:02:07.538Z"
   },
   {
    "duration": 146,
    "start_time": "2023-11-29T11:02:30.202Z"
   },
   {
    "duration": 141,
    "start_time": "2023-11-29T11:02:49.643Z"
   },
   {
    "duration": 143,
    "start_time": "2023-11-29T11:03:06.289Z"
   },
   {
    "duration": 149,
    "start_time": "2023-11-29T11:03:29.822Z"
   },
   {
    "duration": 147,
    "start_time": "2023-11-29T11:03:44.962Z"
   },
   {
    "duration": 149,
    "start_time": "2023-11-29T11:04:19.734Z"
   },
   {
    "duration": 153,
    "start_time": "2023-11-29T11:04:53.101Z"
   },
   {
    "duration": 332,
    "start_time": "2023-11-29T11:06:40.097Z"
   },
   {
    "duration": 269,
    "start_time": "2023-11-29T11:06:53.525Z"
   },
   {
    "duration": 251,
    "start_time": "2023-11-29T11:07:04.622Z"
   },
   {
    "duration": 237,
    "start_time": "2023-11-29T11:07:13.969Z"
   },
   {
    "duration": 272,
    "start_time": "2023-11-29T11:07:22.760Z"
   },
   {
    "duration": 258,
    "start_time": "2023-11-29T11:08:15.397Z"
   },
   {
    "duration": 453,
    "start_time": "2023-11-29T11:09:45.737Z"
   },
   {
    "duration": 581,
    "start_time": "2023-11-29T11:10:19.634Z"
   },
   {
    "duration": 539,
    "start_time": "2023-11-29T11:19:25.865Z"
   },
   {
    "duration": 457,
    "start_time": "2023-11-29T11:23:22.449Z"
   },
   {
    "duration": 16,
    "start_time": "2023-11-29T11:35:20.723Z"
   },
   {
    "duration": 30,
    "start_time": "2023-11-29T11:43:51.257Z"
   },
   {
    "duration": 31,
    "start_time": "2023-11-29T11:46:18.712Z"
   },
   {
    "duration": 33,
    "start_time": "2023-11-29T11:47:21.574Z"
   },
   {
    "duration": 1189,
    "start_time": "2023-11-29T11:47:37.884Z"
   },
   {
    "duration": 37,
    "start_time": "2023-11-29T11:47:39.075Z"
   },
   {
    "duration": 11,
    "start_time": "2023-11-29T11:47:39.114Z"
   },
   {
    "duration": 56,
    "start_time": "2023-11-29T11:47:39.126Z"
   },
   {
    "duration": 11,
    "start_time": "2023-11-29T11:47:39.184Z"
   },
   {
    "duration": 22,
    "start_time": "2023-11-29T11:47:39.197Z"
   },
   {
    "duration": 14,
    "start_time": "2023-11-29T11:47:39.220Z"
   },
   {
    "duration": 27,
    "start_time": "2023-11-29T11:47:39.235Z"
   },
   {
    "duration": 207,
    "start_time": "2023-11-29T11:47:39.264Z"
   },
   {
    "duration": 158,
    "start_time": "2023-11-29T11:47:39.473Z"
   },
   {
    "duration": 266,
    "start_time": "2023-11-29T11:47:39.633Z"
   },
   {
    "duration": 505,
    "start_time": "2023-11-29T11:47:39.901Z"
   },
   {
    "duration": 500,
    "start_time": "2023-11-29T11:47:40.408Z"
   },
   {
    "duration": 16,
    "start_time": "2023-11-29T11:47:40.910Z"
   },
   {
    "duration": 31,
    "start_time": "2023-11-29T11:47:40.927Z"
   },
   {
    "duration": 44,
    "start_time": "2023-11-29T11:47:40.960Z"
   },
   {
    "duration": 641,
    "start_time": "2023-11-29T11:47:41.005Z"
   },
   {
    "duration": 698,
    "start_time": "2023-11-29T11:47:41.648Z"
   },
   {
    "duration": 122,
    "start_time": "2023-11-29T11:47:42.347Z"
   },
   {
    "duration": 6,
    "start_time": "2023-11-29T11:47:42.471Z"
   },
   {
    "duration": 20,
    "start_time": "2023-11-29T11:47:42.480Z"
   },
   {
    "duration": 19,
    "start_time": "2023-11-29T11:47:42.502Z"
   },
   {
    "duration": 223,
    "start_time": "2023-11-29T11:47:42.522Z"
   },
   {
    "duration": 275,
    "start_time": "2023-11-29T11:47:42.747Z"
   },
   {
    "duration": 1142,
    "start_time": "2023-11-29T11:50:46.943Z"
   },
   {
    "duration": 39,
    "start_time": "2023-11-29T11:50:48.088Z"
   },
   {
    "duration": 12,
    "start_time": "2023-11-29T11:50:48.128Z"
   },
   {
    "duration": 51,
    "start_time": "2023-11-29T11:50:48.142Z"
   },
   {
    "duration": 11,
    "start_time": "2023-11-29T11:50:48.195Z"
   },
   {
    "duration": 44,
    "start_time": "2023-11-29T11:50:48.208Z"
   },
   {
    "duration": 11,
    "start_time": "2023-11-29T11:50:48.253Z"
   },
   {
    "duration": 33,
    "start_time": "2023-11-29T11:50:48.266Z"
   },
   {
    "duration": 197,
    "start_time": "2023-11-29T11:50:48.300Z"
   },
   {
    "duration": 152,
    "start_time": "2023-11-29T11:50:48.498Z"
   },
   {
    "duration": 256,
    "start_time": "2023-11-29T11:50:48.651Z"
   },
   {
    "duration": 496,
    "start_time": "2023-11-29T11:50:48.909Z"
   },
   {
    "duration": 492,
    "start_time": "2023-11-29T11:50:49.406Z"
   },
   {
    "duration": 21,
    "start_time": "2023-11-29T11:50:49.901Z"
   },
   {
    "duration": 8,
    "start_time": "2023-11-29T11:50:49.924Z"
   },
   {
    "duration": 10,
    "start_time": "2023-11-29T11:50:49.933Z"
   },
   {
    "duration": 695,
    "start_time": "2023-11-29T11:50:49.944Z"
   },
   {
    "duration": 597,
    "start_time": "2023-11-29T11:50:50.641Z"
   },
   {
    "duration": 115,
    "start_time": "2023-11-29T11:50:51.240Z"
   },
   {
    "duration": 6,
    "start_time": "2023-11-29T11:50:51.357Z"
   },
   {
    "duration": 6,
    "start_time": "2023-11-29T11:50:51.364Z"
   },
   {
    "duration": 18,
    "start_time": "2023-11-29T11:50:51.372Z"
   },
   {
    "duration": 221,
    "start_time": "2023-11-29T11:50:51.392Z"
   },
   {
    "duration": 263,
    "start_time": "2023-11-29T11:50:51.615Z"
   },
   {
    "duration": 6,
    "start_time": "2023-11-29T11:52:49.747Z"
   },
   {
    "duration": 7,
    "start_time": "2023-11-29T11:53:41.003Z"
   },
   {
    "duration": 6,
    "start_time": "2023-11-29T11:54:00.403Z"
   },
   {
    "duration": 6,
    "start_time": "2023-11-29T11:58:45.062Z"
   },
   {
    "duration": 6,
    "start_time": "2023-11-29T11:58:54.763Z"
   },
   {
    "duration": 5,
    "start_time": "2023-11-29T11:59:02.816Z"
   },
   {
    "duration": 101,
    "start_time": "2023-11-29T11:59:21.877Z"
   },
   {
    "duration": 10,
    "start_time": "2023-11-29T11:59:33.564Z"
   },
   {
    "duration": 5,
    "start_time": "2023-11-29T11:59:55.464Z"
   },
   {
    "duration": 9,
    "start_time": "2023-11-29T12:01:18.045Z"
   },
   {
    "duration": 10,
    "start_time": "2023-11-29T12:01:26.707Z"
   },
   {
    "duration": 10,
    "start_time": "2023-11-29T12:01:31.071Z"
   },
   {
    "duration": 9,
    "start_time": "2023-11-29T12:01:36.214Z"
   },
   {
    "duration": 10,
    "start_time": "2023-11-29T12:01:41.253Z"
   },
   {
    "duration": 9,
    "start_time": "2023-11-29T12:01:57.063Z"
   },
   {
    "duration": 5,
    "start_time": "2023-11-29T12:03:49.389Z"
   },
   {
    "duration": 6,
    "start_time": "2023-11-29T12:03:58.044Z"
   },
   {
    "duration": 5,
    "start_time": "2023-11-29T12:04:10.142Z"
   },
   {
    "duration": 5,
    "start_time": "2023-11-29T12:04:58.673Z"
   },
   {
    "duration": 5,
    "start_time": "2023-11-29T12:05:40.743Z"
   },
   {
    "duration": 10,
    "start_time": "2023-11-29T12:07:30.464Z"
   },
   {
    "duration": 10,
    "start_time": "2023-11-29T12:08:44.936Z"
   },
   {
    "duration": 11,
    "start_time": "2023-11-29T12:10:00.270Z"
   },
   {
    "duration": 13,
    "start_time": "2023-11-29T12:10:16.251Z"
   },
   {
    "duration": 14,
    "start_time": "2023-11-29T12:10:40.443Z"
   },
   {
    "duration": 14,
    "start_time": "2023-11-29T12:10:45.827Z"
   },
   {
    "duration": 9,
    "start_time": "2023-11-29T12:11:00.948Z"
   },
   {
    "duration": 9,
    "start_time": "2023-11-29T12:11:47.553Z"
   },
   {
    "duration": 8,
    "start_time": "2023-11-29T12:11:53.923Z"
   },
   {
    "duration": 5,
    "start_time": "2023-11-29T12:17:25.887Z"
   },
   {
    "duration": 195,
    "start_time": "2023-11-29T12:22:00.203Z"
   },
   {
    "duration": 7,
    "start_time": "2023-11-29T12:55:44.720Z"
   },
   {
    "duration": 5,
    "start_time": "2023-11-29T12:56:08.662Z"
   },
   {
    "duration": 5,
    "start_time": "2023-11-29T12:56:59.725Z"
   },
   {
    "duration": 5,
    "start_time": "2023-11-29T12:57:30.669Z"
   },
   {
    "duration": 219,
    "start_time": "2023-11-29T12:57:40.485Z"
   },
   {
    "duration": 204,
    "start_time": "2023-11-29T12:57:49.161Z"
   },
   {
    "duration": 1124,
    "start_time": "2023-11-29T12:58:45.000Z"
   },
   {
    "duration": 58,
    "start_time": "2023-11-29T12:59:14.846Z"
   },
   {
    "duration": 553,
    "start_time": "2023-11-29T13:00:20.423Z"
   },
   {
    "duration": 374,
    "start_time": "2023-11-29T13:00:54.571Z"
   },
   {
    "duration": 385,
    "start_time": "2023-11-29T13:01:33.878Z"
   },
   {
    "duration": 385,
    "start_time": "2023-11-29T13:02:03.478Z"
   },
   {
    "duration": 207,
    "start_time": "2023-11-29T13:03:02.585Z"
   },
   {
    "duration": 41,
    "start_time": "2023-11-29T13:03:56.381Z"
   },
   {
    "duration": 5,
    "start_time": "2023-11-29T13:04:58.101Z"
   },
   {
    "duration": 5,
    "start_time": "2023-11-29T13:05:22.878Z"
   },
   {
    "duration": 5,
    "start_time": "2023-11-29T13:05:28.729Z"
   },
   {
    "duration": 5,
    "start_time": "2023-11-29T13:05:42.395Z"
   },
   {
    "duration": 5,
    "start_time": "2023-11-29T13:05:45.480Z"
   },
   {
    "duration": 108,
    "start_time": "2023-11-29T13:07:31.701Z"
   },
   {
    "duration": 864,
    "start_time": "2023-11-29T13:07:38.325Z"
   },
   {
    "duration": 847,
    "start_time": "2023-11-29T13:08:11.340Z"
   },
   {
    "duration": 890,
    "start_time": "2023-11-29T13:08:42.896Z"
   },
   {
    "duration": 870,
    "start_time": "2023-11-29T13:08:59.793Z"
   },
   {
    "duration": 12,
    "start_time": "2023-11-29T13:10:00.386Z"
   },
   {
    "duration": 152,
    "start_time": "2023-11-29T13:10:08.926Z"
   },
   {
    "duration": 1012,
    "start_time": "2023-11-29T13:10:40.874Z"
   },
   {
    "duration": 1014,
    "start_time": "2023-11-29T13:10:57.820Z"
   },
   {
    "duration": 1213,
    "start_time": "2023-11-29T13:12:12.112Z"
   },
   {
    "duration": 1260,
    "start_time": "2023-11-29T13:12:21.222Z"
   },
   {
    "duration": 1275,
    "start_time": "2023-11-29T13:12:46.052Z"
   },
   {
    "duration": 229,
    "start_time": "2023-11-29T13:13:41.237Z"
   },
   {
    "duration": 206,
    "start_time": "2023-11-29T13:14:16.780Z"
   },
   {
    "duration": 1003,
    "start_time": "2023-11-29T13:14:39.294Z"
   },
   {
    "duration": 1276,
    "start_time": "2023-11-29T13:15:53.598Z"
   },
   {
    "duration": 1209,
    "start_time": "2023-11-29T13:16:23.712Z"
   },
   {
    "duration": 1204,
    "start_time": "2023-11-29T13:16:50.214Z"
   },
   {
    "duration": 1208,
    "start_time": "2023-11-29T13:18:58.472Z"
   },
   {
    "duration": 40,
    "start_time": "2023-11-29T13:18:59.682Z"
   },
   {
    "duration": 13,
    "start_time": "2023-11-29T13:18:59.723Z"
   },
   {
    "duration": 48,
    "start_time": "2023-11-29T13:18:59.738Z"
   },
   {
    "duration": 12,
    "start_time": "2023-11-29T13:18:59.787Z"
   },
   {
    "duration": 26,
    "start_time": "2023-11-29T13:18:59.801Z"
   },
   {
    "duration": 11,
    "start_time": "2023-11-29T13:18:59.828Z"
   },
   {
    "duration": 33,
    "start_time": "2023-11-29T13:18:59.841Z"
   },
   {
    "duration": 209,
    "start_time": "2023-11-29T13:18:59.875Z"
   },
   {
    "duration": 154,
    "start_time": "2023-11-29T13:19:00.087Z"
   },
   {
    "duration": 293,
    "start_time": "2023-11-29T13:19:00.243Z"
   },
   {
    "duration": 580,
    "start_time": "2023-11-29T13:19:00.538Z"
   },
   {
    "duration": 586,
    "start_time": "2023-11-29T13:19:01.119Z"
   },
   {
    "duration": 15,
    "start_time": "2023-11-29T13:19:01.707Z"
   },
   {
    "duration": 53,
    "start_time": "2023-11-29T13:19:01.724Z"
   },
   {
    "duration": 77,
    "start_time": "2023-11-29T13:19:01.779Z"
   },
   {
    "duration": 681,
    "start_time": "2023-11-29T13:19:01.858Z"
   },
   {
    "duration": 700,
    "start_time": "2023-11-29T13:19:02.541Z"
   },
   {
    "duration": 135,
    "start_time": "2023-11-29T13:19:03.243Z"
   },
   {
    "duration": 6,
    "start_time": "2023-11-29T13:19:03.380Z"
   },
   {
    "duration": 29,
    "start_time": "2023-11-29T13:19:03.387Z"
   },
   {
    "duration": 51,
    "start_time": "2023-11-29T13:19:03.418Z"
   },
   {
    "duration": 111,
    "start_time": "2023-11-29T13:19:03.470Z"
   },
   {
    "duration": 0,
    "start_time": "2023-11-29T13:19:03.583Z"
   },
   {
    "duration": 1256,
    "start_time": "2023-11-29T13:19:24.206Z"
   },
   {
    "duration": 1193,
    "start_time": "2023-11-29T13:21:01.733Z"
   },
   {
    "duration": 1203,
    "start_time": "2023-11-29T13:22:05.713Z"
   },
   {
    "duration": 1181,
    "start_time": "2023-11-29T13:23:37.153Z"
   },
   {
    "duration": 1233,
    "start_time": "2023-11-29T13:25:00.994Z"
   },
   {
    "duration": 1211,
    "start_time": "2023-11-29T13:25:50.453Z"
   },
   {
    "duration": 11,
    "start_time": "2023-11-29T13:26:30.965Z"
   },
   {
    "duration": 210,
    "start_time": "2023-11-29T13:27:17.978Z"
   },
   {
    "duration": 205,
    "start_time": "2023-11-29T13:27:31.533Z"
   },
   {
    "duration": 1210,
    "start_time": "2023-11-29T13:28:02.753Z"
   },
   {
    "duration": 1202,
    "start_time": "2023-11-29T13:28:38.289Z"
   },
   {
    "duration": 37,
    "start_time": "2023-11-29T13:28:39.494Z"
   },
   {
    "duration": 11,
    "start_time": "2023-11-29T13:28:39.533Z"
   },
   {
    "duration": 38,
    "start_time": "2023-11-29T13:28:39.546Z"
   },
   {
    "duration": 12,
    "start_time": "2023-11-29T13:28:39.585Z"
   },
   {
    "duration": 21,
    "start_time": "2023-11-29T13:28:39.598Z"
   },
   {
    "duration": 10,
    "start_time": "2023-11-29T13:28:39.621Z"
   },
   {
    "duration": 24,
    "start_time": "2023-11-29T13:28:39.632Z"
   },
   {
    "duration": 222,
    "start_time": "2023-11-29T13:28:39.658Z"
   },
   {
    "duration": 159,
    "start_time": "2023-11-29T13:28:39.884Z"
   },
   {
    "duration": 274,
    "start_time": "2023-11-29T13:28:40.045Z"
   },
   {
    "duration": 510,
    "start_time": "2023-11-29T13:28:40.321Z"
   },
   {
    "duration": 477,
    "start_time": "2023-11-29T13:28:40.832Z"
   },
   {
    "duration": 14,
    "start_time": "2023-11-29T13:28:41.311Z"
   },
   {
    "duration": 7,
    "start_time": "2023-11-29T13:28:41.327Z"
   },
   {
    "duration": 22,
    "start_time": "2023-11-29T13:28:41.335Z"
   },
   {
    "duration": 678,
    "start_time": "2023-11-29T13:28:41.358Z"
   },
   {
    "duration": 599,
    "start_time": "2023-11-29T13:28:42.038Z"
   },
   {
    "duration": 123,
    "start_time": "2023-11-29T13:28:42.638Z"
   },
   {
    "duration": 5,
    "start_time": "2023-11-29T13:28:42.762Z"
   },
   {
    "duration": 6,
    "start_time": "2023-11-29T13:28:42.769Z"
   },
   {
    "duration": 18,
    "start_time": "2023-11-29T13:28:42.776Z"
   },
   {
    "duration": 118,
    "start_time": "2023-11-29T13:28:42.796Z"
   },
   {
    "duration": 0,
    "start_time": "2023-11-29T13:28:42.916Z"
   },
   {
    "duration": 1254,
    "start_time": "2023-11-29T13:29:22.433Z"
   },
   {
    "duration": 1296,
    "start_time": "2023-11-29T13:29:32.983Z"
   },
   {
    "duration": 39,
    "start_time": "2023-11-29T13:29:34.281Z"
   },
   {
    "duration": 13,
    "start_time": "2023-11-29T13:29:34.322Z"
   },
   {
    "duration": 36,
    "start_time": "2023-11-29T13:29:34.337Z"
   },
   {
    "duration": 11,
    "start_time": "2023-11-29T13:29:34.374Z"
   },
   {
    "duration": 20,
    "start_time": "2023-11-29T13:29:34.387Z"
   },
   {
    "duration": 13,
    "start_time": "2023-11-29T13:29:34.409Z"
   },
   {
    "duration": 21,
    "start_time": "2023-11-29T13:29:34.424Z"
   },
   {
    "duration": 238,
    "start_time": "2023-11-29T13:29:34.446Z"
   },
   {
    "duration": 157,
    "start_time": "2023-11-29T13:29:34.686Z"
   },
   {
    "duration": 278,
    "start_time": "2023-11-29T13:29:34.845Z"
   },
   {
    "duration": 509,
    "start_time": "2023-11-29T13:29:35.124Z"
   },
   {
    "duration": 574,
    "start_time": "2023-11-29T13:29:35.635Z"
   },
   {
    "duration": 17,
    "start_time": "2023-11-29T13:29:36.212Z"
   },
   {
    "duration": 19,
    "start_time": "2023-11-29T13:29:36.230Z"
   },
   {
    "duration": 22,
    "start_time": "2023-11-29T13:29:36.250Z"
   },
   {
    "duration": 675,
    "start_time": "2023-11-29T13:29:36.274Z"
   },
   {
    "duration": 710,
    "start_time": "2023-11-29T13:29:36.951Z"
   },
   {
    "duration": 122,
    "start_time": "2023-11-29T13:29:37.663Z"
   },
   {
    "duration": 6,
    "start_time": "2023-11-29T13:29:37.786Z"
   },
   {
    "duration": 19,
    "start_time": "2023-11-29T13:29:37.793Z"
   },
   {
    "duration": 19,
    "start_time": "2023-11-29T13:29:37.814Z"
   },
   {
    "duration": 1232,
    "start_time": "2023-11-29T13:29:37.835Z"
   },
   {
    "duration": 268,
    "start_time": "2023-11-29T13:29:39.068Z"
   },
   {
    "duration": 253,
    "start_time": "2023-11-29T13:31:44.603Z"
   },
   {
    "duration": 1107,
    "start_time": "2023-11-29T14:43:39.700Z"
   },
   {
    "duration": 38,
    "start_time": "2023-11-29T14:43:40.809Z"
   },
   {
    "duration": 12,
    "start_time": "2023-11-29T14:43:40.848Z"
   },
   {
    "duration": 37,
    "start_time": "2023-11-29T14:43:40.861Z"
   },
   {
    "duration": 10,
    "start_time": "2023-11-29T14:43:40.900Z"
   },
   {
    "duration": 18,
    "start_time": "2023-11-29T14:43:40.911Z"
   },
   {
    "duration": 10,
    "start_time": "2023-11-29T14:43:40.931Z"
   },
   {
    "duration": 27,
    "start_time": "2023-11-29T14:43:40.943Z"
   },
   {
    "duration": 193,
    "start_time": "2023-11-29T14:43:40.972Z"
   },
   {
    "duration": 154,
    "start_time": "2023-11-29T14:43:41.167Z"
   },
   {
    "duration": 240,
    "start_time": "2023-11-29T14:43:41.322Z"
   },
   {
    "duration": 472,
    "start_time": "2023-11-29T14:43:41.564Z"
   },
   {
    "duration": 486,
    "start_time": "2023-11-29T14:43:42.038Z"
   },
   {
    "duration": 14,
    "start_time": "2023-11-29T14:43:42.528Z"
   },
   {
    "duration": 14,
    "start_time": "2023-11-29T14:43:42.543Z"
   },
   {
    "duration": 8,
    "start_time": "2023-11-29T14:43:42.558Z"
   },
   {
    "duration": 574,
    "start_time": "2023-11-29T14:43:42.567Z"
   },
   {
    "duration": 609,
    "start_time": "2023-11-29T14:43:43.142Z"
   },
   {
    "duration": 114,
    "start_time": "2023-11-29T14:43:43.753Z"
   },
   {
    "duration": 5,
    "start_time": "2023-11-29T14:43:43.868Z"
   },
   {
    "duration": 9,
    "start_time": "2023-11-29T14:43:43.875Z"
   },
   {
    "duration": 12,
    "start_time": "2023-11-29T14:43:43.885Z"
   },
   {
    "duration": 1132,
    "start_time": "2023-11-29T14:43:43.899Z"
   },
   {
    "duration": 242,
    "start_time": "2023-11-29T14:43:45.032Z"
   },
   {
    "duration": 25,
    "start_time": "2023-11-29T14:48:54.587Z"
   },
   {
    "duration": 25,
    "start_time": "2023-11-29T14:50:06.304Z"
   },
   {
    "duration": 1122,
    "start_time": "2023-11-29T15:00:46.072Z"
   },
   {
    "duration": 38,
    "start_time": "2023-11-29T15:00:47.196Z"
   },
   {
    "duration": 11,
    "start_time": "2023-11-29T15:00:47.236Z"
   },
   {
    "duration": 51,
    "start_time": "2023-11-29T15:00:47.250Z"
   },
   {
    "duration": 19,
    "start_time": "2023-11-29T15:00:47.303Z"
   },
   {
    "duration": 20,
    "start_time": "2023-11-29T15:00:47.324Z"
   },
   {
    "duration": 10,
    "start_time": "2023-11-29T15:00:47.345Z"
   },
   {
    "duration": 24,
    "start_time": "2023-11-29T15:00:47.357Z"
   },
   {
    "duration": 192,
    "start_time": "2023-11-29T15:00:47.382Z"
   },
   {
    "duration": 142,
    "start_time": "2023-11-29T15:00:47.576Z"
   },
   {
    "duration": 248,
    "start_time": "2023-11-29T15:00:47.719Z"
   },
   {
    "duration": 455,
    "start_time": "2023-11-29T15:00:47.968Z"
   },
   {
    "duration": 498,
    "start_time": "2023-11-29T15:00:48.425Z"
   },
   {
    "duration": 13,
    "start_time": "2023-11-29T15:00:48.925Z"
   },
   {
    "duration": 54,
    "start_time": "2023-11-29T15:00:48.940Z"
   },
   {
    "duration": 47,
    "start_time": "2023-11-29T15:00:48.996Z"
   },
   {
    "duration": 608,
    "start_time": "2023-11-29T15:00:49.045Z"
   },
   {
    "duration": 587,
    "start_time": "2023-11-29T15:00:49.655Z"
   },
   {
    "duration": 118,
    "start_time": "2023-11-29T15:00:50.243Z"
   },
   {
    "duration": 4,
    "start_time": "2023-11-29T15:00:50.363Z"
   },
   {
    "duration": 87,
    "start_time": "2023-11-29T15:00:50.368Z"
   },
   {
    "duration": 37,
    "start_time": "2023-11-29T15:00:50.457Z"
   },
   {
    "duration": 1162,
    "start_time": "2023-11-29T15:00:50.496Z"
   },
   {
    "duration": 243,
    "start_time": "2023-11-29T15:00:51.660Z"
   },
   {
    "duration": 49,
    "start_time": "2023-11-30T08:49:33.365Z"
   },
   {
    "duration": 1417,
    "start_time": "2023-11-30T08:49:39.767Z"
   },
   {
    "duration": 89,
    "start_time": "2023-11-30T08:49:41.186Z"
   },
   {
    "duration": 11,
    "start_time": "2023-11-30T08:49:41.276Z"
   },
   {
    "duration": 94,
    "start_time": "2023-11-30T08:49:41.289Z"
   },
   {
    "duration": 12,
    "start_time": "2023-11-30T08:49:41.385Z"
   },
   {
    "duration": 96,
    "start_time": "2023-11-30T08:49:41.398Z"
   },
   {
    "duration": 9,
    "start_time": "2023-11-30T08:49:41.495Z"
   },
   {
    "duration": 11,
    "start_time": "2023-11-30T08:49:41.506Z"
   },
   {
    "duration": 12,
    "start_time": "2023-11-30T08:49:41.518Z"
   },
   {
    "duration": 183,
    "start_time": "2023-11-30T08:49:41.532Z"
   },
   {
    "duration": 139,
    "start_time": "2023-11-30T08:49:41.717Z"
   },
   {
    "duration": 239,
    "start_time": "2023-11-30T08:49:41.858Z"
   },
   {
    "duration": 534,
    "start_time": "2023-11-30T08:49:42.099Z"
   },
   {
    "duration": 508,
    "start_time": "2023-11-30T08:49:42.636Z"
   },
   {
    "duration": 19,
    "start_time": "2023-11-30T08:49:43.146Z"
   },
   {
    "duration": 7,
    "start_time": "2023-11-30T08:49:43.167Z"
   },
   {
    "duration": 4,
    "start_time": "2023-11-30T08:49:43.176Z"
   },
   {
    "duration": 583,
    "start_time": "2023-11-30T08:49:43.182Z"
   },
   {
    "duration": 591,
    "start_time": "2023-11-30T08:49:43.767Z"
   },
   {
    "duration": 116,
    "start_time": "2023-11-30T08:49:44.360Z"
   },
   {
    "duration": 5,
    "start_time": "2023-11-30T08:49:44.477Z"
   },
   {
    "duration": 23,
    "start_time": "2023-11-30T08:49:44.483Z"
   },
   {
    "duration": 40,
    "start_time": "2023-11-30T08:49:44.508Z"
   },
   {
    "duration": 1178,
    "start_time": "2023-11-30T08:49:44.550Z"
   },
   {
    "duration": 297,
    "start_time": "2023-11-30T08:49:45.730Z"
   },
   {
    "duration": 15,
    "start_time": "2023-11-30T08:53:32.542Z"
   },
   {
    "duration": 108,
    "start_time": "2023-11-30T08:53:42.002Z"
   },
   {
    "duration": 22,
    "start_time": "2023-11-30T08:53:59.232Z"
   },
   {
    "duration": 17,
    "start_time": "2023-11-30T08:56:11.812Z"
   },
   {
    "duration": 15,
    "start_time": "2023-11-30T09:00:26.768Z"
   },
   {
    "duration": 151,
    "start_time": "2023-11-30T09:01:08.454Z"
   },
   {
    "duration": 191,
    "start_time": "2023-11-30T09:01:24.966Z"
   },
   {
    "duration": 95,
    "start_time": "2023-11-30T09:05:55.698Z"
   },
   {
    "duration": 77,
    "start_time": "2023-11-30T09:06:29.110Z"
   },
   {
    "duration": 85,
    "start_time": "2023-11-30T09:06:35.915Z"
   },
   {
    "duration": 83,
    "start_time": "2023-11-30T09:06:42.708Z"
   },
   {
    "duration": 84,
    "start_time": "2023-11-30T09:07:04.202Z"
   },
   {
    "duration": 84,
    "start_time": "2023-11-30T09:07:15.218Z"
   },
   {
    "duration": 81,
    "start_time": "2023-11-30T09:07:29.135Z"
   },
   {
    "duration": 84,
    "start_time": "2023-11-30T09:08:04.828Z"
   },
   {
    "duration": 92,
    "start_time": "2023-11-30T09:08:09.699Z"
   },
   {
    "duration": 107,
    "start_time": "2023-11-30T09:08:27.874Z"
   },
   {
    "duration": 89,
    "start_time": "2023-11-30T09:08:34.334Z"
   },
   {
    "duration": 154,
    "start_time": "2023-11-30T09:09:39.434Z"
   },
   {
    "duration": 73,
    "start_time": "2023-11-30T09:09:47.812Z"
   },
   {
    "duration": 102,
    "start_time": "2023-11-30T09:09:51.688Z"
   },
   {
    "duration": 79,
    "start_time": "2023-11-30T09:10:25.389Z"
   },
   {
    "duration": 1078,
    "start_time": "2023-11-30T09:10:38.717Z"
   },
   {
    "duration": 38,
    "start_time": "2023-11-30T09:10:39.797Z"
   },
   {
    "duration": 11,
    "start_time": "2023-11-30T09:10:39.836Z"
   },
   {
    "duration": 37,
    "start_time": "2023-11-30T09:10:39.849Z"
   },
   {
    "duration": 11,
    "start_time": "2023-11-30T09:10:39.888Z"
   },
   {
    "duration": 21,
    "start_time": "2023-11-30T09:10:39.900Z"
   },
   {
    "duration": 10,
    "start_time": "2023-11-30T09:10:39.922Z"
   },
   {
    "duration": 41,
    "start_time": "2023-11-30T09:10:39.933Z"
   },
   {
    "duration": 15,
    "start_time": "2023-11-30T09:10:39.976Z"
   },
   {
    "duration": 87,
    "start_time": "2023-11-30T09:10:39.993Z"
   },
   {
    "duration": 0,
    "start_time": "2023-11-30T09:10:40.081Z"
   },
   {
    "duration": 0,
    "start_time": "2023-11-30T09:10:40.082Z"
   },
   {
    "duration": 0,
    "start_time": "2023-11-30T09:10:40.084Z"
   },
   {
    "duration": 0,
    "start_time": "2023-11-30T09:10:40.085Z"
   },
   {
    "duration": 0,
    "start_time": "2023-11-30T09:10:40.085Z"
   },
   {
    "duration": 0,
    "start_time": "2023-11-30T09:10:40.086Z"
   },
   {
    "duration": 0,
    "start_time": "2023-11-30T09:10:40.087Z"
   },
   {
    "duration": 0,
    "start_time": "2023-11-30T09:10:40.088Z"
   },
   {
    "duration": 0,
    "start_time": "2023-11-30T09:10:40.089Z"
   },
   {
    "duration": 0,
    "start_time": "2023-11-30T09:10:40.090Z"
   },
   {
    "duration": 0,
    "start_time": "2023-11-30T09:10:40.091Z"
   },
   {
    "duration": 0,
    "start_time": "2023-11-30T09:10:40.092Z"
   },
   {
    "duration": 0,
    "start_time": "2023-11-30T09:10:40.093Z"
   },
   {
    "duration": 0,
    "start_time": "2023-11-30T09:10:40.094Z"
   },
   {
    "duration": 0,
    "start_time": "2023-11-30T09:10:40.095Z"
   },
   {
    "duration": 0,
    "start_time": "2023-11-30T09:10:40.095Z"
   },
   {
    "duration": 109,
    "start_time": "2023-11-30T09:11:13.088Z"
   },
   {
    "duration": 101,
    "start_time": "2023-11-30T09:11:39.375Z"
   },
   {
    "duration": 113,
    "start_time": "2023-11-30T09:11:51.986Z"
   },
   {
    "duration": 148,
    "start_time": "2023-11-30T09:11:56.656Z"
   },
   {
    "duration": 195,
    "start_time": "2023-11-30T09:13:10.015Z"
   },
   {
    "duration": 246,
    "start_time": "2023-11-30T09:13:23.812Z"
   },
   {
    "duration": 260,
    "start_time": "2023-11-30T09:13:47.965Z"
   },
   {
    "duration": 491,
    "start_time": "2023-11-30T09:14:46.854Z"
   },
   {
    "duration": 492,
    "start_time": "2023-11-30T09:22:23.854Z"
   },
   {
    "duration": 14,
    "start_time": "2023-11-30T09:22:38.786Z"
   },
   {
    "duration": 25,
    "start_time": "2023-11-30T09:23:20.484Z"
   },
   {
    "duration": 15,
    "start_time": "2023-11-30T09:24:54.026Z"
   },
   {
    "duration": 16,
    "start_time": "2023-11-30T09:25:25.607Z"
   },
   {
    "duration": 25,
    "start_time": "2023-11-30T09:25:34.666Z"
   },
   {
    "duration": 16,
    "start_time": "2023-11-30T09:25:53.255Z"
   },
   {
    "duration": 16,
    "start_time": "2023-11-30T09:26:03.335Z"
   },
   {
    "duration": 134,
    "start_time": "2023-11-30T09:26:40.579Z"
   },
   {
    "duration": 1319,
    "start_time": "2023-11-30T09:26:59.738Z"
   },
   {
    "duration": 39,
    "start_time": "2023-11-30T09:27:01.059Z"
   },
   {
    "duration": 12,
    "start_time": "2023-11-30T09:27:01.100Z"
   },
   {
    "duration": 84,
    "start_time": "2023-11-30T09:27:01.114Z"
   },
   {
    "duration": 14,
    "start_time": "2023-11-30T09:27:01.200Z"
   },
   {
    "duration": 41,
    "start_time": "2023-11-30T09:27:01.216Z"
   },
   {
    "duration": 25,
    "start_time": "2023-11-30T09:27:01.259Z"
   },
   {
    "duration": 38,
    "start_time": "2023-11-30T09:27:01.287Z"
   },
   {
    "duration": 40,
    "start_time": "2023-11-30T09:27:01.327Z"
   },
   {
    "duration": 246,
    "start_time": "2023-11-30T09:27:01.372Z"
   },
   {
    "duration": 113,
    "start_time": "2023-11-30T09:27:01.620Z"
   },
   {
    "duration": 0,
    "start_time": "2023-11-30T09:27:01.735Z"
   },
   {
    "duration": 0,
    "start_time": "2023-11-30T09:27:01.736Z"
   },
   {
    "duration": 0,
    "start_time": "2023-11-30T09:27:01.737Z"
   },
   {
    "duration": 0,
    "start_time": "2023-11-30T09:27:01.739Z"
   },
   {
    "duration": 0,
    "start_time": "2023-11-30T09:27:01.740Z"
   },
   {
    "duration": 0,
    "start_time": "2023-11-30T09:27:01.740Z"
   },
   {
    "duration": 0,
    "start_time": "2023-11-30T09:27:01.741Z"
   },
   {
    "duration": 0,
    "start_time": "2023-11-30T09:27:01.743Z"
   },
   {
    "duration": 0,
    "start_time": "2023-11-30T09:27:01.744Z"
   },
   {
    "duration": 0,
    "start_time": "2023-11-30T09:27:01.745Z"
   },
   {
    "duration": 0,
    "start_time": "2023-11-30T09:27:01.746Z"
   },
   {
    "duration": 0,
    "start_time": "2023-11-30T09:27:01.766Z"
   },
   {
    "duration": 0,
    "start_time": "2023-11-30T09:27:01.767Z"
   },
   {
    "duration": 0,
    "start_time": "2023-11-30T09:27:01.768Z"
   },
   {
    "duration": 12,
    "start_time": "2023-11-30T09:29:16.495Z"
   },
   {
    "duration": 1124,
    "start_time": "2023-11-30T09:29:29.015Z"
   },
   {
    "duration": 46,
    "start_time": "2023-11-30T09:29:30.141Z"
   },
   {
    "duration": 12,
    "start_time": "2023-11-30T09:29:30.189Z"
   },
   {
    "duration": 55,
    "start_time": "2023-11-30T09:29:30.203Z"
   },
   {
    "duration": 15,
    "start_time": "2023-11-30T09:29:30.260Z"
   },
   {
    "duration": 31,
    "start_time": "2023-11-30T09:29:30.278Z"
   },
   {
    "duration": 26,
    "start_time": "2023-11-30T09:29:30.310Z"
   },
   {
    "duration": 35,
    "start_time": "2023-11-30T09:29:30.337Z"
   },
   {
    "duration": 71,
    "start_time": "2023-11-30T09:29:30.373Z"
   },
   {
    "duration": 240,
    "start_time": "2023-11-30T09:29:30.446Z"
   },
   {
    "duration": 118,
    "start_time": "2023-11-30T09:29:30.689Z"
   },
   {
    "duration": 0,
    "start_time": "2023-11-30T09:29:30.808Z"
   },
   {
    "duration": 0,
    "start_time": "2023-11-30T09:29:30.809Z"
   },
   {
    "duration": 0,
    "start_time": "2023-11-30T09:29:30.810Z"
   },
   {
    "duration": 0,
    "start_time": "2023-11-30T09:29:30.811Z"
   },
   {
    "duration": 0,
    "start_time": "2023-11-30T09:29:30.811Z"
   },
   {
    "duration": 0,
    "start_time": "2023-11-30T09:29:30.812Z"
   },
   {
    "duration": 0,
    "start_time": "2023-11-30T09:29:30.813Z"
   },
   {
    "duration": 0,
    "start_time": "2023-11-30T09:29:30.817Z"
   },
   {
    "duration": 0,
    "start_time": "2023-11-30T09:29:30.820Z"
   },
   {
    "duration": 0,
    "start_time": "2023-11-30T09:29:30.821Z"
   },
   {
    "duration": 0,
    "start_time": "2023-11-30T09:29:30.823Z"
   },
   {
    "duration": 0,
    "start_time": "2023-11-30T09:29:30.824Z"
   },
   {
    "duration": 0,
    "start_time": "2023-11-30T09:29:30.825Z"
   },
   {
    "duration": 0,
    "start_time": "2023-11-30T09:29:30.826Z"
   },
   {
    "duration": 11,
    "start_time": "2023-11-30T09:29:53.194Z"
   },
   {
    "duration": 1169,
    "start_time": "2023-11-30T09:30:06.920Z"
   },
   {
    "duration": 40,
    "start_time": "2023-11-30T09:30:08.090Z"
   },
   {
    "duration": 11,
    "start_time": "2023-11-30T09:30:08.131Z"
   },
   {
    "duration": 48,
    "start_time": "2023-11-30T09:30:08.144Z"
   },
   {
    "duration": 11,
    "start_time": "2023-11-30T09:30:08.194Z"
   },
   {
    "duration": 31,
    "start_time": "2023-11-30T09:30:08.206Z"
   },
   {
    "duration": 10,
    "start_time": "2023-11-30T09:30:08.238Z"
   },
   {
    "duration": 14,
    "start_time": "2023-11-30T09:30:08.249Z"
   },
   {
    "duration": 23,
    "start_time": "2023-11-30T09:30:08.264Z"
   },
   {
    "duration": 213,
    "start_time": "2023-11-30T09:30:08.289Z"
   },
   {
    "duration": 106,
    "start_time": "2023-11-30T09:30:08.503Z"
   },
   {
    "duration": 0,
    "start_time": "2023-11-30T09:30:08.610Z"
   },
   {
    "duration": 0,
    "start_time": "2023-11-30T09:30:08.612Z"
   },
   {
    "duration": 0,
    "start_time": "2023-11-30T09:30:08.612Z"
   },
   {
    "duration": 0,
    "start_time": "2023-11-30T09:30:08.614Z"
   },
   {
    "duration": 0,
    "start_time": "2023-11-30T09:30:08.615Z"
   },
   {
    "duration": 0,
    "start_time": "2023-11-30T09:30:08.616Z"
   },
   {
    "duration": 0,
    "start_time": "2023-11-30T09:30:08.617Z"
   },
   {
    "duration": 0,
    "start_time": "2023-11-30T09:30:08.617Z"
   },
   {
    "duration": 0,
    "start_time": "2023-11-30T09:30:08.618Z"
   },
   {
    "duration": 0,
    "start_time": "2023-11-30T09:30:08.619Z"
   },
   {
    "duration": 0,
    "start_time": "2023-11-30T09:30:08.620Z"
   },
   {
    "duration": 0,
    "start_time": "2023-11-30T09:30:08.621Z"
   },
   {
    "duration": 0,
    "start_time": "2023-11-30T09:30:08.622Z"
   },
   {
    "duration": 0,
    "start_time": "2023-11-30T09:30:08.623Z"
   },
   {
    "duration": 25,
    "start_time": "2023-11-30T09:30:28.347Z"
   },
   {
    "duration": 9,
    "start_time": "2023-11-30T09:30:31.296Z"
   },
   {
    "duration": 6,
    "start_time": "2023-11-30T09:30:33.336Z"
   },
   {
    "duration": 660,
    "start_time": "2023-11-30T09:30:37.716Z"
   },
   {
    "duration": 634,
    "start_time": "2023-11-30T09:30:43.756Z"
   },
   {
    "duration": 30,
    "start_time": "2023-11-30T09:30:53.514Z"
   },
   {
    "duration": 85,
    "start_time": "2023-11-30T09:32:09.307Z"
   },
   {
    "duration": 91,
    "start_time": "2023-11-30T09:32:13.576Z"
   },
   {
    "duration": 95,
    "start_time": "2023-11-30T09:32:34.517Z"
   },
   {
    "duration": 9,
    "start_time": "2023-11-30T09:39:19.434Z"
   },
   {
    "duration": 33,
    "start_time": "2023-11-30T09:59:56.601Z"
   },
   {
    "duration": 30,
    "start_time": "2023-11-30T10:00:29.359Z"
   },
   {
    "duration": 14,
    "start_time": "2023-11-30T10:14:36.630Z"
   },
   {
    "duration": 29,
    "start_time": "2023-11-30T10:14:49.883Z"
   },
   {
    "duration": 54,
    "start_time": "2023-11-30T10:15:12.390Z"
   },
   {
    "duration": 1139,
    "start_time": "2023-11-30T10:15:35.310Z"
   },
   {
    "duration": 38,
    "start_time": "2023-11-30T10:15:36.451Z"
   },
   {
    "duration": 11,
    "start_time": "2023-11-30T10:15:36.490Z"
   },
   {
    "duration": 48,
    "start_time": "2023-11-30T10:15:36.502Z"
   },
   {
    "duration": 10,
    "start_time": "2023-11-30T10:15:36.552Z"
   },
   {
    "duration": 34,
    "start_time": "2023-11-30T10:15:36.563Z"
   },
   {
    "duration": 12,
    "start_time": "2023-11-30T10:15:36.599Z"
   },
   {
    "duration": 19,
    "start_time": "2023-11-30T10:15:36.612Z"
   },
   {
    "duration": 21,
    "start_time": "2023-11-30T10:15:36.632Z"
   },
   {
    "duration": 186,
    "start_time": "2023-11-30T10:15:36.655Z"
   },
   {
    "duration": 135,
    "start_time": "2023-11-30T10:15:36.843Z"
   },
   {
    "duration": 0,
    "start_time": "2023-11-30T10:15:36.980Z"
   },
   {
    "duration": 0,
    "start_time": "2023-11-30T10:15:36.981Z"
   },
   {
    "duration": 0,
    "start_time": "2023-11-30T10:15:36.982Z"
   },
   {
    "duration": 0,
    "start_time": "2023-11-30T10:15:36.983Z"
   },
   {
    "duration": 0,
    "start_time": "2023-11-30T10:15:36.984Z"
   },
   {
    "duration": 0,
    "start_time": "2023-11-30T10:15:36.985Z"
   },
   {
    "duration": 0,
    "start_time": "2023-11-30T10:15:36.987Z"
   },
   {
    "duration": 0,
    "start_time": "2023-11-30T10:15:36.988Z"
   },
   {
    "duration": 0,
    "start_time": "2023-11-30T10:15:36.989Z"
   },
   {
    "duration": 0,
    "start_time": "2023-11-30T10:15:36.990Z"
   },
   {
    "duration": 0,
    "start_time": "2023-11-30T10:15:36.991Z"
   },
   {
    "duration": 0,
    "start_time": "2023-11-30T10:15:36.992Z"
   },
   {
    "duration": 0,
    "start_time": "2023-11-30T10:15:36.993Z"
   },
   {
    "duration": 0,
    "start_time": "2023-11-30T10:15:36.994Z"
   },
   {
    "duration": 0,
    "start_time": "2023-11-30T10:15:36.995Z"
   },
   {
    "duration": 10,
    "start_time": "2023-11-30T10:16:21.492Z"
   },
   {
    "duration": 18,
    "start_time": "2023-11-30T10:16:29.296Z"
   },
   {
    "duration": 7,
    "start_time": "2023-11-30T10:16:31.850Z"
   },
   {
    "duration": 6,
    "start_time": "2023-11-30T10:16:33.621Z"
   },
   {
    "duration": 648,
    "start_time": "2023-11-30T10:16:36.031Z"
   },
   {
    "duration": 589,
    "start_time": "2023-11-30T10:16:39.990Z"
   },
   {
    "duration": 13,
    "start_time": "2023-11-30T10:16:45.775Z"
   },
   {
    "duration": 13,
    "start_time": "2023-11-30T10:16:48.970Z"
   },
   {
    "duration": 13,
    "start_time": "2023-11-30T10:17:18.296Z"
   },
   {
    "duration": 50,
    "start_time": "2023-11-30T10:17:20.778Z"
   },
   {
    "duration": 32,
    "start_time": "2023-11-30T10:31:19.205Z"
   },
   {
    "duration": 34,
    "start_time": "2023-11-30T10:35:13.228Z"
   },
   {
    "duration": 9,
    "start_time": "2023-11-30T10:35:39.890Z"
   },
   {
    "duration": 9,
    "start_time": "2023-11-30T10:36:22.478Z"
   },
   {
    "duration": 31,
    "start_time": "2023-11-30T10:56:06.295Z"
   },
   {
    "duration": 31,
    "start_time": "2023-11-30T10:56:13.015Z"
   },
   {
    "duration": 76,
    "start_time": "2023-11-30T10:59:51.036Z"
   },
   {
    "duration": 102,
    "start_time": "2023-11-30T11:00:09.335Z"
   },
   {
    "duration": 7,
    "start_time": "2023-11-30T11:00:26.377Z"
   },
   {
    "duration": 7,
    "start_time": "2023-11-30T11:00:51.555Z"
   },
   {
    "duration": 3,
    "start_time": "2023-11-30T11:02:15.857Z"
   },
   {
    "duration": 2,
    "start_time": "2023-11-30T11:02:32.777Z"
   },
   {
    "duration": 6,
    "start_time": "2023-11-30T11:06:35.846Z"
   },
   {
    "duration": 7,
    "start_time": "2023-11-30T11:08:41.187Z"
   },
   {
    "duration": 19,
    "start_time": "2023-11-30T11:09:05.214Z"
   },
   {
    "duration": 8,
    "start_time": "2023-11-30T11:09:20.663Z"
   },
   {
    "duration": 8,
    "start_time": "2023-11-30T11:14:28.643Z"
   },
   {
    "duration": 89,
    "start_time": "2023-11-30T11:18:55.990Z"
   },
   {
    "duration": 4,
    "start_time": "2023-11-30T11:21:59.465Z"
   },
   {
    "duration": 6,
    "start_time": "2023-11-30T11:22:21.975Z"
   },
   {
    "duration": 5,
    "start_time": "2023-11-30T11:23:21.688Z"
   },
   {
    "duration": 6,
    "start_time": "2023-11-30T11:23:31.912Z"
   },
   {
    "duration": 6,
    "start_time": "2023-11-30T11:23:47.273Z"
   },
   {
    "duration": 6,
    "start_time": "2023-11-30T11:24:02.208Z"
   },
   {
    "duration": 6,
    "start_time": "2023-11-30T11:24:16.295Z"
   },
   {
    "duration": 6,
    "start_time": "2023-11-30T11:24:27.435Z"
   },
   {
    "duration": 5,
    "start_time": "2023-11-30T11:27:29.037Z"
   },
   {
    "duration": 76,
    "start_time": "2023-11-30T11:31:34.252Z"
   },
   {
    "duration": 8,
    "start_time": "2023-11-30T11:34:07.941Z"
   },
   {
    "duration": 15,
    "start_time": "2023-11-30T11:37:17.052Z"
   },
   {
    "duration": 14,
    "start_time": "2023-11-30T11:37:43.520Z"
   },
   {
    "duration": 13,
    "start_time": "2023-11-30T11:38:43.188Z"
   },
   {
    "duration": 5,
    "start_time": "2023-11-30T11:39:32.451Z"
   },
   {
    "duration": 13,
    "start_time": "2023-11-30T11:40:06.128Z"
   },
   {
    "duration": 12,
    "start_time": "2023-11-30T11:40:36.751Z"
   },
   {
    "duration": 11,
    "start_time": "2023-11-30T11:40:41.512Z"
   },
   {
    "duration": 3,
    "start_time": "2023-11-30T11:44:21.112Z"
   },
   {
    "duration": 2,
    "start_time": "2023-11-30T11:48:05.019Z"
   },
   {
    "duration": 21,
    "start_time": "2023-11-30T11:49:55.965Z"
   },
   {
    "duration": 113,
    "start_time": "2023-11-30T11:50:16.872Z"
   },
   {
    "duration": 287,
    "start_time": "2023-11-30T11:51:59.123Z"
   },
   {
    "duration": 2,
    "start_time": "2023-11-30T11:58:34.737Z"
   },
   {
    "duration": 483,
    "start_time": "2023-11-30T13:40:20.755Z"
   },
   {
    "duration": 449,
    "start_time": "2023-11-30T13:45:40.197Z"
   },
   {
    "duration": 32,
    "start_time": "2023-11-30T13:48:19.636Z"
   },
   {
    "duration": 1126,
    "start_time": "2023-11-30T14:02:56.000Z"
   },
   {
    "duration": 39,
    "start_time": "2023-11-30T14:02:57.127Z"
   },
   {
    "duration": 10,
    "start_time": "2023-11-30T14:02:57.168Z"
   },
   {
    "duration": 53,
    "start_time": "2023-11-30T14:02:57.180Z"
   },
   {
    "duration": 9,
    "start_time": "2023-11-30T14:02:57.235Z"
   },
   {
    "duration": 30,
    "start_time": "2023-11-30T14:02:57.246Z"
   },
   {
    "duration": 12,
    "start_time": "2023-11-30T14:02:57.278Z"
   },
   {
    "duration": 49,
    "start_time": "2023-11-30T14:02:57.292Z"
   },
   {
    "duration": 45,
    "start_time": "2023-11-30T14:02:57.342Z"
   },
   {
    "duration": 184,
    "start_time": "2023-11-30T14:02:57.390Z"
   },
   {
    "duration": 91,
    "start_time": "2023-11-30T14:02:57.576Z"
   },
   {
    "duration": 251,
    "start_time": "2023-11-30T14:02:57.668Z"
   },
   {
    "duration": 549,
    "start_time": "2023-11-30T14:02:57.920Z"
   },
   {
    "duration": 642,
    "start_time": "2023-11-30T14:02:58.470Z"
   },
   {
    "duration": 59,
    "start_time": "2023-11-30T14:02:59.114Z"
   },
   {
    "duration": 7,
    "start_time": "2023-11-30T14:02:59.175Z"
   },
   {
    "duration": 20,
    "start_time": "2023-11-30T14:02:59.184Z"
   },
   {
    "duration": 656,
    "start_time": "2023-11-30T14:02:59.205Z"
   },
   {
    "duration": 604,
    "start_time": "2023-11-30T14:02:59.865Z"
   },
   {
    "duration": 14,
    "start_time": "2023-11-30T14:03:00.471Z"
   },
   {
    "duration": 123,
    "start_time": "2023-11-30T14:03:00.487Z"
   },
   {
    "duration": 6,
    "start_time": "2023-11-30T14:03:00.611Z"
   },
   {
    "duration": 110,
    "start_time": "2023-11-30T14:03:00.619Z"
   },
   {
    "duration": 33,
    "start_time": "2023-11-30T14:03:00.731Z"
   },
   {
    "duration": 1253,
    "start_time": "2023-11-30T14:03:00.766Z"
   },
   {
    "duration": 250,
    "start_time": "2023-11-30T14:03:02.020Z"
   },
   {
    "duration": 1364,
    "start_time": "2023-11-30T16:07:18.024Z"
   },
   {
    "duration": 42,
    "start_time": "2023-11-30T16:07:19.390Z"
   },
   {
    "duration": 12,
    "start_time": "2023-11-30T16:07:19.433Z"
   },
   {
    "duration": 56,
    "start_time": "2023-11-30T16:07:19.447Z"
   },
   {
    "duration": 12,
    "start_time": "2023-11-30T16:07:19.504Z"
   },
   {
    "duration": 27,
    "start_time": "2023-11-30T16:07:19.518Z"
   },
   {
    "duration": 11,
    "start_time": "2023-11-30T16:07:19.546Z"
   },
   {
    "duration": 20,
    "start_time": "2023-11-30T16:07:19.558Z"
   },
   {
    "duration": 18,
    "start_time": "2023-11-30T16:07:19.581Z"
   },
   {
    "duration": 386,
    "start_time": "2023-11-30T16:07:19.603Z"
   },
   {
    "duration": 225,
    "start_time": "2023-11-30T16:07:19.990Z"
   },
   {
    "duration": 436,
    "start_time": "2023-11-30T16:07:20.216Z"
   },
   {
    "duration": 692,
    "start_time": "2023-11-30T16:07:20.654Z"
   },
   {
    "duration": 700,
    "start_time": "2023-11-30T16:07:21.347Z"
   },
   {
    "duration": 17,
    "start_time": "2023-11-30T16:07:22.049Z"
   },
   {
    "duration": 11,
    "start_time": "2023-11-30T16:07:22.067Z"
   },
   {
    "duration": 18,
    "start_time": "2023-11-30T16:07:22.079Z"
   },
   {
    "duration": 784,
    "start_time": "2023-11-30T16:07:22.098Z"
   },
   {
    "duration": 825,
    "start_time": "2023-11-30T16:07:22.884Z"
   },
   {
    "duration": 16,
    "start_time": "2023-11-30T16:07:23.711Z"
   },
   {
    "duration": 56,
    "start_time": "2023-11-30T16:07:23.729Z"
   },
   {
    "duration": 19,
    "start_time": "2023-11-30T16:07:23.787Z"
   },
   {
    "duration": 35,
    "start_time": "2023-11-30T16:07:23.808Z"
   },
   {
    "duration": 24,
    "start_time": "2023-11-30T16:07:23.845Z"
   },
   {
    "duration": 1546,
    "start_time": "2023-11-30T16:07:23.871Z"
   },
   {
    "duration": 543,
    "start_time": "2023-11-30T16:07:25.419Z"
   },
   {
    "duration": 6,
    "start_time": "2023-11-30T16:11:47.024Z"
   },
   {
    "duration": 1359,
    "start_time": "2023-11-30T16:17:47.654Z"
   },
   {
    "duration": 42,
    "start_time": "2023-11-30T16:17:49.015Z"
   },
   {
    "duration": 11,
    "start_time": "2023-11-30T16:17:49.059Z"
   },
   {
    "duration": 38,
    "start_time": "2023-11-30T16:17:49.072Z"
   },
   {
    "duration": 11,
    "start_time": "2023-11-30T16:17:49.112Z"
   },
   {
    "duration": 27,
    "start_time": "2023-11-30T16:17:49.124Z"
   },
   {
    "duration": 11,
    "start_time": "2023-11-30T16:17:49.152Z"
   },
   {
    "duration": 19,
    "start_time": "2023-11-30T16:17:49.165Z"
   },
   {
    "duration": 18,
    "start_time": "2023-11-30T16:17:49.185Z"
   },
   {
    "duration": 355,
    "start_time": "2023-11-30T16:17:49.215Z"
   },
   {
    "duration": 153,
    "start_time": "2023-11-30T16:17:49.571Z"
   },
   {
    "duration": 503,
    "start_time": "2023-11-30T16:17:49.726Z"
   },
   {
    "duration": 801,
    "start_time": "2023-11-30T16:17:50.231Z"
   },
   {
    "duration": 626,
    "start_time": "2023-11-30T16:17:51.034Z"
   },
   {
    "duration": 17,
    "start_time": "2023-11-30T16:17:51.661Z"
   },
   {
    "duration": 19,
    "start_time": "2023-11-30T16:17:51.679Z"
   },
   {
    "duration": 24,
    "start_time": "2023-11-30T16:17:51.700Z"
   },
   {
    "duration": 774,
    "start_time": "2023-11-30T16:17:51.726Z"
   },
   {
    "duration": 805,
    "start_time": "2023-11-30T16:17:52.502Z"
   },
   {
    "duration": 15,
    "start_time": "2023-11-30T16:17:53.314Z"
   },
   {
    "duration": 36,
    "start_time": "2023-11-30T16:17:53.331Z"
   },
   {
    "duration": 7,
    "start_time": "2023-11-30T16:17:53.368Z"
   },
   {
    "duration": 19,
    "start_time": "2023-11-30T16:17:53.377Z"
   },
   {
    "duration": 36,
    "start_time": "2023-11-30T16:17:53.397Z"
   },
   {
    "duration": 1485,
    "start_time": "2023-11-30T16:17:53.435Z"
   },
   {
    "duration": 537,
    "start_time": "2023-11-30T16:17:54.921Z"
   },
   {
    "duration": 43,
    "start_time": "2023-11-30T17:18:56.614Z"
   },
   {
    "duration": 6,
    "start_time": "2023-11-30T17:19:14.299Z"
   },
   {
    "duration": 1152,
    "start_time": "2023-11-30T17:19:21.476Z"
   },
   {
    "duration": 81,
    "start_time": "2023-11-30T17:19:22.630Z"
   },
   {
    "duration": 9,
    "start_time": "2023-11-30T17:19:22.713Z"
   },
   {
    "duration": 70,
    "start_time": "2023-11-30T17:19:22.724Z"
   },
   {
    "duration": 9,
    "start_time": "2023-11-30T17:19:22.795Z"
   },
   {
    "duration": 56,
    "start_time": "2023-11-30T17:19:22.805Z"
   },
   {
    "duration": 8,
    "start_time": "2023-11-30T17:19:22.862Z"
   },
   {
    "duration": 17,
    "start_time": "2023-11-30T17:19:22.871Z"
   },
   {
    "duration": 10,
    "start_time": "2023-11-30T17:19:22.889Z"
   },
   {
    "duration": 154,
    "start_time": "2023-11-30T17:19:22.901Z"
   },
   {
    "duration": 82,
    "start_time": "2023-11-30T17:19:23.057Z"
   },
   {
    "duration": 213,
    "start_time": "2023-11-30T17:19:23.140Z"
   },
   {
    "duration": 477,
    "start_time": "2023-11-30T17:19:23.354Z"
   },
   {
    "duration": 402,
    "start_time": "2023-11-30T17:19:23.832Z"
   },
   {
    "duration": 15,
    "start_time": "2023-11-30T17:19:24.236Z"
   },
   {
    "duration": 6,
    "start_time": "2023-11-30T17:19:24.252Z"
   },
   {
    "duration": 4,
    "start_time": "2023-11-30T17:19:24.259Z"
   },
   {
    "duration": 557,
    "start_time": "2023-11-30T17:19:24.264Z"
   },
   {
    "duration": 507,
    "start_time": "2023-11-30T17:19:24.822Z"
   },
   {
    "duration": 11,
    "start_time": "2023-11-30T17:19:25.330Z"
   },
   {
    "duration": 81,
    "start_time": "2023-11-30T17:19:25.343Z"
   },
   {
    "duration": 5,
    "start_time": "2023-11-30T17:19:25.426Z"
   },
   {
    "duration": 5,
    "start_time": "2023-11-30T17:19:25.432Z"
   },
   {
    "duration": 11,
    "start_time": "2023-11-30T17:19:25.438Z"
   },
   {
    "duration": 869,
    "start_time": "2023-11-30T17:19:25.450Z"
   },
   {
    "duration": 221,
    "start_time": "2023-11-30T17:19:26.321Z"
   },
   {
    "duration": 5,
    "start_time": "2023-11-30T17:20:49.006Z"
   },
   {
    "duration": 14,
    "start_time": "2023-11-30T17:36:43.771Z"
   },
   {
    "duration": 13,
    "start_time": "2023-11-30T17:36:50.181Z"
   },
   {
    "duration": 100,
    "start_time": "2023-11-30T17:38:46.195Z"
   },
   {
    "duration": 13,
    "start_time": "2023-11-30T17:39:11.498Z"
   },
   {
    "duration": 18,
    "start_time": "2023-11-30T17:59:10.491Z"
   },
   {
    "duration": 19,
    "start_time": "2023-11-30T17:59:23.353Z"
   },
   {
    "duration": 21,
    "start_time": "2023-11-30T18:02:01.787Z"
   },
   {
    "duration": 4,
    "start_time": "2023-11-30T18:02:17.570Z"
   },
   {
    "duration": 21,
    "start_time": "2023-11-30T18:02:25.424Z"
   },
   {
    "duration": 6,
    "start_time": "2023-11-30T18:03:40.878Z"
   },
   {
    "duration": 5,
    "start_time": "2023-11-30T18:04:50.992Z"
   },
   {
    "duration": 3,
    "start_time": "2023-11-30T18:05:50.746Z"
   },
   {
    "duration": 13,
    "start_time": "2023-11-30T18:06:28.061Z"
   },
   {
    "duration": 5,
    "start_time": "2023-11-30T18:07:07.723Z"
   },
   {
    "duration": 7,
    "start_time": "2023-11-30T18:07:14.069Z"
   },
   {
    "duration": 229,
    "start_time": "2023-11-30T18:08:32.788Z"
   },
   {
    "duration": 18,
    "start_time": "2023-11-30T18:10:09.765Z"
   },
   {
    "duration": 189,
    "start_time": "2023-11-30T18:10:39.428Z"
   },
   {
    "duration": 168,
    "start_time": "2023-11-30T18:11:44.681Z"
   },
   {
    "duration": 145,
    "start_time": "2023-11-30T18:11:57.787Z"
   },
   {
    "duration": 173,
    "start_time": "2023-11-30T18:14:18.593Z"
   },
   {
    "duration": 147,
    "start_time": "2023-11-30T18:14:26.024Z"
   },
   {
    "duration": 160,
    "start_time": "2023-11-30T18:14:45.859Z"
   },
   {
    "duration": 177,
    "start_time": "2023-11-30T18:17:17.173Z"
   },
   {
    "duration": 73,
    "start_time": "2023-11-30T18:19:48.005Z"
   },
   {
    "duration": 93,
    "start_time": "2023-11-30T18:20:12.080Z"
   },
   {
    "duration": 169,
    "start_time": "2023-11-30T18:20:32.939Z"
   },
   {
    "duration": 151,
    "start_time": "2023-11-30T18:21:26.357Z"
   },
   {
    "duration": 171,
    "start_time": "2023-11-30T18:21:48.096Z"
   },
   {
    "duration": 153,
    "start_time": "2023-11-30T18:22:54.473Z"
   },
   {
    "duration": 192,
    "start_time": "2023-11-30T18:24:40.657Z"
   },
   {
    "duration": 152,
    "start_time": "2023-11-30T18:25:01.073Z"
   },
   {
    "duration": 153,
    "start_time": "2023-11-30T18:29:55.475Z"
   },
   {
    "duration": 187,
    "start_time": "2023-11-30T18:30:11.330Z"
   },
   {
    "duration": 151,
    "start_time": "2023-11-30T18:30:21.321Z"
   },
   {
    "duration": 149,
    "start_time": "2023-11-30T18:30:32.994Z"
   },
   {
    "duration": 158,
    "start_time": "2023-11-30T18:30:42.222Z"
   },
   {
    "duration": 160,
    "start_time": "2023-11-30T18:32:23.251Z"
   },
   {
    "duration": 969,
    "start_time": "2023-11-30T18:43:06.809Z"
   },
   {
    "duration": 35,
    "start_time": "2023-11-30T18:43:07.780Z"
   },
   {
    "duration": 9,
    "start_time": "2023-11-30T18:43:07.817Z"
   },
   {
    "duration": 32,
    "start_time": "2023-11-30T18:43:07.827Z"
   },
   {
    "duration": 8,
    "start_time": "2023-11-30T18:43:07.860Z"
   },
   {
    "duration": 33,
    "start_time": "2023-11-30T18:43:07.869Z"
   },
   {
    "duration": 7,
    "start_time": "2023-11-30T18:43:07.904Z"
   },
   {
    "duration": 24,
    "start_time": "2023-11-30T18:43:07.912Z"
   },
   {
    "duration": 10,
    "start_time": "2023-11-30T18:43:07.937Z"
   },
   {
    "duration": 153,
    "start_time": "2023-11-30T18:43:07.948Z"
   },
   {
    "duration": 76,
    "start_time": "2023-11-30T18:43:08.103Z"
   },
   {
    "duration": 203,
    "start_time": "2023-11-30T18:43:08.180Z"
   },
   {
    "duration": 448,
    "start_time": "2023-11-30T18:43:08.385Z"
   },
   {
    "duration": 389,
    "start_time": "2023-11-30T18:43:08.836Z"
   },
   {
    "duration": 15,
    "start_time": "2023-11-30T18:43:09.227Z"
   },
   {
    "duration": 6,
    "start_time": "2023-11-30T18:43:09.243Z"
   },
   {
    "duration": 3,
    "start_time": "2023-11-30T18:43:09.251Z"
   },
   {
    "duration": 565,
    "start_time": "2023-11-30T18:43:09.255Z"
   },
   {
    "duration": 511,
    "start_time": "2023-11-30T18:43:09.821Z"
   },
   {
    "duration": 16,
    "start_time": "2023-11-30T18:43:10.334Z"
   },
   {
    "duration": 105,
    "start_time": "2023-11-30T18:43:10.351Z"
   },
   {
    "duration": 162,
    "start_time": "2023-11-30T18:43:10.458Z"
   },
   {
    "duration": 5,
    "start_time": "2023-11-30T18:43:10.621Z"
   },
   {
    "duration": 7,
    "start_time": "2023-11-30T18:43:10.627Z"
   },
   {
    "duration": 12,
    "start_time": "2023-11-30T18:43:10.635Z"
   },
   {
    "duration": 899,
    "start_time": "2023-11-30T18:43:10.648Z"
   },
   {
    "duration": 223,
    "start_time": "2023-11-30T18:43:11.548Z"
   },
   {
    "duration": 51,
    "start_time": "2023-12-01T07:18:35.603Z"
   },
   {
    "duration": 1330,
    "start_time": "2023-12-01T07:18:41.283Z"
   },
   {
    "duration": 104,
    "start_time": "2023-12-01T07:18:42.615Z"
   },
   {
    "duration": 15,
    "start_time": "2023-12-01T07:18:42.721Z"
   },
   {
    "duration": 169,
    "start_time": "2023-12-01T07:18:42.738Z"
   },
   {
    "duration": 10,
    "start_time": "2023-12-01T07:18:42.909Z"
   },
   {
    "duration": 76,
    "start_time": "2023-12-01T07:18:42.920Z"
   },
   {
    "duration": 10,
    "start_time": "2023-12-01T07:18:42.998Z"
   },
   {
    "duration": 14,
    "start_time": "2023-12-01T07:18:43.010Z"
   },
   {
    "duration": 14,
    "start_time": "2023-12-01T07:18:43.025Z"
   },
   {
    "duration": 203,
    "start_time": "2023-12-01T07:18:43.041Z"
   },
   {
    "duration": 96,
    "start_time": "2023-12-01T07:18:43.245Z"
   },
   {
    "duration": 251,
    "start_time": "2023-12-01T07:18:43.343Z"
   },
   {
    "duration": 510,
    "start_time": "2023-12-01T07:18:43.595Z"
   },
   {
    "duration": 479,
    "start_time": "2023-12-01T07:18:44.107Z"
   },
   {
    "duration": 15,
    "start_time": "2023-12-01T07:18:44.587Z"
   },
   {
    "duration": 16,
    "start_time": "2023-12-01T07:18:44.604Z"
   },
   {
    "duration": 4,
    "start_time": "2023-12-01T07:18:44.621Z"
   },
   {
    "duration": 587,
    "start_time": "2023-12-01T07:18:44.627Z"
   },
   {
    "duration": 577,
    "start_time": "2023-12-01T07:18:45.216Z"
   },
   {
    "duration": 13,
    "start_time": "2023-12-01T07:18:45.794Z"
   },
   {
    "duration": 114,
    "start_time": "2023-12-01T07:18:45.808Z"
   },
   {
    "duration": 193,
    "start_time": "2023-12-01T07:18:45.924Z"
   },
   {
    "duration": 7,
    "start_time": "2023-12-01T07:18:46.118Z"
   },
   {
    "duration": 5,
    "start_time": "2023-12-01T07:18:46.126Z"
   },
   {
    "duration": 12,
    "start_time": "2023-12-01T07:18:46.132Z"
   },
   {
    "duration": 1142,
    "start_time": "2023-12-01T07:18:46.145Z"
   },
   {
    "duration": 254,
    "start_time": "2023-12-01T07:18:47.289Z"
   },
   {
    "duration": 558,
    "start_time": "2023-12-01T07:19:55.437Z"
   },
   {
    "duration": 469,
    "start_time": "2023-12-01T07:20:56.111Z"
   },
   {
    "duration": 507,
    "start_time": "2023-12-01T07:21:16.575Z"
   },
   {
    "duration": 29,
    "start_time": "2023-12-01T07:21:55.552Z"
   },
   {
    "duration": 1146,
    "start_time": "2023-12-01T07:26:39.241Z"
   },
   {
    "duration": 37,
    "start_time": "2023-12-01T07:26:40.389Z"
   },
   {
    "duration": 11,
    "start_time": "2023-12-01T07:26:40.428Z"
   },
   {
    "duration": 37,
    "start_time": "2023-12-01T07:26:40.440Z"
   },
   {
    "duration": 9,
    "start_time": "2023-12-01T07:26:40.479Z"
   },
   {
    "duration": 25,
    "start_time": "2023-12-01T07:26:40.490Z"
   },
   {
    "duration": 9,
    "start_time": "2023-12-01T07:26:40.516Z"
   },
   {
    "duration": 15,
    "start_time": "2023-12-01T07:26:40.527Z"
   },
   {
    "duration": 11,
    "start_time": "2023-12-01T07:26:40.543Z"
   },
   {
    "duration": 207,
    "start_time": "2023-12-01T07:26:40.556Z"
   },
   {
    "duration": 97,
    "start_time": "2023-12-01T07:26:40.765Z"
   },
   {
    "duration": 261,
    "start_time": "2023-12-01T07:26:40.863Z"
   },
   {
    "duration": 569,
    "start_time": "2023-12-01T07:26:41.125Z"
   },
   {
    "duration": 577,
    "start_time": "2023-12-01T07:26:41.695Z"
   },
   {
    "duration": 15,
    "start_time": "2023-12-01T07:26:42.273Z"
   },
   {
    "duration": 6,
    "start_time": "2023-12-01T07:26:42.290Z"
   },
   {
    "duration": 22,
    "start_time": "2023-12-01T07:26:42.297Z"
   },
   {
    "duration": 691,
    "start_time": "2023-12-01T07:26:42.321Z"
   },
   {
    "duration": 710,
    "start_time": "2023-12-01T07:26:43.014Z"
   },
   {
    "duration": 13,
    "start_time": "2023-12-01T07:26:43.726Z"
   },
   {
    "duration": 136,
    "start_time": "2023-12-01T07:26:43.741Z"
   },
   {
    "duration": 205,
    "start_time": "2023-12-01T07:26:43.879Z"
   },
   {
    "duration": 6,
    "start_time": "2023-12-01T07:26:44.086Z"
   },
   {
    "duration": 19,
    "start_time": "2023-12-01T07:26:44.093Z"
   },
   {
    "duration": 12,
    "start_time": "2023-12-01T07:26:44.114Z"
   },
   {
    "duration": 1166,
    "start_time": "2023-12-01T07:26:44.128Z"
   },
   {
    "duration": 261,
    "start_time": "2023-12-01T07:26:45.296Z"
   },
   {
    "duration": 87,
    "start_time": "2023-12-01T07:35:45.985Z"
   },
   {
    "duration": 174,
    "start_time": "2023-12-01T07:35:52.454Z"
   },
   {
    "duration": 108,
    "start_time": "2023-12-01T07:35:59.197Z"
   },
   {
    "duration": 183,
    "start_time": "2023-12-01T07:36:05.010Z"
   },
   {
    "duration": 173,
    "start_time": "2023-12-01T07:36:18.004Z"
   },
   {
    "duration": 80,
    "start_time": "2023-12-01T07:37:40.485Z"
   },
   {
    "duration": 1104,
    "start_time": "2023-12-01T09:18:28.683Z"
   },
   {
    "duration": 36,
    "start_time": "2023-12-01T09:18:29.789Z"
   },
   {
    "duration": 12,
    "start_time": "2023-12-01T09:18:29.826Z"
   },
   {
    "duration": 34,
    "start_time": "2023-12-01T09:18:29.839Z"
   },
   {
    "duration": 10,
    "start_time": "2023-12-01T09:18:29.875Z"
   },
   {
    "duration": 19,
    "start_time": "2023-12-01T09:18:29.887Z"
   },
   {
    "duration": 9,
    "start_time": "2023-12-01T09:18:29.908Z"
   },
   {
    "duration": 16,
    "start_time": "2023-12-01T09:18:29.919Z"
   },
   {
    "duration": 12,
    "start_time": "2023-12-01T09:18:29.936Z"
   },
   {
    "duration": 187,
    "start_time": "2023-12-01T09:18:29.951Z"
   },
   {
    "duration": 92,
    "start_time": "2023-12-01T09:18:30.140Z"
   },
   {
    "duration": 243,
    "start_time": "2023-12-01T09:18:30.233Z"
   },
   {
    "duration": 469,
    "start_time": "2023-12-01T09:18:30.481Z"
   },
   {
    "duration": 481,
    "start_time": "2023-12-01T09:18:30.951Z"
   },
   {
    "duration": 17,
    "start_time": "2023-12-01T09:18:31.433Z"
   },
   {
    "duration": 7,
    "start_time": "2023-12-01T09:18:31.451Z"
   },
   {
    "duration": 23,
    "start_time": "2023-12-01T09:18:31.459Z"
   },
   {
    "duration": 581,
    "start_time": "2023-12-01T09:18:31.484Z"
   },
   {
    "duration": 609,
    "start_time": "2023-12-01T09:18:32.067Z"
   },
   {
    "duration": 13,
    "start_time": "2023-12-01T09:18:32.678Z"
   },
   {
    "duration": 112,
    "start_time": "2023-12-01T09:18:32.692Z"
   },
   {
    "duration": 179,
    "start_time": "2023-12-01T09:18:32.805Z"
   },
   {
    "duration": 6,
    "start_time": "2023-12-01T09:18:32.986Z"
   },
   {
    "duration": 10,
    "start_time": "2023-12-01T09:18:32.993Z"
   },
   {
    "duration": 11,
    "start_time": "2023-12-01T09:18:33.005Z"
   },
   {
    "duration": 1103,
    "start_time": "2023-12-01T09:18:33.017Z"
   },
   {
    "duration": 240,
    "start_time": "2023-12-01T09:18:34.122Z"
   },
   {
    "duration": 42,
    "start_time": "2023-12-11T11:17:19.973Z"
   },
   {
    "duration": 7,
    "start_time": "2023-12-11T11:17:39.634Z"
   },
   {
    "duration": 85,
    "start_time": "2023-12-11T11:21:43.992Z"
   },
   {
    "duration": 82,
    "start_time": "2023-12-11T11:21:57.652Z"
   },
   {
    "duration": 78,
    "start_time": "2023-12-11T11:22:05.241Z"
   },
   {
    "duration": 6,
    "start_time": "2023-12-11T11:22:12.760Z"
   },
   {
    "duration": 7,
    "start_time": "2023-12-11T11:24:04.193Z"
   },
   {
    "duration": 1077,
    "start_time": "2023-12-12T08:57:43.104Z"
   },
   {
    "duration": 85,
    "start_time": "2023-12-12T08:57:44.182Z"
   },
   {
    "duration": 10,
    "start_time": "2023-12-12T08:57:44.268Z"
   },
   {
    "duration": 80,
    "start_time": "2023-12-12T08:57:44.280Z"
   },
   {
    "duration": 10,
    "start_time": "2023-12-12T08:57:44.361Z"
   },
   {
    "duration": 73,
    "start_time": "2023-12-12T08:57:44.372Z"
   },
   {
    "duration": 9,
    "start_time": "2023-12-12T08:57:44.446Z"
   },
   {
    "duration": 28,
    "start_time": "2023-12-12T08:57:44.457Z"
   },
   {
    "duration": 18,
    "start_time": "2023-12-12T08:57:44.487Z"
   },
   {
    "duration": 181,
    "start_time": "2023-12-12T08:57:44.507Z"
   },
   {
    "duration": 91,
    "start_time": "2023-12-12T08:57:44.690Z"
   },
   {
    "duration": 244,
    "start_time": "2023-12-12T08:57:44.783Z"
   },
   {
    "duration": 489,
    "start_time": "2023-12-12T08:57:45.029Z"
   },
   {
    "duration": 535,
    "start_time": "2023-12-12T08:57:45.520Z"
   },
   {
    "duration": 20,
    "start_time": "2023-12-12T08:57:46.057Z"
   },
   {
    "duration": 6,
    "start_time": "2023-12-12T08:57:46.079Z"
   },
   {
    "duration": 4,
    "start_time": "2023-12-12T08:57:46.087Z"
   },
   {
    "duration": 643,
    "start_time": "2023-12-12T08:57:46.092Z"
   },
   {
    "duration": 586,
    "start_time": "2023-12-12T08:57:46.736Z"
   },
   {
    "duration": 13,
    "start_time": "2023-12-12T08:57:47.323Z"
   },
   {
    "duration": 119,
    "start_time": "2023-12-12T08:57:47.338Z"
   },
   {
    "duration": 187,
    "start_time": "2023-12-12T08:57:47.459Z"
   },
   {
    "duration": 6,
    "start_time": "2023-12-12T08:57:47.647Z"
   },
   {
    "duration": 14,
    "start_time": "2023-12-12T08:57:47.654Z"
   },
   {
    "duration": 14,
    "start_time": "2023-12-12T08:57:47.669Z"
   },
   {
    "duration": 1111,
    "start_time": "2023-12-12T08:57:47.684Z"
   },
   {
    "duration": 256,
    "start_time": "2023-12-12T08:57:48.796Z"
   },
   {
    "duration": 48,
    "start_time": "2023-12-13T18:35:28.233Z"
   },
   {
    "duration": 1149,
    "start_time": "2023-12-13T18:35:34.789Z"
   },
   {
    "duration": 80,
    "start_time": "2023-12-13T18:35:35.940Z"
   },
   {
    "duration": 10,
    "start_time": "2023-12-13T18:35:36.022Z"
   },
   {
    "duration": 76,
    "start_time": "2023-12-13T18:35:36.034Z"
   },
   {
    "duration": 9,
    "start_time": "2023-12-13T18:35:36.113Z"
   },
   {
    "duration": 53,
    "start_time": "2023-12-13T18:35:36.124Z"
   },
   {
    "duration": 8,
    "start_time": "2023-12-13T18:35:36.179Z"
   },
   {
    "duration": 12,
    "start_time": "2023-12-13T18:35:36.189Z"
   },
   {
    "duration": 11,
    "start_time": "2023-12-13T18:35:36.202Z"
   },
   {
    "duration": 181,
    "start_time": "2023-12-13T18:35:36.214Z"
   },
   {
    "duration": 85,
    "start_time": "2023-12-13T18:35:36.396Z"
   },
   {
    "duration": 241,
    "start_time": "2023-12-13T18:35:36.483Z"
   },
   {
    "duration": 546,
    "start_time": "2023-12-13T18:35:36.726Z"
   },
   {
    "duration": 598,
    "start_time": "2023-12-13T18:35:37.276Z"
   },
   {
    "duration": 14,
    "start_time": "2023-12-13T18:35:37.877Z"
   },
   {
    "duration": 19,
    "start_time": "2023-12-13T18:35:37.892Z"
   },
   {
    "duration": 5,
    "start_time": "2023-12-13T18:35:37.912Z"
   },
   {
    "duration": 571,
    "start_time": "2023-12-13T18:35:37.918Z"
   },
   {
    "duration": 591,
    "start_time": "2023-12-13T18:35:38.491Z"
   },
   {
    "duration": 13,
    "start_time": "2023-12-13T18:35:39.083Z"
   },
   {
    "duration": 115,
    "start_time": "2023-12-13T18:35:39.097Z"
   },
   {
    "duration": 199,
    "start_time": "2023-12-13T18:35:39.214Z"
   },
   {
    "duration": 5,
    "start_time": "2023-12-13T18:35:39.415Z"
   },
   {
    "duration": 6,
    "start_time": "2023-12-13T18:35:39.422Z"
   },
   {
    "duration": 13,
    "start_time": "2023-12-13T18:35:39.429Z"
   }
  ],
  "kernelspec": {
   "display_name": "Python 3 (ipykernel)",
   "language": "python",
   "name": "python3"
  },
  "language_info": {
   "codemirror_mode": {
    "name": "ipython",
    "version": 3
   },
   "file_extension": ".py",
   "mimetype": "text/x-python",
   "name": "python",
   "nbconvert_exporter": "python",
   "pygments_lexer": "ipython3",
   "version": "3.12.9"
  },
  "toc": {
   "base_numbering": 1,
   "nav_menu": {},
   "number_sections": true,
   "sideBar": true,
   "skip_h1_title": true,
   "title_cell": "Table of Contents",
   "title_sidebar": "Contents",
   "toc_cell": false,
   "toc_position": {},
   "toc_section_display": true,
   "toc_window_display": true
  }
 },
 "nbformat": 4,
 "nbformat_minor": 5
}
