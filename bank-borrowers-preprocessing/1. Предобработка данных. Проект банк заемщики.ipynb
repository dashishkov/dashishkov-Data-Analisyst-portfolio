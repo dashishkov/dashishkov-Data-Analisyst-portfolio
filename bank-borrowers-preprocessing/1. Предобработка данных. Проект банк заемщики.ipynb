{
 "cells": [
  {
   "cell_type": "markdown",
   "id": "386f2ae7",
   "metadata": {
    "deletable": false,
    "editable": false,
    "id": "386f2ae7"
   },
   "source": [
    "# Исследование надежности заемщиков\n"
   ]
  },
  {
   "cell_type": "markdown",
   "id": "ffe86f65",
   "metadata": {
    "deletable": false,
    "editable": false,
    "id": "ffe86f65"
   },
   "source": [
    "Во второй части проекта вы выполните шаги 3 и 4. Их вручную проверит ревьюер.\n",
    "Чтобы вам не пришлось писать код заново для шагов 1 и 2, мы добавили авторские решения в ячейки с кодом. \n",
    "\n"
   ]
  },
  {
   "cell_type": "markdown",
   "id": "26613308",
   "metadata": {
    "deletable": false,
    "editable": false,
    "id": "26613308"
   },
   "source": [
    "## Откройте таблицу и изучите общую информацию о данных"
   ]
  },
  {
   "cell_type": "markdown",
   "id": "3c9f838e",
   "metadata": {
    "deletable": false,
    "editable": false,
    "id": "3c9f838e"
   },
   "source": [
    "**Задание 1. Импортируйте библиотеку pandas. Считайте данные из csv-файла в датафрейм и сохраните в переменную `data`. Путь к файлу:**\n",
    "\n",
    "`/datasets/data.csv`"
   ]
  },
  {
   "cell_type": "code",
   "execution_count": 1,
   "id": "77a68a90",
   "metadata": {
    "deletable": false,
    "id": "77a68a90"
   },
   "outputs": [],
   "source": [
    "import pandas as pd\n",
    "\n",
    "try:\n",
    "    data = pd.read_csv('/datasets/data.csv')\n",
    "except:\n",
    "    data = pd.read_csv('https://code.s3.yandex.net/datasets/data.csv')"
   ]
  },
  {
   "cell_type": "markdown",
   "id": "45365635",
   "metadata": {
    "deletable": false,
    "editable": false,
    "id": "45365635"
   },
   "source": [
    "**Задание 2. Выведите первые 20 строчек датафрейма `data` на экран.**"
   ]
  },
  {
   "cell_type": "code",
   "execution_count": 2,
   "id": "b0451a9a",
   "metadata": {
    "deletable": false,
    "id": "b0451a9a",
    "outputId": "1a8f3ef2-d323-4ec2-ddf7-89670b5944c4"
   },
   "outputs": [
    {
     "data": {
      "text/html": [
       "<div>\n",
       "<style scoped>\n",
       "    .dataframe tbody tr th:only-of-type {\n",
       "        vertical-align: middle;\n",
       "    }\n",
       "\n",
       "    .dataframe tbody tr th {\n",
       "        vertical-align: top;\n",
       "    }\n",
       "\n",
       "    .dataframe thead th {\n",
       "        text-align: right;\n",
       "    }\n",
       "</style>\n",
       "<table border=\"1\" class=\"dataframe\">\n",
       "  <thead>\n",
       "    <tr style=\"text-align: right;\">\n",
       "      <th></th>\n",
       "      <th>children</th>\n",
       "      <th>days_employed</th>\n",
       "      <th>dob_years</th>\n",
       "      <th>education</th>\n",
       "      <th>education_id</th>\n",
       "      <th>family_status</th>\n",
       "      <th>family_status_id</th>\n",
       "      <th>gender</th>\n",
       "      <th>income_type</th>\n",
       "      <th>debt</th>\n",
       "      <th>total_income</th>\n",
       "      <th>purpose</th>\n",
       "    </tr>\n",
       "  </thead>\n",
       "  <tbody>\n",
       "    <tr>\n",
       "      <th>0</th>\n",
       "      <td>1</td>\n",
       "      <td>-8437.673028</td>\n",
       "      <td>42</td>\n",
       "      <td>высшее</td>\n",
       "      <td>0</td>\n",
       "      <td>женат / замужем</td>\n",
       "      <td>0</td>\n",
       "      <td>F</td>\n",
       "      <td>сотрудник</td>\n",
       "      <td>0</td>\n",
       "      <td>253875.639453</td>\n",
       "      <td>покупка жилья</td>\n",
       "    </tr>\n",
       "    <tr>\n",
       "      <th>1</th>\n",
       "      <td>1</td>\n",
       "      <td>-4024.803754</td>\n",
       "      <td>36</td>\n",
       "      <td>среднее</td>\n",
       "      <td>1</td>\n",
       "      <td>женат / замужем</td>\n",
       "      <td>0</td>\n",
       "      <td>F</td>\n",
       "      <td>сотрудник</td>\n",
       "      <td>0</td>\n",
       "      <td>112080.014102</td>\n",
       "      <td>приобретение автомобиля</td>\n",
       "    </tr>\n",
       "    <tr>\n",
       "      <th>2</th>\n",
       "      <td>0</td>\n",
       "      <td>-5623.422610</td>\n",
       "      <td>33</td>\n",
       "      <td>Среднее</td>\n",
       "      <td>1</td>\n",
       "      <td>женат / замужем</td>\n",
       "      <td>0</td>\n",
       "      <td>M</td>\n",
       "      <td>сотрудник</td>\n",
       "      <td>0</td>\n",
       "      <td>145885.952297</td>\n",
       "      <td>покупка жилья</td>\n",
       "    </tr>\n",
       "    <tr>\n",
       "      <th>3</th>\n",
       "      <td>3</td>\n",
       "      <td>-4124.747207</td>\n",
       "      <td>32</td>\n",
       "      <td>среднее</td>\n",
       "      <td>1</td>\n",
       "      <td>женат / замужем</td>\n",
       "      <td>0</td>\n",
       "      <td>M</td>\n",
       "      <td>сотрудник</td>\n",
       "      <td>0</td>\n",
       "      <td>267628.550329</td>\n",
       "      <td>дополнительное образование</td>\n",
       "    </tr>\n",
       "    <tr>\n",
       "      <th>4</th>\n",
       "      <td>0</td>\n",
       "      <td>340266.072047</td>\n",
       "      <td>53</td>\n",
       "      <td>среднее</td>\n",
       "      <td>1</td>\n",
       "      <td>гражданский брак</td>\n",
       "      <td>1</td>\n",
       "      <td>F</td>\n",
       "      <td>пенсионер</td>\n",
       "      <td>0</td>\n",
       "      <td>158616.077870</td>\n",
       "      <td>сыграть свадьбу</td>\n",
       "    </tr>\n",
       "    <tr>\n",
       "      <th>5</th>\n",
       "      <td>0</td>\n",
       "      <td>-926.185831</td>\n",
       "      <td>27</td>\n",
       "      <td>высшее</td>\n",
       "      <td>0</td>\n",
       "      <td>гражданский брак</td>\n",
       "      <td>1</td>\n",
       "      <td>M</td>\n",
       "      <td>компаньон</td>\n",
       "      <td>0</td>\n",
       "      <td>255763.565419</td>\n",
       "      <td>покупка жилья</td>\n",
       "    </tr>\n",
       "    <tr>\n",
       "      <th>6</th>\n",
       "      <td>0</td>\n",
       "      <td>-2879.202052</td>\n",
       "      <td>43</td>\n",
       "      <td>высшее</td>\n",
       "      <td>0</td>\n",
       "      <td>женат / замужем</td>\n",
       "      <td>0</td>\n",
       "      <td>F</td>\n",
       "      <td>компаньон</td>\n",
       "      <td>0</td>\n",
       "      <td>240525.971920</td>\n",
       "      <td>операции с жильем</td>\n",
       "    </tr>\n",
       "    <tr>\n",
       "      <th>7</th>\n",
       "      <td>0</td>\n",
       "      <td>-152.779569</td>\n",
       "      <td>50</td>\n",
       "      <td>СРЕДНЕЕ</td>\n",
       "      <td>1</td>\n",
       "      <td>женат / замужем</td>\n",
       "      <td>0</td>\n",
       "      <td>M</td>\n",
       "      <td>сотрудник</td>\n",
       "      <td>0</td>\n",
       "      <td>135823.934197</td>\n",
       "      <td>образование</td>\n",
       "    </tr>\n",
       "    <tr>\n",
       "      <th>8</th>\n",
       "      <td>2</td>\n",
       "      <td>-6929.865299</td>\n",
       "      <td>35</td>\n",
       "      <td>ВЫСШЕЕ</td>\n",
       "      <td>0</td>\n",
       "      <td>гражданский брак</td>\n",
       "      <td>1</td>\n",
       "      <td>F</td>\n",
       "      <td>сотрудник</td>\n",
       "      <td>0</td>\n",
       "      <td>95856.832424</td>\n",
       "      <td>на проведение свадьбы</td>\n",
       "    </tr>\n",
       "    <tr>\n",
       "      <th>9</th>\n",
       "      <td>0</td>\n",
       "      <td>-2188.756445</td>\n",
       "      <td>41</td>\n",
       "      <td>среднее</td>\n",
       "      <td>1</td>\n",
       "      <td>женат / замужем</td>\n",
       "      <td>0</td>\n",
       "      <td>M</td>\n",
       "      <td>сотрудник</td>\n",
       "      <td>0</td>\n",
       "      <td>144425.938277</td>\n",
       "      <td>покупка жилья для семьи</td>\n",
       "    </tr>\n",
       "    <tr>\n",
       "      <th>10</th>\n",
       "      <td>2</td>\n",
       "      <td>-4171.483647</td>\n",
       "      <td>36</td>\n",
       "      <td>высшее</td>\n",
       "      <td>0</td>\n",
       "      <td>женат / замужем</td>\n",
       "      <td>0</td>\n",
       "      <td>M</td>\n",
       "      <td>компаньон</td>\n",
       "      <td>0</td>\n",
       "      <td>113943.491460</td>\n",
       "      <td>покупка недвижимости</td>\n",
       "    </tr>\n",
       "    <tr>\n",
       "      <th>11</th>\n",
       "      <td>0</td>\n",
       "      <td>-792.701887</td>\n",
       "      <td>40</td>\n",
       "      <td>среднее</td>\n",
       "      <td>1</td>\n",
       "      <td>женат / замужем</td>\n",
       "      <td>0</td>\n",
       "      <td>F</td>\n",
       "      <td>сотрудник</td>\n",
       "      <td>0</td>\n",
       "      <td>77069.234271</td>\n",
       "      <td>покупка коммерческой недвижимости</td>\n",
       "    </tr>\n",
       "    <tr>\n",
       "      <th>12</th>\n",
       "      <td>0</td>\n",
       "      <td>NaN</td>\n",
       "      <td>65</td>\n",
       "      <td>среднее</td>\n",
       "      <td>1</td>\n",
       "      <td>гражданский брак</td>\n",
       "      <td>1</td>\n",
       "      <td>M</td>\n",
       "      <td>пенсионер</td>\n",
       "      <td>0</td>\n",
       "      <td>NaN</td>\n",
       "      <td>сыграть свадьбу</td>\n",
       "    </tr>\n",
       "    <tr>\n",
       "      <th>13</th>\n",
       "      <td>0</td>\n",
       "      <td>-1846.641941</td>\n",
       "      <td>54</td>\n",
       "      <td>неоконченное высшее</td>\n",
       "      <td>2</td>\n",
       "      <td>женат / замужем</td>\n",
       "      <td>0</td>\n",
       "      <td>F</td>\n",
       "      <td>сотрудник</td>\n",
       "      <td>0</td>\n",
       "      <td>130458.228857</td>\n",
       "      <td>приобретение автомобиля</td>\n",
       "    </tr>\n",
       "    <tr>\n",
       "      <th>14</th>\n",
       "      <td>0</td>\n",
       "      <td>-1844.956182</td>\n",
       "      <td>56</td>\n",
       "      <td>высшее</td>\n",
       "      <td>0</td>\n",
       "      <td>гражданский брак</td>\n",
       "      <td>1</td>\n",
       "      <td>F</td>\n",
       "      <td>компаньон</td>\n",
       "      <td>1</td>\n",
       "      <td>165127.911772</td>\n",
       "      <td>покупка жилой недвижимости</td>\n",
       "    </tr>\n",
       "    <tr>\n",
       "      <th>15</th>\n",
       "      <td>1</td>\n",
       "      <td>-972.364419</td>\n",
       "      <td>26</td>\n",
       "      <td>среднее</td>\n",
       "      <td>1</td>\n",
       "      <td>женат / замужем</td>\n",
       "      <td>0</td>\n",
       "      <td>F</td>\n",
       "      <td>сотрудник</td>\n",
       "      <td>0</td>\n",
       "      <td>116820.904450</td>\n",
       "      <td>строительство собственной недвижимости</td>\n",
       "    </tr>\n",
       "    <tr>\n",
       "      <th>16</th>\n",
       "      <td>0</td>\n",
       "      <td>-1719.934226</td>\n",
       "      <td>35</td>\n",
       "      <td>среднее</td>\n",
       "      <td>1</td>\n",
       "      <td>женат / замужем</td>\n",
       "      <td>0</td>\n",
       "      <td>F</td>\n",
       "      <td>сотрудник</td>\n",
       "      <td>0</td>\n",
       "      <td>289202.704229</td>\n",
       "      <td>недвижимость</td>\n",
       "    </tr>\n",
       "    <tr>\n",
       "      <th>17</th>\n",
       "      <td>0</td>\n",
       "      <td>-2369.999720</td>\n",
       "      <td>33</td>\n",
       "      <td>высшее</td>\n",
       "      <td>0</td>\n",
       "      <td>гражданский брак</td>\n",
       "      <td>1</td>\n",
       "      <td>M</td>\n",
       "      <td>сотрудник</td>\n",
       "      <td>0</td>\n",
       "      <td>90410.586745</td>\n",
       "      <td>строительство недвижимости</td>\n",
       "    </tr>\n",
       "    <tr>\n",
       "      <th>18</th>\n",
       "      <td>0</td>\n",
       "      <td>400281.136913</td>\n",
       "      <td>53</td>\n",
       "      <td>среднее</td>\n",
       "      <td>1</td>\n",
       "      <td>вдовец / вдова</td>\n",
       "      <td>2</td>\n",
       "      <td>F</td>\n",
       "      <td>пенсионер</td>\n",
       "      <td>0</td>\n",
       "      <td>56823.777243</td>\n",
       "      <td>на покупку подержанного автомобиля</td>\n",
       "    </tr>\n",
       "    <tr>\n",
       "      <th>19</th>\n",
       "      <td>0</td>\n",
       "      <td>-10038.818549</td>\n",
       "      <td>48</td>\n",
       "      <td>СРЕДНЕЕ</td>\n",
       "      <td>1</td>\n",
       "      <td>в разводе</td>\n",
       "      <td>3</td>\n",
       "      <td>F</td>\n",
       "      <td>сотрудник</td>\n",
       "      <td>0</td>\n",
       "      <td>242831.107982</td>\n",
       "      <td>на покупку своего автомобиля</td>\n",
       "    </tr>\n",
       "  </tbody>\n",
       "</table>\n",
       "</div>"
      ],
      "text/plain": [
       "    children  days_employed  dob_years            education  education_id  \\\n",
       "0          1   -8437.673028         42               высшее             0   \n",
       "1          1   -4024.803754         36              среднее             1   \n",
       "2          0   -5623.422610         33              Среднее             1   \n",
       "3          3   -4124.747207         32              среднее             1   \n",
       "4          0  340266.072047         53              среднее             1   \n",
       "5          0    -926.185831         27               высшее             0   \n",
       "6          0   -2879.202052         43               высшее             0   \n",
       "7          0    -152.779569         50              СРЕДНЕЕ             1   \n",
       "8          2   -6929.865299         35               ВЫСШЕЕ             0   \n",
       "9          0   -2188.756445         41              среднее             1   \n",
       "10         2   -4171.483647         36               высшее             0   \n",
       "11         0    -792.701887         40              среднее             1   \n",
       "12         0            NaN         65              среднее             1   \n",
       "13         0   -1846.641941         54  неоконченное высшее             2   \n",
       "14         0   -1844.956182         56               высшее             0   \n",
       "15         1    -972.364419         26              среднее             1   \n",
       "16         0   -1719.934226         35              среднее             1   \n",
       "17         0   -2369.999720         33               высшее             0   \n",
       "18         0  400281.136913         53              среднее             1   \n",
       "19         0  -10038.818549         48              СРЕДНЕЕ             1   \n",
       "\n",
       "       family_status  family_status_id gender income_type  debt  \\\n",
       "0    женат / замужем                 0      F   сотрудник     0   \n",
       "1    женат / замужем                 0      F   сотрудник     0   \n",
       "2    женат / замужем                 0      M   сотрудник     0   \n",
       "3    женат / замужем                 0      M   сотрудник     0   \n",
       "4   гражданский брак                 1      F   пенсионер     0   \n",
       "5   гражданский брак                 1      M   компаньон     0   \n",
       "6    женат / замужем                 0      F   компаньон     0   \n",
       "7    женат / замужем                 0      M   сотрудник     0   \n",
       "8   гражданский брак                 1      F   сотрудник     0   \n",
       "9    женат / замужем                 0      M   сотрудник     0   \n",
       "10   женат / замужем                 0      M   компаньон     0   \n",
       "11   женат / замужем                 0      F   сотрудник     0   \n",
       "12  гражданский брак                 1      M   пенсионер     0   \n",
       "13   женат / замужем                 0      F   сотрудник     0   \n",
       "14  гражданский брак                 1      F   компаньон     1   \n",
       "15   женат / замужем                 0      F   сотрудник     0   \n",
       "16   женат / замужем                 0      F   сотрудник     0   \n",
       "17  гражданский брак                 1      M   сотрудник     0   \n",
       "18    вдовец / вдова                 2      F   пенсионер     0   \n",
       "19         в разводе                 3      F   сотрудник     0   \n",
       "\n",
       "     total_income                                 purpose  \n",
       "0   253875.639453                           покупка жилья  \n",
       "1   112080.014102                 приобретение автомобиля  \n",
       "2   145885.952297                           покупка жилья  \n",
       "3   267628.550329              дополнительное образование  \n",
       "4   158616.077870                         сыграть свадьбу  \n",
       "5   255763.565419                           покупка жилья  \n",
       "6   240525.971920                       операции с жильем  \n",
       "7   135823.934197                             образование  \n",
       "8    95856.832424                   на проведение свадьбы  \n",
       "9   144425.938277                 покупка жилья для семьи  \n",
       "10  113943.491460                    покупка недвижимости  \n",
       "11   77069.234271       покупка коммерческой недвижимости  \n",
       "12            NaN                         сыграть свадьбу  \n",
       "13  130458.228857                 приобретение автомобиля  \n",
       "14  165127.911772              покупка жилой недвижимости  \n",
       "15  116820.904450  строительство собственной недвижимости  \n",
       "16  289202.704229                            недвижимость  \n",
       "17   90410.586745              строительство недвижимости  \n",
       "18   56823.777243      на покупку подержанного автомобиля  \n",
       "19  242831.107982            на покупку своего автомобиля  "
      ]
     },
     "execution_count": 2,
     "metadata": {},
     "output_type": "execute_result"
    }
   ],
   "source": [
    "data.head(20)"
   ]
  },
  {
   "cell_type": "markdown",
   "id": "0ed8f27f",
   "metadata": {
    "deletable": false,
    "editable": false,
    "id": "0ed8f27f"
   },
   "source": [
    "**Задание 3. Выведите основную информацию о датафрейме с помощью метода `info()`.**"
   ]
  },
  {
   "cell_type": "code",
   "execution_count": 3,
   "id": "ab3f863b",
   "metadata": {
    "deletable": false,
    "id": "ab3f863b",
    "outputId": "15376089-8dad-46c9-b520-c05248d43158"
   },
   "outputs": [
    {
     "name": "stdout",
     "output_type": "stream",
     "text": [
      "<class 'pandas.core.frame.DataFrame'>\n",
      "RangeIndex: 21525 entries, 0 to 21524\n",
      "Data columns (total 12 columns):\n",
      " #   Column            Non-Null Count  Dtype  \n",
      "---  ------            --------------  -----  \n",
      " 0   children          21525 non-null  int64  \n",
      " 1   days_employed     19351 non-null  float64\n",
      " 2   dob_years         21525 non-null  int64  \n",
      " 3   education         21525 non-null  object \n",
      " 4   education_id      21525 non-null  int64  \n",
      " 5   family_status     21525 non-null  object \n",
      " 6   family_status_id  21525 non-null  int64  \n",
      " 7   gender            21525 non-null  object \n",
      " 8   income_type       21525 non-null  object \n",
      " 9   debt              21525 non-null  int64  \n",
      " 10  total_income      19351 non-null  float64\n",
      " 11  purpose           21525 non-null  object \n",
      "dtypes: float64(2), int64(5), object(5)\n",
      "memory usage: 2.0+ MB\n"
     ]
    }
   ],
   "source": [
    "data.info()"
   ]
  },
  {
   "cell_type": "markdown",
   "id": "60e3e22d",
   "metadata": {
    "deletable": false,
    "editable": false,
    "id": "60e3e22d"
   },
   "source": [
    "## Предобработка данных"
   ]
  },
  {
   "cell_type": "markdown",
   "id": "03dc170c",
   "metadata": {
    "deletable": false,
    "editable": false,
    "id": "03dc170c"
   },
   "source": [
    "### Удаление пропусков"
   ]
  },
  {
   "cell_type": "markdown",
   "id": "a4f54eef",
   "metadata": {
    "deletable": false,
    "editable": false,
    "id": "a4f54eef"
   },
   "source": [
    "**Задание 4. Выведите количество пропущенных значений для каждого столбца. Используйте комбинацию двух методов.**"
   ]
  },
  {
   "cell_type": "code",
   "execution_count": 4,
   "id": "2dc372b2",
   "metadata": {
    "deletable": false,
    "id": "2dc372b2",
    "outputId": "81f4d817-781c-465c-ed15-91ce4446810d"
   },
   "outputs": [
    {
     "data": {
      "text/plain": [
       "children               0\n",
       "days_employed       2174\n",
       "dob_years              0\n",
       "education              0\n",
       "education_id           0\n",
       "family_status          0\n",
       "family_status_id       0\n",
       "gender                 0\n",
       "income_type            0\n",
       "debt                   0\n",
       "total_income        2174\n",
       "purpose                0\n",
       "dtype: int64"
      ]
     },
     "execution_count": 4,
     "metadata": {},
     "output_type": "execute_result"
    }
   ],
   "source": [
    "data.isna().sum()"
   ]
  },
  {
   "cell_type": "markdown",
   "id": "14f011b1",
   "metadata": {
    "deletable": false,
    "editable": false,
    "id": "14f011b1"
   },
   "source": [
    "**Задание 5. В двух столбцах есть пропущенные значения. Один из них — `days_employed`. Пропуски в этом столбце вы обработаете на следующем этапе. Другой столбец с пропущенными значениями — `total_income` — хранит данные о доходах. На сумму дохода сильнее всего влияет тип занятости, поэтому заполнить пропуски в этом столбце нужно медианным значением по каждому типу из столбца `income_type`. Например, у человека с типом занятости `сотрудник` пропуск в столбце `total_income` должен быть заполнен медианным доходом среди всех записей с тем же типом.**"
   ]
  },
  {
   "cell_type": "code",
   "execution_count": 5,
   "id": "bdabfb6e",
   "metadata": {
    "deletable": false,
    "id": "bdabfb6e"
   },
   "outputs": [],
   "source": [
    "for t in data['income_type'].unique():\n",
    "    data.loc[(data['income_type'] == t) & (data['total_income'].isna()), 'total_income'] = \\\n",
    "    data.loc[(data['income_type'] == t), 'total_income'].median()"
   ]
  },
  {
   "cell_type": "markdown",
   "id": "5be34059",
   "metadata": {
    "deletable": false,
    "editable": false,
    "id": "5be34059"
   },
   "source": [
    "### Обработка аномальных значений"
   ]
  },
  {
   "cell_type": "markdown",
   "id": "a87606cb",
   "metadata": {
    "deletable": false,
    "editable": false,
    "id": "a87606cb"
   },
   "source": [
    "**Задание 6. В данных могут встречаться артефакты (аномалии) — значения, которые не отражают действительность и появились по какой-то ошибке. таким артефактом будет отрицательное количество дней трудового стажа в столбце `days_employed`. Для реальных данных это нормально. Обработайте значения в этом столбце: замените все отрицательные значения положительными с помощью метода `abs()`.**"
   ]
  },
  {
   "cell_type": "code",
   "execution_count": 6,
   "id": "020c46cc",
   "metadata": {
    "deletable": false,
    "id": "020c46cc"
   },
   "outputs": [],
   "source": [
    "data['days_employed'] = data['days_employed'].abs()"
   ]
  },
  {
   "cell_type": "markdown",
   "id": "45538a3a",
   "metadata": {
    "deletable": false,
    "editable": false,
    "id": "45538a3a"
   },
   "source": [
    "**Задание 7. Для каждого типа занятости выведите медианное значение трудового стажа `days_employed` в днях.**"
   ]
  },
  {
   "cell_type": "code",
   "execution_count": 7,
   "id": "cd3e6328",
   "metadata": {
    "deletable": false,
    "id": "cd3e6328",
    "outputId": "801ef80e-522b-4668-f34e-565af7432bcf"
   },
   "outputs": [
    {
     "data": {
      "text/plain": [
       "income_type\n",
       "безработный        366413.652744\n",
       "в декрете            3296.759962\n",
       "госслужащий          2689.368353\n",
       "компаньон            1547.382223\n",
       "пенсионер          365213.306266\n",
       "предприниматель       520.848083\n",
       "сотрудник            1574.202821\n",
       "студент               578.751554\n",
       "Name: days_employed, dtype: float64"
      ]
     },
     "execution_count": 7,
     "metadata": {},
     "output_type": "execute_result"
    }
   ],
   "source": [
    "data.groupby('income_type')['days_employed'].agg('median')"
   ]
  },
  {
   "cell_type": "markdown",
   "id": "90c5f058",
   "metadata": {
    "deletable": false,
    "editable": false,
    "id": "90c5f058"
   },
   "source": [
    "У двух типов (безработные и пенсионеры) получатся аномально большие значения. Исправить такие значения сложно, поэтому оставьте их как есть."
   ]
  },
  {
   "cell_type": "markdown",
   "id": "9652e50d",
   "metadata": {
    "deletable": false,
    "editable": false,
    "id": "9652e50d"
   },
   "source": [
    "**Задание 8. Выведите перечень уникальных значений столбца `children`.**"
   ]
  },
  {
   "cell_type": "code",
   "execution_count": 8,
   "id": "dbb37b8e",
   "metadata": {
    "deletable": false,
    "id": "dbb37b8e",
    "outputId": "6975b15c-7f95-4697-d16d-a0c79b657b03"
   },
   "outputs": [
    {
     "data": {
      "text/plain": [
       "array([ 1,  0,  3,  2, -1,  4, 20,  5])"
      ]
     },
     "execution_count": 8,
     "metadata": {},
     "output_type": "execute_result"
    }
   ],
   "source": [
    "data['children'].unique()"
   ]
  },
  {
   "cell_type": "markdown",
   "id": "2b8b0715",
   "metadata": {
    "deletable": false,
    "editable": false,
    "id": "2b8b0715"
   },
   "source": [
    "**Задание 9. В столбце `children` есть два аномальных значения. Удалите строки, в которых встречаются такие аномальные значения из датафрейма `data`.**"
   ]
  },
  {
   "cell_type": "code",
   "execution_count": 9,
   "id": "20009df8",
   "metadata": {
    "deletable": false,
    "id": "20009df8"
   },
   "outputs": [],
   "source": [
    "data = data[(data['children'] != -1) & (data['children'] != 20)]"
   ]
  },
  {
   "cell_type": "markdown",
   "id": "8c6ac9f1",
   "metadata": {
    "deletable": false,
    "editable": false,
    "id": "8c6ac9f1"
   },
   "source": [
    "**Задание 10. Ещё раз выведите перечень уникальных значений столбца `children`, чтобы убедиться, что артефакты удалены.**"
   ]
  },
  {
   "cell_type": "code",
   "execution_count": 10,
   "id": "07337b81",
   "metadata": {
    "deletable": false,
    "id": "07337b81",
    "outputId": "b2097101-d49d-44d9-901b-32a65c9463d1"
   },
   "outputs": [
    {
     "data": {
      "text/plain": [
       "array([1, 0, 3, 2, 4, 5])"
      ]
     },
     "execution_count": 10,
     "metadata": {},
     "output_type": "execute_result"
    }
   ],
   "source": [
    "data['children'].unique()"
   ]
  },
  {
   "cell_type": "markdown",
   "id": "ee3f52d4",
   "metadata": {
    "deletable": false,
    "editable": false,
    "id": "ee3f52d4"
   },
   "source": [
    "### Удаление пропусков (продолжение)"
   ]
  },
  {
   "cell_type": "markdown",
   "id": "a700b0e4",
   "metadata": {
    "deletable": false,
    "editable": false,
    "id": "a700b0e4"
   },
   "source": [
    "**Задание 11. Заполните пропуски в столбце `days_employed` медианными значениями по каждого типа занятости `income_type`.**"
   ]
  },
  {
   "cell_type": "code",
   "execution_count": 11,
   "id": "61946b83",
   "metadata": {
    "deletable": false,
    "id": "61946b83"
   },
   "outputs": [],
   "source": [
    "for t in data['income_type'].unique():\n",
    "    data.loc[(data['income_type'] == t) & (data['days_employed'].isna()), 'days_employed'] = \\\n",
    "    data.loc[(data['income_type'] == t), 'days_employed'].median()"
   ]
  },
  {
   "cell_type": "markdown",
   "id": "550dcd9b",
   "metadata": {
    "deletable": false,
    "editable": false,
    "id": "550dcd9b"
   },
   "source": [
    "**Задание 12. Убедитесь, что все пропуски заполнены. Проверьте себя и ещё раз выведите количество пропущенных значений для каждого столбца с помощью двух методов.**"
   ]
  },
  {
   "cell_type": "code",
   "execution_count": 12,
   "id": "937c7014",
   "metadata": {
    "deletable": false,
    "id": "937c7014",
    "outputId": "8da1e4e1-358e-4e87-98c9-f261bce0a7b2"
   },
   "outputs": [
    {
     "data": {
      "text/plain": [
       "children            0\n",
       "days_employed       0\n",
       "dob_years           0\n",
       "education           0\n",
       "education_id        0\n",
       "family_status       0\n",
       "family_status_id    0\n",
       "gender              0\n",
       "income_type         0\n",
       "debt                0\n",
       "total_income        0\n",
       "purpose             0\n",
       "dtype: int64"
      ]
     },
     "execution_count": 12,
     "metadata": {},
     "output_type": "execute_result"
    }
   ],
   "source": [
    "data.isna().sum()"
   ]
  },
  {
   "cell_type": "markdown",
   "id": "d522e295",
   "metadata": {
    "deletable": false,
    "editable": false,
    "id": "d522e295"
   },
   "source": [
    "### Изменение типов данных"
   ]
  },
  {
   "cell_type": "markdown",
   "id": "c229c581",
   "metadata": {
    "deletable": false,
    "editable": false,
    "id": "c229c581"
   },
   "source": [
    "**Задание 13. Замените вещественный тип данных в столбце `total_income` на целочисленный с помощью метода `astype()`.**"
   ]
  },
  {
   "cell_type": "code",
   "execution_count": 13,
   "id": "31036462",
   "metadata": {
    "deletable": false,
    "id": "31036462"
   },
   "outputs": [],
   "source": [
    "data['total_income'] = data['total_income'].astype(int)"
   ]
  },
  {
   "cell_type": "markdown",
   "id": "b8e3d1d9",
   "metadata": {
    "deletable": false,
    "editable": false,
    "id": "b8e3d1d9"
   },
   "source": [
    "### Обработка дубликатов"
   ]
  },
  {
   "cell_type": "markdown",
   "id": "9be53c49",
   "metadata": {
    "deletable": false,
    "editable": false,
    "id": "9be53c49"
   },
   "source": [
    "**Задание 14. Обработайте неявные дубликаты в столбце `education`. В этом столбце есть одни и те же значения, но записанные по-разному: с использованием заглавных и строчных букв. Приведите их к нижнему регистру.**"
   ]
  },
  {
   "cell_type": "code",
   "execution_count": 14,
   "id": "d89e73e1",
   "metadata": {
    "deletable": false,
    "id": "d89e73e1"
   },
   "outputs": [],
   "source": [
    "data['education'] = data['education'].str.lower()"
   ]
  },
  {
   "cell_type": "markdown",
   "id": "01d4500e",
   "metadata": {
    "deletable": false,
    "editable": false,
    "id": "01d4500e"
   },
   "source": [
    "**Задание 15. Выведите на экран количество строк-дубликатов в данных. Если такие строки присутствуют, удалите их.**"
   ]
  },
  {
   "cell_type": "code",
   "execution_count": 15,
   "id": "e10efb23",
   "metadata": {
    "deletable": false,
    "id": "e10efb23",
    "outputId": "9684deba-1934-42d1-99e1-cda61740f822"
   },
   "outputs": [
    {
     "data": {
      "text/plain": [
       "71"
      ]
     },
     "execution_count": 15,
     "metadata": {},
     "output_type": "execute_result"
    }
   ],
   "source": [
    "data.duplicated().sum()"
   ]
  },
  {
   "cell_type": "code",
   "execution_count": 16,
   "id": "df853f20",
   "metadata": {
    "deletable": false,
    "id": "df853f20"
   },
   "outputs": [],
   "source": [
    "data = data.drop_duplicates()"
   ]
  },
  {
   "cell_type": "markdown",
   "id": "627be38f",
   "metadata": {
    "deletable": false,
    "editable": false,
    "id": "627be38f"
   },
   "source": [
    "### Категоризация данных"
   ]
  },
  {
   "cell_type": "markdown",
   "id": "4684c3e0",
   "metadata": {
    "deletable": false,
    "editable": false,
    "id": "4684c3e0"
   },
   "source": [
    "**Задание 16. На основании диапазонов, указанных ниже, создайте в датафрейме `data` столбец `total_income_category` с категориями:**\n",
    "\n",
    "- 0–30000 — `'E'`;\n",
    "- 30001–50000 — `'D'`;\n",
    "- 50001–200000 — `'C'`;\n",
    "- 200001–1000000 — `'B'`;\n",
    "- 1000001 и выше — `'A'`.\n",
    "\n",
    "\n",
    "**Например, кредитополучателю с доходом 25000 нужно назначить категорию `'E'`, а клиенту, получающему 235000, — `'B'`. Используйте собственную функцию с именем `categorize_income()` и метод `apply()`.**"
   ]
  },
  {
   "cell_type": "code",
   "execution_count": 17,
   "id": "78965238",
   "metadata": {
    "deletable": false,
    "id": "78965238"
   },
   "outputs": [],
   "source": [
    "def categorize_income(income):\n",
    "    try:\n",
    "        if 0 <= income <= 30000:\n",
    "            return \"0–30000 — 'E'\"\n",
    "        elif 30001 <= income <= 50000:\n",
    "            return \"30001–50000 — 'D'\"\n",
    "        elif 50001 <= income <= 200000:\n",
    "            return \"50001–200000 — 'C'\"\n",
    "        elif 200001 <= income <= 1000000:\n",
    "            return \"200001–1000000 — 'B'\"\n",
    "        elif income >= 1000001:\n",
    "            return \"1000001 и выше — 'A'\"\n",
    "    except:\n",
    "        pass"
   ]
  },
  {
   "cell_type": "code",
   "execution_count": 18,
   "id": "0980ada1",
   "metadata": {
    "deletable": false,
    "id": "0980ada1"
   },
   "outputs": [],
   "source": [
    "data['total_income_category'] = data['total_income'].apply(categorize_income)"
   ]
  },
  {
   "cell_type": "markdown",
   "id": "9917bba0",
   "metadata": {
    "deletable": false,
    "editable": false,
    "id": "9917bba0"
   },
   "source": [
    "**Задание 17. Выведите на экран перечень уникальных целей взятия кредита из столбца `purpose`.**"
   ]
  },
  {
   "cell_type": "code",
   "execution_count": 19,
   "id": "ee07b65e",
   "metadata": {
    "deletable": false,
    "id": "ee07b65e",
    "outputId": "673c12d9-7d7e-4ae0-9812-c622c89dd244"
   },
   "outputs": [
    {
     "data": {
      "text/plain": [
       "array(['покупка жилья', 'приобретение автомобиля',\n",
       "       'дополнительное образование', 'сыграть свадьбу',\n",
       "       'операции с жильем', 'образование', 'на проведение свадьбы',\n",
       "       'покупка жилья для семьи', 'покупка недвижимости',\n",
       "       'покупка коммерческой недвижимости', 'покупка жилой недвижимости',\n",
       "       'строительство собственной недвижимости', 'недвижимость',\n",
       "       'строительство недвижимости', 'на покупку подержанного автомобиля',\n",
       "       'на покупку своего автомобиля',\n",
       "       'операции с коммерческой недвижимостью',\n",
       "       'строительство жилой недвижимости', 'жилье',\n",
       "       'операции со своей недвижимостью', 'автомобили',\n",
       "       'заняться образованием', 'сделка с подержанным автомобилем',\n",
       "       'получение образования', 'автомобиль', 'свадьба',\n",
       "       'получение дополнительного образования', 'покупка своего жилья',\n",
       "       'операции с недвижимостью', 'получение высшего образования',\n",
       "       'свой автомобиль', 'сделка с автомобилем',\n",
       "       'профильное образование', 'высшее образование',\n",
       "       'покупка жилья для сдачи', 'на покупку автомобиля', 'ремонт жилью',\n",
       "       'заняться высшим образованием'], dtype=object)"
      ]
     },
     "execution_count": 19,
     "metadata": {},
     "output_type": "execute_result"
    }
   ],
   "source": [
    "data['purpose'].unique()"
   ]
  },
  {
   "cell_type": "markdown",
   "id": "52b79d56",
   "metadata": {
    "deletable": false,
    "editable": false,
    "id": "52b79d56"
   },
   "source": [
    "**Задание 18. Создайте функцию, которая на основании данных из столбца `purpose` сформирует новый столбец `purpose_category`, в который войдут следующие категории:**\n",
    "\n",
    "- `'операции с автомобилем'`,\n",
    "- `'операции с недвижимостью'`,\n",
    "- `'проведение свадьбы'`,\n",
    "- `'получение образования'`.\n",
    "\n",
    "**Например, если в столбце `purpose` находится подстрока `'на покупку автомобиля'`, то в столбце `purpose_category` должна появиться строка `'операции с автомобилем'`.**\n",
    "\n",
    "**Используйте собственную функцию с именем `categorize_purpose()` и метод `apply()`. Изучите данные в столбце `purpose` и определите, какие подстроки помогут вам правильно определить категорию.**"
   ]
  },
  {
   "cell_type": "code",
   "execution_count": 20,
   "id": "be41da5d",
   "metadata": {
    "deletable": false,
    "id": "be41da5d"
   },
   "outputs": [],
   "source": [
    "def categorize_purpose(row):\n",
    "    try:\n",
    "        if 'автом' in row:\n",
    "            return 'операции с автомобилем'\n",
    "        elif 'жил' in row or 'недвиж' in row:\n",
    "            return 'операции с недвижимостью'\n",
    "        elif 'свад' in row:\n",
    "            return 'проведение свадьбы'\n",
    "        elif 'образов' in row:\n",
    "            return 'получение образования'\n",
    "    except:\n",
    "        return 'нет категории'"
   ]
  },
  {
   "cell_type": "code",
   "execution_count": 21,
   "id": "94c4a19a",
   "metadata": {
    "deletable": false,
    "id": "94c4a19a"
   },
   "outputs": [],
   "source": [
    "data['purpose_category'] = data['purpose'].apply(categorize_purpose)"
   ]
  },
  {
   "cell_type": "markdown",
   "id": "3d596c34",
   "metadata": {
    "deletable": false,
    "editable": false,
    "id": "3d596c34"
   },
   "source": [
    "### Шаг 3. Исследуйте данные и ответьте на вопросы"
   ]
  },
  {
   "cell_type": "markdown",
   "id": "648db036",
   "metadata": {
    "deletable": false,
    "editable": false,
    "id": "648db036"
   },
   "source": [
    "#### 3.1 Есть ли зависимость между количеством детей и возвратом кредита в срок?"
   ]
  },
  {
   "cell_type": "code",
   "execution_count": 22,
   "id": "7fcff25e",
   "metadata": {
    "deletable": false,
    "id": "7fcff25e"
   },
   "outputs": [
    {
     "data": {
      "text/html": [
       "<div>\n",
       "<style scoped>\n",
       "    .dataframe tbody tr th:only-of-type {\n",
       "        vertical-align: middle;\n",
       "    }\n",
       "\n",
       "    .dataframe tbody tr th {\n",
       "        vertical-align: top;\n",
       "    }\n",
       "\n",
       "    .dataframe thead th {\n",
       "        text-align: right;\n",
       "    }\n",
       "</style>\n",
       "<table border=\"1\" class=\"dataframe\">\n",
       "  <thead>\n",
       "    <tr style=\"text-align: right;\">\n",
       "      <th></th>\n",
       "      <th>Total_quantity</th>\n",
       "      <th>Debitors</th>\n",
       "      <th>Exp_debt_persent</th>\n",
       "      <th>Persent_increase</th>\n",
       "    </tr>\n",
       "    <tr>\n",
       "      <th>child_category</th>\n",
       "      <th></th>\n",
       "      <th></th>\n",
       "      <th></th>\n",
       "      <th></th>\n",
       "    </tr>\n",
       "  </thead>\n",
       "  <tbody>\n",
       "    <tr>\n",
       "      <th>Нет детей</th>\n",
       "      <td>14091</td>\n",
       "      <td>1063</td>\n",
       "      <td>7.54</td>\n",
       "      <td>0.000000</td>\n",
       "    </tr>\n",
       "    <tr>\n",
       "      <th>3 и более детей</th>\n",
       "      <td>380</td>\n",
       "      <td>31</td>\n",
       "      <td>8.16</td>\n",
       "      <td>8.222812</td>\n",
       "    </tr>\n",
       "    <tr>\n",
       "      <th>1 ребенок</th>\n",
       "      <td>4808</td>\n",
       "      <td>444</td>\n",
       "      <td>9.23</td>\n",
       "      <td>22.413793</td>\n",
       "    </tr>\n",
       "    <tr>\n",
       "      <th>2 ребенка</th>\n",
       "      <td>2052</td>\n",
       "      <td>194</td>\n",
       "      <td>9.45</td>\n",
       "      <td>25.331565</td>\n",
       "    </tr>\n",
       "  </tbody>\n",
       "</table>\n",
       "</div>"
      ],
      "text/plain": [
       "                 Total_quantity  Debitors  Exp_debt_persent  Persent_increase\n",
       "child_category                                                               \n",
       "Нет детей                 14091      1063              7.54          0.000000\n",
       "3 и более детей             380        31              8.16          8.222812\n",
       "1 ребенок                  4808       444              9.23         22.413793\n",
       "2 ребенка                  2052       194              9.45         25.331565"
      ]
     },
     "execution_count": 22,
     "metadata": {},
     "output_type": "execute_result"
    }
   ],
   "source": [
    "def count_children(num): #Добавляю категорию детности, объединяю 5,4 и 3 ребенка в одну группу. Из-за того что у людей с 5 детьми была нулевая просроченность(ZeroDivisionError) и малое количество наблюдений (9)\n",
    "    try:  \n",
    "        if num == 0:\n",
    "            return 'Нет детей'\n",
    "        elif num == 1:\n",
    "            return '1 ребенок'\n",
    "        elif num == 2:\n",
    "            return '2 ребенка'\n",
    "        elif num >= 3:\n",
    "            return '3 и более детей'\n",
    "    except:\n",
    "        return 'Количество детей введено некорректно'\n",
    "    \n",
    "data['child_category'] = data['children'].apply(count_children)\n",
    "\n",
    "children_debt = data.pivot_table(index = ['child_category'], values = 'debt', aggfunc=['count','sum'])\n",
    "children_debt.columns = ['Total_quantity', 'Debitors']\n",
    "children_debt['Exp_debt_persent'] = round(children_debt['Debitors']/children_debt['Total_quantity']*100, 2)\n",
    "min_persent = children_debt['Exp_debt_persent'].min()\n",
    "children_debt['Persent_increase'] = ((children_debt['Exp_debt_persent'] - min_persent) / min_persent) * 100\n",
    "children_debt.sort_values(by='Exp_debt_persent', ascending = 'False', inplace=True)\n",
    "children_debt"
   ]
  },
  {
   "cell_type": "code",
   "execution_count": 29,
   "id": "1d5927b7",
   "metadata": {},
   "outputs": [
    {
     "data": {
      "text/html": [
       "<div>\n",
       "<style scoped>\n",
       "    .dataframe tbody tr th:only-of-type {\n",
       "        vertical-align: middle;\n",
       "    }\n",
       "\n",
       "    .dataframe tbody tr th {\n",
       "        vertical-align: top;\n",
       "    }\n",
       "\n",
       "    .dataframe thead th {\n",
       "        text-align: right;\n",
       "    }\n",
       "</style>\n",
       "<table border=\"1\" class=\"dataframe\">\n",
       "  <thead>\n",
       "    <tr style=\"text-align: right;\">\n",
       "      <th></th>\n",
       "      <th>count</th>\n",
       "      <th>sum</th>\n",
       "      <th>mean</th>\n",
       "    </tr>\n",
       "    <tr>\n",
       "      <th>children</th>\n",
       "      <th></th>\n",
       "      <th></th>\n",
       "      <th></th>\n",
       "    </tr>\n",
       "  </thead>\n",
       "  <tbody>\n",
       "    <tr>\n",
       "      <th>0</th>\n",
       "      <td>14091</td>\n",
       "      <td>1063</td>\n",
       "      <td>0.075438</td>\n",
       "    </tr>\n",
       "    <tr>\n",
       "      <th>1</th>\n",
       "      <td>4808</td>\n",
       "      <td>444</td>\n",
       "      <td>0.092346</td>\n",
       "    </tr>\n",
       "    <tr>\n",
       "      <th>2</th>\n",
       "      <td>2052</td>\n",
       "      <td>194</td>\n",
       "      <td>0.094542</td>\n",
       "    </tr>\n",
       "    <tr>\n",
       "      <th>3</th>\n",
       "      <td>330</td>\n",
       "      <td>27</td>\n",
       "      <td>0.081818</td>\n",
       "    </tr>\n",
       "    <tr>\n",
       "      <th>4</th>\n",
       "      <td>41</td>\n",
       "      <td>4</td>\n",
       "      <td>0.097561</td>\n",
       "    </tr>\n",
       "    <tr>\n",
       "      <th>5</th>\n",
       "      <td>9</td>\n",
       "      <td>0</td>\n",
       "      <td>0.000000</td>\n",
       "    </tr>\n",
       "  </tbody>\n",
       "</table>\n",
       "</div>"
      ],
      "text/plain": [
       "          count   sum      mean\n",
       "children                       \n",
       "0         14091  1063  0.075438\n",
       "1          4808   444  0.092346\n",
       "2          2052   194  0.094542\n",
       "3           330    27  0.081818\n",
       "4            41     4  0.097561\n",
       "5             9     0  0.000000"
      ]
     },
     "execution_count": 29,
     "metadata": {},
     "output_type": "execute_result"
    }
   ],
   "source": [
    "data.groupby('children')['debt'].agg(['count','sum','mean'])"
   ]
  },
  {
   "cell_type": "code",
   "execution_count": 30,
   "id": "aa8fb86f",
   "metadata": {},
   "outputs": [
    {
     "data": {
      "text/html": [
       "<div>\n",
       "<style scoped>\n",
       "    .dataframe tbody tr th:only-of-type {\n",
       "        vertical-align: middle;\n",
       "    }\n",
       "\n",
       "    .dataframe tbody tr th {\n",
       "        vertical-align: top;\n",
       "    }\n",
       "\n",
       "    .dataframe thead th {\n",
       "        text-align: right;\n",
       "    }\n",
       "</style>\n",
       "<table border=\"1\" class=\"dataframe\">\n",
       "  <thead>\n",
       "    <tr style=\"text-align: right;\">\n",
       "      <th></th>\n",
       "      <th>count</th>\n",
       "      <th>sum</th>\n",
       "      <th>my_mean</th>\n",
       "    </tr>\n",
       "    <tr>\n",
       "      <th>children</th>\n",
       "      <th></th>\n",
       "      <th></th>\n",
       "      <th></th>\n",
       "    </tr>\n",
       "  </thead>\n",
       "  <tbody>\n",
       "    <tr>\n",
       "      <th>0</th>\n",
       "      <td>14091</td>\n",
       "      <td>1063</td>\n",
       "      <td>7.543822</td>\n",
       "    </tr>\n",
       "    <tr>\n",
       "      <th>1</th>\n",
       "      <td>4808</td>\n",
       "      <td>444</td>\n",
       "      <td>9.234609</td>\n",
       "    </tr>\n",
       "    <tr>\n",
       "      <th>2</th>\n",
       "      <td>2052</td>\n",
       "      <td>194</td>\n",
       "      <td>9.454191</td>\n",
       "    </tr>\n",
       "    <tr>\n",
       "      <th>3</th>\n",
       "      <td>330</td>\n",
       "      <td>27</td>\n",
       "      <td>8.181818</td>\n",
       "    </tr>\n",
       "    <tr>\n",
       "      <th>4</th>\n",
       "      <td>41</td>\n",
       "      <td>4</td>\n",
       "      <td>9.756098</td>\n",
       "    </tr>\n",
       "    <tr>\n",
       "      <th>5</th>\n",
       "      <td>9</td>\n",
       "      <td>0</td>\n",
       "      <td>0.000000</td>\n",
       "    </tr>\n",
       "  </tbody>\n",
       "</table>\n",
       "</div>"
      ],
      "text/plain": [
       "          count   sum   my_mean\n",
       "children                       \n",
       "0         14091  1063  7.543822\n",
       "1          4808   444  9.234609\n",
       "2          2052   194  9.454191\n",
       "3           330    27  8.181818\n",
       "4            41     4  9.756098\n",
       "5             9     0  0.000000"
      ]
     },
     "execution_count": 30,
     "metadata": {},
     "output_type": "execute_result"
    }
   ],
   "source": [
    "def my_mean(x): return x.mean()*100\n",
    "\n",
    "data.groupby('children')['debt'].agg(['count', 'sum', my_mean])"
   ]
  },
  {
   "cell_type": "code",
   "execution_count": 31,
   "id": "31f603dc",
   "metadata": {},
   "outputs": [
    {
     "data": {
      "text/html": [
       "<div>\n",
       "<style scoped>\n",
       "    .dataframe tbody tr th:only-of-type {\n",
       "        vertical-align: middle;\n",
       "    }\n",
       "\n",
       "    .dataframe tbody tr th {\n",
       "        vertical-align: top;\n",
       "    }\n",
       "\n",
       "    .dataframe thead th {\n",
       "        text-align: right;\n",
       "    }\n",
       "</style>\n",
       "<table border=\"1\" class=\"dataframe\">\n",
       "  <thead>\n",
       "    <tr style=\"text-align: right;\">\n",
       "      <th></th>\n",
       "      <th>count</th>\n",
       "      <th>sum</th>\n",
       "      <th>my_mean</th>\n",
       "    </tr>\n",
       "    <tr>\n",
       "      <th>children</th>\n",
       "      <th></th>\n",
       "      <th></th>\n",
       "      <th></th>\n",
       "    </tr>\n",
       "  </thead>\n",
       "  <tbody>\n",
       "    <tr>\n",
       "      <th>0</th>\n",
       "      <td>14091</td>\n",
       "      <td>1063</td>\n",
       "      <td>7.54%</td>\n",
       "    </tr>\n",
       "    <tr>\n",
       "      <th>1</th>\n",
       "      <td>4808</td>\n",
       "      <td>444</td>\n",
       "      <td>9.23%</td>\n",
       "    </tr>\n",
       "    <tr>\n",
       "      <th>2</th>\n",
       "      <td>2052</td>\n",
       "      <td>194</td>\n",
       "      <td>9.45%</td>\n",
       "    </tr>\n",
       "    <tr>\n",
       "      <th>3</th>\n",
       "      <td>330</td>\n",
       "      <td>27</td>\n",
       "      <td>8.18%</td>\n",
       "    </tr>\n",
       "    <tr>\n",
       "      <th>4</th>\n",
       "      <td>41</td>\n",
       "      <td>4</td>\n",
       "      <td>9.76%</td>\n",
       "    </tr>\n",
       "    <tr>\n",
       "      <th>5</th>\n",
       "      <td>9</td>\n",
       "      <td>0</td>\n",
       "      <td>0.00%</td>\n",
       "    </tr>\n",
       "  </tbody>\n",
       "</table>\n",
       "</div>"
      ],
      "text/plain": [
       "          count   sum my_mean\n",
       "children                     \n",
       "0         14091  1063  7.54% \n",
       "1          4808   444  9.23% \n",
       "2          2052   194  9.45% \n",
       "3           330    27  8.18% \n",
       "4            41     4  9.76% \n",
       "5             9     0  0.00% "
      ]
     },
     "execution_count": 31,
     "metadata": {},
     "output_type": "execute_result"
    }
   ],
   "source": [
    "def my_mean(x): return '{:.2%} '.format(x.mean())\n",
    "\n",
    "data.groupby('children')['debt'].agg(['count', 'sum', my_mean])"
   ]
  },
  {
   "cell_type": "markdown",
   "id": "2eb9088e",
   "metadata": {
    "deletable": false,
    "id": "2eb9088e"
   },
   "source": [
    "**Вывод:** Самой высокий показатель имеют клиенты банка без детей, что логично ввиду отсутсвия дополнительной статьи расходов. Клиенты банка с тремя и более детьми имеют не самый низкий показатель, вероятно из-за небольшого количества наблюдений или из-за того что 3 и более детей, в основном, заводят более состоятельные люди, понимающие свою способность покрывать расходы на детей. Самый низкий показатель клиенты банка с 1-2 детьми, с уровнем просрочки на 22-25 процентов выше чем у бездетных клиентов.   "
   ]
  },
  {
   "cell_type": "markdown",
   "id": "74c9b3a7",
   "metadata": {
    "deletable": false,
    "editable": false,
    "id": "74c9b3a7"
   },
   "source": [
    "#### 3.2 Есть ли зависимость между семейным положением и возвратом кредита в срок?"
   ]
  },
  {
   "cell_type": "code",
   "execution_count": 23,
   "id": "8098ab3b",
   "metadata": {
    "deletable": false,
    "id": "8098ab3b"
   },
   "outputs": [
    {
     "data": {
      "text/html": [
       "<div>\n",
       "<style scoped>\n",
       "    .dataframe tbody tr th:only-of-type {\n",
       "        vertical-align: middle;\n",
       "    }\n",
       "\n",
       "    .dataframe tbody tr th {\n",
       "        vertical-align: top;\n",
       "    }\n",
       "\n",
       "    .dataframe thead th {\n",
       "        text-align: right;\n",
       "    }\n",
       "</style>\n",
       "<table border=\"1\" class=\"dataframe\">\n",
       "  <thead>\n",
       "    <tr style=\"text-align: right;\">\n",
       "      <th></th>\n",
       "      <th>Total_quantity</th>\n",
       "      <th>Debitors</th>\n",
       "      <th>Exp_debt_persent</th>\n",
       "      <th>Persent_increase</th>\n",
       "    </tr>\n",
       "    <tr>\n",
       "      <th>family_status</th>\n",
       "      <th></th>\n",
       "      <th></th>\n",
       "      <th></th>\n",
       "      <th></th>\n",
       "    </tr>\n",
       "  </thead>\n",
       "  <tbody>\n",
       "    <tr>\n",
       "      <th>вдовец / вдова</th>\n",
       "      <td>951</td>\n",
       "      <td>63</td>\n",
       "      <td>6.62</td>\n",
       "      <td>0.000000</td>\n",
       "    </tr>\n",
       "    <tr>\n",
       "      <th>в разводе</th>\n",
       "      <td>1189</td>\n",
       "      <td>84</td>\n",
       "      <td>7.06</td>\n",
       "      <td>6.646526</td>\n",
       "    </tr>\n",
       "    <tr>\n",
       "      <th>женат / замужем</th>\n",
       "      <td>12261</td>\n",
       "      <td>927</td>\n",
       "      <td>7.56</td>\n",
       "      <td>14.199396</td>\n",
       "    </tr>\n",
       "    <tr>\n",
       "      <th>гражданский брак</th>\n",
       "      <td>4134</td>\n",
       "      <td>385</td>\n",
       "      <td>9.31</td>\n",
       "      <td>40.634441</td>\n",
       "    </tr>\n",
       "    <tr>\n",
       "      <th>Не женат / не замужем</th>\n",
       "      <td>2796</td>\n",
       "      <td>273</td>\n",
       "      <td>9.76</td>\n",
       "      <td>47.432024</td>\n",
       "    </tr>\n",
       "  </tbody>\n",
       "</table>\n",
       "</div>"
      ],
      "text/plain": [
       "                       Total_quantity  Debitors  Exp_debt_persent  \\\n",
       "family_status                                                       \n",
       "вдовец / вдова                    951        63              6.62   \n",
       "в разводе                        1189        84              7.06   \n",
       "женат / замужем                 12261       927              7.56   \n",
       "гражданский брак                 4134       385              9.31   \n",
       "Не женат / не замужем            2796       273              9.76   \n",
       "\n",
       "                       Persent_increase  \n",
       "family_status                            \n",
       "вдовец / вдова                 0.000000  \n",
       "в разводе                      6.646526  \n",
       "женат / замужем               14.199396  \n",
       "гражданский брак              40.634441  \n",
       "Не женат / не замужем         47.432024  "
      ]
     },
     "execution_count": 23,
     "metadata": {},
     "output_type": "execute_result"
    }
   ],
   "source": [
    "pivot_fam_debt = data.pivot_table(index = ['family_status'], values = 'debt', aggfunc=['count','sum'])\n",
    "pivot_fam_debt.columns = ['Total_quantity', 'Debitors']\n",
    "pivot_fam_debt['Exp_debt_persent'] = round(pivot_fam_debt['Debitors']/pivot_fam_debt['Total_quantity']*100, 2)\n",
    "min_persent = pivot_fam_debt['Exp_debt_persent'].min()\n",
    "pivot_fam_debt['Persent_increase'] = ((pivot_fam_debt['Exp_debt_persent'] - min_persent) / min_persent) * 100\n",
    "pivot_fam_debt.sort_values(by='Exp_debt_persent', ascending = 'False', inplace=True)\n",
    "pivot_fam_debt"
   ]
  },
  {
   "cell_type": "markdown",
   "id": "c389ca63",
   "metadata": {
    "deletable": false,
    "id": "c389ca63"
   },
   "source": [
    "**Вывод:** По этой таблице я могу сделать вывод о том, что  семейный статус \"вдовец / вдова\" является наиболее дисциплинированным заемщиков, чуть хуже показатели показывает статус \"в разводе\". Возможно это связано с тем, что представители группы \"вдовец / вдова\" вступают в права наследования и получают дополнительные денежные срества упрощающие обслуживание долга. Самыми неприлежными группами, с сильным процентным отрывом по количеству просроченных долгов, являются группы \"гражданский брак\" и \"Не женат / не замужем\".  Возможно это связано с тем что у этих категорий, в отличии от семейных людей, нет совместного семейного бюджета с кредит приходится погашать только из доходов одного человека.\t"
   ]
  },
  {
   "cell_type": "markdown",
   "id": "9529de68",
   "metadata": {
    "deletable": false,
    "editable": false,
    "id": "9529de68"
   },
   "source": [
    "#### 3.3 Есть ли зависимость между уровнем дохода и возвратом кредита в срок?"
   ]
  },
  {
   "cell_type": "code",
   "execution_count": 24,
   "id": "8787f44a",
   "metadata": {
    "deletable": false,
    "id": "8787f44a"
   },
   "outputs": [
    {
     "data": {
      "text/html": [
       "<div>\n",
       "<style scoped>\n",
       "    .dataframe tbody tr th:only-of-type {\n",
       "        vertical-align: middle;\n",
       "    }\n",
       "\n",
       "    .dataframe tbody tr th {\n",
       "        vertical-align: top;\n",
       "    }\n",
       "\n",
       "    .dataframe thead th {\n",
       "        text-align: right;\n",
       "    }\n",
       "</style>\n",
       "<table border=\"1\" class=\"dataframe\">\n",
       "  <thead>\n",
       "    <tr style=\"text-align: right;\">\n",
       "      <th></th>\n",
       "      <th>Total_quantity</th>\n",
       "      <th>Debitors</th>\n",
       "      <th>Exp_debt_persent</th>\n",
       "      <th>Persent_increase</th>\n",
       "    </tr>\n",
       "    <tr>\n",
       "      <th>total_income_category</th>\n",
       "      <th></th>\n",
       "      <th></th>\n",
       "      <th></th>\n",
       "      <th></th>\n",
       "    </tr>\n",
       "  </thead>\n",
       "  <tbody>\n",
       "    <tr>\n",
       "      <th>30001–50000 — 'D'</th>\n",
       "      <td>349</td>\n",
       "      <td>21</td>\n",
       "      <td>6.02</td>\n",
       "      <td>0.000000</td>\n",
       "    </tr>\n",
       "    <tr>\n",
       "      <th>200001–1000000 — 'B'</th>\n",
       "      <td>5014</td>\n",
       "      <td>354</td>\n",
       "      <td>7.06</td>\n",
       "      <td>17.275748</td>\n",
       "    </tr>\n",
       "    <tr>\n",
       "      <th>1000001 и выше — 'A'</th>\n",
       "      <td>25</td>\n",
       "      <td>2</td>\n",
       "      <td>8.00</td>\n",
       "      <td>32.890365</td>\n",
       "    </tr>\n",
       "    <tr>\n",
       "      <th>50001–200000 — 'C'</th>\n",
       "      <td>15921</td>\n",
       "      <td>1353</td>\n",
       "      <td>8.50</td>\n",
       "      <td>41.196013</td>\n",
       "    </tr>\n",
       "    <tr>\n",
       "      <th>0–30000 — 'E'</th>\n",
       "      <td>22</td>\n",
       "      <td>2</td>\n",
       "      <td>9.09</td>\n",
       "      <td>50.996678</td>\n",
       "    </tr>\n",
       "  </tbody>\n",
       "</table>\n",
       "</div>"
      ],
      "text/plain": [
       "                       Total_quantity  Debitors  Exp_debt_persent  \\\n",
       "total_income_category                                               \n",
       "30001–50000 — 'D'                 349        21              6.02   \n",
       "200001–1000000 — 'B'             5014       354              7.06   \n",
       "1000001 и выше — 'A'               25         2              8.00   \n",
       "50001–200000 — 'C'              15921      1353              8.50   \n",
       "0–30000 — 'E'                      22         2              9.09   \n",
       "\n",
       "                       Persent_increase  \n",
       "total_income_category                    \n",
       "30001–50000 — 'D'              0.000000  \n",
       "200001–1000000 — 'B'          17.275748  \n",
       "1000001 и выше — 'A'          32.890365  \n",
       "50001–200000 — 'C'            41.196013  \n",
       "0–30000 — 'E'                 50.996678  "
      ]
     },
     "execution_count": 24,
     "metadata": {},
     "output_type": "execute_result"
    }
   ],
   "source": [
    "income_debt = data.pivot_table(index = ['total_income_category'], values = 'debt', aggfunc=['count','sum'])\n",
    "income_debt.columns = ['Total_quantity', 'Debitors']\n",
    "income_debt['Exp_debt_persent'] = round(income_debt['Debitors']/income_debt['Total_quantity']*100, 2)\n",
    "min_persent = income_debt['Exp_debt_persent'].min()\n",
    "income_debt['Persent_increase'] = ((income_debt['Exp_debt_persent'] - min_persent) / min_persent) * 100\n",
    "income_debt.sort_values(by='Exp_debt_persent', ascending = 'False', inplace=True)\n",
    "income_debt"
   ]
  },
  {
   "cell_type": "markdown",
   "id": "6dd14b57",
   "metadata": {
    "deletable": false,
    "id": "6dd14b57"
   },
   "source": [
    "**Вывод:** Самой рисковой группой является группа с самым низким уровнем дохода, что является логичным. Так как низкого дохода может с трудом хватать на покрытие базовых трат и потребностей, и своевременность кредитных платежей тут не является приоритетом. Самой прилежной группой является группа D, возможно ввиду небольшого количества наблюдений."
   ]
  },
  {
   "cell_type": "markdown",
   "id": "1dcc9b12",
   "metadata": {
    "deletable": false,
    "editable": false,
    "id": "1dcc9b12"
   },
   "source": [
    "#### 3.4 Как разные цели кредита влияют на его возврат в срок?"
   ]
  },
  {
   "cell_type": "code",
   "execution_count": 25,
   "id": "c602bc8b",
   "metadata": {
    "deletable": false,
    "id": "c602bc8b"
   },
   "outputs": [
    {
     "data": {
      "text/html": [
       "<div>\n",
       "<style scoped>\n",
       "    .dataframe tbody tr th:only-of-type {\n",
       "        vertical-align: middle;\n",
       "    }\n",
       "\n",
       "    .dataframe tbody tr th {\n",
       "        vertical-align: top;\n",
       "    }\n",
       "\n",
       "    .dataframe thead th {\n",
       "        text-align: right;\n",
       "    }\n",
       "</style>\n",
       "<table border=\"1\" class=\"dataframe\">\n",
       "  <thead>\n",
       "    <tr style=\"text-align: right;\">\n",
       "      <th></th>\n",
       "      <th>Total_quantity</th>\n",
       "      <th>Debitors</th>\n",
       "      <th>Exp_debt_persent</th>\n",
       "      <th>Persent_increase</th>\n",
       "    </tr>\n",
       "    <tr>\n",
       "      <th>purpose_category</th>\n",
       "      <th></th>\n",
       "      <th></th>\n",
       "      <th></th>\n",
       "      <th></th>\n",
       "    </tr>\n",
       "  </thead>\n",
       "  <tbody>\n",
       "    <tr>\n",
       "      <th>операции с недвижимостью</th>\n",
       "      <td>10751</td>\n",
       "      <td>780</td>\n",
       "      <td>7.26</td>\n",
       "      <td>0.000000</td>\n",
       "    </tr>\n",
       "    <tr>\n",
       "      <th>проведение свадьбы</th>\n",
       "      <td>2313</td>\n",
       "      <td>183</td>\n",
       "      <td>7.91</td>\n",
       "      <td>8.953168</td>\n",
       "    </tr>\n",
       "    <tr>\n",
       "      <th>получение образования</th>\n",
       "      <td>3988</td>\n",
       "      <td>369</td>\n",
       "      <td>9.25</td>\n",
       "      <td>27.410468</td>\n",
       "    </tr>\n",
       "    <tr>\n",
       "      <th>операции с автомобилем</th>\n",
       "      <td>4279</td>\n",
       "      <td>400</td>\n",
       "      <td>9.35</td>\n",
       "      <td>28.787879</td>\n",
       "    </tr>\n",
       "  </tbody>\n",
       "</table>\n",
       "</div>"
      ],
      "text/plain": [
       "                          Total_quantity  Debitors  Exp_debt_persent  \\\n",
       "purpose_category                                                       \n",
       "операции с недвижимостью           10751       780              7.26   \n",
       "проведение свадьбы                  2313       183              7.91   \n",
       "получение образования               3988       369              9.25   \n",
       "операции с автомобилем              4279       400              9.35   \n",
       "\n",
       "                          Persent_increase  \n",
       "purpose_category                            \n",
       "операции с недвижимостью          0.000000  \n",
       "проведение свадьбы                8.953168  \n",
       "получение образования            27.410468  \n",
       "операции с автомобилем           28.787879  "
      ]
     },
     "execution_count": 25,
     "metadata": {},
     "output_type": "execute_result"
    }
   ],
   "source": [
    "purpose_debt = data.pivot_table(index = ['purpose_category'], values = 'debt', aggfunc=['count','sum'])\n",
    "purpose_debt.columns = ['Total_quantity', 'Debitors']\n",
    "purpose_debt['Exp_debt_persent'] = round(purpose_debt['Debitors']/purpose_debt['Total_quantity']*100, 2)\n",
    "min_persent = purpose_debt['Exp_debt_persent'].min()\n",
    "purpose_debt['Persent_increase'] = ((purpose_debt['Exp_debt_persent'] - min_persent) / min_persent) * 100\n",
    "purpose_debt.sort_values(by='Exp_debt_persent', ascending = 'False', inplace=True)\n",
    "purpose_debt"
   ]
  },
  {
   "cell_type": "markdown",
   "id": "cf05ed63",
   "metadata": {
    "deletable": false,
    "id": "cf05ed63"
   },
   "source": [
    "**Вывод:** Самый высокий показатель имеют клиенты с ипотечным кредитом. Скорее всего люди не хотят иметь проблемы с жильем, в котором они проживают и относятся ответственно с погашению кредита. Так же ипотечные кредиты предлагают более низкую ставку и более долгий срок погашения в сравнении о остальными видами кредитов. Самый низкий показатель имеют клиенты с образовательным и автокредитом. "
   ]
  },
  {
   "cell_type": "markdown",
   "id": "46c1f10b",
   "metadata": {
    "deletable": false,
    "editable": false,
    "id": "46c1f10b"
   },
   "source": [
    "#### 3.5 Приведите возможные причины появления пропусков в исходных данных."
   ]
  },
  {
   "cell_type": "markdown",
   "id": "3697d2a9",
   "metadata": {
    "deletable": false,
    "id": "3697d2a9"
   },
   "source": [
    "*Ответ:*\n",
    "1) Возможно это \"человеческий фактор\"\n",
    "2) Это могут быть значения необязательных полей\n",
    "3) Возможна техническая ошибка при обработке или хранении данных \n",
    "4) Возможно эти данные просто не были переданы"
   ]
  },
  {
   "cell_type": "markdown",
   "id": "3137d257",
   "metadata": {
    "deletable": false,
    "editable": false,
    "id": "3137d257"
   },
   "source": [
    "#### 3.6 Объясните, почему заполнить пропуски медианным значением — лучшее решение для количественных переменных."
   ]
  },
  {
   "cell_type": "markdown",
   "id": "cf40012a",
   "metadata": {
    "deletable": false,
    "id": "cf40012a"
   },
   "source": [
    "*Ответ:* \n",
    "1) Медианное значение менее склонно к выбросам чем среднее значение\n",
    "2) Более точно представляет данные выборки\n",
    "3) Относительно просто рассчитывается, в отличии от более сложного индивидуального показателя распределения значений выборки, который гипотетически можно было бы изобрести."
   ]
  },
  {
   "cell_type": "markdown",
   "id": "57bc304e",
   "metadata": {
    "deletable": false,
    "editable": false,
    "id": "57bc304e"
   },
   "source": [
    "### Шаг 4: общий вывод."
   ]
  },
  {
   "cell_type": "markdown",
   "id": "1ab75d1c",
   "metadata": {
    "deletable": false,
    "id": "1ab75d1c"
   },
   "source": [
    "\n",
    "Наиболее предпочтительным клиентом банка является человек: 1) Без детей 2) Вдовец/вдова, в разводе или семейный 3) С уровнем дохода категории D или B 4) Цель кредита: ипотека или проведение свадьбы\n",
    "\n",
    "Наиболее ненадежым клиентом банка является человек: 1) С 1-2 детьми 2) Не женат/не замужем или в гражданском браке 3) Уровень дохода Е 4) Цель кредита: на обучение или автокредит\n",
    "\n"
   ]
  }
 ],
 "metadata": {
  "ExecuteTimeLog": [
   {
    "duration": 707,
    "start_time": "2023-10-29T13:05:54.908Z"
   },
   {
    "duration": 7,
    "start_time": "2023-10-29T13:06:05.275Z"
   },
   {
    "duration": 504,
    "start_time": "2023-10-29T13:06:25.200Z"
   },
   {
    "duration": 22,
    "start_time": "2023-10-29T13:06:25.706Z"
   },
   {
    "duration": 18,
    "start_time": "2023-10-29T13:06:25.730Z"
   },
   {
    "duration": 13,
    "start_time": "2023-10-29T13:06:25.750Z"
   },
   {
    "duration": 74,
    "start_time": "2023-10-29T13:06:25.765Z"
   },
   {
    "duration": 4,
    "start_time": "2023-10-29T13:06:25.841Z"
   },
   {
    "duration": 20,
    "start_time": "2023-10-29T13:06:25.847Z"
   },
   {
    "duration": 18,
    "start_time": "2023-10-29T13:06:25.869Z"
   },
   {
    "duration": 8,
    "start_time": "2023-10-29T13:06:25.889Z"
   },
   {
    "duration": 4,
    "start_time": "2023-10-29T13:06:25.900Z"
   },
   {
    "duration": 58,
    "start_time": "2023-10-29T13:06:25.905Z"
   },
   {
    "duration": 11,
    "start_time": "2023-10-29T13:06:25.964Z"
   },
   {
    "duration": 4,
    "start_time": "2023-10-29T13:06:25.977Z"
   },
   {
    "duration": 15,
    "start_time": "2023-10-29T13:06:25.983Z"
   },
   {
    "duration": 32,
    "start_time": "2023-10-29T13:06:26.000Z"
   },
   {
    "duration": 17,
    "start_time": "2023-10-29T13:06:26.033Z"
   },
   {
    "duration": 4,
    "start_time": "2023-10-29T13:06:26.052Z"
   },
   {
    "duration": 20,
    "start_time": "2023-10-29T13:06:26.058Z"
   },
   {
    "duration": 13,
    "start_time": "2023-10-29T13:06:26.079Z"
   },
   {
    "duration": 16,
    "start_time": "2023-10-29T13:06:26.093Z"
   },
   {
    "duration": 26,
    "start_time": "2023-10-29T13:06:26.111Z"
   },
   {
    "duration": 36,
    "start_time": "2023-10-29T13:06:26.138Z"
   },
   {
    "duration": 1383,
    "start_time": "2023-10-29T13:12:21.547Z"
   },
   {
    "duration": 4,
    "start_time": "2023-10-29T13:42:26.403Z"
   },
   {
    "duration": 10,
    "start_time": "2023-10-29T13:42:33.445Z"
   },
   {
    "duration": 8,
    "start_time": "2023-10-29T13:43:03.860Z"
   },
   {
    "duration": 7,
    "start_time": "2023-10-29T13:43:17.483Z"
   },
   {
    "duration": 8,
    "start_time": "2023-10-29T13:43:37.324Z"
   },
   {
    "duration": 9,
    "start_time": "2023-10-29T13:44:55.932Z"
   },
   {
    "duration": 7,
    "start_time": "2023-10-29T13:45:43.388Z"
   },
   {
    "duration": 9,
    "start_time": "2023-10-29T13:45:52.358Z"
   },
   {
    "duration": 38,
    "start_time": "2023-10-29T13:46:26.678Z"
   },
   {
    "duration": 29,
    "start_time": "2023-10-29T13:53:48.380Z"
   },
   {
    "duration": 16,
    "start_time": "2023-10-29T13:54:32.938Z"
   },
   {
    "duration": 13,
    "start_time": "2023-10-29T13:57:07.043Z"
   },
   {
    "duration": 14,
    "start_time": "2023-10-29T13:57:19.713Z"
   },
   {
    "duration": 12,
    "start_time": "2023-10-29T13:57:46.603Z"
   },
   {
    "duration": 16,
    "start_time": "2023-10-29T13:58:12.874Z"
   },
   {
    "duration": 30,
    "start_time": "2023-10-29T13:58:30.114Z"
   },
   {
    "duration": 26,
    "start_time": "2023-10-29T13:58:55.267Z"
   },
   {
    "duration": 21,
    "start_time": "2023-10-29T14:00:44.637Z"
   },
   {
    "duration": 23,
    "start_time": "2023-10-29T14:00:57.261Z"
   },
   {
    "duration": 108,
    "start_time": "2023-10-29T14:01:18.821Z"
   },
   {
    "duration": 90,
    "start_time": "2023-10-29T14:01:27.333Z"
   },
   {
    "duration": 24,
    "start_time": "2023-10-29T14:01:51.028Z"
   },
   {
    "duration": 24,
    "start_time": "2023-10-29T14:02:02.359Z"
   },
   {
    "duration": 30,
    "start_time": "2023-10-29T14:02:55.784Z"
   },
   {
    "duration": 23,
    "start_time": "2023-10-29T14:03:24.253Z"
   },
   {
    "duration": 22,
    "start_time": "2023-10-29T14:04:48.311Z"
   },
   {
    "duration": 78,
    "start_time": "2023-10-29T14:05:19.032Z"
   },
   {
    "duration": 20,
    "start_time": "2023-10-29T14:06:02.592Z"
   },
   {
    "duration": 15,
    "start_time": "2023-10-29T14:08:02.978Z"
   },
   {
    "duration": 16,
    "start_time": "2023-10-29T14:08:10.152Z"
   },
   {
    "duration": 14,
    "start_time": "2023-10-29T14:08:35.217Z"
   },
   {
    "duration": 12,
    "start_time": "2023-10-29T14:08:52.512Z"
   },
   {
    "duration": 18,
    "start_time": "2023-10-29T14:13:52.155Z"
   },
   {
    "duration": 26,
    "start_time": "2023-10-29T14:16:11.812Z"
   },
   {
    "duration": 24,
    "start_time": "2023-10-29T14:17:29.780Z"
   },
   {
    "duration": 28,
    "start_time": "2023-10-29T14:17:34.822Z"
   },
   {
    "duration": 36,
    "start_time": "2023-10-29T14:18:26.773Z"
   },
   {
    "duration": 31,
    "start_time": "2023-10-29T14:19:27.902Z"
   },
   {
    "duration": 33,
    "start_time": "2023-10-29T14:19:45.315Z"
   },
   {
    "duration": 32,
    "start_time": "2023-10-29T14:20:37.862Z"
   },
   {
    "duration": 40,
    "start_time": "2023-10-29T14:20:50.846Z"
   },
   {
    "duration": 34,
    "start_time": "2023-10-29T14:21:18.350Z"
   },
   {
    "duration": 1413,
    "start_time": "2023-10-29T14:22:34.527Z"
   },
   {
    "duration": 1468,
    "start_time": "2023-10-29T14:22:36.536Z"
   },
   {
    "duration": 1238,
    "start_time": "2023-10-29T14:22:46.752Z"
   },
   {
    "duration": 33,
    "start_time": "2023-10-29T14:23:01.719Z"
   },
   {
    "duration": 32,
    "start_time": "2023-10-29T14:23:15.578Z"
   },
   {
    "duration": 30,
    "start_time": "2023-10-29T14:33:04.849Z"
   },
   {
    "duration": 336,
    "start_time": "2023-10-29T14:33:56.998Z"
   },
   {
    "duration": 23,
    "start_time": "2023-10-29T14:35:35.433Z"
   },
   {
    "duration": 21,
    "start_time": "2023-10-29T14:35:48.618Z"
   },
   {
    "duration": 4,
    "start_time": "2023-10-29T14:40:29.530Z"
   },
   {
    "duration": 19,
    "start_time": "2023-10-29T14:40:29.536Z"
   },
   {
    "duration": 24,
    "start_time": "2023-10-29T14:40:29.556Z"
   },
   {
    "duration": 22,
    "start_time": "2023-10-29T14:40:29.583Z"
   },
   {
    "duration": 37,
    "start_time": "2023-10-29T14:40:29.606Z"
   },
   {
    "duration": 813,
    "start_time": "2023-10-29T14:40:29.644Z"
   },
   {
    "duration": 31,
    "start_time": "2023-10-29T14:40:30.459Z"
   },
   {
    "duration": 34,
    "start_time": "2023-10-29T14:40:30.491Z"
   },
   {
    "duration": 823,
    "start_time": "2023-10-29T14:44:16.808Z"
   },
   {
    "duration": 819,
    "start_time": "2023-10-29T14:44:27.810Z"
   },
   {
    "duration": 2859,
    "start_time": "2023-10-29T14:47:07.401Z"
   },
   {
    "duration": 792,
    "start_time": "2023-10-29T14:47:39.033Z"
   },
   {
    "duration": 741,
    "start_time": "2023-10-29T14:47:53.665Z"
   },
   {
    "duration": 834,
    "start_time": "2023-10-29T14:48:10.513Z"
   },
   {
    "duration": 758,
    "start_time": "2023-10-29T14:50:06.867Z"
   },
   {
    "duration": 797,
    "start_time": "2023-10-29T14:50:20.371Z"
   },
   {
    "duration": 932,
    "start_time": "2023-10-29T14:50:44.996Z"
   },
   {
    "duration": 28,
    "start_time": "2023-10-29T15:41:38.525Z"
   },
   {
    "duration": 23,
    "start_time": "2023-10-29T15:42:26.051Z"
   },
   {
    "duration": 25,
    "start_time": "2023-10-29T15:42:42.133Z"
   },
   {
    "duration": 34,
    "start_time": "2023-10-29T15:42:59.060Z"
   },
   {
    "duration": 770,
    "start_time": "2023-10-29T15:43:39.068Z"
   },
   {
    "duration": 828,
    "start_time": "2023-10-29T16:00:02.120Z"
   },
   {
    "duration": 826,
    "start_time": "2023-10-29T16:01:11.313Z"
   },
   {
    "duration": 853,
    "start_time": "2023-10-29T16:02:19.314Z"
   },
   {
    "duration": 788,
    "start_time": "2023-10-29T16:02:31.297Z"
   },
   {
    "duration": 991,
    "start_time": "2023-10-29T16:02:55.304Z"
   },
   {
    "duration": 873,
    "start_time": "2023-10-29T16:04:12.245Z"
   },
   {
    "duration": 763,
    "start_time": "2023-10-29T16:04:20.898Z"
   },
   {
    "duration": 804,
    "start_time": "2023-10-29T16:04:35.553Z"
   },
   {
    "duration": 814,
    "start_time": "2023-10-29T16:12:38.310Z"
   },
   {
    "duration": 23,
    "start_time": "2023-10-29T17:59:30.287Z"
   },
   {
    "duration": 943,
    "start_time": "2023-10-29T18:02:21.882Z"
   },
   {
    "duration": 764,
    "start_time": "2023-10-29T18:02:28.965Z"
   },
   {
    "duration": 39,
    "start_time": "2023-10-29T18:02:55.283Z"
   },
   {
    "duration": 74,
    "start_time": "2023-10-29T18:04:38.790Z"
   },
   {
    "duration": 39,
    "start_time": "2023-10-29T18:04:44.524Z"
   },
   {
    "duration": 40,
    "start_time": "2023-10-29T18:04:59.262Z"
   },
   {
    "duration": 44,
    "start_time": "2023-10-29T18:05:32.886Z"
   },
   {
    "duration": 54,
    "start_time": "2023-10-29T18:09:32.921Z"
   },
   {
    "duration": 51,
    "start_time": "2023-10-29T18:10:08.536Z"
   },
   {
    "duration": 47,
    "start_time": "2023-10-29T18:10:38.480Z"
   },
   {
    "duration": 49,
    "start_time": "2023-10-29T18:11:10.921Z"
   },
   {
    "duration": 48,
    "start_time": "2023-10-29T18:12:00.658Z"
   },
   {
    "duration": 66,
    "start_time": "2023-10-29T18:18:13.138Z"
   },
   {
    "duration": 61,
    "start_time": "2023-10-29T18:21:01.278Z"
   },
   {
    "duration": 62,
    "start_time": "2023-10-29T18:22:15.032Z"
   },
   {
    "duration": 64,
    "start_time": "2023-10-29T18:23:14.598Z"
   },
   {
    "duration": 12,
    "start_time": "2023-10-29T18:23:55.439Z"
   },
   {
    "duration": 58,
    "start_time": "2023-10-29T18:24:21.059Z"
   },
   {
    "duration": 62,
    "start_time": "2023-10-29T18:25:54.201Z"
   },
   {
    "duration": 12,
    "start_time": "2023-10-29T18:25:57.936Z"
   },
   {
    "duration": 741,
    "start_time": "2023-10-29T18:41:13.076Z"
   },
   {
    "duration": 62,
    "start_time": "2023-10-29T18:42:05.031Z"
   },
   {
    "duration": 46,
    "start_time": "2023-10-30T07:18:22.713Z"
   },
   {
    "duration": 566,
    "start_time": "2023-10-30T07:18:38.532Z"
   },
   {
    "duration": 23,
    "start_time": "2023-10-30T07:18:39.100Z"
   },
   {
    "duration": 17,
    "start_time": "2023-10-30T07:18:39.124Z"
   },
   {
    "duration": 37,
    "start_time": "2023-10-30T07:18:39.143Z"
   },
   {
    "duration": 62,
    "start_time": "2023-10-30T07:18:39.181Z"
   },
   {
    "duration": 3,
    "start_time": "2023-10-30T07:18:39.245Z"
   },
   {
    "duration": 19,
    "start_time": "2023-10-30T07:18:39.250Z"
   },
   {
    "duration": 12,
    "start_time": "2023-10-30T07:18:39.271Z"
   },
   {
    "duration": 39,
    "start_time": "2023-10-30T07:18:39.285Z"
   },
   {
    "duration": 8,
    "start_time": "2023-10-30T07:18:39.328Z"
   },
   {
    "duration": 60,
    "start_time": "2023-10-30T07:18:39.338Z"
   },
   {
    "duration": 11,
    "start_time": "2023-10-30T07:18:39.399Z"
   },
   {
    "duration": 11,
    "start_time": "2023-10-30T07:18:39.412Z"
   },
   {
    "duration": 48,
    "start_time": "2023-10-30T07:18:39.425Z"
   },
   {
    "duration": 21,
    "start_time": "2023-10-30T07:18:39.475Z"
   },
   {
    "duration": 27,
    "start_time": "2023-10-30T07:18:39.498Z"
   },
   {
    "duration": 10,
    "start_time": "2023-10-30T07:18:39.527Z"
   },
   {
    "duration": 19,
    "start_time": "2023-10-30T07:18:39.538Z"
   },
   {
    "duration": 22,
    "start_time": "2023-10-30T07:18:39.559Z"
   },
   {
    "duration": 24,
    "start_time": "2023-10-30T07:18:39.582Z"
   },
   {
    "duration": 31,
    "start_time": "2023-10-30T07:18:39.608Z"
   },
   {
    "duration": 24,
    "start_time": "2023-10-30T07:18:39.640Z"
   },
   {
    "duration": 21,
    "start_time": "2023-10-30T07:18:39.666Z"
   },
   {
    "duration": 21,
    "start_time": "2023-10-30T07:18:39.689Z"
   },
   {
    "duration": 46,
    "start_time": "2023-10-30T07:18:39.711Z"
   },
   {
    "duration": 1780,
    "start_time": "2023-10-30T07:18:39.759Z"
   },
   {
    "duration": 67,
    "start_time": "2023-10-30T07:18:41.543Z"
   },
   {
    "duration": 12,
    "start_time": "2023-10-30T07:18:41.612Z"
   },
   {
    "duration": 8,
    "start_time": "2023-10-30T07:36:35.290Z"
   },
   {
    "duration": 53,
    "start_time": "2023-10-30T07:36:53.685Z"
   },
   {
    "duration": 56,
    "start_time": "2023-10-30T07:38:02.037Z"
   },
   {
    "duration": 10,
    "start_time": "2023-10-30T07:40:47.186Z"
   },
   {
    "duration": 11,
    "start_time": "2023-10-30T07:42:00.619Z"
   },
   {
    "duration": 59,
    "start_time": "2023-10-30T07:42:08.083Z"
   },
   {
    "duration": 27,
    "start_time": "2023-10-30T07:54:13.080Z"
   },
   {
    "duration": 25,
    "start_time": "2023-10-30T08:12:22.510Z"
   },
   {
    "duration": 26,
    "start_time": "2023-10-30T08:12:41.474Z"
   },
   {
    "duration": 21,
    "start_time": "2023-10-30T08:33:55.089Z"
   },
   {
    "duration": 36,
    "start_time": "2023-10-30T08:34:16.222Z"
   },
   {
    "duration": 32,
    "start_time": "2023-10-30T08:37:25.212Z"
   },
   {
    "duration": 53,
    "start_time": "2023-10-30T08:41:04.958Z"
   },
   {
    "duration": 75,
    "start_time": "2023-10-30T08:42:39.360Z"
   },
   {
    "duration": 15,
    "start_time": "2023-10-30T08:42:39.436Z"
   },
   {
    "duration": 30,
    "start_time": "2023-10-30T08:42:39.452Z"
   },
   {
    "duration": 12,
    "start_time": "2023-10-30T08:42:39.484Z"
   },
   {
    "duration": 48,
    "start_time": "2023-10-30T08:42:39.498Z"
   },
   {
    "duration": 3,
    "start_time": "2023-10-30T08:42:39.548Z"
   },
   {
    "duration": 21,
    "start_time": "2023-10-30T08:42:39.552Z"
   },
   {
    "duration": 5,
    "start_time": "2023-10-30T08:42:39.574Z"
   },
   {
    "duration": 12,
    "start_time": "2023-10-30T08:42:39.580Z"
   },
   {
    "duration": 4,
    "start_time": "2023-10-30T08:42:39.594Z"
   },
   {
    "duration": 49,
    "start_time": "2023-10-30T08:42:39.599Z"
   },
   {
    "duration": 10,
    "start_time": "2023-10-30T08:42:39.650Z"
   },
   {
    "duration": 16,
    "start_time": "2023-10-30T08:42:39.661Z"
   },
   {
    "duration": 13,
    "start_time": "2023-10-30T08:42:39.679Z"
   },
   {
    "duration": 20,
    "start_time": "2023-10-30T08:42:39.693Z"
   },
   {
    "duration": 17,
    "start_time": "2023-10-30T08:42:39.715Z"
   },
   {
    "duration": 3,
    "start_time": "2023-10-30T08:42:39.744Z"
   },
   {
    "duration": 16,
    "start_time": "2023-10-30T08:42:39.749Z"
   },
   {
    "duration": 9,
    "start_time": "2023-10-30T08:42:39.767Z"
   },
   {
    "duration": 3,
    "start_time": "2023-10-30T08:42:39.778Z"
   },
   {
    "duration": 9,
    "start_time": "2023-10-30T08:42:39.783Z"
   },
   {
    "duration": 51,
    "start_time": "2023-10-30T08:42:39.794Z"
   },
   {
    "duration": 26,
    "start_time": "2023-10-30T08:42:39.847Z"
   },
   {
    "duration": 25,
    "start_time": "2023-10-30T08:42:39.874Z"
   },
   {
    "duration": 45,
    "start_time": "2023-10-30T08:42:39.901Z"
   },
   {
    "duration": 886,
    "start_time": "2023-10-30T08:42:39.948Z"
   },
   {
    "duration": 75,
    "start_time": "2023-10-30T08:42:40.835Z"
   },
   {
    "duration": 0,
    "start_time": "2023-10-30T08:42:40.911Z"
   },
   {
    "duration": 3217,
    "start_time": "2023-10-30T08:43:59.464Z"
   },
   {
    "duration": 11,
    "start_time": "2023-10-30T08:44:16.800Z"
   },
   {
    "duration": 23,
    "start_time": "2023-10-30T08:45:19.626Z"
   },
   {
    "duration": 63,
    "start_time": "2023-10-30T08:45:46.390Z"
   },
   {
    "duration": 31,
    "start_time": "2023-10-30T08:49:30.732Z"
   },
   {
    "duration": 30,
    "start_time": "2023-10-30T08:49:56.830Z"
   },
   {
    "duration": 30,
    "start_time": "2023-10-30T08:50:09.652Z"
   },
   {
    "duration": 609,
    "start_time": "2023-10-30T08:57:26.753Z"
   },
   {
    "duration": 28,
    "start_time": "2023-10-30T08:59:17.442Z"
   },
   {
    "duration": 701,
    "start_time": "2023-10-30T12:42:26.847Z"
   },
   {
    "duration": 20,
    "start_time": "2023-10-30T12:42:27.550Z"
   },
   {
    "duration": 32,
    "start_time": "2023-10-30T12:42:27.571Z"
   },
   {
    "duration": 18,
    "start_time": "2023-10-30T12:42:27.606Z"
   },
   {
    "duration": 64,
    "start_time": "2023-10-30T12:42:27.626Z"
   },
   {
    "duration": 4,
    "start_time": "2023-10-30T12:42:27.691Z"
   },
   {
    "duration": 51,
    "start_time": "2023-10-30T12:42:27.696Z"
   },
   {
    "duration": 18,
    "start_time": "2023-10-30T12:42:27.749Z"
   },
   {
    "duration": 39,
    "start_time": "2023-10-30T12:42:27.769Z"
   },
   {
    "duration": 38,
    "start_time": "2023-10-30T12:42:27.810Z"
   },
   {
    "duration": 76,
    "start_time": "2023-10-30T12:42:27.849Z"
   },
   {
    "duration": 11,
    "start_time": "2023-10-30T12:42:27.926Z"
   },
   {
    "duration": 43,
    "start_time": "2023-10-30T12:42:27.939Z"
   },
   {
    "duration": 29,
    "start_time": "2023-10-30T12:42:27.985Z"
   },
   {
    "duration": 66,
    "start_time": "2023-10-30T12:42:28.016Z"
   },
   {
    "duration": 71,
    "start_time": "2023-10-30T12:42:28.084Z"
   },
   {
    "duration": 7,
    "start_time": "2023-10-30T12:42:28.157Z"
   },
   {
    "duration": 28,
    "start_time": "2023-10-30T12:42:28.166Z"
   },
   {
    "duration": 19,
    "start_time": "2023-10-30T12:42:28.196Z"
   },
   {
    "duration": 19,
    "start_time": "2023-10-30T12:42:28.216Z"
   },
   {
    "duration": 32,
    "start_time": "2023-10-30T12:42:28.236Z"
   },
   {
    "duration": 22,
    "start_time": "2023-10-30T12:42:28.270Z"
   },
   {
    "duration": 0,
    "start_time": "2023-10-30T12:42:28.294Z"
   },
   {
    "duration": 0,
    "start_time": "2023-10-30T12:42:28.295Z"
   },
   {
    "duration": 0,
    "start_time": "2023-10-30T12:42:28.296Z"
   },
   {
    "duration": 0,
    "start_time": "2023-10-30T12:42:28.297Z"
   },
   {
    "duration": 0,
    "start_time": "2023-10-30T12:42:28.297Z"
   },
   {
    "duration": 0,
    "start_time": "2023-10-30T12:42:28.298Z"
   },
   {
    "duration": 68,
    "start_time": "2023-10-30T17:29:24.083Z"
   },
   {
    "duration": 10,
    "start_time": "2023-10-30T17:30:33.777Z"
   },
   {
    "duration": 550,
    "start_time": "2023-10-30T17:30:42.536Z"
   },
   {
    "duration": 32,
    "start_time": "2023-10-30T17:30:43.088Z"
   },
   {
    "duration": 18,
    "start_time": "2023-10-30T17:30:43.123Z"
   },
   {
    "duration": 18,
    "start_time": "2023-10-30T17:30:43.145Z"
   },
   {
    "duration": 38,
    "start_time": "2023-10-30T17:30:43.165Z"
   },
   {
    "duration": 4,
    "start_time": "2023-10-30T17:30:43.204Z"
   },
   {
    "duration": 20,
    "start_time": "2023-10-30T17:30:43.209Z"
   },
   {
    "duration": 17,
    "start_time": "2023-10-30T17:30:43.231Z"
   },
   {
    "duration": 33,
    "start_time": "2023-10-30T17:30:43.249Z"
   },
   {
    "duration": 9,
    "start_time": "2023-10-30T17:30:43.284Z"
   },
   {
    "duration": 50,
    "start_time": "2023-10-30T17:30:43.294Z"
   },
   {
    "duration": 11,
    "start_time": "2023-10-30T17:30:43.345Z"
   },
   {
    "duration": 20,
    "start_time": "2023-10-30T17:30:43.358Z"
   },
   {
    "duration": 21,
    "start_time": "2023-10-30T17:30:43.379Z"
   },
   {
    "duration": 20,
    "start_time": "2023-10-30T17:30:43.401Z"
   },
   {
    "duration": 21,
    "start_time": "2023-10-30T17:30:43.423Z"
   },
   {
    "duration": 3,
    "start_time": "2023-10-30T17:30:43.446Z"
   },
   {
    "duration": 16,
    "start_time": "2023-10-30T17:30:43.451Z"
   },
   {
    "duration": 5,
    "start_time": "2023-10-30T17:30:43.469Z"
   },
   {
    "duration": 16,
    "start_time": "2023-10-30T17:30:43.475Z"
   },
   {
    "duration": 18,
    "start_time": "2023-10-30T17:30:43.493Z"
   },
   {
    "duration": 48,
    "start_time": "2023-10-30T17:30:43.513Z"
   },
   {
    "duration": 26,
    "start_time": "2023-10-30T17:30:43.562Z"
   },
   {
    "duration": 24,
    "start_time": "2023-10-30T17:30:43.589Z"
   },
   {
    "duration": 42,
    "start_time": "2023-10-30T17:30:43.614Z"
   },
   {
    "duration": 1730,
    "start_time": "2023-10-30T17:30:43.658Z"
   },
   {
    "duration": 73,
    "start_time": "2023-10-30T17:30:45.390Z"
   },
   {
    "duration": 11,
    "start_time": "2023-10-30T17:30:45.465Z"
   },
   {
    "duration": 35,
    "start_time": "2023-10-30T17:50:22.755Z"
   },
   {
    "duration": 3,
    "start_time": "2023-10-30T17:50:36.681Z"
   },
   {
    "duration": 687,
    "start_time": "2023-10-31T15:02:26.070Z"
   },
   {
    "duration": 20,
    "start_time": "2023-10-31T15:02:26.759Z"
   },
   {
    "duration": 14,
    "start_time": "2023-10-31T15:02:26.781Z"
   },
   {
    "duration": 10,
    "start_time": "2023-10-31T15:02:26.796Z"
   },
   {
    "duration": 45,
    "start_time": "2023-10-31T15:02:26.808Z"
   },
   {
    "duration": 4,
    "start_time": "2023-10-31T15:02:26.854Z"
   },
   {
    "duration": 11,
    "start_time": "2023-10-31T15:02:26.859Z"
   },
   {
    "duration": 3,
    "start_time": "2023-10-31T15:02:26.872Z"
   },
   {
    "duration": 7,
    "start_time": "2023-10-31T15:02:26.877Z"
   },
   {
    "duration": 4,
    "start_time": "2023-10-31T15:02:26.886Z"
   },
   {
    "duration": 55,
    "start_time": "2023-10-31T15:02:26.892Z"
   },
   {
    "duration": 10,
    "start_time": "2023-10-31T15:02:26.948Z"
   },
   {
    "duration": 6,
    "start_time": "2023-10-31T15:02:26.960Z"
   },
   {
    "duration": 11,
    "start_time": "2023-10-31T15:02:26.969Z"
   },
   {
    "duration": 18,
    "start_time": "2023-10-31T15:02:26.982Z"
   },
   {
    "duration": 45,
    "start_time": "2023-10-31T15:02:27.001Z"
   },
   {
    "duration": 4,
    "start_time": "2023-10-31T15:02:27.047Z"
   },
   {
    "duration": 14,
    "start_time": "2023-10-31T15:02:27.052Z"
   },
   {
    "duration": 5,
    "start_time": "2023-10-31T15:02:27.067Z"
   },
   {
    "duration": 2,
    "start_time": "2023-10-31T15:02:27.074Z"
   },
   {
    "duration": 30,
    "start_time": "2023-10-31T15:02:27.078Z"
   },
   {
    "duration": 31,
    "start_time": "2023-10-31T15:02:27.109Z"
   },
   {
    "duration": 24,
    "start_time": "2023-10-31T15:02:27.142Z"
   },
   {
    "duration": 23,
    "start_time": "2023-10-31T15:02:27.168Z"
   },
   {
    "duration": 47,
    "start_time": "2023-10-31T15:02:27.193Z"
   },
   {
    "duration": 1477,
    "start_time": "2023-10-31T15:02:27.242Z"
   },
   {
    "duration": 67,
    "start_time": "2023-10-31T15:02:28.720Z"
   },
   {
    "duration": 11,
    "start_time": "2023-10-31T15:02:28.788Z"
   },
   {
    "duration": 9,
    "start_time": "2023-10-31T15:03:07.808Z"
   },
   {
    "duration": 11,
    "start_time": "2023-10-31T15:03:11.896Z"
   },
   {
    "duration": 11,
    "start_time": "2023-10-31T15:03:35.429Z"
   }
  ],
  "colab": {
   "provenance": []
  },
  "kernelspec": {
   "display_name": "Python 3 (ipykernel)",
   "language": "python",
   "name": "python3"
  },
  "language_info": {
   "codemirror_mode": {
    "name": "ipython",
    "version": 3
   },
   "file_extension": ".py",
   "mimetype": "text/x-python",
   "name": "python",
   "nbconvert_exporter": "python",
   "pygments_lexer": "ipython3",
   "version": "3.12.9"
  },
  "toc": {
   "base_numbering": 1,
   "nav_menu": {},
   "number_sections": true,
   "sideBar": true,
   "skip_h1_title": true,
   "title_cell": "Table of Contents",
   "title_sidebar": "Contents",
   "toc_cell": false,
   "toc_position": {},
   "toc_section_display": true,
   "toc_window_display": false
  }
 },
 "nbformat": 4,
 "nbformat_minor": 5
}
