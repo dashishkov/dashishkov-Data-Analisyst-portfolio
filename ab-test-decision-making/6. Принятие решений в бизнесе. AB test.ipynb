{
 "cells": [
  {
   "cell_type": "markdown",
   "metadata": {},
   "source": [
    "# Принятие решений в бизнесе на основе А/В теста\n",
    "\n",
    "<br>\n",
    "<strong>Описание проекта:</strong>\n",
    "\n",
    "Вы — аналитик крупного интернет-магазина. Вместе с отделом маркетинга вы подготовили список гипотез для увеличения выручки.\n",
    "Приоритизируйте гипотезы, запустите A/B-тест и проанализируйте результаты. "
   ]
  },
  {
   "cell_type": "markdown",
   "metadata": {},
   "source": [
    "<span style=\"font-size: 18px;\"> \n",
    "<strong>\n",
    "    Описание данных\n",
    "</strong>\n",
    "</span>\n",
    "<br><br>\n",
    "<span style=\"font-size: 16px;\"> \n",
    "<strong>\n",
    "    Таблица hypothesis:\n",
    "</strong>\n",
    "</span>\n",
    "<br><br>\n",
    "`Hypothesis` — краткое описание гипотезы;<br>\n",
    "`Reach` — охват пользователей по 10-балльной шкале;<br>\n",
    "`Impact` — влияние на пользователей по 10-балльной шкале;<br>\n",
    "`Confidence` — уверенность в гипотезе по 10-балльной шкале;<br>\n",
    "`Efforts` — затраты ресурсов на проверку гипотезы по 10-балльной шкале. Чем больше значение Efforts, тем дороже проверка гипотезы.<br>\n",
    "<br><br>\n",
    "\n",
    "<span style=\"font-size: 16px;\"> \n",
    "<strong>\n",
    "    Таблица orders: \n",
    "</strong>\n",
    "<br><br>\n",
    "`transactionId` — идентификатор заказа;<br>\n",
    "`visitorId` — идентификатор пользователя, совершившего заказ;<br>\n",
    "`date` — дата, когда был совершён заказ;<br>\n",
    "`revenue` — выручка заказа;<br>\n",
    "`group` — группа A/B-теста, в которую попал заказ.<br>\n",
    "<br><br>    \n",
    "<span style=\"font-size: 16px;\"> \n",
    "<strong>\n",
    "    Таблица visitors: \n",
    "</strong>    \n",
    "<br><br>\n",
    "`date` — дата;<br>\n",
    "`group` — группа A/B-теста;<br>\n",
    "`visitors` — количество пользователей в указанную дату в указанной группе A/B-теста<br>\n"
   ]
  },
  {
   "cell_type": "markdown",
   "metadata": {},
   "source": [
    "<font size=\"4\"><strong>План проекта:</strong></font>\n",
    "\n",
    "1. [Загрузка библиотек](#1)\n",
    "\n",
    "1.1. [Загрузка данных](#2)\n",
    "\n",
    "1.2. [Ознакомимся с таблицей hypothesis](#3)\n",
    "\n",
    "1.3. [Ознакомимся с таблицей orders](#4)\n",
    "\n",
    "1.4. [Ознакомимся с таблицей visitors](#5)\n",
    "\n",
    "1.5. [Предобработка данных](#6)\n",
    "\n",
    "2. [Приоритизация гипотез](#7)\n",
    "\n",
    "2.1. [Применение фреймворка ICE для приоритизации гипотез](#8)\n",
    "\n",
    "2.2. [Применение фреймворка RICE для приоритизации гипотез](#9)\n",
    "\n",
    "3. [Анализ А/В-теста](#10)\n",
    "\n",
    "3.1. [Проверим корректность данных для А/В теста. Построим график кумулятивной выручки по группам.](#11)\n",
    "\n",
    "3.2. [Построим график кумулятивного среднего чека по группам](#12)\n",
    "\n",
    "3.3. [Построим график относительного изменения кумулятивного среднего чека группы B к группе A](#13)\n",
    "\n",
    "3.4. [Построим график кумулятивного среднего количества заказов на посетителя по группам](#14)\n",
    "\n",
    "3.5. [Построим график относительного изменения кумулятивного среднего количества заказов на посетителя группы B к группе A. ](#15)\n",
    "\n",
    "3.6. [Построим точечный график количества заказов по пользователям.](#16)\n",
    "\n",
    "3.7. [Посчитаем 90-й, 95-й и 99-й перцентили количества заказов на пользователя](#17)\n",
    "\n",
    "3.8. [Построим точечный график стоимостей заказов](#18)\n",
    "\n",
    "3.9. [Посчитаем 90-й, 95-й и 99-й перцентили стоимости заказов](#19)\n",
    "\n",
    "3.10. [Посчитаем статистическую значимость различий в среднем количестве заказов на посетителя между группами по \"сырым\" данным](#20)\n",
    "\n",
    "3.11. [Посчитаем статистическую значимость различий в среднем чеке заказа между группами по \"сырым\" данным](#21)\n",
    "\n",
    "3.12. [Посчитаем статистическую значимость различий в среднем количестве заказов на посетителя между группами по \"очищенным\" данным](#22)\n",
    "\n",
    "3.13. [Посчитаем статистическую значимость различий в среднем чеке заказа между группами по \"очищенным\" данным](#23)\n",
    "\n",
    "4. [Примем решение по результатам теста. Сделаем вывод.](#24)"
   ]
  },
  {
   "cell_type": "markdown",
   "metadata": {},
   "source": [
    "<a id='1'></a>\n",
    "#### Загрузка библиотек "
   ]
  },
  {
   "cell_type": "code",
   "execution_count": 1,
   "metadata": {},
   "outputs": [],
   "source": [
    "import time\n",
    "import pandas as pd\n",
    "import numpy as np\n",
    "import seaborn as sns\n",
    "import matplotlib.pyplot as plt\n",
    "import datetime as dt\n",
    "from scipy import stats\n",
    "from pandas.plotting import register_matplotlib_converters\n",
    "import warnings\n",
    "# конвертеры, которые позволяют использовать типы pandas в matplotlib  \n",
    "register_matplotlib_converters()"
   ]
  },
  {
   "cell_type": "code",
   "execution_count": 2,
   "metadata": {},
   "outputs": [],
   "source": [
    "# Установка максимального количества отображаемых столбцов\n",
    "pd.set_option('display.max_columns', None)\n",
    "# Установка ширины стоблцов df\n",
    "pd.options.display.max_colwidth = 400"
   ]
  },
  {
   "cell_type": "markdown",
   "metadata": {},
   "source": [
    "<a id='2'></a>\n",
    "##### Загрузка данных\n"
   ]
  },
  {
   "cell_type": "code",
   "execution_count": 3,
   "metadata": {
    "scrolled": true
   },
   "outputs": [],
   "source": [
    "hypothesis = pd.read_csv('/datasets/hypothesis.csv')\n",
    "orders = pd.read_csv('/datasets/orders.csv')\n",
    "visitors = pd.read_csv('/datasets/visitors.csv')"
   ]
  },
  {
   "cell_type": "markdown",
   "metadata": {},
   "source": [
    "<a id='3'></a>\n",
    "##### Ознакомимся с таблицей hypothesis\n",
    "    \n"
   ]
  },
  {
   "cell_type": "code",
   "execution_count": 4,
   "metadata": {
    "scrolled": true
   },
   "outputs": [
    {
     "name": "stdout",
     "output_type": "stream",
     "text": [
      "<class 'pandas.core.frame.DataFrame'>\n",
      "RangeIndex: 9 entries, 0 to 8\n",
      "Data columns (total 5 columns):\n",
      " #   Column      Non-Null Count  Dtype \n",
      "---  ------      --------------  ----- \n",
      " 0   Hypothesis  9 non-null      object\n",
      " 1   Reach       9 non-null      int64 \n",
      " 2   Impact      9 non-null      int64 \n",
      " 3   Confidence  9 non-null      int64 \n",
      " 4   Efforts     9 non-null      int64 \n",
      "dtypes: int64(4), object(1)\n",
      "memory usage: 488.0+ bytes\n"
     ]
    }
   ],
   "source": [
    "hypothesis.info()"
   ]
  },
  {
   "cell_type": "markdown",
   "metadata": {},
   "source": [
    "Пропущенных данных нет."
   ]
  },
  {
   "cell_type": "code",
   "execution_count": 5,
   "metadata": {
    "scrolled": true
   },
   "outputs": [
    {
     "data": {
      "text/html": [
       "<div>\n",
       "<style scoped>\n",
       "    .dataframe tbody tr th:only-of-type {\n",
       "        vertical-align: middle;\n",
       "    }\n",
       "\n",
       "    .dataframe tbody tr th {\n",
       "        vertical-align: top;\n",
       "    }\n",
       "\n",
       "    .dataframe thead th {\n",
       "        text-align: right;\n",
       "    }\n",
       "</style>\n",
       "<table border=\"1\" class=\"dataframe\">\n",
       "  <thead>\n",
       "    <tr style=\"text-align: right;\">\n",
       "      <th></th>\n",
       "      <th>Hypothesis</th>\n",
       "      <th>Reach</th>\n",
       "      <th>Impact</th>\n",
       "      <th>Confidence</th>\n",
       "      <th>Efforts</th>\n",
       "    </tr>\n",
       "  </thead>\n",
       "  <tbody>\n",
       "    <tr>\n",
       "      <th>0</th>\n",
       "      <td>Добавить два новых канала привлечения трафика, что позволит привлекать на 30% больше пользователей</td>\n",
       "      <td>3</td>\n",
       "      <td>10</td>\n",
       "      <td>8</td>\n",
       "      <td>6</td>\n",
       "    </tr>\n",
       "    <tr>\n",
       "      <th>1</th>\n",
       "      <td>Запустить собственную службу доставки, что сократит срок доставки заказов</td>\n",
       "      <td>2</td>\n",
       "      <td>5</td>\n",
       "      <td>4</td>\n",
       "      <td>10</td>\n",
       "    </tr>\n",
       "    <tr>\n",
       "      <th>2</th>\n",
       "      <td>Добавить блоки рекомендаций товаров на сайт интернет магазина, чтобы повысить конверсию и средний чек заказа</td>\n",
       "      <td>8</td>\n",
       "      <td>3</td>\n",
       "      <td>7</td>\n",
       "      <td>3</td>\n",
       "    </tr>\n",
       "    <tr>\n",
       "      <th>3</th>\n",
       "      <td>Изменить структура категорий, что увеличит конверсию, т.к. пользователи быстрее найдут нужный товар</td>\n",
       "      <td>8</td>\n",
       "      <td>3</td>\n",
       "      <td>3</td>\n",
       "      <td>8</td>\n",
       "    </tr>\n",
       "    <tr>\n",
       "      <th>4</th>\n",
       "      <td>Изменить цвет фона главной страницы, чтобы увеличить вовлеченность пользователей</td>\n",
       "      <td>3</td>\n",
       "      <td>1</td>\n",
       "      <td>1</td>\n",
       "      <td>1</td>\n",
       "    </tr>\n",
       "    <tr>\n",
       "      <th>5</th>\n",
       "      <td>Добавить страницу отзывов клиентов о магазине, что позволит увеличить количество заказов</td>\n",
       "      <td>3</td>\n",
       "      <td>2</td>\n",
       "      <td>2</td>\n",
       "      <td>3</td>\n",
       "    </tr>\n",
       "    <tr>\n",
       "      <th>6</th>\n",
       "      <td>Показать на главной странице баннеры с актуальными акциями и распродажами, чтобы увеличить конверсию</td>\n",
       "      <td>5</td>\n",
       "      <td>3</td>\n",
       "      <td>8</td>\n",
       "      <td>3</td>\n",
       "    </tr>\n",
       "    <tr>\n",
       "      <th>7</th>\n",
       "      <td>Добавить форму подписки на все основные страницы, чтобы собрать базу клиентов для email-рассылок</td>\n",
       "      <td>10</td>\n",
       "      <td>7</td>\n",
       "      <td>8</td>\n",
       "      <td>5</td>\n",
       "    </tr>\n",
       "    <tr>\n",
       "      <th>8</th>\n",
       "      <td>Запустить акцию, дающую скидку на товар в день рождения</td>\n",
       "      <td>1</td>\n",
       "      <td>9</td>\n",
       "      <td>9</td>\n",
       "      <td>5</td>\n",
       "    </tr>\n",
       "  </tbody>\n",
       "</table>\n",
       "</div>"
      ],
      "text/plain": [
       "                                                                                                     Hypothesis  \\\n",
       "0            Добавить два новых канала привлечения трафика, что позволит привлекать на 30% больше пользователей   \n",
       "1                                     Запустить собственную службу доставки, что сократит срок доставки заказов   \n",
       "2  Добавить блоки рекомендаций товаров на сайт интернет магазина, чтобы повысить конверсию и средний чек заказа   \n",
       "3           Изменить структура категорий, что увеличит конверсию, т.к. пользователи быстрее найдут нужный товар   \n",
       "4                              Изменить цвет фона главной страницы, чтобы увеличить вовлеченность пользователей   \n",
       "5                      Добавить страницу отзывов клиентов о магазине, что позволит увеличить количество заказов   \n",
       "6          Показать на главной странице баннеры с актуальными акциями и распродажами, чтобы увеличить конверсию   \n",
       "7              Добавить форму подписки на все основные страницы, чтобы собрать базу клиентов для email-рассылок   \n",
       "8                                                       Запустить акцию, дающую скидку на товар в день рождения   \n",
       "\n",
       "   Reach  Impact  Confidence  Efforts  \n",
       "0      3      10           8        6  \n",
       "1      2       5           4       10  \n",
       "2      8       3           7        3  \n",
       "3      8       3           3        8  \n",
       "4      3       1           1        1  \n",
       "5      3       2           2        3  \n",
       "6      5       3           8        3  \n",
       "7     10       7           8        5  \n",
       "8      1       9           9        5  "
      ]
     },
     "execution_count": 5,
     "metadata": {},
     "output_type": "execute_result"
    }
   ],
   "source": [
    "hypothesis"
   ]
  },
  {
   "cell_type": "markdown",
   "metadata": {},
   "source": [
    "Требуется привести названия столбцов к нижнему регистру, в качестве правила хорошего стиля."
   ]
  },
  {
   "cell_type": "code",
   "execution_count": 6,
   "metadata": {},
   "outputs": [
    {
     "name": "stdout",
     "output_type": "stream",
     "text": [
      "Общее количество явных дубликатов в таблице visits: 0\n"
     ]
    }
   ],
   "source": [
    "print(f'Общее количество явных дубликатов в таблице visits: {hypothesis.duplicated().sum()}')"
   ]
  },
  {
   "cell_type": "markdown",
   "metadata": {},
   "source": [
    "<a id='4'></a>\n",
    "##### Ознакомимся с таблицей orders"
   ]
  },
  {
   "cell_type": "code",
   "execution_count": 7,
   "metadata": {},
   "outputs": [
    {
     "name": "stdout",
     "output_type": "stream",
     "text": [
      "<class 'pandas.core.frame.DataFrame'>\n",
      "RangeIndex: 1197 entries, 0 to 1196\n",
      "Data columns (total 5 columns):\n",
      " #   Column         Non-Null Count  Dtype \n",
      "---  ------         --------------  ----- \n",
      " 0   transactionId  1197 non-null   int64 \n",
      " 1   visitorId      1197 non-null   int64 \n",
      " 2   date           1197 non-null   object\n",
      " 3   revenue        1197 non-null   int64 \n",
      " 4   group          1197 non-null   object\n",
      "dtypes: int64(3), object(2)\n",
      "memory usage: 46.9+ KB\n"
     ]
    }
   ],
   "source": [
    "orders.info()"
   ]
  },
  {
   "cell_type": "markdown",
   "metadata": {},
   "source": [
    "Пропусков в данных нет. Столбец date требует преобразования типа данных к datetime."
   ]
  },
  {
   "cell_type": "code",
   "execution_count": 8,
   "metadata": {},
   "outputs": [
    {
     "data": {
      "text/html": [
       "<div>\n",
       "<style scoped>\n",
       "    .dataframe tbody tr th:only-of-type {\n",
       "        vertical-align: middle;\n",
       "    }\n",
       "\n",
       "    .dataframe tbody tr th {\n",
       "        vertical-align: top;\n",
       "    }\n",
       "\n",
       "    .dataframe thead th {\n",
       "        text-align: right;\n",
       "    }\n",
       "</style>\n",
       "<table border=\"1\" class=\"dataframe\">\n",
       "  <thead>\n",
       "    <tr style=\"text-align: right;\">\n",
       "      <th></th>\n",
       "      <th>transactionId</th>\n",
       "      <th>visitorId</th>\n",
       "      <th>date</th>\n",
       "      <th>revenue</th>\n",
       "      <th>group</th>\n",
       "    </tr>\n",
       "  </thead>\n",
       "  <tbody>\n",
       "    <tr>\n",
       "      <th>0</th>\n",
       "      <td>3667963787</td>\n",
       "      <td>3312258926</td>\n",
       "      <td>2019-08-15</td>\n",
       "      <td>1650</td>\n",
       "      <td>B</td>\n",
       "    </tr>\n",
       "    <tr>\n",
       "      <th>1</th>\n",
       "      <td>2804400009</td>\n",
       "      <td>3642806036</td>\n",
       "      <td>2019-08-15</td>\n",
       "      <td>730</td>\n",
       "      <td>B</td>\n",
       "    </tr>\n",
       "    <tr>\n",
       "      <th>2</th>\n",
       "      <td>2961555356</td>\n",
       "      <td>4069496402</td>\n",
       "      <td>2019-08-15</td>\n",
       "      <td>400</td>\n",
       "      <td>A</td>\n",
       "    </tr>\n",
       "    <tr>\n",
       "      <th>3</th>\n",
       "      <td>3797467345</td>\n",
       "      <td>1196621759</td>\n",
       "      <td>2019-08-15</td>\n",
       "      <td>9759</td>\n",
       "      <td>B</td>\n",
       "    </tr>\n",
       "    <tr>\n",
       "      <th>4</th>\n",
       "      <td>2282983706</td>\n",
       "      <td>2322279887</td>\n",
       "      <td>2019-08-15</td>\n",
       "      <td>2308</td>\n",
       "      <td>B</td>\n",
       "    </tr>\n",
       "    <tr>\n",
       "      <th>...</th>\n",
       "      <td>...</td>\n",
       "      <td>...</td>\n",
       "      <td>...</td>\n",
       "      <td>...</td>\n",
       "      <td>...</td>\n",
       "    </tr>\n",
       "    <tr>\n",
       "      <th>1192</th>\n",
       "      <td>2662137336</td>\n",
       "      <td>3733762160</td>\n",
       "      <td>2019-08-14</td>\n",
       "      <td>6490</td>\n",
       "      <td>B</td>\n",
       "    </tr>\n",
       "    <tr>\n",
       "      <th>1193</th>\n",
       "      <td>2203539145</td>\n",
       "      <td>370388673</td>\n",
       "      <td>2019-08-14</td>\n",
       "      <td>3190</td>\n",
       "      <td>A</td>\n",
       "    </tr>\n",
       "    <tr>\n",
       "      <th>1194</th>\n",
       "      <td>1807773912</td>\n",
       "      <td>573423106</td>\n",
       "      <td>2019-08-14</td>\n",
       "      <td>10550</td>\n",
       "      <td>A</td>\n",
       "    </tr>\n",
       "    <tr>\n",
       "      <th>1195</th>\n",
       "      <td>1947021204</td>\n",
       "      <td>1614305549</td>\n",
       "      <td>2019-08-14</td>\n",
       "      <td>100</td>\n",
       "      <td>A</td>\n",
       "    </tr>\n",
       "    <tr>\n",
       "      <th>1196</th>\n",
       "      <td>3936777065</td>\n",
       "      <td>2108080724</td>\n",
       "      <td>2019-08-15</td>\n",
       "      <td>202740</td>\n",
       "      <td>B</td>\n",
       "    </tr>\n",
       "  </tbody>\n",
       "</table>\n",
       "<p>1197 rows × 5 columns</p>\n",
       "</div>"
      ],
      "text/plain": [
       "      transactionId   visitorId        date  revenue group\n",
       "0        3667963787  3312258926  2019-08-15     1650     B\n",
       "1        2804400009  3642806036  2019-08-15      730     B\n",
       "2        2961555356  4069496402  2019-08-15      400     A\n",
       "3        3797467345  1196621759  2019-08-15     9759     B\n",
       "4        2282983706  2322279887  2019-08-15     2308     B\n",
       "...             ...         ...         ...      ...   ...\n",
       "1192     2662137336  3733762160  2019-08-14     6490     B\n",
       "1193     2203539145   370388673  2019-08-14     3190     A\n",
       "1194     1807773912   573423106  2019-08-14    10550     A\n",
       "1195     1947021204  1614305549  2019-08-14      100     A\n",
       "1196     3936777065  2108080724  2019-08-15   202740     B\n",
       "\n",
       "[1197 rows x 5 columns]"
      ]
     },
     "execution_count": 8,
     "metadata": {},
     "output_type": "execute_result"
    }
   ],
   "source": [
    "orders"
   ]
  },
  {
   "cell_type": "code",
   "execution_count": 9,
   "metadata": {},
   "outputs": [
    {
     "name": "stdout",
     "output_type": "stream",
     "text": [
      "Общее количество явных дубликатов в таблице visits: 0\n"
     ]
    }
   ],
   "source": [
    "print(f'Общее количество явных дубликатов в таблице visits: {orders.duplicated().sum()}')"
   ]
  },
  {
   "cell_type": "markdown",
   "metadata": {},
   "source": [
    "<a id='5'></a>\n",
    "##### Ознакомимся с таблицей  visitors"
   ]
  },
  {
   "cell_type": "code",
   "execution_count": 10,
   "metadata": {},
   "outputs": [
    {
     "name": "stdout",
     "output_type": "stream",
     "text": [
      "<class 'pandas.core.frame.DataFrame'>\n",
      "RangeIndex: 62 entries, 0 to 61\n",
      "Data columns (total 3 columns):\n",
      " #   Column    Non-Null Count  Dtype \n",
      "---  ------    --------------  ----- \n",
      " 0   date      62 non-null     object\n",
      " 1   group     62 non-null     object\n",
      " 2   visitors  62 non-null     int64 \n",
      "dtypes: int64(1), object(2)\n",
      "memory usage: 1.6+ KB\n"
     ]
    }
   ],
   "source": [
    "visitors.info()"
   ]
  },
  {
   "cell_type": "markdown",
   "metadata": {},
   "source": [
    "Пропущенных значений нет. Столбец date требует преобразования типа данных к datetime."
   ]
  },
  {
   "cell_type": "code",
   "execution_count": 11,
   "metadata": {},
   "outputs": [
    {
     "data": {
      "text/html": [
       "<div>\n",
       "<style scoped>\n",
       "    .dataframe tbody tr th:only-of-type {\n",
       "        vertical-align: middle;\n",
       "    }\n",
       "\n",
       "    .dataframe tbody tr th {\n",
       "        vertical-align: top;\n",
       "    }\n",
       "\n",
       "    .dataframe thead th {\n",
       "        text-align: right;\n",
       "    }\n",
       "</style>\n",
       "<table border=\"1\" class=\"dataframe\">\n",
       "  <thead>\n",
       "    <tr style=\"text-align: right;\">\n",
       "      <th></th>\n",
       "      <th>date</th>\n",
       "      <th>group</th>\n",
       "      <th>visitors</th>\n",
       "    </tr>\n",
       "  </thead>\n",
       "  <tbody>\n",
       "    <tr>\n",
       "      <th>0</th>\n",
       "      <td>2019-08-01</td>\n",
       "      <td>A</td>\n",
       "      <td>719</td>\n",
       "    </tr>\n",
       "    <tr>\n",
       "      <th>1</th>\n",
       "      <td>2019-08-02</td>\n",
       "      <td>A</td>\n",
       "      <td>619</td>\n",
       "    </tr>\n",
       "    <tr>\n",
       "      <th>2</th>\n",
       "      <td>2019-08-03</td>\n",
       "      <td>A</td>\n",
       "      <td>507</td>\n",
       "    </tr>\n",
       "    <tr>\n",
       "      <th>3</th>\n",
       "      <td>2019-08-04</td>\n",
       "      <td>A</td>\n",
       "      <td>717</td>\n",
       "    </tr>\n",
       "    <tr>\n",
       "      <th>4</th>\n",
       "      <td>2019-08-05</td>\n",
       "      <td>A</td>\n",
       "      <td>756</td>\n",
       "    </tr>\n",
       "    <tr>\n",
       "      <th>...</th>\n",
       "      <td>...</td>\n",
       "      <td>...</td>\n",
       "      <td>...</td>\n",
       "    </tr>\n",
       "    <tr>\n",
       "      <th>57</th>\n",
       "      <td>2019-08-27</td>\n",
       "      <td>B</td>\n",
       "      <td>720</td>\n",
       "    </tr>\n",
       "    <tr>\n",
       "      <th>58</th>\n",
       "      <td>2019-08-28</td>\n",
       "      <td>B</td>\n",
       "      <td>654</td>\n",
       "    </tr>\n",
       "    <tr>\n",
       "      <th>59</th>\n",
       "      <td>2019-08-29</td>\n",
       "      <td>B</td>\n",
       "      <td>531</td>\n",
       "    </tr>\n",
       "    <tr>\n",
       "      <th>60</th>\n",
       "      <td>2019-08-30</td>\n",
       "      <td>B</td>\n",
       "      <td>490</td>\n",
       "    </tr>\n",
       "    <tr>\n",
       "      <th>61</th>\n",
       "      <td>2019-08-31</td>\n",
       "      <td>B</td>\n",
       "      <td>718</td>\n",
       "    </tr>\n",
       "  </tbody>\n",
       "</table>\n",
       "<p>62 rows × 3 columns</p>\n",
       "</div>"
      ],
      "text/plain": [
       "          date group  visitors\n",
       "0   2019-08-01     A       719\n",
       "1   2019-08-02     A       619\n",
       "2   2019-08-03     A       507\n",
       "3   2019-08-04     A       717\n",
       "4   2019-08-05     A       756\n",
       "..         ...   ...       ...\n",
       "57  2019-08-27     B       720\n",
       "58  2019-08-28     B       654\n",
       "59  2019-08-29     B       531\n",
       "60  2019-08-30     B       490\n",
       "61  2019-08-31     B       718\n",
       "\n",
       "[62 rows x 3 columns]"
      ]
     },
     "execution_count": 11,
     "metadata": {},
     "output_type": "execute_result"
    }
   ],
   "source": [
    "visitors"
   ]
  },
  {
   "cell_type": "code",
   "execution_count": 12,
   "metadata": {},
   "outputs": [
    {
     "name": "stdout",
     "output_type": "stream",
     "text": [
      "Общее количество явных дубликатов в таблице visits: 0\n"
     ]
    }
   ],
   "source": [
    "print(f'Общее количество явных дубликатов в таблице visits: {visitors.duplicated().sum()}')"
   ]
  },
  {
   "cell_type": "markdown",
   "metadata": {},
   "source": [
    "<a id='6'></a>\n",
    "##### Предобработка данных"
   ]
  },
  {
   "cell_type": "code",
   "execution_count": 13,
   "metadata": {},
   "outputs": [],
   "source": [
    "# Приведение названия столбцов к нижнему регистру\n",
    "hypothesis.columns = hypothesis.columns.str.lower()\n",
    "# Преобразование date к типу данных к datetime\n",
    "orders['date'] = pd.to_datetime(orders['date'])\n",
    "visitors['date'] = pd.to_datetime(visitors['date'])"
   ]
  },
  {
   "cell_type": "markdown",
   "metadata": {},
   "source": [
    "<span style=\"font-size: 15px;\"> \n",
    "<strong>\n",
    "    Вывод: ознакомились с данными, сделали предобработку данных для дальнейшей работы.\n",
    "</strong>\n",
    "</span>"
   ]
  },
  {
   "cell_type": "markdown",
   "metadata": {},
   "source": [
    "<a id='7'></a>\n",
    "#### Приоритизация гипотез"
   ]
  },
  {
   "cell_type": "markdown",
   "metadata": {},
   "source": [
    "<a id='8'></a>\n",
    "#####  Применение фреймворка ICE для приоритизации гипотез"
   ]
  },
  {
   "cell_type": "markdown",
   "metadata": {},
   "source": [
    "ICE — это метод приоритизации гипотез. Аббревиатура включает 3 фактора, которые аналитик может смело использовать для оценки и приоритизации гипотез:\n",
    "\n",
    "    Impact — влияние\n",
    "    Confidence — уверенность в вашей оценке охвата, влияния и трудозатрат\n",
    "    Effort — трудозатраты"
   ]
  },
  {
   "cell_type": "code",
   "execution_count": 14,
   "metadata": {
    "scrolled": true
   },
   "outputs": [
    {
     "data": {
      "text/html": [
       "<div>\n",
       "<style scoped>\n",
       "    .dataframe tbody tr th:only-of-type {\n",
       "        vertical-align: middle;\n",
       "    }\n",
       "\n",
       "    .dataframe tbody tr th {\n",
       "        vertical-align: top;\n",
       "    }\n",
       "\n",
       "    .dataframe thead th {\n",
       "        text-align: right;\n",
       "    }\n",
       "</style>\n",
       "<table border=\"1\" class=\"dataframe\">\n",
       "  <thead>\n",
       "    <tr style=\"text-align: right;\">\n",
       "      <th></th>\n",
       "      <th>hypothesis</th>\n",
       "      <th>reach</th>\n",
       "      <th>impact</th>\n",
       "      <th>confidence</th>\n",
       "      <th>efforts</th>\n",
       "      <th>ice</th>\n",
       "    </tr>\n",
       "  </thead>\n",
       "  <tbody>\n",
       "    <tr>\n",
       "      <th>8</th>\n",
       "      <td>Запустить акцию, дающую скидку на товар в день рождения</td>\n",
       "      <td>1</td>\n",
       "      <td>9</td>\n",
       "      <td>9</td>\n",
       "      <td>5</td>\n",
       "      <td>16.200000</td>\n",
       "    </tr>\n",
       "    <tr>\n",
       "      <th>0</th>\n",
       "      <td>Добавить два новых канала привлечения трафика, что позволит привлекать на 30% больше пользователей</td>\n",
       "      <td>3</td>\n",
       "      <td>10</td>\n",
       "      <td>8</td>\n",
       "      <td>6</td>\n",
       "      <td>13.333333</td>\n",
       "    </tr>\n",
       "    <tr>\n",
       "      <th>7</th>\n",
       "      <td>Добавить форму подписки на все основные страницы, чтобы собрать базу клиентов для email-рассылок</td>\n",
       "      <td>10</td>\n",
       "      <td>7</td>\n",
       "      <td>8</td>\n",
       "      <td>5</td>\n",
       "      <td>11.200000</td>\n",
       "    </tr>\n",
       "    <tr>\n",
       "      <th>6</th>\n",
       "      <td>Показать на главной странице баннеры с актуальными акциями и распродажами, чтобы увеличить конверсию</td>\n",
       "      <td>5</td>\n",
       "      <td>3</td>\n",
       "      <td>8</td>\n",
       "      <td>3</td>\n",
       "      <td>8.000000</td>\n",
       "    </tr>\n",
       "    <tr>\n",
       "      <th>2</th>\n",
       "      <td>Добавить блоки рекомендаций товаров на сайт интернет магазина, чтобы повысить конверсию и средний чек заказа</td>\n",
       "      <td>8</td>\n",
       "      <td>3</td>\n",
       "      <td>7</td>\n",
       "      <td>3</td>\n",
       "      <td>7.000000</td>\n",
       "    </tr>\n",
       "    <tr>\n",
       "      <th>1</th>\n",
       "      <td>Запустить собственную службу доставки, что сократит срок доставки заказов</td>\n",
       "      <td>2</td>\n",
       "      <td>5</td>\n",
       "      <td>4</td>\n",
       "      <td>10</td>\n",
       "      <td>2.000000</td>\n",
       "    </tr>\n",
       "    <tr>\n",
       "      <th>5</th>\n",
       "      <td>Добавить страницу отзывов клиентов о магазине, что позволит увеличить количество заказов</td>\n",
       "      <td>3</td>\n",
       "      <td>2</td>\n",
       "      <td>2</td>\n",
       "      <td>3</td>\n",
       "      <td>1.333333</td>\n",
       "    </tr>\n",
       "    <tr>\n",
       "      <th>3</th>\n",
       "      <td>Изменить структура категорий, что увеличит конверсию, т.к. пользователи быстрее найдут нужный товар</td>\n",
       "      <td>8</td>\n",
       "      <td>3</td>\n",
       "      <td>3</td>\n",
       "      <td>8</td>\n",
       "      <td>1.125000</td>\n",
       "    </tr>\n",
       "    <tr>\n",
       "      <th>4</th>\n",
       "      <td>Изменить цвет фона главной страницы, чтобы увеличить вовлеченность пользователей</td>\n",
       "      <td>3</td>\n",
       "      <td>1</td>\n",
       "      <td>1</td>\n",
       "      <td>1</td>\n",
       "      <td>1.000000</td>\n",
       "    </tr>\n",
       "  </tbody>\n",
       "</table>\n",
       "</div>"
      ],
      "text/plain": [
       "                                                                                                     hypothesis  \\\n",
       "8                                                       Запустить акцию, дающую скидку на товар в день рождения   \n",
       "0            Добавить два новых канала привлечения трафика, что позволит привлекать на 30% больше пользователей   \n",
       "7              Добавить форму подписки на все основные страницы, чтобы собрать базу клиентов для email-рассылок   \n",
       "6          Показать на главной странице баннеры с актуальными акциями и распродажами, чтобы увеличить конверсию   \n",
       "2  Добавить блоки рекомендаций товаров на сайт интернет магазина, чтобы повысить конверсию и средний чек заказа   \n",
       "1                                     Запустить собственную службу доставки, что сократит срок доставки заказов   \n",
       "5                      Добавить страницу отзывов клиентов о магазине, что позволит увеличить количество заказов   \n",
       "3           Изменить структура категорий, что увеличит конверсию, т.к. пользователи быстрее найдут нужный товар   \n",
       "4                              Изменить цвет фона главной страницы, чтобы увеличить вовлеченность пользователей   \n",
       "\n",
       "   reach  impact  confidence  efforts        ice  \n",
       "8      1       9           9        5  16.200000  \n",
       "0      3      10           8        6  13.333333  \n",
       "7     10       7           8        5  11.200000  \n",
       "6      5       3           8        3   8.000000  \n",
       "2      8       3           7        3   7.000000  \n",
       "1      2       5           4       10   2.000000  \n",
       "5      3       2           2        3   1.333333  \n",
       "3      8       3           3        8   1.125000  \n",
       "4      3       1           1        1   1.000000  "
      ]
     },
     "execution_count": 14,
     "metadata": {},
     "output_type": "execute_result"
    }
   ],
   "source": [
    "hypothesis['ice'] = hypothesis['impact'] * hypothesis['confidence'] / hypothesis['efforts']\n",
    "hypothesis.sort_values('ice', ascending = False)"
   ]
  },
  {
   "cell_type": "markdown",
   "metadata": {},
   "source": [
    "Согласно ICE первое место занимает гипотеза номер 8, второе гипотеза 0, третье 7."
   ]
  },
  {
   "cell_type": "markdown",
   "metadata": {},
   "source": [
    "<a id='9'></a>\n",
    "#####  Применение фреймворка RICE для приоритизации гипотез"
   ]
  },
  {
   "cell_type": "markdown",
   "metadata": {},
   "source": [
    "RICE — это метод приоритизации гипотез. Аббревиатура включает 4 фактора, которые аналитик может смело использовать для оценки и приоритизации гипотез:\n",
    "\n",
    "    Reach — это охват\n",
    "    Impact — влияние\n",
    "    Confidence — уверенность в вашей оценке охвата, влияния и трудозатрат\n",
    "    Effort — трудозатраты\n"
   ]
  },
  {
   "cell_type": "code",
   "execution_count": 15,
   "metadata": {
    "scrolled": true
   },
   "outputs": [
    {
     "data": {
      "text/html": [
       "<div>\n",
       "<style scoped>\n",
       "    .dataframe tbody tr th:only-of-type {\n",
       "        vertical-align: middle;\n",
       "    }\n",
       "\n",
       "    .dataframe tbody tr th {\n",
       "        vertical-align: top;\n",
       "    }\n",
       "\n",
       "    .dataframe thead th {\n",
       "        text-align: right;\n",
       "    }\n",
       "</style>\n",
       "<table border=\"1\" class=\"dataframe\">\n",
       "  <thead>\n",
       "    <tr style=\"text-align: right;\">\n",
       "      <th></th>\n",
       "      <th>hypothesis</th>\n",
       "      <th>reach</th>\n",
       "      <th>impact</th>\n",
       "      <th>confidence</th>\n",
       "      <th>efforts</th>\n",
       "      <th>ice</th>\n",
       "      <th>rice</th>\n",
       "    </tr>\n",
       "  </thead>\n",
       "  <tbody>\n",
       "    <tr>\n",
       "      <th>7</th>\n",
       "      <td>Добавить форму подписки на все основные страницы, чтобы собрать базу клиентов для email-рассылок</td>\n",
       "      <td>10</td>\n",
       "      <td>7</td>\n",
       "      <td>8</td>\n",
       "      <td>5</td>\n",
       "      <td>11.200000</td>\n",
       "      <td>112.0</td>\n",
       "    </tr>\n",
       "    <tr>\n",
       "      <th>2</th>\n",
       "      <td>Добавить блоки рекомендаций товаров на сайт интернет магазина, чтобы повысить конверсию и средний чек заказа</td>\n",
       "      <td>8</td>\n",
       "      <td>3</td>\n",
       "      <td>7</td>\n",
       "      <td>3</td>\n",
       "      <td>7.000000</td>\n",
       "      <td>56.0</td>\n",
       "    </tr>\n",
       "    <tr>\n",
       "      <th>0</th>\n",
       "      <td>Добавить два новых канала привлечения трафика, что позволит привлекать на 30% больше пользователей</td>\n",
       "      <td>3</td>\n",
       "      <td>10</td>\n",
       "      <td>8</td>\n",
       "      <td>6</td>\n",
       "      <td>13.333333</td>\n",
       "      <td>40.0</td>\n",
       "    </tr>\n",
       "    <tr>\n",
       "      <th>6</th>\n",
       "      <td>Показать на главной странице баннеры с актуальными акциями и распродажами, чтобы увеличить конверсию</td>\n",
       "      <td>5</td>\n",
       "      <td>3</td>\n",
       "      <td>8</td>\n",
       "      <td>3</td>\n",
       "      <td>8.000000</td>\n",
       "      <td>40.0</td>\n",
       "    </tr>\n",
       "    <tr>\n",
       "      <th>8</th>\n",
       "      <td>Запустить акцию, дающую скидку на товар в день рождения</td>\n",
       "      <td>1</td>\n",
       "      <td>9</td>\n",
       "      <td>9</td>\n",
       "      <td>5</td>\n",
       "      <td>16.200000</td>\n",
       "      <td>16.2</td>\n",
       "    </tr>\n",
       "    <tr>\n",
       "      <th>3</th>\n",
       "      <td>Изменить структура категорий, что увеличит конверсию, т.к. пользователи быстрее найдут нужный товар</td>\n",
       "      <td>8</td>\n",
       "      <td>3</td>\n",
       "      <td>3</td>\n",
       "      <td>8</td>\n",
       "      <td>1.125000</td>\n",
       "      <td>9.0</td>\n",
       "    </tr>\n",
       "    <tr>\n",
       "      <th>1</th>\n",
       "      <td>Запустить собственную службу доставки, что сократит срок доставки заказов</td>\n",
       "      <td>2</td>\n",
       "      <td>5</td>\n",
       "      <td>4</td>\n",
       "      <td>10</td>\n",
       "      <td>2.000000</td>\n",
       "      <td>4.0</td>\n",
       "    </tr>\n",
       "    <tr>\n",
       "      <th>5</th>\n",
       "      <td>Добавить страницу отзывов клиентов о магазине, что позволит увеличить количество заказов</td>\n",
       "      <td>3</td>\n",
       "      <td>2</td>\n",
       "      <td>2</td>\n",
       "      <td>3</td>\n",
       "      <td>1.333333</td>\n",
       "      <td>4.0</td>\n",
       "    </tr>\n",
       "    <tr>\n",
       "      <th>4</th>\n",
       "      <td>Изменить цвет фона главной страницы, чтобы увеличить вовлеченность пользователей</td>\n",
       "      <td>3</td>\n",
       "      <td>1</td>\n",
       "      <td>1</td>\n",
       "      <td>1</td>\n",
       "      <td>1.000000</td>\n",
       "      <td>3.0</td>\n",
       "    </tr>\n",
       "  </tbody>\n",
       "</table>\n",
       "</div>"
      ],
      "text/plain": [
       "                                                                                                     hypothesis  \\\n",
       "7              Добавить форму подписки на все основные страницы, чтобы собрать базу клиентов для email-рассылок   \n",
       "2  Добавить блоки рекомендаций товаров на сайт интернет магазина, чтобы повысить конверсию и средний чек заказа   \n",
       "0            Добавить два новых канала привлечения трафика, что позволит привлекать на 30% больше пользователей   \n",
       "6          Показать на главной странице баннеры с актуальными акциями и распродажами, чтобы увеличить конверсию   \n",
       "8                                                       Запустить акцию, дающую скидку на товар в день рождения   \n",
       "3           Изменить структура категорий, что увеличит конверсию, т.к. пользователи быстрее найдут нужный товар   \n",
       "1                                     Запустить собственную службу доставки, что сократит срок доставки заказов   \n",
       "5                      Добавить страницу отзывов клиентов о магазине, что позволит увеличить количество заказов   \n",
       "4                              Изменить цвет фона главной страницы, чтобы увеличить вовлеченность пользователей   \n",
       "\n",
       "   reach  impact  confidence  efforts        ice   rice  \n",
       "7     10       7           8        5  11.200000  112.0  \n",
       "2      8       3           7        3   7.000000   56.0  \n",
       "0      3      10           8        6  13.333333   40.0  \n",
       "6      5       3           8        3   8.000000   40.0  \n",
       "8      1       9           9        5  16.200000   16.2  \n",
       "3      8       3           3        8   1.125000    9.0  \n",
       "1      2       5           4       10   2.000000    4.0  \n",
       "5      3       2           2        3   1.333333    4.0  \n",
       "4      3       1           1        1   1.000000    3.0  "
      ]
     },
     "execution_count": 15,
     "metadata": {},
     "output_type": "execute_result"
    }
   ],
   "source": [
    "hypothesis['rice'] = hypothesis['reach'] * hypothesis['impact'] * hypothesis['confidence'] / hypothesis['efforts']\n",
    "hypothesis.sort_values('rice', ascending = False)"
   ]
  },
  {
   "cell_type": "markdown",
   "metadata": {},
   "source": [
    "Тройка лидеров изменилась, согласно фреймворку RICE теперь на первом месте гипотеза 7, втрое место у гипотезы 2, третье у 0."
   ]
  },
  {
   "cell_type": "markdown",
   "metadata": {},
   "source": [
    "<span style=\"font-size: 15px;\"> \n",
    "<strong>\n",
    "    Вывод: после изучения приоритизации фреймворков мы получили разные данные. Первые пять мест занимали гипотезы: 8, 0, 7, 6, 2. При применение Rice в пятерке лидеров остались те же, но пятерка изменила конфигурацию: 7, 2, 0, 6, 8. Это произошло из-за того что reach добавился в делимое и в 10 раз увеличил ice. reach учитывает количество пользователей, которые будут затронуты изменением. Если выбирать между двумя фреймворками, то я бы предпочел rice. Rice учитывает охват пользователей, что не мало важно для увеличения выручки интернет-магазина.\n",
    "</strong>\n",
    "</span>"
   ]
  },
  {
   "cell_type": "markdown",
   "metadata": {},
   "source": [
    "<a id='10'></a>\n",
    "#### Анализ A/B-теста"
   ]
  },
  {
   "cell_type": "markdown",
   "metadata": {},
   "source": [
    "<a id='11'></a>\n",
    "##### \tПроверим корректность данных для А/В теста. Построим график кумулятивной выручки по группам."
   ]
  },
  {
   "cell_type": "code",
   "execution_count": 16,
   "metadata": {},
   "outputs": [
    {
     "name": "stdout",
     "output_type": "stream",
     "text": [
      "Всего покупателей до: 1197\n",
      "Покупателей в группе А до очистки: 557\n",
      "Покупателей в группе B до очистки: 640\n",
      "\n",
      "Всего покупателей после: 1016\n",
      "Покупателей в группе А после очистки: 468\n",
      "Покупателей в группе B после очистки: 548\n"
     ]
    }
   ],
   "source": [
    "# Для начала проверим есть ли в нашей выборке покупатели, которые перекрестно попали в обе тестовые группы\n",
    "# Сначала сгруппируем данные по таблицам для расчета покупателей и посетителей по дням и группам\n",
    "group1 = orders.groupby(['date', 'group'])['visitorId'].count()\n",
    "group2 = visitors.groupby(['date', 'group'])['visitors'].sum()\n",
    "\n",
    "# Создадим временные переменные для фильтрации в заказах тех id, которые состоят более чем в одной группе\n",
    "temp = orders.groupby('visitorId')['group'].nunique().reset_index().sort_values('visitorId')\n",
    "temp2 = temp[temp['group'] > 1]\n",
    "crossing_users = temp2['visitorId'].to_list()\n",
    "orders_crossing  = orders[orders['visitorId'].isin(crossing_users)].groupby(['date', 'group'])['visitorId'].count()\n",
    "\n",
    "# Удалим найденое количество перекрестных покупателей из таблицы visitors\n",
    "group2_adjusted = group2.copy()\n",
    "for date_group, count in orders_crossing.items():\n",
    "    date, group = date_group\n",
    "    group2_adjusted.loc[date, group] -= count\n",
    "\n",
    "    \n",
    "# Вывод результатов\n",
    "print(f\"Всего покупателей до: {orders['visitorId'].count()}\")\n",
    "print(f\"Покупателей в группе А до очистки: {orders[orders['group']=='A']['visitorId'].count()}\")\n",
    "print(f\"Покупателей в группе B до очистки: {orders[orders['group']=='B']['visitorId'].count()}\")\n",
    "print()\n",
    "# Присвоим нашим переменным измененные значения и выведем результат.\n",
    "orders = orders[~orders['visitorId'].isin(crossing_users)]\n",
    "visitors = group2_adjusted.reset_index()\n",
    "print(f\"Всего покупателей после: {orders['visitorId'].count()}\")\n",
    "print(f\"Покупателей в группе А после очистки: {orders[orders['group']=='A']['visitorId'].count()}\")\n",
    "print(f\"Покупателей в группе B после очистки: {orders[orders['group']=='B']['visitorId'].count()}\")"
   ]
  },
  {
   "cell_type": "markdown",
   "metadata": {},
   "source": [
    "Количество покупателей снизилось примерно на 1/6, это повлияет на уровень конверсии, в целом не помешает анализировать наш эксперимент, так общее количество участников теста снизится на те же 181 человека."
   ]
  },
  {
   "cell_type": "code",
   "execution_count": 17,
   "metadata": {
    "scrolled": true
   },
   "outputs": [
    {
     "name": "stdout",
     "output_type": "stream",
     "text": [
      "Участников эксперимента в группе А: 18647\n",
      "Участников эксперимента в группе B: 18824\n",
      "Общее количество участников эксперимента: 37471\n",
      "\n",
      "P-value:0.7621121039410546\n",
      "Разница в количестве участников в группах A и B статистически не значима\n",
      "\n",
      "Конверсия по группе А: 0.0251\n",
      "Конверсия по группе B: 0.0291\n",
      "Относительное изменение конверсии: 0.1379\n"
     ]
    }
   ],
   "source": [
    "# Проверка корректности данных по количеству посетителей.\n",
    "\n",
    "A_group_visitors = visitors[visitors['group']=='A']['visitors'].sum()\n",
    "B_group_visitors = visitors[visitors['group']=='B']['visitors'].sum()\n",
    "\n",
    "print(f'Участников эксперимента в группе А: {A_group_visitors}')\n",
    "print(f'Участников эксперимента в группе B: {B_group_visitors}')\n",
    "\n",
    "print(f'Общее количество участников эксперимента: {A_group_visitors+B_group_visitors}')\n",
    "print()\n",
    "# Проведем тест на значимость различия между количеством пользователей в А и В группах\n",
    "results = stats.mannwhitneyu(visitors[visitors['group']=='A']['visitors'], visitors[visitors['group']=='B']['visitors'])\n",
    "alpha = 0.05\n",
    "print('P-value:{}'.format(results.pvalue))\n",
    "if results.pvalue < alpha:\n",
    "    print('Разница в количестве участников в группах A и B статистически значима')\n",
    "else:\n",
    "    print('Разница в количестве участников в группах A и B статистически не значима')\n",
    "print()  \n",
    "# Расчитаем конверсию и А и В группам.\n",
    "A_group_orders = orders[orders['group']=='A']['visitorId'].count()\n",
    "A_group_conversion = A_group_orders / A_group_visitors\n",
    "B_group_orders = orders[orders['group']=='B']['visitorId'].count()\n",
    "B_group_conversion = B_group_orders / B_group_visitors\n",
    "print(f'Конверсия по группе А: {round(A_group_conversion, 4)}')\n",
    "print(f'Конверсия по группе B: {round(B_group_conversion, 4)}')\n",
    "print(f'Относительное изменение конверсии: {round(1 - (A_group_conversion / B_group_conversion), 4)}')"
   ]
  },
  {
   "cell_type": "markdown",
   "metadata": {},
   "source": [
    "Согласно калькулятору Эвана Миллера для расчета количества участников теста, получается 32,700 участников эксперимента нам необходимо для корректного теста, при мощности 80% и уровне значимости 5%. Данные для теста корректные, участников даже больше чем требуется, это не несет негативного вляиния, можно продолжать дальше."
   ]
  },
  {
   "cell_type": "code",
   "execution_count": 18,
   "metadata": {},
   "outputs": [
    {
     "data": {
      "image/png": "[encoded data removed]",
      "text/plain": [
       "<Figure size 1080x360 with 1 Axes>"
      ]
     },
     "metadata": {
      "needs_background": "light"
     },
     "output_type": "display_data"
    }
   ],
   "source": [
    "# Создадим список из уникальных значений дат и групп.\n",
    "datesGroups = orders[['date','group']].drop_duplicates().sort_values(by=['date', 'group'])\n",
    "\n",
    "# Создадим агрегированные данные по orders\n",
    "ordersAggregated = datesGroups.apply(lambda x: orders[np.logical_and(orders['date'] <= x['date'], orders['group'] == x['group'])]\\\n",
    ".agg({'date':'max', 'group':'max', 'transactionId':'nunique', 'visitorId':'nunique', 'revenue':'sum'}), axis = 1)\n",
    "ordersAggregated.columns = ['date', 'group', 'orders', 'buyers', 'revenue']\n",
    "# Создадим агрегированные данные по visitors\n",
    "visitorsAggregated = datesGroups.apply(lambda x: visitors[np.logical_and(visitors['date'] <= x['date'], visitors['group'] == x['group'])]\\\n",
    ".agg({'date':'max', 'group':'max', 'visitors':'sum'}), axis = 1)\n",
    "# Объединим таблицы\n",
    "cumulativeData = ordersAggregated.merge(visitorsAggregated, left_on=['date', 'group'], right_on=['date', 'group'])\n",
    "\n",
    "cumulativeRevenueA = cumulativeData[cumulativeData['group'] == 'A'][['date','revenue', 'orders']]\n",
    "cumulativeRevenueB = cumulativeData[cumulativeData['group'] == 'B'][['date','revenue', 'orders']]\n",
    "\n",
    "plt.figure(figsize=(15, 5))\n",
    "plt.grid(True)\n",
    "\n",
    "plt.plot(cumulativeRevenueA['date'], cumulativeRevenueA['revenue'], label='A')\n",
    "\n",
    "plt.plot(cumulativeRevenueB['date'], cumulativeRevenueB['revenue'], label='B')\n",
    "\n",
    "plt.title('График кумулятивной выручки по группам')\n",
    "plt.xticks(rotation=45)\n",
    "plt.legend() \n",
    "plt.show()"
   ]
  },
  {
   "cell_type": "markdown",
   "metadata": {},
   "source": [
    "Группа В показывает более высокую куммулятивную выручку. Так же заметен резкий рост выручки в районе 2019-08-18 по группе В, возможно это выброс."
   ]
  },
  {
   "cell_type": "markdown",
   "metadata": {},
   "source": [
    "<a id='12'></a>\n",
    "##### \tПостроим график кумулятивного среднего чека по группам"
   ]
  },
  {
   "cell_type": "code",
   "execution_count": 19,
   "metadata": {},
   "outputs": [
    {
     "data": {
      "image/png": "[encoded data removed]",
      "text/plain": [
       "<Figure size 1080x360 with 1 Axes>"
      ]
     },
     "metadata": {
      "needs_background": "light"
     },
     "output_type": "display_data"
    }
   ],
   "source": [
    "cumulativeRevenueA = cumulativeData[cumulativeData['group'] == 'A'][\n",
    "    ['date', 'revenue', 'orders']\n",
    "]\n",
    "cumulativeRevenueB = cumulativeData[cumulativeData['group'] == 'B'][\n",
    "    ['date', 'revenue', 'orders']\n",
    "]\n",
    "\n",
    "plt.figure(figsize=(15, 5))\n",
    "plt.grid(True)\n",
    "plt.plot(cumulativeRevenueA['date'], cumulativeRevenueA['revenue']/cumulativeRevenueA['orders'], label='A')\n",
    "plt.plot(cumulativeRevenueB['date'], cumulativeRevenueB['revenue']/cumulativeRevenueB['orders'], label='B')\n",
    "plt.title('График кумулятивного среднего чека по группам')\n",
    "plt.xticks(rotation=45)\n",
    "plt.legend()\n",
    "plt.show()"
   ]
  },
  {
   "cell_type": "markdown",
   "metadata": {},
   "source": [
    "До 2019-08-18 средние чеки по группе В и группе А поочередно меняли лидерство, хотя визуально группа В бла в лидерах подольше.. Но 2019-08-18 произошел резкий скачек роста чека по группе В, после этого средний чек группы А остался примерно стабильным, а средний чек группы В после резкого взлета начал плавно снижаться. Резкий рост среднего чека группы В от 2019-08-18, является аномальным и вероятно обусловлен выбросами."
   ]
  },
  {
   "cell_type": "markdown",
   "metadata": {},
   "source": [
    "<div class=\"alert alert-success\">\n",
    "  \n",
    "  <b>Комментарий ревьюера</b>\n",
    "    \n",
    "  ✔️ Да, тут так-же группа В выделяется.\n",
    "</div>"
   ]
  },
  {
   "cell_type": "markdown",
   "metadata": {},
   "source": [
    "<a id='13'></a>\n",
    "##### Построим график относительного изменения кумулятивного среднего чека группы B к группе A"
   ]
  },
  {
   "cell_type": "code",
   "execution_count": 20,
   "metadata": {},
   "outputs": [
    {
     "data": {
      "image/png": "[encoded data removed]",
      "text/plain": [
       "<Figure size 1080x360 with 1 Axes>"
      ]
     },
     "metadata": {
      "needs_background": "light"
     },
     "output_type": "display_data"
    }
   ],
   "source": [
    "# собираем данные в одном датафрейме\n",
    "mergedCumulativeRevenue = cumulativeRevenueA.merge(cumulativeRevenueB, on='date',\n",
    "                                                   how='left', suffixes=['A', 'B'])\n",
    "plt.figure(figsize=(15, 5))\n",
    "plt.grid(True)\n",
    "plt.plot(mergedCumulativeRevenue['date'], (mergedCumulativeRevenue['revenueB']/mergedCumulativeRevenue['ordersB'])/(mergedCumulativeRevenue['revenueA']/mergedCumulativeRevenue['ordersA'])-1)\n",
    "plt.title('График относительного изменения кумулятивного среднего чека группы В к группе А')\n",
    "plt.xticks(rotation=45)\n",
    "plt.axhline(y=0, color='black', linestyle='--')\n",
    "plt.show()"
   ]
  },
  {
   "cell_type": "markdown",
   "metadata": {},
   "source": [
    "В целом большее время, за весь эксперимент, средний чек группы В превышал чек группы А. Видим резкие изменения в среднем чеке В относительно А. Резкий рост в районе 2019-08-18. Вероятно это связано с аномалиями."
   ]
  },
  {
   "cell_type": "markdown",
   "metadata": {},
   "source": [
    "<a id='14'></a>\n",
    "#####  Построим график кумулятивного среднего количества заказов на посетителя по группам"
   ]
  },
  {
   "cell_type": "code",
   "execution_count": 21,
   "metadata": {},
   "outputs": [
    {
     "data": {
      "image/png": "[encoded data removed]",
      "text/plain": [
       "<Figure size 1080x360 with 1 Axes>"
      ]
     },
     "metadata": {
      "needs_background": "light"
     },
     "output_type": "display_data"
    }
   ],
   "source": [
    "# считаем среднее количество заказов на посетителя\n",
    "cumulativeData['conversion'] = cumulativeData['orders']/cumulativeData['visitors']\n",
    "\n",
    "# отделяем данные по группе A\n",
    "cumulativeDataA = cumulativeData[cumulativeData['group']=='A']\n",
    "\n",
    "# отделяем данные по группе B\n",
    "cumulativeDataB = cumulativeData[cumulativeData['group']=='B']\n",
    "\n",
    "# строим графики\n",
    "plt.figure(figsize=(15, 5))\n",
    "plt.grid(True)\n",
    "plt.plot(cumulativeDataA['date'], cumulativeDataA['conversion'], label='A')\n",
    "plt.plot(cumulativeDataB['date'], cumulativeDataB['conversion'], label='B')\n",
    "plt.title('График кумулятивного среднего количества заказов на посетителя по группам')\n",
    "plt.xticks(rotation=45)\n",
    "plt.legend()\n",
    "plt.show()"
   ]
  },
  {
   "cell_type": "markdown",
   "metadata": {},
   "source": [
    "Кумулятивное среднее количество заказов группы В с 2019-08-06 стабильно выше чем у группы А. Группа В лидирует по заказам на посетителя до конца эксперимента."
   ]
  },
  {
   "cell_type": "markdown",
   "metadata": {},
   "source": [
    "<a id='15'></a>\n",
    "#####  Построим график относительного изменения кумулятивного среднего количества заказов на посетителя группы B к группе A. "
   ]
  },
  {
   "cell_type": "code",
   "execution_count": 22,
   "metadata": {},
   "outputs": [
    {
     "data": {
      "image/png": "[encoded data removed]",
      "text/plain": [
       "<Figure size 1080x360 with 1 Axes>"
      ]
     },
     "metadata": {
      "needs_background": "light"
     },
     "output_type": "display_data"
    }
   ],
   "source": [
    "mergedCumulativeConversions = cumulativeDataA[['date','conversion']].merge(cumulativeDataB[['date','conversion']], \\\n",
    "                              left_on='date', right_on='date', how='outer', suffixes=['A', 'B'])\n",
    "\n",
    "plt.figure(figsize=(15, 5))\n",
    "plt.grid(True)\n",
    "plt.plot(mergedCumulativeConversions['date'], mergedCumulativeConversions['conversionB'] \\\n",
    "         /mergedCumulativeConversions['conversionA']-1)\n",
    "plt.title('График относительного изменения кумулятивного среднего количества заказов на посетителя группы B к группе A')\n",
    "plt.axhline(y=0, color='black', linestyle='--')\n",
    "plt.axhline(y=0.2, color='grey', linestyle='--')\n",
    "plt.axhline(y=0.15, color='grey', linestyle='--')\n",
    "plt.xticks(rotation=45)\n",
    "plt.show()"
   ]
  },
  {
   "cell_type": "markdown",
   "metadata": {},
   "source": [
    "C 2019-08-06 относительный прирост среднего количества заказов по группе В возрастает к группе А. В конце исследования группа В обгоняет группу А на 16 процентов. В целом с 2019-08-06 группа В превосходит группу А стабильно более чем на 10%."
   ]
  },
  {
   "cell_type": "markdown",
   "metadata": {},
   "source": [
    "<a id='16'></a>\n",
    "##### Построим точечный график количества заказов по пользователям."
   ]
  },
  {
   "cell_type": "code",
   "execution_count": 23,
   "metadata": {},
   "outputs": [
    {
     "data": {
      "image/png": "[encoded data removed]",
      "text/plain": [
       "<Figure size 1080x360 with 1 Axes>"
      ]
     },
     "metadata": {
      "needs_background": "light"
     },
     "output_type": "display_data"
    }
   ],
   "source": [
    "# Найдем число заказов по пользователям\n",
    "ordersByUsers = (\n",
    "    orders.groupby('visitorId', as_index=False)\n",
    "    .agg({'transactionId': 'nunique'})\n",
    ")\n",
    "ordersByUsers.columns = ['userId', 'orders']\n",
    "\n",
    "# серия из чисел от 0 до количества наблюдений в ordersByUsers\n",
    "x_values = pd.Series(range(0, len(ordersByUsers)))\n",
    "\n",
    "plt.figure(figsize=(15, 5))\n",
    "plt.grid(True)\n",
    "plt.xlabel('Количество заказов') \n",
    "plt.ylabel('Количество пользователей') \n",
    "plt.title('График количества заказов по пользователям')\n",
    "plt.scatter(x_values, ordersByUsers['orders'])\n",
    "plt.show()"
   ]
  },
  {
   "cell_type": "markdown",
   "metadata": {},
   "source": [
    "Большинство посетителей интернет-магазина совершает один заказ. Чуть чаще пользователи совершают два заказа. Более двух заказов это достаточно редкое явление. "
   ]
  },
  {
   "cell_type": "markdown",
   "metadata": {},
   "source": [
    "<a id='17'></a>\n",
    "##### Посчитаем 90-й, 95-й и 99-й перцентили количества заказов на пользователя"
   ]
  },
  {
   "cell_type": "code",
   "execution_count": 24,
   "metadata": {},
   "outputs": [
    {
     "name": "stdout",
     "output_type": "stream",
     "text": [
      "Перцентили: \n",
      "90: 1.0 \n",
      "95: 1.0\n",
      "99: 2.0\n"
     ]
    }
   ],
   "source": [
    "percent = np.percentile(ordersByUsers['orders'], [90, 95, 99])\n",
    "print('Перцентили: \\n90: {} \\n95: {}\\n99: {}'.format(percent[0],percent[1], percent[2]))"
   ]
  },
  {
   "cell_type": "markdown",
   "metadata": {},
   "source": [
    "Только 1 процент посетителей совершают более 2 заказов. Два заказа будет нашим лимитом по ограничению выбросов по количеству заказов."
   ]
  },
  {
   "cell_type": "markdown",
   "metadata": {},
   "source": [
    "<a id='18'></a>\n",
    "##### Построим точечный график стоимостей заказов"
   ]
  },
  {
   "cell_type": "code",
   "execution_count": 25,
   "metadata": {},
   "outputs": [
    {
     "data": {
      "image/png": "[encoded data removed]",
      "text/plain": [
       "<Figure size 1080x360 with 1 Axes>"
      ]
     },
     "metadata": {
      "needs_background": "light"
     },
     "output_type": "display_data"
    }
   ],
   "source": [
    "x_values = pd.Series(range(0, len(orders['revenue'])))\n",
    "\n",
    "plt.figure(figsize=(15, 5))\n",
    "plt.grid(True)\n",
    "plt.scatter(x_values, orders['revenue'])\n",
    "plt.xlabel('Количество заказов') \n",
    "plt.ylabel('Выручка по заказу') \n",
    "plt.title('Точечный график стоимостей заказов')\n",
    "plt.axis([0, 1200, 0, 100000])\n",
    "plt.show()"
   ]
  },
  {
   "cell_type": "markdown",
   "metadata": {},
   "source": [
    "Судя по графику выручка подавляющего большинства заказов не превышает 20000. Более подробно рассмотрим через перцентили."
   ]
  },
  {
   "cell_type": "markdown",
   "metadata": {},
   "source": [
    "<a id='19'></a>\n",
    "##### Посчитаем 90-й, 95-й и 99-й перцентили стоимости заказов"
   ]
  },
  {
   "cell_type": "code",
   "execution_count": 26,
   "metadata": {},
   "outputs": [
    {
     "name": "stdout",
     "output_type": "stream",
     "text": [
      "Перцентили: \n",
      "90: 17990 \n",
      "95: 26785\n",
      "99: 53904\n"
     ]
    }
   ],
   "source": [
    "percent = np.percentile(orders['revenue'], [90, 95, 99])\n",
    "print('Перцентили: \\n90: {:.0f} \\n95: {:.0f}\\n99: {:.0f}'.format(percent[0],percent[1], percent[2]))"
   ]
  },
  {
   "cell_type": "markdown",
   "metadata": {},
   "source": [
    "Десять процентов пользователей тратит более 17990 на один заказ. Пять процентов пользователей тратят более 26785 на заказ. Сумму свыше 53904 тратят на заказ только один процент пользователей."
   ]
  },
  {
   "cell_type": "markdown",
   "metadata": {},
   "source": [
    "<a id='20'></a>\n",
    "##### Посчитаем статистическую значимость различий в среднем количестве заказов на посетителя между группами по \"сырым\" данным"
   ]
  },
  {
   "cell_type": "markdown",
   "metadata": {},
   "source": [
    "Нулевая гипотеза (H0): между конверсиями групп A и B нет статистически значимых различий.<br>\n",
    "Альтернативная гипотеза (H1): конверсия в группе B статистически значимо отличается от конверсии в группе A."
   ]
  },
  {
   "cell_type": "code",
   "execution_count": 27,
   "metadata": {},
   "outputs": [
    {
     "name": "stdout",
     "output_type": "stream",
     "text": [
      "P-value: 0.01096\n",
      "Относительный прирост среднего группы B к конверсии группы A: 16.0%\n"
     ]
    }
   ],
   "source": [
    "# Создаем DataFrame ordersByUsersA, содержащий число заказов для каждого пользователя из группы A\n",
    "ordersByUsersA = (\n",
    "    orders[orders['group'] == 'A']\n",
    "    .groupby('visitorId', as_index=False)\n",
    "    .agg({'transactionId': pd.Series.nunique})\n",
    ")\n",
    "ordersByUsersA.columns = ['visitorId', 'orders']\n",
    "\n",
    "# Создаем DataFrame ordersByUsersB, содержащий число заказов для каждого пользователя из группы B\n",
    "ordersByUsersB = (\n",
    "    orders[orders['group'] == 'B']\n",
    "    .groupby('visitorId', as_index=False)\n",
    "    .agg({'transactionId': pd.Series.nunique})\n",
    ")\n",
    "ordersByUsersB.columns = ['visitorId', 'orders']\n",
    "\n",
    "# Создаем DataFrame visitorsADaily, содержащий количество посетителей для каждой даты в группе A\n",
    "visitorsADaily = visitors[visitors['group'] == 'A'][['date', 'visitors']]\n",
    "visitorsADaily.columns = ['date', 'visitorsPerDateA']\n",
    "\n",
    "# Создаем sampleA, содержащий количество заказов для каждого пользователя в группе A и нулевые значения \n",
    "# для пользователей, которые не совершили заказы\n",
    "sampleA = pd.concat(\n",
    "    [\n",
    "        ordersByUsersA['orders'], # Количество заказов для каждого пользователя\n",
    "        pd.Series(\n",
    "            0,\n",
    "            index=np.arange(\n",
    "                visitorsADaily['visitorsPerDateA'].sum() - len(ordersByUsersA['orders'])\n",
    "            ),\n",
    "            name='orders',\n",
    "        ),\n",
    "    ],\n",
    "    axis=0,\n",
    ")\n",
    "\n",
    "# Создаем DataFrame visitorsBDaily, содержащий количество посетителей для каждой даты в группе B\n",
    "visitorsBDaily = visitors[visitors['group'] == 'B'][['date', 'visitors']]\n",
    "visitorsBDaily.columns = ['date', 'visitorsPerDateB']\n",
    "\n",
    "# Создаем sampleB, содержащий количество заказов для каждого пользователя в группе B и нулевые значения \n",
    "# для пользователей, которые не совершили заказы\n",
    "sampleB = pd.concat(\n",
    "    [\n",
    "        ordersByUsersB['orders'], # Количество заказов для каждого пользователя\n",
    "        pd.Series(\n",
    "            0,\n",
    "            index=np.arange(\n",
    "                visitorsBDaily['visitorsPerDateB'].sum() - len(ordersByUsersB['orders'])\n",
    "            ),\n",
    "            name='orders',\n",
    "        ),\n",
    "    ],\n",
    "    axis=0,\n",
    ")\n",
    "\n",
    "# Выводим p-value, вычисленное по тесту Манна-Уитни\n",
    "print(\"P-value: {0:.5f}\".format(stats.mannwhitneyu(sampleA, sampleB)[1]))\n",
    "\n",
    "# Выводим относительное изменение конверсии группы B к конверсии группы A в процентах\n",
    "print(\"Относительный прирост среднего группы B к конверсии группы A: {0:.1f}%\". \\\n",
    "      format((sampleB.mean() / sampleA.mean() - 1) * 100))\n"
   ]
  },
  {
   "cell_type": "markdown",
   "metadata": {},
   "source": [
    "Возьмем за уровень значимости 0.05. P-Value получается 0.01. Что ниже нашего уровня значимости, это говорит о том что гипотезу о равенстве среднего количества заказов между группами можно отклонить. Есть статистически значимая разница между средним количеством заказов в А и В группах."
   ]
  },
  {
   "cell_type": "markdown",
   "metadata": {},
   "source": [
    "<a id='21'></a>\n",
    "##### Посчитаем статистическую значимость различий в среднем чеке заказа между группами по \"сырым\" данным"
   ]
  },
  {
   "cell_type": "markdown",
   "metadata": {},
   "source": [
    "Нулевая гипотеза (H0): между средними чеками групп A и B нет статистически значимых различий.<br>\n",
    "Альтернативная гипотеза (H1): средний чек в группе B статистически значимо отличается от чека в группе A."
   ]
  },
  {
   "cell_type": "code",
   "execution_count": 28,
   "metadata": {},
   "outputs": [
    {
     "name": "stdout",
     "output_type": "stream",
     "text": [
      "P-value: 0.829\n",
      "Относительное различие среднего чека между группами: 28.660%\n"
     ]
    }
   ],
   "source": [
    "print('P-value: {0:.3f}'.format(stats.mannwhitneyu(orders[orders['group']=='A']['revenue'], \\\n",
    "                                                  orders[orders['group']=='B']['revenue'])[1]))\n",
    "relative_difference = (\n",
    "    orders[orders['group']=='B']['revenue'].mean() /\n",
    "    orders[orders['group']=='A']['revenue'].mean() - 1\n",
    ") * 100\n",
    "\n",
    "print('Относительное различие среднего чека между группами: {0:.3f}%'.format(relative_difference))\n"
   ]
  },
  {
   "cell_type": "markdown",
   "metadata": {},
   "source": [
    "Относительное различие среднего чека между группами В и А равно 28.66 %. Но согласно статистическому тесту между средним чеком в этих двух группах нет статистически значимых различий, то есть вероятно такое различие в средних чеках может быть связано с выбросами. Нулевую гипотезу мы не отвергаем, на то нет статистических оснований."
   ]
  },
  {
   "cell_type": "markdown",
   "metadata": {},
   "source": [
    "<a id='22'></a>\n",
    "##### Посчитаем статистическую значимость различий в среднем количестве заказов на посетителя между группами по \"очищенным\" данным"
   ]
  },
  {
   "cell_type": "markdown",
   "metadata": {},
   "source": [
    "Нулевая гипотеза (H0): между конверсиями групп A и B нет статистически значимых различий.<br>\n",
    "Альтернативная гипотеза (H1): конверсия в группе B статистически значимо отличается от конверсии в группе A."
   ]
  },
  {
   "cell_type": "code",
   "execution_count": 29,
   "metadata": {},
   "outputs": [
    {
     "name": "stdout",
     "output_type": "stream",
     "text": [
      "P-Value: 0.01229\n",
      "Прирост сегмента В относительно сегмента А: 18.20%\n"
     ]
    }
   ],
   "source": [
    "# Установим ограничения по количеству заказов и среднему чеку, что бы очистить данные от выбросов.\n",
    "limit_orders = 2\n",
    "limit_revenue = 26785\n",
    "\n",
    "# Выделим аномальные данные\n",
    "usersWithManyOrders = pd.concat(\n",
    "    [\n",
    "        ordersByUsersA[ordersByUsersA['orders'] > limit_orders]['visitorId'],\n",
    "        ordersByUsersB[ordersByUsersB['orders'] > limit_orders]['visitorId'],\n",
    "    ],\n",
    "    axis=0,\n",
    ")\n",
    "usersWithExpensiveOrders = orders[orders['revenue'] > limit_revenue]['visitorId']\n",
    "abnormalUsers = (\n",
    "    pd.concat([usersWithManyOrders, usersWithExpensiveOrders], axis=0)\n",
    "    .drop_duplicates()\n",
    "    .sort_values()\n",
    ")\n",
    "\n",
    "# Очистим данные от аномалий, путем исключения выбросов.\n",
    "sampleAFiltered = pd.concat(\n",
    "    [\n",
    "        ordersByUsersA[\n",
    "            np.logical_not(ordersByUsersA['visitorId'].isin(abnormalUsers))\n",
    "        ]['orders'],\n",
    "        pd.Series(\n",
    "            0,\n",
    "            index=np.arange(\n",
    "                visitorsADaily['visitorsPerDateA'].sum() - len(ordersByUsersA['orders'])\n",
    "            ),\n",
    "            name='orders',\n",
    "        ),\n",
    "    ],\n",
    "    axis=0,\n",
    ")\n",
    "\n",
    "sampleBFiltered = pd.concat(\n",
    "    [\n",
    "        ordersByUsersB[\n",
    "            np.logical_not(ordersByUsersB['visitorId'].isin(abnormalUsers))\n",
    "        ]['orders'],\n",
    "        pd.Series(\n",
    "            0,\n",
    "            index=np.arange(\n",
    "                visitorsBDaily['visitorsPerDateB'].sum() - len(ordersByUsersB['orders'])\n",
    "            ),\n",
    "            name='orders',\n",
    "        ),\n",
    "    ],\n",
    "    axis=0,\n",
    ")\n",
    "\n",
    "# Произведем расчет статистики\n",
    "print('P-Value: {0:.5f}'.format(stats.mannwhitneyu(sampleAFiltered, sampleBFiltered)[1]))\n",
    "print('Прирост сегмента В относительно сегмента А: {0:.2f}%'. \\\n",
    "      format((sampleBFiltered.mean()/sampleAFiltered.mean()-1) *100) )"
   ]
  },
  {
   "cell_type": "markdown",
   "metadata": {},
   "source": [
    "Возьмем за уровень значимости 0.05. Видим прирост среднего количества заказов по группе В относительно группы А на 18.2%. P-Value ниже уровня значимости, это говорит о статистически значимых различиях между группами по количеству заказов. Нулевую гипотезу отвергаем в пользу альтернативной. Конверсия группы В выше чем конверсия группы А и это подтверждает статистический тест."
   ]
  },
  {
   "cell_type": "markdown",
   "metadata": {},
   "source": [
    "<a id='23'></a>\n",
    "##### Посчитаем статистическую значимость различий в среднем чеке заказа между группами по \"очищенным\" данным"
   ]
  },
  {
   "cell_type": "markdown",
   "metadata": {},
   "source": [
    "Нулевая гипотеза (H0): между средними чеками групп A и B нет статистически значимых различий.<br>\n",
    "Альтернативная гипотеза (H1): средний чек в группе B статистически значимо отличается от чека в группе A."
   ]
  },
  {
   "cell_type": "code",
   "execution_count": 30,
   "metadata": {},
   "outputs": [
    {
     "name": "stdout",
     "output_type": "stream",
     "text": [
      "P-value: 0.646\n",
      "Относительное различие между группами В и А по среднему чеку: -0.05\n"
     ]
    }
   ],
   "source": [
    "print(\n",
    "    'P-value: {0:.3f}'.format(\n",
    "        stats.mannwhitneyu(\n",
    "            orders[\n",
    "                np.logical_and(\n",
    "                    orders['group'] == 'A',\n",
    "                    np.logical_not(orders['visitorId'].isin(abnormalUsers)),\n",
    "                )\n",
    "            ]['revenue'],\n",
    "            orders[\n",
    "                np.logical_and(\n",
    "                    orders['group'] == 'B',\n",
    "                    np.logical_not(orders['visitorId'].isin(abnormalUsers)),\n",
    "                )\n",
    "            ]['revenue'],\n",
    "        )[1]\n",
    "    )\n",
    ")\n",
    "\n",
    "print(\n",
    "    \"Относительное различие между группами В и А по среднему чеку: {0:.2f}\".format(\n",
    "        orders[\n",
    "            np.logical_and(\n",
    "                orders['group'] == 'B',\n",
    "                np.logical_not(orders['visitorId'].isin(abnormalUsers)),\n",
    "            )\n",
    "        ]['revenue'].mean()\n",
    "        / orders[\n",
    "            np.logical_and(\n",
    "                orders['group'] == 'A',\n",
    "                np.logical_not(orders['visitorId'].isin(abnormalUsers)),\n",
    "            )\n",
    "        ]['revenue'].mean()\n",
    "        - 1\n",
    "    )\n",
    ")"
   ]
  },
  {
   "cell_type": "markdown",
   "metadata": {},
   "source": [
    "Возьмем за уровень значимости 0.05. Средний чек группы В по очищенным данным снизился на 2 процента к группе А. P-Value гораздо выше уровня значимости. Это говорит о том, что между очищенными данными нет статистически значимых различий в среднем чеке между группами. Мы не можем отвергнуть нулевую гипотезу. "
   ]
  },
  {
   "cell_type": "markdown",
   "metadata": {},
   "source": [
    "<a id='24'></a>\n",
    "#### Примем решение по результатам теста. Сделаем вывод."
   ]
  },
  {
   "cell_type": "markdown",
   "metadata": {},
   "source": [
    "<strong>У нас есть три варианта дальнейшего развития событий:\n",
    "1. Остановить тест, зафиксировать победу одной из групп.\n",
    "2. Остановить тест, зафиксировать отсутствие различий между группами.\n",
    "3. Продолжить тест.</strong>"
   ]
  },
  {
   "cell_type": "markdown",
   "metadata": {},
   "source": [
    "<strong>Мы увидели разницу в конверсии между А и В группами. По \"неочищенным данным\" прирост конверсии группы В относительно группы А был 16 процентов. Прирост конверсии группы В по \"очищенным\" данным был на 18.2 процента.\n",
    "\n",
    "Касательно средних чеков ситуация следующая. По \"сырым\" данным статистически важных различий нет. Но, относительное различие среднего чека между группами: 28.66%. По \"очищенным\" данным - относительное различие между группами В и А по среднему чеку: -2%. Статистически значимых различий между средними чеками двух групп нет. Имеет место быть выбросы - единичные особо крупные покупки, вляющие на среднее значение.\n",
    "\n",
    "Поскольку наша выборка по количеству участников группы соотвествует необходимой выборке, согласно калькулятору Эвана Миллера. Думаю, что тест стоит остановить, так как через наш эксперимент прошло необходимое число людей, доли участников групп были равномерными.\n",
    "\n",
    "Далее рассмотрим итоги тестов, по конверсии видим явную победу группы В, по среднему чеку - паритет.\n",
    "Наша задача была увеличение выручки. Увеличение конверсии, даже при стабильности среднего чека, дает нам увеличение выручки, ввиду роста количества заказов. В этом случае, после остановки теста, можно зафиксировать победу группы В.\n",
    "\n",
    "Наш А/В тест можно считать успешным, мы получили статистически значимые результаты, подверждающие эффективность наших гипотетических изменений в интернет-магазине. Мы добились нашей цели - увеличения выручки.</strong>"
   ]
  }
 ],
 "metadata": {
  "ExecuteTimeLog": [
   {
    "duration": 52,
    "start_time": "2024-02-24T16:02:39.266Z"
   },
   {
    "duration": 404,
    "start_time": "2024-02-24T16:02:43.199Z"
   },
   {
    "duration": 84,
    "start_time": "2024-02-24T16:02:43.970Z"
   },
   {
    "duration": 81,
    "start_time": "2024-02-24T16:02:52.983Z"
   },
   {
    "duration": 12,
    "start_time": "2024-02-24T16:05:06.211Z"
   },
   {
    "duration": 45,
    "start_time": "2024-02-24T16:05:47.425Z"
   },
   {
    "duration": 96,
    "start_time": "2024-02-24T16:05:53.215Z"
   },
   {
    "duration": 11,
    "start_time": "2024-02-24T16:06:05.950Z"
   },
   {
    "duration": 9,
    "start_time": "2024-02-24T16:09:38.012Z"
   },
   {
    "duration": 6,
    "start_time": "2024-02-24T16:09:48.443Z"
   },
   {
    "duration": 7,
    "start_time": "2024-02-24T16:09:55.026Z"
   },
   {
    "duration": 8,
    "start_time": "2024-02-24T16:10:01.682Z"
   },
   {
    "duration": 107,
    "start_time": "2024-02-24T16:15:29.083Z"
   },
   {
    "duration": 113,
    "start_time": "2024-02-24T16:16:38.244Z"
   },
   {
    "duration": 14,
    "start_time": "2024-02-24T16:21:16.771Z"
   },
   {
    "duration": 15,
    "start_time": "2024-02-24T16:21:41.981Z"
   },
   {
    "duration": 7,
    "start_time": "2024-02-24T16:22:19.004Z"
   },
   {
    "duration": 5,
    "start_time": "2024-02-24T16:22:30.068Z"
   },
   {
    "duration": 11,
    "start_time": "2024-02-24T16:23:06.163Z"
   },
   {
    "duration": 8,
    "start_time": "2024-02-24T16:25:11.709Z"
   },
   {
    "duration": 22,
    "start_time": "2024-02-24T16:25:20.278Z"
   },
   {
    "duration": 5,
    "start_time": "2024-02-24T16:27:12.921Z"
   },
   {
    "duration": 9,
    "start_time": "2024-02-24T16:28:05.163Z"
   },
   {
    "duration": 14,
    "start_time": "2024-02-24T16:28:29.433Z"
   },
   {
    "duration": 10,
    "start_time": "2024-02-24T16:28:41.493Z"
   },
   {
    "duration": 4,
    "start_time": "2024-02-24T16:29:38.378Z"
   },
   {
    "duration": 9,
    "start_time": "2024-02-24T16:40:37.673Z"
   },
   {
    "duration": 516,
    "start_time": "2024-02-24T16:43:56.291Z"
   },
   {
    "duration": 383,
    "start_time": "2024-02-24T16:44:06.532Z"
   },
   {
    "duration": 100,
    "start_time": "2024-02-24T16:44:50.163Z"
   },
   {
    "duration": 507,
    "start_time": "2024-02-24T16:44:56.706Z"
   },
   {
    "duration": 435,
    "start_time": "2024-02-24T16:45:04.941Z"
   },
   {
    "duration": 400,
    "start_time": "2024-02-24T16:46:12.745Z"
   },
   {
    "duration": 405,
    "start_time": "2024-02-24T16:46:28.425Z"
   },
   {
    "duration": 1427,
    "start_time": "2024-02-24T16:46:40.194Z"
   },
   {
    "duration": 3,
    "start_time": "2024-02-24T16:46:41.623Z"
   },
   {
    "duration": 76,
    "start_time": "2024-02-24T16:46:41.628Z"
   },
   {
    "duration": 12,
    "start_time": "2024-02-24T16:46:41.706Z"
   },
   {
    "duration": 17,
    "start_time": "2024-02-24T16:46:41.720Z"
   },
   {
    "duration": 4,
    "start_time": "2024-02-24T16:46:41.738Z"
   },
   {
    "duration": 16,
    "start_time": "2024-02-24T16:46:41.744Z"
   },
   {
    "duration": 103,
    "start_time": "2024-02-24T16:46:41.762Z"
   },
   {
    "duration": 0,
    "start_time": "2024-02-24T16:46:41.866Z"
   },
   {
    "duration": 0,
    "start_time": "2024-02-24T16:46:41.867Z"
   },
   {
    "duration": 0,
    "start_time": "2024-02-24T16:46:41.868Z"
   },
   {
    "duration": 0,
    "start_time": "2024-02-24T16:46:41.869Z"
   },
   {
    "duration": 0,
    "start_time": "2024-02-24T16:46:41.870Z"
   },
   {
    "duration": 0,
    "start_time": "2024-02-24T16:46:41.871Z"
   },
   {
    "duration": 13,
    "start_time": "2024-02-24T16:47:18.850Z"
   },
   {
    "duration": 6,
    "start_time": "2024-02-24T16:47:20.391Z"
   },
   {
    "duration": 10,
    "start_time": "2024-02-24T16:47:22.833Z"
   },
   {
    "duration": 10,
    "start_time": "2024-02-24T16:47:24.447Z"
   },
   {
    "duration": 5,
    "start_time": "2024-02-24T16:47:26.622Z"
   },
   {
    "duration": 21,
    "start_time": "2024-02-24T16:47:28.957Z"
   },
   {
    "duration": 518,
    "start_time": "2024-02-24T16:48:32.482Z"
   },
   {
    "duration": 410,
    "start_time": "2024-02-24T16:49:27.765Z"
   },
   {
    "duration": 457,
    "start_time": "2024-02-24T16:50:29.854Z"
   },
   {
    "duration": 11,
    "start_time": "2024-02-24T16:50:37.694Z"
   },
   {
    "duration": 414,
    "start_time": "2024-02-24T16:51:06.645Z"
   },
   {
    "duration": 415,
    "start_time": "2024-02-24T16:51:15.046Z"
   },
   {
    "duration": 409,
    "start_time": "2024-02-24T16:52:16.018Z"
   },
   {
    "duration": 7,
    "start_time": "2024-02-24T16:52:37.257Z"
   },
   {
    "duration": 17,
    "start_time": "2024-02-24T16:52:44.023Z"
   },
   {
    "duration": 15,
    "start_time": "2024-02-24T16:52:50.975Z"
   },
   {
    "duration": 9,
    "start_time": "2024-02-24T16:52:58.666Z"
   },
   {
    "duration": 2,
    "start_time": "2024-02-24T16:55:33.966Z"
   },
   {
    "duration": 10,
    "start_time": "2024-02-24T16:59:05.522Z"
   },
   {
    "duration": 9,
    "start_time": "2024-02-24T16:59:21.601Z"
   },
   {
    "duration": 9,
    "start_time": "2024-02-24T16:59:34.106Z"
   },
   {
    "duration": 7,
    "start_time": "2024-02-24T16:59:55.535Z"
   },
   {
    "duration": 12,
    "start_time": "2024-02-24T17:00:01.474Z"
   },
   {
    "duration": 14,
    "start_time": "2024-02-24T17:00:29.674Z"
   },
   {
    "duration": 13,
    "start_time": "2024-02-24T17:02:00.160Z"
   },
   {
    "duration": 16,
    "start_time": "2024-02-24T17:02:24.574Z"
   },
   {
    "duration": 1205,
    "start_time": "2024-02-24T17:02:30.564Z"
   },
   {
    "duration": 10,
    "start_time": "2024-02-24T17:02:31.771Z"
   },
   {
    "duration": 99,
    "start_time": "2024-02-24T17:02:31.783Z"
   },
   {
    "duration": 10,
    "start_time": "2024-02-24T17:02:31.884Z"
   },
   {
    "duration": 22,
    "start_time": "2024-02-24T17:02:31.896Z"
   },
   {
    "duration": 4,
    "start_time": "2024-02-24T17:02:31.920Z"
   },
   {
    "duration": 11,
    "start_time": "2024-02-24T17:02:31.926Z"
   },
   {
    "duration": 12,
    "start_time": "2024-02-24T17:02:31.938Z"
   },
   {
    "duration": 11,
    "start_time": "2024-02-24T17:02:31.951Z"
   },
   {
    "duration": 11,
    "start_time": "2024-02-24T17:02:31.979Z"
   },
   {
    "duration": 11,
    "start_time": "2024-02-24T17:02:31.992Z"
   },
   {
    "duration": 16,
    "start_time": "2024-02-24T17:02:32.005Z"
   },
   {
    "duration": 8,
    "start_time": "2024-02-24T17:02:32.023Z"
   },
   {
    "duration": 14,
    "start_time": "2024-02-24T17:02:32.033Z"
   },
   {
    "duration": 37,
    "start_time": "2024-02-24T17:02:32.049Z"
   },
   {
    "duration": 2,
    "start_time": "2024-02-24T17:14:52.149Z"
   },
   {
    "duration": 6,
    "start_time": "2024-02-24T17:21:21.700Z"
   },
   {
    "duration": 100,
    "start_time": "2024-02-24T17:25:17.833Z"
   },
   {
    "duration": 4,
    "start_time": "2024-02-24T17:25:22.835Z"
   },
   {
    "duration": 12,
    "start_time": "2024-02-24T17:25:38.895Z"
   },
   {
    "duration": 6,
    "start_time": "2024-02-24T17:25:56.364Z"
   },
   {
    "duration": 5,
    "start_time": "2024-02-24T17:26:21.458Z"
   },
   {
    "duration": 11,
    "start_time": "2024-02-24T17:46:25.481Z"
   },
   {
    "duration": 21,
    "start_time": "2024-02-24T17:50:12.978Z"
   },
   {
    "duration": 6,
    "start_time": "2024-02-24T17:50:23.982Z"
   },
   {
    "duration": 5,
    "start_time": "2024-02-24T17:50:55.420Z"
   },
   {
    "duration": 106,
    "start_time": "2024-02-24T17:51:30.205Z"
   },
   {
    "duration": 10,
    "start_time": "2024-02-24T17:52:13.192Z"
   },
   {
    "duration": 1216,
    "start_time": "2024-02-24T17:52:20.796Z"
   },
   {
    "duration": 3,
    "start_time": "2024-02-24T17:52:22.014Z"
   },
   {
    "duration": 95,
    "start_time": "2024-02-24T17:52:22.018Z"
   },
   {
    "duration": 12,
    "start_time": "2024-02-24T17:52:22.115Z"
   },
   {
    "duration": 34,
    "start_time": "2024-02-24T17:52:22.131Z"
   },
   {
    "duration": 7,
    "start_time": "2024-02-24T17:52:22.167Z"
   },
   {
    "duration": 27,
    "start_time": "2024-02-24T17:52:22.176Z"
   },
   {
    "duration": 36,
    "start_time": "2024-02-24T17:52:22.205Z"
   },
   {
    "duration": 6,
    "start_time": "2024-02-24T17:52:22.242Z"
   },
   {
    "duration": 12,
    "start_time": "2024-02-24T17:52:22.249Z"
   },
   {
    "duration": 14,
    "start_time": "2024-02-24T17:52:22.262Z"
   },
   {
    "duration": 11,
    "start_time": "2024-02-24T17:52:22.278Z"
   },
   {
    "duration": 8,
    "start_time": "2024-02-24T17:52:22.290Z"
   },
   {
    "duration": 19,
    "start_time": "2024-02-24T17:52:22.301Z"
   },
   {
    "duration": 13,
    "start_time": "2024-02-24T17:52:22.321Z"
   },
   {
    "duration": 9,
    "start_time": "2024-02-24T17:52:22.335Z"
   },
   {
    "duration": 20,
    "start_time": "2024-02-24T17:52:22.345Z"
   },
   {
    "duration": 5,
    "start_time": "2024-02-24T17:52:22.367Z"
   },
   {
    "duration": 7,
    "start_time": "2024-02-24T17:52:22.380Z"
   },
   {
    "duration": 11,
    "start_time": "2024-02-24T17:54:57.475Z"
   },
   {
    "duration": 7,
    "start_time": "2024-02-24T17:55:27.189Z"
   },
   {
    "duration": 6,
    "start_time": "2024-02-24T17:55:33.313Z"
   },
   {
    "duration": 6,
    "start_time": "2024-02-24T17:55:43.835Z"
   },
   {
    "duration": 8,
    "start_time": "2024-02-24T17:56:19.625Z"
   },
   {
    "duration": 10,
    "start_time": "2024-02-24T17:58:58.900Z"
   },
   {
    "duration": 112,
    "start_time": "2024-02-24T17:58:58.912Z"
   },
   {
    "duration": 6,
    "start_time": "2024-02-24T18:00:16.057Z"
   },
   {
    "duration": 329,
    "start_time": "2024-02-24T18:02:11.936Z"
   },
   {
    "duration": 311,
    "start_time": "2024-02-24T18:02:33.614Z"
   },
   {
    "duration": 304,
    "start_time": "2024-02-24T18:02:40.316Z"
   },
   {
    "duration": 357,
    "start_time": "2024-02-24T18:05:44.599Z"
   },
   {
    "duration": 298,
    "start_time": "2024-02-24T18:07:39.378Z"
   },
   {
    "duration": 10,
    "start_time": "2024-02-24T18:12:05.778Z"
   },
   {
    "duration": 28,
    "start_time": "2024-02-24T18:13:29.285Z"
   },
   {
    "duration": 283,
    "start_time": "2024-02-24T18:13:57.471Z"
   },
   {
    "duration": 304,
    "start_time": "2024-02-24T18:14:00.256Z"
   },
   {
    "duration": 496,
    "start_time": "2024-02-24T18:14:24.502Z"
   },
   {
    "duration": 446,
    "start_time": "2024-02-24T18:14:39.448Z"
   },
   {
    "duration": 451,
    "start_time": "2024-02-24T18:15:37.142Z"
   },
   {
    "duration": 209,
    "start_time": "2024-02-24T18:19:58.432Z"
   },
   {
    "duration": 180,
    "start_time": "2024-02-24T18:21:05.088Z"
   },
   {
    "duration": 3,
    "start_time": "2024-02-24T18:25:35.846Z"
   },
   {
    "duration": 277,
    "start_time": "2024-02-24T18:26:32.695Z"
   },
   {
    "duration": 402,
    "start_time": "2024-02-24T18:27:27.898Z"
   },
   {
    "duration": 297,
    "start_time": "2024-02-24T18:27:42.740Z"
   },
   {
    "duration": 3,
    "start_time": "2024-02-24T18:29:56.386Z"
   },
   {
    "duration": 213,
    "start_time": "2024-02-24T18:30:58.340Z"
   },
   {
    "duration": 213,
    "start_time": "2024-02-24T18:31:09.924Z"
   },
   {
    "duration": 163,
    "start_time": "2024-02-24T18:31:13.587Z"
   },
   {
    "duration": 163,
    "start_time": "2024-02-24T18:31:32.913Z"
   },
   {
    "duration": 167,
    "start_time": "2024-02-24T18:31:42.116Z"
   },
   {
    "duration": 350,
    "start_time": "2024-02-24T18:33:55.237Z"
   },
   {
    "duration": 1255,
    "start_time": "2024-02-24T18:34:47.815Z"
   },
   {
    "duration": 9,
    "start_time": "2024-02-24T18:34:49.072Z"
   },
   {
    "duration": 90,
    "start_time": "2024-02-24T18:34:49.082Z"
   },
   {
    "duration": 12,
    "start_time": "2024-02-24T18:34:49.174Z"
   },
   {
    "duration": 12,
    "start_time": "2024-02-24T18:34:49.188Z"
   },
   {
    "duration": 5,
    "start_time": "2024-02-24T18:34:49.202Z"
   },
   {
    "duration": 19,
    "start_time": "2024-02-24T18:34:49.208Z"
   },
   {
    "duration": 15,
    "start_time": "2024-02-24T18:34:49.229Z"
   },
   {
    "duration": 35,
    "start_time": "2024-02-24T18:34:49.245Z"
   },
   {
    "duration": 10,
    "start_time": "2024-02-24T18:34:49.282Z"
   },
   {
    "duration": 10,
    "start_time": "2024-02-24T18:34:49.294Z"
   },
   {
    "duration": 9,
    "start_time": "2024-02-24T18:34:49.306Z"
   },
   {
    "duration": 12,
    "start_time": "2024-02-24T18:34:49.317Z"
   },
   {
    "duration": 16,
    "start_time": "2024-02-24T18:34:49.333Z"
   },
   {
    "duration": 13,
    "start_time": "2024-02-24T18:34:49.380Z"
   },
   {
    "duration": 7,
    "start_time": "2024-02-24T18:34:49.395Z"
   },
   {
    "duration": 13,
    "start_time": "2024-02-24T18:34:49.404Z"
   },
   {
    "duration": 6,
    "start_time": "2024-02-24T18:34:49.419Z"
   },
   {
    "duration": 9,
    "start_time": "2024-02-24T18:34:49.426Z"
   },
   {
    "duration": 47,
    "start_time": "2024-02-24T18:34:49.436Z"
   },
   {
    "duration": 9,
    "start_time": "2024-02-24T18:34:49.485Z"
   },
   {
    "duration": 586,
    "start_time": "2024-02-24T18:34:49.496Z"
   },
   {
    "duration": 203,
    "start_time": "2024-02-24T18:34:50.084Z"
   },
   {
    "duration": 279,
    "start_time": "2024-02-24T18:34:50.289Z"
   },
   {
    "duration": 196,
    "start_time": "2024-02-24T18:34:50.570Z"
   },
   {
    "duration": 315,
    "start_time": "2024-02-24T18:34:50.769Z"
   },
   {
    "duration": 319,
    "start_time": "2024-02-24T18:36:00.099Z"
   },
   {
    "duration": 207,
    "start_time": "2024-02-24T18:36:27.193Z"
   },
   {
    "duration": 240,
    "start_time": "2024-02-24T18:36:40.229Z"
   },
   {
    "duration": 283,
    "start_time": "2024-02-24T18:36:55.017Z"
   },
   {
    "duration": 1247,
    "start_time": "2024-02-24T18:37:49.633Z"
   },
   {
    "duration": 3,
    "start_time": "2024-02-24T18:37:50.882Z"
   },
   {
    "duration": 81,
    "start_time": "2024-02-24T18:37:50.887Z"
   },
   {
    "duration": 12,
    "start_time": "2024-02-24T18:37:50.970Z"
   },
   {
    "duration": 31,
    "start_time": "2024-02-24T18:37:50.985Z"
   },
   {
    "duration": 5,
    "start_time": "2024-02-24T18:37:51.018Z"
   },
   {
    "duration": 10,
    "start_time": "2024-02-24T18:37:51.025Z"
   },
   {
    "duration": 13,
    "start_time": "2024-02-24T18:37:51.037Z"
   },
   {
    "duration": 11,
    "start_time": "2024-02-24T18:37:51.052Z"
   },
   {
    "duration": 11,
    "start_time": "2024-02-24T18:37:51.080Z"
   },
   {
    "duration": 12,
    "start_time": "2024-02-24T18:37:51.092Z"
   },
   {
    "duration": 5,
    "start_time": "2024-02-24T18:37:51.106Z"
   },
   {
    "duration": 6,
    "start_time": "2024-02-24T18:37:51.113Z"
   },
   {
    "duration": 17,
    "start_time": "2024-02-24T18:37:51.121Z"
   },
   {
    "duration": 45,
    "start_time": "2024-02-24T18:37:51.140Z"
   },
   {
    "duration": 8,
    "start_time": "2024-02-24T18:37:51.187Z"
   },
   {
    "duration": 10,
    "start_time": "2024-02-24T18:37:51.197Z"
   },
   {
    "duration": 10,
    "start_time": "2024-02-24T18:37:51.209Z"
   },
   {
    "duration": 12,
    "start_time": "2024-02-24T18:37:51.220Z"
   },
   {
    "duration": 10,
    "start_time": "2024-02-24T18:37:51.234Z"
   },
   {
    "duration": 35,
    "start_time": "2024-02-24T18:37:51.246Z"
   },
   {
    "duration": 600,
    "start_time": "2024-02-24T18:37:51.283Z"
   },
   {
    "duration": 207,
    "start_time": "2024-02-24T18:37:51.885Z"
   },
   {
    "duration": 288,
    "start_time": "2024-02-24T18:37:52.094Z"
   },
   {
    "duration": 334,
    "start_time": "2024-02-24T18:37:52.384Z"
   },
   {
    "duration": 0,
    "start_time": "2024-02-24T18:37:52.720Z"
   },
   {
    "duration": 14,
    "start_time": "2024-02-24T18:38:14.948Z"
   },
   {
    "duration": 11,
    "start_time": "2024-02-24T18:38:22.688Z"
   },
   {
    "duration": 169,
    "start_time": "2024-02-24T18:38:46.201Z"
   },
   {
    "duration": 164,
    "start_time": "2024-02-24T18:39:15.547Z"
   },
   {
    "duration": 172,
    "start_time": "2024-02-24T18:39:20.586Z"
   },
   {
    "duration": 167,
    "start_time": "2024-02-24T18:39:42.798Z"
   },
   {
    "duration": 261,
    "start_time": "2024-02-24T18:39:51.407Z"
   },
   {
    "duration": 196,
    "start_time": "2024-02-24T18:40:43.789Z"
   },
   {
    "duration": 198,
    "start_time": "2024-02-24T18:40:53.179Z"
   },
   {
    "duration": 193,
    "start_time": "2024-02-24T18:41:08.208Z"
   },
   {
    "duration": 310,
    "start_time": "2024-02-24T18:41:30.326Z"
   },
   {
    "duration": 2,
    "start_time": "2024-02-24T18:43:59.791Z"
   },
   {
    "duration": 302,
    "start_time": "2024-02-24T18:45:17.913Z"
   },
   {
    "duration": 283,
    "start_time": "2024-02-24T18:45:47.729Z"
   },
   {
    "duration": 322,
    "start_time": "2024-02-24T18:47:54.393Z"
   },
   {
    "duration": 370,
    "start_time": "2024-02-24T18:48:02.756Z"
   },
   {
    "duration": 386,
    "start_time": "2024-02-24T18:49:52.377Z"
   },
   {
    "duration": 330,
    "start_time": "2024-02-24T18:49:57.895Z"
   },
   {
    "duration": 455,
    "start_time": "2024-02-24T18:50:04.089Z"
   },
   {
    "duration": 370,
    "start_time": "2024-02-24T18:50:48.345Z"
   },
   {
    "duration": 222,
    "start_time": "2024-02-24T18:51:02.728Z"
   },
   {
    "duration": 1273,
    "start_time": "2024-02-24T18:51:26.504Z"
   },
   {
    "duration": 3,
    "start_time": "2024-02-24T18:51:27.780Z"
   },
   {
    "duration": 85,
    "start_time": "2024-02-24T18:51:27.785Z"
   },
   {
    "duration": 12,
    "start_time": "2024-02-24T18:51:27.872Z"
   },
   {
    "duration": 16,
    "start_time": "2024-02-24T18:51:27.887Z"
   },
   {
    "duration": 5,
    "start_time": "2024-02-24T18:51:27.905Z"
   },
   {
    "duration": 16,
    "start_time": "2024-02-24T18:51:27.912Z"
   },
   {
    "duration": 21,
    "start_time": "2024-02-24T18:51:27.930Z"
   },
   {
    "duration": 31,
    "start_time": "2024-02-24T18:51:27.953Z"
   },
   {
    "duration": 12,
    "start_time": "2024-02-24T18:51:27.985Z"
   },
   {
    "duration": 19,
    "start_time": "2024-02-24T18:51:27.998Z"
   },
   {
    "duration": 5,
    "start_time": "2024-02-24T18:51:28.018Z"
   },
   {
    "duration": 11,
    "start_time": "2024-02-24T18:51:28.024Z"
   },
   {
    "duration": 12,
    "start_time": "2024-02-24T18:51:28.038Z"
   },
   {
    "duration": 14,
    "start_time": "2024-02-24T18:51:28.080Z"
   },
   {
    "duration": 12,
    "start_time": "2024-02-24T18:51:28.095Z"
   },
   {
    "duration": 12,
    "start_time": "2024-02-24T18:51:28.109Z"
   },
   {
    "duration": 6,
    "start_time": "2024-02-24T18:51:28.123Z"
   },
   {
    "duration": 9,
    "start_time": "2024-02-24T18:51:28.131Z"
   },
   {
    "duration": 43,
    "start_time": "2024-02-24T18:51:28.142Z"
   },
   {
    "duration": 14,
    "start_time": "2024-02-24T18:51:28.187Z"
   },
   {
    "duration": 630,
    "start_time": "2024-02-24T18:51:28.202Z"
   },
   {
    "duration": 216,
    "start_time": "2024-02-24T18:51:28.834Z"
   },
   {
    "duration": 360,
    "start_time": "2024-02-24T18:51:29.052Z"
   },
   {
    "duration": 245,
    "start_time": "2024-02-24T18:51:29.414Z"
   },
   {
    "duration": 358,
    "start_time": "2024-02-24T18:51:29.661Z"
   },
   {
    "duration": 366,
    "start_time": "2024-02-24T18:54:01.372Z"
   },
   {
    "duration": 1258,
    "start_time": "2024-02-24T18:54:28.040Z"
   },
   {
    "duration": 2,
    "start_time": "2024-02-24T18:54:29.301Z"
   },
   {
    "duration": 77,
    "start_time": "2024-02-24T18:54:29.305Z"
   },
   {
    "duration": 13,
    "start_time": "2024-02-24T18:54:29.383Z"
   },
   {
    "duration": 13,
    "start_time": "2024-02-24T18:54:29.399Z"
   },
   {
    "duration": 5,
    "start_time": "2024-02-24T18:54:29.415Z"
   },
   {
    "duration": 11,
    "start_time": "2024-02-24T18:54:29.422Z"
   },
   {
    "duration": 52,
    "start_time": "2024-02-24T18:54:29.435Z"
   },
   {
    "duration": 15,
    "start_time": "2024-02-24T18:54:29.490Z"
   },
   {
    "duration": 17,
    "start_time": "2024-02-24T18:54:29.507Z"
   },
   {
    "duration": 20,
    "start_time": "2024-02-24T18:54:29.526Z"
   },
   {
    "duration": 5,
    "start_time": "2024-02-24T18:54:29.547Z"
   },
   {
    "duration": 19,
    "start_time": "2024-02-24T18:54:29.553Z"
   },
   {
    "duration": 14,
    "start_time": "2024-02-24T18:54:29.579Z"
   },
   {
    "duration": 15,
    "start_time": "2024-02-24T18:54:29.595Z"
   },
   {
    "duration": 9,
    "start_time": "2024-02-24T18:54:29.612Z"
   },
   {
    "duration": 12,
    "start_time": "2024-02-24T18:54:29.624Z"
   },
   {
    "duration": 6,
    "start_time": "2024-02-24T18:54:29.638Z"
   },
   {
    "duration": 40,
    "start_time": "2024-02-24T18:54:29.645Z"
   },
   {
    "duration": 8,
    "start_time": "2024-02-24T18:54:29.687Z"
   },
   {
    "duration": 15,
    "start_time": "2024-02-24T18:54:29.696Z"
   },
   {
    "duration": 641,
    "start_time": "2024-02-24T18:54:29.713Z"
   },
   {
    "duration": 254,
    "start_time": "2024-02-24T18:54:30.356Z"
   },
   {
    "duration": 327,
    "start_time": "2024-02-24T18:54:30.612Z"
   },
   {
    "duration": 252,
    "start_time": "2024-02-24T18:54:30.941Z"
   },
   {
    "duration": 339,
    "start_time": "2024-02-24T18:54:31.195Z"
   },
   {
    "duration": 3,
    "start_time": "2024-02-25T07:44:03.473Z"
   },
   {
    "duration": 3,
    "start_time": "2024-02-25T07:44:07.662Z"
   },
   {
    "duration": 57,
    "start_time": "2024-02-25T07:45:30.263Z"
   },
   {
    "duration": 6,
    "start_time": "2024-02-25T07:45:37.409Z"
   },
   {
    "duration": 1267,
    "start_time": "2024-02-25T07:45:43.760Z"
   },
   {
    "duration": 2,
    "start_time": "2024-02-25T07:45:45.029Z"
   },
   {
    "duration": 204,
    "start_time": "2024-02-25T07:45:45.033Z"
   },
   {
    "duration": 11,
    "start_time": "2024-02-25T07:45:45.239Z"
   },
   {
    "duration": 20,
    "start_time": "2024-02-25T07:45:45.253Z"
   },
   {
    "duration": 29,
    "start_time": "2024-02-25T07:45:45.274Z"
   },
   {
    "duration": 42,
    "start_time": "2024-02-25T07:45:45.304Z"
   },
   {
    "duration": 33,
    "start_time": "2024-02-25T07:45:45.348Z"
   },
   {
    "duration": 20,
    "start_time": "2024-02-25T07:45:45.382Z"
   },
   {
    "duration": 33,
    "start_time": "2024-02-25T07:45:45.404Z"
   },
   {
    "duration": 22,
    "start_time": "2024-02-25T07:45:45.438Z"
   },
   {
    "duration": 16,
    "start_time": "2024-02-25T07:45:45.462Z"
   },
   {
    "duration": 13,
    "start_time": "2024-02-25T07:45:45.480Z"
   },
   {
    "duration": 24,
    "start_time": "2024-02-25T07:45:45.495Z"
   },
   {
    "duration": 18,
    "start_time": "2024-02-25T07:45:45.520Z"
   },
   {
    "duration": 17,
    "start_time": "2024-02-25T07:45:45.539Z"
   },
   {
    "duration": 21,
    "start_time": "2024-02-25T07:45:45.558Z"
   },
   {
    "duration": 9,
    "start_time": "2024-02-25T07:45:45.580Z"
   },
   {
    "duration": 10,
    "start_time": "2024-02-25T07:45:45.591Z"
   },
   {
    "duration": 9,
    "start_time": "2024-02-25T07:45:45.603Z"
   },
   {
    "duration": 17,
    "start_time": "2024-02-25T07:45:45.614Z"
   },
   {
    "duration": 524,
    "start_time": "2024-02-25T07:45:45.632Z"
   },
   {
    "duration": 203,
    "start_time": "2024-02-25T07:45:46.157Z"
   },
   {
    "duration": 320,
    "start_time": "2024-02-25T07:45:46.361Z"
   },
   {
    "duration": 219,
    "start_time": "2024-02-25T07:45:46.682Z"
   },
   {
    "duration": 349,
    "start_time": "2024-02-25T07:45:46.902Z"
   },
   {
    "duration": 10,
    "start_time": "2024-02-25T07:45:47.252Z"
   },
   {
    "duration": 90,
    "start_time": "2024-02-25T07:48:06.812Z"
   },
   {
    "duration": 14,
    "start_time": "2024-02-25T07:50:31.524Z"
   },
   {
    "duration": 12,
    "start_time": "2024-02-25T07:50:54.527Z"
   },
   {
    "duration": 123,
    "start_time": "2024-02-25T07:51:20.237Z"
   },
   {
    "duration": 116,
    "start_time": "2024-02-25T07:51:40.926Z"
   },
   {
    "duration": 151,
    "start_time": "2024-02-25T07:51:59.542Z"
   },
   {
    "duration": 202,
    "start_time": "2024-02-25T07:53:23.688Z"
   },
   {
    "duration": 141,
    "start_time": "2024-02-25T07:53:58.688Z"
   },
   {
    "duration": 235,
    "start_time": "2024-02-25T07:54:53.467Z"
   },
   {
    "duration": 141,
    "start_time": "2024-02-25T07:55:28.615Z"
   },
   {
    "duration": 136,
    "start_time": "2024-02-25T07:55:57.454Z"
   },
   {
    "duration": 123,
    "start_time": "2024-02-25T07:56:23.432Z"
   },
   {
    "duration": 144,
    "start_time": "2024-02-25T07:57:50.635Z"
   },
   {
    "duration": 4,
    "start_time": "2024-02-25T08:00:42.065Z"
   },
   {
    "duration": 4,
    "start_time": "2024-02-25T08:00:50.834Z"
   },
   {
    "duration": 9,
    "start_time": "2024-02-25T08:03:22.211Z"
   },
   {
    "duration": 5,
    "start_time": "2024-02-25T08:03:46.563Z"
   },
   {
    "duration": 4,
    "start_time": "2024-02-25T08:04:19.705Z"
   },
   {
    "duration": 174,
    "start_time": "2024-02-25T08:07:41.075Z"
   },
   {
    "duration": 9,
    "start_time": "2024-02-25T08:09:15.708Z"
   },
   {
    "duration": 113,
    "start_time": "2024-02-25T08:09:21.733Z"
   },
   {
    "duration": 145,
    "start_time": "2024-02-25T08:09:35.805Z"
   },
   {
    "duration": 126,
    "start_time": "2024-02-25T08:10:34.306Z"
   },
   {
    "duration": 212,
    "start_time": "2024-02-25T08:10:58.564Z"
   },
   {
    "duration": 155,
    "start_time": "2024-02-25T08:12:16.235Z"
   },
   {
    "duration": 151,
    "start_time": "2024-02-25T08:12:46.149Z"
   },
   {
    "duration": 156,
    "start_time": "2024-02-25T08:14:28.874Z"
   },
   {
    "duration": 3,
    "start_time": "2024-02-25T08:21:08.800Z"
   },
   {
    "duration": 4,
    "start_time": "2024-02-25T08:21:48.845Z"
   },
   {
    "duration": 4,
    "start_time": "2024-02-25T08:22:33.859Z"
   },
   {
    "duration": 4,
    "start_time": "2024-02-25T08:22:51.910Z"
   },
   {
    "duration": 8,
    "start_time": "2024-02-25T08:24:02.944Z"
   },
   {
    "duration": 3,
    "start_time": "2024-02-25T08:24:08.566Z"
   },
   {
    "duration": 142,
    "start_time": "2024-02-25T08:34:52.224Z"
   },
   {
    "duration": 122,
    "start_time": "2024-02-25T08:41:32.673Z"
   },
   {
    "duration": 126,
    "start_time": "2024-02-25T08:41:52.703Z"
   },
   {
    "duration": 135,
    "start_time": "2024-02-25T08:42:37.121Z"
   },
   {
    "duration": 153,
    "start_time": "2024-02-25T08:43:10.677Z"
   },
   {
    "duration": 146,
    "start_time": "2024-02-25T08:44:51.427Z"
   },
   {
    "duration": 171,
    "start_time": "2024-02-25T08:45:01.862Z"
   },
   {
    "duration": 198,
    "start_time": "2024-02-25T08:45:08.480Z"
   },
   {
    "duration": 161,
    "start_time": "2024-02-25T08:45:17.242Z"
   },
   {
    "duration": 147,
    "start_time": "2024-02-25T08:45:29.972Z"
   },
   {
    "duration": 93,
    "start_time": "2024-02-25T08:46:24.901Z"
   },
   {
    "duration": 155,
    "start_time": "2024-02-25T08:46:37.770Z"
   },
   {
    "duration": 72,
    "start_time": "2024-02-25T08:46:51.158Z"
   },
   {
    "duration": 78,
    "start_time": "2024-02-25T08:47:14.180Z"
   },
   {
    "duration": 154,
    "start_time": "2024-02-25T08:48:15.816Z"
   },
   {
    "duration": 161,
    "start_time": "2024-02-25T08:49:38.338Z"
   },
   {
    "duration": 148,
    "start_time": "2024-02-25T08:49:42.932Z"
   },
   {
    "duration": 137,
    "start_time": "2024-02-25T08:49:46.822Z"
   },
   {
    "duration": 9,
    "start_time": "2024-02-25T08:58:12.968Z"
   },
   {
    "duration": 11,
    "start_time": "2024-02-25T08:58:27.646Z"
   },
   {
    "duration": 10,
    "start_time": "2024-02-25T09:01:50.179Z"
   },
   {
    "duration": 88,
    "start_time": "2024-02-25T09:02:05.200Z"
   },
   {
    "duration": 10,
    "start_time": "2024-02-25T09:03:11.194Z"
   },
   {
    "duration": 69,
    "start_time": "2024-02-25T09:03:26.928Z"
   },
   {
    "duration": 103,
    "start_time": "2024-02-25T09:03:31.888Z"
   },
   {
    "duration": 10,
    "start_time": "2024-02-25T09:03:51.667Z"
   },
   {
    "duration": 62,
    "start_time": "2024-02-25T09:05:14.506Z"
   },
   {
    "duration": 10,
    "start_time": "2024-02-25T09:05:54.743Z"
   },
   {
    "duration": 69,
    "start_time": "2024-02-25T09:06:12.587Z"
   },
   {
    "duration": 67,
    "start_time": "2024-02-25T09:06:32.056Z"
   },
   {
    "duration": 10,
    "start_time": "2024-02-25T09:06:50.841Z"
   },
   {
    "duration": 69,
    "start_time": "2024-02-25T09:06:57.256Z"
   },
   {
    "duration": 10,
    "start_time": "2024-02-25T09:07:35.850Z"
   },
   {
    "duration": 11,
    "start_time": "2024-02-25T09:07:53.296Z"
   },
   {
    "duration": 9,
    "start_time": "2024-02-25T09:08:53.348Z"
   },
   {
    "duration": 1113,
    "start_time": "2024-02-25T09:14:21.247Z"
   },
   {
    "duration": 8,
    "start_time": "2024-02-25T09:14:48.723Z"
   },
   {
    "duration": 46,
    "start_time": "2024-02-25T09:17:48.372Z"
   },
   {
    "duration": 10,
    "start_time": "2024-02-25T09:18:56.085Z"
   },
   {
    "duration": 15,
    "start_time": "2024-02-25T09:19:23.922Z"
   },
   {
    "duration": 62,
    "start_time": "2024-02-25T09:20:05.487Z"
   },
   {
    "duration": 31,
    "start_time": "2024-02-25T09:22:32.995Z"
   },
   {
    "duration": 42,
    "start_time": "2024-02-25T09:22:44.148Z"
   },
   {
    "duration": 38,
    "start_time": "2024-02-25T09:22:51.794Z"
   },
   {
    "duration": 37,
    "start_time": "2024-02-25T09:22:58.600Z"
   },
   {
    "duration": 31,
    "start_time": "2024-02-25T09:23:05.912Z"
   },
   {
    "duration": 1072,
    "start_time": "2024-02-25T09:29:10.649Z"
   },
   {
    "duration": 13,
    "start_time": "2024-02-25T09:29:30.256Z"
   },
   {
    "duration": 13,
    "start_time": "2024-02-25T09:35:24.878Z"
   },
   {
    "duration": 13,
    "start_time": "2024-02-25T09:36:18.073Z"
   },
   {
    "duration": 13,
    "start_time": "2024-02-25T09:36:22.140Z"
   },
   {
    "duration": 13,
    "start_time": "2024-02-25T09:37:28.492Z"
   },
   {
    "duration": 12,
    "start_time": "2024-02-25T09:37:39.175Z"
   },
   {
    "duration": 13,
    "start_time": "2024-02-25T09:37:44.612Z"
   },
   {
    "duration": 13,
    "start_time": "2024-02-25T09:38:10.201Z"
   },
   {
    "duration": 13,
    "start_time": "2024-02-25T09:38:20.519Z"
   },
   {
    "duration": 65,
    "start_time": "2024-02-26T07:56:09.000Z"
   },
   {
    "duration": 1352,
    "start_time": "2024-02-26T07:56:16.059Z"
   },
   {
    "duration": 3,
    "start_time": "2024-02-26T07:56:17.413Z"
   },
   {
    "duration": 200,
    "start_time": "2024-02-26T07:56:17.418Z"
   },
   {
    "duration": 15,
    "start_time": "2024-02-26T07:56:17.620Z"
   },
   {
    "duration": 19,
    "start_time": "2024-02-26T07:56:17.637Z"
   },
   {
    "duration": 5,
    "start_time": "2024-02-26T07:56:17.657Z"
   },
   {
    "duration": 14,
    "start_time": "2024-02-26T07:56:17.663Z"
   },
   {
    "duration": 22,
    "start_time": "2024-02-26T07:56:17.679Z"
   },
   {
    "duration": 9,
    "start_time": "2024-02-26T07:56:17.703Z"
   },
   {
    "duration": 10,
    "start_time": "2024-02-26T07:56:17.715Z"
   },
   {
    "duration": 29,
    "start_time": "2024-02-26T07:56:17.727Z"
   },
   {
    "duration": 7,
    "start_time": "2024-02-26T07:56:17.758Z"
   },
   {
    "duration": 21,
    "start_time": "2024-02-26T07:56:17.766Z"
   },
   {
    "duration": 29,
    "start_time": "2024-02-26T07:56:17.788Z"
   },
   {
    "duration": 10,
    "start_time": "2024-02-26T07:56:17.819Z"
   },
   {
    "duration": 5,
    "start_time": "2024-02-26T07:56:17.830Z"
   },
   {
    "duration": 11,
    "start_time": "2024-02-26T07:56:17.836Z"
   },
   {
    "duration": 7,
    "start_time": "2024-02-26T07:56:17.849Z"
   },
   {
    "duration": 114,
    "start_time": "2024-02-26T07:56:17.857Z"
   },
   {
    "duration": 0,
    "start_time": "2024-02-26T07:56:17.973Z"
   },
   {
    "duration": 0,
    "start_time": "2024-02-26T07:56:17.974Z"
   },
   {
    "duration": 0,
    "start_time": "2024-02-26T07:56:17.975Z"
   },
   {
    "duration": 0,
    "start_time": "2024-02-26T07:56:17.976Z"
   },
   {
    "duration": 0,
    "start_time": "2024-02-26T07:56:17.977Z"
   },
   {
    "duration": 0,
    "start_time": "2024-02-26T07:56:17.978Z"
   },
   {
    "duration": 0,
    "start_time": "2024-02-26T07:56:17.979Z"
   },
   {
    "duration": 0,
    "start_time": "2024-02-26T07:56:17.980Z"
   },
   {
    "duration": 0,
    "start_time": "2024-02-26T07:56:17.994Z"
   },
   {
    "duration": 0,
    "start_time": "2024-02-26T07:56:17.995Z"
   },
   {
    "duration": 0,
    "start_time": "2024-02-26T07:56:17.996Z"
   },
   {
    "duration": 0,
    "start_time": "2024-02-26T07:56:17.997Z"
   },
   {
    "duration": 0,
    "start_time": "2024-02-26T07:56:17.998Z"
   },
   {
    "duration": 0,
    "start_time": "2024-02-26T07:56:17.999Z"
   },
   {
    "duration": 0,
    "start_time": "2024-02-26T07:56:18.000Z"
   },
   {
    "duration": 0,
    "start_time": "2024-02-26T07:56:18.001Z"
   },
   {
    "duration": 5,
    "start_time": "2024-02-26T07:56:47.909Z"
   },
   {
    "duration": 6,
    "start_time": "2024-02-26T07:57:50.533Z"
   },
   {
    "duration": 7,
    "start_time": "2024-02-26T07:58:11.769Z"
   },
   {
    "duration": 10,
    "start_time": "2024-02-26T08:51:38.341Z"
   },
   {
    "duration": 7,
    "start_time": "2024-02-26T08:51:42.776Z"
   },
   {
    "duration": 6,
    "start_time": "2024-02-26T08:51:46.331Z"
   },
   {
    "duration": 7,
    "start_time": "2024-02-26T08:53:36.260Z"
   },
   {
    "duration": 5,
    "start_time": "2024-02-26T08:53:50.281Z"
   },
   {
    "duration": 4,
    "start_time": "2024-02-26T08:53:54.096Z"
   },
   {
    "duration": 1123,
    "start_time": "2024-02-26T09:47:47.255Z"
   },
   {
    "duration": 2,
    "start_time": "2024-02-26T09:47:48.380Z"
   },
   {
    "duration": 77,
    "start_time": "2024-02-26T09:47:48.383Z"
   },
   {
    "duration": 10,
    "start_time": "2024-02-26T09:47:48.462Z"
   },
   {
    "duration": 23,
    "start_time": "2024-02-26T09:47:48.474Z"
   },
   {
    "duration": 20,
    "start_time": "2024-02-26T09:47:48.498Z"
   },
   {
    "duration": 30,
    "start_time": "2024-02-26T09:47:48.520Z"
   },
   {
    "duration": 36,
    "start_time": "2024-02-26T09:47:48.552Z"
   },
   {
    "duration": 30,
    "start_time": "2024-02-26T09:47:48.590Z"
   },
   {
    "duration": 24,
    "start_time": "2024-02-26T09:47:48.622Z"
   },
   {
    "duration": 20,
    "start_time": "2024-02-26T09:47:48.647Z"
   },
   {
    "duration": 16,
    "start_time": "2024-02-26T09:47:48.668Z"
   },
   {
    "duration": 34,
    "start_time": "2024-02-26T09:47:48.685Z"
   },
   {
    "duration": 36,
    "start_time": "2024-02-26T09:47:48.721Z"
   },
   {
    "duration": 38,
    "start_time": "2024-02-26T09:47:48.759Z"
   },
   {
    "duration": 18,
    "start_time": "2024-02-26T09:47:48.798Z"
   },
   {
    "duration": 560,
    "start_time": "2024-02-26T09:47:48.817Z"
   },
   {
    "duration": 209,
    "start_time": "2024-02-26T09:47:49.379Z"
   },
   {
    "duration": 289,
    "start_time": "2024-02-26T09:47:49.593Z"
   },
   {
    "duration": 226,
    "start_time": "2024-02-26T09:47:49.883Z"
   },
   {
    "duration": 320,
    "start_time": "2024-02-26T09:47:50.110Z"
   },
   {
    "duration": 164,
    "start_time": "2024-02-26T09:47:50.432Z"
   },
   {
    "duration": 5,
    "start_time": "2024-02-26T09:47:50.598Z"
   },
   {
    "duration": 181,
    "start_time": "2024-02-26T09:47:50.604Z"
   },
   {
    "duration": 5,
    "start_time": "2024-02-26T09:47:50.786Z"
   },
   {
    "duration": 168,
    "start_time": "2024-02-26T09:47:50.793Z"
   },
   {
    "duration": 11,
    "start_time": "2024-02-26T09:47:50.963Z"
   },
   {
    "duration": 43,
    "start_time": "2024-02-26T09:47:50.976Z"
   },
   {
    "duration": 13,
    "start_time": "2024-02-26T09:47:51.020Z"
   },
   {
    "duration": 1151,
    "start_time": "2024-02-26T09:58:28.703Z"
   },
   {
    "duration": 2,
    "start_time": "2024-02-26T09:58:29.856Z"
   },
   {
    "duration": 86,
    "start_time": "2024-02-26T09:58:29.860Z"
   },
   {
    "duration": 11,
    "start_time": "2024-02-26T09:58:29.948Z"
   },
   {
    "duration": 69,
    "start_time": "2024-02-26T09:58:29.960Z"
   },
   {
    "duration": 76,
    "start_time": "2024-02-26T09:58:30.031Z"
   },
   {
    "duration": 44,
    "start_time": "2024-02-26T09:58:30.109Z"
   },
   {
    "duration": 49,
    "start_time": "2024-02-26T09:58:30.155Z"
   },
   {
    "duration": 23,
    "start_time": "2024-02-26T09:58:30.206Z"
   },
   {
    "duration": 52,
    "start_time": "2024-02-26T09:58:30.232Z"
   },
   {
    "duration": 59,
    "start_time": "2024-02-26T09:58:30.286Z"
   },
   {
    "duration": 112,
    "start_time": "2024-02-26T09:58:30.346Z"
   },
   {
    "duration": 51,
    "start_time": "2024-02-26T09:58:30.460Z"
   },
   {
    "duration": 30,
    "start_time": "2024-02-26T09:58:30.512Z"
   },
   {
    "duration": 33,
    "start_time": "2024-02-26T09:58:30.543Z"
   },
   {
    "duration": 59,
    "start_time": "2024-02-26T09:58:30.578Z"
   },
   {
    "duration": 586,
    "start_time": "2024-02-26T09:58:30.638Z"
   },
   {
    "duration": 211,
    "start_time": "2024-02-26T09:58:31.225Z"
   },
   {
    "duration": 351,
    "start_time": "2024-02-26T09:58:31.437Z"
   },
   {
    "duration": 255,
    "start_time": "2024-02-26T09:58:31.793Z"
   },
   {
    "duration": 341,
    "start_time": "2024-02-26T09:58:32.049Z"
   },
   {
    "duration": 158,
    "start_time": "2024-02-26T09:58:32.392Z"
   },
   {
    "duration": 4,
    "start_time": "2024-02-26T09:58:32.552Z"
   },
   {
    "duration": 202,
    "start_time": "2024-02-26T09:58:32.558Z"
   },
   {
    "duration": 4,
    "start_time": "2024-02-26T09:58:32.762Z"
   },
   {
    "duration": 322,
    "start_time": "2024-02-26T09:58:32.767Z"
   },
   {
    "duration": 10,
    "start_time": "2024-02-26T09:58:33.093Z"
   },
   {
    "duration": 61,
    "start_time": "2024-02-26T09:58:33.106Z"
   },
   {
    "duration": 59,
    "start_time": "2024-02-26T09:58:33.168Z"
   },
   {
    "duration": 6,
    "start_time": "2024-02-26T11:32:39.339Z"
   },
   {
    "duration": 11,
    "start_time": "2024-02-26T11:51:32.462Z"
   },
   {
    "duration": 7,
    "start_time": "2024-02-26T11:52:00.758Z"
   },
   {
    "duration": 7,
    "start_time": "2024-02-26T11:52:04.952Z"
   },
   {
    "duration": 6,
    "start_time": "2024-02-26T11:52:17.451Z"
   },
   {
    "duration": 5,
    "start_time": "2024-02-26T11:52:28.129Z"
   },
   {
    "duration": 6,
    "start_time": "2024-02-26T11:52:56.542Z"
   },
   {
    "duration": 6,
    "start_time": "2024-02-26T11:53:52.062Z"
   },
   {
    "duration": 5,
    "start_time": "2024-02-26T11:53:58.614Z"
   },
   {
    "duration": 7,
    "start_time": "2024-02-26T11:54:38.408Z"
   },
   {
    "duration": 131,
    "start_time": "2024-02-26T11:57:13.790Z"
   },
   {
    "duration": 91,
    "start_time": "2024-02-26T11:57:32.245Z"
   },
   {
    "duration": 10,
    "start_time": "2024-02-26T11:58:51.615Z"
   },
   {
    "duration": 6,
    "start_time": "2024-02-26T11:59:17.445Z"
   },
   {
    "duration": 11,
    "start_time": "2024-02-26T12:02:26.417Z"
   },
   {
    "duration": 10,
    "start_time": "2024-02-26T12:02:43.566Z"
   },
   {
    "duration": 11,
    "start_time": "2024-02-26T12:03:15.852Z"
   },
   {
    "duration": 10,
    "start_time": "2024-02-26T12:03:28.147Z"
   },
   {
    "duration": 12,
    "start_time": "2024-02-26T12:03:55.777Z"
   },
   {
    "duration": 12,
    "start_time": "2024-02-26T12:04:27.932Z"
   },
   {
    "duration": 13,
    "start_time": "2024-02-26T12:05:30.028Z"
   },
   {
    "duration": 16,
    "start_time": "2024-02-26T12:06:07.018Z"
   },
   {
    "duration": 13,
    "start_time": "2024-02-26T12:07:07.559Z"
   },
   {
    "duration": 13,
    "start_time": "2024-02-26T12:07:24.554Z"
   },
   {
    "duration": 14,
    "start_time": "2024-02-26T12:07:53.739Z"
   },
   {
    "duration": 14,
    "start_time": "2024-02-26T12:08:21.248Z"
   },
   {
    "duration": 19,
    "start_time": "2024-02-26T12:08:59.249Z"
   },
   {
    "duration": 100,
    "start_time": "2024-02-26T12:09:10.583Z"
   },
   {
    "duration": 145,
    "start_time": "2024-02-26T12:09:17.159Z"
   },
   {
    "duration": 13,
    "start_time": "2024-02-26T12:09:26.539Z"
   },
   {
    "duration": 14,
    "start_time": "2024-02-26T12:09:49.773Z"
   },
   {
    "duration": 18,
    "start_time": "2024-02-26T12:11:08.888Z"
   },
   {
    "duration": 18,
    "start_time": "2024-02-26T12:12:43.089Z"
   },
   {
    "duration": 19,
    "start_time": "2024-02-26T12:13:19.409Z"
   },
   {
    "duration": 23,
    "start_time": "2024-02-26T12:13:43.479Z"
   },
   {
    "duration": 22,
    "start_time": "2024-02-26T12:14:28.299Z"
   },
   {
    "duration": 17,
    "start_time": "2024-02-26T12:14:59.509Z"
   },
   {
    "duration": 22,
    "start_time": "2024-02-26T12:16:24.200Z"
   },
   {
    "duration": 18,
    "start_time": "2024-02-26T12:16:41.839Z"
   },
   {
    "duration": 122,
    "start_time": "2024-02-26T12:17:13.979Z"
   },
   {
    "duration": 19,
    "start_time": "2024-02-26T12:17:31.524Z"
   },
   {
    "duration": 26,
    "start_time": "2024-02-26T12:18:50.810Z"
   },
   {
    "duration": 19,
    "start_time": "2024-02-26T12:20:09.880Z"
   },
   {
    "duration": 25,
    "start_time": "2024-02-26T12:20:24.120Z"
   },
   {
    "duration": 107,
    "start_time": "2024-02-26T12:22:03.319Z"
   },
   {
    "duration": 115,
    "start_time": "2024-02-26T12:22:29.334Z"
   },
   {
    "duration": 14,
    "start_time": "2024-02-26T12:22:45.310Z"
   },
   {
    "duration": 14,
    "start_time": "2024-02-26T12:23:13.529Z"
   },
   {
    "duration": 19,
    "start_time": "2024-02-26T12:25:21.315Z"
   },
   {
    "duration": 15,
    "start_time": "2024-02-26T12:25:29.780Z"
   },
   {
    "duration": 14,
    "start_time": "2024-02-26T12:26:00.840Z"
   },
   {
    "duration": 14,
    "start_time": "2024-02-26T12:26:33.050Z"
   },
   {
    "duration": 14,
    "start_time": "2024-02-26T12:26:36.579Z"
   },
   {
    "duration": 15,
    "start_time": "2024-02-26T12:27:06.629Z"
   },
   {
    "duration": 14,
    "start_time": "2024-02-26T12:27:21.023Z"
   },
   {
    "duration": 14,
    "start_time": "2024-02-26T12:27:31.269Z"
   },
   {
    "duration": 13,
    "start_time": "2024-02-26T12:28:46.549Z"
   },
   {
    "duration": 19,
    "start_time": "2024-02-26T12:29:03.119Z"
   },
   {
    "duration": 17,
    "start_time": "2024-02-26T12:29:12.384Z"
   },
   {
    "duration": 14,
    "start_time": "2024-02-26T12:31:08.864Z"
   },
   {
    "duration": 17,
    "start_time": "2024-02-26T12:31:39.586Z"
   },
   {
    "duration": 13,
    "start_time": "2024-02-26T12:33:26.859Z"
   },
   {
    "duration": 570,
    "start_time": "2024-02-26T12:40:28.309Z"
   },
   {
    "duration": 455,
    "start_time": "2024-02-26T12:42:26.669Z"
   },
   {
    "duration": 482,
    "start_time": "2024-02-26T12:42:42.778Z"
   },
   {
    "duration": 446,
    "start_time": "2024-02-26T12:43:50.099Z"
   },
   {
    "duration": 144,
    "start_time": "2024-02-26T13:04:37.067Z"
   },
   {
    "duration": 5,
    "start_time": "2024-02-26T13:07:01.061Z"
   },
   {
    "duration": 5,
    "start_time": "2024-02-26T13:07:05.871Z"
   },
   {
    "duration": 4,
    "start_time": "2024-02-26T13:10:38.850Z"
   },
   {
    "duration": 4,
    "start_time": "2024-02-26T13:10:47.099Z"
   },
   {
    "duration": 5,
    "start_time": "2024-02-26T13:10:52.739Z"
   },
   {
    "duration": 151,
    "start_time": "2024-02-26T13:17:40.818Z"
   },
   {
    "duration": 1142,
    "start_time": "2024-02-26T13:56:26.799Z"
   },
   {
    "duration": 3,
    "start_time": "2024-02-26T13:56:27.943Z"
   },
   {
    "duration": 125,
    "start_time": "2024-02-26T13:56:27.947Z"
   },
   {
    "duration": 13,
    "start_time": "2024-02-26T13:56:28.074Z"
   },
   {
    "duration": 25,
    "start_time": "2024-02-26T13:56:28.089Z"
   },
   {
    "duration": 20,
    "start_time": "2024-02-26T13:56:28.116Z"
   },
   {
    "duration": 31,
    "start_time": "2024-02-26T13:56:28.138Z"
   },
   {
    "duration": 28,
    "start_time": "2024-02-26T13:56:28.172Z"
   },
   {
    "duration": 13,
    "start_time": "2024-02-26T13:56:28.202Z"
   },
   {
    "duration": 14,
    "start_time": "2024-02-26T13:56:28.218Z"
   },
   {
    "duration": 38,
    "start_time": "2024-02-26T13:56:28.234Z"
   },
   {
    "duration": 9,
    "start_time": "2024-02-26T13:56:28.274Z"
   },
   {
    "duration": 21,
    "start_time": "2024-02-26T13:56:28.285Z"
   },
   {
    "duration": 28,
    "start_time": "2024-02-26T13:56:28.309Z"
   },
   {
    "duration": 13,
    "start_time": "2024-02-26T13:56:28.339Z"
   },
   {
    "duration": 17,
    "start_time": "2024-02-26T13:56:28.354Z"
   },
   {
    "duration": 21,
    "start_time": "2024-02-26T13:56:28.373Z"
   },
   {
    "duration": 619,
    "start_time": "2024-02-26T13:56:28.395Z"
   },
   {
    "duration": 239,
    "start_time": "2024-02-26T13:56:29.016Z"
   },
   {
    "duration": 380,
    "start_time": "2024-02-26T13:56:29.257Z"
   },
   {
    "duration": 260,
    "start_time": "2024-02-26T13:56:29.638Z"
   },
   {
    "duration": 338,
    "start_time": "2024-02-26T13:56:29.900Z"
   },
   {
    "duration": 162,
    "start_time": "2024-02-26T13:56:30.239Z"
   },
   {
    "duration": 6,
    "start_time": "2024-02-26T13:56:30.402Z"
   },
   {
    "duration": 273,
    "start_time": "2024-02-26T13:56:30.409Z"
   },
   {
    "duration": 6,
    "start_time": "2024-02-26T13:56:30.684Z"
   },
   {
    "duration": 227,
    "start_time": "2024-02-26T13:56:30.694Z"
   },
   {
    "duration": 11,
    "start_time": "2024-02-26T13:56:30.926Z"
   },
   {
    "duration": 106,
    "start_time": "2024-02-26T13:56:30.938Z"
   },
   {
    "duration": 89,
    "start_time": "2024-02-26T13:56:31.046Z"
   },
   {
    "duration": 35,
    "start_time": "2024-02-26T14:01:42.833Z"
   },
   {
    "duration": 35,
    "start_time": "2024-02-26T14:03:04.133Z"
   },
   {
    "duration": 53,
    "start_time": "2024-02-27T07:16:07.549Z"
   },
   {
    "duration": 1517,
    "start_time": "2024-02-27T07:16:13.764Z"
   },
   {
    "duration": 5,
    "start_time": "2024-02-27T07:16:15.283Z"
   },
   {
    "duration": 213,
    "start_time": "2024-02-27T07:16:15.289Z"
   },
   {
    "duration": 12,
    "start_time": "2024-02-27T07:16:15.504Z"
   },
   {
    "duration": 47,
    "start_time": "2024-02-27T07:16:15.517Z"
   },
   {
    "duration": 43,
    "start_time": "2024-02-27T07:16:15.566Z"
   },
   {
    "duration": 24,
    "start_time": "2024-02-27T07:16:15.610Z"
   },
   {
    "duration": 28,
    "start_time": "2024-02-27T07:16:15.636Z"
   },
   {
    "duration": 24,
    "start_time": "2024-02-27T07:16:15.665Z"
   },
   {
    "duration": 48,
    "start_time": "2024-02-27T07:16:15.692Z"
   },
   {
    "duration": 38,
    "start_time": "2024-02-27T07:16:15.741Z"
   },
   {
    "duration": 28,
    "start_time": "2024-02-27T07:16:15.781Z"
   },
   {
    "duration": 33,
    "start_time": "2024-02-27T07:16:15.810Z"
   },
   {
    "duration": 31,
    "start_time": "2024-02-27T07:16:15.845Z"
   },
   {
    "duration": 13,
    "start_time": "2024-02-27T07:16:15.877Z"
   },
   {
    "duration": 27,
    "start_time": "2024-02-27T07:16:15.891Z"
   },
   {
    "duration": 42,
    "start_time": "2024-02-27T07:16:15.920Z"
   },
   {
    "duration": 597,
    "start_time": "2024-02-27T07:16:15.963Z"
   },
   {
    "duration": 228,
    "start_time": "2024-02-27T07:16:16.561Z"
   },
   {
    "duration": 363,
    "start_time": "2024-02-27T07:16:16.791Z"
   },
   {
    "duration": 250,
    "start_time": "2024-02-27T07:16:17.156Z"
   },
   {
    "duration": 338,
    "start_time": "2024-02-27T07:16:17.408Z"
   },
   {
    "duration": 181,
    "start_time": "2024-02-27T07:16:17.748Z"
   },
   {
    "duration": 4,
    "start_time": "2024-02-27T07:16:17.931Z"
   },
   {
    "duration": 188,
    "start_time": "2024-02-27T07:16:17.937Z"
   },
   {
    "duration": 5,
    "start_time": "2024-02-27T07:16:18.127Z"
   },
   {
    "duration": 202,
    "start_time": "2024-02-27T07:16:18.133Z"
   },
   {
    "duration": 12,
    "start_time": "2024-02-27T07:16:18.338Z"
   },
   {
    "duration": 59,
    "start_time": "2024-02-27T07:16:18.352Z"
   },
   {
    "duration": 15,
    "start_time": "2024-02-27T07:16:18.414Z"
   },
   {
    "duration": 244,
    "start_time": "2024-02-27T07:18:05.998Z"
   },
   {
    "duration": 386,
    "start_time": "2024-02-27T07:18:52.638Z"
   },
   {
    "duration": 243,
    "start_time": "2024-02-27T07:19:28.241Z"
   },
   {
    "duration": 395,
    "start_time": "2024-02-27T07:20:00.673Z"
   },
   {
    "duration": 328,
    "start_time": "2024-02-27T07:20:19.528Z"
   },
   {
    "duration": 359,
    "start_time": "2024-02-27T07:21:06.547Z"
   },
   {
    "duration": 107,
    "start_time": "2024-02-27T07:21:24.788Z"
   },
   {
    "duration": 391,
    "start_time": "2024-02-27T07:21:30.878Z"
   },
   {
    "duration": 381,
    "start_time": "2024-02-27T07:21:45.058Z"
   },
   {
    "duration": 333,
    "start_time": "2024-02-27T07:22:12.618Z"
   },
   {
    "duration": 302,
    "start_time": "2024-02-27T07:22:48.228Z"
   },
   {
    "duration": 295,
    "start_time": "2024-02-27T07:22:56.428Z"
   },
   {
    "duration": 167,
    "start_time": "2024-02-27T07:24:21.913Z"
   },
   {
    "duration": 35,
    "start_time": "2024-02-27T07:26:22.998Z"
   },
   {
    "duration": 1285,
    "start_time": "2024-02-27T07:28:49.784Z"
   },
   {
    "duration": 2,
    "start_time": "2024-02-27T07:28:51.071Z"
   },
   {
    "duration": 83,
    "start_time": "2024-02-27T07:28:51.075Z"
   },
   {
    "duration": 12,
    "start_time": "2024-02-27T07:28:51.160Z"
   },
   {
    "duration": 25,
    "start_time": "2024-02-27T07:28:51.173Z"
   },
   {
    "duration": 4,
    "start_time": "2024-02-27T07:28:51.200Z"
   },
   {
    "duration": 17,
    "start_time": "2024-02-27T07:28:51.206Z"
   },
   {
    "duration": 14,
    "start_time": "2024-02-27T07:28:51.224Z"
   },
   {
    "duration": 25,
    "start_time": "2024-02-27T07:28:51.240Z"
   },
   {
    "duration": 12,
    "start_time": "2024-02-27T07:28:51.268Z"
   },
   {
    "duration": 17,
    "start_time": "2024-02-27T07:28:51.281Z"
   },
   {
    "duration": 18,
    "start_time": "2024-02-27T07:28:51.300Z"
   },
   {
    "duration": 25,
    "start_time": "2024-02-27T07:28:51.319Z"
   },
   {
    "duration": 36,
    "start_time": "2024-02-27T07:28:51.346Z"
   },
   {
    "duration": 13,
    "start_time": "2024-02-27T07:28:51.384Z"
   },
   {
    "duration": 11,
    "start_time": "2024-02-27T07:28:51.399Z"
   },
   {
    "duration": 24,
    "start_time": "2024-02-27T07:28:51.411Z"
   },
   {
    "duration": 625,
    "start_time": "2024-02-27T07:28:51.437Z"
   },
   {
    "duration": 232,
    "start_time": "2024-02-27T07:28:52.064Z"
   },
   {
    "duration": 342,
    "start_time": "2024-02-27T07:28:52.298Z"
   },
   {
    "duration": 263,
    "start_time": "2024-02-27T07:28:52.642Z"
   },
   {
    "duration": 323,
    "start_time": "2024-02-27T07:28:52.907Z"
   },
   {
    "duration": 169,
    "start_time": "2024-02-27T07:28:53.232Z"
   },
   {
    "duration": 5,
    "start_time": "2024-02-27T07:28:53.402Z"
   },
   {
    "duration": 189,
    "start_time": "2024-02-27T07:28:53.408Z"
   },
   {
    "duration": 4,
    "start_time": "2024-02-27T07:28:53.599Z"
   },
   {
    "duration": 184,
    "start_time": "2024-02-27T07:28:53.604Z"
   },
   {
    "duration": 12,
    "start_time": "2024-02-27T07:28:53.791Z"
   },
   {
    "duration": 39,
    "start_time": "2024-02-27T07:28:53.804Z"
   },
   {
    "duration": 43,
    "start_time": "2024-02-27T07:28:53.845Z"
   },
   {
    "duration": 1084,
    "start_time": "2024-02-27T07:34:03.174Z"
   },
   {
    "duration": 3,
    "start_time": "2024-02-27T07:34:04.260Z"
   },
   {
    "duration": 114,
    "start_time": "2024-02-27T07:34:04.264Z"
   },
   {
    "duration": 11,
    "start_time": "2024-02-27T07:34:04.379Z"
   },
   {
    "duration": 36,
    "start_time": "2024-02-27T07:34:04.392Z"
   },
   {
    "duration": 46,
    "start_time": "2024-02-27T07:34:04.430Z"
   },
   {
    "duration": 30,
    "start_time": "2024-02-27T07:34:04.477Z"
   },
   {
    "duration": 33,
    "start_time": "2024-02-27T07:34:04.508Z"
   },
   {
    "duration": 25,
    "start_time": "2024-02-27T07:34:04.543Z"
   },
   {
    "duration": 45,
    "start_time": "2024-02-27T07:34:04.569Z"
   },
   {
    "duration": 31,
    "start_time": "2024-02-27T07:34:04.616Z"
   },
   {
    "duration": 23,
    "start_time": "2024-02-27T07:34:04.649Z"
   },
   {
    "duration": 27,
    "start_time": "2024-02-27T07:34:04.674Z"
   },
   {
    "duration": 27,
    "start_time": "2024-02-27T07:34:04.704Z"
   },
   {
    "duration": 27,
    "start_time": "2024-02-27T07:34:04.733Z"
   },
   {
    "duration": 25,
    "start_time": "2024-02-27T07:34:04.762Z"
   },
   {
    "duration": 31,
    "start_time": "2024-02-27T07:34:04.789Z"
   },
   {
    "duration": 561,
    "start_time": "2024-02-27T07:34:04.821Z"
   },
   {
    "duration": 222,
    "start_time": "2024-02-27T07:34:05.384Z"
   },
   {
    "duration": 331,
    "start_time": "2024-02-27T07:34:05.608Z"
   },
   {
    "duration": 226,
    "start_time": "2024-02-27T07:34:05.940Z"
   },
   {
    "duration": 297,
    "start_time": "2024-02-27T07:34:06.167Z"
   },
   {
    "duration": 144,
    "start_time": "2024-02-27T07:34:06.465Z"
   },
   {
    "duration": 4,
    "start_time": "2024-02-27T07:34:06.610Z"
   },
   {
    "duration": 182,
    "start_time": "2024-02-27T07:34:06.615Z"
   },
   {
    "duration": 5,
    "start_time": "2024-02-27T07:34:06.798Z"
   },
   {
    "duration": 188,
    "start_time": "2024-02-27T07:34:06.804Z"
   },
   {
    "duration": 9,
    "start_time": "2024-02-27T07:34:06.993Z"
   },
   {
    "duration": 44,
    "start_time": "2024-02-27T07:34:07.003Z"
   },
   {
    "duration": 13,
    "start_time": "2024-02-27T07:34:07.049Z"
   },
   {
    "duration": 45,
    "start_time": "2024-02-27T09:37:46.404Z"
   },
   {
    "duration": 1329,
    "start_time": "2024-02-27T09:37:57.100Z"
   },
   {
    "duration": 2,
    "start_time": "2024-02-27T09:37:58.431Z"
   },
   {
    "duration": 193,
    "start_time": "2024-02-27T09:37:58.435Z"
   },
   {
    "duration": 12,
    "start_time": "2024-02-27T09:37:58.630Z"
   },
   {
    "duration": 25,
    "start_time": "2024-02-27T09:37:58.643Z"
   },
   {
    "duration": 4,
    "start_time": "2024-02-27T09:37:58.669Z"
   },
   {
    "duration": 16,
    "start_time": "2024-02-27T09:37:58.674Z"
   },
   {
    "duration": 15,
    "start_time": "2024-02-27T09:37:58.691Z"
   },
   {
    "duration": 4,
    "start_time": "2024-02-27T09:37:58.708Z"
   },
   {
    "duration": 19,
    "start_time": "2024-02-27T09:37:58.714Z"
   },
   {
    "duration": 9,
    "start_time": "2024-02-27T09:37:58.734Z"
   },
   {
    "duration": 5,
    "start_time": "2024-02-27T09:37:58.744Z"
   },
   {
    "duration": 12,
    "start_time": "2024-02-27T09:37:58.750Z"
   },
   {
    "duration": 10,
    "start_time": "2024-02-27T09:37:58.763Z"
   },
   {
    "duration": 11,
    "start_time": "2024-02-27T09:37:58.775Z"
   },
   {
    "duration": 6,
    "start_time": "2024-02-27T09:37:58.787Z"
   },
   {
    "duration": 43,
    "start_time": "2024-02-27T09:37:58.794Z"
   },
   {
    "duration": 104,
    "start_time": "2024-02-27T09:37:58.839Z"
   },
   {
    "duration": 0,
    "start_time": "2024-02-27T09:37:58.944Z"
   },
   {
    "duration": 0,
    "start_time": "2024-02-27T09:37:58.946Z"
   },
   {
    "duration": 0,
    "start_time": "2024-02-27T09:37:58.947Z"
   },
   {
    "duration": 0,
    "start_time": "2024-02-27T09:37:58.948Z"
   },
   {
    "duration": 0,
    "start_time": "2024-02-27T09:37:58.949Z"
   },
   {
    "duration": 0,
    "start_time": "2024-02-27T09:37:58.950Z"
   },
   {
    "duration": 0,
    "start_time": "2024-02-27T09:37:58.951Z"
   },
   {
    "duration": 0,
    "start_time": "2024-02-27T09:37:58.952Z"
   },
   {
    "duration": 0,
    "start_time": "2024-02-27T09:37:58.953Z"
   },
   {
    "duration": 0,
    "start_time": "2024-02-27T09:37:58.954Z"
   },
   {
    "duration": 0,
    "start_time": "2024-02-27T09:37:58.955Z"
   },
   {
    "duration": 0,
    "start_time": "2024-02-27T09:37:58.956Z"
   },
   {
    "duration": 0,
    "start_time": "2024-02-27T09:37:58.957Z"
   },
   {
    "duration": 16,
    "start_time": "2024-02-27T09:38:53.738Z"
   },
   {
    "duration": 11,
    "start_time": "2024-02-27T09:42:59.294Z"
   },
   {
    "duration": 12,
    "start_time": "2024-02-27T09:43:07.154Z"
   },
   {
    "duration": 11,
    "start_time": "2024-02-27T09:43:14.397Z"
   },
   {
    "duration": 10,
    "start_time": "2024-02-27T09:43:26.737Z"
   },
   {
    "duration": 17,
    "start_time": "2024-02-27T09:48:24.401Z"
   },
   {
    "duration": 18,
    "start_time": "2024-02-27T09:48:50.733Z"
   },
   {
    "duration": 20,
    "start_time": "2024-02-27T09:48:56.050Z"
   },
   {
    "duration": 11,
    "start_time": "2024-02-27T09:50:52.897Z"
   },
   {
    "duration": 13,
    "start_time": "2024-02-27T09:51:03.757Z"
   },
   {
    "duration": 17,
    "start_time": "2024-02-27T09:51:08.527Z"
   },
   {
    "duration": 16,
    "start_time": "2024-02-27T09:51:49.624Z"
   },
   {
    "duration": 16,
    "start_time": "2024-02-27T09:52:50.398Z"
   },
   {
    "duration": 11,
    "start_time": "2024-02-27T10:06:36.843Z"
   },
   {
    "duration": 18,
    "start_time": "2024-02-27T10:06:49.265Z"
   },
   {
    "duration": 11,
    "start_time": "2024-02-27T10:07:11.385Z"
   },
   {
    "duration": 11,
    "start_time": "2024-02-27T10:07:17.430Z"
   },
   {
    "duration": 17,
    "start_time": "2024-02-27T10:08:35.850Z"
   },
   {
    "duration": 17,
    "start_time": "2024-02-27T10:08:44.906Z"
   },
   {
    "duration": 16,
    "start_time": "2024-02-27T10:08:49.945Z"
   },
   {
    "duration": 18,
    "start_time": "2024-02-27T10:09:02.514Z"
   },
   {
    "duration": 16,
    "start_time": "2024-02-27T10:09:12.414Z"
   },
   {
    "duration": 10,
    "start_time": "2024-02-27T10:12:06.697Z"
   },
   {
    "duration": 12,
    "start_time": "2024-02-27T10:12:33.362Z"
   },
   {
    "duration": 15,
    "start_time": "2024-02-27T10:13:03.490Z"
   },
   {
    "duration": 14,
    "start_time": "2024-02-27T10:13:40.881Z"
   },
   {
    "duration": 76,
    "start_time": "2024-02-27T10:14:15.933Z"
   },
   {
    "duration": 15,
    "start_time": "2024-02-27T10:14:19.285Z"
   },
   {
    "duration": 15,
    "start_time": "2024-02-27T10:15:11.954Z"
   },
   {
    "duration": 107,
    "start_time": "2024-02-27T10:15:21.773Z"
   },
   {
    "duration": 105,
    "start_time": "2024-02-27T10:15:39.574Z"
   },
   {
    "duration": 123,
    "start_time": "2024-02-27T10:16:00.160Z"
   },
   {
    "duration": 112,
    "start_time": "2024-02-27T10:16:10.461Z"
   },
   {
    "duration": 16,
    "start_time": "2024-02-27T10:19:20.793Z"
   },
   {
    "duration": 16,
    "start_time": "2024-02-27T10:19:32.733Z"
   },
   {
    "duration": 20,
    "start_time": "2024-02-27T10:20:31.673Z"
   },
   {
    "duration": 15,
    "start_time": "2024-02-27T10:20:49.239Z"
   },
   {
    "duration": 15,
    "start_time": "2024-02-27T10:20:58.359Z"
   },
   {
    "duration": 16,
    "start_time": "2024-02-27T10:21:12.060Z"
   },
   {
    "duration": 20,
    "start_time": "2024-02-27T10:21:25.312Z"
   },
   {
    "duration": 96,
    "start_time": "2024-02-27T10:31:40.912Z"
   },
   {
    "duration": 11,
    "start_time": "2024-02-27T10:31:51.329Z"
   },
   {
    "duration": 84,
    "start_time": "2024-02-27T10:44:19.272Z"
   },
   {
    "duration": 1229,
    "start_time": "2024-02-27T10:44:39.132Z"
   },
   {
    "duration": 23,
    "start_time": "2024-02-27T10:46:55.360Z"
   },
   {
    "duration": 26,
    "start_time": "2024-02-27T10:47:29.513Z"
   },
   {
    "duration": 27,
    "start_time": "2024-02-27T11:08:36.735Z"
   },
   {
    "duration": 16,
    "start_time": "2024-02-27T11:15:43.400Z"
   },
   {
    "duration": 11,
    "start_time": "2024-02-27T11:16:33.948Z"
   },
   {
    "duration": 12,
    "start_time": "2024-02-27T11:16:59.079Z"
   },
   {
    "duration": 16,
    "start_time": "2024-02-27T11:17:21.725Z"
   },
   {
    "duration": 12,
    "start_time": "2024-02-27T11:17:31.997Z"
   },
   {
    "duration": 9,
    "start_time": "2024-02-27T11:17:40.072Z"
   },
   {
    "duration": 12,
    "start_time": "2024-02-27T11:17:51.121Z"
   },
   {
    "duration": 9,
    "start_time": "2024-02-27T11:18:04.964Z"
   },
   {
    "duration": 13,
    "start_time": "2024-02-27T11:18:17.332Z"
   },
   {
    "duration": 13,
    "start_time": "2024-02-27T11:18:33.985Z"
   },
   {
    "duration": 14,
    "start_time": "2024-02-27T11:18:42.726Z"
   },
   {
    "duration": 11,
    "start_time": "2024-02-27T11:18:51.805Z"
   },
   {
    "duration": 7,
    "start_time": "2024-02-27T11:19:20.945Z"
   },
   {
    "duration": 17,
    "start_time": "2024-02-27T11:20:58.473Z"
   },
   {
    "duration": 17,
    "start_time": "2024-02-27T11:21:10.323Z"
   },
   {
    "duration": 7,
    "start_time": "2024-02-27T11:24:21.034Z"
   },
   {
    "duration": 8,
    "start_time": "2024-02-27T11:24:25.026Z"
   },
   {
    "duration": 8,
    "start_time": "2024-02-27T11:24:32.427Z"
   },
   {
    "duration": 21,
    "start_time": "2024-02-27T11:25:12.912Z"
   },
   {
    "duration": 12,
    "start_time": "2024-02-27T11:25:35.245Z"
   },
   {
    "duration": 8,
    "start_time": "2024-02-27T11:25:48.906Z"
   },
   {
    "duration": 17,
    "start_time": "2024-02-27T12:10:27.163Z"
   },
   {
    "duration": 553,
    "start_time": "2024-02-27T12:12:38.196Z"
   },
   {
    "duration": 28,
    "start_time": "2024-02-27T12:14:55.411Z"
   },
   {
    "duration": 29,
    "start_time": "2024-02-27T12:15:53.901Z"
   },
   {
    "duration": 455,
    "start_time": "2024-02-27T12:16:17.581Z"
   },
   {
    "duration": 24,
    "start_time": "2024-02-27T13:41:31.588Z"
   },
   {
    "duration": 1097,
    "start_time": "2024-02-27T13:42:24.885Z"
   },
   {
    "duration": 3,
    "start_time": "2024-02-27T13:42:25.984Z"
   },
   {
    "duration": 77,
    "start_time": "2024-02-27T13:42:25.988Z"
   },
   {
    "duration": 11,
    "start_time": "2024-02-27T13:42:26.066Z"
   },
   {
    "duration": 22,
    "start_time": "2024-02-27T13:42:26.078Z"
   },
   {
    "duration": 4,
    "start_time": "2024-02-27T13:42:26.102Z"
   },
   {
    "duration": 15,
    "start_time": "2024-02-27T13:42:26.107Z"
   },
   {
    "duration": 14,
    "start_time": "2024-02-27T13:42:26.123Z"
   },
   {
    "duration": 23,
    "start_time": "2024-02-27T13:42:26.138Z"
   },
   {
    "duration": 9,
    "start_time": "2024-02-27T13:42:26.163Z"
   },
   {
    "duration": 16,
    "start_time": "2024-02-27T13:42:26.173Z"
   },
   {
    "duration": 5,
    "start_time": "2024-02-27T13:42:26.191Z"
   },
   {
    "duration": 8,
    "start_time": "2024-02-27T13:42:26.197Z"
   },
   {
    "duration": 10,
    "start_time": "2024-02-27T13:42:26.207Z"
   },
   {
    "duration": 16,
    "start_time": "2024-02-27T13:42:26.219Z"
   },
   {
    "duration": 5,
    "start_time": "2024-02-27T13:42:26.236Z"
   },
   {
    "duration": 110,
    "start_time": "2024-02-27T13:42:26.243Z"
   },
   {
    "duration": 0,
    "start_time": "2024-02-27T13:42:26.354Z"
   },
   {
    "duration": 0,
    "start_time": "2024-02-27T13:42:26.356Z"
   },
   {
    "duration": 0,
    "start_time": "2024-02-27T13:42:26.357Z"
   },
   {
    "duration": 0,
    "start_time": "2024-02-27T13:42:26.358Z"
   },
   {
    "duration": 0,
    "start_time": "2024-02-27T13:42:26.359Z"
   },
   {
    "duration": 1,
    "start_time": "2024-02-27T13:42:26.359Z"
   },
   {
    "duration": 0,
    "start_time": "2024-02-27T13:42:26.361Z"
   },
   {
    "duration": 0,
    "start_time": "2024-02-27T13:42:26.362Z"
   },
   {
    "duration": 0,
    "start_time": "2024-02-27T13:42:26.363Z"
   },
   {
    "duration": 0,
    "start_time": "2024-02-27T13:42:26.364Z"
   },
   {
    "duration": 0,
    "start_time": "2024-02-27T13:42:26.365Z"
   },
   {
    "duration": 0,
    "start_time": "2024-02-27T13:42:26.365Z"
   },
   {
    "duration": 0,
    "start_time": "2024-02-27T13:42:26.366Z"
   },
   {
    "duration": 1115,
    "start_time": "2024-02-27T13:46:29.962Z"
   },
   {
    "duration": 3,
    "start_time": "2024-02-27T13:46:31.079Z"
   },
   {
    "duration": 123,
    "start_time": "2024-02-27T13:46:31.083Z"
   },
   {
    "duration": 13,
    "start_time": "2024-02-27T13:46:31.208Z"
   },
   {
    "duration": 43,
    "start_time": "2024-02-27T13:46:31.222Z"
   },
   {
    "duration": 56,
    "start_time": "2024-02-27T13:46:31.266Z"
   },
   {
    "duration": 43,
    "start_time": "2024-02-27T13:46:31.324Z"
   },
   {
    "duration": 27,
    "start_time": "2024-02-27T13:46:31.369Z"
   },
   {
    "duration": 32,
    "start_time": "2024-02-27T13:46:31.397Z"
   },
   {
    "duration": 39,
    "start_time": "2024-02-27T13:46:31.433Z"
   },
   {
    "duration": 70,
    "start_time": "2024-02-27T13:46:31.473Z"
   },
   {
    "duration": 31,
    "start_time": "2024-02-27T13:46:31.545Z"
   },
   {
    "duration": 41,
    "start_time": "2024-02-27T13:46:31.577Z"
   },
   {
    "duration": 37,
    "start_time": "2024-02-27T13:46:31.620Z"
   },
   {
    "duration": 57,
    "start_time": "2024-02-27T13:46:31.658Z"
   },
   {
    "duration": 25,
    "start_time": "2024-02-27T13:46:31.717Z"
   },
   {
    "duration": 136,
    "start_time": "2024-02-27T13:46:31.743Z"
   },
   {
    "duration": 0,
    "start_time": "2024-02-27T13:46:31.881Z"
   },
   {
    "duration": 0,
    "start_time": "2024-02-27T13:46:31.882Z"
   },
   {
    "duration": 0,
    "start_time": "2024-02-27T13:46:31.883Z"
   },
   {
    "duration": 0,
    "start_time": "2024-02-27T13:46:31.884Z"
   },
   {
    "duration": 0,
    "start_time": "2024-02-27T13:46:31.885Z"
   },
   {
    "duration": 0,
    "start_time": "2024-02-27T13:46:31.886Z"
   },
   {
    "duration": 0,
    "start_time": "2024-02-27T13:46:31.887Z"
   },
   {
    "duration": 0,
    "start_time": "2024-02-27T13:46:31.888Z"
   },
   {
    "duration": 0,
    "start_time": "2024-02-27T13:46:31.889Z"
   },
   {
    "duration": 0,
    "start_time": "2024-02-27T13:46:31.890Z"
   },
   {
    "duration": 0,
    "start_time": "2024-02-27T13:46:31.890Z"
   },
   {
    "duration": 0,
    "start_time": "2024-02-27T13:46:31.891Z"
   },
   {
    "duration": 0,
    "start_time": "2024-02-27T13:46:31.892Z"
   },
   {
    "duration": 1095,
    "start_time": "2024-02-27T13:47:42.660Z"
   },
   {
    "duration": 3,
    "start_time": "2024-02-27T13:47:43.757Z"
   },
   {
    "duration": 75,
    "start_time": "2024-02-27T13:47:43.761Z"
   },
   {
    "duration": 10,
    "start_time": "2024-02-27T13:47:43.838Z"
   },
   {
    "duration": 11,
    "start_time": "2024-02-27T13:47:43.850Z"
   },
   {
    "duration": 3,
    "start_time": "2024-02-27T13:47:43.863Z"
   },
   {
    "duration": 10,
    "start_time": "2024-02-27T13:47:43.868Z"
   },
   {
    "duration": 17,
    "start_time": "2024-02-27T13:47:43.879Z"
   },
   {
    "duration": 5,
    "start_time": "2024-02-27T13:47:43.898Z"
   },
   {
    "duration": 34,
    "start_time": "2024-02-27T13:47:43.904Z"
   },
   {
    "duration": 8,
    "start_time": "2024-02-27T13:47:43.940Z"
   },
   {
    "duration": 10,
    "start_time": "2024-02-27T13:47:43.950Z"
   },
   {
    "duration": 7,
    "start_time": "2024-02-27T13:47:43.962Z"
   },
   {
    "duration": 14,
    "start_time": "2024-02-27T13:47:43.971Z"
   },
   {
    "duration": 12,
    "start_time": "2024-02-27T13:47:43.986Z"
   },
   {
    "duration": 8,
    "start_time": "2024-02-27T13:47:43.999Z"
   },
   {
    "duration": 19,
    "start_time": "2024-02-27T13:47:44.033Z"
   },
   {
    "duration": 549,
    "start_time": "2024-02-27T13:47:44.054Z"
   },
   {
    "duration": 224,
    "start_time": "2024-02-27T13:47:44.604Z"
   },
   {
    "duration": 320,
    "start_time": "2024-02-27T13:47:44.830Z"
   },
   {
    "duration": 242,
    "start_time": "2024-02-27T13:47:45.152Z"
   },
   {
    "duration": 352,
    "start_time": "2024-02-27T13:47:45.396Z"
   },
   {
    "duration": 188,
    "start_time": "2024-02-27T13:47:45.749Z"
   },
   {
    "duration": 4,
    "start_time": "2024-02-27T13:47:45.939Z"
   },
   {
    "duration": 183,
    "start_time": "2024-02-27T13:47:45.945Z"
   },
   {
    "duration": 8,
    "start_time": "2024-02-27T13:47:46.134Z"
   },
   {
    "duration": 162,
    "start_time": "2024-02-27T13:47:46.144Z"
   },
   {
    "duration": 9,
    "start_time": "2024-02-27T13:47:46.308Z"
   },
   {
    "duration": 42,
    "start_time": "2024-02-27T13:47:46.319Z"
   },
   {
    "duration": 12,
    "start_time": "2024-02-27T13:47:46.363Z"
   },
   {
    "duration": 54,
    "start_time": "2024-02-27T17:39:52.756Z"
   },
   {
    "duration": 1475,
    "start_time": "2024-02-27T17:40:07.791Z"
   },
   {
    "duration": 3,
    "start_time": "2024-02-27T17:40:09.269Z"
   },
   {
    "duration": 196,
    "start_time": "2024-02-27T17:40:09.273Z"
   },
   {
    "duration": 14,
    "start_time": "2024-02-27T17:40:09.472Z"
   },
   {
    "duration": 13,
    "start_time": "2024-02-27T17:40:09.489Z"
   },
   {
    "duration": 8,
    "start_time": "2024-02-27T17:40:09.505Z"
   },
   {
    "duration": 17,
    "start_time": "2024-02-27T17:40:09.515Z"
   },
   {
    "duration": 14,
    "start_time": "2024-02-27T17:40:09.534Z"
   },
   {
    "duration": 9,
    "start_time": "2024-02-27T17:40:09.550Z"
   },
   {
    "duration": 10,
    "start_time": "2024-02-27T17:40:09.592Z"
   },
   {
    "duration": 36,
    "start_time": "2024-02-27T17:40:09.604Z"
   },
   {
    "duration": 17,
    "start_time": "2024-02-27T17:40:09.642Z"
   },
   {
    "duration": 7,
    "start_time": "2024-02-27T17:40:09.661Z"
   },
   {
    "duration": 26,
    "start_time": "2024-02-27T17:40:09.672Z"
   },
   {
    "duration": 26,
    "start_time": "2024-02-27T17:40:09.699Z"
   },
   {
    "duration": 11,
    "start_time": "2024-02-27T17:40:09.727Z"
   },
   {
    "duration": 29,
    "start_time": "2024-02-27T17:40:09.739Z"
   },
   {
    "duration": 33,
    "start_time": "2024-02-27T17:40:09.770Z"
   },
   {
    "duration": 649,
    "start_time": "2024-02-27T17:40:09.805Z"
   },
   {
    "duration": 246,
    "start_time": "2024-02-27T17:40:10.455Z"
   },
   {
    "duration": 370,
    "start_time": "2024-02-27T17:40:10.703Z"
   },
   {
    "duration": 268,
    "start_time": "2024-02-27T17:40:11.075Z"
   },
   {
    "duration": 384,
    "start_time": "2024-02-27T17:40:11.345Z"
   },
   {
    "duration": 403,
    "start_time": "2024-02-27T17:40:11.731Z"
   },
   {
    "duration": 58,
    "start_time": "2024-02-27T17:40:12.136Z"
   },
   {
    "duration": 398,
    "start_time": "2024-02-27T17:40:12.196Z"
   },
   {
    "duration": 5,
    "start_time": "2024-02-27T17:40:12.596Z"
   },
   {
    "duration": 423,
    "start_time": "2024-02-27T17:40:12.603Z"
   },
   {
    "duration": 70,
    "start_time": "2024-02-27T17:40:13.028Z"
   },
   {
    "duration": 38,
    "start_time": "2024-02-27T17:40:13.100Z"
   },
   {
    "duration": 15,
    "start_time": "2024-02-27T17:40:13.140Z"
   },
   {
    "duration": 4,
    "start_time": "2024-02-27T17:41:41.049Z"
   },
   {
    "duration": 6,
    "start_time": "2024-02-27T17:41:46.947Z"
   },
   {
    "duration": 15,
    "start_time": "2024-02-27T17:42:00.940Z"
   },
   {
    "duration": 14,
    "start_time": "2024-02-27T17:42:09.435Z"
   },
   {
    "duration": 7,
    "start_time": "2024-02-27T17:52:42.405Z"
   },
   {
    "duration": 8,
    "start_time": "2024-02-27T17:53:03.252Z"
   },
   {
    "duration": 5,
    "start_time": "2024-02-27T17:53:35.638Z"
   },
   {
    "duration": 1247,
    "start_time": "2024-02-27T17:53:43.624Z"
   },
   {
    "duration": 3,
    "start_time": "2024-02-27T17:53:44.873Z"
   },
   {
    "duration": 103,
    "start_time": "2024-02-27T17:53:44.879Z"
   },
   {
    "duration": 13,
    "start_time": "2024-02-27T17:53:44.983Z"
   },
   {
    "duration": 30,
    "start_time": "2024-02-27T17:53:44.998Z"
   },
   {
    "duration": 138,
    "start_time": "2024-02-27T17:53:45.030Z"
   },
   {
    "duration": 203,
    "start_time": "2024-02-27T17:53:45.170Z"
   },
   {
    "duration": 20,
    "start_time": "2024-02-27T17:53:45.375Z"
   },
   {
    "duration": 13,
    "start_time": "2024-02-27T17:53:45.397Z"
   },
   {
    "duration": 42,
    "start_time": "2024-02-27T17:53:45.411Z"
   },
   {
    "duration": 32,
    "start_time": "2024-02-27T17:53:45.454Z"
   },
   {
    "duration": 22,
    "start_time": "2024-02-27T17:53:45.488Z"
   },
   {
    "duration": 27,
    "start_time": "2024-02-27T17:53:45.511Z"
   },
   {
    "duration": 31,
    "start_time": "2024-02-27T17:53:45.540Z"
   },
   {
    "duration": 33,
    "start_time": "2024-02-27T17:53:45.573Z"
   },
   {
    "duration": 46,
    "start_time": "2024-02-27T17:53:45.608Z"
   },
   {
    "duration": 55,
    "start_time": "2024-02-27T17:53:45.656Z"
   },
   {
    "duration": 15,
    "start_time": "2024-02-27T17:53:45.713Z"
   },
   {
    "duration": 16,
    "start_time": "2024-02-27T17:53:45.730Z"
   },
   {
    "duration": 6,
    "start_time": "2024-02-27T17:53:45.748Z"
   },
   {
    "duration": 21,
    "start_time": "2024-02-27T17:53:45.755Z"
   },
   {
    "duration": 728,
    "start_time": "2024-02-27T17:53:45.791Z"
   },
   {
    "duration": 277,
    "start_time": "2024-02-27T17:53:46.521Z"
   },
   {
    "duration": 324,
    "start_time": "2024-02-27T17:53:46.800Z"
   },
   {
    "duration": 467,
    "start_time": "2024-02-27T17:53:47.127Z"
   },
   {
    "duration": 524,
    "start_time": "2024-02-27T17:53:47.596Z"
   },
   {
    "duration": 399,
    "start_time": "2024-02-27T17:53:48.121Z"
   },
   {
    "duration": 4,
    "start_time": "2024-02-27T17:53:48.522Z"
   },
   {
    "duration": 326,
    "start_time": "2024-02-27T17:53:48.527Z"
   },
   {
    "duration": 5,
    "start_time": "2024-02-27T17:53:48.854Z"
   },
   {
    "duration": 185,
    "start_time": "2024-02-27T17:53:48.893Z"
   },
   {
    "duration": 20,
    "start_time": "2024-02-27T17:53:49.080Z"
   },
   {
    "duration": 39,
    "start_time": "2024-02-27T17:53:49.101Z"
   },
   {
    "duration": 17,
    "start_time": "2024-02-27T17:53:49.142Z"
   },
   {
    "duration": 8,
    "start_time": "2024-02-27T17:53:54.061Z"
   },
   {
    "duration": 7,
    "start_time": "2024-02-27T17:53:59.213Z"
   },
   {
    "duration": 8,
    "start_time": "2024-02-27T17:54:20.245Z"
   },
   {
    "duration": 6,
    "start_time": "2024-02-27T17:56:00.328Z"
   },
   {
    "duration": 11,
    "start_time": "2024-02-27T17:58:09.896Z"
   },
   {
    "duration": 1249,
    "start_time": "2024-02-27T17:59:14.225Z"
   },
   {
    "duration": 2,
    "start_time": "2024-02-27T17:59:15.477Z"
   },
   {
    "duration": 127,
    "start_time": "2024-02-27T17:59:15.481Z"
   },
   {
    "duration": 13,
    "start_time": "2024-02-27T17:59:15.609Z"
   },
   {
    "duration": 31,
    "start_time": "2024-02-27T17:59:15.624Z"
   },
   {
    "duration": 25,
    "start_time": "2024-02-27T17:59:15.657Z"
   },
   {
    "duration": 23,
    "start_time": "2024-02-27T17:59:15.684Z"
   },
   {
    "duration": 25,
    "start_time": "2024-02-27T17:59:15.709Z"
   },
   {
    "duration": 41,
    "start_time": "2024-02-27T17:59:15.736Z"
   },
   {
    "duration": 27,
    "start_time": "2024-02-27T17:59:15.779Z"
   },
   {
    "duration": 17,
    "start_time": "2024-02-27T17:59:15.807Z"
   },
   {
    "duration": 25,
    "start_time": "2024-02-27T17:59:15.825Z"
   },
   {
    "duration": 29,
    "start_time": "2024-02-27T17:59:15.852Z"
   },
   {
    "duration": 25,
    "start_time": "2024-02-27T17:59:15.886Z"
   },
   {
    "duration": 22,
    "start_time": "2024-02-27T17:59:15.913Z"
   },
   {
    "duration": 9,
    "start_time": "2024-02-27T17:59:15.937Z"
   },
   {
    "duration": 28,
    "start_time": "2024-02-27T17:59:15.947Z"
   },
   {
    "duration": 15,
    "start_time": "2024-02-27T17:59:15.977Z"
   },
   {
    "duration": 27,
    "start_time": "2024-02-27T17:59:15.994Z"
   },
   {
    "duration": 30,
    "start_time": "2024-02-27T17:59:16.023Z"
   },
   {
    "duration": 23,
    "start_time": "2024-02-27T17:59:16.056Z"
   },
   {
    "duration": 597,
    "start_time": "2024-02-27T17:59:16.081Z"
   },
   {
    "duration": 242,
    "start_time": "2024-02-27T17:59:16.680Z"
   },
   {
    "duration": 310,
    "start_time": "2024-02-27T17:59:16.923Z"
   },
   {
    "duration": 461,
    "start_time": "2024-02-27T17:59:17.235Z"
   },
   {
    "duration": 519,
    "start_time": "2024-02-27T17:59:17.697Z"
   },
   {
    "duration": 394,
    "start_time": "2024-02-27T17:59:18.218Z"
   },
   {
    "duration": 5,
    "start_time": "2024-02-27T17:59:18.613Z"
   },
   {
    "duration": 325,
    "start_time": "2024-02-27T17:59:18.619Z"
   },
   {
    "duration": 4,
    "start_time": "2024-02-27T17:59:18.945Z"
   },
   {
    "duration": 190,
    "start_time": "2024-02-27T17:59:18.951Z"
   },
   {
    "duration": 11,
    "start_time": "2024-02-27T17:59:19.143Z"
   },
   {
    "duration": 52,
    "start_time": "2024-02-27T17:59:19.156Z"
   },
   {
    "duration": 14,
    "start_time": "2024-02-27T17:59:19.210Z"
   },
   {
    "duration": 11,
    "start_time": "2024-02-27T17:59:57.562Z"
   },
   {
    "duration": 1229,
    "start_time": "2024-02-27T18:00:21.775Z"
   },
   {
    "duration": 3,
    "start_time": "2024-02-27T18:00:23.006Z"
   },
   {
    "duration": 76,
    "start_time": "2024-02-27T18:00:23.011Z"
   },
   {
    "duration": 12,
    "start_time": "2024-02-27T18:00:23.089Z"
   },
   {
    "duration": 14,
    "start_time": "2024-02-27T18:00:23.103Z"
   },
   {
    "duration": 6,
    "start_time": "2024-02-27T18:00:23.119Z"
   },
   {
    "duration": 13,
    "start_time": "2024-02-27T18:00:23.126Z"
   },
   {
    "duration": 14,
    "start_time": "2024-02-27T18:00:23.141Z"
   },
   {
    "duration": 10,
    "start_time": "2024-02-27T18:00:23.156Z"
   },
   {
    "duration": 26,
    "start_time": "2024-02-27T18:00:23.167Z"
   },
   {
    "duration": 10,
    "start_time": "2024-02-27T18:00:23.195Z"
   },
   {
    "duration": 7,
    "start_time": "2024-02-27T18:00:23.206Z"
   },
   {
    "duration": 22,
    "start_time": "2024-02-27T18:00:23.215Z"
   },
   {
    "duration": 17,
    "start_time": "2024-02-27T18:00:23.240Z"
   },
   {
    "duration": 17,
    "start_time": "2024-02-27T18:00:23.259Z"
   },
   {
    "duration": 18,
    "start_time": "2024-02-27T18:00:23.278Z"
   },
   {
    "duration": 37,
    "start_time": "2024-02-27T18:00:23.297Z"
   },
   {
    "duration": 14,
    "start_time": "2024-02-27T18:00:23.336Z"
   },
   {
    "duration": 9,
    "start_time": "2024-02-27T18:00:23.351Z"
   },
   {
    "duration": 18,
    "start_time": "2024-02-27T18:00:23.361Z"
   },
   {
    "duration": 28,
    "start_time": "2024-02-27T18:00:23.391Z"
   },
   {
    "duration": 635,
    "start_time": "2024-02-27T18:00:23.421Z"
   },
   {
    "duration": 252,
    "start_time": "2024-02-27T18:00:24.058Z"
   },
   {
    "duration": 317,
    "start_time": "2024-02-27T18:00:24.311Z"
   },
   {
    "duration": 485,
    "start_time": "2024-02-27T18:00:24.630Z"
   },
   {
    "duration": 588,
    "start_time": "2024-02-27T18:00:25.117Z"
   },
   {
    "duration": 398,
    "start_time": "2024-02-27T18:00:25.706Z"
   },
   {
    "duration": 5,
    "start_time": "2024-02-27T18:00:26.105Z"
   },
   {
    "duration": 356,
    "start_time": "2024-02-27T18:00:26.111Z"
   },
   {
    "duration": 4,
    "start_time": "2024-02-27T18:00:26.469Z"
   },
   {
    "duration": 190,
    "start_time": "2024-02-27T18:00:26.475Z"
   },
   {
    "duration": 26,
    "start_time": "2024-02-27T18:00:26.666Z"
   },
   {
    "duration": 36,
    "start_time": "2024-02-27T18:00:26.694Z"
   },
   {
    "duration": 15,
    "start_time": "2024-02-27T18:00:26.732Z"
   },
   {
    "duration": 1297,
    "start_time": "2024-02-27T18:01:14.778Z"
   },
   {
    "duration": 3,
    "start_time": "2024-02-27T18:01:16.077Z"
   },
   {
    "duration": 95,
    "start_time": "2024-02-27T18:01:16.082Z"
   },
   {
    "duration": 12,
    "start_time": "2024-02-27T18:01:16.179Z"
   },
   {
    "duration": 25,
    "start_time": "2024-02-27T18:01:16.193Z"
   },
   {
    "duration": 5,
    "start_time": "2024-02-27T18:01:16.219Z"
   },
   {
    "duration": 13,
    "start_time": "2024-02-27T18:01:16.225Z"
   },
   {
    "duration": 14,
    "start_time": "2024-02-27T18:01:16.240Z"
   },
   {
    "duration": 28,
    "start_time": "2024-02-27T18:01:16.256Z"
   },
   {
    "duration": 27,
    "start_time": "2024-02-27T18:01:16.286Z"
   },
   {
    "duration": 12,
    "start_time": "2024-02-27T18:01:16.314Z"
   },
   {
    "duration": 12,
    "start_time": "2024-02-27T18:01:16.328Z"
   },
   {
    "duration": 46,
    "start_time": "2024-02-27T18:01:16.341Z"
   },
   {
    "duration": 22,
    "start_time": "2024-02-27T18:01:16.391Z"
   },
   {
    "duration": 15,
    "start_time": "2024-02-27T18:01:16.415Z"
   },
   {
    "duration": 15,
    "start_time": "2024-02-27T18:01:16.431Z"
   },
   {
    "duration": 27,
    "start_time": "2024-02-27T18:01:16.447Z"
   },
   {
    "duration": 15,
    "start_time": "2024-02-27T18:01:16.476Z"
   },
   {
    "duration": 19,
    "start_time": "2024-02-27T18:01:16.493Z"
   },
   {
    "duration": 118,
    "start_time": "2024-02-27T18:01:16.514Z"
   },
   {
    "duration": 0,
    "start_time": "2024-02-27T18:01:16.633Z"
   },
   {
    "duration": 0,
    "start_time": "2024-02-27T18:01:16.635Z"
   },
   {
    "duration": 0,
    "start_time": "2024-02-27T18:01:16.636Z"
   },
   {
    "duration": 0,
    "start_time": "2024-02-27T18:01:16.637Z"
   },
   {
    "duration": 0,
    "start_time": "2024-02-27T18:01:16.639Z"
   },
   {
    "duration": 0,
    "start_time": "2024-02-27T18:01:16.640Z"
   },
   {
    "duration": 0,
    "start_time": "2024-02-27T18:01:16.641Z"
   },
   {
    "duration": 0,
    "start_time": "2024-02-27T18:01:16.642Z"
   },
   {
    "duration": 0,
    "start_time": "2024-02-27T18:01:16.644Z"
   },
   {
    "duration": 0,
    "start_time": "2024-02-27T18:01:16.645Z"
   },
   {
    "duration": 0,
    "start_time": "2024-02-27T18:01:16.646Z"
   },
   {
    "duration": 0,
    "start_time": "2024-02-27T18:01:16.647Z"
   },
   {
    "duration": 0,
    "start_time": "2024-02-27T18:01:16.648Z"
   },
   {
    "duration": 0,
    "start_time": "2024-02-27T18:01:16.649Z"
   },
   {
    "duration": 1299,
    "start_time": "2024-02-27T18:01:44.088Z"
   },
   {
    "duration": 3,
    "start_time": "2024-02-27T18:01:45.389Z"
   },
   {
    "duration": 199,
    "start_time": "2024-02-27T18:01:45.393Z"
   },
   {
    "duration": 11,
    "start_time": "2024-02-27T18:01:45.594Z"
   },
   {
    "duration": 50,
    "start_time": "2024-02-27T18:01:45.607Z"
   },
   {
    "duration": 48,
    "start_time": "2024-02-27T18:01:45.660Z"
   },
   {
    "duration": 66,
    "start_time": "2024-02-27T18:01:45.710Z"
   },
   {
    "duration": 42,
    "start_time": "2024-02-27T18:01:45.779Z"
   },
   {
    "duration": 18,
    "start_time": "2024-02-27T18:01:45.822Z"
   },
   {
    "duration": 30,
    "start_time": "2024-02-27T18:01:45.842Z"
   },
   {
    "duration": 43,
    "start_time": "2024-02-27T18:01:45.873Z"
   },
   {
    "duration": 24,
    "start_time": "2024-02-27T18:01:45.917Z"
   },
   {
    "duration": 26,
    "start_time": "2024-02-27T18:01:45.943Z"
   },
   {
    "duration": 34,
    "start_time": "2024-02-27T18:01:45.972Z"
   },
   {
    "duration": 18,
    "start_time": "2024-02-27T18:01:46.008Z"
   },
   {
    "duration": 11,
    "start_time": "2024-02-27T18:01:46.028Z"
   },
   {
    "duration": 25,
    "start_time": "2024-02-27T18:01:46.041Z"
   },
   {
    "duration": 14,
    "start_time": "2024-02-27T18:01:46.067Z"
   },
   {
    "duration": 7,
    "start_time": "2024-02-27T18:01:46.092Z"
   },
   {
    "duration": 30,
    "start_time": "2024-02-27T18:01:46.100Z"
   },
   {
    "duration": 34,
    "start_time": "2024-02-27T18:01:46.132Z"
   },
   {
    "duration": 586,
    "start_time": "2024-02-27T18:01:46.168Z"
   },
   {
    "duration": 254,
    "start_time": "2024-02-27T18:01:46.756Z"
   },
   {
    "duration": 311,
    "start_time": "2024-02-27T18:01:47.012Z"
   },
   {
    "duration": 240,
    "start_time": "2024-02-27T18:01:47.325Z"
   },
   {
    "duration": 369,
    "start_time": "2024-02-27T18:01:47.567Z"
   },
   {
    "duration": 219,
    "start_time": "2024-02-27T18:01:47.938Z"
   },
   {
    "duration": 5,
    "start_time": "2024-02-27T18:01:48.158Z"
   },
   {
    "duration": 195,
    "start_time": "2024-02-27T18:01:48.165Z"
   },
   {
    "duration": 4,
    "start_time": "2024-02-27T18:01:48.362Z"
   },
   {
    "duration": 187,
    "start_time": "2024-02-27T18:01:48.368Z"
   },
   {
    "duration": 13,
    "start_time": "2024-02-27T18:01:48.556Z"
   },
   {
    "duration": 50,
    "start_time": "2024-02-27T18:01:48.571Z"
   },
   {
    "duration": 15,
    "start_time": "2024-02-27T18:01:48.623Z"
   },
   {
    "duration": 13,
    "start_time": "2024-02-27T18:04:49.072Z"
   },
   {
    "duration": 1289,
    "start_time": "2024-02-27T18:05:11.897Z"
   },
   {
    "duration": 4,
    "start_time": "2024-02-27T18:05:13.188Z"
   },
   {
    "duration": 90,
    "start_time": "2024-02-27T18:05:13.194Z"
   },
   {
    "duration": 12,
    "start_time": "2024-02-27T18:05:13.286Z"
   },
   {
    "duration": 43,
    "start_time": "2024-02-27T18:05:13.301Z"
   },
   {
    "duration": 20,
    "start_time": "2024-02-27T18:05:13.346Z"
   },
   {
    "duration": 25,
    "start_time": "2024-02-27T18:05:13.368Z"
   },
   {
    "duration": 27,
    "start_time": "2024-02-27T18:05:13.395Z"
   },
   {
    "duration": 21,
    "start_time": "2024-02-27T18:05:13.424Z"
   },
   {
    "duration": 27,
    "start_time": "2024-02-27T18:05:13.447Z"
   },
   {
    "duration": 33,
    "start_time": "2024-02-27T18:05:13.476Z"
   },
   {
    "duration": 30,
    "start_time": "2024-02-27T18:05:13.511Z"
   },
   {
    "duration": 56,
    "start_time": "2024-02-27T18:05:13.543Z"
   },
   {
    "duration": 47,
    "start_time": "2024-02-27T18:05:13.602Z"
   },
   {
    "duration": 30,
    "start_time": "2024-02-27T18:05:13.651Z"
   },
   {
    "duration": 19,
    "start_time": "2024-02-27T18:05:13.683Z"
   },
   {
    "duration": 45,
    "start_time": "2024-02-27T18:05:13.704Z"
   },
   {
    "duration": 24,
    "start_time": "2024-02-27T18:05:13.751Z"
   },
   {
    "duration": 31,
    "start_time": "2024-02-27T18:05:13.776Z"
   },
   {
    "duration": 57,
    "start_time": "2024-02-27T18:05:13.809Z"
   },
   {
    "duration": 21,
    "start_time": "2024-02-27T18:05:13.868Z"
   },
   {
    "duration": 641,
    "start_time": "2024-02-27T18:05:13.891Z"
   },
   {
    "duration": 241,
    "start_time": "2024-02-27T18:05:14.534Z"
   },
   {
    "duration": 331,
    "start_time": "2024-02-27T18:05:14.777Z"
   },
   {
    "duration": 268,
    "start_time": "2024-02-27T18:05:15.110Z"
   },
   {
    "duration": 349,
    "start_time": "2024-02-27T18:05:15.380Z"
   },
   {
    "duration": 209,
    "start_time": "2024-02-27T18:05:15.731Z"
   },
   {
    "duration": 4,
    "start_time": "2024-02-27T18:05:15.942Z"
   },
   {
    "duration": 210,
    "start_time": "2024-02-27T18:05:15.948Z"
   },
   {
    "duration": 5,
    "start_time": "2024-02-27T18:05:16.160Z"
   },
   {
    "duration": 214,
    "start_time": "2024-02-27T18:05:16.167Z"
   },
   {
    "duration": 11,
    "start_time": "2024-02-27T18:05:16.391Z"
   },
   {
    "duration": 47,
    "start_time": "2024-02-27T18:05:16.404Z"
   },
   {
    "duration": 15,
    "start_time": "2024-02-27T18:05:16.453Z"
   },
   {
    "duration": 11,
    "start_time": "2024-02-27T18:16:09.025Z"
   },
   {
    "duration": 25,
    "start_time": "2024-02-27T18:17:42.858Z"
   },
   {
    "duration": 1336,
    "start_time": "2024-02-27T18:18:09.762Z"
   },
   {
    "duration": 3,
    "start_time": "2024-02-27T18:18:11.099Z"
   },
   {
    "duration": 86,
    "start_time": "2024-02-27T18:18:11.104Z"
   },
   {
    "duration": 14,
    "start_time": "2024-02-27T18:18:11.192Z"
   },
   {
    "duration": 15,
    "start_time": "2024-02-27T18:18:11.208Z"
   },
   {
    "duration": 5,
    "start_time": "2024-02-27T18:18:11.224Z"
   },
   {
    "duration": 29,
    "start_time": "2024-02-27T18:18:11.231Z"
   },
   {
    "duration": 30,
    "start_time": "2024-02-27T18:18:11.262Z"
   },
   {
    "duration": 5,
    "start_time": "2024-02-27T18:18:11.294Z"
   },
   {
    "duration": 17,
    "start_time": "2024-02-27T18:18:11.301Z"
   },
   {
    "duration": 17,
    "start_time": "2024-02-27T18:18:11.320Z"
   },
   {
    "duration": 6,
    "start_time": "2024-02-27T18:18:11.338Z"
   },
   {
    "duration": 12,
    "start_time": "2024-02-27T18:18:11.346Z"
   },
   {
    "duration": 35,
    "start_time": "2024-02-27T18:18:11.361Z"
   },
   {
    "duration": 14,
    "start_time": "2024-02-27T18:18:11.397Z"
   },
   {
    "duration": 7,
    "start_time": "2024-02-27T18:18:11.412Z"
   },
   {
    "duration": 42,
    "start_time": "2024-02-27T18:18:11.420Z"
   },
   {
    "duration": 42,
    "start_time": "2024-02-27T18:18:11.464Z"
   },
   {
    "duration": 631,
    "start_time": "2024-02-27T18:18:11.508Z"
   },
   {
    "duration": 247,
    "start_time": "2024-02-27T18:18:12.140Z"
   },
   {
    "duration": 333,
    "start_time": "2024-02-27T18:18:12.389Z"
   },
   {
    "duration": 258,
    "start_time": "2024-02-27T18:18:12.724Z"
   },
   {
    "duration": 343,
    "start_time": "2024-02-27T18:18:12.984Z"
   },
   {
    "duration": 200,
    "start_time": "2024-02-27T18:18:13.328Z"
   },
   {
    "duration": 5,
    "start_time": "2024-02-27T18:18:13.530Z"
   },
   {
    "duration": 223,
    "start_time": "2024-02-27T18:18:13.537Z"
   },
   {
    "duration": 5,
    "start_time": "2024-02-27T18:18:13.762Z"
   },
   {
    "duration": 180,
    "start_time": "2024-02-27T18:18:13.768Z"
   },
   {
    "duration": 17,
    "start_time": "2024-02-27T18:18:13.951Z"
   },
   {
    "duration": 53,
    "start_time": "2024-02-27T18:18:13.970Z"
   },
   {
    "duration": 28,
    "start_time": "2024-02-27T18:18:14.026Z"
   },
   {
    "duration": 1280,
    "start_time": "2024-02-27T18:26:44.234Z"
   },
   {
    "duration": 3,
    "start_time": "2024-02-27T18:26:45.516Z"
   },
   {
    "duration": 100,
    "start_time": "2024-02-27T18:26:45.521Z"
   },
   {
    "duration": 14,
    "start_time": "2024-02-27T18:26:45.623Z"
   },
   {
    "duration": 18,
    "start_time": "2024-02-27T18:26:45.640Z"
   },
   {
    "duration": 12,
    "start_time": "2024-02-27T18:26:45.661Z"
   },
   {
    "duration": 21,
    "start_time": "2024-02-27T18:26:45.675Z"
   },
   {
    "duration": 29,
    "start_time": "2024-02-27T18:26:45.698Z"
   },
   {
    "duration": 11,
    "start_time": "2024-02-27T18:26:45.729Z"
   },
   {
    "duration": 14,
    "start_time": "2024-02-27T18:26:45.742Z"
   },
   {
    "duration": 18,
    "start_time": "2024-02-27T18:26:45.758Z"
   },
   {
    "duration": 6,
    "start_time": "2024-02-27T18:26:45.778Z"
   },
   {
    "duration": 6,
    "start_time": "2024-02-27T18:26:45.786Z"
   },
   {
    "duration": 12,
    "start_time": "2024-02-27T18:26:45.795Z"
   },
   {
    "duration": 13,
    "start_time": "2024-02-27T18:26:45.809Z"
   },
   {
    "duration": 15,
    "start_time": "2024-02-27T18:26:45.824Z"
   },
   {
    "duration": 50,
    "start_time": "2024-02-27T18:26:45.841Z"
   },
   {
    "duration": 18,
    "start_time": "2024-02-27T18:26:45.893Z"
   },
   {
    "duration": 642,
    "start_time": "2024-02-27T18:26:45.913Z"
   },
   {
    "duration": 250,
    "start_time": "2024-02-27T18:26:46.556Z"
   },
   {
    "duration": 318,
    "start_time": "2024-02-27T18:26:46.808Z"
   },
   {
    "duration": 272,
    "start_time": "2024-02-27T18:26:47.128Z"
   },
   {
    "duration": 512,
    "start_time": "2024-02-27T18:26:47.402Z"
   },
   {
    "duration": 411,
    "start_time": "2024-02-27T18:26:47.916Z"
   },
   {
    "duration": 5,
    "start_time": "2024-02-27T18:26:48.328Z"
   },
   {
    "duration": 381,
    "start_time": "2024-02-27T18:26:48.334Z"
   },
   {
    "duration": 4,
    "start_time": "2024-02-27T18:26:48.717Z"
   },
   {
    "duration": 341,
    "start_time": "2024-02-27T18:26:48.722Z"
   },
   {
    "duration": 36,
    "start_time": "2024-02-27T18:26:49.065Z"
   },
   {
    "duration": 37,
    "start_time": "2024-02-27T18:26:49.102Z"
   },
   {
    "duration": 15,
    "start_time": "2024-02-27T18:26:49.140Z"
   },
   {
    "duration": 25,
    "start_time": "2024-02-27T18:30:26.045Z"
   },
   {
    "duration": 1258,
    "start_time": "2024-02-27T18:30:33.653Z"
   },
   {
    "duration": 3,
    "start_time": "2024-02-27T18:30:34.913Z"
   },
   {
    "duration": 79,
    "start_time": "2024-02-27T18:30:34.917Z"
   },
   {
    "duration": 14,
    "start_time": "2024-02-27T18:30:34.997Z"
   },
   {
    "duration": 14,
    "start_time": "2024-02-27T18:30:35.013Z"
   },
   {
    "duration": 5,
    "start_time": "2024-02-27T18:30:35.028Z"
   },
   {
    "duration": 23,
    "start_time": "2024-02-27T18:30:35.034Z"
   },
   {
    "duration": 22,
    "start_time": "2024-02-27T18:30:35.058Z"
   },
   {
    "duration": 22,
    "start_time": "2024-02-27T18:30:35.082Z"
   },
   {
    "duration": 22,
    "start_time": "2024-02-27T18:30:35.106Z"
   },
   {
    "duration": 18,
    "start_time": "2024-02-27T18:30:35.130Z"
   },
   {
    "duration": 12,
    "start_time": "2024-02-27T18:30:35.150Z"
   },
   {
    "duration": 17,
    "start_time": "2024-02-27T18:30:35.163Z"
   },
   {
    "duration": 15,
    "start_time": "2024-02-27T18:30:35.183Z"
   },
   {
    "duration": 21,
    "start_time": "2024-02-27T18:30:35.200Z"
   },
   {
    "duration": 7,
    "start_time": "2024-02-27T18:30:35.222Z"
   },
   {
    "duration": 38,
    "start_time": "2024-02-27T18:30:35.231Z"
   },
   {
    "duration": 27,
    "start_time": "2024-02-27T18:30:35.271Z"
   },
   {
    "duration": 896,
    "start_time": "2024-02-27T18:30:35.299Z"
   },
   {
    "duration": 503,
    "start_time": "2024-02-27T18:30:36.197Z"
   },
   {
    "duration": 590,
    "start_time": "2024-02-27T18:30:36.702Z"
   },
   {
    "duration": 352,
    "start_time": "2024-02-27T18:30:37.293Z"
   },
   {
    "duration": 360,
    "start_time": "2024-02-27T18:30:37.647Z"
   },
   {
    "duration": 194,
    "start_time": "2024-02-27T18:30:38.009Z"
   },
   {
    "duration": 5,
    "start_time": "2024-02-27T18:30:38.205Z"
   },
   {
    "duration": 192,
    "start_time": "2024-02-27T18:30:38.212Z"
   },
   {
    "duration": 4,
    "start_time": "2024-02-27T18:30:38.406Z"
   },
   {
    "duration": 202,
    "start_time": "2024-02-27T18:30:38.411Z"
   },
   {
    "duration": 10,
    "start_time": "2024-02-27T18:30:38.615Z"
   },
   {
    "duration": 36,
    "start_time": "2024-02-27T18:30:38.627Z"
   },
   {
    "duration": 36,
    "start_time": "2024-02-27T18:30:38.664Z"
   },
   {
    "duration": 1277,
    "start_time": "2024-02-27T18:31:17.359Z"
   },
   {
    "duration": 2,
    "start_time": "2024-02-27T18:31:18.639Z"
   },
   {
    "duration": 86,
    "start_time": "2024-02-27T18:31:18.643Z"
   },
   {
    "duration": 13,
    "start_time": "2024-02-27T18:31:18.730Z"
   },
   {
    "duration": 12,
    "start_time": "2024-02-27T18:31:18.745Z"
   },
   {
    "duration": 4,
    "start_time": "2024-02-27T18:31:18.759Z"
   },
   {
    "duration": 20,
    "start_time": "2024-02-27T18:31:18.764Z"
   },
   {
    "duration": 30,
    "start_time": "2024-02-27T18:31:18.786Z"
   },
   {
    "duration": 6,
    "start_time": "2024-02-27T18:31:18.818Z"
   },
   {
    "duration": 11,
    "start_time": "2024-02-27T18:31:18.826Z"
   },
   {
    "duration": 19,
    "start_time": "2024-02-27T18:31:18.838Z"
   },
   {
    "duration": 9,
    "start_time": "2024-02-27T18:31:18.858Z"
   },
   {
    "duration": 9,
    "start_time": "2024-02-27T18:31:18.868Z"
   },
   {
    "duration": 15,
    "start_time": "2024-02-27T18:31:18.880Z"
   },
   {
    "duration": 16,
    "start_time": "2024-02-27T18:31:18.897Z"
   },
   {
    "duration": 7,
    "start_time": "2024-02-27T18:31:18.915Z"
   },
   {
    "duration": 33,
    "start_time": "2024-02-27T18:31:18.924Z"
   },
   {
    "duration": 39,
    "start_time": "2024-02-27T18:31:18.959Z"
   },
   {
    "duration": 638,
    "start_time": "2024-02-27T18:31:19.000Z"
   },
   {
    "duration": 535,
    "start_time": "2024-02-27T18:31:19.692Z"
   },
   {
    "duration": 506,
    "start_time": "2024-02-27T18:31:20.228Z"
   },
   {
    "duration": 560,
    "start_time": "2024-02-27T18:31:20.736Z"
   },
   {
    "duration": 335,
    "start_time": "2024-02-27T18:31:21.298Z"
   },
   {
    "duration": 196,
    "start_time": "2024-02-27T18:31:21.635Z"
   },
   {
    "duration": 4,
    "start_time": "2024-02-27T18:31:21.833Z"
   },
   {
    "duration": 204,
    "start_time": "2024-02-27T18:31:21.839Z"
   },
   {
    "duration": 5,
    "start_time": "2024-02-27T18:31:22.044Z"
   },
   {
    "duration": 195,
    "start_time": "2024-02-27T18:31:22.051Z"
   },
   {
    "duration": 13,
    "start_time": "2024-02-27T18:31:22.248Z"
   },
   {
    "duration": 67,
    "start_time": "2024-02-27T18:31:22.263Z"
   },
   {
    "duration": 19,
    "start_time": "2024-02-27T18:31:22.332Z"
   },
   {
    "duration": 1153,
    "start_time": "2024-02-27T18:34:54.845Z"
   },
   {
    "duration": 2,
    "start_time": "2024-02-27T18:34:56.000Z"
   },
   {
    "duration": 77,
    "start_time": "2024-02-27T18:34:56.004Z"
   },
   {
    "duration": 11,
    "start_time": "2024-02-27T18:34:56.084Z"
   },
   {
    "duration": 16,
    "start_time": "2024-02-27T18:34:56.096Z"
   },
   {
    "duration": 5,
    "start_time": "2024-02-27T18:34:56.114Z"
   },
   {
    "duration": 16,
    "start_time": "2024-02-27T18:34:56.120Z"
   },
   {
    "duration": 16,
    "start_time": "2024-02-27T18:34:56.138Z"
   },
   {
    "duration": 15,
    "start_time": "2024-02-27T18:34:56.155Z"
   },
   {
    "duration": 18,
    "start_time": "2024-02-27T18:34:56.173Z"
   },
   {
    "duration": 10,
    "start_time": "2024-02-27T18:34:56.193Z"
   },
   {
    "duration": 15,
    "start_time": "2024-02-27T18:34:56.204Z"
   },
   {
    "duration": 13,
    "start_time": "2024-02-27T18:34:56.221Z"
   },
   {
    "duration": 30,
    "start_time": "2024-02-27T18:34:56.236Z"
   },
   {
    "duration": 13,
    "start_time": "2024-02-27T18:34:56.268Z"
   },
   {
    "duration": 9,
    "start_time": "2024-02-27T18:34:56.283Z"
   },
   {
    "duration": 101,
    "start_time": "2024-02-27T18:34:56.294Z"
   },
   {
    "duration": 0,
    "start_time": "2024-02-27T18:34:56.397Z"
   },
   {
    "duration": 0,
    "start_time": "2024-02-27T18:34:56.398Z"
   },
   {
    "duration": 0,
    "start_time": "2024-02-27T18:34:56.399Z"
   },
   {
    "duration": 0,
    "start_time": "2024-02-27T18:34:56.400Z"
   },
   {
    "duration": 0,
    "start_time": "2024-02-27T18:34:56.402Z"
   },
   {
    "duration": 0,
    "start_time": "2024-02-27T18:34:56.403Z"
   },
   {
    "duration": 0,
    "start_time": "2024-02-27T18:34:56.404Z"
   },
   {
    "duration": 0,
    "start_time": "2024-02-27T18:34:56.405Z"
   },
   {
    "duration": 0,
    "start_time": "2024-02-27T18:34:56.406Z"
   },
   {
    "duration": 0,
    "start_time": "2024-02-27T18:34:56.407Z"
   },
   {
    "duration": 0,
    "start_time": "2024-02-27T18:34:56.408Z"
   },
   {
    "duration": 0,
    "start_time": "2024-02-27T18:34:56.409Z"
   },
   {
    "duration": 0,
    "start_time": "2024-02-27T18:34:56.410Z"
   },
   {
    "duration": 0,
    "start_time": "2024-02-27T18:34:56.412Z"
   },
   {
    "duration": 1254,
    "start_time": "2024-02-27T18:36:54.811Z"
   },
   {
    "duration": 3,
    "start_time": "2024-02-27T18:36:56.067Z"
   },
   {
    "duration": 78,
    "start_time": "2024-02-27T18:36:56.071Z"
   },
   {
    "duration": 12,
    "start_time": "2024-02-27T18:36:56.150Z"
   },
   {
    "duration": 16,
    "start_time": "2024-02-27T18:36:56.164Z"
   },
   {
    "duration": 4,
    "start_time": "2024-02-27T18:36:56.182Z"
   },
   {
    "duration": 12,
    "start_time": "2024-02-27T18:36:56.187Z"
   },
   {
    "duration": 17,
    "start_time": "2024-02-27T18:36:56.200Z"
   },
   {
    "duration": 23,
    "start_time": "2024-02-27T18:36:56.219Z"
   },
   {
    "duration": 17,
    "start_time": "2024-02-27T18:36:56.244Z"
   },
   {
    "duration": 12,
    "start_time": "2024-02-27T18:36:56.262Z"
   },
   {
    "duration": 5,
    "start_time": "2024-02-27T18:36:56.276Z"
   },
   {
    "duration": 8,
    "start_time": "2024-02-27T18:36:56.283Z"
   },
   {
    "duration": 12,
    "start_time": "2024-02-27T18:36:56.294Z"
   },
   {
    "duration": 12,
    "start_time": "2024-02-27T18:36:56.308Z"
   },
   {
    "duration": 13,
    "start_time": "2024-02-27T18:36:56.322Z"
   },
   {
    "duration": 57,
    "start_time": "2024-02-27T18:36:56.337Z"
   },
   {
    "duration": 14,
    "start_time": "2024-02-27T18:36:56.396Z"
   },
   {
    "duration": 605,
    "start_time": "2024-02-27T18:36:56.412Z"
   },
   {
    "duration": 297,
    "start_time": "2024-02-27T18:36:57.019Z"
   },
   {
    "duration": 511,
    "start_time": "2024-02-27T18:36:57.317Z"
   },
   {
    "duration": 497,
    "start_time": "2024-02-27T18:36:57.830Z"
   },
   {
    "duration": 578,
    "start_time": "2024-02-27T18:36:58.329Z"
   },
   {
    "duration": 333,
    "start_time": "2024-02-27T18:36:58.909Z"
   },
   {
    "duration": 4,
    "start_time": "2024-02-27T18:36:59.244Z"
   },
   {
    "duration": 185,
    "start_time": "2024-02-27T18:36:59.250Z"
   },
   {
    "duration": 4,
    "start_time": "2024-02-27T18:36:59.437Z"
   },
   {
    "duration": 209,
    "start_time": "2024-02-27T18:36:59.443Z"
   },
   {
    "duration": 10,
    "start_time": "2024-02-27T18:36:59.654Z"
   },
   {
    "duration": 53,
    "start_time": "2024-02-27T18:36:59.666Z"
   },
   {
    "duration": 17,
    "start_time": "2024-02-27T18:36:59.721Z"
   },
   {
    "duration": 1311,
    "start_time": "2024-02-27T18:38:51.388Z"
   },
   {
    "duration": 3,
    "start_time": "2024-02-27T18:38:52.700Z"
   },
   {
    "duration": 93,
    "start_time": "2024-02-27T18:38:52.705Z"
   },
   {
    "duration": 11,
    "start_time": "2024-02-27T18:38:52.800Z"
   },
   {
    "duration": 87,
    "start_time": "2024-02-27T18:38:52.813Z"
   },
   {
    "duration": 22,
    "start_time": "2024-02-27T18:38:52.901Z"
   },
   {
    "duration": 71,
    "start_time": "2024-02-27T18:38:52.925Z"
   },
   {
    "duration": 70,
    "start_time": "2024-02-27T18:38:52.997Z"
   },
   {
    "duration": 57,
    "start_time": "2024-02-27T18:38:53.068Z"
   },
   {
    "duration": 78,
    "start_time": "2024-02-27T18:38:53.127Z"
   },
   {
    "duration": 58,
    "start_time": "2024-02-27T18:38:53.207Z"
   },
   {
    "duration": 36,
    "start_time": "2024-02-27T18:38:53.266Z"
   },
   {
    "duration": 46,
    "start_time": "2024-02-27T18:38:53.304Z"
   },
   {
    "duration": 67,
    "start_time": "2024-02-27T18:38:53.353Z"
   },
   {
    "duration": 51,
    "start_time": "2024-02-27T18:38:53.421Z"
   },
   {
    "duration": 43,
    "start_time": "2024-02-27T18:38:53.474Z"
   },
   {
    "duration": 57,
    "start_time": "2024-02-27T18:38:53.519Z"
   },
   {
    "duration": 16,
    "start_time": "2024-02-27T18:38:53.578Z"
   },
   {
    "duration": 649,
    "start_time": "2024-02-27T18:38:53.595Z"
   },
   {
    "duration": 237,
    "start_time": "2024-02-27T18:38:54.245Z"
   },
   {
    "duration": 321,
    "start_time": "2024-02-27T18:38:54.484Z"
   },
   {
    "duration": 257,
    "start_time": "2024-02-27T18:38:54.806Z"
   },
   {
    "duration": 367,
    "start_time": "2024-02-27T18:38:55.065Z"
   },
   {
    "duration": 360,
    "start_time": "2024-02-27T18:38:55.434Z"
   },
   {
    "duration": 4,
    "start_time": "2024-02-27T18:38:55.795Z"
   },
   {
    "duration": 428,
    "start_time": "2024-02-27T18:38:55.801Z"
   },
   {
    "duration": 4,
    "start_time": "2024-02-27T18:38:56.230Z"
   },
   {
    "duration": 379,
    "start_time": "2024-02-27T18:38:56.236Z"
   },
   {
    "duration": 11,
    "start_time": "2024-02-27T18:38:56.617Z"
   },
   {
    "duration": 92,
    "start_time": "2024-02-27T18:38:56.629Z"
   },
   {
    "duration": 70,
    "start_time": "2024-02-27T18:38:56.723Z"
   },
   {
    "duration": 314,
    "start_time": "2024-02-27T18:42:56.147Z"
   },
   {
    "duration": 251,
    "start_time": "2024-02-27T18:48:36.587Z"
   },
   {
    "duration": 1544,
    "start_time": "2024-02-28T09:54:14.828Z"
   },
   {
    "duration": 4,
    "start_time": "2024-02-28T09:54:16.375Z"
   },
   {
    "duration": 216,
    "start_time": "2024-02-28T09:54:16.381Z"
   },
   {
    "duration": 13,
    "start_time": "2024-02-28T09:54:16.599Z"
   },
   {
    "duration": 28,
    "start_time": "2024-02-28T09:54:16.615Z"
   },
   {
    "duration": 9,
    "start_time": "2024-02-28T09:54:16.645Z"
   },
   {
    "duration": 26,
    "start_time": "2024-02-28T09:54:16.656Z"
   },
   {
    "duration": 33,
    "start_time": "2024-02-28T09:54:16.684Z"
   },
   {
    "duration": 18,
    "start_time": "2024-02-28T09:54:16.719Z"
   },
   {
    "duration": 12,
    "start_time": "2024-02-28T09:54:16.739Z"
   },
   {
    "duration": 56,
    "start_time": "2024-02-28T09:54:16.753Z"
   },
   {
    "duration": 10,
    "start_time": "2024-02-28T09:54:16.810Z"
   },
   {
    "duration": 27,
    "start_time": "2024-02-28T09:54:16.821Z"
   },
   {
    "duration": 17,
    "start_time": "2024-02-28T09:54:16.850Z"
   },
   {
    "duration": 12,
    "start_time": "2024-02-28T09:54:16.869Z"
   },
   {
    "duration": 33,
    "start_time": "2024-02-28T09:54:16.882Z"
   },
   {
    "duration": 79,
    "start_time": "2024-02-28T09:54:16.917Z"
   },
   {
    "duration": 16,
    "start_time": "2024-02-28T09:54:16.998Z"
   },
   {
    "duration": 614,
    "start_time": "2024-02-28T09:54:17.016Z"
   },
   {
    "duration": 258,
    "start_time": "2024-02-28T09:54:17.632Z"
   },
   {
    "duration": 380,
    "start_time": "2024-02-28T09:54:17.892Z"
   },
   {
    "duration": 243,
    "start_time": "2024-02-28T09:54:18.274Z"
   },
   {
    "duration": 328,
    "start_time": "2024-02-28T09:54:18.522Z"
   },
   {
    "duration": 192,
    "start_time": "2024-02-28T09:54:18.852Z"
   },
   {
    "duration": 5,
    "start_time": "2024-02-28T09:54:19.046Z"
   },
   {
    "duration": 208,
    "start_time": "2024-02-28T09:54:19.053Z"
   },
   {
    "duration": 5,
    "start_time": "2024-02-28T09:54:19.263Z"
   },
   {
    "duration": 208,
    "start_time": "2024-02-28T09:54:19.270Z"
   },
   {
    "duration": 11,
    "start_time": "2024-02-28T09:54:19.480Z"
   },
   {
    "duration": 81,
    "start_time": "2024-02-28T09:54:19.492Z"
   },
   {
    "duration": 15,
    "start_time": "2024-02-28T09:54:19.575Z"
   },
   {
    "duration": 28,
    "start_time": "2024-02-28T10:05:02.489Z"
   },
   {
    "duration": 38,
    "start_time": "2024-02-28T10:05:20.618Z"
   },
   {
    "duration": 1343,
    "start_time": "2024-02-28T10:05:48.987Z"
   },
   {
    "duration": 3,
    "start_time": "2024-02-28T10:05:50.343Z"
   },
   {
    "duration": 105,
    "start_time": "2024-02-28T10:05:50.348Z"
   },
   {
    "duration": 12,
    "start_time": "2024-02-28T10:05:50.456Z"
   },
   {
    "duration": 32,
    "start_time": "2024-02-28T10:05:50.470Z"
   },
   {
    "duration": 40,
    "start_time": "2024-02-28T10:05:50.503Z"
   },
   {
    "duration": 35,
    "start_time": "2024-02-28T10:05:50.545Z"
   },
   {
    "duration": 34,
    "start_time": "2024-02-28T10:05:50.582Z"
   },
   {
    "duration": 19,
    "start_time": "2024-02-28T10:05:50.617Z"
   },
   {
    "duration": 30,
    "start_time": "2024-02-28T10:05:50.641Z"
   },
   {
    "duration": 32,
    "start_time": "2024-02-28T10:05:50.673Z"
   },
   {
    "duration": 38,
    "start_time": "2024-02-28T10:05:50.707Z"
   },
   {
    "duration": 22,
    "start_time": "2024-02-28T10:05:50.748Z"
   },
   {
    "duration": 36,
    "start_time": "2024-02-28T10:05:50.772Z"
   },
   {
    "duration": 24,
    "start_time": "2024-02-28T10:05:50.810Z"
   },
   {
    "duration": 51,
    "start_time": "2024-02-28T10:05:50.836Z"
   },
   {
    "duration": 26,
    "start_time": "2024-02-28T10:05:50.889Z"
   },
   {
    "duration": 634,
    "start_time": "2024-02-28T10:05:50.916Z"
   },
   {
    "duration": 279,
    "start_time": "2024-02-28T10:05:51.553Z"
   },
   {
    "duration": 335,
    "start_time": "2024-02-28T10:05:51.835Z"
   },
   {
    "duration": 258,
    "start_time": "2024-02-28T10:05:52.172Z"
   },
   {
    "duration": 369,
    "start_time": "2024-02-28T10:05:52.433Z"
   },
   {
    "duration": 203,
    "start_time": "2024-02-28T10:05:52.804Z"
   },
   {
    "duration": 15,
    "start_time": "2024-02-28T10:05:53.009Z"
   },
   {
    "duration": 210,
    "start_time": "2024-02-28T10:05:53.026Z"
   },
   {
    "duration": 6,
    "start_time": "2024-02-28T10:05:53.239Z"
   },
   {
    "duration": 201,
    "start_time": "2024-02-28T10:05:53.247Z"
   },
   {
    "duration": 11,
    "start_time": "2024-02-28T10:05:53.452Z"
   },
   {
    "duration": 47,
    "start_time": "2024-02-28T10:05:53.465Z"
   },
   {
    "duration": 31,
    "start_time": "2024-02-28T10:05:53.513Z"
   },
   {
    "duration": 28,
    "start_time": "2024-02-28T10:09:52.008Z"
   },
   {
    "duration": 1325,
    "start_time": "2024-02-28T10:10:15.048Z"
   },
   {
    "duration": 3,
    "start_time": "2024-02-28T10:10:16.375Z"
   },
   {
    "duration": 85,
    "start_time": "2024-02-28T10:10:16.380Z"
   },
   {
    "duration": 13,
    "start_time": "2024-02-28T10:10:16.466Z"
   },
   {
    "duration": 24,
    "start_time": "2024-02-28T10:10:16.481Z"
   },
   {
    "duration": 16,
    "start_time": "2024-02-28T10:10:16.507Z"
   },
   {
    "duration": 38,
    "start_time": "2024-02-28T10:10:16.525Z"
   },
   {
    "duration": 13,
    "start_time": "2024-02-28T10:10:16.565Z"
   },
   {
    "duration": 23,
    "start_time": "2024-02-28T10:10:16.580Z"
   },
   {
    "duration": 47,
    "start_time": "2024-02-28T10:10:16.605Z"
   },
   {
    "duration": 28,
    "start_time": "2024-02-28T10:10:16.653Z"
   },
   {
    "duration": 21,
    "start_time": "2024-02-28T10:10:16.683Z"
   },
   {
    "duration": 23,
    "start_time": "2024-02-28T10:10:16.706Z"
   },
   {
    "duration": 17,
    "start_time": "2024-02-28T10:10:16.732Z"
   },
   {
    "duration": 13,
    "start_time": "2024-02-28T10:10:16.750Z"
   },
   {
    "duration": 59,
    "start_time": "2024-02-28T10:10:16.765Z"
   },
   {
    "duration": 17,
    "start_time": "2024-02-28T10:10:16.826Z"
   },
   {
    "duration": 648,
    "start_time": "2024-02-28T10:10:16.845Z"
   },
   {
    "duration": 283,
    "start_time": "2024-02-28T10:10:17.495Z"
   },
   {
    "duration": 384,
    "start_time": "2024-02-28T10:10:17.780Z"
   },
   {
    "duration": 282,
    "start_time": "2024-02-28T10:10:18.166Z"
   },
   {
    "duration": 348,
    "start_time": "2024-02-28T10:10:18.450Z"
   },
   {
    "duration": 196,
    "start_time": "2024-02-28T10:10:18.800Z"
   },
   {
    "duration": 5,
    "start_time": "2024-02-28T10:10:18.998Z"
   },
   {
    "duration": 209,
    "start_time": "2024-02-28T10:10:19.006Z"
   },
   {
    "duration": 9,
    "start_time": "2024-02-28T10:10:19.217Z"
   },
   {
    "duration": 216,
    "start_time": "2024-02-28T10:10:19.230Z"
   },
   {
    "duration": 11,
    "start_time": "2024-02-28T10:10:19.447Z"
   },
   {
    "duration": 42,
    "start_time": "2024-02-28T10:10:19.459Z"
   },
   {
    "duration": 38,
    "start_time": "2024-02-28T10:10:19.502Z"
   },
   {
    "duration": 1309,
    "start_time": "2024-02-28T10:12:23.827Z"
   },
   {
    "duration": 3,
    "start_time": "2024-02-28T10:12:25.138Z"
   },
   {
    "duration": 90,
    "start_time": "2024-02-28T10:12:25.143Z"
   },
   {
    "duration": 11,
    "start_time": "2024-02-28T10:12:25.236Z"
   },
   {
    "duration": 34,
    "start_time": "2024-02-28T10:12:25.249Z"
   },
   {
    "duration": 12,
    "start_time": "2024-02-28T10:12:25.285Z"
   },
   {
    "duration": 22,
    "start_time": "2024-02-28T10:12:25.298Z"
   },
   {
    "duration": 33,
    "start_time": "2024-02-28T10:12:25.322Z"
   },
   {
    "duration": 36,
    "start_time": "2024-02-28T10:12:25.358Z"
   },
   {
    "duration": 46,
    "start_time": "2024-02-28T10:12:25.397Z"
   },
   {
    "duration": 43,
    "start_time": "2024-02-28T10:12:25.445Z"
   },
   {
    "duration": 15,
    "start_time": "2024-02-28T10:12:25.490Z"
   },
   {
    "duration": 22,
    "start_time": "2024-02-28T10:12:25.507Z"
   },
   {
    "duration": 21,
    "start_time": "2024-02-28T10:12:25.531Z"
   },
   {
    "duration": 12,
    "start_time": "2024-02-28T10:12:25.554Z"
   },
   {
    "duration": 49,
    "start_time": "2024-02-28T10:12:25.568Z"
   },
   {
    "duration": 21,
    "start_time": "2024-02-28T10:12:25.619Z"
   },
   {
    "duration": 624,
    "start_time": "2024-02-28T10:12:25.642Z"
   },
   {
    "duration": 248,
    "start_time": "2024-02-28T10:12:26.268Z"
   },
   {
    "duration": 331,
    "start_time": "2024-02-28T10:12:26.518Z"
   },
   {
    "duration": 251,
    "start_time": "2024-02-28T10:12:26.851Z"
   },
   {
    "duration": 528,
    "start_time": "2024-02-28T10:12:27.104Z"
   },
   {
    "duration": 403,
    "start_time": "2024-02-28T10:12:27.635Z"
   },
   {
    "duration": 4,
    "start_time": "2024-02-28T10:12:28.040Z"
   },
   {
    "duration": 388,
    "start_time": "2024-02-28T10:12:28.046Z"
   },
   {
    "duration": 5,
    "start_time": "2024-02-28T10:12:28.435Z"
   },
   {
    "duration": 391,
    "start_time": "2024-02-28T10:12:28.442Z"
   },
   {
    "duration": 12,
    "start_time": "2024-02-28T10:12:28.836Z"
   },
   {
    "duration": 94,
    "start_time": "2024-02-28T10:12:28.850Z"
   },
   {
    "duration": 17,
    "start_time": "2024-02-28T10:12:28.946Z"
   },
   {
    "duration": 23,
    "start_time": "2024-02-28T10:13:45.087Z"
   },
   {
    "duration": 1272,
    "start_time": "2024-02-28T10:14:14.069Z"
   },
   {
    "duration": 3,
    "start_time": "2024-02-28T10:14:15.343Z"
   },
   {
    "duration": 189,
    "start_time": "2024-02-28T10:14:15.348Z"
   },
   {
    "duration": 40,
    "start_time": "2024-02-28T10:14:15.539Z"
   },
   {
    "duration": 47,
    "start_time": "2024-02-28T10:14:15.581Z"
   },
   {
    "duration": 18,
    "start_time": "2024-02-28T10:14:15.630Z"
   },
   {
    "duration": 28,
    "start_time": "2024-02-28T10:14:15.650Z"
   },
   {
    "duration": 18,
    "start_time": "2024-02-28T10:14:15.680Z"
   },
   {
    "duration": 21,
    "start_time": "2024-02-28T10:14:15.700Z"
   },
   {
    "duration": 18,
    "start_time": "2024-02-28T10:14:15.723Z"
   },
   {
    "duration": 12,
    "start_time": "2024-02-28T10:14:15.742Z"
   },
   {
    "duration": 10,
    "start_time": "2024-02-28T10:14:15.756Z"
   },
   {
    "duration": 14,
    "start_time": "2024-02-28T10:14:15.768Z"
   },
   {
    "duration": 25,
    "start_time": "2024-02-28T10:14:15.785Z"
   },
   {
    "duration": 23,
    "start_time": "2024-02-28T10:14:15.811Z"
   },
   {
    "duration": 35,
    "start_time": "2024-02-28T10:14:15.836Z"
   },
   {
    "duration": 17,
    "start_time": "2024-02-28T10:14:15.873Z"
   },
   {
    "duration": 637,
    "start_time": "2024-02-28T10:14:15.924Z"
   },
   {
    "duration": 251,
    "start_time": "2024-02-28T10:14:16.563Z"
   },
   {
    "duration": 323,
    "start_time": "2024-02-28T10:14:16.816Z"
   },
   {
    "duration": 260,
    "start_time": "2024-02-28T10:14:17.141Z"
   },
   {
    "duration": 374,
    "start_time": "2024-02-28T10:14:17.403Z"
   },
   {
    "duration": 186,
    "start_time": "2024-02-28T10:14:17.779Z"
   },
   {
    "duration": 5,
    "start_time": "2024-02-28T10:14:17.967Z"
   },
   {
    "duration": 191,
    "start_time": "2024-02-28T10:14:17.973Z"
   },
   {
    "duration": 5,
    "start_time": "2024-02-28T10:14:18.166Z"
   },
   {
    "duration": 180,
    "start_time": "2024-02-28T10:14:18.172Z"
   },
   {
    "duration": 11,
    "start_time": "2024-02-28T10:14:18.354Z"
   },
   {
    "duration": 57,
    "start_time": "2024-02-28T10:14:18.367Z"
   },
   {
    "duration": 14,
    "start_time": "2024-02-28T10:14:18.425Z"
   },
   {
    "duration": 159,
    "start_time": "2024-02-28T10:29:42.055Z"
   },
   {
    "duration": 49,
    "start_time": "2024-02-28T10:32:54.770Z"
   },
   {
    "duration": 1277,
    "start_time": "2024-02-28T10:53:18.607Z"
   },
   {
    "duration": 3,
    "start_time": "2024-02-28T10:53:19.886Z"
   },
   {
    "duration": 82,
    "start_time": "2024-02-28T10:53:19.891Z"
   },
   {
    "duration": 15,
    "start_time": "2024-02-28T10:53:19.975Z"
   },
   {
    "duration": 28,
    "start_time": "2024-02-28T10:53:19.993Z"
   },
   {
    "duration": 9,
    "start_time": "2024-02-28T10:53:20.023Z"
   },
   {
    "duration": 25,
    "start_time": "2024-02-28T10:53:20.034Z"
   },
   {
    "duration": 33,
    "start_time": "2024-02-28T10:53:20.060Z"
   },
   {
    "duration": 18,
    "start_time": "2024-02-28T10:53:20.095Z"
   },
   {
    "duration": 19,
    "start_time": "2024-02-28T10:53:20.115Z"
   },
   {
    "duration": 10,
    "start_time": "2024-02-28T10:53:20.136Z"
   },
   {
    "duration": 7,
    "start_time": "2024-02-28T10:53:20.148Z"
   },
   {
    "duration": 7,
    "start_time": "2024-02-28T10:53:20.156Z"
   },
   {
    "duration": 22,
    "start_time": "2024-02-28T10:53:20.166Z"
   },
   {
    "duration": 39,
    "start_time": "2024-02-28T10:53:20.190Z"
   },
   {
    "duration": 41,
    "start_time": "2024-02-28T10:53:20.231Z"
   },
   {
    "duration": 15,
    "start_time": "2024-02-28T10:53:20.273Z"
   },
   {
    "duration": 674,
    "start_time": "2024-02-28T10:53:20.289Z"
   },
   {
    "duration": 259,
    "start_time": "2024-02-28T10:53:20.964Z"
   },
   {
    "duration": 350,
    "start_time": "2024-02-28T10:53:21.225Z"
   },
   {
    "duration": 251,
    "start_time": "2024-02-28T10:53:21.576Z"
   },
   {
    "duration": 331,
    "start_time": "2024-02-28T10:53:21.829Z"
   },
   {
    "duration": 204,
    "start_time": "2024-02-28T10:53:22.162Z"
   },
   {
    "duration": 5,
    "start_time": "2024-02-28T10:53:22.368Z"
   },
   {
    "duration": 195,
    "start_time": "2024-02-28T10:53:22.375Z"
   },
   {
    "duration": 5,
    "start_time": "2024-02-28T10:53:22.572Z"
   },
   {
    "duration": 199,
    "start_time": "2024-02-28T10:53:22.578Z"
   },
   {
    "duration": 12,
    "start_time": "2024-02-28T10:53:22.778Z"
   },
   {
    "duration": 55,
    "start_time": "2024-02-28T10:53:22.791Z"
   },
   {
    "duration": 14,
    "start_time": "2024-02-28T10:53:22.848Z"
   },
   {
    "duration": 1089,
    "start_time": "2024-02-28T15:40:15.460Z"
   },
   {
    "duration": 2,
    "start_time": "2024-02-28T15:40:16.551Z"
   },
   {
    "duration": 98,
    "start_time": "2024-02-28T15:40:16.555Z"
   },
   {
    "duration": 11,
    "start_time": "2024-02-28T15:40:16.654Z"
   },
   {
    "duration": 25,
    "start_time": "2024-02-28T15:40:16.667Z"
   },
   {
    "duration": 5,
    "start_time": "2024-02-28T15:40:16.694Z"
   },
   {
    "duration": 12,
    "start_time": "2024-02-28T15:40:16.700Z"
   },
   {
    "duration": 20,
    "start_time": "2024-02-28T15:40:16.713Z"
   },
   {
    "duration": 8,
    "start_time": "2024-02-28T15:40:16.734Z"
   },
   {
    "duration": 10,
    "start_time": "2024-02-28T15:40:16.744Z"
   },
   {
    "duration": 14,
    "start_time": "2024-02-28T15:40:16.755Z"
   },
   {
    "duration": 23,
    "start_time": "2024-02-28T15:40:16.770Z"
   },
   {
    "duration": 17,
    "start_time": "2024-02-28T15:40:16.794Z"
   },
   {
    "duration": 11,
    "start_time": "2024-02-28T15:40:16.814Z"
   },
   {
    "duration": 11,
    "start_time": "2024-02-28T15:40:16.826Z"
   },
   {
    "duration": 36,
    "start_time": "2024-02-28T15:40:16.839Z"
   },
   {
    "duration": 11,
    "start_time": "2024-02-28T15:40:16.877Z"
   },
   {
    "duration": 542,
    "start_time": "2024-02-28T15:40:16.890Z"
   },
   {
    "duration": 201,
    "start_time": "2024-02-28T15:40:17.434Z"
   },
   {
    "duration": 300,
    "start_time": "2024-02-28T15:40:17.636Z"
   },
   {
    "duration": 215,
    "start_time": "2024-02-28T15:40:17.937Z"
   },
   {
    "duration": 395,
    "start_time": "2024-02-28T15:40:18.154Z"
   },
   {
    "duration": 303,
    "start_time": "2024-02-28T15:40:18.551Z"
   },
   {
    "duration": 4,
    "start_time": "2024-02-28T15:40:18.856Z"
   },
   {
    "duration": 298,
    "start_time": "2024-02-28T15:40:18.861Z"
   },
   {
    "duration": 5,
    "start_time": "2024-02-28T15:40:19.160Z"
   },
   {
    "duration": 307,
    "start_time": "2024-02-28T15:40:19.166Z"
   },
   {
    "duration": 63,
    "start_time": "2024-02-28T15:40:19.475Z"
   },
   {
    "duration": 94,
    "start_time": "2024-02-28T15:40:19.540Z"
   },
   {
    "duration": 13,
    "start_time": "2024-02-28T15:40:19.636Z"
   }
  ],
  "kernelspec": {
   "display_name": "Python 3 (ipykernel)",
   "language": "python",
   "name": "python3"
  },
  "language_info": {
   "codemirror_mode": {
    "name": "ipython",
    "version": 3
   },
   "file_extension": ".py",
   "mimetype": "text/x-python",
   "name": "python",
   "nbconvert_exporter": "python",
   "pygments_lexer": "ipython3",
   "version": "3.12.9"
  },
  "toc": {
   "base_numbering": 1,
   "nav_menu": {},
   "number_sections": true,
   "sideBar": true,
   "skip_h1_title": true,
   "title_cell": "Table of Contents",
   "title_sidebar": "Contents",
   "toc_cell": false,
   "toc_position": {
    "height": "calc(100% - 180px)",
    "left": "10px",
    "top": "150px",
    "width": "285.2px"
   },
   "toc_section_display": true,
   "toc_window_display": true
  }
 },
 "nbformat": 4,
 "nbformat_minor": 4
}
