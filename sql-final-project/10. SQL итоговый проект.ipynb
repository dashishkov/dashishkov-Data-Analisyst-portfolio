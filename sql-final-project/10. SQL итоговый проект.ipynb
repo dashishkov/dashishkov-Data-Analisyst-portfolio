{
 "cells": [
  {
   "cell_type": "markdown",
   "metadata": {},
   "source": [
    "# Аналитика в  книжном сервисе по подписке"
   ]
  },
  {
   "cell_type": "markdown",
   "metadata": {},
   "source": [
    "<p style=\"font-size: 20px;\">Описание проекта</p><br>\n",
    "Коронавирус застал мир врасплох, изменив привычный порядок вещей. На какое-то время жители городов перестали выходить на улицу, посещать кафе и торговые центры. Зато стало больше времени для книг. Это заметили стартаперы — и бросились создавать приложения для тех, кто любит читать.\n",
    "Ваша компания решила быть на волне и купила крупный сервис для чтения книг по подписке. Ваша первая задача как аналитика — проанализировать базу данных.\n",
    "В ней — информация о книгах, издательствах, авторах, а также пользовательские обзоры книг. Эти данные помогут сформулировать ценностное предложение для нового продукта."
   ]
  },
  {
   "cell_type": "markdown",
   "metadata": {},
   "source": [
    "<p style=\"font-size: 20px;\">Цель проекта</p><br>\n",
    "Изучить данные и выяснить какие книги или характеристики книг могут быть привлекательными для пользователей сервиса."
   ]
  },
  {
   "cell_type": "markdown",
   "metadata": {},
   "source": [
    " <p style=\"font-size: 20px;\">Описание данных</p>\n",
    "\n",
    "\n",
    "Таблица books<br>\n",
    "Содержит данные о книгах:\n",
    "\n",
    "* `book_id` — идентификатор книги;\n",
    "* `author_id` — идентификатор автора;\n",
    "* `author_id` — идентификатор автора;\n",
    "* `title` — название книги;\n",
    "* `num_pages` — количество страниц;\n",
    "* `publication_date` — дата публикации книги;\n",
    "* `publisher_id` — идентификатор издателя.\n",
    "\n",
    "\n",
    "Таблица authors<br>\n",
    "Содержит данные об авторах:\n",
    "\n",
    "* `author_id`— идентификатор автора;\n",
    "* `author` — имя автораauthor;\n",
    "\n",
    "\n",
    "Таблица publishers<br>\n",
    "Содержит данные об издательствах:\n",
    "\n",
    "* `publisher_id` — идентификатор издательства;\n",
    "* `publisher` — название издательства;\n",
    "\n",
    "Таблица ratings<br>\n",
    "Содержит данные о пользовательских оценках книг:\n",
    "\n",
    "* `rating_id` — идентификатор оценки;\n",
    "* `book_id` — идентификатор книги;\n",
    "* `username` — имя пользователя, оставившего оценку;\n",
    "* `rating` — оценка книги.\n",
    "\n",
    "\n",
    "Таблица reviews<br>\n",
    "Содержит данные о пользовательских обзорах:\n",
    "* `review_id` — идентификатор обзора;\n",
    "* `book_id` — идентификатор книги;\n",
    "* `username` — имя автора обзора;\n",
    "* `text` — текст обзора."
   ]
  },
  {
   "cell_type": "markdown",
   "metadata": {},
   "source": [
    " #### Импорт библиотек"
   ]
  },
  {
   "cell_type": "code",
   "execution_count": 1,
   "metadata": {},
   "outputs": [],
   "source": [
    "import pandas as pd\n",
    "from sqlalchemy import text, create_engine"
   ]
  },
  {
   "cell_type": "markdown",
   "metadata": {},
   "source": [
    "#### Установка параметров и тестовый SQL запрос"
   ]
  },
  {
   "cell_type": "code",
   "execution_count": 2,
   "metadata": {},
   "outputs": [],
   "source": [
    "# устанавливаем параметры\n",
    "db_config = {'user': 'praktikum_student', # имя пользователя\n",
    "'pwd': 'Sdf4$2;d-d30pp', # пароль\n",
    "'host': 'rc1b-wcoijxj3yxfsf3fs.mdb.yandexcloud.net',\n",
    "'port': 6432, # порт подключения\n",
    "'db': 'data-analyst-final-project-db'} # название базы данных\n",
    "connection_string = 'postgresql://{user}:{pwd}@{host}:{port}/{db}'.format(**db_config)\n",
    "# сохраняем коннектор\n",
    "engine = create_engine(connection_string, connect_args={'sslmode':'require'})\n",
    "con=engine.connect()"
   ]
  },
  {
   "cell_type": "markdown",
   "metadata": {},
   "source": [
    "#### Ознакомимся с таблицей books"
   ]
  },
  {
   "cell_type": "code",
   "execution_count": 3,
   "metadata": {},
   "outputs": [
    {
     "data": {
      "text/html": [
       "<div>\n",
       "<style scoped>\n",
       "    .dataframe tbody tr th:only-of-type {\n",
       "        vertical-align: middle;\n",
       "    }\n",
       "\n",
       "    .dataframe tbody tr th {\n",
       "        vertical-align: top;\n",
       "    }\n",
       "\n",
       "    .dataframe thead th {\n",
       "        text-align: right;\n",
       "    }\n",
       "</style>\n",
       "<table border=\"1\" class=\"dataframe\">\n",
       "  <thead>\n",
       "    <tr style=\"text-align: right;\">\n",
       "      <th></th>\n",
       "      <th>book_id</th>\n",
       "      <th>author_id</th>\n",
       "      <th>title</th>\n",
       "      <th>num_pages</th>\n",
       "      <th>publication_date</th>\n",
       "      <th>publisher_id</th>\n",
       "    </tr>\n",
       "  </thead>\n",
       "  <tbody>\n",
       "    <tr>\n",
       "      <th>0</th>\n",
       "      <td>1</td>\n",
       "      <td>546</td>\n",
       "      <td>'Salem's Lot</td>\n",
       "      <td>594</td>\n",
       "      <td>2005-11-01</td>\n",
       "      <td>93</td>\n",
       "    </tr>\n",
       "    <tr>\n",
       "      <th>1</th>\n",
       "      <td>2</td>\n",
       "      <td>465</td>\n",
       "      <td>1 000 Places to See Before You Die</td>\n",
       "      <td>992</td>\n",
       "      <td>2003-05-22</td>\n",
       "      <td>336</td>\n",
       "    </tr>\n",
       "    <tr>\n",
       "      <th>2</th>\n",
       "      <td>3</td>\n",
       "      <td>407</td>\n",
       "      <td>13 Little Blue Envelopes (Little Blue Envelope...</td>\n",
       "      <td>322</td>\n",
       "      <td>2010-12-21</td>\n",
       "      <td>135</td>\n",
       "    </tr>\n",
       "    <tr>\n",
       "      <th>3</th>\n",
       "      <td>4</td>\n",
       "      <td>82</td>\n",
       "      <td>1491: New Revelations of the Americas Before C...</td>\n",
       "      <td>541</td>\n",
       "      <td>2006-10-10</td>\n",
       "      <td>309</td>\n",
       "    </tr>\n",
       "    <tr>\n",
       "      <th>4</th>\n",
       "      <td>5</td>\n",
       "      <td>125</td>\n",
       "      <td>1776</td>\n",
       "      <td>386</td>\n",
       "      <td>2006-07-04</td>\n",
       "      <td>268</td>\n",
       "    </tr>\n",
       "    <tr>\n",
       "      <th>...</th>\n",
       "      <td>...</td>\n",
       "      <td>...</td>\n",
       "      <td>...</td>\n",
       "      <td>...</td>\n",
       "      <td>...</td>\n",
       "      <td>...</td>\n",
       "    </tr>\n",
       "    <tr>\n",
       "      <th>995</th>\n",
       "      <td>996</td>\n",
       "      <td>571</td>\n",
       "      <td>Wyrd Sisters (Discworld  #6; Witches #2)</td>\n",
       "      <td>265</td>\n",
       "      <td>2001-02-06</td>\n",
       "      <td>147</td>\n",
       "    </tr>\n",
       "    <tr>\n",
       "      <th>996</th>\n",
       "      <td>997</td>\n",
       "      <td>454</td>\n",
       "      <td>Xenocide (Ender's Saga  #3)</td>\n",
       "      <td>592</td>\n",
       "      <td>1996-07-15</td>\n",
       "      <td>297</td>\n",
       "    </tr>\n",
       "    <tr>\n",
       "      <th>997</th>\n",
       "      <td>998</td>\n",
       "      <td>201</td>\n",
       "      <td>Year of Wonders</td>\n",
       "      <td>358</td>\n",
       "      <td>2002-04-30</td>\n",
       "      <td>212</td>\n",
       "    </tr>\n",
       "    <tr>\n",
       "      <th>998</th>\n",
       "      <td>999</td>\n",
       "      <td>94</td>\n",
       "      <td>You Suck (A Love Story  #2)</td>\n",
       "      <td>328</td>\n",
       "      <td>2007-01-16</td>\n",
       "      <td>331</td>\n",
       "    </tr>\n",
       "    <tr>\n",
       "      <th>999</th>\n",
       "      <td>1000</td>\n",
       "      <td>509</td>\n",
       "      <td>Zen and the Art of Motorcycle Maintenance: An ...</td>\n",
       "      <td>540</td>\n",
       "      <td>2006-04-25</td>\n",
       "      <td>143</td>\n",
       "    </tr>\n",
       "  </tbody>\n",
       "</table>\n",
       "<p>1000 rows × 6 columns</p>\n",
       "</div>"
      ],
      "text/plain": [
       "     book_id  author_id                                              title  \\\n",
       "0          1        546                                       'Salem's Lot   \n",
       "1          2        465                 1 000 Places to See Before You Die   \n",
       "2          3        407  13 Little Blue Envelopes (Little Blue Envelope...   \n",
       "3          4         82  1491: New Revelations of the Americas Before C...   \n",
       "4          5        125                                               1776   \n",
       "..       ...        ...                                                ...   \n",
       "995      996        571           Wyrd Sisters (Discworld  #6; Witches #2)   \n",
       "996      997        454                        Xenocide (Ender's Saga  #3)   \n",
       "997      998        201                                    Year of Wonders   \n",
       "998      999         94                        You Suck (A Love Story  #2)   \n",
       "999     1000        509  Zen and the Art of Motorcycle Maintenance: An ...   \n",
       "\n",
       "     num_pages publication_date  publisher_id  \n",
       "0          594       2005-11-01            93  \n",
       "1          992       2003-05-22           336  \n",
       "2          322       2010-12-21           135  \n",
       "3          541       2006-10-10           309  \n",
       "4          386       2006-07-04           268  \n",
       "..         ...              ...           ...  \n",
       "995        265       2001-02-06           147  \n",
       "996        592       1996-07-15           297  \n",
       "997        358       2002-04-30           212  \n",
       "998        328       2007-01-16           331  \n",
       "999        540       2006-04-25           143  \n",
       "\n",
       "[1000 rows x 6 columns]"
      ]
     },
     "execution_count": 3,
     "metadata": {},
     "output_type": "execute_result"
    }
   ],
   "source": [
    "# чтобы выполнить SQL-запрос, используем Pandas\n",
    "query = '''SELECT * FROM books'''\n",
    "\n",
    "pd.io.sql.read_sql(sql=text(query), con = con)"
   ]
  },
  {
   "cell_type": "markdown",
   "metadata": {},
   "source": [
    "В таблице 1000 строк и 6 колонок"
   ]
  },
  {
   "cell_type": "markdown",
   "metadata": {},
   "source": [
    "#### Ознакомимся с таблицей authors"
   ]
  },
  {
   "cell_type": "code",
   "execution_count": 4,
   "metadata": {},
   "outputs": [
    {
     "data": {
      "text/html": [
       "<div>\n",
       "<style scoped>\n",
       "    .dataframe tbody tr th:only-of-type {\n",
       "        vertical-align: middle;\n",
       "    }\n",
       "\n",
       "    .dataframe tbody tr th {\n",
       "        vertical-align: top;\n",
       "    }\n",
       "\n",
       "    .dataframe thead th {\n",
       "        text-align: right;\n",
       "    }\n",
       "</style>\n",
       "<table border=\"1\" class=\"dataframe\">\n",
       "  <thead>\n",
       "    <tr style=\"text-align: right;\">\n",
       "      <th></th>\n",
       "      <th>author_id</th>\n",
       "      <th>author</th>\n",
       "    </tr>\n",
       "  </thead>\n",
       "  <tbody>\n",
       "    <tr>\n",
       "      <th>0</th>\n",
       "      <td>1</td>\n",
       "      <td>A.S. Byatt</td>\n",
       "    </tr>\n",
       "    <tr>\n",
       "      <th>1</th>\n",
       "      <td>2</td>\n",
       "      <td>Aesop/Laura Harris/Laura Gibbs</td>\n",
       "    </tr>\n",
       "    <tr>\n",
       "      <th>2</th>\n",
       "      <td>3</td>\n",
       "      <td>Agatha Christie</td>\n",
       "    </tr>\n",
       "    <tr>\n",
       "      <th>3</th>\n",
       "      <td>4</td>\n",
       "      <td>Alan Brennert</td>\n",
       "    </tr>\n",
       "    <tr>\n",
       "      <th>4</th>\n",
       "      <td>5</td>\n",
       "      <td>Alan Moore/David   Lloyd</td>\n",
       "    </tr>\n",
       "    <tr>\n",
       "      <th>...</th>\n",
       "      <td>...</td>\n",
       "      <td>...</td>\n",
       "    </tr>\n",
       "    <tr>\n",
       "      <th>631</th>\n",
       "      <td>632</td>\n",
       "      <td>William Strunk Jr./E.B. White</td>\n",
       "    </tr>\n",
       "    <tr>\n",
       "      <th>632</th>\n",
       "      <td>633</td>\n",
       "      <td>Zadie Smith</td>\n",
       "    </tr>\n",
       "    <tr>\n",
       "      <th>633</th>\n",
       "      <td>634</td>\n",
       "      <td>Zilpha Keatley Snyder</td>\n",
       "    </tr>\n",
       "    <tr>\n",
       "      <th>634</th>\n",
       "      <td>635</td>\n",
       "      <td>Zora Neale Hurston</td>\n",
       "    </tr>\n",
       "    <tr>\n",
       "      <th>635</th>\n",
       "      <td>636</td>\n",
       "      <td>Åsne Seierstad/Ingrid Christopherson</td>\n",
       "    </tr>\n",
       "  </tbody>\n",
       "</table>\n",
       "<p>636 rows × 2 columns</p>\n",
       "</div>"
      ],
      "text/plain": [
       "     author_id                                author\n",
       "0            1                            A.S. Byatt\n",
       "1            2        Aesop/Laura Harris/Laura Gibbs\n",
       "2            3                       Agatha Christie\n",
       "3            4                         Alan Brennert\n",
       "4            5              Alan Moore/David   Lloyd\n",
       "..         ...                                   ...\n",
       "631        632         William Strunk Jr./E.B. White\n",
       "632        633                           Zadie Smith\n",
       "633        634                 Zilpha Keatley Snyder\n",
       "634        635                    Zora Neale Hurston\n",
       "635        636  Åsne Seierstad/Ingrid Christopherson\n",
       "\n",
       "[636 rows x 2 columns]"
      ]
     },
     "execution_count": 4,
     "metadata": {},
     "output_type": "execute_result"
    }
   ],
   "source": [
    "query = '''SELECT * FROM authors'''\n",
    "\n",
    "pd.io.sql.read_sql(sql=text(query), con = con)"
   ]
  },
  {
   "cell_type": "markdown",
   "metadata": {},
   "source": [
    "В таблице 636 строк и 2 колонки"
   ]
  },
  {
   "cell_type": "markdown",
   "metadata": {},
   "source": [
    "#### Ознакомимся с таблицей ratings"
   ]
  },
  {
   "cell_type": "code",
   "execution_count": 5,
   "metadata": {},
   "outputs": [
    {
     "data": {
      "text/html": [
       "<div>\n",
       "<style scoped>\n",
       "    .dataframe tbody tr th:only-of-type {\n",
       "        vertical-align: middle;\n",
       "    }\n",
       "\n",
       "    .dataframe tbody tr th {\n",
       "        vertical-align: top;\n",
       "    }\n",
       "\n",
       "    .dataframe thead th {\n",
       "        text-align: right;\n",
       "    }\n",
       "</style>\n",
       "<table border=\"1\" class=\"dataframe\">\n",
       "  <thead>\n",
       "    <tr style=\"text-align: right;\">\n",
       "      <th></th>\n",
       "      <th>rating_id</th>\n",
       "      <th>book_id</th>\n",
       "      <th>username</th>\n",
       "      <th>rating</th>\n",
       "    </tr>\n",
       "  </thead>\n",
       "  <tbody>\n",
       "    <tr>\n",
       "      <th>0</th>\n",
       "      <td>1</td>\n",
       "      <td>1</td>\n",
       "      <td>ryanfranco</td>\n",
       "      <td>4</td>\n",
       "    </tr>\n",
       "    <tr>\n",
       "      <th>1</th>\n",
       "      <td>2</td>\n",
       "      <td>1</td>\n",
       "      <td>grantpatricia</td>\n",
       "      <td>2</td>\n",
       "    </tr>\n",
       "    <tr>\n",
       "      <th>2</th>\n",
       "      <td>3</td>\n",
       "      <td>1</td>\n",
       "      <td>brandtandrea</td>\n",
       "      <td>5</td>\n",
       "    </tr>\n",
       "    <tr>\n",
       "      <th>3</th>\n",
       "      <td>4</td>\n",
       "      <td>2</td>\n",
       "      <td>lorichen</td>\n",
       "      <td>3</td>\n",
       "    </tr>\n",
       "    <tr>\n",
       "      <th>4</th>\n",
       "      <td>5</td>\n",
       "      <td>2</td>\n",
       "      <td>mariokeller</td>\n",
       "      <td>2</td>\n",
       "    </tr>\n",
       "    <tr>\n",
       "      <th>...</th>\n",
       "      <td>...</td>\n",
       "      <td>...</td>\n",
       "      <td>...</td>\n",
       "      <td>...</td>\n",
       "    </tr>\n",
       "    <tr>\n",
       "      <th>6451</th>\n",
       "      <td>6452</td>\n",
       "      <td>1000</td>\n",
       "      <td>carolrodriguez</td>\n",
       "      <td>4</td>\n",
       "    </tr>\n",
       "    <tr>\n",
       "      <th>6452</th>\n",
       "      <td>6453</td>\n",
       "      <td>1000</td>\n",
       "      <td>wendy18</td>\n",
       "      <td>4</td>\n",
       "    </tr>\n",
       "    <tr>\n",
       "      <th>6453</th>\n",
       "      <td>6454</td>\n",
       "      <td>1000</td>\n",
       "      <td>jarvispaul</td>\n",
       "      <td>5</td>\n",
       "    </tr>\n",
       "    <tr>\n",
       "      <th>6454</th>\n",
       "      <td>6455</td>\n",
       "      <td>1000</td>\n",
       "      <td>zross</td>\n",
       "      <td>2</td>\n",
       "    </tr>\n",
       "    <tr>\n",
       "      <th>6455</th>\n",
       "      <td>6456</td>\n",
       "      <td>1000</td>\n",
       "      <td>fharris</td>\n",
       "      <td>5</td>\n",
       "    </tr>\n",
       "  </tbody>\n",
       "</table>\n",
       "<p>6456 rows × 4 columns</p>\n",
       "</div>"
      ],
      "text/plain": [
       "      rating_id  book_id        username  rating\n",
       "0             1        1      ryanfranco       4\n",
       "1             2        1   grantpatricia       2\n",
       "2             3        1    brandtandrea       5\n",
       "3             4        2        lorichen       3\n",
       "4             5        2     mariokeller       2\n",
       "...         ...      ...             ...     ...\n",
       "6451       6452     1000  carolrodriguez       4\n",
       "6452       6453     1000         wendy18       4\n",
       "6453       6454     1000      jarvispaul       5\n",
       "6454       6455     1000           zross       2\n",
       "6455       6456     1000         fharris       5\n",
       "\n",
       "[6456 rows x 4 columns]"
      ]
     },
     "execution_count": 5,
     "metadata": {},
     "output_type": "execute_result"
    }
   ],
   "source": [
    "query = '''SELECT * FROM ratings'''\n",
    "\n",
    "pd.io.sql.read_sql(sql=text(query), con = con)"
   ]
  },
  {
   "cell_type": "markdown",
   "metadata": {},
   "source": [
    "В таблице 6456 рядов и 4 колонки"
   ]
  },
  {
   "cell_type": "markdown",
   "metadata": {},
   "source": [
    "#### Ознакомимся с таблицей reviews"
   ]
  },
  {
   "cell_type": "code",
   "execution_count": 6,
   "metadata": {},
   "outputs": [
    {
     "data": {
      "text/html": [
       "<div>\n",
       "<style scoped>\n",
       "    .dataframe tbody tr th:only-of-type {\n",
       "        vertical-align: middle;\n",
       "    }\n",
       "\n",
       "    .dataframe tbody tr th {\n",
       "        vertical-align: top;\n",
       "    }\n",
       "\n",
       "    .dataframe thead th {\n",
       "        text-align: right;\n",
       "    }\n",
       "</style>\n",
       "<table border=\"1\" class=\"dataframe\">\n",
       "  <thead>\n",
       "    <tr style=\"text-align: right;\">\n",
       "      <th></th>\n",
       "      <th>review_id</th>\n",
       "      <th>book_id</th>\n",
       "      <th>username</th>\n",
       "      <th>text</th>\n",
       "    </tr>\n",
       "  </thead>\n",
       "  <tbody>\n",
       "    <tr>\n",
       "      <th>0</th>\n",
       "      <td>1</td>\n",
       "      <td>1</td>\n",
       "      <td>brandtandrea</td>\n",
       "      <td>Mention society tell send professor analysis. ...</td>\n",
       "    </tr>\n",
       "    <tr>\n",
       "      <th>1</th>\n",
       "      <td>2</td>\n",
       "      <td>1</td>\n",
       "      <td>ryanfranco</td>\n",
       "      <td>Foot glass pretty audience hit themselves. Amo...</td>\n",
       "    </tr>\n",
       "    <tr>\n",
       "      <th>2</th>\n",
       "      <td>3</td>\n",
       "      <td>2</td>\n",
       "      <td>lorichen</td>\n",
       "      <td>Listen treat keep worry. Miss husband tax but ...</td>\n",
       "    </tr>\n",
       "    <tr>\n",
       "      <th>3</th>\n",
       "      <td>4</td>\n",
       "      <td>3</td>\n",
       "      <td>johnsonamanda</td>\n",
       "      <td>Finally month interesting blue could nature cu...</td>\n",
       "    </tr>\n",
       "    <tr>\n",
       "      <th>4</th>\n",
       "      <td>5</td>\n",
       "      <td>3</td>\n",
       "      <td>scotttamara</td>\n",
       "      <td>Nation purpose heavy give wait song will. List...</td>\n",
       "    </tr>\n",
       "    <tr>\n",
       "      <th>...</th>\n",
       "      <td>...</td>\n",
       "      <td>...</td>\n",
       "      <td>...</td>\n",
       "      <td>...</td>\n",
       "    </tr>\n",
       "    <tr>\n",
       "      <th>2788</th>\n",
       "      <td>2789</td>\n",
       "      <td>999</td>\n",
       "      <td>martinadam</td>\n",
       "      <td>Later hospital turn easy community. Fact same ...</td>\n",
       "    </tr>\n",
       "    <tr>\n",
       "      <th>2789</th>\n",
       "      <td>2790</td>\n",
       "      <td>1000</td>\n",
       "      <td>wknight</td>\n",
       "      <td>Change lose answer close pressure. Spend so now.</td>\n",
       "    </tr>\n",
       "    <tr>\n",
       "      <th>2790</th>\n",
       "      <td>2791</td>\n",
       "      <td>1000</td>\n",
       "      <td>carolrodriguez</td>\n",
       "      <td>Authority go who television entire hair guy po...</td>\n",
       "    </tr>\n",
       "    <tr>\n",
       "      <th>2791</th>\n",
       "      <td>2792</td>\n",
       "      <td>1000</td>\n",
       "      <td>wendy18</td>\n",
       "      <td>Or western offer wonder ask. More hear phone f...</td>\n",
       "    </tr>\n",
       "    <tr>\n",
       "      <th>2792</th>\n",
       "      <td>2793</td>\n",
       "      <td>1000</td>\n",
       "      <td>jarvispaul</td>\n",
       "      <td>Republican staff bit eat material measure plan...</td>\n",
       "    </tr>\n",
       "  </tbody>\n",
       "</table>\n",
       "<p>2793 rows × 4 columns</p>\n",
       "</div>"
      ],
      "text/plain": [
       "      review_id  book_id        username  \\\n",
       "0             1        1    brandtandrea   \n",
       "1             2        1      ryanfranco   \n",
       "2             3        2        lorichen   \n",
       "3             4        3   johnsonamanda   \n",
       "4             5        3     scotttamara   \n",
       "...         ...      ...             ...   \n",
       "2788       2789      999      martinadam   \n",
       "2789       2790     1000         wknight   \n",
       "2790       2791     1000  carolrodriguez   \n",
       "2791       2792     1000         wendy18   \n",
       "2792       2793     1000      jarvispaul   \n",
       "\n",
       "                                                   text  \n",
       "0     Mention society tell send professor analysis. ...  \n",
       "1     Foot glass pretty audience hit themselves. Amo...  \n",
       "2     Listen treat keep worry. Miss husband tax but ...  \n",
       "3     Finally month interesting blue could nature cu...  \n",
       "4     Nation purpose heavy give wait song will. List...  \n",
       "...                                                 ...  \n",
       "2788  Later hospital turn easy community. Fact same ...  \n",
       "2789   Change lose answer close pressure. Spend so now.  \n",
       "2790  Authority go who television entire hair guy po...  \n",
       "2791  Or western offer wonder ask. More hear phone f...  \n",
       "2792  Republican staff bit eat material measure plan...  \n",
       "\n",
       "[2793 rows x 4 columns]"
      ]
     },
     "execution_count": 6,
     "metadata": {},
     "output_type": "execute_result"
    }
   ],
   "source": [
    "query = '''SELECT * FROM reviews'''\n",
    "\n",
    "pd.io.sql.read_sql(sql=text(query), con = con)"
   ]
  },
  {
   "cell_type": "markdown",
   "metadata": {},
   "source": [
    "В таблице 2793 ряда и 4 колонки"
   ]
  },
  {
   "cell_type": "markdown",
   "metadata": {},
   "source": [
    "#### Количество книг, вышедших после 1 января 2000 года"
   ]
  },
  {
   "cell_type": "code",
   "execution_count": 7,
   "metadata": {},
   "outputs": [
    {
     "data": {
      "text/html": [
       "<div>\n",
       "<style scoped>\n",
       "    .dataframe tbody tr th:only-of-type {\n",
       "        vertical-align: middle;\n",
       "    }\n",
       "\n",
       "    .dataframe tbody tr th {\n",
       "        vertical-align: top;\n",
       "    }\n",
       "\n",
       "    .dataframe thead th {\n",
       "        text-align: right;\n",
       "    }\n",
       "</style>\n",
       "<table border=\"1\" class=\"dataframe\">\n",
       "  <thead>\n",
       "    <tr style=\"text-align: right;\">\n",
       "      <th></th>\n",
       "      <th>num_books</th>\n",
       "    </tr>\n",
       "  </thead>\n",
       "  <tbody>\n",
       "    <tr>\n",
       "      <th>0</th>\n",
       "      <td>819</td>\n",
       "    </tr>\n",
       "  </tbody>\n",
       "</table>\n",
       "</div>"
      ],
      "text/plain": [
       "   num_books\n",
       "0        819"
      ]
     },
     "execution_count": 7,
     "metadata": {},
     "output_type": "execute_result"
    }
   ],
   "source": [
    "query = '''SELECT COUNT(*) AS num_books\n",
    "               FROM books\n",
    "               WHERE publication_date > '2000-01-01';'''\n",
    "\n",
    "pd.io.sql.read_sql(sql=text(query), con = con)"
   ]
  },
  {
   "cell_type": "markdown",
   "metadata": {},
   "source": [
    "Всего после 1 января 2000 года вышло 819 книг"
   ]
  },
  {
   "cell_type": "code",
   "execution_count": 8,
   "metadata": {},
   "outputs": [
    {
     "data": {
      "text/html": [
       "<div>\n",
       "<style scoped>\n",
       "    .dataframe tbody tr th:only-of-type {\n",
       "        vertical-align: middle;\n",
       "    }\n",
       "\n",
       "    .dataframe tbody tr th {\n",
       "        vertical-align: top;\n",
       "    }\n",
       "\n",
       "    .dataframe thead th {\n",
       "        text-align: right;\n",
       "    }\n",
       "</style>\n",
       "<table border=\"1\" class=\"dataframe\">\n",
       "  <thead>\n",
       "    <tr style=\"text-align: right;\">\n",
       "      <th></th>\n",
       "      <th>num_books</th>\n",
       "    </tr>\n",
       "  </thead>\n",
       "  <tbody>\n",
       "    <tr>\n",
       "      <th>0</th>\n",
       "      <td>179</td>\n",
       "    </tr>\n",
       "  </tbody>\n",
       "</table>\n",
       "</div>"
      ],
      "text/plain": [
       "   num_books\n",
       "0        179"
      ]
     },
     "execution_count": 8,
     "metadata": {},
     "output_type": "execute_result"
    }
   ],
   "source": [
    "# Проверим сколько книг вышло за предыдущие 20 лет\n",
    "query = '''SELECT COUNT(*) AS num_books\n",
    "               FROM books\n",
    "               WHERE publication_date BETWEEN '1980-01-01' AND '2000-01-01';'''\n",
    "\n",
    "pd.io.sql.read_sql(sql=text(query), con = con)"
   ]
  },
  {
   "cell_type": "markdown",
   "metadata": {},
   "source": [
    "С 1980 по 2020 год вышло 179 книг."
   ]
  },
  {
   "cell_type": "markdown",
   "metadata": {},
   "source": [
    "#### Количество обзоров и средняя оценка для каждой книги"
   ]
  },
  {
   "cell_type": "code",
   "execution_count": 9,
   "metadata": {},
   "outputs": [
    {
     "data": {
      "text/html": [
       "<div>\n",
       "<style scoped>\n",
       "    .dataframe tbody tr th:only-of-type {\n",
       "        vertical-align: middle;\n",
       "    }\n",
       "\n",
       "    .dataframe tbody tr th {\n",
       "        vertical-align: top;\n",
       "    }\n",
       "\n",
       "    .dataframe thead th {\n",
       "        text-align: right;\n",
       "    }\n",
       "</style>\n",
       "<table border=\"1\" class=\"dataframe\">\n",
       "  <thead>\n",
       "    <tr style=\"text-align: right;\">\n",
       "      <th></th>\n",
       "      <th>book_id</th>\n",
       "      <th>title</th>\n",
       "      <th>review_count</th>\n",
       "      <th>avg_rating</th>\n",
       "    </tr>\n",
       "  </thead>\n",
       "  <tbody>\n",
       "    <tr>\n",
       "      <th>0</th>\n",
       "      <td>948</td>\n",
       "      <td>Twilight (Twilight  #1)</td>\n",
       "      <td>7</td>\n",
       "      <td>3.662500</td>\n",
       "    </tr>\n",
       "    <tr>\n",
       "      <th>1</th>\n",
       "      <td>302</td>\n",
       "      <td>Harry Potter and the Prisoner of Azkaban (Harr...</td>\n",
       "      <td>6</td>\n",
       "      <td>4.414634</td>\n",
       "    </tr>\n",
       "    <tr>\n",
       "      <th>2</th>\n",
       "      <td>299</td>\n",
       "      <td>Harry Potter and the Chamber of Secrets (Harry...</td>\n",
       "      <td>6</td>\n",
       "      <td>4.287500</td>\n",
       "    </tr>\n",
       "    <tr>\n",
       "      <th>3</th>\n",
       "      <td>656</td>\n",
       "      <td>The Book Thief</td>\n",
       "      <td>6</td>\n",
       "      <td>4.264151</td>\n",
       "    </tr>\n",
       "    <tr>\n",
       "      <th>4</th>\n",
       "      <td>734</td>\n",
       "      <td>The Glass Castle</td>\n",
       "      <td>6</td>\n",
       "      <td>4.206897</td>\n",
       "    </tr>\n",
       "    <tr>\n",
       "      <th>...</th>\n",
       "      <td>...</td>\n",
       "      <td>...</td>\n",
       "      <td>...</td>\n",
       "      <td>...</td>\n",
       "    </tr>\n",
       "    <tr>\n",
       "      <th>995</th>\n",
       "      <td>191</td>\n",
       "      <td>Disney's Beauty and the Beast (A Little Golden...</td>\n",
       "      <td>0</td>\n",
       "      <td>4.000000</td>\n",
       "    </tr>\n",
       "    <tr>\n",
       "      <th>996</th>\n",
       "      <td>387</td>\n",
       "      <td>Leonardo's Notebooks</td>\n",
       "      <td>0</td>\n",
       "      <td>4.000000</td>\n",
       "    </tr>\n",
       "    <tr>\n",
       "      <th>997</th>\n",
       "      <td>221</td>\n",
       "      <td>Essential Tales and Poems</td>\n",
       "      <td>0</td>\n",
       "      <td>4.000000</td>\n",
       "    </tr>\n",
       "    <tr>\n",
       "      <th>998</th>\n",
       "      <td>83</td>\n",
       "      <td>Anne Rice's The Vampire Lestat: A Graphic Novel</td>\n",
       "      <td>0</td>\n",
       "      <td>3.666667</td>\n",
       "    </tr>\n",
       "    <tr>\n",
       "      <th>999</th>\n",
       "      <td>808</td>\n",
       "      <td>The Natural Way to Draw</td>\n",
       "      <td>0</td>\n",
       "      <td>3.000000</td>\n",
       "    </tr>\n",
       "  </tbody>\n",
       "</table>\n",
       "<p>1000 rows × 4 columns</p>\n",
       "</div>"
      ],
      "text/plain": [
       "     book_id                                              title  review_count  \\\n",
       "0        948                            Twilight (Twilight  #1)             7   \n",
       "1        302  Harry Potter and the Prisoner of Azkaban (Harr...             6   \n",
       "2        299  Harry Potter and the Chamber of Secrets (Harry...             6   \n",
       "3        656                                     The Book Thief             6   \n",
       "4        734                                   The Glass Castle             6   \n",
       "..       ...                                                ...           ...   \n",
       "995      191  Disney's Beauty and the Beast (A Little Golden...             0   \n",
       "996      387                               Leonardo's Notebooks             0   \n",
       "997      221                          Essential Tales and Poems             0   \n",
       "998       83    Anne Rice's The Vampire Lestat: A Graphic Novel             0   \n",
       "999      808                            The Natural Way to Draw             0   \n",
       "\n",
       "     avg_rating  \n",
       "0      3.662500  \n",
       "1      4.414634  \n",
       "2      4.287500  \n",
       "3      4.264151  \n",
       "4      4.206897  \n",
       "..          ...  \n",
       "995    4.000000  \n",
       "996    4.000000  \n",
       "997    4.000000  \n",
       "998    3.666667  \n",
       "999    3.000000  \n",
       "\n",
       "[1000 rows x 4 columns]"
      ]
     },
     "execution_count": 9,
     "metadata": {},
     "output_type": "execute_result"
    }
   ],
   "source": [
    "query = '''SELECT\n",
    "            books.book_id,\n",
    "            books.title,\n",
    "            COUNT(DISTINCT reviews.review_id) AS review_count,\n",
    "            AVG(ratings.rating) AS avg_rating\n",
    "                FROM books\n",
    "                LEFT JOIN reviews ON books.book_id = reviews.book_id\n",
    "                LEFT JOIN ratings ON books.book_id = ratings.book_id\n",
    "                GROUP BY books.book_id\n",
    "                ORDER BY review_count desc, avg_rating desc;'''\n",
    "\n",
    "pd.io.sql.read_sql(sql=text(query), con = con)"
   ]
  },
  {
   "cell_type": "markdown",
   "metadata": {},
   "source": [
    "Больше всего обзоров у Twilight - 7 обзоров, на втором и третьем месте серия книг Harry Potter, с 6 обзорами. Рейтинги варьируются от 1,5 до 5 баллов."
   ]
  },
  {
   "cell_type": "markdown",
   "metadata": {},
   "source": [
    "#### Издательство, выпустившее наибольшее число книг толще 50 страниц"
   ]
  },
  {
   "cell_type": "code",
   "execution_count": 10,
   "metadata": {},
   "outputs": [
    {
     "data": {
      "text/html": [
       "<div>\n",
       "<style scoped>\n",
       "    .dataframe tbody tr th:only-of-type {\n",
       "        vertical-align: middle;\n",
       "    }\n",
       "\n",
       "    .dataframe tbody tr th {\n",
       "        vertical-align: top;\n",
       "    }\n",
       "\n",
       "    .dataframe thead th {\n",
       "        text-align: right;\n",
       "    }\n",
       "</style>\n",
       "<table border=\"1\" class=\"dataframe\">\n",
       "  <thead>\n",
       "    <tr style=\"text-align: right;\">\n",
       "      <th></th>\n",
       "      <th>publisher_id</th>\n",
       "      <th>publisher</th>\n",
       "      <th>books_count</th>\n",
       "    </tr>\n",
       "  </thead>\n",
       "  <tbody>\n",
       "    <tr>\n",
       "      <th>0</th>\n",
       "      <td>212</td>\n",
       "      <td>Penguin Books</td>\n",
       "      <td>42</td>\n",
       "    </tr>\n",
       "  </tbody>\n",
       "</table>\n",
       "</div>"
      ],
      "text/plain": [
       "   publisher_id      publisher  books_count\n",
       "0           212  Penguin Books           42"
      ]
     },
     "execution_count": 10,
     "metadata": {},
     "output_type": "execute_result"
    }
   ],
   "source": [
    "query = '''SELECT\n",
    "        publishers.publisher_id,\n",
    "        publishers.publisher,\n",
    "        COUNT(books.book_id) AS books_count\n",
    "            FROM books\n",
    "            JOIN publishers ON books.publisher_id = publishers.publisher_id\n",
    "            WHERE books.num_pages > 50\n",
    "            GROUP BY publishers.publisher_id\n",
    "            ORDER BY books_count DESC\n",
    "            LIMIT 1;'''\n",
    "\n",
    "pd.io.sql.read_sql(sql=text(query), con = con)"
   ]
  },
  {
   "cell_type": "markdown",
   "metadata": {},
   "source": [
    "Издательством выпустившим больше всего книг (толще 50 страниц) оказалось Penguin Books, это издательство выпустило 43 книги."
   ]
  },
  {
   "cell_type": "markdown",
   "metadata": {},
   "source": [
    "#### Автор с самой высокой средней оценкой книг (только книги с 50 и более оценками)"
   ]
  },
  {
   "cell_type": "code",
   "execution_count": 11,
   "metadata": {
    "scrolled": true
   },
   "outputs": [
    {
     "data": {
      "text/html": [
       "<div>\n",
       "<style scoped>\n",
       "    .dataframe tbody tr th:only-of-type {\n",
       "        vertical-align: middle;\n",
       "    }\n",
       "\n",
       "    .dataframe tbody tr th {\n",
       "        vertical-align: top;\n",
       "    }\n",
       "\n",
       "    .dataframe thead th {\n",
       "        text-align: right;\n",
       "    }\n",
       "</style>\n",
       "<table border=\"1\" class=\"dataframe\">\n",
       "  <thead>\n",
       "    <tr style=\"text-align: right;\">\n",
       "      <th></th>\n",
       "      <th>author_id</th>\n",
       "      <th>author</th>\n",
       "      <th>avg_rating</th>\n",
       "    </tr>\n",
       "  </thead>\n",
       "  <tbody>\n",
       "    <tr>\n",
       "      <th>0</th>\n",
       "      <td>236</td>\n",
       "      <td>J.K. Rowling/Mary GrandPré</td>\n",
       "      <td>4.283844</td>\n",
       "    </tr>\n",
       "  </tbody>\n",
       "</table>\n",
       "</div>"
      ],
      "text/plain": [
       "   author_id                      author  avg_rating\n",
       "0        236  J.K. Rowling/Mary GrandPré    4.283844"
      ]
     },
     "execution_count": 11,
     "metadata": {},
     "output_type": "execute_result"
    }
   ],
   "source": [
    "query = '''SELECT\n",
    "            authors.author_id,\n",
    "            authors.author,\n",
    "            AVG(filtered_books.avg_rating) AS avg_rating\n",
    "        FROM\n",
    "            (\n",
    "                SELECT \n",
    "                    books.book_id, \n",
    "                    books.author_id,\n",
    "                    AVG(ratings.rating) AS avg_rating\n",
    "                FROM books\n",
    "                JOIN ratings ON books.book_id = ratings.book_id\n",
    "                GROUP BY books.book_id, books.author_id\n",
    "                HAVING COUNT(ratings.rating_id) >= 50\n",
    "            ) AS filtered_books\n",
    "        JOIN authors ON filtered_books.author_id = authors.author_id\n",
    "        GROUP BY authors.author_id, authors.author\n",
    "        ORDER BY avg_rating DESC\n",
    "        LIMIT 1;\n",
    "        '''\n",
    "\n",
    "pd.io.sql.read_sql(sql=text(query), con = con)"
   ]
  },
  {
   "cell_type": "markdown",
   "metadata": {},
   "source": [
    "Автор с самым высоким средним рейтингом (при наличии 50 и более оценок) это Diana Gabaldon."
   ]
  },
  {
   "cell_type": "markdown",
   "metadata": {},
   "source": [
    "#### Среднее количество обзоров от пользователей, которые поставили больше 48 оценок"
   ]
  },
  {
   "cell_type": "code",
   "execution_count": 19,
   "metadata": {
    "scrolled": true
   },
   "outputs": [
    {
     "data": {
      "text/html": [
       "<div>\n",
       "<style scoped>\n",
       "    .dataframe tbody tr th:only-of-type {\n",
       "        vertical-align: middle;\n",
       "    }\n",
       "\n",
       "    .dataframe tbody tr th {\n",
       "        vertical-align: top;\n",
       "    }\n",
       "\n",
       "    .dataframe thead th {\n",
       "        text-align: right;\n",
       "    }\n",
       "</style>\n",
       "<table border=\"1\" class=\"dataframe\">\n",
       "  <thead>\n",
       "    <tr style=\"text-align: right;\">\n",
       "      <th></th>\n",
       "      <th>avg_reviews</th>\n",
       "    </tr>\n",
       "  </thead>\n",
       "  <tbody>\n",
       "    <tr>\n",
       "      <th>0</th>\n",
       "      <td>24.0</td>\n",
       "    </tr>\n",
       "  </tbody>\n",
       "</table>\n",
       "</div>"
      ],
      "text/plain": [
       "   avg_reviews\n",
       "0         24.0"
      ]
     },
     "execution_count": 19,
     "metadata": {},
     "output_type": "execute_result"
    }
   ],
   "source": [
    "query = '''SELECT AVG(review_count) AS avg_reviews\n",
    "        FROM (SELECT\n",
    "                reviews.username,\n",
    "                COUNT(reviews.review_id) AS review_count\n",
    "            FROM reviews\n",
    "            WHERE reviews.username IN (\n",
    "                SELECT username\n",
    "                FROM ratings\n",
    "                GROUP BY username\n",
    "                HAVING COUNT(rating_id) > 48\n",
    "            )\n",
    "            GROUP BY reviews.username\n",
    "        ) AS user_reviews;\n",
    "        '''\n",
    "\n",
    "pd.io.sql.read_sql(sql=text(query), con = con)"
   ]
  },
  {
   "cell_type": "markdown",
   "metadata": {},
   "source": [
    "В среднем пользователи, поставившие более 48 оценок, оставили по 24 обзора на книги."
   ]
  },
  {
   "cell_type": "markdown",
   "metadata": {},
   "source": [
    "#### Вывод"
   ]
  },
  {
   "cell_type": "markdown",
   "metadata": {},
   "source": [
    "<p style=\"font-size: 16px;\">Всего после 1 января 2000 года вышло 819 книг:</p> <br>\n",
    "Мы имеем данные по начало 2020 года. Что означает что за год выходило в среднем по 40 книг. Что примерно равняется 3 книгам в месяц. Это число может показывать что индустрия книг развивается за предушие 20 лет книг вышло почти в четыре раза меньше (хотя возможно в нашем приложении есть не все популярные книги с 1980 по 2020 год, данная иноформация требует уточнения)\n",
    "\n",
    "<p style=\"font-size: 16px;\">Больше всего обзоров у Twilight - 7 обзоров, на втором и третьем месте серия книг Harry Potter, с 6 обзорами. Рейтинги варьируются от 1,5 до 5 баллов.</p> <br>\n",
    "По количеству обзоров мы можем судить о популярности конкретных книг. Например Twilight является популярной книгой не смотря на не высокий рейтинг, у нее большое количество поклонников и критиков. Данный срез по обзорам дает нам почву для анализа популярных книг, привлекающих интерес пользователей.\n",
    "\n",
    "<p style=\"font-size: 16px;\">Издательство, выпустившее наибольшее число книг толще 50 страниц</p> <br>\n",
    "Издательство Penguin Books выпускает наибольшее количество книг на рынке. Возможно рассмотреть сотрудничество с данным издательством для получения уникальных условий для нашего сервиса, как продавца, и предложения издательству Penguin Books эксклюзивных условий по продвижению их книг.\n",
    "\n",
    "<p style=\"font-size: 16px;\">Автор с самой высокой средней оценкой книг (только книги с 50 и более оценками)</p> <br>\n",
    "J.K. Rowling является автором с самыми высокими оценками среди читателей. Возможно выделение целевой аудитории автора в нашем сервисе, с целью предложения новых книг автора или книг аналогичной тематики. \n",
    "\n",
    "<p style=\"font-size: 16px;\">Среднее количество обзоров от пользователей, которые поставили больше 48 оценок</p> <br>\n",
    "Активные пользователи оставляют в среднем по 24 обзора. Обзоры пользователей и оценки произведений развивают сервис.Предлагаю рассмотреть стимулирование читателей оставлять отзывы, писать обзоры, получением скидок на книги или подписку. "
   ]
  }
 ],
 "metadata": {
  "ExecuteTimeLog": [
   {
    "duration": 52,
    "start_time": "2024-04-29T17:53:49.564Z"
   },
   {
    "duration": 560,
    "start_time": "2024-04-29T17:54:04.145Z"
   },
   {
    "duration": 72,
    "start_time": "2024-04-29T17:54:04.709Z"
   },
   {
    "duration": 5246,
    "start_time": "2024-04-29T17:54:24.091Z"
   },
   {
    "duration": 3,
    "start_time": "2024-04-29T17:58:19.157Z"
   },
   {
    "duration": 54,
    "start_time": "2024-04-29T17:59:59.420Z"
   },
   {
    "duration": 2,
    "start_time": "2024-04-29T17:59:59.679Z"
   },
   {
    "duration": 156,
    "start_time": "2024-04-29T18:07:27.952Z"
   },
   {
    "duration": 42,
    "start_time": "2024-04-29T18:07:52.032Z"
   },
   {
    "duration": 172,
    "start_time": "2024-04-29T18:09:24.192Z"
   },
   {
    "duration": 76,
    "start_time": "2024-04-29T18:10:06.991Z"
   },
   {
    "duration": 517,
    "start_time": "2024-04-29T18:10:24.906Z"
   },
   {
    "duration": 6004,
    "start_time": "2024-04-29T18:10:25.425Z"
   },
   {
    "duration": 123,
    "start_time": "2024-04-29T18:10:31.430Z"
   },
   {
    "duration": 140,
    "start_time": "2024-04-29T18:10:31.555Z"
   },
   {
    "duration": 0,
    "start_time": "2024-04-29T18:10:31.697Z"
   },
   {
    "duration": 0,
    "start_time": "2024-04-29T18:10:31.698Z"
   },
   {
    "duration": 75,
    "start_time": "2024-04-29T18:11:29.669Z"
   },
   {
    "duration": 128,
    "start_time": "2024-04-29T18:13:22.046Z"
   },
   {
    "duration": 57,
    "start_time": "2024-04-29T18:14:07.479Z"
   },
   {
    "duration": 81,
    "start_time": "2024-04-29T18:14:33.591Z"
   },
   {
    "duration": 538,
    "start_time": "2024-04-30T04:37:53.873Z"
   },
   {
    "duration": 9272,
    "start_time": "2024-04-30T04:37:54.413Z"
   },
   {
    "duration": 31,
    "start_time": "2024-04-30T04:38:03.687Z"
   },
   {
    "duration": 28,
    "start_time": "2024-04-30T04:38:03.720Z"
   },
   {
    "duration": 45,
    "start_time": "2024-04-30T04:38:03.750Z"
   },
   {
    "duration": 37,
    "start_time": "2024-04-30T04:38:03.797Z"
   },
   {
    "duration": 63,
    "start_time": "2024-04-30T04:38:03.836Z"
   },
   {
    "duration": 10,
    "start_time": "2024-04-30T04:38:10.154Z"
   },
   {
    "duration": 38,
    "start_time": "2024-04-30T04:39:00.338Z"
   },
   {
    "duration": 41,
    "start_time": "2024-04-30T04:39:51.162Z"
   },
   {
    "duration": 12,
    "start_time": "2024-04-30T04:39:53.546Z"
   },
   {
    "duration": 20,
    "start_time": "2024-04-30T04:40:53.343Z"
   },
   {
    "duration": 28,
    "start_time": "2024-04-30T04:45:53.293Z"
   },
   {
    "duration": 138,
    "start_time": "2024-04-30T04:46:27.245Z"
   },
   {
    "duration": 26,
    "start_time": "2024-04-30T04:46:39.885Z"
   },
   {
    "duration": 76,
    "start_time": "2024-04-30T04:47:36.527Z"
   },
   {
    "duration": 13,
    "start_time": "2024-04-30T04:56:14.121Z"
   },
   {
    "duration": 12,
    "start_time": "2024-04-30T04:57:12.916Z"
   },
   {
    "duration": 15,
    "start_time": "2024-04-30T04:57:36.757Z"
   },
   {
    "duration": 26,
    "start_time": "2024-04-30T04:57:56.946Z"
   },
   {
    "duration": 80,
    "start_time": "2024-04-30T04:58:13.667Z"
   },
   {
    "duration": 19,
    "start_time": "2024-04-30T04:58:30.860Z"
   },
   {
    "duration": 29,
    "start_time": "2024-04-30T05:08:27.387Z"
   },
   {
    "duration": 27,
    "start_time": "2024-04-30T05:09:11.321Z"
   },
   {
    "duration": 68,
    "start_time": "2024-04-30T05:09:24.579Z"
   },
   {
    "duration": 27,
    "start_time": "2024-04-30T05:10:12.435Z"
   },
   {
    "duration": 27,
    "start_time": "2024-04-30T05:10:20.145Z"
   },
   {
    "duration": 27,
    "start_time": "2024-04-30T05:11:46.133Z"
   },
   {
    "duration": 16,
    "start_time": "2024-04-30T05:14:26.981Z"
   },
   {
    "duration": 14,
    "start_time": "2024-04-30T05:15:00.325Z"
   },
   {
    "duration": 28,
    "start_time": "2024-04-30T05:25:29.962Z"
   },
   {
    "duration": 26,
    "start_time": "2024-04-30T05:26:40.538Z"
   },
   {
    "duration": 27,
    "start_time": "2024-04-30T05:26:54.674Z"
   },
   {
    "duration": 13,
    "start_time": "2024-04-30T05:38:02.145Z"
   },
   {
    "duration": 10,
    "start_time": "2024-04-30T05:41:23.449Z"
   },
   {
    "duration": 19,
    "start_time": "2024-04-30T05:41:50.707Z"
   },
   {
    "duration": 9,
    "start_time": "2024-04-30T05:41:58.099Z"
   },
   {
    "duration": 9,
    "start_time": "2024-04-30T05:43:41.260Z"
   },
   {
    "duration": 494,
    "start_time": "2024-04-30T06:12:45.019Z"
   },
   {
    "duration": 14825,
    "start_time": "2024-04-30T06:12:45.515Z"
   },
   {
    "duration": 25,
    "start_time": "2024-04-30T06:13:00.342Z"
   },
   {
    "duration": 206,
    "start_time": "2024-04-30T06:13:00.369Z"
   },
   {
    "duration": 107,
    "start_time": "2024-04-30T06:13:00.577Z"
   },
   {
    "duration": 104,
    "start_time": "2024-04-30T06:13:00.686Z"
   },
   {
    "duration": 99,
    "start_time": "2024-04-30T06:13:00.792Z"
   },
   {
    "duration": 113,
    "start_time": "2024-04-30T06:13:00.892Z"
   },
   {
    "duration": 151,
    "start_time": "2024-04-30T06:13:01.007Z"
   },
   {
    "duration": 284,
    "start_time": "2024-04-30T06:13:01.160Z"
   },
   {
    "duration": 143,
    "start_time": "2024-04-30T06:13:01.445Z"
   },
   {
    "duration": 111,
    "start_time": "2024-04-30T06:13:01.590Z"
   },
   {
    "duration": 41,
    "start_time": "2024-05-01T07:02:03.787Z"
   },
   {
    "duration": 426,
    "start_time": "2024-05-01T07:02:10.821Z"
   },
   {
    "duration": 8081,
    "start_time": "2024-05-01T07:02:11.249Z"
   },
   {
    "duration": 23,
    "start_time": "2024-05-01T07:02:19.331Z"
   },
   {
    "duration": 10,
    "start_time": "2024-05-01T07:02:19.355Z"
   },
   {
    "duration": 37,
    "start_time": "2024-05-01T07:02:19.367Z"
   },
   {
    "duration": 15,
    "start_time": "2024-05-01T07:02:19.406Z"
   },
   {
    "duration": 14,
    "start_time": "2024-05-01T07:02:19.423Z"
   },
   {
    "duration": 18,
    "start_time": "2024-05-01T07:02:19.439Z"
   },
   {
    "duration": 44,
    "start_time": "2024-05-01T07:02:19.458Z"
   },
   {
    "duration": 9,
    "start_time": "2024-05-01T07:02:19.503Z"
   },
   {
    "duration": 105,
    "start_time": "2024-05-01T07:02:19.513Z"
   },
   {
    "duration": 0,
    "start_time": "2024-05-01T07:02:19.619Z"
   },
   {
    "duration": 13,
    "start_time": "2024-05-01T07:03:36.459Z"
   },
   {
    "duration": 13,
    "start_time": "2024-05-01T07:03:43.934Z"
   },
   {
    "duration": 12,
    "start_time": "2024-05-01T07:04:47.777Z"
   },
   {
    "duration": 17,
    "start_time": "2024-05-01T07:07:31.801Z"
   },
   {
    "duration": 11,
    "start_time": "2024-05-01T07:09:02.239Z"
   },
   {
    "duration": 462,
    "start_time": "2024-05-01T07:09:51.987Z"
   },
   {
    "duration": 7679,
    "start_time": "2024-05-01T07:09:52.451Z"
   },
   {
    "duration": 22,
    "start_time": "2024-05-01T07:10:00.131Z"
   },
   {
    "duration": 68,
    "start_time": "2024-05-01T07:10:00.155Z"
   },
   {
    "duration": 104,
    "start_time": "2024-05-01T07:10:00.226Z"
   },
   {
    "duration": 72,
    "start_time": "2024-05-01T07:10:00.332Z"
   },
   {
    "duration": 26,
    "start_time": "2024-05-01T07:10:00.405Z"
   },
   {
    "duration": 41,
    "start_time": "2024-05-01T07:10:00.432Z"
   },
   {
    "duration": 74,
    "start_time": "2024-05-01T07:10:00.474Z"
   },
   {
    "duration": 17,
    "start_time": "2024-05-01T07:10:00.550Z"
   },
   {
    "duration": 63,
    "start_time": "2024-05-01T07:10:00.569Z"
   },
   {
    "duration": 68,
    "start_time": "2024-05-01T07:10:00.633Z"
   },
   {
    "duration": 9,
    "start_time": "2024-05-01T07:45:38.795Z"
   },
   {
    "duration": 68,
    "start_time": "2024-05-01T07:46:11.034Z"
   },
   {
    "duration": 20,
    "start_time": "2024-05-01T07:46:31.347Z"
   },
   {
    "duration": 17,
    "start_time": "2024-05-01T07:46:43.786Z"
   },
   {
    "duration": 16,
    "start_time": "2024-05-01T07:47:11.291Z"
   },
   {
    "duration": 17,
    "start_time": "2024-05-01T07:47:50.669Z"
   },
   {
    "duration": 11,
    "start_time": "2024-05-01T07:48:23.132Z"
   },
   {
    "duration": 16,
    "start_time": "2024-05-01T07:48:41.892Z"
   },
   {
    "duration": 16,
    "start_time": "2024-05-01T07:48:48.021Z"
   },
   {
    "duration": 11,
    "start_time": "2024-05-01T07:49:25.557Z"
   },
   {
    "duration": 77,
    "start_time": "2024-05-01T07:52:02.911Z"
   }
  ],
  "kernelspec": {
   "display_name": "Python 3 (ipykernel)",
   "language": "python",
   "name": "python3"
  },
  "language_info": {
   "codemirror_mode": {
    "name": "ipython",
    "version": 3
   },
   "file_extension": ".py",
   "mimetype": "text/x-python",
   "name": "python",
   "nbconvert_exporter": "python",
   "pygments_lexer": "ipython3",
   "version": "3.12.9"
  },
  "toc": {
   "base_numbering": 1,
   "nav_menu": {},
   "number_sections": true,
   "sideBar": true,
   "skip_h1_title": true,
   "title_cell": "Table of Contents",
   "title_sidebar": "Contents",
   "toc_cell": false,
   "toc_position": {},
   "toc_section_display": true,
   "toc_window_display": true
  }
 },
 "nbformat": 4,
 "nbformat_minor": 4
}
