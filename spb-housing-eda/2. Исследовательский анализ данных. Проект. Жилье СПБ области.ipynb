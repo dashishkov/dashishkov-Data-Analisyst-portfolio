{
 "cells": [
  {
   "cell_type": "markdown",
   "metadata": {},
   "source": [
    "# Исследование объявлений о продаже квартир\n",
    "\n",
    "В вашем распоряжении данные сервиса Яндекс.Недвижимость — архив объявлений о продаже квартир в Санкт-Петербурге и соседних населённых пунктов за несколько лет. Нужно научиться определять рыночную стоимость объектов недвижимости. Ваша задача — установить параметры. Это позволит построить автоматизированную систему: она отследит аномалии и мошенническую деятельность. \n",
    "\n",
    "По каждой квартире на продажу доступны два вида данных. Первые вписаны пользователем, вторые — получены автоматически на основе картографических данных. Например, расстояние до центра, аэропорта, ближайшего парка и водоёма. "
   ]
  },
  {
   "cell_type": "markdown",
   "metadata": {},
   "source": [
    "[](#sec1)"
   ]
  },
  {
   "cell_type": "markdown",
   "metadata": {},
   "source": [
    "### Откройте файл с данными и изучите общую информацию. <a id='#sec1'></a>"
   ]
  },
  {
   "cell_type": "code",
   "execution_count": 1,
   "metadata": {},
   "outputs": [],
   "source": [
    "import pandas as pd\n",
    "import seaborn as sns\n",
    "import matplotlib.pyplot as plt\n",
    "import numpy as np"
   ]
  },
  {
   "cell_type": "code",
   "execution_count": 2,
   "metadata": {
    "scrolled": true
   },
   "outputs": [
    {
     "name": "stdout",
     "output_type": "stream",
     "text": [
      "<class 'pandas.core.frame.DataFrame'>\n",
      "RangeIndex: 23699 entries, 0 to 23698\n",
      "Data columns (total 22 columns):\n",
      " #   Column                Non-Null Count  Dtype  \n",
      "---  ------                --------------  -----  \n",
      " 0   total_images          23699 non-null  int64  \n",
      " 1   last_price            23699 non-null  float64\n",
      " 2   total_area            23699 non-null  float64\n",
      " 3   first_day_exposition  23699 non-null  object \n",
      " 4   rooms                 23699 non-null  int64  \n",
      " 5   ceiling_height        14504 non-null  float64\n",
      " 6   floors_total          23613 non-null  float64\n",
      " 7   living_area           21796 non-null  float64\n",
      " 8   floor                 23699 non-null  int64  \n",
      " 9   is_apartment          2775 non-null   object \n",
      " 10  studio                23699 non-null  bool   \n",
      " 11  open_plan             23699 non-null  bool   \n",
      " 12  kitchen_area          21421 non-null  float64\n",
      " 13  balcony               12180 non-null  float64\n",
      " 14  locality_name         23650 non-null  object \n",
      " 15  airports_nearest      18157 non-null  float64\n",
      " 16  cityCenters_nearest   18180 non-null  float64\n",
      " 17  parks_around3000      18181 non-null  float64\n",
      " 18  parks_nearest         8079 non-null   float64\n",
      " 19  ponds_around3000      18181 non-null  float64\n",
      " 20  ponds_nearest         9110 non-null   float64\n",
      " 21  days_exposition       20518 non-null  float64\n",
      "dtypes: bool(2), float64(14), int64(3), object(3)\n",
      "memory usage: 3.7+ MB\n",
      "None\n"
     ]
    },
    {
     "data": {
      "text/html": [
       "<div>\n",
       "<style scoped>\n",
       "    .dataframe tbody tr th:only-of-type {\n",
       "        vertical-align: middle;\n",
       "    }\n",
       "\n",
       "    .dataframe tbody tr th {\n",
       "        vertical-align: top;\n",
       "    }\n",
       "\n",
       "    .dataframe thead th {\n",
       "        text-align: right;\n",
       "    }\n",
       "</style>\n",
       "<table border=\"1\" class=\"dataframe\">\n",
       "  <thead>\n",
       "    <tr style=\"text-align: right;\">\n",
       "      <th></th>\n",
       "      <th>total_images</th>\n",
       "      <th>last_price</th>\n",
       "      <th>total_area</th>\n",
       "      <th>first_day_exposition</th>\n",
       "      <th>rooms</th>\n",
       "      <th>ceiling_height</th>\n",
       "      <th>floors_total</th>\n",
       "      <th>living_area</th>\n",
       "      <th>floor</th>\n",
       "      <th>is_apartment</th>\n",
       "      <th>studio</th>\n",
       "      <th>open_plan</th>\n",
       "      <th>kitchen_area</th>\n",
       "      <th>balcony</th>\n",
       "      <th>locality_name</th>\n",
       "      <th>airports_nearest</th>\n",
       "      <th>cityCenters_nearest</th>\n",
       "      <th>parks_around3000</th>\n",
       "      <th>parks_nearest</th>\n",
       "      <th>ponds_around3000</th>\n",
       "      <th>ponds_nearest</th>\n",
       "      <th>days_exposition</th>\n",
       "    </tr>\n",
       "  </thead>\n",
       "  <tbody>\n",
       "    <tr>\n",
       "      <th>0</th>\n",
       "      <td>20</td>\n",
       "      <td>13000000.0</td>\n",
       "      <td>108.0</td>\n",
       "      <td>2019-03-07T00:00:00</td>\n",
       "      <td>3</td>\n",
       "      <td>2.70</td>\n",
       "      <td>16.0</td>\n",
       "      <td>51.0</td>\n",
       "      <td>8</td>\n",
       "      <td>NaN</td>\n",
       "      <td>False</td>\n",
       "      <td>False</td>\n",
       "      <td>25.0</td>\n",
       "      <td>NaN</td>\n",
       "      <td>Санкт-Петербург</td>\n",
       "      <td>18863.0</td>\n",
       "      <td>16028.0</td>\n",
       "      <td>1.0</td>\n",
       "      <td>482.0</td>\n",
       "      <td>2.0</td>\n",
       "      <td>755.0</td>\n",
       "      <td>NaN</td>\n",
       "    </tr>\n",
       "    <tr>\n",
       "      <th>1</th>\n",
       "      <td>7</td>\n",
       "      <td>3350000.0</td>\n",
       "      <td>40.4</td>\n",
       "      <td>2018-12-04T00:00:00</td>\n",
       "      <td>1</td>\n",
       "      <td>NaN</td>\n",
       "      <td>11.0</td>\n",
       "      <td>18.6</td>\n",
       "      <td>1</td>\n",
       "      <td>NaN</td>\n",
       "      <td>False</td>\n",
       "      <td>False</td>\n",
       "      <td>11.0</td>\n",
       "      <td>2.0</td>\n",
       "      <td>посёлок Шушары</td>\n",
       "      <td>12817.0</td>\n",
       "      <td>18603.0</td>\n",
       "      <td>0.0</td>\n",
       "      <td>NaN</td>\n",
       "      <td>0.0</td>\n",
       "      <td>NaN</td>\n",
       "      <td>81.0</td>\n",
       "    </tr>\n",
       "    <tr>\n",
       "      <th>2</th>\n",
       "      <td>10</td>\n",
       "      <td>5196000.0</td>\n",
       "      <td>56.0</td>\n",
       "      <td>2015-08-20T00:00:00</td>\n",
       "      <td>2</td>\n",
       "      <td>NaN</td>\n",
       "      <td>5.0</td>\n",
       "      <td>34.3</td>\n",
       "      <td>4</td>\n",
       "      <td>NaN</td>\n",
       "      <td>False</td>\n",
       "      <td>False</td>\n",
       "      <td>8.3</td>\n",
       "      <td>0.0</td>\n",
       "      <td>Санкт-Петербург</td>\n",
       "      <td>21741.0</td>\n",
       "      <td>13933.0</td>\n",
       "      <td>1.0</td>\n",
       "      <td>90.0</td>\n",
       "      <td>2.0</td>\n",
       "      <td>574.0</td>\n",
       "      <td>558.0</td>\n",
       "    </tr>\n",
       "    <tr>\n",
       "      <th>3</th>\n",
       "      <td>0</td>\n",
       "      <td>64900000.0</td>\n",
       "      <td>159.0</td>\n",
       "      <td>2015-07-24T00:00:00</td>\n",
       "      <td>3</td>\n",
       "      <td>NaN</td>\n",
       "      <td>14.0</td>\n",
       "      <td>NaN</td>\n",
       "      <td>9</td>\n",
       "      <td>NaN</td>\n",
       "      <td>False</td>\n",
       "      <td>False</td>\n",
       "      <td>NaN</td>\n",
       "      <td>0.0</td>\n",
       "      <td>Санкт-Петербург</td>\n",
       "      <td>28098.0</td>\n",
       "      <td>6800.0</td>\n",
       "      <td>2.0</td>\n",
       "      <td>84.0</td>\n",
       "      <td>3.0</td>\n",
       "      <td>234.0</td>\n",
       "      <td>424.0</td>\n",
       "    </tr>\n",
       "    <tr>\n",
       "      <th>4</th>\n",
       "      <td>2</td>\n",
       "      <td>10000000.0</td>\n",
       "      <td>100.0</td>\n",
       "      <td>2018-06-19T00:00:00</td>\n",
       "      <td>2</td>\n",
       "      <td>3.03</td>\n",
       "      <td>14.0</td>\n",
       "      <td>32.0</td>\n",
       "      <td>13</td>\n",
       "      <td>NaN</td>\n",
       "      <td>False</td>\n",
       "      <td>False</td>\n",
       "      <td>41.0</td>\n",
       "      <td>NaN</td>\n",
       "      <td>Санкт-Петербург</td>\n",
       "      <td>31856.0</td>\n",
       "      <td>8098.0</td>\n",
       "      <td>2.0</td>\n",
       "      <td>112.0</td>\n",
       "      <td>1.0</td>\n",
       "      <td>48.0</td>\n",
       "      <td>121.0</td>\n",
       "    </tr>\n",
       "  </tbody>\n",
       "</table>\n",
       "</div>"
      ],
      "text/plain": [
       "   total_images  last_price  total_area first_day_exposition  rooms  \\\n",
       "0            20  13000000.0       108.0  2019-03-07T00:00:00      3   \n",
       "1             7   3350000.0        40.4  2018-12-04T00:00:00      1   \n",
       "2            10   5196000.0        56.0  2015-08-20T00:00:00      2   \n",
       "3             0  64900000.0       159.0  2015-07-24T00:00:00      3   \n",
       "4             2  10000000.0       100.0  2018-06-19T00:00:00      2   \n",
       "\n",
       "   ceiling_height  floors_total  living_area  floor is_apartment  studio  \\\n",
       "0            2.70          16.0         51.0      8          NaN   False   \n",
       "1             NaN          11.0         18.6      1          NaN   False   \n",
       "2             NaN           5.0         34.3      4          NaN   False   \n",
       "3             NaN          14.0          NaN      9          NaN   False   \n",
       "4            3.03          14.0         32.0     13          NaN   False   \n",
       "\n",
       "   open_plan  kitchen_area  balcony    locality_name  airports_nearest  \\\n",
       "0      False          25.0      NaN  Санкт-Петербург           18863.0   \n",
       "1      False          11.0      2.0   посёлок Шушары           12817.0   \n",
       "2      False           8.3      0.0  Санкт-Петербург           21741.0   \n",
       "3      False           NaN      0.0  Санкт-Петербург           28098.0   \n",
       "4      False          41.0      NaN  Санкт-Петербург           31856.0   \n",
       "\n",
       "   cityCenters_nearest  parks_around3000  parks_nearest  ponds_around3000  \\\n",
       "0              16028.0               1.0          482.0               2.0   \n",
       "1              18603.0               0.0            NaN               0.0   \n",
       "2              13933.0               1.0           90.0               2.0   \n",
       "3               6800.0               2.0           84.0               3.0   \n",
       "4               8098.0               2.0          112.0               1.0   \n",
       "\n",
       "   ponds_nearest  days_exposition  \n",
       "0          755.0              NaN  \n",
       "1            NaN             81.0  \n",
       "2          574.0            558.0  \n",
       "3          234.0            424.0  \n",
       "4           48.0            121.0  "
      ]
     },
     "execution_count": 2,
     "metadata": {},
     "output_type": "execute_result"
    }
   ],
   "source": [
    "pd.set_option('display.max_columns', None)\n",
    "data = pd.read_csv('/datasets/real_estate_data.csv', sep='\\t')\n",
    "print(data.info())\n",
    "data.head()"
   ]
  },
  {
   "cell_type": "markdown",
   "metadata": {},
   "source": [
    "В датафрейме 23699 строк, 22 столбца. Много столбцов с пропущенными значениями. В стобце first_day_exposition, тип данных - object, более практично будет изменить на datetime."
   ]
  },
  {
   "cell_type": "code",
   "execution_count": 3,
   "metadata": {},
   "outputs": [
    {
     "data": {
      "image/png": "[encoded data removed]",
      "text/plain": [
       "<Figure size 1080x2160 with 20 Axes>"
      ]
     },
     "metadata": {
      "needs_background": "light"
     },
     "output_type": "display_data"
    }
   ],
   "source": [
    "data.hist(figsize=(15, 30), bins=30);"
   ]
  },
  {
   "cell_type": "code",
   "execution_count": 4,
   "metadata": {},
   "outputs": [
    {
     "data": {
      "text/plain": [
       "<AxesSubplot:>"
      ]
     },
     "execution_count": 4,
     "metadata": {},
     "output_type": "execute_result"
    },
    {
     "data": {
      "image/png": "[encoded data removed]",
      "text/plain": [
       "<Figure size 360x360 with 1 Axes>"
      ]
     },
     "metadata": {
      "needs_background": "light"
     },
     "output_type": "display_data"
    }
   ],
   "source": [
    "\"\"\" За единицу по оси Х принята сумма в 10 млн. Ограничил максимальный диапазон стоимости числом 25 млн,\n",
    "    сузив максштаб просмотра, так как при указании реального максимума в 763 млн будет не показательный график\"\"\"\n",
    "data.last_price.hist(figsize=(5, 5), bins=50, range=(data.last_price.min(), 25000000))\n",
    "#data.last_price.max() # Вывод максимальной стоимости объекта из датафрейма"
   ]
  },
  {
   "cell_type": "code",
   "execution_count": 5,
   "metadata": {},
   "outputs": [
    {
     "data": {
      "text/plain": [
       "<AxesSubplot:>"
      ]
     },
     "execution_count": 5,
     "metadata": {},
     "output_type": "execute_result"
    },
    {
     "data": {
      "image/png": "[encoded data removed]",
      "text/plain": [
       "<Figure size 360x360 with 1 Axes>"
      ]
     },
     "metadata": {
      "needs_background": "light"
     },
     "output_type": "display_data"
    }
   ],
   "source": [
    "data.ceiling_height.hist(figsize=(5, 5), bins=20, range=(data.ceiling_height.min(), 5))"
   ]
  },
  {
   "cell_type": "markdown",
   "metadata": {},
   "source": [
    "По итогам построенных гистограмм: два графика (ceiling_height и last_price) были не репрезентативны. После корректировки параметра range, получились более покательные графики. "
   ]
  },
  {
   "cell_type": "markdown",
   "metadata": {},
   "source": [
    "### Предобработка данных"
   ]
  },
  {
   "cell_type": "code",
   "execution_count": 6,
   "metadata": {},
   "outputs": [],
   "source": [
    "# Знакомимся с уникальными значениями столбца ceiling_height, выявляем аномалии\n",
    "data.ceiling_height.sort_values().unique()\n",
    "# Получилось 39 строк с высотой потолков свыше 5 метров, случаи где высота равна 25, 32 и подобное, \n",
    "# будем корректировать на 2.5, 3.2. Остальное рассматриваем как выбросы и удаляем \n",
    "data[(data['ceiling_height'] > 5) | (data['ceiling_height'] < 2)].sort_values('ceiling_height') \n",
    "# Приводим данные типа 25 метров к 2.5 метров\n",
    "data.loc[data['ceiling_height'] > 20, 'ceiling_height'] /= 10 \n",
    "# оставляем потолки между 2.4 и 5 метрами.\n",
    "data = data[~(data['ceiling_height'] > 5) | (data['ceiling_height'] < 2.4)]\n",
    "# Анализируем минимальные цены недвижимости\n",
    "data.sort_values(\"last_price\").head(15)\n",
    "# Удалим строку с минимальной ценой за квартиру, цена явно ошибочна (12190р за 109 кв/м в СПБ)\n",
    "data.drop(data['last_price'].idxmin(), inplace=True)\n",
    "# Обнаружил квартиры с количеством комнат == 0, но это не студии. Таких 59 позиций. Одна 371 кв.метр, остальные меньше 40\n",
    "data[(data['studio'] == False) & (data['rooms'] == 0)]\n",
    "# Заменим количество комнат у жилья размером 371 кв.метр на 5\n",
    "data.loc[19392, 'rooms'] = 5\n",
    "# Заменим количество комнат у квартир 40 метров на 1.\n",
    "data.loc[(data['studio'] == False) & (data['rooms'] == 0), :] = 1"
   ]
  },
  {
   "cell_type": "code",
   "execution_count": 7,
   "metadata": {},
   "outputs": [
    {
     "name": "stdout",
     "output_type": "stream",
     "text": [
      "Среднeе соотношение жилой площади к площади квартиры: 0.57\n",
      "Среднeе соотношение жилой площади к площади квартиры: 0.17\n"
     ]
    }
   ],
   "source": [
    "mean_living_to_total = round(data[\"living_area\"].mean()/data[\"total_area\"].mean(), 2)\n",
    "mean_kitchen_to_total = round(data[\"kitchen_area\"].mean()/data[\"total_area\"].mean(), 2)\n",
    "print(f'Среднeе соотношение жилой площади к площади квартиры: {mean_living_to_total}')\n",
    "print(f'Среднeе соотношение жилой площади к площади квартиры: {mean_kitchen_to_total}')"
   ]
  },
  {
   "cell_type": "markdown",
   "metadata": {},
   "source": [
    "Для дальшего заполнение пропусков, вычислил среднее соотношение жилой площади к размеры квартиры и кухни к размеру квартиры."
   ]
  },
  {
   "cell_type": "markdown",
   "metadata": {},
   "source": [
    "Отредактировал выбросы по колонкам ceiling_height, last_price, rooms."
   ]
  },
  {
   "cell_type": "code",
   "execution_count": 8,
   "metadata": {},
   "outputs": [],
   "source": [
    "# Nan в ceiling_height заменяем медианой по столбцу\n",
    "data['ceiling_height'].fillna(data['ceiling_height'].median(), inplace=True) \n",
    "# Заменяем Nan в floors_total медианой\n",
    "data.floors_total.unique()\n",
    "data['floors_total'].fillna(data['floors_total'].median(), inplace=True)\n",
    "#Обнаружил данные (4 ряда) в которых жилая площадь меньше 4 кв метров\n",
    "data.query('living_area < 7').sort_values('living_area')  \n",
    "data['living_area'].fillna(data['living_area'] * mean_living_to_total, inplace=True)\n",
    "# Убрал строки где living_area < 4, эти данные были странными (например была общая площадь 130 кв. из них 2 кв жилое) \n",
    "data = data.query('living_area > 4')\n",
    "# Много пропущенных значений в is_apartment выяснил,что соотношение True к False =  2 % (False 2724, True  49)  \n",
    "data.groupby('is_apartment')['is_apartment'].count()  \n",
    "# Заполнил 2% - True, 98% - False. 23699 - изначальный размер таблицы\n",
    "data['is_apartment'].fillna(pd.Series(np.random.choice([True, False], 23699, p=[0.02, 0.98])) , inplace=True) \n",
    "# Заменил пропущенные значения на среднее выборочное соотношение кухни к размеру жилья\n",
    "data['kitchen_area'].fillna(data['total_area'] * mean_kitchen_to_total, inplace=True)\n",
    "# Будем считать, что пропущеное значение по балконам это отсутствие балкона.\n",
    "data['balcony'].fillna(0, inplace=True)\n",
    "columns_to_fill = ['locality_name', 'airports_nearest', 'parks_around3000', 'ponds_around3000', 'ponds_nearest']\n",
    "data[columns_to_fill] = data[columns_to_fill].fillna('Неизвестно')"
   ]
  },
  {
   "cell_type": "code",
   "execution_count": 9,
   "metadata": {},
   "outputs": [],
   "source": [
    "\"\"\" Произвел проверку на превышение этажа квартиры над этажностью дома, \n",
    "    обнаружилось 37 строк, заменяем такие случаи на максимальный этаж в доме\"\"\"\n",
    "data[data['floors_total'] < data['floor']].shape\n",
    "data.loc[data['floors_total'] < data['floor'], 'floor'] = data['floors_total']"
   ]
  },
  {
   "cell_type": "markdown",
   "metadata": {},
   "source": [
    "Отбработал все пропущенные значения. Все пропущенные значения кажутся результатом человеческого фактора, где-то значения были внесены некорректно, где-то были пропущены возможно из-за нежелания заполнять лишние позиции, вроде наличия балконов."
   ]
  },
  {
   "cell_type": "code",
   "execution_count": 10,
   "metadata": {},
   "outputs": [],
   "source": [
    "# Проверяем на явные дубликаты. Не обнаружилось\n",
    "data.duplicated().sum()\n",
    "# Редактируем неявные дубликаты: «поселок Рябово» и «поселок городского типа Рябово» и т.д. \n",
    "data.loc[data['locality_name'].str.contains('Рябово'), 'locality_name'] = 'посёлок городского типа Рябово'\n",
    "data.loc[data['locality_name'].str.contains('Рощино'), 'locality_name'] = 'поселок городского типа Рощино'\n",
    "data.loc[data['locality_name'].str.contains('Лесное'), 'locality_name'] = 'поселок Лесное'\n",
    "data['locality_name'] = (data['locality_name'].str.replace('ё', 'е')) "
   ]
  },
  {
   "cell_type": "markdown",
   "metadata": {},
   "source": [
    "Явные дубликаты не обнаружились. Заменил 'ё' на 'е', тем самым убрал часть неявных дубликатов. Часть неявных дубликатов нашел с помошью функции глаза.поиск(внимательность = 'низкая')."
   ]
  },
  {
   "cell_type": "code",
   "execution_count": 11,
   "metadata": {},
   "outputs": [],
   "source": [
    "# Приводим тип данных first_day_exposition к datetime\n",
    "data['first_day_exposition'] = pd.to_datetime(data['first_day_exposition'])\n",
    "data['balcony'] = data['balcony'].astype(int)\n",
    "data['floor'] = data['floor'].astype(int)"
   ]
  },
  {
   "cell_type": "markdown",
   "metadata": {},
   "source": [
    "Поменял тип данных чтобы, при необходимости, можно было сравнивать их между собой операторами >, < или ==. Или использвать методы dt."
   ]
  },
  {
   "cell_type": "markdown",
   "metadata": {},
   "source": [
    "### Посчитайте и добавьте в таблицу новые столбцы"
   ]
  },
  {
   "cell_type": "code",
   "execution_count": 12,
   "metadata": {},
   "outputs": [],
   "source": [
    "data['per_metr_price'] = round(data['last_price']/data['total_area'], 2)\n",
    "data['day'] = data['first_day_exposition'].dt.weekday\n",
    "data['month'] = data['first_day_exposition'].dt.month\n",
    "data['year'] = data['first_day_exposition'].dt.year\n",
    "\n",
    "def floor_type(data):\n",
    "    if data['floor'] == 1:\n",
    "        return 'первый'\n",
    "    elif data['floor'] == data['floors_total']:\n",
    "        return 'последний'\n",
    "    else:\n",
    "        return 'другой'\n",
    "    \n",
    "data['floor_type'] = data.apply(floor_type, axis=1)\n",
    "\n",
    "def km_to_cenre(data):\n",
    "    if data['cityCenters_nearest'] == np.nan:\n",
    "        pass\n",
    "    else:\n",
    "        return data['cityCenters_nearest']/1000\n",
    "\n",
    "data['km_to_cenre'] = data.apply(km_to_cenre, axis=1)"
   ]
  },
  {
   "cell_type": "markdown",
   "metadata": {},
   "source": [
    "Добавлены столбцы со стоимостью квадратного метра, номером дня, недели и годом. Так же реализована функция возвращающая тип этажа, для нового столбца. Реализована функция возвращающая расстояние в киллометрах, для нового столбца."
   ]
  },
  {
   "cell_type": "markdown",
   "metadata": {},
   "source": [
    "### Проведите исследовательский анализ данных"
   ]
  },
  {
   "cell_type": "code",
   "execution_count": 13,
   "metadata": {},
   "outputs": [
    {
     "name": "stdout",
     "output_type": "stream",
     "text": [
      "Соотношение новой таблицы к старой: 0.94\n"
     ]
    }
   ],
   "source": [
    "data2 = data.copy()\n",
    "data2 = data[(data['rooms'] < 6)]\n",
    "data2 = data2[data2['total_area'] <= 120]\n",
    "data2 = data2[data2['last_price'] <= 15000000]\n",
    "print(f'Соотношение новой таблицы к старой: {round(data2.shape[0] / data.shape[0], 2)}') \n",
    "data = data2\n"
   ]
  },
  {
   "cell_type": "markdown",
   "metadata": {},
   "source": [
    "Отбросил слишком большие значения. Ограничил количество rooms, total_area, last_price"
   ]
  },
  {
   "cell_type": "code",
   "execution_count": 14,
   "metadata": {},
   "outputs": [
    {
     "data": {
      "text/plain": [
       "Text(0, 0.5, 'Количество')"
      ]
     },
     "execution_count": 14,
     "metadata": {},
     "output_type": "execute_result"
    },
    {
     "data": {
      "image/png": "[encoded data removed]",
      "text/plain": [
       "<Figure size 1080x360 with 1 Axes>"
      ]
     },
     "metadata": {
      "needs_background": "light"
     },
     "output_type": "display_data"
    }
   ],
   "source": [
    "\"\"\" Устраним выбросы используя стандартное отклонение.\n",
    "    При больнем количестве станд. отклонений график удлиняется вправо без особой пользы.\n",
    "    upper_line = data['total_area'].mean() + data['total_area'].std() * 1.5\n",
    "    data_no_outlier = data[data['total_area'] < upper_line]\n",
    "    data[data['total_area'] < upper_line].shape[0] / data.shape[0] # Получается 0.945, upper_line = 112.07 \"\"\"\n",
    "area_plot = data.total_area.plot(kind='hist', bins=50, figsize=(15,5), grid=True, title='График размеров жилья')\n",
    "area_plot.set_xlabel('Площадь жилья')\n",
    "area_plot.set_ylabel('Количество')\n"
   ]
  },
  {
   "cell_type": "markdown",
   "metadata": {},
   "source": [
    "Больше всего предложений жилья представленно в диапазоне до 50 квадратный метров. Меньше предложений от 50 до 80. Предложение жилья от 80 метров, снижается с ростом площади и стремится к нулю. Пик предложений находится в районе 45 метров. Второй по высоте пик в райне 30 метров. (Напоминает хрущевки - 33 кв метра 1 комнатные и 45 метров 2 комнатные)"
   ]
  },
  {
   "cell_type": "code",
   "execution_count": 15,
   "metadata": {},
   "outputs": [
    {
     "data": {
      "text/plain": [
       "Text(0, 0.5, 'Количество')"
      ]
     },
     "execution_count": 15,
     "metadata": {},
     "output_type": "execute_result"
    },
    {
     "data": {
      "image/png": "[encoded data removed]",
      "text/plain": [
       "<Figure size 1080x360 with 1 Axes>"
      ]
     },
     "metadata": {
      "needs_background": "light"
     },
     "output_type": "display_data"
    }
   ],
   "source": [
    "size_plot = data.living_area.plot(kind='hist', bins=100, figsize=(15,5), range=(0, 80), grid=True, title='График размеров жилой площади')\n",
    "size_plot.set_xlabel('Жилая площадь')\n",
    "size_plot.set_ylabel('Количество')"
   ]
  },
  {
   "cell_type": "markdown",
   "metadata": {},
   "source": [
    "На графике виден сильный пик в районе 30 метров, второй по высоте пик это около 18 метров. "
   ]
  },
  {
   "cell_type": "code",
   "execution_count": 16,
   "metadata": {},
   "outputs": [
    {
     "data": {
      "text/plain": [
       "Text(0, 0.5, 'Количество')"
      ]
     },
     "execution_count": 16,
     "metadata": {},
     "output_type": "execute_result"
    },
    {
     "data": {
      "image/png": "[encoded data removed]",
      "text/plain": [
       "<Figure size 1080x360 with 1 Axes>"
      ]
     },
     "metadata": {
      "needs_background": "light"
     },
     "output_type": "display_data"
    }
   ],
   "source": [
    "kitchen_plot = data.kitchen_area.plot(kind='hist', bins=50, figsize=(15,5), range=(0, 30), grid=True, title='График размеров кухонной площади')\n",
    "kitchen_plot.set_xlabel('Площадь кухни')\n",
    "kitchen_plot.set_ylabel('Количество')"
   ]
  },
  {
   "cell_type": "markdown",
   "metadata": {},
   "source": [
    "Основная масса наблюдений расположена от 5 до 15 метров, с тремя сильно выделяющимися пиками: в районе 6 метров, чуть ниже в районе 8 метров, и ниже в районе 10 метров."
   ]
  },
  {
   "cell_type": "code",
   "execution_count": 17,
   "metadata": {},
   "outputs": [
    {
     "data": {
      "text/plain": [
       "Text(0, 0.5, 'Количество')"
      ]
     },
     "execution_count": 17,
     "metadata": {},
     "output_type": "execute_result"
    },
    {
     "data": {
      "image/png": "[encoded data removed]",
      "text/plain": [
       "<Figure size 1080x360 with 1 Axes>"
      ]
     },
     "metadata": {
      "needs_background": "light"
     },
     "output_type": "display_data"
    }
   ],
   "source": [
    "\"\"\" Устраним выбросы используя стандартное отклонение.\n",
    "    При большем количестве станд. отклонений график удлиняется вправо без особой пользы.\n",
    "    upper_line = data.last_price.mean() + data.last_price.std()\n",
    "    data_no_outlier = data[data.last_price < upper_line]\n",
    "    data_no_outlier.shape[0] / data.shape[0] # Получается 0.962, upper_line = 17284922.36 \"\"\"\n",
    "price_new = pd.Series(data2.last_price / 1000000)\n",
    "price_plot = price_new.plot(kind='hist', bins=50, figsize=(15,5), grid=True, title='Цена объекта')\n",
    "price_plot.set_xlabel('Цена')\n",
    "price_plot.set_ylabel('Количество')"
   ]
  },
  {
   "cell_type": "markdown",
   "metadata": {},
   "source": [
    "Больше всего объектов имеют стоимость около 3,9 млн. рублей. Самый насыщенный предложением ценовой диапазон это от 3 до 5 млн. рублей. Количество предложений свыше 5 млн. постепенно уменьшается."
   ]
  },
  {
   "cell_type": "code",
   "execution_count": 18,
   "metadata": {},
   "outputs": [
    {
     "data": {
      "text/plain": [
       "Text(0, 0.5, 'Количество')"
      ]
     },
     "execution_count": 18,
     "metadata": {},
     "output_type": "execute_result"
    },
    {
     "data": {
      "image/png": "[encoded data removed]",
      "text/plain": [
       "<Figure size 360x360 with 1 Axes>"
      ]
     },
     "metadata": {
      "needs_background": "light"
     },
     "output_type": "display_data"
    }
   ],
   "source": [
    "   \"\"\" old_rooms = data.shape[0]\n",
    "    new_rooms = data[data.rooms < 6].shape[0]\n",
    "    new_rooms/old_rooms # Получается соотношение 0.99 \"\"\"\n",
    "rooms_plot = data.rooms.plot(kind='hist', bins=15, figsize=(5,5), range=(0,5), grid=True, title='Количество комнат')\n",
    "rooms_plot.set_xlabel('Комнаты')\n",
    "rooms_plot.set_ylabel('Количество')"
   ]
  },
  {
   "cell_type": "markdown",
   "metadata": {},
   "source": [
    "Больше всего на рынке однокомнатных квартир (чуть более 8 тысяч). Второе место занимают двухкомнатные квартиры (около 7.9 тысяч). На тертьем месте трехкомнатные квартиры (около 5.8 тысяч). Количество четырехкомнатных квартир сильно отстает (около 1.2 тысяч). В дальнейшем с ростом комнат количество предложений сокращается. Так же на графике заметно небольшой количество студий (около 200 тыс.)"
   ]
  },
  {
   "cell_type": "code",
   "execution_count": 19,
   "metadata": {},
   "outputs": [
    {
     "data": {
      "text/plain": [
       "Text(0, 0.5, 'Количество')"
      ]
     },
     "execution_count": 19,
     "metadata": {},
     "output_type": "execute_result"
    },
    {
     "data": {
      "image/png": "[encoded data removed]",
      "text/plain": [
       "<Figure size 360x360 with 1 Axes>"
      ]
     },
     "metadata": {
      "needs_background": "light"
     },
     "output_type": "display_data"
    }
   ],
   "source": [
    "cel_plot = data.ceiling_height.plot(kind='hist', bins=15, figsize=(5,5), range=(2.3, 5), grid=True, title='Высота потолков')\n",
    "cel_plot.set_xlabel('Высота')\n",
    "cel_plot.set_ylabel('Количество')"
   ]
  },
  {
   "cell_type": "markdown",
   "metadata": {},
   "source": [
    "Подавляющее большинство потолков - 2.5 метра. Второй пик - 2.75 метров. Третий пик - 3 метра. Далее высота сокращается."
   ]
  },
  {
   "cell_type": "code",
   "execution_count": 20,
   "metadata": {},
   "outputs": [
    {
     "data": {
      "image/png": "[encoded data removed]",
      "text/plain": [
       "<Figure size 432x288 with 1 Axes>"
      ]
     },
     "metadata": {
      "needs_background": "light"
     },
     "output_type": "display_data"
    }
   ],
   "source": [
    "plt.hist(data.floor_type)\n",
    "plt.title('Тип этажа')\n",
    "plt.xlabel('Высота')\n",
    "plt.ylabel('Количество')\n",
    "plt.gca().xaxis.grid(True)\n",
    "plt.gca().yaxis.grid(True)"
   ]
  },
  {
   "cell_type": "markdown",
   "metadata": {},
   "source": [
    "Большинство квартир находятся не на крайних этажах (около 17.5 тысяч). Около 3 тысяч квартир находятся на последнем этаже. Около 2750 тысяч квартир на первом."
   ]
  },
  {
   "cell_type": "code",
   "execution_count": 21,
   "metadata": {
    "scrolled": true
   },
   "outputs": [
    {
     "data": {
      "text/plain": [
       "Text(0, 0.5, 'Количество')"
      ]
     },
     "execution_count": 21,
     "metadata": {},
     "output_type": "execute_result"
    },
    {
     "data": {
      "image/png": "[encoded data removed]",
      "text/plain": [
       "<Figure size 360x360 with 1 Axes>"
      ]
     },
     "metadata": {
      "needs_background": "light"
     },
     "output_type": "display_data"
    }
   ],
   "source": [
    "height_plot = data.floors_total.plot(kind='hist', bins=30, figsize=(5,5), range=(0, 30), grid=True, title='Этажность объектов')\n",
    "height_plot.set_xlabel('Этажи')\n",
    "height_plot.set_ylabel('Количество')"
   ]
  },
  {
   "cell_type": "markdown",
   "metadata": {},
   "source": [
    "Заметное большинство объектах находится в пятиэтажных домах (около 5800 объектов). На втором месте количество предложений в девятиэтажных домах (около 3800). "
   ]
  },
  {
   "cell_type": "code",
   "execution_count": 22,
   "metadata": {},
   "outputs": [
    {
     "data": {
      "text/plain": [
       "Text(0, 0.5, 'Количество')"
      ]
     },
     "execution_count": 22,
     "metadata": {},
     "output_type": "execute_result"
    },
    {
     "data": {
      "image/png": "[encoded data removed]",
      "text/plain": [
       "<Figure size 360x360 with 1 Axes>"
      ]
     },
     "metadata": {
      "needs_background": "light"
     },
     "output_type": "display_data"
    }
   ],
   "source": [
    "centre_plot = data.km_to_cenre.plot(kind='hist', bins=30, figsize=(5,5), range=(0, 50), grid=True, title='Расстояние до центра')\n",
    "centre_plot.set_xlabel('Расстояние в километрах')\n",
    "centre_plot.set_ylabel('Количество')"
   ]
  },
  {
   "cell_type": "markdown",
   "metadata": {},
   "source": [
    "Большинство объектов находится на расстоянии 15 километров от центра. Самый плотный диапазон это 10 - 18 километров от центра. В нем находится около половины всех объектов. "
   ]
  },
  {
   "cell_type": "code",
   "execution_count": 23,
   "metadata": {},
   "outputs": [
    {
     "data": {
      "image/png": "[encoded data removed]",
      "text/plain": [
       "<Figure size 432x288 with 1 Axes>"
      ]
     },
     "metadata": {
      "needs_background": "light"
     },
     "output_type": "display_data"
    }
   ],
   "source": [
    "plt.hist(data.parks_nearest)\n",
    "plt.title('Расстояние до парков')\n",
    "plt.xlabel('Расстояние')\n",
    "plt.ylabel('Количество')\n",
    "plt.gca().xaxis.grid(True)\n",
    "plt.gca().yaxis.grid(True)"
   ]
  },
  {
   "cell_type": "markdown",
   "metadata": {},
   "source": [
    "Большинство объктов жилья находится на расстоянии 500 метров от парка. Подавлющее большинство жилья находится на расстоянии до 1000 метров от парка."
   ]
  },
  {
   "cell_type": "code",
   "execution_count": 24,
   "metadata": {},
   "outputs": [
    {
     "name": "stdout",
     "output_type": "stream",
     "text": [
      "Средний срок продажи жилья равен: 178 день\n"
     ]
    }
   ],
   "source": [
    "print(f'Средний срок продажи жилья равен: {int(data.days_exposition.mean())} день')"
   ]
  },
  {
   "cell_type": "code",
   "execution_count": 25,
   "metadata": {},
   "outputs": [
    {
     "name": "stdout",
     "output_type": "stream",
     "text": [
      "Медиана по сроку продажи жилья равна: 98 дней\n"
     ]
    }
   ],
   "source": [
    "print(f'Медиана по сроку продажи жилья равна: {int(data.days_exposition.median())} дней')"
   ]
  },
  {
   "cell_type": "code",
   "execution_count": 26,
   "metadata": {},
   "outputs": [
    {
     "data": {
      "text/plain": [
       "Text(0, 0.5, 'Количество')"
      ]
     },
     "execution_count": 26,
     "metadata": {},
     "output_type": "execute_result"
    },
    {
     "data": {
      "image/png": "[encoded data removed]",
      "text/plain": [
       "<Figure size 360x360 with 1 Axes>"
      ]
     },
     "metadata": {
      "needs_background": "light"
     },
     "output_type": "display_data"
    }
   ],
   "source": [
    "expose_plot = data.days_exposition.plot(kind='hist', bins=50, figsize=(5,5), range=(0, 350), grid=True, title='Сроки продаж жилья')\n",
    "expose_plot.set_xlabel('Дни')\n",
    "expose_plot.set_ylabel('Количество')"
   ]
  },
  {
   "cell_type": "markdown",
   "metadata": {},
   "source": [
    "Большинство жилья продается в первые 200 дней. Затем идет понижательное направление графика. Есть сильный всплеск закрытых объявлений около 45 и 60 суток экспозиции. "
   ]
  },
  {
   "cell_type": "code",
   "execution_count": 27,
   "metadata": {},
   "outputs": [
    {
     "data": {
      "text/plain": [
       "<AxesSubplot:>"
      ]
     },
     "execution_count": 27,
     "metadata": {},
     "output_type": "execute_result"
    },
    {
     "data": {
      "image/png": "[encoded data removed]",
      "text/plain": [
       "<Figure size 720x360 with 2 Axes>"
      ]
     },
     "metadata": {
      "needs_background": "light"
     },
     "output_type": "display_data"
    }
   ],
   "source": [
    "# Определяем размер тепловой карты\n",
    "fig, ax = plt.subplots(figsize=(10, 5))\n",
    "# Создаем тепловую карту по корреляции параметров\n",
    "filtered_data = data[['last_price', 'per_metr_price', 'total_area','rooms','living_area', 'kitchen_area']]\n",
    "sns.heatmap(filtered_data.corr(), annot = True, vmin=-1, vmax=1, center= 0, cmap= 'coolwarm')"
   ]
  },
  {
   "cell_type": "markdown",
   "metadata": {},
   "source": [
    "Целью данного графика было найти корреляцию между даными. Нас интересует корреляция с ценой объекта. Самая высокая связь (0.73) между общей площадью и ценой. На втором месте (0.65) между ценой метра квадратного и общей ценой. Далее идут связи между жилой площадью(0.6), площадью кухни(0.53). Стоимость квадратного метра имеет втрою по уровню корреляцию с размером площади кухни (0.24)"
   ]
  },
  {
   "cell_type": "code",
   "execution_count": 28,
   "metadata": {
    "scrolled": true
   },
   "outputs": [
    {
     "data": {
      "text/plain": [
       "<AxesSubplot:xlabel='total_area', ylabel='last_price'>"
      ]
     },
     "execution_count": 28,
     "metadata": {},
     "output_type": "execute_result"
    },
    {
     "data": {
      "image/png": "[encoded data removed]",
      "text/plain": [
       "<Figure size 432x288 with 1 Axes>"
      ]
     },
     "metadata": {
      "needs_background": "light"
     },
     "output_type": "display_data"
    }
   ],
   "source": [
    "data.plot.scatter(x='total_area', y='last_price', grid=True)"
   ]
  },
  {
   "cell_type": "markdown",
   "metadata": {},
   "source": [
    "Видна сильная корреляция общей цены квартиры и общей площади. Что, конечно, логично."
   ]
  },
  {
   "cell_type": "code",
   "execution_count": 29,
   "metadata": {},
   "outputs": [
    {
     "data": {
      "text/plain": [
       "<AxesSubplot:xlabel='living_area', ylabel='last_price'>"
      ]
     },
     "execution_count": 29,
     "metadata": {},
     "output_type": "execute_result"
    },
    {
     "data": {
      "image/png": "[encoded data removed]",
      "text/plain": [
       "<Figure size 432x288 with 1 Axes>"
      ]
     },
     "metadata": {
      "needs_background": "light"
     },
     "output_type": "display_data"
    }
   ],
   "source": [
    "data.plot.scatter(x='living_area', y='last_price', grid=True)"
   ]
  },
  {
   "cell_type": "markdown",
   "metadata": {},
   "source": [
    "Корреляция слабее чем в предыдущем примере, но она явно положительна, в целом рост жилой площади дает рост цены квартиры, хотя пропорция не прямая."
   ]
  },
  {
   "cell_type": "code",
   "execution_count": 30,
   "metadata": {
    "scrolled": true
   },
   "outputs": [
    {
     "data": {
      "text/plain": [
       "<AxesSubplot:xlabel='kitchen_area', ylabel='last_price'>"
      ]
     },
     "execution_count": 30,
     "metadata": {},
     "output_type": "execute_result"
    },
    {
     "data": {
      "image/png": "[encoded data removed]",
      "text/plain": [
       "<Figure size 432x288 with 1 Axes>"
      ]
     },
     "metadata": {
      "needs_background": "light"
     },
     "output_type": "display_data"
    }
   ],
   "source": [
    "data.plot.scatter(x='kitchen_area', y='last_price', grid=True)"
   ]
  },
  {
   "cell_type": "markdown",
   "metadata": {},
   "source": [
    "Слабая зависимость цены от размера кухни. Но все таки не нулевая, видно что с ростом размера кухни цена жилья скорее растет. Больше ситуаций в которыхцена жилья растет, при том аналогичном размере кухни, значит размер кухни слабо влияет на рост стоимости жилья."
   ]
  },
  {
   "cell_type": "code",
   "execution_count": 31,
   "metadata": {
    "scrolled": true
   },
   "outputs": [
    {
     "data": {
      "text/plain": [
       "<AxesSubplot:xlabel='rooms'>"
      ]
     },
     "execution_count": 31,
     "metadata": {},
     "output_type": "execute_result"
    },
    {
     "data": {
      "image/png": "[encoded data removed]",
      "text/plain": [
       "<Figure size 432x288 with 1 Axes>"
      ]
     },
     "metadata": {
      "needs_background": "light"
     },
     "output_type": "display_data"
    }
   ],
   "source": [
    "data.pivot_table(index='rooms', values='last_price', aggfunc='median').plot(kind='bar', rot=0)"
   ]
  },
  {
   "cell_type": "markdown",
   "metadata": {},
   "source": [
    "Видим что при росте комнатности квартиры логично растет и стоимость жилья, с ростом комнатности растет размер квартиры, выраженный в общем количестве квадратных метров."
   ]
  },
  {
   "cell_type": "code",
   "execution_count": 32,
   "metadata": {},
   "outputs": [
    {
     "data": {
      "text/plain": [
       "<AxesSubplot:xlabel='rooms'>"
      ]
     },
     "execution_count": 32,
     "metadata": {},
     "output_type": "execute_result"
    },
    {
     "data": {
      "image/png": "[encoded data removed]",
      "text/plain": [
       "<Figure size 432x288 with 1 Axes>"
      ]
     },
     "metadata": {
      "needs_background": "light"
     },
     "output_type": "display_data"
    }
   ],
   "source": [
    "data.pivot_table(index='rooms', values='per_metr_price', aggfunc='median').plot(kind='bar', rot=0)"
   ]
  },
  {
   "cell_type": "markdown",
   "metadata": {},
   "source": [
    "График показывает нам, что чем меньше комнатность и с высокой вероятностью площадь квартиры, тем выше стоимость квардратного метра. "
   ]
  },
  {
   "cell_type": "code",
   "execution_count": 33,
   "metadata": {},
   "outputs": [
    {
     "data": {
      "text/plain": [
       "<AxesSubplot:xlabel='floor'>"
      ]
     },
     "execution_count": 33,
     "metadata": {},
     "output_type": "execute_result"
    },
    {
     "data": {
      "image/png": "[encoded data removed]",
      "text/plain": [
       "<Figure size 1080x360 with 1 Axes>"
      ]
     },
     "metadata": {
      "needs_background": "light"
     },
     "output_type": "display_data"
    }
   ],
   "source": [
    "data.pivot_table(index='floor', values='per_metr_price', aggfunc='median').plot(kind='bar',figsize=(15,5),  rot=0)"
   ]
  },
  {
   "cell_type": "markdown",
   "metadata": {},
   "source": [
    "График показывает нам что в основном цена кв. метра квартир до 5 этажей ниже чем на 9 этажах. В свою очередь кв. метр на 9 этажнах стоит ниже чем на более высоких. Особо высоко жители Петербурга ценят жилье на 29 и 30 этажах, разница в ценах с квартирами прочей высотности порядка 10-15 процентов."
   ]
  },
  {
   "cell_type": "code",
   "execution_count": 34,
   "metadata": {},
   "outputs": [
    {
     "data": {
      "text/plain": [
       "<AxesSubplot:xlabel='floor'>"
      ]
     },
     "execution_count": 34,
     "metadata": {},
     "output_type": "execute_result"
    },
    {
     "data": {
      "image/png": "[encoded data removed]",
      "text/plain": [
       "<Figure size 1080x360 with 1 Axes>"
      ]
     },
     "metadata": {
      "needs_background": "light"
     },
     "output_type": "display_data"
    }
   ],
   "source": [
    "data.pivot_table(index='floor', values='last_price', aggfunc='median').plot(kind='bar',figsize=(15,5),  rot=0)"
   ]
  },
  {
   "cell_type": "markdown",
   "metadata": {},
   "source": [
    "В данном случае наблюдаем плавный и небольшой рост общей стоимости жилья связанный с ростом этажа квартиры. После 28 этажа виден резких рост стоимости квартир на любимых жителями города на Неве 29, 30 этажах, так же в фавориты попадают 32 и 33 этажи. Несправдливо в стороне остается 31 этаж. В целом это скорее всего видовые квартиры, которые имеют более высокую ценность. Более низкая цена 31 этажа скорее всего связана с малым количеством наблюдений."
   ]
  },
  {
   "cell_type": "code",
   "execution_count": 35,
   "metadata": {},
   "outputs": [
    {
     "data": {
      "text/plain": [
       "<AxesSubplot:xlabel='day'>"
      ]
     },
     "execution_count": 35,
     "metadata": {},
     "output_type": "execute_result"
    },
    {
     "data": {
      "image/png": "[encoded data removed]",
      "text/plain": [
       "<Figure size 720x360 with 1 Axes>"
      ]
     },
     "metadata": {
      "needs_background": "light"
     },
     "output_type": "display_data"
    }
   ],
   "source": [
    "data.pivot_table(index='day', values='last_price', aggfunc='median').plot(kind='bar',figsize=(10,5),  rot=0)"
   ]
  },
  {
   "cell_type": "markdown",
   "metadata": {},
   "source": [
    "День размещения объвления не влияет на цену квартиры."
   ]
  },
  {
   "cell_type": "code",
   "execution_count": 36,
   "metadata": {
    "scrolled": true
   },
   "outputs": [
    {
     "data": {
      "text/plain": [
       "<AxesSubplot:xlabel='month'>"
      ]
     },
     "execution_count": 36,
     "metadata": {},
     "output_type": "execute_result"
    },
    {
     "data": {
      "image/png": "[encoded data removed]",
      "text/plain": [
       "<Figure size 720x360 with 1 Axes>"
      ]
     },
     "metadata": {
      "needs_background": "light"
     },
     "output_type": "display_data"
    }
   ],
   "source": [
    "data.pivot_table(index='month', values='last_price', aggfunc='median').plot(kind='bar',figsize=(10,5),  rot=0)"
   ]
  },
  {
   "cell_type": "markdown",
   "metadata": {},
   "source": [
    "Плавный и небольшой рост стоимости жилья до апреля, с дном в июне, далее планый небольшой рост. В целом можно сказаь, что квартиры летом выставляют чуточку дешевле чем в остальные сезоны."
   ]
  },
  {
   "cell_type": "code",
   "execution_count": 37,
   "metadata": {},
   "outputs": [
    {
     "data": {
      "text/plain": [
       "<AxesSubplot:xlabel='year'>"
      ]
     },
     "execution_count": 37,
     "metadata": {},
     "output_type": "execute_result"
    },
    {
     "data": {
      "image/png": "[encoded data removed]",
      "text/plain": [
       "<Figure size 720x360 with 1 Axes>"
      ]
     },
     "metadata": {
      "needs_background": "light"
     },
     "output_type": "display_data"
    }
   ],
   "source": [
    "data.pivot_table(index='year', values='last_price', aggfunc='median').plot(kind='bar',figsize=(10,5),  rot=0)"
   ]
  },
  {
   "cell_type": "markdown",
   "metadata": {},
   "source": [
    "В 2014 году квартиры в целом стоили выше чем в последующие пять лет. С 2017 рост цен на жилье постепенно пролжился. "
   ]
  },
  {
   "cell_type": "code",
   "execution_count": 38,
   "metadata": {
    "scrolled": true
   },
   "outputs": [
    {
     "data": {
      "text/plain": [
       "<AxesSubplot:xlabel='year'>"
      ]
     },
     "execution_count": 38,
     "metadata": {},
     "output_type": "execute_result"
    },
    {
     "data": {
      "image/png": "[encoded data removed]",
      "text/plain": [
       "<Figure size 720x360 with 1 Axes>"
      ]
     },
     "metadata": {
      "needs_background": "light"
     },
     "output_type": "display_data"
    }
   ],
   "source": [
    "data.pivot_table(index='year', values='per_metr_price', aggfunc='median').plot(kind='bar',figsize=(10,5),  rot=0)"
   ]
  },
  {
   "cell_type": "markdown",
   "metadata": {},
   "source": [
    "После 2014 года происходит снижение стоимости квадратного метра, с дном в 2016 году и восстановлением до уровней 2014 года в 2019 году."
   ]
  },
  {
   "cell_type": "code",
   "execution_count": 39,
   "metadata": {
    "scrolled": true
   },
   "outputs": [
    {
     "data": {
      "text/html": [
       "<div>\n",
       "<style scoped>\n",
       "    .dataframe tbody tr th:only-of-type {\n",
       "        vertical-align: middle;\n",
       "    }\n",
       "\n",
       "    .dataframe tbody tr th {\n",
       "        vertical-align: top;\n",
       "    }\n",
       "\n",
       "    .dataframe thead th {\n",
       "        text-align: right;\n",
       "    }\n",
       "</style>\n",
       "<table border=\"1\" class=\"dataframe\">\n",
       "  <thead>\n",
       "    <tr style=\"text-align: right;\">\n",
       "      <th></th>\n",
       "      <th>count</th>\n",
       "      <th>mean</th>\n",
       "    </tr>\n",
       "    <tr>\n",
       "      <th>locality_name</th>\n",
       "      <th></th>\n",
       "      <th></th>\n",
       "    </tr>\n",
       "  </thead>\n",
       "  <tbody>\n",
       "    <tr>\n",
       "      <th>Санкт-Петербург</th>\n",
       "      <td>13281</td>\n",
       "      <td>107327.0</td>\n",
       "    </tr>\n",
       "    <tr>\n",
       "      <th>Зеленогорск</th>\n",
       "      <td>21</td>\n",
       "      <td>102890.0</td>\n",
       "    </tr>\n",
       "    <tr>\n",
       "      <th>Пушкин</th>\n",
       "      <td>321</td>\n",
       "      <td>101744.0</td>\n",
       "    </tr>\n",
       "    <tr>\n",
       "      <th>Сестрорецк</th>\n",
       "      <td>158</td>\n",
       "      <td>100931.0</td>\n",
       "    </tr>\n",
       "    <tr>\n",
       "      <th>Кудрово</th>\n",
       "      <td>162</td>\n",
       "      <td>100590.0</td>\n",
       "    </tr>\n",
       "    <tr>\n",
       "      <th>деревня Мистолово</th>\n",
       "      <td>9</td>\n",
       "      <td>93294.0</td>\n",
       "    </tr>\n",
       "    <tr>\n",
       "      <th>деревня Кудрово</th>\n",
       "      <td>250</td>\n",
       "      <td>92528.0</td>\n",
       "    </tr>\n",
       "    <tr>\n",
       "      <th>Мурино</th>\n",
       "      <td>32</td>\n",
       "      <td>92144.0</td>\n",
       "    </tr>\n",
       "    <tr>\n",
       "      <th>поселок Парголово</th>\n",
       "      <td>298</td>\n",
       "      <td>90462.0</td>\n",
       "    </tr>\n",
       "    <tr>\n",
       "      <th>Неизвестно</th>\n",
       "      <td>41</td>\n",
       "      <td>89581.0</td>\n",
       "    </tr>\n",
       "  </tbody>\n",
       "</table>\n",
       "</div>"
      ],
      "text/plain": [
       "                   count      mean\n",
       "locality_name                     \n",
       "Санкт-Петербург    13281  107327.0\n",
       "Зеленогорск           21  102890.0\n",
       "Пушкин               321  101744.0\n",
       "Сестрорецк           158  100931.0\n",
       "Кудрово              162  100590.0\n",
       "деревня Мистолово      9   93294.0\n",
       "деревня Кудрово      250   92528.0\n",
       "Мурино                32   92144.0\n",
       "поселок Парголово    298   90462.0\n",
       "Неизвестно            41   89581.0"
      ]
     },
     "execution_count": 39,
     "metadata": {},
     "output_type": "execute_result"
    }
   ],
   "source": [
    "pivot_table = data.pivot_table(index='locality_name', values=['per_metr_price'], aggfunc={'mean','count'})\n",
    "pivot_table.columns = ['count', 'mean']\n",
    "pivot_table['mean'] = pivot_table['mean'].round() # Округлим значения\n",
    "pivot_table.sort_values('mean', ascending=False).head(10)"
   ]
  },
  {
   "cell_type": "markdown",
   "metadata": {},
   "source": [
    "Согласно сводной таблице лидеров по стоимости жилья в Ленинградской области является Санкт-Петербург со среденей ценой метра в 107327 р., замыкаеют десятку самых дорогих городов объекты с пропущенным названием населенного пункта со средней ценой квадратного метра в 89581 р."
   ]
  },
  {
   "cell_type": "code",
   "execution_count": 40,
   "metadata": {},
   "outputs": [
    {
     "data": {
      "image/png": "[encoded data removed]",
      "text/plain": [
       "<Figure size 432x288 with 1 Axes>"
      ]
     },
     "metadata": {
      "needs_background": "light"
     },
     "output_type": "display_data"
    }
   ],
   "source": [
    "spb = data[data['locality_name'] == 'Санкт-Петербург']\n",
    "\n",
    "pivot_table = spb.pivot_table(index='cityCenters_nearest', values='per_metr_price', aggfunc='mean')\n",
    "\n",
    "# Построение графика с использованием seaborn\n",
    "sns.lineplot(x=pivot_table.index, y='per_metr_price', data=pivot_table,)\n",
    "\n",
    "# Настройка заголовка и меток осей\n",
    "plt.title('Средняя цена за каждый километр от центра Петербурга')\n",
    "plt.xlabel('Расстояние до центра (км)')\n",
    "plt.ylabel('Средняя цена (1 = 100 тысяч рублей)')\n",
    "\n",
    "plt.show()"
   ]
  },
  {
   "cell_type": "markdown",
   "metadata": {},
   "source": [
    "График показывает нам зависимость цены за метр от расстояния до центра. Самые дорогие объекты находятся на расстоянии 1-2 километров от центра. С пиком около 5,5 километров. После 8 километров от центра идет постепенное снижение стоимости квадратного метра."
   ]
  },
  {
   "cell_type": "code",
   "execution_count": 41,
   "metadata": {},
   "outputs": [
    {
     "data": {
      "image/png": "[encoded data removed]",
      "text/plain": [
       "<Figure size 432x288 with 1 Axes>"
      ]
     },
     "metadata": {},
     "output_type": "display_data"
    }
   ],
   "source": [
    "pivot_table = data.pivot_table(index='floors_total', values='per_metr_price', aggfunc='mean')\n",
    "\n",
    "sns.set_style(\"darkgrid\")\n",
    "# Построение графика с использованием seaborn\n",
    "sns.lineplot(x=pivot_table.index, y='per_metr_price', data=pivot_table)\n",
    "\n",
    "# Настройка заголовка и меток осей\n",
    "plt.title('Средняя цена за квадратный метр и высота домов')\n",
    "plt.xlabel('Высотность домов')\n",
    "plt.ylabel('Средняя цена (рублей)')\n",
    "\n",
    "plt.show()"
   ]
  },
  {
   "cell_type": "markdown",
   "metadata": {},
   "source": [
    "График показывает нам что квадратный метр в домах выше 5 этажей в среднем стоит дороже чем в домах до пяти этажей включительно."
   ]
  },
  {
   "cell_type": "markdown",
   "metadata": {},
   "source": [
    "### Общий вывод"
   ]
  },
  {
   "cell_type": "markdown",
   "metadata": {},
   "source": [
    "Большинство объектов представленных на рынке это квартиры около 30 и 45 квадратных метров, скорее всего это хрущевки, старый жилой фонд. \n",
    "\n",
    "Не смотря на отсутствие данных о возрасте объекта, по графику этажности домов можно сделать выводы, что в среднем квадратный метр жилья в более высоких (и вероятно более новых) домах стоит дороже.\n",
    "\n",
    "Квадратный метр жилья, находящеегося ближе к центру города, в среднем стоит аналогичного на окраине города. \n",
    "Так же как и стоимость метра жилья в Санкт-Петербурге стоит дороже чем в области.\n",
    "\n",
    "Расстояние до парков, аэропортов и прудов не особенно оказывает влияние на стоимость метра и жилья.\n",
    "\n",
    "Наличие балкона не оказывает влияния на стоимость жилья и квадратного метра. \n",
    "\n",
    "На стоимость квадратного мера жилья влияет размер жилой площади и площади кухни, у квартир с большими кухнями и жилыми площадями в среднем более высокая стоимость квадратного метра. \n",
    "\n",
    "Выше стандартного стоят видовые квартиры на высоких (от 29) этажах.\n",
    "\n",
    "Стоимость жилья летом немного дешевле, в среднем самый благоприятный месяц для покупок это июнь.\n"
   ]
  }
 ],
 "metadata": {
  "ExecuteTimeLog": [
   {
    "duration": 693,
    "start_time": "2023-11-11T10:05:19.834Z"
   },
   {
    "duration": 88,
    "start_time": "2023-11-11T10:05:42.845Z"
   },
   {
    "duration": 65,
    "start_time": "2023-11-11T10:05:49.716Z"
   },
   {
    "duration": 112,
    "start_time": "2023-11-11T10:05:55.365Z"
   },
   {
    "duration": 2409,
    "start_time": "2023-11-11T10:10:11.655Z"
   },
   {
    "duration": 15,
    "start_time": "2023-11-11T10:11:34.431Z"
   },
   {
    "duration": 1214,
    "start_time": "2023-11-11T10:11:43.435Z"
   },
   {
    "duration": 1846,
    "start_time": "2023-11-11T10:11:44.650Z"
   },
   {
    "duration": 2249,
    "start_time": "2023-11-11T10:11:46.498Z"
   },
   {
    "duration": 93,
    "start_time": "2023-11-11T10:15:26.016Z"
   },
   {
    "duration": 1374,
    "start_time": "2023-11-11T10:15:32.971Z"
   },
   {
    "duration": 1818,
    "start_time": "2023-11-11T10:15:34.346Z"
   },
   {
    "duration": 2246,
    "start_time": "2023-11-11T10:15:36.165Z"
   },
   {
    "duration": 2231,
    "start_time": "2023-11-11T10:15:52.682Z"
   },
   {
    "duration": 2351,
    "start_time": "2023-11-11T10:16:03.658Z"
   },
   {
    "duration": 15,
    "start_time": "2023-11-11T10:44:10.169Z"
   },
   {
    "duration": 100,
    "start_time": "2023-11-11T10:44:57.786Z"
   },
   {
    "duration": 6,
    "start_time": "2023-11-11T10:45:08.291Z"
   },
   {
    "duration": 10,
    "start_time": "2023-11-11T10:45:14.058Z"
   },
   {
    "duration": 22,
    "start_time": "2023-11-11T10:45:49.642Z"
   },
   {
    "duration": 8,
    "start_time": "2023-11-11T10:46:08.737Z"
   },
   {
    "duration": 14,
    "start_time": "2023-11-11T10:46:28.698Z"
   },
   {
    "duration": 2346,
    "start_time": "2023-11-11T10:48:57.532Z"
   },
   {
    "duration": 2917,
    "start_time": "2023-11-11T10:52:07.981Z"
   },
   {
    "duration": 2783,
    "start_time": "2023-11-11T10:53:45.223Z"
   },
   {
    "duration": 2512,
    "start_time": "2023-11-11T10:53:57.544Z"
   },
   {
    "duration": 104,
    "start_time": "2023-11-11T10:54:42.784Z"
   },
   {
    "duration": 5,
    "start_time": "2023-11-11T10:59:32.273Z"
   },
   {
    "duration": 6,
    "start_time": "2023-11-11T10:59:48.555Z"
   },
   {
    "duration": 6,
    "start_time": "2023-11-11T11:00:44.818Z"
   },
   {
    "duration": 5,
    "start_time": "2023-11-11T11:01:33.644Z"
   },
   {
    "duration": 2490,
    "start_time": "2023-11-11T11:03:42.445Z"
   },
   {
    "duration": 4022,
    "start_time": "2023-11-11T11:04:02.372Z"
   },
   {
    "duration": 3007,
    "start_time": "2023-11-11T11:04:19.229Z"
   },
   {
    "duration": 2331,
    "start_time": "2023-11-11T11:04:57.560Z"
   },
   {
    "duration": 2270,
    "start_time": "2023-11-11T11:09:49.169Z"
   },
   {
    "duration": 2244,
    "start_time": "2023-11-11T11:10:08.594Z"
   },
   {
    "duration": 6,
    "start_time": "2023-11-11T11:10:34.552Z"
   },
   {
    "duration": 2460,
    "start_time": "2023-11-11T11:14:22.212Z"
   },
   {
    "duration": 2051,
    "start_time": "2023-11-11T11:14:33.060Z"
   },
   {
    "duration": 293,
    "start_time": "2023-11-11T11:15:17.779Z"
   },
   {
    "duration": 307,
    "start_time": "2023-11-11T11:15:57.565Z"
   },
   {
    "duration": 9,
    "start_time": "2023-11-11T11:16:16.829Z"
   },
   {
    "duration": 323,
    "start_time": "2023-11-11T11:16:21.836Z"
   },
   {
    "duration": 301,
    "start_time": "2023-11-11T11:17:03.861Z"
   },
   {
    "duration": 300,
    "start_time": "2023-11-11T11:17:17.318Z"
   },
   {
    "duration": 299,
    "start_time": "2023-11-11T11:17:33.621Z"
   },
   {
    "duration": 301,
    "start_time": "2023-11-11T11:17:52.494Z"
   },
   {
    "duration": 287,
    "start_time": "2023-11-11T11:18:10.438Z"
   },
   {
    "duration": 298,
    "start_time": "2023-11-11T11:18:22.989Z"
   },
   {
    "duration": 2485,
    "start_time": "2023-11-11T11:18:51.694Z"
   },
   {
    "duration": 305,
    "start_time": "2023-11-11T11:19:38.326Z"
   },
   {
    "duration": 313,
    "start_time": "2023-11-11T11:19:47.125Z"
   },
   {
    "duration": 2845,
    "start_time": "2023-11-11T11:20:09.886Z"
   },
   {
    "duration": 2482,
    "start_time": "2023-11-11T11:20:20.888Z"
   },
   {
    "duration": 2348,
    "start_time": "2023-11-11T11:23:01.712Z"
   },
   {
    "duration": 3360,
    "start_time": "2023-11-11T11:23:20.640Z"
   },
   {
    "duration": 2688,
    "start_time": "2023-11-11T11:23:39.329Z"
   },
   {
    "duration": 2887,
    "start_time": "2023-11-11T11:23:49.859Z"
   },
   {
    "duration": 3088,
    "start_time": "2023-11-11T11:24:32.216Z"
   },
   {
    "duration": 2998,
    "start_time": "2023-11-11T11:24:51.273Z"
   },
   {
    "duration": 308,
    "start_time": "2023-11-11T12:12:37.339Z"
   },
   {
    "duration": 301,
    "start_time": "2023-11-11T12:13:24.675Z"
   },
   {
    "duration": 183,
    "start_time": "2023-11-11T12:13:43.823Z"
   },
   {
    "duration": 327,
    "start_time": "2023-11-11T12:13:49.204Z"
   },
   {
    "duration": 199,
    "start_time": "2023-11-11T12:14:26.219Z"
   },
   {
    "duration": 323,
    "start_time": "2023-11-11T12:14:52.316Z"
   },
   {
    "duration": 1763,
    "start_time": "2023-11-11T12:15:17.624Z"
   },
   {
    "duration": 212,
    "start_time": "2023-11-11T12:15:43.011Z"
   },
   {
    "duration": 224,
    "start_time": "2023-11-11T12:15:50.843Z"
   },
   {
    "duration": 256,
    "start_time": "2023-11-11T12:16:16.579Z"
   },
   {
    "duration": 270,
    "start_time": "2023-11-11T12:16:23.820Z"
   },
   {
    "duration": 250,
    "start_time": "2023-11-11T12:17:11.605Z"
   },
   {
    "duration": 226,
    "start_time": "2023-11-11T12:17:20.676Z"
   },
   {
    "duration": 167,
    "start_time": "2023-11-11T12:17:38.084Z"
   },
   {
    "duration": 231,
    "start_time": "2023-11-11T12:18:12.135Z"
   },
   {
    "duration": 227,
    "start_time": "2023-11-11T12:18:34.789Z"
   },
   {
    "duration": 1561,
    "start_time": "2023-11-11T12:18:57.573Z"
   },
   {
    "duration": 154,
    "start_time": "2023-11-11T12:19:11.022Z"
   },
   {
    "duration": 177,
    "start_time": "2023-11-11T12:19:17.582Z"
   },
   {
    "duration": 175,
    "start_time": "2023-11-11T12:19:27.797Z"
   },
   {
    "duration": 178,
    "start_time": "2023-11-11T12:23:20.825Z"
   },
   {
    "duration": 335,
    "start_time": "2023-11-11T12:26:13.543Z"
   },
   {
    "duration": 317,
    "start_time": "2023-11-11T12:26:21.324Z"
   },
   {
    "duration": 321,
    "start_time": "2023-11-11T12:26:30.592Z"
   },
   {
    "duration": 334,
    "start_time": "2023-11-11T12:26:43.266Z"
   },
   {
    "duration": 159,
    "start_time": "2023-11-11T12:38:11.288Z"
   },
   {
    "duration": 146,
    "start_time": "2023-11-11T12:38:24.982Z"
   },
   {
    "duration": 47,
    "start_time": "2023-11-11T17:30:34.724Z"
   },
   {
    "duration": 1715,
    "start_time": "2023-11-11T17:30:48.046Z"
   },
   {
    "duration": 2685,
    "start_time": "2023-11-11T17:30:49.770Z"
   },
   {
    "duration": 177,
    "start_time": "2023-11-11T17:30:52.457Z"
   },
   {
    "duration": 163,
    "start_time": "2023-11-11T17:30:52.635Z"
   },
   {
    "duration": 6,
    "start_time": "2023-11-11T17:30:52.800Z"
   },
   {
    "duration": 2656,
    "start_time": "2023-11-11T17:30:52.808Z"
   },
   {
    "duration": 38,
    "start_time": "2023-11-11T17:30:55.466Z"
   },
   {
    "duration": 11,
    "start_time": "2023-11-11T17:31:07.373Z"
   },
   {
    "duration": 16,
    "start_time": "2023-11-11T17:31:14.350Z"
   },
   {
    "duration": 6,
    "start_time": "2023-11-11T17:32:59.046Z"
   },
   {
    "duration": 8,
    "start_time": "2023-11-11T17:35:00.745Z"
   },
   {
    "duration": 4,
    "start_time": "2023-11-11T17:35:06.574Z"
   },
   {
    "duration": 5,
    "start_time": "2023-11-11T17:35:16.968Z"
   },
   {
    "duration": 4,
    "start_time": "2023-11-11T17:35:36.623Z"
   },
   {
    "duration": 100,
    "start_time": "2023-11-11T17:36:16.984Z"
   },
   {
    "duration": 106,
    "start_time": "2023-11-11T17:36:44.392Z"
   },
   {
    "duration": 7,
    "start_time": "2023-11-11T17:36:51.919Z"
   },
   {
    "duration": 1472,
    "start_time": "2023-11-11T17:43:00.836Z"
   },
   {
    "duration": 2656,
    "start_time": "2023-11-11T17:43:02.310Z"
   },
   {
    "duration": 185,
    "start_time": "2023-11-11T17:43:04.969Z"
   },
   {
    "duration": 159,
    "start_time": "2023-11-11T17:43:05.156Z"
   },
   {
    "duration": 5,
    "start_time": "2023-11-11T17:43:05.317Z"
   },
   {
    "duration": 2446,
    "start_time": "2023-11-11T17:43:05.324Z"
   },
   {
    "duration": 14,
    "start_time": "2023-11-11T17:43:07.772Z"
   },
   {
    "duration": 60,
    "start_time": "2023-11-11T17:43:07.788Z"
   },
   {
    "duration": 5,
    "start_time": "2023-11-11T17:43:07.850Z"
   },
   {
    "duration": 8,
    "start_time": "2023-11-11T17:46:03.654Z"
   },
   {
    "duration": 100,
    "start_time": "2023-11-11T17:46:18.583Z"
   },
   {
    "duration": 12,
    "start_time": "2023-11-11T17:47:15.133Z"
   },
   {
    "duration": 10,
    "start_time": "2023-11-11T17:47:33.109Z"
   },
   {
    "duration": 43,
    "start_time": "2023-11-11T17:47:41.854Z"
   },
   {
    "duration": 9,
    "start_time": "2023-11-11T17:47:58.374Z"
   },
   {
    "duration": 9,
    "start_time": "2023-11-11T17:48:13.261Z"
   },
   {
    "duration": 11,
    "start_time": "2023-11-11T17:48:39.559Z"
   },
   {
    "duration": 13,
    "start_time": "2023-11-11T17:48:51.047Z"
   },
   {
    "duration": 9,
    "start_time": "2023-11-11T17:49:04.031Z"
   },
   {
    "duration": 13,
    "start_time": "2023-11-11T17:49:23.783Z"
   },
   {
    "duration": 11,
    "start_time": "2023-11-11T17:49:39.162Z"
   },
   {
    "duration": 12,
    "start_time": "2023-11-11T17:49:49.775Z"
   },
   {
    "duration": 18,
    "start_time": "2023-11-11T17:50:05.855Z"
   },
   {
    "duration": 13,
    "start_time": "2023-11-11T17:50:16.376Z"
   },
   {
    "duration": 8,
    "start_time": "2023-11-11T17:50:24.583Z"
   },
   {
    "duration": 12,
    "start_time": "2023-11-11T17:50:45.839Z"
   },
   {
    "duration": 9,
    "start_time": "2023-11-11T17:50:48.973Z"
   },
   {
    "duration": 11,
    "start_time": "2023-11-11T17:51:07.399Z"
   },
   {
    "duration": 9,
    "start_time": "2023-11-11T17:51:13.970Z"
   },
   {
    "duration": 12,
    "start_time": "2023-11-11T17:51:16.203Z"
   },
   {
    "duration": 10,
    "start_time": "2023-11-11T17:51:27.528Z"
   },
   {
    "duration": 15,
    "start_time": "2023-11-11T17:51:35.746Z"
   },
   {
    "duration": 137,
    "start_time": "2023-11-11T17:51:43.655Z"
   },
   {
    "duration": 40,
    "start_time": "2023-11-11T17:51:52.360Z"
   },
   {
    "duration": 37,
    "start_time": "2023-11-11T17:51:59.681Z"
   },
   {
    "duration": 38,
    "start_time": "2023-11-11T17:52:09.985Z"
   },
   {
    "duration": 51,
    "start_time": "2023-11-11T17:52:24.049Z"
   },
   {
    "duration": 39,
    "start_time": "2023-11-11T17:52:31.451Z"
   },
   {
    "duration": 22,
    "start_time": "2023-11-11T17:53:03.577Z"
   },
   {
    "duration": 26,
    "start_time": "2023-11-11T17:53:09.867Z"
   },
   {
    "duration": 51,
    "start_time": "2023-11-11T17:53:49.330Z"
   },
   {
    "duration": 26,
    "start_time": "2023-11-11T17:54:50.741Z"
   },
   {
    "duration": 18,
    "start_time": "2023-11-11T17:55:10.451Z"
   },
   {
    "duration": 15,
    "start_time": "2023-11-11T17:55:33.148Z"
   },
   {
    "duration": 63,
    "start_time": "2023-11-11T17:55:48.138Z"
   },
   {
    "duration": 53,
    "start_time": "2023-11-11T17:56:38.462Z"
   },
   {
    "duration": 50,
    "start_time": "2023-11-11T18:02:16.014Z"
   },
   {
    "duration": 116,
    "start_time": "2023-11-11T18:05:16.548Z"
   },
   {
    "duration": 16,
    "start_time": "2023-11-11T18:05:31.744Z"
   },
   {
    "duration": 51,
    "start_time": "2023-11-11T18:05:44.568Z"
   },
   {
    "duration": 25,
    "start_time": "2023-11-11T18:06:27.276Z"
   },
   {
    "duration": 38,
    "start_time": "2023-11-11T18:06:35.496Z"
   },
   {
    "duration": 42,
    "start_time": "2023-11-11T18:06:45.592Z"
   },
   {
    "duration": 52,
    "start_time": "2023-11-11T18:06:53.531Z"
   },
   {
    "duration": 20,
    "start_time": "2023-11-11T18:07:48.538Z"
   },
   {
    "duration": 54,
    "start_time": "2023-11-11T18:08:01.314Z"
   },
   {
    "duration": 56,
    "start_time": "2023-11-11T18:09:43.523Z"
   },
   {
    "duration": 12,
    "start_time": "2023-11-11T18:10:56.766Z"
   },
   {
    "duration": 29,
    "start_time": "2023-11-11T18:12:27.779Z"
   },
   {
    "duration": 30,
    "start_time": "2023-11-11T18:13:54.956Z"
   },
   {
    "duration": 39,
    "start_time": "2023-11-11T18:14:09.012Z"
   },
   {
    "duration": 18,
    "start_time": "2023-11-11T18:22:12.951Z"
   },
   {
    "duration": 52,
    "start_time": "2023-11-11T18:22:49.920Z"
   },
   {
    "duration": 63,
    "start_time": "2023-11-11T18:23:01.776Z"
   },
   {
    "duration": 17,
    "start_time": "2023-11-11T18:23:09.652Z"
   },
   {
    "duration": 13,
    "start_time": "2023-11-11T18:25:26.873Z"
   },
   {
    "duration": 8,
    "start_time": "2023-11-11T18:25:39.489Z"
   },
   {
    "duration": 45,
    "start_time": "2023-11-11T18:25:54.915Z"
   },
   {
    "duration": 43,
    "start_time": "2023-11-11T18:26:24.858Z"
   },
   {
    "duration": 37,
    "start_time": "2023-11-11T18:28:25.236Z"
   },
   {
    "duration": 41,
    "start_time": "2023-11-11T18:28:55.806Z"
   },
   {
    "duration": 45,
    "start_time": "2023-11-11T18:29:33.901Z"
   },
   {
    "duration": 53,
    "start_time": "2023-11-11T18:29:50.677Z"
   },
   {
    "duration": 5,
    "start_time": "2023-11-11T18:30:08.174Z"
   },
   {
    "duration": 18,
    "start_time": "2023-11-11T18:30:19.270Z"
   },
   {
    "duration": 46,
    "start_time": "2023-11-11T18:31:53.102Z"
   },
   {
    "duration": 24,
    "start_time": "2023-11-11T18:38:40.242Z"
   },
   {
    "duration": 10,
    "start_time": "2023-11-11T18:39:50.705Z"
   },
   {
    "duration": 4,
    "start_time": "2023-11-11T18:39:58.220Z"
   },
   {
    "duration": 4,
    "start_time": "2023-11-11T18:40:42.290Z"
   },
   {
    "duration": 8,
    "start_time": "2023-11-11T18:41:16.369Z"
   },
   {
    "duration": 50,
    "start_time": "2023-11-11T18:41:25.106Z"
   },
   {
    "duration": 10,
    "start_time": "2023-11-11T18:41:37.548Z"
   },
   {
    "duration": 47,
    "start_time": "2023-11-11T18:41:46.523Z"
   },
   {
    "duration": 14,
    "start_time": "2023-11-11T18:43:10.077Z"
   },
   {
    "duration": 46,
    "start_time": "2023-11-11T18:44:17.968Z"
   },
   {
    "duration": 11,
    "start_time": "2023-11-11T18:44:35.405Z"
   },
   {
    "duration": 7,
    "start_time": "2023-11-11T18:46:40.038Z"
   },
   {
    "duration": 10,
    "start_time": "2023-11-11T18:46:54.926Z"
   },
   {
    "duration": 7,
    "start_time": "2023-11-11T18:47:02.118Z"
   },
   {
    "duration": 6,
    "start_time": "2023-11-11T18:47:07.221Z"
   },
   {
    "duration": 106,
    "start_time": "2023-11-11T18:47:29.918Z"
   },
   {
    "duration": 44,
    "start_time": "2023-11-11T18:48:08.566Z"
   },
   {
    "duration": 28,
    "start_time": "2023-11-11T18:48:39.617Z"
   },
   {
    "duration": 13,
    "start_time": "2023-11-11T18:49:05.122Z"
   },
   {
    "duration": 43,
    "start_time": "2023-11-11T18:49:13.671Z"
   },
   {
    "duration": 30,
    "start_time": "2023-11-11T18:49:38.241Z"
   },
   {
    "duration": 16,
    "start_time": "2023-11-11T18:50:21.112Z"
   },
   {
    "duration": 32,
    "start_time": "2023-11-11T18:50:33.079Z"
   },
   {
    "duration": 49,
    "start_time": "2023-11-11T18:54:23.346Z"
   },
   {
    "duration": 108,
    "start_time": "2023-11-11T18:55:25.948Z"
   },
   {
    "duration": 46,
    "start_time": "2023-11-11T18:55:32.570Z"
   },
   {
    "duration": 51,
    "start_time": "2023-11-11T18:56:18.659Z"
   },
   {
    "duration": 43,
    "start_time": "2023-11-11T18:56:30.795Z"
   },
   {
    "duration": 876,
    "start_time": "2023-11-11T18:58:19.708Z"
   },
   {
    "duration": 50,
    "start_time": "2023-11-11T18:59:49.414Z"
   },
   {
    "duration": 7,
    "start_time": "2023-11-11T19:00:41.110Z"
   },
   {
    "duration": 6,
    "start_time": "2023-11-11T19:01:16.040Z"
   },
   {
    "duration": 44,
    "start_time": "2023-11-11T19:01:23.567Z"
   },
   {
    "duration": 40,
    "start_time": "2023-11-11T19:01:46.695Z"
   },
   {
    "duration": 1609,
    "start_time": "2023-11-11T19:03:01.378Z"
   },
   {
    "duration": 2838,
    "start_time": "2023-11-11T19:03:02.989Z"
   },
   {
    "duration": 241,
    "start_time": "2023-11-11T19:03:05.828Z"
   },
   {
    "duration": 159,
    "start_time": "2023-11-11T19:03:06.071Z"
   },
   {
    "duration": 12,
    "start_time": "2023-11-11T19:03:06.232Z"
   },
   {
    "duration": 2520,
    "start_time": "2023-11-11T19:03:06.246Z"
   },
   {
    "duration": 13,
    "start_time": "2023-11-11T19:03:08.768Z"
   },
   {
    "duration": 36,
    "start_time": "2023-11-11T19:03:08.782Z"
   },
   {
    "duration": 31,
    "start_time": "2023-11-11T19:03:08.856Z"
   },
   {
    "duration": 34,
    "start_time": "2023-11-11T19:03:08.889Z"
   },
   {
    "duration": 46,
    "start_time": "2023-11-11T19:03:16.886Z"
   },
   {
    "duration": 44,
    "start_time": "2023-11-11T19:03:22.581Z"
   },
   {
    "duration": 148,
    "start_time": "2023-11-11T19:04:00.803Z"
   },
   {
    "duration": 36,
    "start_time": "2023-11-11T19:05:08.548Z"
   },
   {
    "duration": 55,
    "start_time": "2023-11-11T19:05:52.932Z"
   },
   {
    "duration": 21,
    "start_time": "2023-11-11T19:07:48.821Z"
   },
   {
    "duration": 68,
    "start_time": "2023-11-11T19:08:00.906Z"
   },
   {
    "duration": 117,
    "start_time": "2023-11-11T19:08:53.782Z"
   },
   {
    "duration": 23,
    "start_time": "2023-11-11T19:08:58.644Z"
   },
   {
    "duration": 12,
    "start_time": "2023-11-11T19:09:33.275Z"
   },
   {
    "duration": 52,
    "start_time": "2023-11-11T19:10:27.423Z"
   },
   {
    "duration": 70,
    "start_time": "2023-11-11T19:12:56.118Z"
   },
   {
    "duration": 16,
    "start_time": "2023-11-11T19:15:06.870Z"
   },
   {
    "duration": 13,
    "start_time": "2023-11-11T19:15:16.880Z"
   },
   {
    "duration": 17,
    "start_time": "2023-11-11T19:15:21.182Z"
   },
   {
    "duration": 52,
    "start_time": "2023-11-11T19:15:27.158Z"
   },
   {
    "duration": 17,
    "start_time": "2023-11-11T19:18:32.096Z"
   },
   {
    "duration": 1401,
    "start_time": "2023-11-11T19:23:59.539Z"
   },
   {
    "duration": 2616,
    "start_time": "2023-11-11T19:24:00.943Z"
   },
   {
    "duration": 168,
    "start_time": "2023-11-11T19:24:03.561Z"
   },
   {
    "duration": 156,
    "start_time": "2023-11-11T19:24:03.730Z"
   },
   {
    "duration": 5,
    "start_time": "2023-11-11T19:24:03.888Z"
   },
   {
    "duration": 2524,
    "start_time": "2023-11-11T19:24:03.894Z"
   },
   {
    "duration": 25,
    "start_time": "2023-11-11T19:24:06.420Z"
   },
   {
    "duration": 18,
    "start_time": "2023-11-11T19:24:06.447Z"
   },
   {
    "duration": 118,
    "start_time": "2023-11-11T19:24:06.467Z"
   },
   {
    "duration": 5,
    "start_time": "2023-11-11T19:24:06.587Z"
   },
   {
    "duration": 92,
    "start_time": "2023-11-11T19:29:51.766Z"
   },
   {
    "duration": 97,
    "start_time": "2023-11-11T19:29:57.911Z"
   },
   {
    "duration": 97,
    "start_time": "2023-11-11T19:30:07.677Z"
   },
   {
    "duration": 82,
    "start_time": "2023-11-11T19:30:38.797Z"
   },
   {
    "duration": 104,
    "start_time": "2023-11-11T19:31:19.766Z"
   },
   {
    "duration": 18,
    "start_time": "2023-11-11T19:31:28.870Z"
   },
   {
    "duration": 62,
    "start_time": "2023-11-11T19:31:36.693Z"
   },
   {
    "duration": 24,
    "start_time": "2023-11-11T19:31:51.088Z"
   },
   {
    "duration": 23,
    "start_time": "2023-11-11T19:32:03.655Z"
   },
   {
    "duration": 24,
    "start_time": "2023-11-11T19:32:57.287Z"
   },
   {
    "duration": 82,
    "start_time": "2023-11-11T19:41:53.551Z"
   },
   {
    "duration": 20,
    "start_time": "2023-11-11T19:42:01.160Z"
   },
   {
    "duration": 14,
    "start_time": "2023-11-11T19:42:18.727Z"
   },
   {
    "duration": 16,
    "start_time": "2023-11-11T19:42:42.209Z"
   },
   {
    "duration": 27,
    "start_time": "2023-11-11T19:43:34.967Z"
   },
   {
    "duration": 18,
    "start_time": "2023-11-11T19:44:12.679Z"
   },
   {
    "duration": 18,
    "start_time": "2023-11-11T19:44:15.575Z"
   },
   {
    "duration": 1335,
    "start_time": "2023-11-11T19:44:28.945Z"
   },
   {
    "duration": 2577,
    "start_time": "2023-11-11T19:44:30.282Z"
   },
   {
    "duration": 192,
    "start_time": "2023-11-11T19:44:32.861Z"
   },
   {
    "duration": 173,
    "start_time": "2023-11-11T19:44:33.055Z"
   },
   {
    "duration": 5,
    "start_time": "2023-11-11T19:44:33.231Z"
   },
   {
    "duration": 2437,
    "start_time": "2023-11-11T19:44:33.243Z"
   },
   {
    "duration": 14,
    "start_time": "2023-11-11T19:44:35.682Z"
   },
   {
    "duration": 15,
    "start_time": "2023-11-11T19:44:35.697Z"
   },
   {
    "duration": 4,
    "start_time": "2023-11-11T19:44:35.871Z"
   },
   {
    "duration": 20,
    "start_time": "2023-11-11T19:44:35.877Z"
   },
   {
    "duration": 118,
    "start_time": "2023-11-11T19:45:11.360Z"
   },
   {
    "duration": 20,
    "start_time": "2023-11-11T19:45:16.962Z"
   },
   {
    "duration": 17,
    "start_time": "2023-11-11T19:45:21.474Z"
   },
   {
    "duration": 28,
    "start_time": "2023-11-11T19:46:08.346Z"
   },
   {
    "duration": 80,
    "start_time": "2023-11-11T19:46:47.537Z"
   },
   {
    "duration": 16,
    "start_time": "2023-11-11T19:47:02.178Z"
   },
   {
    "duration": 19,
    "start_time": "2023-11-11T19:47:14.530Z"
   },
   {
    "duration": 14,
    "start_time": "2023-11-11T19:47:28.002Z"
   },
   {
    "duration": 20,
    "start_time": "2023-11-11T19:47:33.361Z"
   },
   {
    "duration": 16,
    "start_time": "2023-11-11T19:49:15.514Z"
   },
   {
    "duration": 17,
    "start_time": "2023-11-11T19:50:05.187Z"
   },
   {
    "duration": 5,
    "start_time": "2023-11-11T19:52:06.437Z"
   },
   {
    "duration": 16,
    "start_time": "2023-11-11T19:52:11.708Z"
   },
   {
    "duration": 19,
    "start_time": "2023-11-11T19:52:58.333Z"
   },
   {
    "duration": 24,
    "start_time": "2023-11-11T19:53:09.031Z"
   },
   {
    "duration": 13,
    "start_time": "2023-11-11T19:53:23.605Z"
   },
   {
    "duration": 14,
    "start_time": "2023-11-11T19:54:14.423Z"
   },
   {
    "duration": 13,
    "start_time": "2023-11-11T19:54:33.389Z"
   },
   {
    "duration": 13,
    "start_time": "2023-11-11T19:54:37.567Z"
   },
   {
    "duration": 18,
    "start_time": "2023-11-11T19:55:02.871Z"
   },
   {
    "duration": 15,
    "start_time": "2023-11-11T19:55:19.273Z"
   },
   {
    "duration": 18,
    "start_time": "2023-11-11T19:56:14.263Z"
   },
   {
    "duration": 46,
    "start_time": "2023-11-11T19:56:26.390Z"
   },
   {
    "duration": 18,
    "start_time": "2023-11-11T19:57:21.072Z"
   },
   {
    "duration": 23,
    "start_time": "2023-11-11T19:57:37.167Z"
   },
   {
    "duration": 19,
    "start_time": "2023-11-11T20:00:36.906Z"
   },
   {
    "duration": 20,
    "start_time": "2023-11-11T20:01:47.572Z"
   },
   {
    "duration": 31,
    "start_time": "2023-11-11T20:02:52.630Z"
   },
   {
    "duration": 23,
    "start_time": "2023-11-11T20:03:45.654Z"
   },
   {
    "duration": 21,
    "start_time": "2023-11-11T20:04:16.759Z"
   },
   {
    "duration": 18,
    "start_time": "2023-11-11T20:05:00.030Z"
   },
   {
    "duration": 16,
    "start_time": "2023-11-11T20:06:17.174Z"
   },
   {
    "duration": 6,
    "start_time": "2023-11-11T20:06:19.253Z"
   },
   {
    "duration": 16,
    "start_time": "2023-11-11T20:06:21.381Z"
   },
   {
    "duration": 21,
    "start_time": "2023-11-11T20:06:25.046Z"
   },
   {
    "duration": 14,
    "start_time": "2023-11-11T20:08:22.530Z"
   },
   {
    "duration": 13,
    "start_time": "2023-11-11T20:09:16.543Z"
   },
   {
    "duration": 17,
    "start_time": "2023-11-11T20:10:59.042Z"
   },
   {
    "duration": 20,
    "start_time": "2023-11-11T20:11:09.543Z"
   },
   {
    "duration": 1565,
    "start_time": "2023-11-12T09:07:58.937Z"
   },
   {
    "duration": 2548,
    "start_time": "2023-11-12T09:08:00.504Z"
   },
   {
    "duration": 174,
    "start_time": "2023-11-12T09:08:03.053Z"
   },
   {
    "duration": 152,
    "start_time": "2023-11-12T09:08:03.230Z"
   },
   {
    "duration": 5,
    "start_time": "2023-11-12T09:08:03.384Z"
   },
   {
    "duration": 2246,
    "start_time": "2023-11-12T09:08:03.390Z"
   },
   {
    "duration": 12,
    "start_time": "2023-11-12T09:08:05.638Z"
   },
   {
    "duration": 27,
    "start_time": "2023-11-12T09:08:05.652Z"
   },
   {
    "duration": 139,
    "start_time": "2023-11-12T09:08:05.680Z"
   },
   {
    "duration": 10,
    "start_time": "2023-11-12T09:08:05.821Z"
   },
   {
    "duration": 24,
    "start_time": "2023-11-12T09:08:35.304Z"
   },
   {
    "duration": 24,
    "start_time": "2023-11-12T09:08:59.934Z"
   },
   {
    "duration": 47,
    "start_time": "2023-11-12T09:09:08.920Z"
   },
   {
    "duration": 10,
    "start_time": "2023-11-12T09:10:13.521Z"
   },
   {
    "duration": 12,
    "start_time": "2023-11-12T09:10:17.497Z"
   },
   {
    "duration": 47,
    "start_time": "2023-11-12T09:10:24.337Z"
   },
   {
    "duration": 24,
    "start_time": "2023-11-12T09:10:37.452Z"
   },
   {
    "duration": 22,
    "start_time": "2023-11-12T09:10:50.313Z"
   },
   {
    "duration": 1402,
    "start_time": "2023-11-12T09:11:01.687Z"
   },
   {
    "duration": 2360,
    "start_time": "2023-11-12T09:11:03.092Z"
   },
   {
    "duration": 176,
    "start_time": "2023-11-12T09:11:05.454Z"
   },
   {
    "duration": 154,
    "start_time": "2023-11-12T09:11:05.632Z"
   },
   {
    "duration": 5,
    "start_time": "2023-11-12T09:11:05.788Z"
   },
   {
    "duration": 2163,
    "start_time": "2023-11-12T09:11:05.795Z"
   },
   {
    "duration": 13,
    "start_time": "2023-11-12T09:11:07.960Z"
   },
   {
    "duration": 19,
    "start_time": "2023-11-12T09:11:07.975Z"
   },
   {
    "duration": 175,
    "start_time": "2023-11-12T09:11:07.995Z"
   },
   {
    "duration": 4,
    "start_time": "2023-11-12T09:11:08.172Z"
   },
   {
    "duration": 54,
    "start_time": "2023-11-12T09:12:25.338Z"
   },
   {
    "duration": 50,
    "start_time": "2023-11-12T09:13:09.881Z"
   },
   {
    "duration": 27,
    "start_time": "2023-11-12T09:13:31.128Z"
   },
   {
    "duration": 14,
    "start_time": "2023-11-12T09:14:14.194Z"
   },
   {
    "duration": 13,
    "start_time": "2023-11-12T09:15:47.169Z"
   },
   {
    "duration": 100,
    "start_time": "2023-11-12T09:15:51.147Z"
   },
   {
    "duration": 103,
    "start_time": "2023-11-12T09:16:59.402Z"
   },
   {
    "duration": 57,
    "start_time": "2023-11-12T09:20:33.141Z"
   },
   {
    "duration": 38,
    "start_time": "2023-11-12T09:21:14.153Z"
   },
   {
    "duration": 15,
    "start_time": "2023-11-12T09:22:04.611Z"
   },
   {
    "duration": 15,
    "start_time": "2023-11-12T09:22:08.643Z"
   },
   {
    "duration": 25,
    "start_time": "2023-11-12T09:22:21.413Z"
   },
   {
    "duration": 25,
    "start_time": "2023-11-12T09:22:32.011Z"
   },
   {
    "duration": 22,
    "start_time": "2023-11-12T09:22:38.111Z"
   },
   {
    "duration": 19,
    "start_time": "2023-11-12T09:23:08.603Z"
   },
   {
    "duration": 21,
    "start_time": "2023-11-12T09:23:46.271Z"
   },
   {
    "duration": 30,
    "start_time": "2023-11-12T09:23:57.441Z"
   },
   {
    "duration": 27,
    "start_time": "2023-11-12T09:24:01.102Z"
   },
   {
    "duration": 1202,
    "start_time": "2023-11-12T09:24:10.679Z"
   },
   {
    "duration": 2297,
    "start_time": "2023-11-12T09:24:11.883Z"
   },
   {
    "duration": 158,
    "start_time": "2023-11-12T09:24:14.182Z"
   },
   {
    "duration": 141,
    "start_time": "2023-11-12T09:24:14.342Z"
   },
   {
    "duration": 5,
    "start_time": "2023-11-12T09:24:14.485Z"
   },
   {
    "duration": 2158,
    "start_time": "2023-11-12T09:24:14.492Z"
   },
   {
    "duration": 9,
    "start_time": "2023-11-12T09:24:16.651Z"
   },
   {
    "duration": 14,
    "start_time": "2023-11-12T09:24:16.662Z"
   },
   {
    "duration": 0,
    "start_time": "2023-11-12T09:24:16.905Z"
   },
   {
    "duration": 0,
    "start_time": "2023-11-12T09:24:16.907Z"
   },
   {
    "duration": 29,
    "start_time": "2023-11-12T09:24:21.170Z"
   },
   {
    "duration": 24,
    "start_time": "2023-11-12T09:25:44.980Z"
   },
   {
    "duration": 23,
    "start_time": "2023-11-12T09:26:13.139Z"
   },
   {
    "duration": 73,
    "start_time": "2023-11-12T09:30:55.420Z"
   },
   {
    "duration": 22,
    "start_time": "2023-11-12T09:32:27.741Z"
   },
   {
    "duration": 1273,
    "start_time": "2023-11-12T09:37:38.842Z"
   },
   {
    "duration": 22,
    "start_time": "2023-11-12T09:38:19.780Z"
   },
   {
    "duration": 62,
    "start_time": "2023-11-12T09:39:44.831Z"
   },
   {
    "duration": 49,
    "start_time": "2023-11-12T09:40:30.551Z"
   },
   {
    "duration": 62,
    "start_time": "2023-11-12T09:40:47.151Z"
   },
   {
    "duration": 64,
    "start_time": "2023-11-12T09:40:55.801Z"
   },
   {
    "duration": 31,
    "start_time": "2023-11-12T09:41:05.353Z"
   },
   {
    "duration": 112,
    "start_time": "2023-11-12T09:42:38.631Z"
   },
   {
    "duration": 34,
    "start_time": "2023-11-12T09:42:58.661Z"
   },
   {
    "duration": 38,
    "start_time": "2023-11-12T09:57:39.172Z"
   },
   {
    "duration": 6,
    "start_time": "2023-11-12T10:01:02.271Z"
   },
   {
    "duration": 34,
    "start_time": "2023-11-12T10:09:04.139Z"
   },
   {
    "duration": 33,
    "start_time": "2023-11-12T10:09:09.051Z"
   },
   {
    "duration": 39,
    "start_time": "2023-11-12T10:13:34.212Z"
   },
   {
    "duration": 37,
    "start_time": "2023-11-12T10:13:49.821Z"
   },
   {
    "duration": 67,
    "start_time": "2023-11-12T10:14:02.180Z"
   },
   {
    "duration": 40,
    "start_time": "2023-11-12T10:17:30.276Z"
   },
   {
    "duration": 35,
    "start_time": "2023-11-12T10:17:39.095Z"
   },
   {
    "duration": 36,
    "start_time": "2023-11-12T10:17:54.291Z"
   },
   {
    "duration": 36,
    "start_time": "2023-11-12T10:19:49.567Z"
   },
   {
    "duration": 36,
    "start_time": "2023-11-12T10:20:23.040Z"
   },
   {
    "duration": 38,
    "start_time": "2023-11-12T10:20:30.385Z"
   },
   {
    "duration": 38,
    "start_time": "2023-11-12T10:21:02.607Z"
   },
   {
    "duration": 36,
    "start_time": "2023-11-12T10:21:10.545Z"
   },
   {
    "duration": 32,
    "start_time": "2023-11-12T10:21:19.831Z"
   },
   {
    "duration": 48,
    "start_time": "2023-11-12T10:24:54.898Z"
   },
   {
    "duration": 32,
    "start_time": "2023-11-12T10:25:05.067Z"
   },
   {
    "duration": 12,
    "start_time": "2023-11-12T10:26:01.156Z"
   },
   {
    "duration": 1937,
    "start_time": "2023-11-12T14:13:52.961Z"
   },
   {
    "duration": 2859,
    "start_time": "2023-11-12T14:13:54.901Z"
   },
   {
    "duration": 189,
    "start_time": "2023-11-12T14:13:57.762Z"
   },
   {
    "duration": 196,
    "start_time": "2023-11-12T14:13:57.953Z"
   },
   {
    "duration": 7,
    "start_time": "2023-11-12T14:13:58.152Z"
   },
   {
    "duration": 2635,
    "start_time": "2023-11-12T14:13:58.161Z"
   },
   {
    "duration": 26,
    "start_time": "2023-11-12T14:14:00.798Z"
   },
   {
    "duration": 18,
    "start_time": "2023-11-12T14:14:00.826Z"
   },
   {
    "duration": 254,
    "start_time": "2023-11-12T14:14:00.846Z"
   },
   {
    "duration": 55,
    "start_time": "2023-11-12T14:14:01.102Z"
   },
   {
    "duration": 26,
    "start_time": "2023-11-12T14:14:01.158Z"
   },
   {
    "duration": 66,
    "start_time": "2023-11-12T14:16:09.256Z"
   },
   {
    "duration": 48,
    "start_time": "2023-11-12T14:16:32.580Z"
   },
   {
    "duration": 164,
    "start_time": "2023-11-12T14:16:44.807Z"
   },
   {
    "duration": 48,
    "start_time": "2023-11-12T14:16:55.691Z"
   },
   {
    "duration": 43,
    "start_time": "2023-11-12T14:17:04.819Z"
   },
   {
    "duration": 41,
    "start_time": "2023-11-12T14:19:34.823Z"
   },
   {
    "duration": 40,
    "start_time": "2023-11-12T14:22:05.008Z"
   },
   {
    "duration": 49,
    "start_time": "2023-11-12T14:22:21.232Z"
   },
   {
    "duration": 52,
    "start_time": "2023-11-12T14:22:51.712Z"
   },
   {
    "duration": 53,
    "start_time": "2023-11-12T14:26:23.338Z"
   },
   {
    "duration": 68,
    "start_time": "2023-11-12T14:26:36.690Z"
   },
   {
    "duration": 195,
    "start_time": "2023-11-12T14:27:38.774Z"
   },
   {
    "duration": 160,
    "start_time": "2023-11-12T14:27:48.651Z"
   },
   {
    "duration": 1501,
    "start_time": "2023-11-12T14:27:57.365Z"
   },
   {
    "duration": 2839,
    "start_time": "2023-11-12T14:27:58.869Z"
   },
   {
    "duration": 302,
    "start_time": "2023-11-12T14:28:01.711Z"
   },
   {
    "duration": 244,
    "start_time": "2023-11-12T14:28:02.015Z"
   },
   {
    "duration": 8,
    "start_time": "2023-11-12T14:28:02.261Z"
   },
   {
    "duration": 2821,
    "start_time": "2023-11-12T14:28:02.271Z"
   },
   {
    "duration": 24,
    "start_time": "2023-11-12T14:28:05.094Z"
   },
   {
    "duration": 16,
    "start_time": "2023-11-12T14:28:05.120Z"
   },
   {
    "duration": 214,
    "start_time": "2023-11-12T14:28:05.138Z"
   },
   {
    "duration": 78,
    "start_time": "2023-11-12T14:28:05.354Z"
   },
   {
    "duration": 15,
    "start_time": "2023-11-12T14:28:05.434Z"
   },
   {
    "duration": 77,
    "start_time": "2023-11-12T14:28:19.196Z"
   },
   {
    "duration": 82,
    "start_time": "2023-11-12T14:28:24.447Z"
   },
   {
    "duration": 93,
    "start_time": "2023-11-12T14:28:47.664Z"
   },
   {
    "duration": 1695,
    "start_time": "2023-11-12T14:37:13.653Z"
   },
   {
    "duration": 3263,
    "start_time": "2023-11-12T14:37:15.350Z"
   },
   {
    "duration": 269,
    "start_time": "2023-11-12T14:37:18.615Z"
   },
   {
    "duration": 246,
    "start_time": "2023-11-12T14:37:18.887Z"
   },
   {
    "duration": 8,
    "start_time": "2023-11-12T14:37:19.137Z"
   },
   {
    "duration": 3038,
    "start_time": "2023-11-12T14:37:19.147Z"
   },
   {
    "duration": 24,
    "start_time": "2023-11-12T14:37:22.187Z"
   },
   {
    "duration": 21,
    "start_time": "2023-11-12T14:37:22.213Z"
   },
   {
    "duration": 239,
    "start_time": "2023-11-12T14:37:22.236Z"
   },
   {
    "duration": 10,
    "start_time": "2023-11-12T14:37:22.629Z"
   },
   {
    "duration": 118,
    "start_time": "2023-11-12T14:37:22.642Z"
   },
   {
    "duration": 175,
    "start_time": "2023-11-12T14:40:38.698Z"
   },
   {
    "duration": 137,
    "start_time": "2023-11-12T14:40:47.320Z"
   },
   {
    "duration": 1650,
    "start_time": "2023-11-12T14:41:10.290Z"
   },
   {
    "duration": 2866,
    "start_time": "2023-11-12T14:41:11.942Z"
   },
   {
    "duration": 247,
    "start_time": "2023-11-12T14:41:14.810Z"
   },
   {
    "duration": 193,
    "start_time": "2023-11-12T14:41:15.059Z"
   },
   {
    "duration": 5,
    "start_time": "2023-11-12T14:41:15.255Z"
   },
   {
    "duration": 2890,
    "start_time": "2023-11-12T14:41:15.262Z"
   },
   {
    "duration": 18,
    "start_time": "2023-11-12T14:41:18.154Z"
   },
   {
    "duration": 20,
    "start_time": "2023-11-12T14:41:18.176Z"
   },
   {
    "duration": 252,
    "start_time": "2023-11-12T14:41:18.198Z"
   },
   {
    "duration": 50,
    "start_time": "2023-11-12T14:41:18.452Z"
   },
   {
    "duration": 17,
    "start_time": "2023-11-12T14:41:18.504Z"
   },
   {
    "duration": 82,
    "start_time": "2023-11-12T14:46:10.779Z"
   },
   {
    "duration": 125,
    "start_time": "2023-11-12T14:46:18.157Z"
   },
   {
    "duration": 91,
    "start_time": "2023-11-12T14:54:46.372Z"
   },
   {
    "duration": 115,
    "start_time": "2023-11-12T14:54:59.364Z"
   },
   {
    "duration": 85,
    "start_time": "2023-11-12T16:17:45.695Z"
   },
   {
    "duration": 1692,
    "start_time": "2023-11-12T16:17:53.315Z"
   },
   {
    "duration": 2995,
    "start_time": "2023-11-12T16:17:55.009Z"
   },
   {
    "duration": 206,
    "start_time": "2023-11-12T16:17:58.006Z"
   },
   {
    "duration": 190,
    "start_time": "2023-11-12T16:17:58.215Z"
   },
   {
    "duration": 6,
    "start_time": "2023-11-12T16:17:58.407Z"
   },
   {
    "duration": 2881,
    "start_time": "2023-11-12T16:17:58.416Z"
   },
   {
    "duration": 11,
    "start_time": "2023-11-12T16:18:01.299Z"
   },
   {
    "duration": 53,
    "start_time": "2023-11-12T16:18:01.312Z"
   },
   {
    "duration": 240,
    "start_time": "2023-11-12T16:18:01.367Z"
   },
   {
    "duration": 78,
    "start_time": "2023-11-12T16:18:01.610Z"
   },
   {
    "duration": 10,
    "start_time": "2023-11-12T16:18:01.690Z"
   },
   {
    "duration": 7,
    "start_time": "2023-11-12T16:19:26.249Z"
   },
   {
    "duration": 1378,
    "start_time": "2023-11-12T16:19:40.318Z"
   },
   {
    "duration": 1235,
    "start_time": "2023-11-12T16:19:43.669Z"
   },
   {
    "duration": 46,
    "start_time": "2023-11-12T16:20:01.799Z"
   },
   {
    "duration": 9,
    "start_time": "2023-11-12T16:20:29.714Z"
   },
   {
    "duration": 8,
    "start_time": "2023-11-12T16:20:36.904Z"
   },
   {
    "duration": 9,
    "start_time": "2023-11-12T16:20:40.288Z"
   },
   {
    "duration": 8,
    "start_time": "2023-11-12T16:20:56.319Z"
   },
   {
    "duration": 22,
    "start_time": "2023-11-12T16:21:00.398Z"
   },
   {
    "duration": 49,
    "start_time": "2023-11-12T16:21:33.175Z"
   },
   {
    "duration": 45,
    "start_time": "2023-11-12T16:26:06.732Z"
   },
   {
    "duration": 58,
    "start_time": "2023-11-12T16:31:56.881Z"
   },
   {
    "duration": 30,
    "start_time": "2023-11-12T16:32:31.047Z"
   },
   {
    "duration": 49,
    "start_time": "2023-11-12T16:36:10.502Z"
   },
   {
    "duration": 47,
    "start_time": "2023-11-12T16:36:22.963Z"
   },
   {
    "duration": 47,
    "start_time": "2023-11-12T16:37:34.912Z"
   },
   {
    "duration": 47,
    "start_time": "2023-11-12T16:37:54.498Z"
   },
   {
    "duration": 54,
    "start_time": "2023-11-12T16:38:37.235Z"
   },
   {
    "duration": 49,
    "start_time": "2023-11-12T16:38:45.066Z"
   },
   {
    "duration": 43,
    "start_time": "2023-11-12T16:39:20.369Z"
   },
   {
    "duration": 47,
    "start_time": "2023-11-12T16:39:31.907Z"
   },
   {
    "duration": 48,
    "start_time": "2023-11-12T16:45:48.959Z"
   },
   {
    "duration": 46,
    "start_time": "2023-11-12T16:47:55.887Z"
   },
   {
    "duration": 34,
    "start_time": "2023-11-12T16:48:21.515Z"
   },
   {
    "duration": 53,
    "start_time": "2023-11-12T16:48:26.048Z"
   },
   {
    "duration": 72,
    "start_time": "2023-11-12T16:49:26.376Z"
   },
   {
    "duration": 85,
    "start_time": "2023-11-12T16:50:07.223Z"
   },
   {
    "duration": 28,
    "start_time": "2023-11-12T16:55:09.526Z"
   },
   {
    "duration": 19,
    "start_time": "2023-11-12T16:55:16.211Z"
   },
   {
    "duration": 65,
    "start_time": "2023-11-12T16:55:25.323Z"
   },
   {
    "duration": 28,
    "start_time": "2023-11-12T17:00:19.234Z"
   },
   {
    "duration": 35,
    "start_time": "2023-11-12T17:00:45.204Z"
   },
   {
    "duration": 110,
    "start_time": "2023-11-12T17:02:35.348Z"
   },
   {
    "duration": 1464,
    "start_time": "2023-11-12T17:03:57.260Z"
   },
   {
    "duration": 2738,
    "start_time": "2023-11-12T17:03:58.726Z"
   },
   {
    "duration": 227,
    "start_time": "2023-11-12T17:04:01.466Z"
   },
   {
    "duration": 199,
    "start_time": "2023-11-12T17:04:01.696Z"
   },
   {
    "duration": 6,
    "start_time": "2023-11-12T17:04:01.897Z"
   },
   {
    "duration": 2550,
    "start_time": "2023-11-12T17:04:01.905Z"
   },
   {
    "duration": 22,
    "start_time": "2023-11-12T17:04:04.457Z"
   },
   {
    "duration": 226,
    "start_time": "2023-11-12T17:04:04.481Z"
   },
   {
    "duration": 60,
    "start_time": "2023-11-12T17:04:04.709Z"
   },
   {
    "duration": 9,
    "start_time": "2023-11-12T17:04:04.772Z"
   },
   {
    "duration": 40,
    "start_time": "2023-11-12T17:04:04.920Z"
   },
   {
    "duration": 1270,
    "start_time": "2023-11-12T17:07:31.712Z"
   },
   {
    "duration": 2296,
    "start_time": "2023-11-12T17:07:32.984Z"
   },
   {
    "duration": 168,
    "start_time": "2023-11-12T17:07:35.282Z"
   },
   {
    "duration": 159,
    "start_time": "2023-11-12T17:07:35.453Z"
   },
   {
    "duration": 5,
    "start_time": "2023-11-12T17:07:35.613Z"
   },
   {
    "duration": 2220,
    "start_time": "2023-11-12T17:07:35.619Z"
   },
   {
    "duration": 32,
    "start_time": "2023-11-12T17:07:37.841Z"
   },
   {
    "duration": 212,
    "start_time": "2023-11-12T17:07:37.875Z"
   },
   {
    "duration": 59,
    "start_time": "2023-11-12T17:07:38.089Z"
   },
   {
    "duration": 8,
    "start_time": "2023-11-12T17:07:38.150Z"
   },
   {
    "duration": 22,
    "start_time": "2023-11-12T17:07:47.586Z"
   },
   {
    "duration": 16,
    "start_time": "2023-11-12T17:15:09.778Z"
   },
   {
    "duration": 26,
    "start_time": "2023-11-12T17:17:04.466Z"
   },
   {
    "duration": 132,
    "start_time": "2023-11-12T17:19:30.926Z"
   },
   {
    "duration": 29,
    "start_time": "2023-11-12T17:19:39.498Z"
   },
   {
    "duration": 26,
    "start_time": "2023-11-12T17:19:54.299Z"
   },
   {
    "duration": 37,
    "start_time": "2023-11-12T17:20:32.589Z"
   },
   {
    "duration": 110,
    "start_time": "2023-11-12T17:29:07.860Z"
   },
   {
    "duration": 1046,
    "start_time": "2023-11-12T17:29:21.007Z"
   },
   {
    "duration": 319,
    "start_time": "2023-11-12T17:31:21.059Z"
   },
   {
    "duration": 25,
    "start_time": "2023-11-12T17:35:02.027Z"
   },
   {
    "duration": 352,
    "start_time": "2023-11-12T17:35:15.540Z"
   },
   {
    "duration": 1045,
    "start_time": "2023-11-12T17:35:51.853Z"
   },
   {
    "duration": 335,
    "start_time": "2023-11-12T17:36:03.109Z"
   },
   {
    "duration": 789,
    "start_time": "2023-11-12T17:40:28.425Z"
   },
   {
    "duration": 598,
    "start_time": "2023-11-12T17:40:41.321Z"
   },
   {
    "duration": 831,
    "start_time": "2023-11-12T17:42:26.374Z"
   },
   {
    "duration": 24,
    "start_time": "2023-11-12T17:45:20.499Z"
   },
   {
    "duration": 27,
    "start_time": "2023-11-12T17:45:35.539Z"
   },
   {
    "duration": 51,
    "start_time": "2023-11-12T17:48:29.794Z"
   },
   {
    "duration": 42,
    "start_time": "2023-11-12T17:48:39.638Z"
   },
   {
    "duration": 1207,
    "start_time": "2023-11-12T17:48:51.989Z"
   },
   {
    "duration": 2546,
    "start_time": "2023-11-12T17:48:53.198Z"
   },
   {
    "duration": 182,
    "start_time": "2023-11-12T17:48:55.746Z"
   },
   {
    "duration": 168,
    "start_time": "2023-11-12T17:48:55.931Z"
   },
   {
    "duration": 2450,
    "start_time": "2023-11-12T17:48:56.100Z"
   },
   {
    "duration": 39,
    "start_time": "2023-11-12T17:48:58.552Z"
   },
   {
    "duration": 111,
    "start_time": "2023-11-12T17:48:58.594Z"
   },
   {
    "duration": 0,
    "start_time": "2023-11-12T17:48:58.707Z"
   },
   {
    "duration": 0,
    "start_time": "2023-11-12T17:48:58.708Z"
   },
   {
    "duration": 0,
    "start_time": "2023-11-12T17:48:58.709Z"
   },
   {
    "duration": 0,
    "start_time": "2023-11-12T17:48:58.710Z"
   },
   {
    "duration": 0,
    "start_time": "2023-11-12T17:48:58.711Z"
   },
   {
    "duration": 1679,
    "start_time": "2023-11-13T08:48:57.828Z"
   },
   {
    "duration": 2531,
    "start_time": "2023-11-13T08:48:59.509Z"
   },
   {
    "duration": 171,
    "start_time": "2023-11-13T08:49:02.042Z"
   },
   {
    "duration": 152,
    "start_time": "2023-11-13T08:49:02.215Z"
   },
   {
    "duration": 2388,
    "start_time": "2023-11-13T08:49:02.369Z"
   },
   {
    "duration": 31,
    "start_time": "2023-11-13T08:49:04.759Z"
   },
   {
    "duration": 218,
    "start_time": "2023-11-13T08:49:04.792Z"
   },
   {
    "duration": 64,
    "start_time": "2023-11-13T08:49:05.012Z"
   },
   {
    "duration": 8,
    "start_time": "2023-11-13T08:49:05.077Z"
   },
   {
    "duration": 749,
    "start_time": "2023-11-13T08:49:05.087Z"
   },
   {
    "duration": 25,
    "start_time": "2023-11-13T08:49:05.841Z"
   },
   {
    "duration": 111,
    "start_time": "2023-11-13T08:50:46.768Z"
   },
   {
    "duration": 180,
    "start_time": "2023-11-13T08:53:07.859Z"
   },
   {
    "duration": 176,
    "start_time": "2023-11-13T08:53:50.283Z"
   },
   {
    "duration": 191,
    "start_time": "2023-11-13T08:53:55.747Z"
   },
   {
    "duration": 176,
    "start_time": "2023-11-13T08:54:03.131Z"
   },
   {
    "duration": 387,
    "start_time": "2023-11-13T08:54:15.243Z"
   },
   {
    "duration": 198,
    "start_time": "2023-11-13T08:54:18.109Z"
   },
   {
    "duration": 217,
    "start_time": "2023-11-13T08:54:38.147Z"
   },
   {
    "duration": 217,
    "start_time": "2023-11-13T08:58:13.588Z"
   },
   {
    "duration": 250,
    "start_time": "2023-11-13T08:58:56.323Z"
   },
   {
    "duration": 226,
    "start_time": "2023-11-13T09:03:17.379Z"
   },
   {
    "duration": 257,
    "start_time": "2023-11-13T09:03:35.333Z"
   },
   {
    "duration": 284,
    "start_time": "2023-11-13T09:03:39.017Z"
   },
   {
    "duration": 364,
    "start_time": "2023-11-13T09:03:48.928Z"
   },
   {
    "duration": 217,
    "start_time": "2023-11-13T09:06:21.170Z"
   },
   {
    "duration": 254,
    "start_time": "2023-11-13T09:06:45.029Z"
   },
   {
    "duration": 233,
    "start_time": "2023-11-13T09:07:28.387Z"
   },
   {
    "duration": 227,
    "start_time": "2023-11-13T09:07:58.218Z"
   },
   {
    "duration": 300,
    "start_time": "2023-11-13T09:08:36.507Z"
   },
   {
    "duration": 378,
    "start_time": "2023-11-13T09:08:51.520Z"
   },
   {
    "duration": 434,
    "start_time": "2023-11-13T09:08:58.735Z"
   },
   {
    "duration": 267,
    "start_time": "2023-11-13T09:17:41.127Z"
   },
   {
    "duration": 245,
    "start_time": "2023-11-13T09:18:06.571Z"
   },
   {
    "duration": 235,
    "start_time": "2023-11-13T09:18:28.968Z"
   },
   {
    "duration": 286,
    "start_time": "2023-11-13T09:21:32.786Z"
   },
   {
    "duration": 261,
    "start_time": "2023-11-13T09:21:45.147Z"
   },
   {
    "duration": 255,
    "start_time": "2023-11-13T09:22:03.499Z"
   },
   {
    "duration": 255,
    "start_time": "2023-11-13T09:22:35.836Z"
   },
   {
    "duration": 469,
    "start_time": "2023-11-13T09:22:56.600Z"
   },
   {
    "duration": 240,
    "start_time": "2023-11-13T09:27:31.780Z"
   },
   {
    "duration": 248,
    "start_time": "2023-11-13T09:27:52.511Z"
   },
   {
    "duration": 257,
    "start_time": "2023-11-13T09:28:00.607Z"
   },
   {
    "duration": 213,
    "start_time": "2023-11-13T09:28:44.067Z"
   },
   {
    "duration": 195,
    "start_time": "2023-11-13T09:28:52.353Z"
   },
   {
    "duration": 227,
    "start_time": "2023-11-13T09:31:18.718Z"
   },
   {
    "duration": 181,
    "start_time": "2023-11-13T09:33:18.004Z"
   },
   {
    "duration": 232,
    "start_time": "2023-11-13T09:33:31.735Z"
   },
   {
    "duration": 208,
    "start_time": "2023-11-13T09:33:38.139Z"
   },
   {
    "duration": 154,
    "start_time": "2023-11-13T09:33:43.393Z"
   },
   {
    "duration": 152,
    "start_time": "2023-11-13T09:33:47.995Z"
   },
   {
    "duration": 148,
    "start_time": "2023-11-13T09:33:55.107Z"
   },
   {
    "duration": 178,
    "start_time": "2023-11-13T09:34:05.107Z"
   },
   {
    "duration": 151,
    "start_time": "2023-11-13T09:34:16.626Z"
   },
   {
    "duration": 7,
    "start_time": "2023-11-13T09:35:07.577Z"
   },
   {
    "duration": 166,
    "start_time": "2023-11-13T09:35:16.530Z"
   },
   {
    "duration": 183,
    "start_time": "2023-11-13T09:41:35.008Z"
   },
   {
    "duration": 167,
    "start_time": "2023-11-13T09:41:57.360Z"
   },
   {
    "duration": 116,
    "start_time": "2023-11-13T09:42:21.877Z"
   },
   {
    "duration": 188,
    "start_time": "2023-11-13T09:42:27.248Z"
   },
   {
    "duration": 25,
    "start_time": "2023-11-13T09:45:23.848Z"
   },
   {
    "duration": 1553,
    "start_time": "2023-11-13T09:46:18.826Z"
   },
   {
    "duration": 118,
    "start_time": "2023-11-13T09:47:00.202Z"
   },
   {
    "duration": 129,
    "start_time": "2023-11-13T09:47:46.798Z"
   },
   {
    "duration": 145,
    "start_time": "2023-11-13T09:48:04.600Z"
   },
   {
    "duration": 142,
    "start_time": "2023-11-13T09:49:38.008Z"
   },
   {
    "duration": 134,
    "start_time": "2023-11-13T09:54:41.269Z"
   },
   {
    "duration": 126,
    "start_time": "2023-11-13T09:55:30.543Z"
   },
   {
    "duration": 116,
    "start_time": "2023-11-13T09:55:47.103Z"
   },
   {
    "duration": 134,
    "start_time": "2023-11-13T09:56:03.599Z"
   },
   {
    "duration": 148,
    "start_time": "2023-11-13T09:58:56.766Z"
   },
   {
    "duration": 138,
    "start_time": "2023-11-13T09:59:02.362Z"
   },
   {
    "duration": 127,
    "start_time": "2023-11-13T09:59:12.707Z"
   },
   {
    "duration": 203,
    "start_time": "2023-11-13T10:04:42.747Z"
   },
   {
    "duration": 188,
    "start_time": "2023-11-13T10:04:51.694Z"
   },
   {
    "duration": 213,
    "start_time": "2023-11-13T10:04:58.587Z"
   },
   {
    "duration": 15,
    "start_time": "2023-11-13T10:29:41.795Z"
   },
   {
    "duration": 191,
    "start_time": "2023-11-13T10:30:54.107Z"
   },
   {
    "duration": 195,
    "start_time": "2023-11-13T10:31:50.670Z"
   },
   {
    "duration": 251,
    "start_time": "2023-11-13T10:33:57.520Z"
   },
   {
    "duration": 203,
    "start_time": "2023-11-13T10:34:05.670Z"
   },
   {
    "duration": 1017,
    "start_time": "2023-11-13T10:38:10.230Z"
   },
   {
    "duration": 1540,
    "start_time": "2023-11-13T10:42:57.313Z"
   },
   {
    "duration": 2757,
    "start_time": "2023-11-13T10:42:58.855Z"
   },
   {
    "duration": 170,
    "start_time": "2023-11-13T10:43:01.614Z"
   },
   {
    "duration": 162,
    "start_time": "2023-11-13T10:43:01.786Z"
   },
   {
    "duration": 2252,
    "start_time": "2023-11-13T10:43:01.949Z"
   },
   {
    "duration": 40,
    "start_time": "2023-11-13T10:43:04.203Z"
   },
   {
    "duration": 27,
    "start_time": "2023-11-13T10:43:04.245Z"
   },
   {
    "duration": 137,
    "start_time": "2023-11-13T10:43:04.274Z"
   },
   {
    "duration": 0,
    "start_time": "2023-11-13T10:43:04.413Z"
   },
   {
    "duration": 0,
    "start_time": "2023-11-13T10:43:04.415Z"
   },
   {
    "duration": 0,
    "start_time": "2023-11-13T10:43:04.416Z"
   },
   {
    "duration": 0,
    "start_time": "2023-11-13T10:43:04.417Z"
   },
   {
    "duration": 0,
    "start_time": "2023-11-13T10:43:04.419Z"
   },
   {
    "duration": 0,
    "start_time": "2023-11-13T10:43:04.420Z"
   },
   {
    "duration": 0,
    "start_time": "2023-11-13T10:43:04.421Z"
   },
   {
    "duration": 0,
    "start_time": "2023-11-13T10:43:04.440Z"
   },
   {
    "duration": 0,
    "start_time": "2023-11-13T10:43:04.441Z"
   },
   {
    "duration": 0,
    "start_time": "2023-11-13T10:43:04.441Z"
   },
   {
    "duration": 0,
    "start_time": "2023-11-13T10:43:04.442Z"
   },
   {
    "duration": 187,
    "start_time": "2023-11-13T10:43:05.459Z"
   },
   {
    "duration": 44,
    "start_time": "2023-11-13T10:44:04.470Z"
   },
   {
    "duration": 1306,
    "start_time": "2023-11-13T10:44:40.507Z"
   },
   {
    "duration": 2429,
    "start_time": "2023-11-13T10:44:41.815Z"
   },
   {
    "duration": 165,
    "start_time": "2023-11-13T10:44:44.246Z"
   },
   {
    "duration": 152,
    "start_time": "2023-11-13T10:44:44.413Z"
   },
   {
    "duration": 2292,
    "start_time": "2023-11-13T10:44:44.566Z"
   },
   {
    "duration": 30,
    "start_time": "2023-11-13T10:44:46.859Z"
   },
   {
    "duration": 99,
    "start_time": "2023-11-13T10:44:46.891Z"
   },
   {
    "duration": 67,
    "start_time": "2023-11-13T10:44:46.992Z"
   },
   {
    "duration": 8,
    "start_time": "2023-11-13T10:44:47.060Z"
   },
   {
    "duration": 677,
    "start_time": "2023-11-13T10:44:47.070Z"
   },
   {
    "duration": 0,
    "start_time": "2023-11-13T10:44:47.749Z"
   },
   {
    "duration": 0,
    "start_time": "2023-11-13T10:44:47.750Z"
   },
   {
    "duration": 0,
    "start_time": "2023-11-13T10:44:47.752Z"
   },
   {
    "duration": 0,
    "start_time": "2023-11-13T10:44:47.753Z"
   },
   {
    "duration": 0,
    "start_time": "2023-11-13T10:44:47.755Z"
   },
   {
    "duration": 0,
    "start_time": "2023-11-13T10:44:47.756Z"
   },
   {
    "duration": 0,
    "start_time": "2023-11-13T10:44:47.758Z"
   },
   {
    "duration": 0,
    "start_time": "2023-11-13T10:44:47.759Z"
   },
   {
    "duration": 0,
    "start_time": "2023-11-13T10:44:47.760Z"
   },
   {
    "duration": 0,
    "start_time": "2023-11-13T10:44:47.762Z"
   },
   {
    "duration": 536,
    "start_time": "2023-11-13T10:45:27.241Z"
   },
   {
    "duration": 119,
    "start_time": "2023-11-13T10:45:50.540Z"
   },
   {
    "duration": 553,
    "start_time": "2023-11-13T10:45:56.609Z"
   },
   {
    "duration": 469,
    "start_time": "2023-11-13T10:47:27.373Z"
   },
   {
    "duration": 680,
    "start_time": "2023-11-13T10:48:13.140Z"
   },
   {
    "duration": 1510,
    "start_time": "2023-11-13T10:48:36.460Z"
   },
   {
    "duration": 2869,
    "start_time": "2023-11-13T10:48:37.972Z"
   },
   {
    "duration": 201,
    "start_time": "2023-11-13T10:48:40.845Z"
   },
   {
    "duration": 189,
    "start_time": "2023-11-13T10:48:41.049Z"
   },
   {
    "duration": 2606,
    "start_time": "2023-11-13T10:48:41.240Z"
   },
   {
    "duration": 37,
    "start_time": "2023-11-13T10:48:43.850Z"
   },
   {
    "duration": 96,
    "start_time": "2023-11-13T10:48:43.889Z"
   },
   {
    "duration": 70,
    "start_time": "2023-11-13T10:48:43.987Z"
   },
   {
    "duration": 7,
    "start_time": "2023-11-13T10:48:44.059Z"
   },
   {
    "duration": 753,
    "start_time": "2023-11-13T10:48:44.068Z"
   },
   {
    "duration": 268,
    "start_time": "2023-11-13T10:48:44.823Z"
   },
   {
    "duration": 289,
    "start_time": "2023-11-13T10:48:45.093Z"
   },
   {
    "duration": 223,
    "start_time": "2023-11-13T10:48:45.384Z"
   },
   {
    "duration": 249,
    "start_time": "2023-11-13T10:48:45.609Z"
   },
   {
    "duration": 207,
    "start_time": "2023-11-13T10:48:45.860Z"
   },
   {
    "duration": 309,
    "start_time": "2023-11-13T10:48:46.068Z"
   },
   {
    "duration": 139,
    "start_time": "2023-11-13T10:48:46.379Z"
   },
   {
    "duration": 215,
    "start_time": "2023-11-13T10:48:46.519Z"
   },
   {
    "duration": 216,
    "start_time": "2023-11-13T10:48:46.737Z"
   },
   {
    "duration": 162,
    "start_time": "2023-11-13T10:48:46.955Z"
   },
   {
    "duration": 112,
    "start_time": "2023-11-13T10:57:41.797Z"
   },
   {
    "duration": 6,
    "start_time": "2023-11-13T10:58:42.388Z"
   },
   {
    "duration": 18,
    "start_time": "2023-11-13T10:58:49.786Z"
   },
   {
    "duration": 1386,
    "start_time": "2023-11-13T10:59:43.776Z"
   },
   {
    "duration": 2579,
    "start_time": "2023-11-13T10:59:45.165Z"
   },
   {
    "duration": 203,
    "start_time": "2023-11-13T10:59:47.746Z"
   },
   {
    "duration": 154,
    "start_time": "2023-11-13T10:59:47.951Z"
   },
   {
    "duration": 2334,
    "start_time": "2023-11-13T10:59:48.107Z"
   },
   {
    "duration": 31,
    "start_time": "2023-11-13T10:59:50.444Z"
   },
   {
    "duration": 78,
    "start_time": "2023-11-13T10:59:50.477Z"
   },
   {
    "duration": 49,
    "start_time": "2023-11-13T10:59:50.557Z"
   },
   {
    "duration": 8,
    "start_time": "2023-11-13T10:59:50.607Z"
   },
   {
    "duration": 729,
    "start_time": "2023-11-13T10:59:50.631Z"
   },
   {
    "duration": 245,
    "start_time": "2023-11-13T10:59:51.362Z"
   },
   {
    "duration": 255,
    "start_time": "2023-11-13T10:59:51.609Z"
   },
   {
    "duration": 190,
    "start_time": "2023-11-13T10:59:51.865Z"
   },
   {
    "duration": 210,
    "start_time": "2023-11-13T10:59:52.056Z"
   },
   {
    "duration": 180,
    "start_time": "2023-11-13T10:59:52.267Z"
   },
   {
    "duration": 295,
    "start_time": "2023-11-13T10:59:52.449Z"
   },
   {
    "duration": 129,
    "start_time": "2023-11-13T10:59:52.746Z"
   },
   {
    "duration": 218,
    "start_time": "2023-11-13T10:59:52.876Z"
   },
   {
    "duration": 194,
    "start_time": "2023-11-13T10:59:53.095Z"
   },
   {
    "duration": 154,
    "start_time": "2023-11-13T10:59:53.291Z"
   },
   {
    "duration": 5,
    "start_time": "2023-11-13T10:59:53.447Z"
   },
   {
    "duration": 134,
    "start_time": "2023-11-13T11:01:30.969Z"
   },
   {
    "duration": 5,
    "start_time": "2023-11-13T11:01:39.497Z"
   },
   {
    "duration": 4,
    "start_time": "2023-11-13T11:02:23.449Z"
   },
   {
    "duration": 5,
    "start_time": "2023-11-13T11:02:33.357Z"
   },
   {
    "duration": 4,
    "start_time": "2023-11-13T11:03:46.090Z"
   },
   {
    "duration": 4,
    "start_time": "2023-11-13T11:03:52.602Z"
   },
   {
    "duration": 5,
    "start_time": "2023-11-13T11:04:17.392Z"
   },
   {
    "duration": 4,
    "start_time": "2023-11-13T11:04:19.685Z"
   },
   {
    "duration": 4,
    "start_time": "2023-11-13T11:04:46.389Z"
   },
   {
    "duration": 5,
    "start_time": "2023-11-13T11:04:58.869Z"
   },
   {
    "duration": 5,
    "start_time": "2023-11-13T11:05:00.949Z"
   },
   {
    "duration": 192,
    "start_time": "2023-11-13T11:06:48.751Z"
   },
   {
    "duration": 215,
    "start_time": "2023-11-13T11:06:56.841Z"
   },
   {
    "duration": 176,
    "start_time": "2023-11-13T11:07:14.389Z"
   },
   {
    "duration": 210,
    "start_time": "2023-11-13T11:07:30.589Z"
   },
   {
    "duration": 194,
    "start_time": "2023-11-13T11:09:39.663Z"
   },
   {
    "duration": 200,
    "start_time": "2023-11-13T11:09:56.721Z"
   },
   {
    "duration": 214,
    "start_time": "2023-11-13T11:11:27.232Z"
   },
   {
    "duration": 332,
    "start_time": "2023-11-13T11:11:39.175Z"
   },
   {
    "duration": 207,
    "start_time": "2023-11-13T11:11:48.821Z"
   },
   {
    "duration": 2075,
    "start_time": "2023-11-13T11:15:21.286Z"
   },
   {
    "duration": 2332,
    "start_time": "2023-11-13T11:24:58.224Z"
   },
   {
    "duration": 2170,
    "start_time": "2023-11-13T11:25:07.205Z"
   },
   {
    "duration": 2306,
    "start_time": "2023-11-13T11:25:12.150Z"
   },
   {
    "duration": 1978,
    "start_time": "2023-11-13T11:25:22.157Z"
   },
   {
    "duration": 2211,
    "start_time": "2023-11-13T11:25:31.341Z"
   },
   {
    "duration": 99,
    "start_time": "2023-11-13T11:34:12.717Z"
   },
   {
    "duration": 9,
    "start_time": "2023-11-13T11:34:15.877Z"
   },
   {
    "duration": 4,
    "start_time": "2023-11-13T11:34:26.068Z"
   },
   {
    "duration": 141,
    "start_time": "2023-11-13T14:01:23.013Z"
   },
   {
    "duration": 2285,
    "start_time": "2023-11-13T14:05:57.569Z"
   },
   {
    "duration": 48,
    "start_time": "2023-11-13T18:27:27.800Z"
   },
   {
    "duration": 1550,
    "start_time": "2023-11-13T18:27:38.207Z"
   },
   {
    "duration": 2629,
    "start_time": "2023-11-13T18:27:39.759Z"
   },
   {
    "duration": 186,
    "start_time": "2023-11-13T18:27:42.390Z"
   },
   {
    "duration": 168,
    "start_time": "2023-11-13T18:27:42.578Z"
   },
   {
    "duration": 36,
    "start_time": "2023-11-13T18:27:42.748Z"
   },
   {
    "duration": 87,
    "start_time": "2023-11-13T18:27:42.785Z"
   },
   {
    "duration": 669,
    "start_time": "2023-11-13T18:27:42.873Z"
   },
   {
    "duration": 312,
    "start_time": "2023-11-13T18:27:43.544Z"
   },
   {
    "duration": 688,
    "start_time": "2023-11-13T18:27:43.858Z"
   },
   {
    "duration": 237,
    "start_time": "2023-11-13T18:27:44.548Z"
   },
   {
    "duration": 261,
    "start_time": "2023-11-13T18:27:44.787Z"
   },
   {
    "duration": 206,
    "start_time": "2023-11-13T18:27:45.050Z"
   },
   {
    "duration": 222,
    "start_time": "2023-11-13T18:27:45.258Z"
   },
   {
    "duration": 202,
    "start_time": "2023-11-13T18:27:45.483Z"
   },
   {
    "duration": 194,
    "start_time": "2023-11-13T18:27:45.687Z"
   },
   {
    "duration": 141,
    "start_time": "2023-11-13T18:27:45.884Z"
   },
   {
    "duration": 214,
    "start_time": "2023-11-13T18:27:46.027Z"
   },
   {
    "duration": 231,
    "start_time": "2023-11-13T18:27:46.243Z"
   },
   {
    "duration": 274,
    "start_time": "2023-11-13T18:27:46.476Z"
   },
   {
    "duration": 4,
    "start_time": "2023-11-13T18:27:46.752Z"
   },
   {
    "duration": 6,
    "start_time": "2023-11-13T18:27:46.758Z"
   },
   {
    "duration": 235,
    "start_time": "2023-11-13T18:27:46.765Z"
   },
   {
    "duration": 2318,
    "start_time": "2023-11-13T18:27:47.002Z"
   },
   {
    "duration": 45,
    "start_time": "2023-11-13T18:27:49.322Z"
   },
   {
    "duration": 37,
    "start_time": "2023-11-13T18:28:13.705Z"
   },
   {
    "duration": 27,
    "start_time": "2023-11-13T18:29:30.207Z"
   },
   {
    "duration": 117,
    "start_time": "2023-11-13T18:31:43.721Z"
   },
   {
    "duration": 25,
    "start_time": "2023-11-13T18:32:24.530Z"
   },
   {
    "duration": 32,
    "start_time": "2023-11-13T18:33:24.188Z"
   },
   {
    "duration": 26,
    "start_time": "2023-11-13T18:33:39.482Z"
   },
   {
    "duration": 28,
    "start_time": "2023-11-13T18:33:49.127Z"
   },
   {
    "duration": 33,
    "start_time": "2023-11-13T18:34:04.632Z"
   },
   {
    "duration": 35,
    "start_time": "2023-11-13T18:35:03.892Z"
   },
   {
    "duration": 44,
    "start_time": "2023-11-13T18:35:12.234Z"
   },
   {
    "duration": 27,
    "start_time": "2023-11-13T18:35:53.282Z"
   },
   {
    "duration": 29,
    "start_time": "2023-11-13T18:36:03.308Z"
   },
   {
    "duration": 30,
    "start_time": "2023-11-13T18:36:34.275Z"
   },
   {
    "duration": 29,
    "start_time": "2023-11-13T18:37:48.139Z"
   },
   {
    "duration": 35,
    "start_time": "2023-11-13T18:38:09.955Z"
   },
   {
    "duration": 23,
    "start_time": "2023-11-13T18:39:46.687Z"
   },
   {
    "duration": 23,
    "start_time": "2023-11-13T18:40:01.168Z"
   },
   {
    "duration": 30,
    "start_time": "2023-11-13T18:40:10.146Z"
   },
   {
    "duration": 23,
    "start_time": "2023-11-13T18:40:16.869Z"
   },
   {
    "duration": 16,
    "start_time": "2023-11-13T18:40:24.269Z"
   },
   {
    "duration": 15,
    "start_time": "2023-11-13T18:40:42.567Z"
   },
   {
    "duration": 21,
    "start_time": "2023-11-13T18:40:49.925Z"
   },
   {
    "duration": 22,
    "start_time": "2023-11-13T18:41:06.790Z"
   },
   {
    "duration": 24,
    "start_time": "2023-11-13T18:41:17.511Z"
   },
   {
    "duration": 21,
    "start_time": "2023-11-13T18:41:24.671Z"
   },
   {
    "duration": 22,
    "start_time": "2023-11-13T18:46:06.744Z"
   },
   {
    "duration": 23,
    "start_time": "2023-11-13T18:46:46.519Z"
   },
   {
    "duration": 22,
    "start_time": "2023-11-13T18:47:13.480Z"
   },
   {
    "duration": 21,
    "start_time": "2023-11-13T18:49:59.209Z"
   },
   {
    "duration": 147,
    "start_time": "2023-11-13T18:50:09.804Z"
   },
   {
    "duration": 170,
    "start_time": "2023-11-13T18:52:47.857Z"
   },
   {
    "duration": 1411,
    "start_time": "2023-11-13T18:55:13.047Z"
   },
   {
    "duration": 2767,
    "start_time": "2023-11-13T18:55:14.461Z"
   },
   {
    "duration": 200,
    "start_time": "2023-11-13T18:55:17.229Z"
   },
   {
    "duration": 197,
    "start_time": "2023-11-13T18:55:17.431Z"
   },
   {
    "duration": 36,
    "start_time": "2023-11-13T18:55:17.631Z"
   },
   {
    "duration": 213,
    "start_time": "2023-11-13T18:55:17.668Z"
   },
   {
    "duration": 61,
    "start_time": "2023-11-13T18:55:17.883Z"
   },
   {
    "duration": 9,
    "start_time": "2023-11-13T18:55:17.945Z"
   },
   {
    "duration": 772,
    "start_time": "2023-11-13T18:55:17.955Z"
   },
   {
    "duration": 256,
    "start_time": "2023-11-13T18:55:18.729Z"
   },
   {
    "duration": 296,
    "start_time": "2023-11-13T18:55:18.988Z"
   },
   {
    "duration": 208,
    "start_time": "2023-11-13T18:55:19.285Z"
   },
   {
    "duration": 251,
    "start_time": "2023-11-13T18:55:19.495Z"
   },
   {
    "duration": 189,
    "start_time": "2023-11-13T18:55:19.749Z"
   },
   {
    "duration": 190,
    "start_time": "2023-11-13T18:55:19.941Z"
   },
   {
    "duration": 148,
    "start_time": "2023-11-13T18:55:20.133Z"
   },
   {
    "duration": 233,
    "start_time": "2023-11-13T18:55:20.283Z"
   },
   {
    "duration": 214,
    "start_time": "2023-11-13T18:55:20.518Z"
   },
   {
    "duration": 281,
    "start_time": "2023-11-13T18:55:20.735Z"
   },
   {
    "duration": 4,
    "start_time": "2023-11-13T18:55:21.018Z"
   },
   {
    "duration": 38,
    "start_time": "2023-11-13T18:55:21.024Z"
   },
   {
    "duration": 231,
    "start_time": "2023-11-13T18:55:21.064Z"
   },
   {
    "duration": 2220,
    "start_time": "2023-11-13T18:55:21.297Z"
   },
   {
    "duration": 34,
    "start_time": "2023-11-13T18:55:23.519Z"
   },
   {
    "duration": 222,
    "start_time": "2023-11-13T18:55:23.555Z"
   },
   {
    "duration": 333,
    "start_time": "2023-11-13T18:56:14.070Z"
   },
   {
    "duration": 176,
    "start_time": "2023-11-13T18:56:41.388Z"
   },
   {
    "duration": 241,
    "start_time": "2023-11-13T18:57:08.590Z"
   },
   {
    "duration": 202,
    "start_time": "2023-11-13T18:57:15.204Z"
   },
   {
    "duration": 204,
    "start_time": "2023-11-13T18:57:27.084Z"
   },
   {
    "duration": 226,
    "start_time": "2023-11-13T18:57:38.380Z"
   },
   {
    "duration": 327,
    "start_time": "2023-11-13T18:58:50.549Z"
   },
   {
    "duration": 194,
    "start_time": "2023-11-13T18:59:05.269Z"
   },
   {
    "duration": 31,
    "start_time": "2023-11-13T18:59:34.747Z"
   },
   {
    "duration": 192,
    "start_time": "2023-11-13T18:59:41.925Z"
   },
   {
    "duration": 388,
    "start_time": "2023-11-13T19:03:29.640Z"
   },
   {
    "duration": 143,
    "start_time": "2023-11-13T19:03:46.010Z"
   },
   {
    "duration": 130,
    "start_time": "2023-11-13T19:03:50.976Z"
   },
   {
    "duration": 150,
    "start_time": "2023-11-13T19:03:56.505Z"
   },
   {
    "duration": 133,
    "start_time": "2023-11-13T19:04:07.473Z"
   },
   {
    "duration": 366,
    "start_time": "2023-11-13T19:04:28.129Z"
   },
   {
    "duration": 1381,
    "start_time": "2023-11-13T19:05:56.524Z"
   },
   {
    "duration": 2865,
    "start_time": "2023-11-13T19:05:57.907Z"
   },
   {
    "duration": 177,
    "start_time": "2023-11-13T19:06:00.773Z"
   },
   {
    "duration": 155,
    "start_time": "2023-11-13T19:06:00.952Z"
   },
   {
    "duration": 44,
    "start_time": "2023-11-13T19:06:01.109Z"
   },
   {
    "duration": 98,
    "start_time": "2023-11-13T19:06:01.155Z"
   },
   {
    "duration": 560,
    "start_time": "2023-11-13T19:06:01.255Z"
   },
   {
    "duration": 0,
    "start_time": "2023-11-13T19:06:01.817Z"
   },
   {
    "duration": 0,
    "start_time": "2023-11-13T19:06:01.819Z"
   },
   {
    "duration": 0,
    "start_time": "2023-11-13T19:06:01.820Z"
   },
   {
    "duration": 1,
    "start_time": "2023-11-13T19:06:01.821Z"
   },
   {
    "duration": 0,
    "start_time": "2023-11-13T19:06:01.823Z"
   },
   {
    "duration": 0,
    "start_time": "2023-11-13T19:06:01.824Z"
   },
   {
    "duration": 0,
    "start_time": "2023-11-13T19:06:01.836Z"
   },
   {
    "duration": 0,
    "start_time": "2023-11-13T19:06:01.837Z"
   },
   {
    "duration": 0,
    "start_time": "2023-11-13T19:06:01.839Z"
   },
   {
    "duration": 0,
    "start_time": "2023-11-13T19:06:01.841Z"
   },
   {
    "duration": 0,
    "start_time": "2023-11-13T19:06:01.842Z"
   },
   {
    "duration": 0,
    "start_time": "2023-11-13T19:06:01.844Z"
   },
   {
    "duration": 0,
    "start_time": "2023-11-13T19:06:01.845Z"
   },
   {
    "duration": 0,
    "start_time": "2023-11-13T19:06:01.846Z"
   },
   {
    "duration": 0,
    "start_time": "2023-11-13T19:06:01.848Z"
   },
   {
    "duration": 0,
    "start_time": "2023-11-13T19:06:01.849Z"
   },
   {
    "duration": 0,
    "start_time": "2023-11-13T19:06:01.851Z"
   },
   {
    "duration": 0,
    "start_time": "2023-11-13T19:06:01.851Z"
   },
   {
    "duration": 1438,
    "start_time": "2023-11-13T19:07:00.725Z"
   },
   {
    "duration": 2627,
    "start_time": "2023-11-13T19:07:02.165Z"
   },
   {
    "duration": 186,
    "start_time": "2023-11-13T19:07:04.794Z"
   },
   {
    "duration": 154,
    "start_time": "2023-11-13T19:07:04.981Z"
   },
   {
    "duration": 37,
    "start_time": "2023-11-13T19:07:05.139Z"
   },
   {
    "duration": 71,
    "start_time": "2023-11-13T19:07:05.179Z"
   },
   {
    "duration": 61,
    "start_time": "2023-11-13T19:07:05.252Z"
   },
   {
    "duration": 29,
    "start_time": "2023-11-13T19:07:05.315Z"
   },
   {
    "duration": 832,
    "start_time": "2023-11-13T19:07:05.346Z"
   },
   {
    "duration": 235,
    "start_time": "2023-11-13T19:07:06.180Z"
   },
   {
    "duration": 443,
    "start_time": "2023-11-13T19:07:06.416Z"
   },
   {
    "duration": 241,
    "start_time": "2023-11-13T19:07:06.861Z"
   },
   {
    "duration": 249,
    "start_time": "2023-11-13T19:07:07.105Z"
   },
   {
    "duration": 190,
    "start_time": "2023-11-13T19:07:07.357Z"
   },
   {
    "duration": 184,
    "start_time": "2023-11-13T19:07:07.549Z"
   },
   {
    "duration": 142,
    "start_time": "2023-11-13T19:07:07.735Z"
   },
   {
    "duration": 243,
    "start_time": "2023-11-13T19:07:07.879Z"
   },
   {
    "duration": 232,
    "start_time": "2023-11-13T19:07:08.123Z"
   },
   {
    "duration": 299,
    "start_time": "2023-11-13T19:07:08.357Z"
   },
   {
    "duration": 5,
    "start_time": "2023-11-13T19:07:08.657Z"
   },
   {
    "duration": 11,
    "start_time": "2023-11-13T19:07:08.664Z"
   },
   {
    "duration": 246,
    "start_time": "2023-11-13T19:07:08.677Z"
   },
   {
    "duration": 2611,
    "start_time": "2023-11-13T19:07:08.925Z"
   },
   {
    "duration": 25,
    "start_time": "2023-11-13T19:07:11.537Z"
   },
   {
    "duration": 434,
    "start_time": "2023-11-13T19:07:11.564Z"
   },
   {
    "duration": 791,
    "start_time": "2023-11-13T19:07:45.680Z"
   },
   {
    "duration": 691,
    "start_time": "2023-11-13T19:08:08.376Z"
   },
   {
    "duration": 739,
    "start_time": "2023-11-13T19:08:13.991Z"
   },
   {
    "duration": 601,
    "start_time": "2023-11-13T19:08:25.804Z"
   },
   {
    "duration": 740,
    "start_time": "2023-11-13T19:08:35.280Z"
   },
   {
    "duration": 371,
    "start_time": "2023-11-13T19:10:11.298Z"
   },
   {
    "duration": 361,
    "start_time": "2023-11-13T19:11:38.324Z"
   },
   {
    "duration": 9,
    "start_time": "2023-11-13T19:15:34.214Z"
   },
   {
    "duration": 8,
    "start_time": "2023-11-13T19:15:48.322Z"
   },
   {
    "duration": 121,
    "start_time": "2023-11-13T19:16:19.980Z"
   },
   {
    "duration": 24,
    "start_time": "2023-11-13T19:16:53.190Z"
   },
   {
    "duration": 18,
    "start_time": "2023-11-13T19:17:01.334Z"
   },
   {
    "duration": 50,
    "start_time": "2023-11-13T19:17:05.839Z"
   },
   {
    "duration": 38,
    "start_time": "2023-11-13T19:17:24.607Z"
   },
   {
    "duration": 348,
    "start_time": "2023-11-13T19:18:01.807Z"
   },
   {
    "duration": 392,
    "start_time": "2023-11-13T19:24:25.114Z"
   },
   {
    "duration": 335,
    "start_time": "2023-11-13T19:25:00.393Z"
   },
   {
    "duration": 360,
    "start_time": "2023-11-13T19:25:09.095Z"
   },
   {
    "duration": 16,
    "start_time": "2023-11-13T19:25:25.217Z"
   },
   {
    "duration": 16,
    "start_time": "2023-11-13T19:25:44.627Z"
   },
   {
    "duration": 17,
    "start_time": "2023-11-13T19:25:54.139Z"
   },
   {
    "duration": 18,
    "start_time": "2023-11-13T19:26:03.219Z"
   },
   {
    "duration": 17,
    "start_time": "2023-11-13T19:26:09.221Z"
   },
   {
    "duration": 18,
    "start_time": "2023-11-13T19:26:46.395Z"
   },
   {
    "duration": 25,
    "start_time": "2023-11-13T19:26:59.682Z"
   },
   {
    "duration": 367,
    "start_time": "2023-11-13T19:27:22.727Z"
   },
   {
    "duration": 16,
    "start_time": "2023-11-13T19:27:42.020Z"
   },
   {
    "duration": 430,
    "start_time": "2023-11-13T19:28:28.843Z"
   },
   {
    "duration": 370,
    "start_time": "2023-11-13T19:28:42.788Z"
   },
   {
    "duration": 23,
    "start_time": "2023-11-13T19:30:30.400Z"
   },
   {
    "duration": 24,
    "start_time": "2023-11-13T19:30:40.007Z"
   },
   {
    "duration": 365,
    "start_time": "2023-11-13T19:30:47.374Z"
   },
   {
    "duration": 243,
    "start_time": "2023-11-13T19:32:02.172Z"
   },
   {
    "duration": 242,
    "start_time": "2023-11-13T19:32:11.372Z"
   },
   {
    "duration": 403,
    "start_time": "2023-11-13T19:32:37.693Z"
   },
   {
    "duration": 628,
    "start_time": "2023-11-13T19:32:47.548Z"
   },
   {
    "duration": 446,
    "start_time": "2023-11-13T19:32:55.232Z"
   },
   {
    "duration": 434,
    "start_time": "2023-11-13T19:33:25.547Z"
   },
   {
    "duration": 385,
    "start_time": "2023-11-13T19:34:45.073Z"
   },
   {
    "duration": 1814,
    "start_time": "2023-11-14T07:16:37.437Z"
   },
   {
    "duration": 2595,
    "start_time": "2023-11-14T07:16:39.253Z"
   },
   {
    "duration": 205,
    "start_time": "2023-11-14T07:16:41.850Z"
   },
   {
    "duration": 167,
    "start_time": "2023-11-14T07:16:42.057Z"
   },
   {
    "duration": 35,
    "start_time": "2023-11-14T07:16:42.226Z"
   },
   {
    "duration": 71,
    "start_time": "2023-11-14T07:16:42.262Z"
   },
   {
    "duration": 51,
    "start_time": "2023-11-14T07:16:42.335Z"
   },
   {
    "duration": 8,
    "start_time": "2023-11-14T07:16:42.388Z"
   },
   {
    "duration": 731,
    "start_time": "2023-11-14T07:16:42.398Z"
   },
   {
    "duration": 261,
    "start_time": "2023-11-14T07:16:43.132Z"
   },
   {
    "duration": 295,
    "start_time": "2023-11-14T07:16:43.395Z"
   },
   {
    "duration": 230,
    "start_time": "2023-11-14T07:16:43.692Z"
   },
   {
    "duration": 232,
    "start_time": "2023-11-14T07:16:43.924Z"
   },
   {
    "duration": 231,
    "start_time": "2023-11-14T07:16:44.157Z"
   },
   {
    "duration": 213,
    "start_time": "2023-11-14T07:16:44.391Z"
   },
   {
    "duration": 159,
    "start_time": "2023-11-14T07:16:44.607Z"
   },
   {
    "duration": 244,
    "start_time": "2023-11-14T07:16:44.768Z"
   },
   {
    "duration": 218,
    "start_time": "2023-11-14T07:16:45.013Z"
   },
   {
    "duration": 306,
    "start_time": "2023-11-14T07:16:45.234Z"
   },
   {
    "duration": 5,
    "start_time": "2023-11-14T07:16:45.543Z"
   },
   {
    "duration": 121,
    "start_time": "2023-11-14T07:16:45.549Z"
   },
   {
    "duration": 322,
    "start_time": "2023-11-14T07:16:45.672Z"
   },
   {
    "duration": 2742,
    "start_time": "2023-11-14T07:16:45.996Z"
   },
   {
    "duration": 29,
    "start_time": "2023-11-14T07:16:48.740Z"
   },
   {
    "duration": 444,
    "start_time": "2023-11-14T07:16:48.770Z"
   },
   {
    "duration": 19,
    "start_time": "2023-11-14T07:16:49.216Z"
   },
   {
    "duration": 103,
    "start_time": "2023-11-14T07:23:10.519Z"
   },
   {
    "duration": 10,
    "start_time": "2023-11-14T07:23:15.120Z"
   },
   {
    "duration": 1420,
    "start_time": "2023-11-14T07:45:23.008Z"
   },
   {
    "duration": 2660,
    "start_time": "2023-11-14T07:45:24.430Z"
   },
   {
    "duration": 211,
    "start_time": "2023-11-14T07:45:27.092Z"
   },
   {
    "duration": 165,
    "start_time": "2023-11-14T07:45:27.305Z"
   },
   {
    "duration": 42,
    "start_time": "2023-11-14T07:45:27.472Z"
   },
   {
    "duration": 56,
    "start_time": "2023-11-14T07:45:27.516Z"
   },
   {
    "duration": 76,
    "start_time": "2023-11-14T07:45:27.573Z"
   },
   {
    "duration": 9,
    "start_time": "2023-11-14T07:45:27.651Z"
   },
   {
    "duration": 763,
    "start_time": "2023-11-14T07:45:27.662Z"
   },
   {
    "duration": 266,
    "start_time": "2023-11-14T07:45:28.427Z"
   },
   {
    "duration": 299,
    "start_time": "2023-11-14T07:45:28.695Z"
   },
   {
    "duration": 205,
    "start_time": "2023-11-14T07:45:28.996Z"
   },
   {
    "duration": 223,
    "start_time": "2023-11-14T07:45:29.203Z"
   },
   {
    "duration": 174,
    "start_time": "2023-11-14T07:45:29.428Z"
   },
   {
    "duration": 178,
    "start_time": "2023-11-14T07:45:29.604Z"
   },
   {
    "duration": 165,
    "start_time": "2023-11-14T07:45:29.784Z"
   },
   {
    "duration": 221,
    "start_time": "2023-11-14T07:45:29.951Z"
   },
   {
    "duration": 214,
    "start_time": "2023-11-14T07:45:30.174Z"
   },
   {
    "duration": 278,
    "start_time": "2023-11-14T07:45:30.389Z"
   },
   {
    "duration": 5,
    "start_time": "2023-11-14T07:45:30.669Z"
   },
   {
    "duration": 34,
    "start_time": "2023-11-14T07:45:30.675Z"
   },
   {
    "duration": 294,
    "start_time": "2023-11-14T07:45:30.711Z"
   },
   {
    "duration": 2404,
    "start_time": "2023-11-14T07:45:31.007Z"
   },
   {
    "duration": 24,
    "start_time": "2023-11-14T07:45:33.413Z"
   },
   {
    "duration": 414,
    "start_time": "2023-11-14T07:45:33.439Z"
   },
   {
    "duration": 18,
    "start_time": "2023-11-14T07:45:33.854Z"
   },
   {
    "duration": 48,
    "start_time": "2023-11-14T07:45:33.873Z"
   },
   {
    "duration": 375,
    "start_time": "2023-11-14T08:00:15.494Z"
   },
   {
    "duration": 118,
    "start_time": "2023-11-14T08:00:20.926Z"
   },
   {
    "duration": 41,
    "start_time": "2023-11-14T08:00:32.184Z"
   },
   {
    "duration": 49,
    "start_time": "2023-11-14T08:02:01.818Z"
   },
   {
    "duration": 7,
    "start_time": "2023-11-14T08:27:03.270Z"
   },
   {
    "duration": 19,
    "start_time": "2023-11-14T08:27:59.424Z"
   },
   {
    "duration": 46,
    "start_time": "2023-11-14T08:29:17.245Z"
   },
   {
    "duration": 1318,
    "start_time": "2023-11-14T08:44:16.259Z"
   },
   {
    "duration": 2617,
    "start_time": "2023-11-14T08:44:17.579Z"
   },
   {
    "duration": 182,
    "start_time": "2023-11-14T08:44:20.198Z"
   },
   {
    "duration": 166,
    "start_time": "2023-11-14T08:44:20.382Z"
   },
   {
    "duration": 37,
    "start_time": "2023-11-14T08:44:20.549Z"
   },
   {
    "duration": 71,
    "start_time": "2023-11-14T08:44:20.588Z"
   },
   {
    "duration": 32,
    "start_time": "2023-11-14T08:44:20.661Z"
   },
   {
    "duration": 19,
    "start_time": "2023-11-14T08:44:20.694Z"
   },
   {
    "duration": 725,
    "start_time": "2023-11-14T08:44:20.714Z"
   },
   {
    "duration": 263,
    "start_time": "2023-11-14T08:44:21.441Z"
   },
   {
    "duration": 279,
    "start_time": "2023-11-14T08:44:21.705Z"
   },
   {
    "duration": 235,
    "start_time": "2023-11-14T08:44:21.985Z"
   },
   {
    "duration": 223,
    "start_time": "2023-11-14T08:44:22.223Z"
   },
   {
    "duration": 189,
    "start_time": "2023-11-14T08:44:22.448Z"
   },
   {
    "duration": 177,
    "start_time": "2023-11-14T08:44:22.639Z"
   },
   {
    "duration": 144,
    "start_time": "2023-11-14T08:44:22.818Z"
   },
   {
    "duration": 207,
    "start_time": "2023-11-14T08:44:22.963Z"
   },
   {
    "duration": 227,
    "start_time": "2023-11-14T08:44:23.172Z"
   },
   {
    "duration": 287,
    "start_time": "2023-11-14T08:44:23.401Z"
   },
   {
    "duration": 4,
    "start_time": "2023-11-14T08:44:23.690Z"
   },
   {
    "duration": 18,
    "start_time": "2023-11-14T08:44:23.696Z"
   },
   {
    "duration": 229,
    "start_time": "2023-11-14T08:44:23.716Z"
   },
   {
    "duration": 2397,
    "start_time": "2023-11-14T08:44:23.947Z"
   },
   {
    "duration": 23,
    "start_time": "2023-11-14T08:44:26.345Z"
   },
   {
    "duration": 389,
    "start_time": "2023-11-14T08:44:26.369Z"
   },
   {
    "duration": 17,
    "start_time": "2023-11-14T08:44:26.759Z"
   },
   {
    "duration": 16,
    "start_time": "2023-11-14T08:44:26.777Z"
   },
   {
    "duration": 42,
    "start_time": "2023-11-14T08:44:47.152Z"
   },
   {
    "duration": 46,
    "start_time": "2023-11-14T08:45:09.504Z"
   },
   {
    "duration": 1308,
    "start_time": "2023-11-14T08:45:19.605Z"
   },
   {
    "duration": 2669,
    "start_time": "2023-11-14T08:45:20.915Z"
   },
   {
    "duration": 211,
    "start_time": "2023-11-14T08:45:23.586Z"
   },
   {
    "duration": 182,
    "start_time": "2023-11-14T08:45:23.800Z"
   },
   {
    "duration": 50,
    "start_time": "2023-11-14T08:45:23.984Z"
   },
   {
    "duration": 58,
    "start_time": "2023-11-14T08:45:24.036Z"
   },
   {
    "duration": 53,
    "start_time": "2023-11-14T08:45:24.095Z"
   },
   {
    "duration": 9,
    "start_time": "2023-11-14T08:45:24.149Z"
   },
   {
    "duration": 783,
    "start_time": "2023-11-14T08:45:24.159Z"
   },
   {
    "duration": 245,
    "start_time": "2023-11-14T08:45:24.944Z"
   },
   {
    "duration": 278,
    "start_time": "2023-11-14T08:45:25.191Z"
   },
   {
    "duration": 214,
    "start_time": "2023-11-14T08:45:25.471Z"
   },
   {
    "duration": 236,
    "start_time": "2023-11-14T08:45:25.687Z"
   },
   {
    "duration": 178,
    "start_time": "2023-11-14T08:45:25.925Z"
   },
   {
    "duration": 178,
    "start_time": "2023-11-14T08:45:26.104Z"
   },
   {
    "duration": 137,
    "start_time": "2023-11-14T08:45:26.284Z"
   },
   {
    "duration": 208,
    "start_time": "2023-11-14T08:45:26.423Z"
   },
   {
    "duration": 209,
    "start_time": "2023-11-14T08:45:26.633Z"
   },
   {
    "duration": 283,
    "start_time": "2023-11-14T08:45:26.843Z"
   },
   {
    "duration": 4,
    "start_time": "2023-11-14T08:45:27.128Z"
   },
   {
    "duration": 5,
    "start_time": "2023-11-14T08:45:27.133Z"
   },
   {
    "duration": 236,
    "start_time": "2023-11-14T08:45:27.140Z"
   },
   {
    "duration": 2408,
    "start_time": "2023-11-14T08:45:27.378Z"
   },
   {
    "duration": 37,
    "start_time": "2023-11-14T08:45:29.787Z"
   },
   {
    "duration": 376,
    "start_time": "2023-11-14T08:45:29.825Z"
   },
   {
    "duration": 21,
    "start_time": "2023-11-14T08:45:30.203Z"
   },
   {
    "duration": 37,
    "start_time": "2023-11-14T08:45:30.225Z"
   },
   {
    "duration": 55,
    "start_time": "2023-11-14T08:45:56.705Z"
   },
   {
    "duration": 78,
    "start_time": "2023-11-14T08:49:22.900Z"
   },
   {
    "duration": 1404,
    "start_time": "2023-11-14T08:49:44.733Z"
   },
   {
    "duration": 2729,
    "start_time": "2023-11-14T08:49:46.139Z"
   },
   {
    "duration": 191,
    "start_time": "2023-11-14T08:49:48.870Z"
   },
   {
    "duration": 167,
    "start_time": "2023-11-14T08:49:49.063Z"
   },
   {
    "duration": 34,
    "start_time": "2023-11-14T08:49:49.231Z"
   },
   {
    "duration": 75,
    "start_time": "2023-11-14T08:49:49.266Z"
   },
   {
    "duration": 80,
    "start_time": "2023-11-14T08:49:49.343Z"
   },
   {
    "duration": 8,
    "start_time": "2023-11-14T08:49:49.424Z"
   },
   {
    "duration": 725,
    "start_time": "2023-11-14T08:49:49.434Z"
   },
   {
    "duration": 250,
    "start_time": "2023-11-14T08:49:50.162Z"
   },
   {
    "duration": 270,
    "start_time": "2023-11-14T08:49:50.414Z"
   },
   {
    "duration": 207,
    "start_time": "2023-11-14T08:49:50.685Z"
   },
   {
    "duration": 218,
    "start_time": "2023-11-14T08:49:50.894Z"
   },
   {
    "duration": 188,
    "start_time": "2023-11-14T08:49:51.114Z"
   },
   {
    "duration": 172,
    "start_time": "2023-11-14T08:49:51.310Z"
   },
   {
    "duration": 149,
    "start_time": "2023-11-14T08:49:51.484Z"
   },
   {
    "duration": 222,
    "start_time": "2023-11-14T08:49:51.634Z"
   },
   {
    "duration": 262,
    "start_time": "2023-11-14T08:49:51.858Z"
   },
   {
    "duration": 293,
    "start_time": "2023-11-14T08:49:52.121Z"
   },
   {
    "duration": 4,
    "start_time": "2023-11-14T08:49:52.415Z"
   },
   {
    "duration": 6,
    "start_time": "2023-11-14T08:49:52.421Z"
   },
   {
    "duration": 238,
    "start_time": "2023-11-14T08:49:52.429Z"
   },
   {
    "duration": 2408,
    "start_time": "2023-11-14T08:49:52.669Z"
   },
   {
    "duration": 35,
    "start_time": "2023-11-14T08:49:55.079Z"
   },
   {
    "duration": 363,
    "start_time": "2023-11-14T08:49:55.115Z"
   },
   {
    "duration": 17,
    "start_time": "2023-11-14T08:49:55.479Z"
   },
   {
    "duration": 17,
    "start_time": "2023-11-14T08:49:55.510Z"
   },
   {
    "duration": 398,
    "start_time": "2023-11-14T08:52:31.245Z"
   },
   {
    "duration": 378,
    "start_time": "2023-11-14T08:52:36.965Z"
   },
   {
    "duration": 374,
    "start_time": "2023-11-14T08:52:42.745Z"
   },
   {
    "duration": 176,
    "start_time": "2023-11-14T08:57:13.382Z"
   },
   {
    "duration": 1314,
    "start_time": "2023-11-14T08:58:40.535Z"
   },
   {
    "duration": 2593,
    "start_time": "2023-11-14T08:58:41.851Z"
   },
   {
    "duration": 178,
    "start_time": "2023-11-14T08:58:44.446Z"
   },
   {
    "duration": 182,
    "start_time": "2023-11-14T08:58:44.625Z"
   },
   {
    "duration": 34,
    "start_time": "2023-11-14T08:58:44.810Z"
   },
   {
    "duration": 68,
    "start_time": "2023-11-14T08:58:44.846Z"
   },
   {
    "duration": 70,
    "start_time": "2023-11-14T08:58:44.916Z"
   },
   {
    "duration": 8,
    "start_time": "2023-11-14T08:58:44.988Z"
   },
   {
    "duration": 730,
    "start_time": "2023-11-14T08:58:45.011Z"
   },
   {
    "duration": 250,
    "start_time": "2023-11-14T08:58:45.744Z"
   },
   {
    "duration": 268,
    "start_time": "2023-11-14T08:58:45.996Z"
   },
   {
    "duration": 213,
    "start_time": "2023-11-14T08:58:46.265Z"
   },
   {
    "duration": 222,
    "start_time": "2023-11-14T08:58:46.480Z"
   },
   {
    "duration": 183,
    "start_time": "2023-11-14T08:58:46.711Z"
   },
   {
    "duration": 177,
    "start_time": "2023-11-14T08:58:46.895Z"
   },
   {
    "duration": 154,
    "start_time": "2023-11-14T08:58:47.074Z"
   },
   {
    "duration": 205,
    "start_time": "2023-11-14T08:58:47.229Z"
   },
   {
    "duration": 214,
    "start_time": "2023-11-14T08:58:47.436Z"
   },
   {
    "duration": 289,
    "start_time": "2023-11-14T08:58:47.652Z"
   },
   {
    "duration": 4,
    "start_time": "2023-11-14T08:58:47.942Z"
   },
   {
    "duration": 6,
    "start_time": "2023-11-14T08:58:47.948Z"
   },
   {
    "duration": 233,
    "start_time": "2023-11-14T08:58:47.956Z"
   },
   {
    "duration": 2390,
    "start_time": "2023-11-14T08:58:48.190Z"
   },
   {
    "duration": 35,
    "start_time": "2023-11-14T08:58:50.582Z"
   },
   {
    "duration": 368,
    "start_time": "2023-11-14T08:58:50.619Z"
   },
   {
    "duration": 156,
    "start_time": "2023-11-14T09:19:45.165Z"
   },
   {
    "duration": 113,
    "start_time": "2023-11-14T09:20:05.104Z"
   },
   {
    "duration": 15,
    "start_time": "2023-11-14T09:20:18.284Z"
   },
   {
    "duration": 17,
    "start_time": "2023-11-14T09:20:23.263Z"
   },
   {
    "duration": 159,
    "start_time": "2023-11-14T09:20:46.064Z"
   },
   {
    "duration": 158,
    "start_time": "2023-11-14T09:20:58.367Z"
   },
   {
    "duration": 235,
    "start_time": "2023-11-14T09:22:57.896Z"
   },
   {
    "duration": 290,
    "start_time": "2023-11-14T09:23:10.520Z"
   },
   {
    "duration": 282,
    "start_time": "2023-11-14T09:23:20.744Z"
   },
   {
    "duration": 480,
    "start_time": "2023-11-14T09:24:16.034Z"
   },
   {
    "duration": 211,
    "start_time": "2023-11-14T09:24:25.237Z"
   },
   {
    "duration": 186,
    "start_time": "2023-11-14T09:24:32.604Z"
   },
   {
    "duration": 182,
    "start_time": "2023-11-14T09:24:38.975Z"
   },
   {
    "duration": 187,
    "start_time": "2023-11-14T09:24:45.599Z"
   },
   {
    "duration": 146,
    "start_time": "2023-11-14T09:25:08.066Z"
   },
   {
    "duration": 196,
    "start_time": "2023-11-14T09:25:53.604Z"
   },
   {
    "duration": 150,
    "start_time": "2023-11-14T09:29:40.443Z"
   },
   {
    "duration": 156,
    "start_time": "2023-11-14T09:31:47.355Z"
   },
   {
    "duration": 149,
    "start_time": "2023-11-14T09:31:59.952Z"
   },
   {
    "duration": 184,
    "start_time": "2023-11-14T09:32:30.637Z"
   },
   {
    "duration": 28,
    "start_time": "2023-11-14T09:54:49.389Z"
   },
   {
    "duration": 1440,
    "start_time": "2023-11-14T09:55:27.888Z"
   },
   {
    "duration": 2649,
    "start_time": "2023-11-14T09:55:29.331Z"
   },
   {
    "duration": 189,
    "start_time": "2023-11-14T09:55:31.982Z"
   },
   {
    "duration": 174,
    "start_time": "2023-11-14T09:55:32.173Z"
   },
   {
    "duration": 37,
    "start_time": "2023-11-14T09:55:32.348Z"
   },
   {
    "duration": 69,
    "start_time": "2023-11-14T09:55:32.386Z"
   },
   {
    "duration": 77,
    "start_time": "2023-11-14T09:55:32.457Z"
   },
   {
    "duration": 8,
    "start_time": "2023-11-14T09:55:32.536Z"
   },
   {
    "duration": 747,
    "start_time": "2023-11-14T09:55:32.546Z"
   },
   {
    "duration": 260,
    "start_time": "2023-11-14T09:55:33.295Z"
   },
   {
    "duration": 297,
    "start_time": "2023-11-14T09:55:33.556Z"
   },
   {
    "duration": 211,
    "start_time": "2023-11-14T09:55:33.855Z"
   },
   {
    "duration": 215,
    "start_time": "2023-11-14T09:55:34.067Z"
   },
   {
    "duration": 182,
    "start_time": "2023-11-14T09:55:34.284Z"
   },
   {
    "duration": 170,
    "start_time": "2023-11-14T09:55:34.468Z"
   },
   {
    "duration": 142,
    "start_time": "2023-11-14T09:55:34.640Z"
   },
   {
    "duration": 210,
    "start_time": "2023-11-14T09:55:34.784Z"
   },
   {
    "duration": 211,
    "start_time": "2023-11-14T09:55:34.996Z"
   },
   {
    "duration": 285,
    "start_time": "2023-11-14T09:55:35.210Z"
   },
   {
    "duration": 4,
    "start_time": "2023-11-14T09:55:35.496Z"
   },
   {
    "duration": 14,
    "start_time": "2023-11-14T09:55:35.502Z"
   },
   {
    "duration": 247,
    "start_time": "2023-11-14T09:55:35.518Z"
   },
   {
    "duration": 2380,
    "start_time": "2023-11-14T09:55:35.766Z"
   },
   {
    "duration": 25,
    "start_time": "2023-11-14T09:55:38.147Z"
   },
   {
    "duration": 404,
    "start_time": "2023-11-14T09:55:38.174Z"
   },
   {
    "duration": 205,
    "start_time": "2023-11-14T09:55:38.580Z"
   },
   {
    "duration": 1679,
    "start_time": "2023-11-14T10:14:06.578Z"
   },
   {
    "duration": 3805,
    "start_time": "2023-11-14T10:14:08.259Z"
   },
   {
    "duration": 389,
    "start_time": "2023-11-14T10:14:12.066Z"
   },
   {
    "duration": 315,
    "start_time": "2023-11-14T10:14:12.457Z"
   },
   {
    "duration": 94,
    "start_time": "2023-11-14T10:14:12.774Z"
   },
   {
    "duration": 114,
    "start_time": "2023-11-14T10:14:12.870Z"
   },
   {
    "duration": 178,
    "start_time": "2023-11-14T10:14:12.986Z"
   },
   {
    "duration": 9,
    "start_time": "2023-11-14T10:14:13.166Z"
   },
   {
    "duration": 1501,
    "start_time": "2023-11-14T10:14:13.177Z"
   },
   {
    "duration": 504,
    "start_time": "2023-11-14T10:14:14.680Z"
   },
   {
    "duration": 575,
    "start_time": "2023-11-14T10:14:15.186Z"
   },
   {
    "duration": 408,
    "start_time": "2023-11-14T10:14:15.763Z"
   },
   {
    "duration": 482,
    "start_time": "2023-11-14T10:14:16.172Z"
   },
   {
    "duration": 397,
    "start_time": "2023-11-14T10:14:16.656Z"
   },
   {
    "duration": 400,
    "start_time": "2023-11-14T10:14:17.055Z"
   },
   {
    "duration": 292,
    "start_time": "2023-11-14T10:14:17.456Z"
   },
   {
    "duration": 504,
    "start_time": "2023-11-14T10:14:17.750Z"
   },
   {
    "duration": 493,
    "start_time": "2023-11-14T10:14:18.255Z"
   },
   {
    "duration": 423,
    "start_time": "2023-11-14T10:14:18.750Z"
   },
   {
    "duration": 4,
    "start_time": "2023-11-14T10:14:19.175Z"
   },
   {
    "duration": 62,
    "start_time": "2023-11-14T10:14:19.181Z"
   },
   {
    "duration": 506,
    "start_time": "2023-11-14T10:14:19.246Z"
   },
   {
    "duration": 4894,
    "start_time": "2023-11-14T10:14:19.754Z"
   },
   {
    "duration": 96,
    "start_time": "2023-11-14T10:14:24.650Z"
   },
   {
    "duration": 906,
    "start_time": "2023-11-14T10:14:24.748Z"
   },
   {
    "duration": 405,
    "start_time": "2023-11-14T10:14:25.656Z"
   },
   {
    "duration": 21,
    "start_time": "2023-11-14T11:10:52.798Z"
   },
   {
    "duration": 9,
    "start_time": "2023-11-14T11:11:08.226Z"
   },
   {
    "duration": 84,
    "start_time": "2023-11-14T11:11:35.617Z"
   },
   {
    "duration": 1460,
    "start_time": "2023-11-15T07:13:45.680Z"
   },
   {
    "duration": 213,
    "start_time": "2023-11-15T07:13:48.421Z"
   },
   {
    "duration": 2818,
    "start_time": "2023-11-15T07:17:00.873Z"
   },
   {
    "duration": 12,
    "start_time": "2023-11-15T07:23:54.925Z"
   },
   {
    "duration": 119,
    "start_time": "2023-11-15T07:25:05.427Z"
   },
   {
    "duration": 1201,
    "start_time": "2023-11-15T07:25:27.204Z"
   },
   {
    "duration": 132,
    "start_time": "2023-11-15T07:25:28.407Z"
   },
   {
    "duration": 2587,
    "start_time": "2023-11-15T07:25:28.540Z"
   },
   {
    "duration": 183,
    "start_time": "2023-11-15T07:25:31.129Z"
   },
   {
    "duration": 162,
    "start_time": "2023-11-15T07:25:31.313Z"
   },
   {
    "duration": 35,
    "start_time": "2023-11-15T07:25:31.477Z"
   },
   {
    "duration": 68,
    "start_time": "2023-11-15T07:25:31.514Z"
   },
   {
    "duration": 76,
    "start_time": "2023-11-15T07:25:31.584Z"
   },
   {
    "duration": 35,
    "start_time": "2023-11-15T07:25:31.661Z"
   },
   {
    "duration": 755,
    "start_time": "2023-11-15T07:25:31.699Z"
   },
   {
    "duration": 248,
    "start_time": "2023-11-15T07:25:32.456Z"
   },
   {
    "duration": 286,
    "start_time": "2023-11-15T07:25:32.706Z"
   },
   {
    "duration": 213,
    "start_time": "2023-11-15T07:25:32.993Z"
   },
   {
    "duration": 223,
    "start_time": "2023-11-15T07:25:33.208Z"
   },
   {
    "duration": 188,
    "start_time": "2023-11-15T07:25:33.436Z"
   },
   {
    "duration": 171,
    "start_time": "2023-11-15T07:25:33.625Z"
   },
   {
    "duration": 135,
    "start_time": "2023-11-15T07:25:33.797Z"
   },
   {
    "duration": 272,
    "start_time": "2023-11-15T07:25:33.935Z"
   },
   {
    "duration": 203,
    "start_time": "2023-11-15T07:25:34.209Z"
   },
   {
    "duration": 165,
    "start_time": "2023-11-15T07:25:34.424Z"
   },
   {
    "duration": 5,
    "start_time": "2023-11-15T07:25:34.590Z"
   },
   {
    "duration": 15,
    "start_time": "2023-11-15T07:25:34.596Z"
   },
   {
    "duration": 239,
    "start_time": "2023-11-15T07:25:34.613Z"
   },
   {
    "duration": 2352,
    "start_time": "2023-11-15T07:25:34.854Z"
   },
   {
    "duration": 39,
    "start_time": "2023-11-15T07:25:37.208Z"
   },
   {
    "duration": 363,
    "start_time": "2023-11-15T07:25:37.249Z"
   },
   {
    "duration": 288,
    "start_time": "2023-11-15T07:25:37.614Z"
   },
   {
    "duration": 13,
    "start_time": "2023-11-15T07:29:40.037Z"
   },
   {
    "duration": 32,
    "start_time": "2023-11-15T07:29:49.077Z"
   },
   {
    "duration": 12,
    "start_time": "2023-11-15T07:29:59.593Z"
   },
   {
    "duration": 180,
    "start_time": "2023-11-15T07:31:10.958Z"
   },
   {
    "duration": 130,
    "start_time": "2023-11-15T07:31:38.457Z"
   },
   {
    "duration": 107,
    "start_time": "2023-11-15T07:32:05.547Z"
   },
   {
    "duration": 110,
    "start_time": "2023-11-15T07:32:13.748Z"
   },
   {
    "duration": 70,
    "start_time": "2023-11-15T07:35:03.146Z"
   },
   {
    "duration": 120,
    "start_time": "2023-11-15T07:35:47.853Z"
   },
   {
    "duration": 5,
    "start_time": "2023-11-15T07:35:51.383Z"
   },
   {
    "duration": 7,
    "start_time": "2023-11-15T07:36:32.049Z"
   },
   {
    "duration": 6,
    "start_time": "2023-11-15T07:37:00.276Z"
   },
   {
    "duration": 57,
    "start_time": "2023-11-15T07:37:17.745Z"
   },
   {
    "duration": 7,
    "start_time": "2023-11-15T07:42:16.388Z"
   },
   {
    "duration": 5,
    "start_time": "2023-11-15T07:44:18.588Z"
   },
   {
    "duration": 11,
    "start_time": "2023-11-15T07:45:01.441Z"
   },
   {
    "duration": 29,
    "start_time": "2023-11-15T07:45:06.633Z"
   },
   {
    "duration": 4,
    "start_time": "2023-11-15T07:45:12.793Z"
   },
   {
    "duration": 19,
    "start_time": "2023-11-15T07:49:20.096Z"
   },
   {
    "duration": 18,
    "start_time": "2023-11-15T07:49:54.189Z"
   },
   {
    "duration": 19,
    "start_time": "2023-11-15T07:50:12.056Z"
   },
   {
    "duration": 40,
    "start_time": "2023-11-15T07:50:45.071Z"
   },
   {
    "duration": 43,
    "start_time": "2023-11-15T07:50:58.825Z"
   },
   {
    "duration": 10,
    "start_time": "2023-11-15T07:51:12.105Z"
   },
   {
    "duration": 8,
    "start_time": "2023-11-15T07:51:25.251Z"
   },
   {
    "duration": 42,
    "start_time": "2023-11-15T07:52:13.185Z"
   },
   {
    "duration": 518,
    "start_time": "2023-11-15T07:52:24.028Z"
   },
   {
    "duration": 10,
    "start_time": "2023-11-15T07:53:34.855Z"
   },
   {
    "duration": 1295,
    "start_time": "2023-11-15T07:54:30.952Z"
   },
   {
    "duration": 9,
    "start_time": "2023-11-15T07:54:39.620Z"
   },
   {
    "duration": 106,
    "start_time": "2023-11-15T07:56:30.097Z"
   },
   {
    "duration": 5,
    "start_time": "2023-11-15T07:57:00.996Z"
   },
   {
    "duration": 5,
    "start_time": "2023-11-15T07:57:25.317Z"
   },
   {
    "duration": 7,
    "start_time": "2023-11-15T07:58:17.687Z"
   },
   {
    "duration": 8,
    "start_time": "2023-11-15T07:58:26.098Z"
   },
   {
    "duration": 5,
    "start_time": "2023-11-15T07:58:30.652Z"
   },
   {
    "duration": 6,
    "start_time": "2023-11-15T08:00:23.898Z"
   },
   {
    "duration": 6,
    "start_time": "2023-11-15T08:00:34.222Z"
   },
   {
    "duration": 6,
    "start_time": "2023-11-15T08:01:14.284Z"
   },
   {
    "duration": 6,
    "start_time": "2023-11-15T08:01:31.676Z"
   },
   {
    "duration": 1288,
    "start_time": "2023-11-15T08:05:03.373Z"
   },
   {
    "duration": 149,
    "start_time": "2023-11-15T08:05:04.663Z"
   },
   {
    "duration": 2802,
    "start_time": "2023-11-15T08:05:04.814Z"
   },
   {
    "duration": 195,
    "start_time": "2023-11-15T08:05:07.618Z"
   },
   {
    "duration": 178,
    "start_time": "2023-11-15T08:05:07.814Z"
   },
   {
    "duration": 53,
    "start_time": "2023-11-15T08:05:07.994Z"
   },
   {
    "duration": 7,
    "start_time": "2023-11-15T08:05:08.049Z"
   },
   {
    "duration": 61,
    "start_time": "2023-11-15T08:05:08.058Z"
   },
   {
    "duration": 25,
    "start_time": "2023-11-15T08:05:08.121Z"
   },
   {
    "duration": 69,
    "start_time": "2023-11-15T08:05:08.150Z"
   },
   {
    "duration": 30,
    "start_time": "2023-11-15T08:05:08.221Z"
   },
   {
    "duration": 797,
    "start_time": "2023-11-15T08:05:08.253Z"
   },
   {
    "duration": 252,
    "start_time": "2023-11-15T08:05:09.052Z"
   },
   {
    "duration": 311,
    "start_time": "2023-11-15T08:05:09.306Z"
   },
   {
    "duration": 224,
    "start_time": "2023-11-15T08:05:09.618Z"
   },
   {
    "duration": 222,
    "start_time": "2023-11-15T08:05:09.848Z"
   },
   {
    "duration": 184,
    "start_time": "2023-11-15T08:05:10.072Z"
   },
   {
    "duration": 194,
    "start_time": "2023-11-15T08:05:10.257Z"
   },
   {
    "duration": 153,
    "start_time": "2023-11-15T08:05:10.453Z"
   },
   {
    "duration": 210,
    "start_time": "2023-11-15T08:05:10.607Z"
   },
   {
    "duration": 312,
    "start_time": "2023-11-15T08:05:10.818Z"
   },
   {
    "duration": 176,
    "start_time": "2023-11-15T08:05:11.132Z"
   },
   {
    "duration": 4,
    "start_time": "2023-11-15T08:05:11.309Z"
   },
   {
    "duration": 12,
    "start_time": "2023-11-15T08:05:11.315Z"
   },
   {
    "duration": 237,
    "start_time": "2023-11-15T08:05:11.328Z"
   },
   {
    "duration": 2524,
    "start_time": "2023-11-15T08:05:11.567Z"
   },
   {
    "duration": 23,
    "start_time": "2023-11-15T08:05:14.093Z"
   },
   {
    "duration": 395,
    "start_time": "2023-11-15T08:05:14.119Z"
   },
   {
    "duration": 195,
    "start_time": "2023-11-15T08:05:14.515Z"
   },
   {
    "duration": 123,
    "start_time": "2023-11-15T08:10:33.244Z"
   },
   {
    "duration": 267,
    "start_time": "2023-11-15T08:11:59.988Z"
   },
   {
    "duration": 401,
    "start_time": "2023-11-15T08:14:28.852Z"
   },
   {
    "duration": 259,
    "start_time": "2023-11-15T08:17:43.310Z"
   },
   {
    "duration": 263,
    "start_time": "2023-11-15T08:17:57.896Z"
   },
   {
    "duration": 255,
    "start_time": "2023-11-15T08:18:04.378Z"
   },
   {
    "duration": 261,
    "start_time": "2023-11-15T08:18:12.056Z"
   },
   {
    "duration": 266,
    "start_time": "2023-11-15T08:18:27.126Z"
   },
   {
    "duration": 341,
    "start_time": "2023-11-15T08:18:47.366Z"
   },
   {
    "duration": 232,
    "start_time": "2023-11-15T08:18:55.817Z"
   },
   {
    "duration": 236,
    "start_time": "2023-11-15T08:19:04.176Z"
   },
   {
    "duration": 225,
    "start_time": "2023-11-15T08:32:41.252Z"
   },
   {
    "duration": 393,
    "start_time": "2023-11-15T08:32:52.016Z"
   },
   {
    "duration": 265,
    "start_time": "2023-11-15T08:32:58.919Z"
   },
   {
    "duration": 340,
    "start_time": "2023-11-15T08:34:03.932Z"
   },
   {
    "duration": 318,
    "start_time": "2023-11-15T08:34:10.992Z"
   },
   {
    "duration": 356,
    "start_time": "2023-11-15T08:34:23.415Z"
   },
   {
    "duration": 368,
    "start_time": "2023-11-15T08:35:22.684Z"
   },
   {
    "duration": 355,
    "start_time": "2023-11-15T08:35:36.255Z"
   },
   {
    "duration": 335,
    "start_time": "2023-11-15T08:35:52.230Z"
   },
   {
    "duration": 13,
    "start_time": "2023-11-15T08:37:34.084Z"
   },
   {
    "duration": 16,
    "start_time": "2023-11-15T08:38:09.936Z"
   },
   {
    "duration": 10,
    "start_time": "2023-11-15T08:39:13.916Z"
   },
   {
    "duration": 13,
    "start_time": "2023-11-15T08:41:18.884Z"
   },
   {
    "duration": 916,
    "start_time": "2023-11-15T08:41:33.639Z"
   },
   {
    "duration": 10,
    "start_time": "2023-11-15T08:41:48.916Z"
   },
   {
    "duration": 6,
    "start_time": "2023-11-15T08:45:02.361Z"
   },
   {
    "duration": 6,
    "start_time": "2023-11-15T08:45:14.682Z"
   },
   {
    "duration": 3,
    "start_time": "2023-11-15T08:45:55.396Z"
   },
   {
    "duration": 6,
    "start_time": "2023-11-15T08:46:00.566Z"
   },
   {
    "duration": 43,
    "start_time": "2023-11-15T08:46:49.880Z"
   },
   {
    "duration": 15,
    "start_time": "2023-11-15T08:47:23.508Z"
   },
   {
    "duration": 13,
    "start_time": "2023-11-15T08:47:29.574Z"
   },
   {
    "duration": 12,
    "start_time": "2023-11-15T08:47:33.019Z"
   },
   {
    "duration": 4,
    "start_time": "2023-11-15T08:47:51.600Z"
   },
   {
    "duration": 10,
    "start_time": "2023-11-15T08:47:58.360Z"
   },
   {
    "duration": 23,
    "start_time": "2023-11-15T08:48:23.806Z"
   },
   {
    "duration": 18,
    "start_time": "2023-11-15T08:48:33.643Z"
   },
   {
    "duration": 23,
    "start_time": "2023-11-15T08:48:54.532Z"
   },
   {
    "duration": 5,
    "start_time": "2023-11-15T08:52:40.154Z"
   },
   {
    "duration": 6,
    "start_time": "2023-11-15T08:52:45.878Z"
   },
   {
    "duration": 5,
    "start_time": "2023-11-15T08:52:49.357Z"
   },
   {
    "duration": 8,
    "start_time": "2023-11-15T08:54:03.625Z"
   },
   {
    "duration": 6,
    "start_time": "2023-11-15T08:54:11.207Z"
   },
   {
    "duration": 12,
    "start_time": "2023-11-15T08:54:45.408Z"
   },
   {
    "duration": 13,
    "start_time": "2023-11-15T08:55:27.506Z"
   },
   {
    "duration": 3314,
    "start_time": "2023-11-15T08:57:21.750Z"
   },
   {
    "duration": 333,
    "start_time": "2023-11-15T08:57:45.040Z"
   },
   {
    "duration": 557,
    "start_time": "2023-11-15T08:58:12.052Z"
   },
   {
    "duration": 354,
    "start_time": "2023-11-15T08:58:50.676Z"
   },
   {
    "duration": 365,
    "start_time": "2023-11-15T08:58:59.131Z"
   },
   {
    "duration": 395,
    "start_time": "2023-11-15T08:59:07.344Z"
   },
   {
    "duration": 345,
    "start_time": "2023-11-15T08:59:14.142Z"
   },
   {
    "duration": 14,
    "start_time": "2023-11-15T08:59:44.799Z"
   },
   {
    "duration": 12,
    "start_time": "2023-11-15T09:00:12.253Z"
   },
   {
    "duration": 392,
    "start_time": "2023-11-15T09:28:11.180Z"
   },
   {
    "duration": 15,
    "start_time": "2023-11-15T09:30:38.179Z"
   },
   {
    "duration": 10,
    "start_time": "2023-11-15T09:31:05.962Z"
   },
   {
    "duration": 10,
    "start_time": "2023-11-15T09:31:15.339Z"
   },
   {
    "duration": 50,
    "start_time": "2023-11-15T09:31:49.497Z"
   },
   {
    "duration": 11,
    "start_time": "2023-11-15T09:32:38.397Z"
   },
   {
    "duration": 13,
    "start_time": "2023-11-15T09:33:31.353Z"
   },
   {
    "duration": 254,
    "start_time": "2023-11-15T09:34:23.500Z"
   },
   {
    "duration": 229,
    "start_time": "2023-11-15T09:36:34.358Z"
   },
   {
    "duration": 218,
    "start_time": "2023-11-15T09:36:57.954Z"
   },
   {
    "duration": 243,
    "start_time": "2023-11-15T09:37:07.460Z"
   },
   {
    "duration": 251,
    "start_time": "2023-11-15T09:37:34.403Z"
   },
   {
    "duration": 224,
    "start_time": "2023-11-15T09:38:06.183Z"
   },
   {
    "duration": 230,
    "start_time": "2023-11-15T09:38:22.534Z"
   },
   {
    "duration": 229,
    "start_time": "2023-11-15T09:38:39.582Z"
   },
   {
    "duration": 233,
    "start_time": "2023-11-15T09:39:01.141Z"
   },
   {
    "duration": 672,
    "start_time": "2023-11-15T09:39:33.483Z"
   },
   {
    "duration": 347,
    "start_time": "2023-11-15T09:39:42.882Z"
   },
   {
    "duration": 352,
    "start_time": "2023-11-15T09:39:58.980Z"
   },
   {
    "duration": 392,
    "start_time": "2023-11-15T09:40:15.390Z"
   },
   {
    "duration": 332,
    "start_time": "2023-11-15T09:42:14.382Z"
   },
   {
    "duration": 162,
    "start_time": "2023-11-15T09:42:22.662Z"
   },
   {
    "duration": 352,
    "start_time": "2023-11-15T09:42:27.780Z"
   },
   {
    "duration": 213,
    "start_time": "2023-11-15T09:49:45.103Z"
   },
   {
    "duration": 206,
    "start_time": "2023-11-15T09:50:22.090Z"
   },
   {
    "duration": 242,
    "start_time": "2023-11-15T09:51:22.113Z"
   },
   {
    "duration": 230,
    "start_time": "2023-11-15T09:51:31.520Z"
   },
   {
    "duration": 201,
    "start_time": "2023-11-15T09:51:39.754Z"
   },
   {
    "duration": 214,
    "start_time": "2023-11-15T09:51:49.502Z"
   },
   {
    "duration": 221,
    "start_time": "2023-11-15T09:52:22.847Z"
   },
   {
    "duration": 211,
    "start_time": "2023-11-15T09:52:45.165Z"
   },
   {
    "duration": 197,
    "start_time": "2023-11-15T09:52:57.661Z"
   },
   {
    "duration": 214,
    "start_time": "2023-11-15T09:53:26.191Z"
   },
   {
    "duration": 223,
    "start_time": "2023-11-15T09:53:30.648Z"
   },
   {
    "duration": 219,
    "start_time": "2023-11-15T09:53:44.504Z"
   },
   {
    "duration": 108,
    "start_time": "2023-11-15T09:53:58.045Z"
   },
   {
    "duration": 255,
    "start_time": "2023-11-15T09:54:01.523Z"
   },
   {
    "duration": 239,
    "start_time": "2023-11-15T09:54:12.566Z"
   },
   {
    "duration": 210,
    "start_time": "2023-11-15T09:54:18.428Z"
   },
   {
    "duration": 241,
    "start_time": "2023-11-15T09:54:22.343Z"
   },
   {
    "duration": 259,
    "start_time": "2023-11-15T09:54:25.822Z"
   },
   {
    "duration": 278,
    "start_time": "2023-11-15T09:54:30.702Z"
   },
   {
    "duration": 214,
    "start_time": "2023-11-15T09:54:46.703Z"
   },
   {
    "duration": 1541,
    "start_time": "2023-11-15T09:55:14.125Z"
   },
   {
    "duration": 275,
    "start_time": "2023-11-15T09:55:24.638Z"
   },
   {
    "duration": 233,
    "start_time": "2023-11-15T09:55:31.701Z"
   },
   {
    "duration": 206,
    "start_time": "2023-11-15T09:56:28.448Z"
   },
   {
    "duration": 6,
    "start_time": "2023-11-15T10:31:21.519Z"
   },
   {
    "duration": 1293,
    "start_time": "2023-11-15T10:31:42.049Z"
   },
   {
    "duration": 152,
    "start_time": "2023-11-15T10:31:43.345Z"
   },
   {
    "duration": 2778,
    "start_time": "2023-11-15T10:31:43.498Z"
   },
   {
    "duration": 192,
    "start_time": "2023-11-15T10:31:46.278Z"
   },
   {
    "duration": 181,
    "start_time": "2023-11-15T10:31:46.472Z"
   },
   {
    "duration": 43,
    "start_time": "2023-11-15T10:31:46.656Z"
   },
   {
    "duration": 7,
    "start_time": "2023-11-15T10:31:46.701Z"
   },
   {
    "duration": 79,
    "start_time": "2023-11-15T10:31:46.709Z"
   },
   {
    "duration": 9,
    "start_time": "2023-11-15T10:31:46.790Z"
   },
   {
    "duration": 86,
    "start_time": "2023-11-15T10:31:46.801Z"
   },
   {
    "duration": 11,
    "start_time": "2023-11-15T10:31:46.889Z"
   },
   {
    "duration": 774,
    "start_time": "2023-11-15T10:31:46.901Z"
   },
   {
    "duration": 334,
    "start_time": "2023-11-15T10:31:47.677Z"
   },
   {
    "duration": 322,
    "start_time": "2023-11-15T10:31:48.013Z"
   },
   {
    "duration": 219,
    "start_time": "2023-11-15T10:31:48.337Z"
   },
   {
    "duration": 203,
    "start_time": "2023-11-15T10:31:48.558Z"
   },
   {
    "duration": 192,
    "start_time": "2023-11-15T10:31:48.764Z"
   },
   {
    "duration": 183,
    "start_time": "2023-11-15T10:31:48.959Z"
   },
   {
    "duration": 163,
    "start_time": "2023-11-15T10:31:49.146Z"
   },
   {
    "duration": 235,
    "start_time": "2023-11-15T10:31:49.311Z"
   },
   {
    "duration": 214,
    "start_time": "2023-11-15T10:31:49.553Z"
   },
   {
    "duration": 254,
    "start_time": "2023-11-15T10:31:49.769Z"
   },
   {
    "duration": 24,
    "start_time": "2023-11-15T10:31:50.025Z"
   },
   {
    "duration": 24,
    "start_time": "2023-11-15T10:31:50.051Z"
   },
   {
    "duration": 277,
    "start_time": "2023-11-15T10:31:50.077Z"
   },
   {
    "duration": 2578,
    "start_time": "2023-11-15T10:31:50.357Z"
   },
   {
    "duration": 25,
    "start_time": "2023-11-15T10:31:52.939Z"
   },
   {
    "duration": 415,
    "start_time": "2023-11-15T10:31:52.967Z"
   },
   {
    "duration": 205,
    "start_time": "2023-11-15T10:31:53.384Z"
   },
   {
    "duration": 356,
    "start_time": "2023-11-15T10:32:19.699Z"
   },
   {
    "duration": 378,
    "start_time": "2023-11-15T10:32:39.197Z"
   },
   {
    "duration": 298,
    "start_time": "2023-11-15T10:33:02.877Z"
   },
   {
    "duration": 337,
    "start_time": "2023-11-15T10:33:20.461Z"
   },
   {
    "duration": 301,
    "start_time": "2023-11-15T10:33:45.987Z"
   },
   {
    "duration": 276,
    "start_time": "2023-11-15T10:33:52.678Z"
   },
   {
    "duration": 253,
    "start_time": "2023-11-15T10:34:01.957Z"
   },
   {
    "duration": 275,
    "start_time": "2023-11-15T10:34:12.626Z"
   },
   {
    "duration": 241,
    "start_time": "2023-11-15T10:34:48.053Z"
   },
   {
    "duration": 244,
    "start_time": "2023-11-15T10:34:58.233Z"
   },
   {
    "duration": 201,
    "start_time": "2023-11-15T10:35:07.598Z"
   },
   {
    "duration": 1791,
    "start_time": "2023-11-15T10:37:35.939Z"
   },
   {
    "duration": 99,
    "start_time": "2023-11-15T10:38:12.972Z"
   },
   {
    "duration": 111,
    "start_time": "2023-11-15T10:38:36.091Z"
   },
   {
    "duration": 188,
    "start_time": "2023-11-15T10:39:47.801Z"
   },
   {
    "duration": 898,
    "start_time": "2023-11-15T10:40:11.821Z"
   },
   {
    "duration": 1005,
    "start_time": "2023-11-15T10:40:44.405Z"
   },
   {
    "duration": 985,
    "start_time": "2023-11-15T10:42:16.033Z"
   },
   {
    "duration": 533,
    "start_time": "2023-11-15T11:10:21.257Z"
   },
   {
    "duration": 595,
    "start_time": "2023-11-15T11:10:36.879Z"
   },
   {
    "duration": 515,
    "start_time": "2023-11-15T11:10:42.459Z"
   },
   {
    "duration": 7,
    "start_time": "2023-11-15T11:14:47.984Z"
   },
   {
    "duration": 9,
    "start_time": "2023-11-15T11:14:56.872Z"
   },
   {
    "duration": 10,
    "start_time": "2023-11-15T11:15:32.678Z"
   },
   {
    "duration": 18,
    "start_time": "2023-11-15T11:17:36.019Z"
   },
   {
    "duration": 94,
    "start_time": "2023-11-15T11:19:07.332Z"
   },
   {
    "duration": 81,
    "start_time": "2023-11-15T11:19:40.491Z"
   },
   {
    "duration": 80,
    "start_time": "2023-11-15T11:20:02.562Z"
   },
   {
    "duration": 19,
    "start_time": "2023-11-15T11:20:09.552Z"
   },
   {
    "duration": 24,
    "start_time": "2023-11-15T11:20:26.073Z"
   },
   {
    "duration": 19,
    "start_time": "2023-11-15T11:20:42.371Z"
   },
   {
    "duration": 20,
    "start_time": "2023-11-15T11:21:09.195Z"
   },
   {
    "duration": 277,
    "start_time": "2023-11-15T13:01:05.788Z"
   },
   {
    "duration": 252,
    "start_time": "2023-11-15T13:01:16.720Z"
   },
   {
    "duration": 274,
    "start_time": "2023-11-15T13:01:27.114Z"
   },
   {
    "duration": 418,
    "start_time": "2023-11-15T13:01:51.178Z"
   },
   {
    "duration": 277,
    "start_time": "2023-11-15T13:02:04.444Z"
   },
   {
    "duration": 271,
    "start_time": "2023-11-15T13:02:25.799Z"
   },
   {
    "duration": 285,
    "start_time": "2023-11-15T13:03:19.311Z"
   },
   {
    "duration": 218,
    "start_time": "2023-11-15T13:03:29.328Z"
   },
   {
    "duration": 256,
    "start_time": "2023-11-15T13:03:45.269Z"
   },
   {
    "duration": 329,
    "start_time": "2023-11-15T13:04:21.000Z"
   },
   {
    "duration": 265,
    "start_time": "2023-11-15T13:04:28.605Z"
   },
   {
    "duration": 21,
    "start_time": "2023-11-15T13:06:36.169Z"
   },
   {
    "duration": 17,
    "start_time": "2023-11-15T13:07:42.188Z"
   },
   {
    "duration": 1250,
    "start_time": "2023-11-15T13:10:14.962Z"
   },
   {
    "duration": 144,
    "start_time": "2023-11-15T13:10:16.215Z"
   },
   {
    "duration": 2680,
    "start_time": "2023-11-15T13:10:16.361Z"
   },
   {
    "duration": 195,
    "start_time": "2023-11-15T13:10:19.043Z"
   },
   {
    "duration": 168,
    "start_time": "2023-11-15T13:10:19.240Z"
   },
   {
    "duration": 44,
    "start_time": "2023-11-15T13:10:19.410Z"
   },
   {
    "duration": 7,
    "start_time": "2023-11-15T13:10:19.456Z"
   },
   {
    "duration": 72,
    "start_time": "2023-11-15T13:10:19.464Z"
   },
   {
    "duration": 10,
    "start_time": "2023-11-15T13:10:19.537Z"
   },
   {
    "duration": 91,
    "start_time": "2023-11-15T13:10:19.549Z"
   },
   {
    "duration": 10,
    "start_time": "2023-11-15T13:10:19.642Z"
   },
   {
    "duration": 738,
    "start_time": "2023-11-15T13:10:19.654Z"
   },
   {
    "duration": 22,
    "start_time": "2023-11-15T13:10:20.394Z"
   },
   {
    "duration": 105,
    "start_time": "2023-11-15T13:10:20.418Z"
   },
   {
    "duration": 0,
    "start_time": "2023-11-15T13:10:20.524Z"
   },
   {
    "duration": 0,
    "start_time": "2023-11-15T13:10:20.525Z"
   },
   {
    "duration": 0,
    "start_time": "2023-11-15T13:10:20.526Z"
   },
   {
    "duration": 1,
    "start_time": "2023-11-15T13:10:20.527Z"
   },
   {
    "duration": 0,
    "start_time": "2023-11-15T13:10:20.529Z"
   },
   {
    "duration": 0,
    "start_time": "2023-11-15T13:10:20.530Z"
   },
   {
    "duration": 0,
    "start_time": "2023-11-15T13:10:20.531Z"
   },
   {
    "duration": 0,
    "start_time": "2023-11-15T13:10:20.532Z"
   },
   {
    "duration": 0,
    "start_time": "2023-11-15T13:10:20.533Z"
   },
   {
    "duration": 0,
    "start_time": "2023-11-15T13:10:20.534Z"
   },
   {
    "duration": 0,
    "start_time": "2023-11-15T13:10:20.536Z"
   },
   {
    "duration": 0,
    "start_time": "2023-11-15T13:10:20.538Z"
   },
   {
    "duration": 0,
    "start_time": "2023-11-15T13:10:20.539Z"
   },
   {
    "duration": 0,
    "start_time": "2023-11-15T13:10:20.540Z"
   },
   {
    "duration": 0,
    "start_time": "2023-11-15T13:10:20.541Z"
   },
   {
    "duration": 0,
    "start_time": "2023-11-15T13:10:20.543Z"
   },
   {
    "duration": 428,
    "start_time": "2023-11-15T13:11:55.090Z"
   },
   {
    "duration": 110,
    "start_time": "2023-11-15T13:12:07.319Z"
   },
   {
    "duration": 236,
    "start_time": "2023-11-15T13:12:20.100Z"
   },
   {
    "duration": 10,
    "start_time": "2023-11-15T13:12:44.011Z"
   },
   {
    "duration": 259,
    "start_time": "2023-11-15T13:12:58.979Z"
   },
   {
    "duration": 23,
    "start_time": "2023-11-15T13:14:10.545Z"
   },
   {
    "duration": 269,
    "start_time": "2023-11-15T13:14:15.811Z"
   },
   {
    "duration": 250,
    "start_time": "2023-11-15T13:14:22.216Z"
   },
   {
    "duration": 254,
    "start_time": "2023-11-15T13:14:33.749Z"
   },
   {
    "duration": 27,
    "start_time": "2023-11-15T13:15:00.532Z"
   },
   {
    "duration": 17,
    "start_time": "2023-11-15T13:15:15.376Z"
   },
   {
    "duration": 18,
    "start_time": "2023-11-15T13:15:24.027Z"
   },
   {
    "duration": 27,
    "start_time": "2023-11-15T13:15:27.137Z"
   },
   {
    "duration": 17,
    "start_time": "2023-11-15T13:15:30.323Z"
   },
   {
    "duration": 229,
    "start_time": "2023-11-15T13:15:31.284Z"
   },
   {
    "duration": 13,
    "start_time": "2023-11-15T13:15:39.668Z"
   },
   {
    "duration": 337,
    "start_time": "2023-11-15T13:15:40.676Z"
   },
   {
    "duration": 12,
    "start_time": "2023-11-15T13:15:56.076Z"
   },
   {
    "duration": 12,
    "start_time": "2023-11-15T13:16:06.976Z"
   },
   {
    "duration": 245,
    "start_time": "2023-11-15T13:16:08.173Z"
   },
   {
    "duration": 241,
    "start_time": "2023-11-15T13:16:13.037Z"
   },
   {
    "duration": 15,
    "start_time": "2023-11-15T13:16:30.721Z"
   },
   {
    "duration": 15,
    "start_time": "2023-11-15T13:16:55.273Z"
   },
   {
    "duration": 14,
    "start_time": "2023-11-15T13:17:07.916Z"
   },
   {
    "duration": 12,
    "start_time": "2023-11-15T13:17:29.097Z"
   },
   {
    "duration": 239,
    "start_time": "2023-11-15T13:17:30.645Z"
   },
   {
    "duration": 19,
    "start_time": "2023-11-15T13:17:34.329Z"
   },
   {
    "duration": 21,
    "start_time": "2023-11-15T13:18:00.394Z"
   },
   {
    "duration": 9,
    "start_time": "2023-11-15T13:18:12.056Z"
   },
   {
    "duration": 260,
    "start_time": "2023-11-15T13:18:18.171Z"
   },
   {
    "duration": 12,
    "start_time": "2023-11-15T13:18:46.846Z"
   },
   {
    "duration": 12,
    "start_time": "2023-11-15T13:19:07.814Z"
   },
   {
    "duration": 11,
    "start_time": "2023-11-15T13:19:15.157Z"
   },
   {
    "duration": 13,
    "start_time": "2023-11-15T13:19:25.894Z"
   },
   {
    "duration": 11,
    "start_time": "2023-11-15T13:19:49.722Z"
   },
   {
    "duration": 17,
    "start_time": "2023-11-15T13:20:32.336Z"
   },
   {
    "duration": 8,
    "start_time": "2023-11-15T13:20:39.841Z"
   },
   {
    "duration": 8,
    "start_time": "2023-11-15T13:20:51.715Z"
   },
   {
    "duration": 8,
    "start_time": "2023-11-15T13:20:55.383Z"
   },
   {
    "duration": 10,
    "start_time": "2023-11-15T13:20:59.215Z"
   },
   {
    "duration": 19,
    "start_time": "2023-11-15T13:21:03.332Z"
   },
   {
    "duration": 8,
    "start_time": "2023-11-15T13:21:22.274Z"
   },
   {
    "duration": 9,
    "start_time": "2023-11-15T13:22:06.112Z"
   },
   {
    "duration": 7,
    "start_time": "2023-11-15T13:22:10.975Z"
   },
   {
    "duration": 8,
    "start_time": "2023-11-15T13:22:22.692Z"
   },
   {
    "duration": 8,
    "start_time": "2023-11-15T13:22:29.626Z"
   },
   {
    "duration": 11,
    "start_time": "2023-11-15T13:22:46.343Z"
   },
   {
    "duration": 9,
    "start_time": "2023-11-15T13:23:08.163Z"
   },
   {
    "duration": 11,
    "start_time": "2023-11-15T13:23:18.254Z"
   },
   {
    "duration": 11,
    "start_time": "2023-11-15T13:24:15.902Z"
   },
   {
    "duration": 1276,
    "start_time": "2023-11-15T13:24:44.970Z"
   },
   {
    "duration": 145,
    "start_time": "2023-11-15T13:24:46.248Z"
   },
   {
    "duration": 2789,
    "start_time": "2023-11-15T13:24:46.395Z"
   },
   {
    "duration": 194,
    "start_time": "2023-11-15T13:24:49.186Z"
   },
   {
    "duration": 169,
    "start_time": "2023-11-15T13:24:49.382Z"
   },
   {
    "duration": 36,
    "start_time": "2023-11-15T13:24:49.553Z"
   },
   {
    "duration": 5,
    "start_time": "2023-11-15T13:24:49.591Z"
   },
   {
    "duration": 82,
    "start_time": "2023-11-15T13:24:49.597Z"
   },
   {
    "duration": 9,
    "start_time": "2023-11-15T13:24:49.681Z"
   },
   {
    "duration": 77,
    "start_time": "2023-11-15T13:24:49.691Z"
   },
   {
    "duration": 10,
    "start_time": "2023-11-15T13:24:49.769Z"
   },
   {
    "duration": 751,
    "start_time": "2023-11-15T13:24:49.781Z"
   },
   {
    "duration": 24,
    "start_time": "2023-11-15T13:24:50.534Z"
   },
   {
    "duration": 216,
    "start_time": "2023-11-15T13:24:50.562Z"
   },
   {
    "duration": 302,
    "start_time": "2023-11-15T13:24:50.780Z"
   },
   {
    "duration": 232,
    "start_time": "2023-11-15T13:24:51.084Z"
   },
   {
    "duration": 268,
    "start_time": "2023-11-15T13:24:51.318Z"
   },
   {
    "duration": 173,
    "start_time": "2023-11-15T13:24:51.587Z"
   },
   {
    "duration": 187,
    "start_time": "2023-11-15T13:24:51.763Z"
   },
   {
    "duration": 139,
    "start_time": "2023-11-15T13:24:51.952Z"
   },
   {
    "duration": 209,
    "start_time": "2023-11-15T13:24:52.092Z"
   },
   {
    "duration": 300,
    "start_time": "2023-11-15T13:24:52.302Z"
   },
   {
    "duration": 161,
    "start_time": "2023-11-15T13:24:52.604Z"
   },
   {
    "duration": 4,
    "start_time": "2023-11-15T13:24:52.766Z"
   },
   {
    "duration": 80,
    "start_time": "2023-11-15T13:24:52.772Z"
   },
   {
    "duration": 224,
    "start_time": "2023-11-15T13:24:52.853Z"
   },
   {
    "duration": 538,
    "start_time": "2023-11-15T13:24:53.078Z"
   },
   {
    "duration": 28,
    "start_time": "2023-11-15T13:24:53.618Z"
   },
   {
    "duration": 392,
    "start_time": "2023-11-15T13:24:53.648Z"
   },
   {
    "duration": 202,
    "start_time": "2023-11-15T13:24:54.048Z"
   },
   {
    "duration": 15,
    "start_time": "2023-11-15T13:25:44.673Z"
   },
   {
    "duration": 155,
    "start_time": "2023-11-15T13:26:02.145Z"
   },
   {
    "duration": 16,
    "start_time": "2023-11-15T13:26:10.712Z"
   },
   {
    "duration": 18,
    "start_time": "2023-11-15T13:26:15.374Z"
   },
   {
    "duration": 17,
    "start_time": "2023-11-15T13:26:25.314Z"
   },
   {
    "duration": 16,
    "start_time": "2023-11-15T13:26:52.986Z"
   },
   {
    "duration": 23,
    "start_time": "2023-11-15T13:27:04.035Z"
   },
   {
    "duration": 11,
    "start_time": "2023-11-15T13:27:19.505Z"
   },
   {
    "duration": 13,
    "start_time": "2023-11-15T13:27:34.062Z"
   },
   {
    "duration": 13,
    "start_time": "2023-11-15T13:27:37.792Z"
   },
   {
    "duration": 17,
    "start_time": "2023-11-15T13:27:56.563Z"
   },
   {
    "duration": 19,
    "start_time": "2023-11-15T13:28:11.549Z"
   },
   {
    "duration": 21,
    "start_time": "2023-11-15T13:28:32.748Z"
   },
   {
    "duration": 19,
    "start_time": "2023-11-15T13:28:43.377Z"
   },
   {
    "duration": 29,
    "start_time": "2023-11-15T13:28:50.430Z"
   },
   {
    "duration": 19,
    "start_time": "2023-11-15T13:28:56.290Z"
   },
   {
    "duration": 1253,
    "start_time": "2023-11-15T13:29:19.677Z"
   },
   {
    "duration": 150,
    "start_time": "2023-11-15T13:29:20.932Z"
   },
   {
    "duration": 2824,
    "start_time": "2023-11-15T13:29:21.084Z"
   },
   {
    "duration": 240,
    "start_time": "2023-11-15T13:29:23.910Z"
   },
   {
    "duration": 174,
    "start_time": "2023-11-15T13:29:24.152Z"
   },
   {
    "duration": 51,
    "start_time": "2023-11-15T13:29:24.327Z"
   },
   {
    "duration": 29,
    "start_time": "2023-11-15T13:29:24.380Z"
   },
   {
    "duration": 72,
    "start_time": "2023-11-15T13:29:24.412Z"
   },
   {
    "duration": 9,
    "start_time": "2023-11-15T13:29:24.486Z"
   },
   {
    "duration": 79,
    "start_time": "2023-11-15T13:29:24.498Z"
   },
   {
    "duration": 12,
    "start_time": "2023-11-15T13:29:24.578Z"
   },
   {
    "duration": 773,
    "start_time": "2023-11-15T13:29:24.591Z"
   },
   {
    "duration": 19,
    "start_time": "2023-11-15T13:29:25.365Z"
   },
   {
    "duration": 240,
    "start_time": "2023-11-15T13:29:25.386Z"
   },
   {
    "duration": 319,
    "start_time": "2023-11-15T13:29:25.628Z"
   },
   {
    "duration": 230,
    "start_time": "2023-11-15T13:29:25.950Z"
   },
   {
    "duration": 254,
    "start_time": "2023-11-15T13:29:26.181Z"
   },
   {
    "duration": 180,
    "start_time": "2023-11-15T13:29:26.439Z"
   },
   {
    "duration": 175,
    "start_time": "2023-11-15T13:29:26.621Z"
   },
   {
    "duration": 157,
    "start_time": "2023-11-15T13:29:26.798Z"
   },
   {
    "duration": 215,
    "start_time": "2023-11-15T13:29:26.957Z"
   },
   {
    "duration": 304,
    "start_time": "2023-11-15T13:29:27.174Z"
   },
   {
    "duration": 178,
    "start_time": "2023-11-15T13:29:27.480Z"
   },
   {
    "duration": 5,
    "start_time": "2023-11-15T13:29:27.660Z"
   },
   {
    "duration": 111,
    "start_time": "2023-11-15T13:29:27.666Z"
   },
   {
    "duration": 199,
    "start_time": "2023-11-15T13:29:27.779Z"
   },
   {
    "duration": 515,
    "start_time": "2023-11-15T13:29:27.979Z"
   },
   {
    "duration": 21,
    "start_time": "2023-11-15T13:29:28.497Z"
   },
   {
    "duration": 381,
    "start_time": "2023-11-15T13:29:28.520Z"
   },
   {
    "duration": 212,
    "start_time": "2023-11-15T13:29:28.903Z"
   },
   {
    "duration": 92,
    "start_time": "2023-11-15T13:30:23.884Z"
   },
   {
    "duration": 43,
    "start_time": "2023-11-15T13:30:48.125Z"
   },
   {
    "duration": 21,
    "start_time": "2023-11-15T13:30:54.574Z"
   },
   {
    "duration": 1272,
    "start_time": "2023-11-15T13:31:09.575Z"
   },
   {
    "duration": 158,
    "start_time": "2023-11-15T13:31:10.849Z"
   },
   {
    "duration": 2742,
    "start_time": "2023-11-15T13:31:11.008Z"
   },
   {
    "duration": 199,
    "start_time": "2023-11-15T13:31:13.753Z"
   },
   {
    "duration": 164,
    "start_time": "2023-11-15T13:31:13.954Z"
   },
   {
    "duration": 48,
    "start_time": "2023-11-15T13:31:14.120Z"
   },
   {
    "duration": 8,
    "start_time": "2023-11-15T13:31:14.170Z"
   },
   {
    "duration": 87,
    "start_time": "2023-11-15T13:31:14.180Z"
   },
   {
    "duration": 9,
    "start_time": "2023-11-15T13:31:14.269Z"
   },
   {
    "duration": 76,
    "start_time": "2023-11-15T13:31:14.280Z"
   },
   {
    "duration": 10,
    "start_time": "2023-11-15T13:31:14.358Z"
   },
   {
    "duration": 747,
    "start_time": "2023-11-15T13:31:14.369Z"
   },
   {
    "duration": 26,
    "start_time": "2023-11-15T13:31:15.118Z"
   },
   {
    "duration": 300,
    "start_time": "2023-11-15T13:31:15.146Z"
   },
   {
    "duration": 324,
    "start_time": "2023-11-15T13:31:15.452Z"
   },
   {
    "duration": 236,
    "start_time": "2023-11-15T13:31:15.778Z"
   },
   {
    "duration": 259,
    "start_time": "2023-11-15T13:31:16.016Z"
   },
   {
    "duration": 185,
    "start_time": "2023-11-15T13:31:16.278Z"
   },
   {
    "duration": 182,
    "start_time": "2023-11-15T13:31:16.465Z"
   },
   {
    "duration": 153,
    "start_time": "2023-11-15T13:31:16.653Z"
   },
   {
    "duration": 208,
    "start_time": "2023-11-15T13:31:16.808Z"
   },
   {
    "duration": 272,
    "start_time": "2023-11-15T13:31:17.018Z"
   },
   {
    "duration": 291,
    "start_time": "2023-11-15T13:31:17.292Z"
   },
   {
    "duration": 4,
    "start_time": "2023-11-15T13:31:17.585Z"
   },
   {
    "duration": 83,
    "start_time": "2023-11-15T13:31:17.590Z"
   },
   {
    "duration": 247,
    "start_time": "2023-11-15T13:31:17.675Z"
   },
   {
    "duration": 529,
    "start_time": "2023-11-15T13:31:17.924Z"
   },
   {
    "duration": 22,
    "start_time": "2023-11-15T13:31:18.456Z"
   },
   {
    "duration": 377,
    "start_time": "2023-11-15T13:31:18.480Z"
   },
   {
    "duration": 241,
    "start_time": "2023-11-15T13:31:18.858Z"
   },
   {
    "duration": 277,
    "start_time": "2023-11-15T13:32:22.479Z"
   },
   {
    "duration": 279,
    "start_time": "2023-11-15T13:32:27.848Z"
   },
   {
    "duration": 25,
    "start_time": "2023-11-15T13:32:47.629Z"
   },
   {
    "duration": 24,
    "start_time": "2023-11-15T13:33:06.328Z"
   },
   {
    "duration": 16,
    "start_time": "2023-11-15T13:33:08.812Z"
   },
   {
    "duration": 257,
    "start_time": "2023-11-15T13:33:09.695Z"
   },
   {
    "duration": 21,
    "start_time": "2023-11-15T13:33:13.026Z"
   },
   {
    "duration": 251,
    "start_time": "2023-11-15T13:33:14.248Z"
   },
   {
    "duration": 248,
    "start_time": "2023-11-15T13:33:33.975Z"
   },
   {
    "duration": 395,
    "start_time": "2023-11-15T13:34:06.352Z"
   },
   {
    "duration": 248,
    "start_time": "2023-11-15T13:34:19.304Z"
   },
   {
    "duration": 14,
    "start_time": "2023-11-15T13:34:50.653Z"
   },
   {
    "duration": 262,
    "start_time": "2023-11-15T13:34:59.097Z"
   },
   {
    "duration": 20,
    "start_time": "2023-11-15T13:35:20.330Z"
   },
   {
    "duration": 243,
    "start_time": "2023-11-15T13:35:41.269Z"
   },
   {
    "duration": 1281,
    "start_time": "2023-11-15T13:35:49.547Z"
   },
   {
    "duration": 147,
    "start_time": "2023-11-15T13:35:50.829Z"
   },
   {
    "duration": 2591,
    "start_time": "2023-11-15T13:35:50.977Z"
   },
   {
    "duration": 171,
    "start_time": "2023-11-15T13:35:53.570Z"
   },
   {
    "duration": 161,
    "start_time": "2023-11-15T13:35:53.742Z"
   },
   {
    "duration": 44,
    "start_time": "2023-11-15T13:35:53.905Z"
   },
   {
    "duration": 6,
    "start_time": "2023-11-15T13:35:53.951Z"
   },
   {
    "duration": 58,
    "start_time": "2023-11-15T13:35:53.958Z"
   },
   {
    "duration": 33,
    "start_time": "2023-11-15T13:35:54.018Z"
   },
   {
    "duration": 69,
    "start_time": "2023-11-15T13:35:54.054Z"
   },
   {
    "duration": 22,
    "start_time": "2023-11-15T13:35:54.125Z"
   },
   {
    "duration": 779,
    "start_time": "2023-11-15T13:35:54.149Z"
   },
   {
    "duration": 22,
    "start_time": "2023-11-15T13:35:54.930Z"
   },
   {
    "duration": 218,
    "start_time": "2023-11-15T13:35:54.954Z"
   },
   {
    "duration": 315,
    "start_time": "2023-11-15T13:35:55.174Z"
   },
   {
    "duration": 231,
    "start_time": "2023-11-15T13:35:55.490Z"
   },
   {
    "duration": 121,
    "start_time": "2023-11-15T13:35:55.722Z"
   },
   {
    "duration": 0,
    "start_time": "2023-11-15T13:35:55.845Z"
   },
   {
    "duration": 0,
    "start_time": "2023-11-15T13:35:55.850Z"
   },
   {
    "duration": 0,
    "start_time": "2023-11-15T13:35:55.851Z"
   },
   {
    "duration": 0,
    "start_time": "2023-11-15T13:35:55.851Z"
   },
   {
    "duration": 0,
    "start_time": "2023-11-15T13:35:55.853Z"
   },
   {
    "duration": 0,
    "start_time": "2023-11-15T13:35:55.854Z"
   },
   {
    "duration": 0,
    "start_time": "2023-11-15T13:35:55.855Z"
   },
   {
    "duration": 0,
    "start_time": "2023-11-15T13:35:55.856Z"
   },
   {
    "duration": 0,
    "start_time": "2023-11-15T13:35:55.858Z"
   },
   {
    "duration": 0,
    "start_time": "2023-11-15T13:35:55.859Z"
   },
   {
    "duration": 0,
    "start_time": "2023-11-15T13:35:55.860Z"
   },
   {
    "duration": 0,
    "start_time": "2023-11-15T13:35:55.862Z"
   },
   {
    "duration": 0,
    "start_time": "2023-11-15T13:35:55.862Z"
   },
   {
    "duration": 278,
    "start_time": "2023-11-15T13:36:13.076Z"
   },
   {
    "duration": 240,
    "start_time": "2023-11-15T13:37:01.265Z"
   },
   {
    "duration": 248,
    "start_time": "2023-11-15T13:37:11.517Z"
   },
   {
    "duration": 234,
    "start_time": "2023-11-15T13:37:17.468Z"
   },
   {
    "duration": 1370,
    "start_time": "2023-11-15T13:37:34.079Z"
   },
   {
    "duration": 149,
    "start_time": "2023-11-15T13:37:35.451Z"
   },
   {
    "duration": 2782,
    "start_time": "2023-11-15T13:37:35.602Z"
   },
   {
    "duration": 187,
    "start_time": "2023-11-15T13:37:38.386Z"
   },
   {
    "duration": 166,
    "start_time": "2023-11-15T13:37:38.575Z"
   },
   {
    "duration": 37,
    "start_time": "2023-11-15T13:37:38.744Z"
   },
   {
    "duration": 59,
    "start_time": "2023-11-15T13:37:38.783Z"
   },
   {
    "duration": 85,
    "start_time": "2023-11-15T13:37:38.845Z"
   },
   {
    "duration": 14,
    "start_time": "2023-11-15T13:37:38.932Z"
   },
   {
    "duration": 73,
    "start_time": "2023-11-15T13:37:38.953Z"
   },
   {
    "duration": 20,
    "start_time": "2023-11-15T13:37:39.028Z"
   },
   {
    "duration": 714,
    "start_time": "2023-11-15T13:37:39.053Z"
   },
   {
    "duration": 14,
    "start_time": "2023-11-15T13:37:39.768Z"
   },
   {
    "duration": 237,
    "start_time": "2023-11-15T13:37:39.784Z"
   },
   {
    "duration": 351,
    "start_time": "2023-11-15T13:37:40.023Z"
   },
   {
    "duration": 279,
    "start_time": "2023-11-15T13:37:40.377Z"
   },
   {
    "duration": 250,
    "start_time": "2023-11-15T13:37:40.658Z"
   },
   {
    "duration": 172,
    "start_time": "2023-11-15T13:37:40.909Z"
   },
   {
    "duration": 183,
    "start_time": "2023-11-15T13:37:41.083Z"
   },
   {
    "duration": 148,
    "start_time": "2023-11-15T13:37:41.268Z"
   },
   {
    "duration": 220,
    "start_time": "2023-11-15T13:37:41.418Z"
   },
   {
    "duration": 291,
    "start_time": "2023-11-15T13:37:41.648Z"
   },
   {
    "duration": 151,
    "start_time": "2023-11-15T13:37:41.944Z"
   },
   {
    "duration": 4,
    "start_time": "2023-11-15T13:37:42.096Z"
   },
   {
    "duration": 8,
    "start_time": "2023-11-15T13:37:42.101Z"
   },
   {
    "duration": 243,
    "start_time": "2023-11-15T13:37:42.111Z"
   },
   {
    "duration": 537,
    "start_time": "2023-11-15T13:37:42.356Z"
   },
   {
    "duration": 24,
    "start_time": "2023-11-15T13:37:42.896Z"
   },
   {
    "duration": 391,
    "start_time": "2023-11-15T13:37:42.921Z"
   },
   {
    "duration": 202,
    "start_time": "2023-11-15T13:37:43.313Z"
   },
   {
    "duration": 292,
    "start_time": "2023-11-15T13:37:59.515Z"
   },
   {
    "duration": 25,
    "start_time": "2023-11-15T13:47:21.222Z"
   },
   {
    "duration": 12,
    "start_time": "2023-11-15T13:47:33.589Z"
   },
   {
    "duration": 1236,
    "start_time": "2023-11-15T13:47:40.359Z"
   },
   {
    "duration": 161,
    "start_time": "2023-11-15T13:47:41.597Z"
   },
   {
    "duration": 2782,
    "start_time": "2023-11-15T13:47:41.760Z"
   },
   {
    "duration": 204,
    "start_time": "2023-11-15T13:47:44.545Z"
   },
   {
    "duration": 168,
    "start_time": "2023-11-15T13:47:44.751Z"
   },
   {
    "duration": 57,
    "start_time": "2023-11-15T13:47:44.921Z"
   },
   {
    "duration": 8,
    "start_time": "2023-11-15T13:47:44.979Z"
   },
   {
    "duration": 75,
    "start_time": "2023-11-15T13:47:44.988Z"
   },
   {
    "duration": 49,
    "start_time": "2023-11-15T13:47:45.065Z"
   },
   {
    "duration": 189,
    "start_time": "2023-11-15T13:47:45.117Z"
   },
   {
    "duration": 10,
    "start_time": "2023-11-15T13:47:45.308Z"
   },
   {
    "duration": 749,
    "start_time": "2023-11-15T13:47:45.319Z"
   },
   {
    "duration": 12,
    "start_time": "2023-11-15T13:47:46.070Z"
   },
   {
    "duration": 217,
    "start_time": "2023-11-15T13:47:46.083Z"
   },
   {
    "duration": 315,
    "start_time": "2023-11-15T13:47:46.301Z"
   },
   {
    "duration": 245,
    "start_time": "2023-11-15T13:47:46.618Z"
   },
   {
    "duration": 265,
    "start_time": "2023-11-15T13:47:46.865Z"
   },
   {
    "duration": 181,
    "start_time": "2023-11-15T13:47:47.132Z"
   },
   {
    "duration": 182,
    "start_time": "2023-11-15T13:47:47.315Z"
   },
   {
    "duration": 157,
    "start_time": "2023-11-15T13:47:47.498Z"
   },
   {
    "duration": 209,
    "start_time": "2023-11-15T13:47:47.657Z"
   },
   {
    "duration": 306,
    "start_time": "2023-11-15T13:47:47.868Z"
   },
   {
    "duration": 164,
    "start_time": "2023-11-15T13:47:48.176Z"
   },
   {
    "duration": 10,
    "start_time": "2023-11-15T13:47:48.342Z"
   },
   {
    "duration": 12,
    "start_time": "2023-11-15T13:47:48.353Z"
   },
   {
    "duration": 223,
    "start_time": "2023-11-15T13:47:48.366Z"
   },
   {
    "duration": 583,
    "start_time": "2023-11-15T13:47:48.591Z"
   },
   {
    "duration": 27,
    "start_time": "2023-11-15T13:47:49.177Z"
   },
   {
    "duration": 385,
    "start_time": "2023-11-15T13:47:49.206Z"
   },
   {
    "duration": 199,
    "start_time": "2023-11-15T13:47:49.593Z"
   },
   {
    "duration": 16,
    "start_time": "2023-11-15T13:48:09.043Z"
   },
   {
    "duration": 11,
    "start_time": "2023-11-15T13:48:27.910Z"
   },
   {
    "duration": 11,
    "start_time": "2023-11-15T13:48:32.967Z"
   },
   {
    "duration": 15,
    "start_time": "2023-11-15T13:51:27.169Z"
   },
   {
    "duration": 8,
    "start_time": "2023-11-15T13:51:44.610Z"
   },
   {
    "duration": 9,
    "start_time": "2023-11-15T13:51:50.010Z"
   },
   {
    "duration": 14,
    "start_time": "2023-11-15T13:52:04.225Z"
   },
   {
    "duration": 16,
    "start_time": "2023-11-15T13:52:10.450Z"
   },
   {
    "duration": 16,
    "start_time": "2023-11-15T13:52:21.776Z"
   },
   {
    "duration": 228,
    "start_time": "2023-11-15T13:52:22.669Z"
   },
   {
    "duration": 1295,
    "start_time": "2023-11-15T13:52:32.892Z"
   },
   {
    "duration": 145,
    "start_time": "2023-11-15T13:52:34.189Z"
   },
   {
    "duration": 2548,
    "start_time": "2023-11-15T13:52:34.336Z"
   },
   {
    "duration": 184,
    "start_time": "2023-11-15T13:52:36.886Z"
   },
   {
    "duration": 171,
    "start_time": "2023-11-15T13:52:37.072Z"
   },
   {
    "duration": 37,
    "start_time": "2023-11-15T13:52:37.245Z"
   },
   {
    "duration": 6,
    "start_time": "2023-11-15T13:52:37.284Z"
   },
   {
    "duration": 72,
    "start_time": "2023-11-15T13:52:37.291Z"
   },
   {
    "duration": 9,
    "start_time": "2023-11-15T13:52:37.365Z"
   },
   {
    "duration": 82,
    "start_time": "2023-11-15T13:52:37.377Z"
   },
   {
    "duration": 9,
    "start_time": "2023-11-15T13:52:37.461Z"
   },
   {
    "duration": 685,
    "start_time": "2023-11-15T13:52:37.472Z"
   },
   {
    "duration": 23,
    "start_time": "2023-11-15T13:52:38.158Z"
   },
   {
    "duration": 219,
    "start_time": "2023-11-15T13:52:38.183Z"
   },
   {
    "duration": 319,
    "start_time": "2023-11-15T13:52:38.403Z"
   },
   {
    "duration": 223,
    "start_time": "2023-11-15T13:52:38.724Z"
   },
   {
    "duration": 258,
    "start_time": "2023-11-15T13:52:38.948Z"
   },
   {
    "duration": 164,
    "start_time": "2023-11-15T13:52:39.208Z"
   },
   {
    "duration": 171,
    "start_time": "2023-11-15T13:52:39.373Z"
   },
   {
    "duration": 141,
    "start_time": "2023-11-15T13:52:39.545Z"
   },
   {
    "duration": 192,
    "start_time": "2023-11-15T13:52:39.688Z"
   },
   {
    "duration": 278,
    "start_time": "2023-11-15T13:52:39.881Z"
   },
   {
    "duration": 157,
    "start_time": "2023-11-15T13:52:40.160Z"
   },
   {
    "duration": 4,
    "start_time": "2023-11-15T13:52:40.319Z"
   },
   {
    "duration": 18,
    "start_time": "2023-11-15T13:52:40.324Z"
   },
   {
    "duration": 211,
    "start_time": "2023-11-15T13:52:40.343Z"
   },
   {
    "duration": 481,
    "start_time": "2023-11-15T13:52:40.555Z"
   },
   {
    "duration": 21,
    "start_time": "2023-11-15T13:52:41.039Z"
   },
   {
    "duration": 361,
    "start_time": "2023-11-15T13:52:41.062Z"
   },
   {
    "duration": 183,
    "start_time": "2023-11-15T13:52:41.425Z"
   },
   {
    "duration": 281,
    "start_time": "2023-11-15T13:53:07.489Z"
   },
   {
    "duration": 258,
    "start_time": "2023-11-15T13:53:16.429Z"
   },
   {
    "duration": 20,
    "start_time": "2023-11-15T13:53:42.479Z"
   },
   {
    "duration": 18,
    "start_time": "2023-11-15T13:53:48.162Z"
   },
   {
    "duration": 1178,
    "start_time": "2023-11-15T13:53:57.321Z"
   },
   {
    "duration": 139,
    "start_time": "2023-11-15T13:53:58.501Z"
   },
   {
    "duration": 2506,
    "start_time": "2023-11-15T13:53:58.642Z"
   },
   {
    "duration": 177,
    "start_time": "2023-11-15T13:54:01.151Z"
   },
   {
    "duration": 158,
    "start_time": "2023-11-15T13:54:01.330Z"
   },
   {
    "duration": 34,
    "start_time": "2023-11-15T13:54:01.490Z"
   },
   {
    "duration": 25,
    "start_time": "2023-11-15T13:54:01.526Z"
   },
   {
    "duration": 105,
    "start_time": "2023-11-15T13:54:01.553Z"
   },
   {
    "duration": 24,
    "start_time": "2023-11-15T13:54:01.659Z"
   },
   {
    "duration": 120,
    "start_time": "2023-11-15T13:54:01.687Z"
   },
   {
    "duration": 9,
    "start_time": "2023-11-15T13:54:01.809Z"
   },
   {
    "duration": 760,
    "start_time": "2023-11-15T13:54:01.820Z"
   },
   {
    "duration": 17,
    "start_time": "2023-11-15T13:54:02.582Z"
   },
   {
    "duration": 366,
    "start_time": "2023-11-15T13:54:02.600Z"
   },
   {
    "duration": 296,
    "start_time": "2023-11-15T13:54:02.967Z"
   },
   {
    "duration": 212,
    "start_time": "2023-11-15T13:54:03.264Z"
   },
   {
    "duration": 225,
    "start_time": "2023-11-15T13:54:03.477Z"
   },
   {
    "duration": 173,
    "start_time": "2023-11-15T13:54:03.704Z"
   },
   {
    "duration": 159,
    "start_time": "2023-11-15T13:54:03.879Z"
   },
   {
    "duration": 140,
    "start_time": "2023-11-15T13:54:04.040Z"
   },
   {
    "duration": 204,
    "start_time": "2023-11-15T13:54:04.182Z"
   },
   {
    "duration": 287,
    "start_time": "2023-11-15T13:54:04.388Z"
   },
   {
    "duration": 159,
    "start_time": "2023-11-15T13:54:04.676Z"
   },
   {
    "duration": 4,
    "start_time": "2023-11-15T13:54:04.837Z"
   },
   {
    "duration": 20,
    "start_time": "2023-11-15T13:54:04.842Z"
   },
   {
    "duration": 207,
    "start_time": "2023-11-15T13:54:04.863Z"
   },
   {
    "duration": 499,
    "start_time": "2023-11-15T13:54:05.071Z"
   },
   {
    "duration": 22,
    "start_time": "2023-11-15T13:54:05.573Z"
   },
   {
    "duration": 362,
    "start_time": "2023-11-15T13:54:05.597Z"
   },
   {
    "duration": 195,
    "start_time": "2023-11-15T13:54:05.960Z"
   },
   {
    "duration": 234,
    "start_time": "2023-11-15T13:54:30.687Z"
   },
   {
    "duration": 23,
    "start_time": "2023-11-15T13:54:41.789Z"
   },
   {
    "duration": 17,
    "start_time": "2023-11-15T13:54:45.677Z"
   },
   {
    "duration": 316,
    "start_time": "2023-11-15T13:54:53.369Z"
   },
   {
    "duration": 246,
    "start_time": "2023-11-15T13:55:16.649Z"
   },
   {
    "duration": 296,
    "start_time": "2023-11-15T13:55:54.121Z"
   },
   {
    "duration": 189,
    "start_time": "2023-11-15T13:56:02.337Z"
   },
   {
    "duration": 188,
    "start_time": "2023-11-15T13:56:08.250Z"
   },
   {
    "duration": 187,
    "start_time": "2023-11-15T13:56:12.383Z"
   },
   {
    "duration": 132,
    "start_time": "2023-11-15T13:56:29.911Z"
   },
   {
    "duration": 245,
    "start_time": "2023-11-15T13:56:38.935Z"
   },
   {
    "duration": 218,
    "start_time": "2023-11-15T13:56:43.983Z"
   },
   {
    "duration": 189,
    "start_time": "2023-11-15T13:56:56.891Z"
   },
   {
    "duration": 219,
    "start_time": "2023-11-15T13:57:06.183Z"
   },
   {
    "duration": 214,
    "start_time": "2023-11-15T13:57:21.722Z"
   },
   {
    "duration": 1166,
    "start_time": "2023-11-15T13:57:29.136Z"
   },
   {
    "duration": 159,
    "start_time": "2023-11-15T13:57:30.304Z"
   },
   {
    "duration": 2639,
    "start_time": "2023-11-15T13:57:30.465Z"
   },
   {
    "duration": 178,
    "start_time": "2023-11-15T13:57:33.106Z"
   },
   {
    "duration": 185,
    "start_time": "2023-11-15T13:57:33.285Z"
   },
   {
    "duration": 38,
    "start_time": "2023-11-15T13:57:33.471Z"
   },
   {
    "duration": 12,
    "start_time": "2023-11-15T13:57:33.511Z"
   },
   {
    "duration": 73,
    "start_time": "2023-11-15T13:57:33.524Z"
   },
   {
    "duration": 9,
    "start_time": "2023-11-15T13:57:33.599Z"
   },
   {
    "duration": 86,
    "start_time": "2023-11-15T13:57:33.611Z"
   },
   {
    "duration": 11,
    "start_time": "2023-11-15T13:57:33.700Z"
   },
   {
    "duration": 696,
    "start_time": "2023-11-15T13:57:33.712Z"
   },
   {
    "duration": 18,
    "start_time": "2023-11-15T13:57:34.410Z"
   },
   {
    "duration": 225,
    "start_time": "2023-11-15T13:57:34.436Z"
   },
   {
    "duration": 291,
    "start_time": "2023-11-15T13:57:34.662Z"
   },
   {
    "duration": 217,
    "start_time": "2023-11-15T13:57:34.955Z"
   },
   {
    "duration": 228,
    "start_time": "2023-11-15T13:57:35.174Z"
   },
   {
    "duration": 165,
    "start_time": "2023-11-15T13:57:35.404Z"
   },
   {
    "duration": 174,
    "start_time": "2023-11-15T13:57:35.571Z"
   },
   {
    "duration": 133,
    "start_time": "2023-11-15T13:57:35.747Z"
   },
   {
    "duration": 175,
    "start_time": "2023-11-15T13:57:35.882Z"
   },
   {
    "duration": 315,
    "start_time": "2023-11-15T13:57:36.059Z"
   },
   {
    "duration": 155,
    "start_time": "2023-11-15T13:57:36.376Z"
   },
   {
    "duration": 3,
    "start_time": "2023-11-15T13:57:36.535Z"
   },
   {
    "duration": 10,
    "start_time": "2023-11-15T13:57:36.540Z"
   },
   {
    "duration": 201,
    "start_time": "2023-11-15T13:57:36.552Z"
   },
   {
    "duration": 497,
    "start_time": "2023-11-15T13:57:36.755Z"
   },
   {
    "duration": 22,
    "start_time": "2023-11-15T13:57:37.255Z"
   },
   {
    "duration": 371,
    "start_time": "2023-11-15T13:57:37.279Z"
   },
   {
    "duration": 176,
    "start_time": "2023-11-15T13:57:37.652Z"
   },
   {
    "duration": 233,
    "start_time": "2023-11-15T13:57:48.342Z"
   },
   {
    "duration": 177,
    "start_time": "2023-11-15T13:57:55.522Z"
   },
   {
    "duration": 183,
    "start_time": "2023-11-15T13:58:07.030Z"
   },
   {
    "duration": 5,
    "start_time": "2023-11-15T13:58:15.396Z"
   },
   {
    "duration": 4,
    "start_time": "2023-11-15T13:58:20.204Z"
   },
   {
    "duration": 223,
    "start_time": "2023-11-15T13:58:24.644Z"
   },
   {
    "duration": 668,
    "start_time": "2023-11-15T13:58:38.608Z"
   },
   {
    "duration": 100,
    "start_time": "2023-11-15T14:03:04.760Z"
   },
   {
    "duration": 13,
    "start_time": "2023-11-15T14:03:12.182Z"
   },
   {
    "duration": 189,
    "start_time": "2023-11-15T14:04:31.576Z"
   },
   {
    "duration": 10,
    "start_time": "2023-11-15T14:04:58.731Z"
   },
   {
    "duration": 224,
    "start_time": "2023-11-15T14:05:35.116Z"
   },
   {
    "duration": 212,
    "start_time": "2023-11-15T14:06:03.600Z"
   },
   {
    "duration": 194,
    "start_time": "2023-11-15T14:06:43.583Z"
   },
   {
    "duration": 231,
    "start_time": "2023-11-15T14:07:04.116Z"
   },
   {
    "duration": 227,
    "start_time": "2023-11-15T14:10:57.801Z"
   },
   {
    "duration": 1408,
    "start_time": "2023-11-15T14:12:08.261Z"
   },
   {
    "duration": 50,
    "start_time": "2023-11-15T17:51:53.623Z"
   },
   {
    "duration": 1679,
    "start_time": "2023-11-15T17:52:37.746Z"
   },
   {
    "duration": 360,
    "start_time": "2023-11-15T17:52:39.428Z"
   },
   {
    "duration": 2767,
    "start_time": "2023-11-15T17:52:39.789Z"
   },
   {
    "duration": 194,
    "start_time": "2023-11-15T17:52:42.558Z"
   },
   {
    "duration": 161,
    "start_time": "2023-11-15T17:52:42.754Z"
   },
   {
    "duration": 36,
    "start_time": "2023-11-15T17:52:42.916Z"
   },
   {
    "duration": 16,
    "start_time": "2023-11-15T17:52:42.953Z"
   },
   {
    "duration": 53,
    "start_time": "2023-11-15T17:52:42.971Z"
   },
   {
    "duration": 10,
    "start_time": "2023-11-15T17:52:43.025Z"
   },
   {
    "duration": 88,
    "start_time": "2023-11-15T17:52:43.036Z"
   },
   {
    "duration": 9,
    "start_time": "2023-11-15T17:52:43.126Z"
   },
   {
    "duration": 701,
    "start_time": "2023-11-15T17:52:43.137Z"
   },
   {
    "duration": 25,
    "start_time": "2023-11-15T17:52:43.840Z"
   },
   {
    "duration": 235,
    "start_time": "2023-11-15T17:52:43.869Z"
   },
   {
    "duration": 316,
    "start_time": "2023-11-15T17:52:44.106Z"
   },
   {
    "duration": 222,
    "start_time": "2023-11-15T17:52:44.425Z"
   },
   {
    "duration": 244,
    "start_time": "2023-11-15T17:52:44.649Z"
   },
   {
    "duration": 179,
    "start_time": "2023-11-15T17:52:44.895Z"
   },
   {
    "duration": 167,
    "start_time": "2023-11-15T17:52:45.076Z"
   },
   {
    "duration": 147,
    "start_time": "2023-11-15T17:52:45.245Z"
   },
   {
    "duration": 178,
    "start_time": "2023-11-15T17:52:45.393Z"
   },
   {
    "duration": 251,
    "start_time": "2023-11-15T17:52:45.573Z"
   },
   {
    "duration": 154,
    "start_time": "2023-11-15T17:52:45.825Z"
   },
   {
    "duration": 4,
    "start_time": "2023-11-15T17:52:45.981Z"
   },
   {
    "duration": 5,
    "start_time": "2023-11-15T17:52:45.986Z"
   },
   {
    "duration": 222,
    "start_time": "2023-11-15T17:52:45.992Z"
   },
   {
    "duration": 615,
    "start_time": "2023-11-15T17:52:46.216Z"
   },
   {
    "duration": 215,
    "start_time": "2023-11-15T17:52:46.833Z"
   },
   {
    "duration": 222,
    "start_time": "2023-11-15T17:52:47.050Z"
   },
   {
    "duration": 204,
    "start_time": "2023-11-15T17:52:47.274Z"
   },
   {
    "duration": 5,
    "start_time": "2023-11-15T17:52:47.480Z"
   },
   {
    "duration": 0,
    "start_time": "2023-11-15T17:52:47.487Z"
   },
   {
    "duration": 0,
    "start_time": "2023-11-15T17:52:47.489Z"
   },
   {
    "duration": 0,
    "start_time": "2023-11-15T17:52:47.490Z"
   },
   {
    "duration": 16,
    "start_time": "2023-11-15T17:55:09.265Z"
   },
   {
    "duration": 1271,
    "start_time": "2023-11-15T17:55:19.670Z"
   },
   {
    "duration": 144,
    "start_time": "2023-11-15T17:55:20.943Z"
   },
   {
    "duration": 2706,
    "start_time": "2023-11-15T17:55:21.088Z"
   },
   {
    "duration": 195,
    "start_time": "2023-11-15T17:55:23.797Z"
   },
   {
    "duration": 172,
    "start_time": "2023-11-15T17:55:23.995Z"
   },
   {
    "duration": 38,
    "start_time": "2023-11-15T17:55:24.169Z"
   },
   {
    "duration": 6,
    "start_time": "2023-11-15T17:55:24.209Z"
   },
   {
    "duration": 77,
    "start_time": "2023-11-15T17:55:24.217Z"
   },
   {
    "duration": 9,
    "start_time": "2023-11-15T17:55:24.296Z"
   },
   {
    "duration": 81,
    "start_time": "2023-11-15T17:55:24.307Z"
   },
   {
    "duration": 10,
    "start_time": "2023-11-15T17:55:24.390Z"
   },
   {
    "duration": 740,
    "start_time": "2023-11-15T17:55:24.401Z"
   },
   {
    "duration": 25,
    "start_time": "2023-11-15T17:55:25.143Z"
   },
   {
    "duration": 236,
    "start_time": "2023-11-15T17:55:25.172Z"
   },
   {
    "duration": 309,
    "start_time": "2023-11-15T17:55:25.410Z"
   },
   {
    "duration": 245,
    "start_time": "2023-11-15T17:55:25.721Z"
   },
   {
    "duration": 239,
    "start_time": "2023-11-15T17:55:25.968Z"
   },
   {
    "duration": 164,
    "start_time": "2023-11-15T17:55:26.209Z"
   },
   {
    "duration": 173,
    "start_time": "2023-11-15T17:55:26.375Z"
   },
   {
    "duration": 143,
    "start_time": "2023-11-15T17:55:26.549Z"
   },
   {
    "duration": 182,
    "start_time": "2023-11-15T17:55:26.693Z"
   },
   {
    "duration": 259,
    "start_time": "2023-11-15T17:55:26.876Z"
   },
   {
    "duration": 157,
    "start_time": "2023-11-15T17:55:27.136Z"
   },
   {
    "duration": 4,
    "start_time": "2023-11-15T17:55:27.295Z"
   },
   {
    "duration": 5,
    "start_time": "2023-11-15T17:55:27.301Z"
   },
   {
    "duration": 218,
    "start_time": "2023-11-15T17:55:27.308Z"
   },
   {
    "duration": 584,
    "start_time": "2023-11-15T17:55:27.528Z"
   },
   {
    "duration": 205,
    "start_time": "2023-11-15T17:55:28.114Z"
   },
   {
    "duration": 203,
    "start_time": "2023-11-15T17:55:28.320Z"
   },
   {
    "duration": 204,
    "start_time": "2023-11-15T17:55:28.525Z"
   },
   {
    "duration": 3,
    "start_time": "2023-11-15T17:55:28.731Z"
   },
   {
    "duration": 0,
    "start_time": "2023-11-15T17:55:28.735Z"
   },
   {
    "duration": 0,
    "start_time": "2023-11-15T17:55:28.736Z"
   },
   {
    "duration": 0,
    "start_time": "2023-11-15T17:55:28.737Z"
   },
   {
    "duration": 199,
    "start_time": "2023-11-15T17:56:22.974Z"
   },
   {
    "duration": 203,
    "start_time": "2023-11-15T17:56:42.490Z"
   },
   {
    "duration": 2332,
    "start_time": "2023-11-15T18:05:45.069Z"
   },
   {
    "duration": 1234,
    "start_time": "2023-11-15T18:06:53.436Z"
   },
   {
    "duration": 361653,
    "start_time": "2023-11-15T18:07:10.894Z"
   },
   {
    "duration": 13,
    "start_time": "2023-11-15T18:13:54.315Z"
   },
   {
    "duration": 1638,
    "start_time": "2023-11-15T18:14:05.971Z"
   },
   {
    "duration": 441565,
    "start_time": "2023-11-15T18:16:23.118Z"
   },
   {
    "duration": 13,
    "start_time": "2023-11-15T18:23:52.781Z"
   },
   {
    "duration": 12,
    "start_time": "2023-11-15T18:24:02.958Z"
   },
   {
    "duration": 14,
    "start_time": "2023-11-15T18:24:27.756Z"
   },
   {
    "duration": 17,
    "start_time": "2023-11-15T18:24:35.426Z"
   },
   {
    "duration": 51,
    "start_time": "2023-11-15T18:25:43.388Z"
   },
   {
    "duration": 1236,
    "start_time": "2023-11-15T18:25:55.515Z"
   },
   {
    "duration": 345,
    "start_time": "2023-11-15T18:25:56.753Z"
   },
   {
    "duration": 2712,
    "start_time": "2023-11-15T18:25:57.100Z"
   },
   {
    "duration": 184,
    "start_time": "2023-11-15T18:25:59.814Z"
   },
   {
    "duration": 173,
    "start_time": "2023-11-15T18:26:00.001Z"
   },
   {
    "duration": 41,
    "start_time": "2023-11-15T18:26:00.176Z"
   },
   {
    "duration": 5,
    "start_time": "2023-11-15T18:26:00.219Z"
   },
   {
    "duration": 83,
    "start_time": "2023-11-15T18:26:00.226Z"
   },
   {
    "duration": 11,
    "start_time": "2023-11-15T18:26:00.311Z"
   },
   {
    "duration": 104,
    "start_time": "2023-11-15T18:26:00.323Z"
   },
   {
    "duration": 9,
    "start_time": "2023-11-15T18:26:00.429Z"
   },
   {
    "duration": 784,
    "start_time": "2023-11-15T18:26:00.440Z"
   },
   {
    "duration": 19,
    "start_time": "2023-11-15T18:26:01.226Z"
   },
   {
    "duration": 256,
    "start_time": "2023-11-15T18:26:01.249Z"
   },
   {
    "duration": 331,
    "start_time": "2023-11-15T18:26:01.507Z"
   },
   {
    "duration": 238,
    "start_time": "2023-11-15T18:26:01.840Z"
   },
   {
    "duration": 256,
    "start_time": "2023-11-15T18:26:02.080Z"
   },
   {
    "duration": 182,
    "start_time": "2023-11-15T18:26:02.337Z"
   },
   {
    "duration": 174,
    "start_time": "2023-11-15T18:26:02.521Z"
   },
   {
    "duration": 146,
    "start_time": "2023-11-15T18:26:02.697Z"
   },
   {
    "duration": 194,
    "start_time": "2023-11-15T18:26:02.844Z"
   },
   {
    "duration": 258,
    "start_time": "2023-11-15T18:26:03.040Z"
   },
   {
    "duration": 161,
    "start_time": "2023-11-15T18:26:03.300Z"
   },
   {
    "duration": 4,
    "start_time": "2023-11-15T18:26:03.466Z"
   },
   {
    "duration": 19,
    "start_time": "2023-11-15T18:26:03.473Z"
   },
   {
    "duration": 219,
    "start_time": "2023-11-15T18:26:03.493Z"
   },
   {
    "duration": 560,
    "start_time": "2023-11-15T18:26:03.714Z"
   },
   {
    "duration": 211,
    "start_time": "2023-11-15T18:26:04.276Z"
   },
   {
    "duration": 203,
    "start_time": "2023-11-15T18:26:04.489Z"
   },
   {
    "duration": 201,
    "start_time": "2023-11-15T18:26:04.693Z"
   },
   {
    "duration": 1247,
    "start_time": "2023-11-15T18:29:35.987Z"
   },
   {
    "duration": 154,
    "start_time": "2023-11-15T18:29:37.236Z"
   },
   {
    "duration": 2668,
    "start_time": "2023-11-15T18:29:37.392Z"
   },
   {
    "duration": 197,
    "start_time": "2023-11-15T18:29:40.062Z"
   },
   {
    "duration": 178,
    "start_time": "2023-11-15T18:29:40.261Z"
   },
   {
    "duration": 48,
    "start_time": "2023-11-15T18:29:40.441Z"
   },
   {
    "duration": 6,
    "start_time": "2023-11-15T18:29:40.491Z"
   },
   {
    "duration": 70,
    "start_time": "2023-11-15T18:29:40.499Z"
   },
   {
    "duration": 9,
    "start_time": "2023-11-15T18:29:40.571Z"
   },
   {
    "duration": 68,
    "start_time": "2023-11-15T18:29:40.582Z"
   },
   {
    "duration": 20,
    "start_time": "2023-11-15T18:29:40.652Z"
   },
   {
    "duration": 710,
    "start_time": "2023-11-15T18:29:40.674Z"
   },
   {
    "duration": 18,
    "start_time": "2023-11-15T18:29:41.386Z"
   },
   {
    "duration": 235,
    "start_time": "2023-11-15T18:29:41.407Z"
   },
   {
    "duration": 312,
    "start_time": "2023-11-15T18:29:41.644Z"
   },
   {
    "duration": 236,
    "start_time": "2023-11-15T18:29:41.958Z"
   },
   {
    "duration": 261,
    "start_time": "2023-11-15T18:29:42.195Z"
   },
   {
    "duration": 171,
    "start_time": "2023-11-15T18:29:42.457Z"
   },
   {
    "duration": 174,
    "start_time": "2023-11-15T18:29:42.629Z"
   },
   {
    "duration": 136,
    "start_time": "2023-11-15T18:29:42.804Z"
   },
   {
    "duration": 180,
    "start_time": "2023-11-15T18:29:42.942Z"
   },
   {
    "duration": 259,
    "start_time": "2023-11-15T18:29:43.124Z"
   },
   {
    "duration": 149,
    "start_time": "2023-11-15T18:29:43.384Z"
   },
   {
    "duration": 4,
    "start_time": "2023-11-15T18:29:43.534Z"
   },
   {
    "duration": 5,
    "start_time": "2023-11-15T18:29:43.540Z"
   },
   {
    "duration": 233,
    "start_time": "2023-11-15T18:29:43.546Z"
   },
   {
    "duration": 497,
    "start_time": "2023-11-15T18:29:43.780Z"
   },
   {
    "duration": 209,
    "start_time": "2023-11-15T18:29:44.278Z"
   },
   {
    "duration": 196,
    "start_time": "2023-11-15T18:29:44.488Z"
   },
   {
    "duration": 196,
    "start_time": "2023-11-15T18:29:44.686Z"
   },
   {
    "duration": 2,
    "start_time": "2023-11-15T18:29:44.884Z"
   },
   {
    "duration": 22,
    "start_time": "2023-11-15T18:29:44.888Z"
   },
   {
    "duration": 362,
    "start_time": "2023-11-15T18:29:44.912Z"
   },
   {
    "duration": 214,
    "start_time": "2023-11-15T18:29:45.276Z"
   },
   {
    "duration": 1115,
    "start_time": "2023-11-15T18:36:57.522Z"
   },
   {
    "duration": 139,
    "start_time": "2023-11-15T18:36:58.638Z"
   },
   {
    "duration": 2670,
    "start_time": "2023-11-15T18:36:58.778Z"
   },
   {
    "duration": 187,
    "start_time": "2023-11-15T18:37:01.450Z"
   },
   {
    "duration": 184,
    "start_time": "2023-11-15T18:37:01.639Z"
   },
   {
    "duration": 45,
    "start_time": "2023-11-15T18:37:01.825Z"
   },
   {
    "duration": 6,
    "start_time": "2023-11-15T18:37:01.872Z"
   },
   {
    "duration": 83,
    "start_time": "2023-11-15T18:37:01.879Z"
   },
   {
    "duration": 12,
    "start_time": "2023-11-15T18:37:01.964Z"
   },
   {
    "duration": 80,
    "start_time": "2023-11-15T18:37:01.978Z"
   },
   {
    "duration": 13,
    "start_time": "2023-11-15T18:37:02.060Z"
   },
   {
    "duration": 738,
    "start_time": "2023-11-15T18:37:02.074Z"
   },
   {
    "duration": 19,
    "start_time": "2023-11-15T18:37:02.813Z"
   },
   {
    "duration": 231,
    "start_time": "2023-11-15T18:37:02.835Z"
   },
   {
    "duration": 300,
    "start_time": "2023-11-15T18:37:03.067Z"
   },
   {
    "duration": 225,
    "start_time": "2023-11-15T18:37:03.369Z"
   },
   {
    "duration": 249,
    "start_time": "2023-11-15T18:37:03.595Z"
   },
   {
    "duration": 167,
    "start_time": "2023-11-15T18:37:03.846Z"
   },
   {
    "duration": 171,
    "start_time": "2023-11-15T18:37:04.014Z"
   },
   {
    "duration": 147,
    "start_time": "2023-11-15T18:37:04.186Z"
   },
   {
    "duration": 178,
    "start_time": "2023-11-15T18:37:04.335Z"
   },
   {
    "duration": 247,
    "start_time": "2023-11-15T18:37:04.515Z"
   },
   {
    "duration": 150,
    "start_time": "2023-11-15T18:37:04.766Z"
   },
   {
    "duration": 4,
    "start_time": "2023-11-15T18:37:04.919Z"
   },
   {
    "duration": 19,
    "start_time": "2023-11-15T18:37:04.924Z"
   },
   {
    "duration": 205,
    "start_time": "2023-11-15T18:37:04.945Z"
   },
   {
    "duration": 525,
    "start_time": "2023-11-15T18:37:05.152Z"
   },
   {
    "duration": 210,
    "start_time": "2023-11-15T18:37:05.678Z"
   },
   {
    "duration": 183,
    "start_time": "2023-11-15T18:37:05.890Z"
   },
   {
    "duration": 203,
    "start_time": "2023-11-15T18:37:06.074Z"
   },
   {
    "duration": 3,
    "start_time": "2023-11-15T18:37:06.279Z"
   },
   {
    "duration": 36,
    "start_time": "2023-11-15T18:37:06.284Z"
   },
   {
    "duration": 373,
    "start_time": "2023-11-15T18:37:06.322Z"
   },
   {
    "duration": 205,
    "start_time": "2023-11-15T18:37:06.697Z"
   },
   {
    "duration": 1134,
    "start_time": "2023-11-15T18:42:44.109Z"
   },
   {
    "duration": 140,
    "start_time": "2023-11-15T18:42:45.244Z"
   },
   {
    "duration": 2519,
    "start_time": "2023-11-15T18:42:45.385Z"
   },
   {
    "duration": 190,
    "start_time": "2023-11-15T18:42:47.906Z"
   },
   {
    "duration": 160,
    "start_time": "2023-11-15T18:42:48.098Z"
   },
   {
    "duration": 38,
    "start_time": "2023-11-15T18:42:48.260Z"
   },
   {
    "duration": 6,
    "start_time": "2023-11-15T18:42:48.300Z"
   },
   {
    "duration": 73,
    "start_time": "2023-11-15T18:42:48.308Z"
   },
   {
    "duration": 10,
    "start_time": "2023-11-15T18:42:48.382Z"
   },
   {
    "duration": 76,
    "start_time": "2023-11-15T18:42:48.394Z"
   },
   {
    "duration": 11,
    "start_time": "2023-11-15T18:42:48.472Z"
   },
   {
    "duration": 751,
    "start_time": "2023-11-15T18:42:48.484Z"
   },
   {
    "duration": 28,
    "start_time": "2023-11-15T18:42:49.237Z"
   },
   {
    "duration": 228,
    "start_time": "2023-11-15T18:42:49.269Z"
   },
   {
    "duration": 312,
    "start_time": "2023-11-15T18:42:49.499Z"
   },
   {
    "duration": 211,
    "start_time": "2023-11-15T18:42:49.813Z"
   },
   {
    "duration": 239,
    "start_time": "2023-11-15T18:42:50.026Z"
   },
   {
    "duration": 166,
    "start_time": "2023-11-15T18:42:50.267Z"
   },
   {
    "duration": 163,
    "start_time": "2023-11-15T18:42:50.435Z"
   },
   {
    "duration": 142,
    "start_time": "2023-11-15T18:42:50.600Z"
   },
   {
    "duration": 177,
    "start_time": "2023-11-15T18:42:50.744Z"
   },
   {
    "duration": 246,
    "start_time": "2023-11-15T18:42:50.922Z"
   },
   {
    "duration": 170,
    "start_time": "2023-11-15T18:42:51.170Z"
   },
   {
    "duration": 4,
    "start_time": "2023-11-15T18:42:51.341Z"
   },
   {
    "duration": 18,
    "start_time": "2023-11-15T18:42:51.347Z"
   },
   {
    "duration": 201,
    "start_time": "2023-11-15T18:42:51.366Z"
   },
   {
    "duration": 540,
    "start_time": "2023-11-15T18:42:51.568Z"
   },
   {
    "duration": 211,
    "start_time": "2023-11-15T18:42:52.109Z"
   },
   {
    "duration": 202,
    "start_time": "2023-11-15T18:42:52.322Z"
   },
   {
    "duration": 210,
    "start_time": "2023-11-15T18:42:52.525Z"
   },
   {
    "duration": 82,
    "start_time": "2023-11-15T18:42:52.737Z"
   },
   {
    "duration": 0,
    "start_time": "2023-11-15T18:42:52.820Z"
   },
   {
    "duration": 0,
    "start_time": "2023-11-15T18:42:52.822Z"
   },
   {
    "duration": 0,
    "start_time": "2023-11-15T18:42:52.823Z"
   },
   {
    "duration": 104,
    "start_time": "2023-11-15T18:43:13.310Z"
   },
   {
    "duration": 78,
    "start_time": "2023-11-15T18:43:48.479Z"
   },
   {
    "duration": 23,
    "start_time": "2023-11-15T18:48:24.290Z"
   },
   {
    "duration": 1172,
    "start_time": "2023-11-15T18:48:35.148Z"
   },
   {
    "duration": 137,
    "start_time": "2023-11-15T18:48:36.322Z"
   },
   {
    "duration": 2564,
    "start_time": "2023-11-15T18:48:36.460Z"
   },
   {
    "duration": 175,
    "start_time": "2023-11-15T18:48:39.026Z"
   },
   {
    "duration": 163,
    "start_time": "2023-11-15T18:48:39.203Z"
   },
   {
    "duration": 34,
    "start_time": "2023-11-15T18:48:39.368Z"
   },
   {
    "duration": 6,
    "start_time": "2023-11-15T18:48:39.403Z"
   },
   {
    "duration": 70,
    "start_time": "2023-11-15T18:48:39.411Z"
   },
   {
    "duration": 9,
    "start_time": "2023-11-15T18:48:39.482Z"
   },
   {
    "duration": 76,
    "start_time": "2023-11-15T18:48:39.493Z"
   },
   {
    "duration": 9,
    "start_time": "2023-11-15T18:48:39.570Z"
   },
   {
    "duration": 713,
    "start_time": "2023-11-15T18:48:39.581Z"
   },
   {
    "duration": 19,
    "start_time": "2023-11-15T18:48:40.295Z"
   },
   {
    "duration": 229,
    "start_time": "2023-11-15T18:48:40.318Z"
   },
   {
    "duration": 304,
    "start_time": "2023-11-15T18:48:40.550Z"
   },
   {
    "duration": 205,
    "start_time": "2023-11-15T18:48:40.855Z"
   },
   {
    "duration": 223,
    "start_time": "2023-11-15T18:48:41.062Z"
   },
   {
    "duration": 161,
    "start_time": "2023-11-15T18:48:41.287Z"
   },
   {
    "duration": 168,
    "start_time": "2023-11-15T18:48:41.450Z"
   },
   {
    "duration": 140,
    "start_time": "2023-11-15T18:48:41.620Z"
   },
   {
    "duration": 170,
    "start_time": "2023-11-15T18:48:41.765Z"
   },
   {
    "duration": 256,
    "start_time": "2023-11-15T18:48:41.936Z"
   },
   {
    "duration": 162,
    "start_time": "2023-11-15T18:48:42.193Z"
   },
   {
    "duration": 10,
    "start_time": "2023-11-15T18:48:42.357Z"
   },
   {
    "duration": 7,
    "start_time": "2023-11-15T18:48:42.369Z"
   },
   {
    "duration": 216,
    "start_time": "2023-11-15T18:48:42.377Z"
   },
   {
    "duration": 507,
    "start_time": "2023-11-15T18:48:42.595Z"
   },
   {
    "duration": 204,
    "start_time": "2023-11-15T18:48:43.103Z"
   },
   {
    "duration": 200,
    "start_time": "2023-11-15T18:48:43.309Z"
   },
   {
    "duration": 204,
    "start_time": "2023-11-15T18:48:43.511Z"
   },
   {
    "duration": 25,
    "start_time": "2023-11-15T18:48:43.717Z"
   },
   {
    "duration": 372,
    "start_time": "2023-11-15T18:48:43.744Z"
   },
   {
    "duration": 206,
    "start_time": "2023-11-15T18:48:44.118Z"
   },
   {
    "duration": 1095,
    "start_time": "2023-11-15T19:58:17.586Z"
   },
   {
    "duration": 128,
    "start_time": "2023-11-15T19:58:18.683Z"
   },
   {
    "duration": 2558,
    "start_time": "2023-11-15T19:58:18.813Z"
   },
   {
    "duration": 404,
    "start_time": "2023-11-15T19:58:21.373Z"
   },
   {
    "duration": 300,
    "start_time": "2023-11-15T19:58:21.779Z"
   },
   {
    "duration": 86,
    "start_time": "2023-11-15T19:58:22.080Z"
   },
   {
    "duration": 5,
    "start_time": "2023-11-15T19:58:22.167Z"
   },
   {
    "duration": 102,
    "start_time": "2023-11-15T19:58:22.173Z"
   },
   {
    "duration": 7,
    "start_time": "2023-11-15T19:58:22.276Z"
   },
   {
    "duration": 116,
    "start_time": "2023-11-15T19:58:22.342Z"
   },
   {
    "duration": 9,
    "start_time": "2023-11-15T19:58:22.460Z"
   },
   {
    "duration": 707,
    "start_time": "2023-11-15T19:58:22.471Z"
   },
   {
    "duration": 15,
    "start_time": "2023-11-15T19:58:23.180Z"
   },
   {
    "duration": 217,
    "start_time": "2023-11-15T19:58:23.197Z"
   },
   {
    "duration": 306,
    "start_time": "2023-11-15T19:58:23.415Z"
   },
   {
    "duration": 367,
    "start_time": "2023-11-15T19:58:23.723Z"
   },
   {
    "duration": 379,
    "start_time": "2023-11-15T19:58:24.143Z"
   },
   {
    "duration": 173,
    "start_time": "2023-11-15T19:58:24.523Z"
   },
   {
    "duration": 157,
    "start_time": "2023-11-15T19:58:24.697Z"
   },
   {
    "duration": 127,
    "start_time": "2023-11-15T19:58:24.856Z"
   },
   {
    "duration": 175,
    "start_time": "2023-11-15T19:58:24.985Z"
   },
   {
    "duration": 237,
    "start_time": "2023-11-15T19:58:25.161Z"
   },
   {
    "duration": 146,
    "start_time": "2023-11-15T19:58:25.400Z"
   },
   {
    "duration": 4,
    "start_time": "2023-11-15T19:58:25.548Z"
   },
   {
    "duration": 21,
    "start_time": "2023-11-15T19:58:25.554Z"
   },
   {
    "duration": 234,
    "start_time": "2023-11-15T19:58:25.577Z"
   },
   {
    "duration": 532,
    "start_time": "2023-11-15T19:58:25.813Z"
   },
   {
    "duration": 196,
    "start_time": "2023-11-15T19:58:26.348Z"
   },
   {
    "duration": 178,
    "start_time": "2023-11-15T19:58:26.546Z"
   },
   {
    "duration": 215,
    "start_time": "2023-11-15T19:58:26.725Z"
   },
   {
    "duration": 21,
    "start_time": "2023-11-15T19:58:26.942Z"
   },
   {
    "duration": 336,
    "start_time": "2023-11-15T19:58:26.964Z"
   },
   {
    "duration": 186,
    "start_time": "2023-11-15T19:58:27.302Z"
   },
   {
    "duration": 66,
    "start_time": "2023-11-15T19:59:23.827Z"
   },
   {
    "duration": 44,
    "start_time": "2023-11-16T07:32:39.796Z"
   },
   {
    "duration": 1419,
    "start_time": "2023-11-16T07:32:47.404Z"
   },
   {
    "duration": 191,
    "start_time": "2023-11-16T07:32:48.825Z"
   },
   {
    "duration": 2314,
    "start_time": "2023-11-16T07:32:49.018Z"
   },
   {
    "duration": 173,
    "start_time": "2023-11-16T07:32:51.334Z"
   },
   {
    "duration": 164,
    "start_time": "2023-11-16T07:32:51.508Z"
   },
   {
    "duration": 33,
    "start_time": "2023-11-16T07:32:51.673Z"
   },
   {
    "duration": 5,
    "start_time": "2023-11-16T07:32:51.708Z"
   },
   {
    "duration": 50,
    "start_time": "2023-11-16T07:32:51.731Z"
   },
   {
    "duration": 8,
    "start_time": "2023-11-16T07:32:51.783Z"
   },
   {
    "duration": 74,
    "start_time": "2023-11-16T07:32:51.794Z"
   },
   {
    "duration": 9,
    "start_time": "2023-11-16T07:32:51.869Z"
   },
   {
    "duration": 641,
    "start_time": "2023-11-16T07:32:51.879Z"
   },
   {
    "duration": 23,
    "start_time": "2023-11-16T07:32:52.522Z"
   },
   {
    "duration": 201,
    "start_time": "2023-11-16T07:32:52.546Z"
   },
   {
    "duration": 260,
    "start_time": "2023-11-16T07:32:52.748Z"
   },
   {
    "duration": 190,
    "start_time": "2023-11-16T07:32:53.009Z"
   },
   {
    "duration": 208,
    "start_time": "2023-11-16T07:32:53.200Z"
   },
   {
    "duration": 149,
    "start_time": "2023-11-16T07:32:53.409Z"
   },
   {
    "duration": 162,
    "start_time": "2023-11-16T07:32:53.560Z"
   },
   {
    "duration": 133,
    "start_time": "2023-11-16T07:32:53.723Z"
   },
   {
    "duration": 176,
    "start_time": "2023-11-16T07:32:53.858Z"
   },
   {
    "duration": 244,
    "start_time": "2023-11-16T07:32:54.036Z"
   },
   {
    "duration": 148,
    "start_time": "2023-11-16T07:32:54.283Z"
   },
   {
    "duration": 4,
    "start_time": "2023-11-16T07:32:54.433Z"
   },
   {
    "duration": 10,
    "start_time": "2023-11-16T07:32:54.439Z"
   },
   {
    "duration": 194,
    "start_time": "2023-11-16T07:32:54.450Z"
   },
   {
    "duration": 534,
    "start_time": "2023-11-16T07:32:54.646Z"
   },
   {
    "duration": 200,
    "start_time": "2023-11-16T07:32:55.183Z"
   },
   {
    "duration": 190,
    "start_time": "2023-11-16T07:32:55.385Z"
   },
   {
    "duration": 189,
    "start_time": "2023-11-16T07:32:55.577Z"
   },
   {
    "duration": 100,
    "start_time": "2023-11-16T07:32:55.768Z"
   },
   {
    "duration": 0,
    "start_time": "2023-11-16T07:32:55.869Z"
   },
   {
    "duration": 0,
    "start_time": "2023-11-16T07:32:55.871Z"
   },
   {
    "duration": 0,
    "start_time": "2023-11-16T07:32:55.872Z"
   },
   {
    "duration": 14,
    "start_time": "2023-11-16T07:33:34.126Z"
   },
   {
    "duration": 131,
    "start_time": "2023-11-16T07:33:48.561Z"
   },
   {
    "duration": 133,
    "start_time": "2023-11-16T07:34:59.915Z"
   },
   {
    "duration": 273,
    "start_time": "2023-11-16T07:35:55.144Z"
   },
   {
    "duration": 254,
    "start_time": "2023-11-16T07:37:09.578Z"
   },
   {
    "duration": 345,
    "start_time": "2023-11-16T07:38:04.818Z"
   },
   {
    "duration": 285,
    "start_time": "2023-11-16T07:38:08.951Z"
   },
   {
    "duration": 357,
    "start_time": "2023-11-16T07:38:14.560Z"
   },
   {
    "duration": 280,
    "start_time": "2023-11-16T07:38:22.036Z"
   },
   {
    "duration": 1132,
    "start_time": "2023-11-16T07:39:22.574Z"
   },
   {
    "duration": 149,
    "start_time": "2023-11-16T07:39:23.707Z"
   },
   {
    "duration": 2385,
    "start_time": "2023-11-16T07:39:23.859Z"
   },
   {
    "duration": 168,
    "start_time": "2023-11-16T07:39:26.247Z"
   },
   {
    "duration": 150,
    "start_time": "2023-11-16T07:39:26.417Z"
   },
   {
    "duration": 32,
    "start_time": "2023-11-16T07:39:26.569Z"
   },
   {
    "duration": 7,
    "start_time": "2023-11-16T07:39:26.602Z"
   },
   {
    "duration": 72,
    "start_time": "2023-11-16T07:39:26.610Z"
   },
   {
    "duration": 8,
    "start_time": "2023-11-16T07:39:26.684Z"
   },
   {
    "duration": 63,
    "start_time": "2023-11-16T07:39:26.695Z"
   },
   {
    "duration": 10,
    "start_time": "2023-11-16T07:39:26.760Z"
   },
   {
    "duration": 662,
    "start_time": "2023-11-16T07:39:26.771Z"
   },
   {
    "duration": 17,
    "start_time": "2023-11-16T07:39:27.436Z"
   },
   {
    "duration": 227,
    "start_time": "2023-11-16T07:39:27.455Z"
   },
   {
    "duration": 310,
    "start_time": "2023-11-16T07:39:27.684Z"
   },
   {
    "duration": 217,
    "start_time": "2023-11-16T07:39:27.996Z"
   },
   {
    "duration": 223,
    "start_time": "2023-11-16T07:39:28.214Z"
   },
   {
    "duration": 173,
    "start_time": "2023-11-16T07:39:28.438Z"
   },
   {
    "duration": 177,
    "start_time": "2023-11-16T07:39:28.613Z"
   },
   {
    "duration": 140,
    "start_time": "2023-11-16T07:39:28.792Z"
   },
   {
    "duration": 164,
    "start_time": "2023-11-16T07:39:28.933Z"
   },
   {
    "duration": 262,
    "start_time": "2023-11-16T07:39:29.099Z"
   },
   {
    "duration": 162,
    "start_time": "2023-11-16T07:39:29.363Z"
   },
   {
    "duration": 6,
    "start_time": "2023-11-16T07:39:29.527Z"
   },
   {
    "duration": 8,
    "start_time": "2023-11-16T07:39:29.535Z"
   },
   {
    "duration": 220,
    "start_time": "2023-11-16T07:39:29.544Z"
   },
   {
    "duration": 543,
    "start_time": "2023-11-16T07:39:29.767Z"
   },
   {
    "duration": 193,
    "start_time": "2023-11-16T07:39:30.314Z"
   },
   {
    "duration": 194,
    "start_time": "2023-11-16T07:39:30.508Z"
   },
   {
    "duration": 178,
    "start_time": "2023-11-16T07:39:30.704Z"
   },
   {
    "duration": 156,
    "start_time": "2023-11-16T07:39:30.884Z"
   },
   {
    "duration": 315,
    "start_time": "2023-11-16T07:39:31.042Z"
   },
   {
    "duration": 22,
    "start_time": "2023-11-16T07:39:31.359Z"
   },
   {
    "duration": 378,
    "start_time": "2023-11-16T07:39:31.383Z"
   },
   {
    "duration": 205,
    "start_time": "2023-11-16T07:39:31.762Z"
   },
   {
    "duration": 445,
    "start_time": "2023-11-16T07:39:59.518Z"
   },
   {
    "duration": 352,
    "start_time": "2023-11-16T07:40:26.048Z"
   },
   {
    "duration": 190,
    "start_time": "2023-11-16T07:41:01.486Z"
   },
   {
    "duration": 170,
    "start_time": "2023-11-16T07:41:16.199Z"
   },
   {
    "duration": 105,
    "start_time": "2023-11-16T07:41:26.244Z"
   },
   {
    "duration": 204,
    "start_time": "2023-11-16T07:41:51.093Z"
   },
   {
    "duration": 171,
    "start_time": "2023-11-16T07:42:08.922Z"
   },
   {
    "duration": 11,
    "start_time": "2023-11-16T07:42:24.212Z"
   },
   {
    "duration": 190,
    "start_time": "2023-11-16T07:42:36.514Z"
   },
   {
    "duration": 188,
    "start_time": "2023-11-16T07:43:57.844Z"
   },
   {
    "duration": 199,
    "start_time": "2023-11-16T07:44:02.846Z"
   },
   {
    "duration": 173,
    "start_time": "2023-11-16T07:44:08.572Z"
   },
   {
    "duration": 158,
    "start_time": "2023-11-16T07:44:26.334Z"
   },
   {
    "duration": 171,
    "start_time": "2023-11-16T07:44:31.388Z"
   },
   {
    "duration": 142,
    "start_time": "2023-11-16T07:52:50.014Z"
   },
   {
    "duration": 1230,
    "start_time": "2023-11-16T08:18:11.627Z"
   },
   {
    "duration": 126,
    "start_time": "2023-11-16T08:18:12.859Z"
   },
   {
    "duration": 2357,
    "start_time": "2023-11-16T08:18:12.987Z"
   },
   {
    "duration": 172,
    "start_time": "2023-11-16T08:18:15.346Z"
   },
   {
    "duration": 164,
    "start_time": "2023-11-16T08:18:15.520Z"
   },
   {
    "duration": 48,
    "start_time": "2023-11-16T08:18:15.686Z"
   },
   {
    "duration": 6,
    "start_time": "2023-11-16T08:18:15.735Z"
   },
   {
    "duration": 79,
    "start_time": "2023-11-16T08:18:15.742Z"
   },
   {
    "duration": 8,
    "start_time": "2023-11-16T08:18:15.823Z"
   },
   {
    "duration": 85,
    "start_time": "2023-11-16T08:18:15.833Z"
   },
   {
    "duration": 10,
    "start_time": "2023-11-16T08:18:15.919Z"
   },
   {
    "duration": 645,
    "start_time": "2023-11-16T08:18:15.931Z"
   },
   {
    "duration": 17,
    "start_time": "2023-11-16T08:18:16.578Z"
   },
   {
    "duration": 216,
    "start_time": "2023-11-16T08:18:16.597Z"
   },
   {
    "duration": 280,
    "start_time": "2023-11-16T08:18:16.814Z"
   },
   {
    "duration": 210,
    "start_time": "2023-11-16T08:18:17.096Z"
   },
   {
    "duration": 220,
    "start_time": "2023-11-16T08:18:17.318Z"
   },
   {
    "duration": 168,
    "start_time": "2023-11-16T08:18:17.541Z"
   },
   {
    "duration": 174,
    "start_time": "2023-11-16T08:18:17.711Z"
   },
   {
    "duration": 133,
    "start_time": "2023-11-16T08:18:17.887Z"
   },
   {
    "duration": 167,
    "start_time": "2023-11-16T08:18:18.022Z"
   },
   {
    "duration": 242,
    "start_time": "2023-11-16T08:18:18.191Z"
   },
   {
    "duration": 157,
    "start_time": "2023-11-16T08:18:18.434Z"
   },
   {
    "duration": 4,
    "start_time": "2023-11-16T08:18:18.593Z"
   },
   {
    "duration": 5,
    "start_time": "2023-11-16T08:18:18.598Z"
   },
   {
    "duration": 209,
    "start_time": "2023-11-16T08:18:18.605Z"
   },
   {
    "duration": 534,
    "start_time": "2023-11-16T08:18:18.815Z"
   },
   {
    "duration": 198,
    "start_time": "2023-11-16T08:18:19.352Z"
   },
   {
    "duration": 209,
    "start_time": "2023-11-16T08:18:19.552Z"
   },
   {
    "duration": 191,
    "start_time": "2023-11-16T08:18:19.763Z"
   },
   {
    "duration": 158,
    "start_time": "2023-11-16T08:18:19.956Z"
   },
   {
    "duration": 142,
    "start_time": "2023-11-16T08:18:20.117Z"
   },
   {
    "duration": 302,
    "start_time": "2023-11-16T08:18:20.261Z"
   },
   {
    "duration": 308,
    "start_time": "2023-11-16T08:18:20.564Z"
   },
   {
    "duration": 256,
    "start_time": "2023-11-16T08:18:20.874Z"
   },
   {
    "duration": 117,
    "start_time": "2023-11-16T08:18:21.132Z"
   },
   {
    "duration": 0,
    "start_time": "2023-11-16T08:18:21.251Z"
   },
   {
    "duration": 0,
    "start_time": "2023-11-16T08:18:21.253Z"
   },
   {
    "duration": 0,
    "start_time": "2023-11-16T08:18:21.255Z"
   },
   {
    "duration": 0,
    "start_time": "2023-11-16T08:18:21.256Z"
   },
   {
    "duration": 0,
    "start_time": "2023-11-16T08:18:21.258Z"
   },
   {
    "duration": 0,
    "start_time": "2023-11-16T08:18:21.259Z"
   },
   {
    "duration": 167,
    "start_time": "2023-11-16T08:27:22.035Z"
   },
   {
    "duration": 144,
    "start_time": "2023-11-16T08:27:26.405Z"
   },
   {
    "duration": 150,
    "start_time": "2023-11-16T08:27:32.119Z"
   },
   {
    "duration": 22,
    "start_time": "2023-11-16T08:27:58.032Z"
   },
   {
    "duration": 21,
    "start_time": "2023-11-16T08:29:21.353Z"
   },
   {
    "duration": 21,
    "start_time": "2023-11-16T08:30:35.814Z"
   },
   {
    "duration": 334,
    "start_time": "2023-11-16T08:30:54.416Z"
   },
   {
    "duration": 210,
    "start_time": "2023-11-16T08:30:58.833Z"
   },
   {
    "duration": 141,
    "start_time": "2023-11-16T08:35:43.141Z"
   },
   {
    "duration": 1274,
    "start_time": "2023-11-16T08:36:30.213Z"
   },
   {
    "duration": 144,
    "start_time": "2023-11-16T08:36:31.489Z"
   },
   {
    "duration": 2689,
    "start_time": "2023-11-16T08:36:31.635Z"
   },
   {
    "duration": 173,
    "start_time": "2023-11-16T08:36:34.326Z"
   },
   {
    "duration": 159,
    "start_time": "2023-11-16T08:36:34.501Z"
   },
   {
    "duration": 33,
    "start_time": "2023-11-16T08:36:34.662Z"
   },
   {
    "duration": 6,
    "start_time": "2023-11-16T08:36:34.697Z"
   },
   {
    "duration": 67,
    "start_time": "2023-11-16T08:36:34.704Z"
   },
   {
    "duration": 9,
    "start_time": "2023-11-16T08:36:34.772Z"
   },
   {
    "duration": 77,
    "start_time": "2023-11-16T08:36:34.783Z"
   },
   {
    "duration": 10,
    "start_time": "2023-11-16T08:36:34.861Z"
   },
   {
    "duration": 638,
    "start_time": "2023-11-16T08:36:34.873Z"
   },
   {
    "duration": 25,
    "start_time": "2023-11-16T08:36:35.513Z"
   },
   {
    "duration": 215,
    "start_time": "2023-11-16T08:36:35.540Z"
   },
   {
    "duration": 278,
    "start_time": "2023-11-16T08:36:35.757Z"
   },
   {
    "duration": 206,
    "start_time": "2023-11-16T08:36:36.036Z"
   },
   {
    "duration": 242,
    "start_time": "2023-11-16T08:36:36.244Z"
   },
   {
    "duration": 161,
    "start_time": "2023-11-16T08:36:36.489Z"
   },
   {
    "duration": 150,
    "start_time": "2023-11-16T08:36:36.652Z"
   },
   {
    "duration": 129,
    "start_time": "2023-11-16T08:36:36.803Z"
   },
   {
    "duration": 173,
    "start_time": "2023-11-16T08:36:36.934Z"
   },
   {
    "duration": 272,
    "start_time": "2023-11-16T08:36:37.108Z"
   },
   {
    "duration": 162,
    "start_time": "2023-11-16T08:36:37.382Z"
   },
   {
    "duration": 5,
    "start_time": "2023-11-16T08:36:37.546Z"
   },
   {
    "duration": 5,
    "start_time": "2023-11-16T08:36:37.553Z"
   },
   {
    "duration": 247,
    "start_time": "2023-11-16T08:36:37.560Z"
   },
   {
    "duration": 551,
    "start_time": "2023-11-16T08:36:37.809Z"
   },
   {
    "duration": 219,
    "start_time": "2023-11-16T08:36:38.364Z"
   },
   {
    "duration": 208,
    "start_time": "2023-11-16T08:36:38.585Z"
   },
   {
    "duration": 207,
    "start_time": "2023-11-16T08:36:38.794Z"
   },
   {
    "duration": 163,
    "start_time": "2023-11-16T08:36:39.003Z"
   },
   {
    "duration": 154,
    "start_time": "2023-11-16T08:36:39.167Z"
   },
   {
    "duration": 303,
    "start_time": "2023-11-16T08:36:39.322Z"
   },
   {
    "duration": 288,
    "start_time": "2023-11-16T08:36:39.627Z"
   },
   {
    "duration": 254,
    "start_time": "2023-11-16T08:36:39.917Z"
   },
   {
    "duration": 183,
    "start_time": "2023-11-16T08:36:40.173Z"
   },
   {
    "duration": 155,
    "start_time": "2023-11-16T08:36:40.358Z"
   },
   {
    "duration": 164,
    "start_time": "2023-11-16T08:36:40.515Z"
   },
   {
    "duration": 22,
    "start_time": "2023-11-16T08:36:40.681Z"
   },
   {
    "duration": 351,
    "start_time": "2023-11-16T08:36:40.704Z"
   },
   {
    "duration": 209,
    "start_time": "2023-11-16T08:36:41.057Z"
   },
   {
    "duration": 193,
    "start_time": "2023-11-16T08:37:48.521Z"
   },
   {
    "duration": 1158,
    "start_time": "2023-11-16T08:38:47.507Z"
   },
   {
    "duration": 131,
    "start_time": "2023-11-16T08:38:48.667Z"
   },
   {
    "duration": 2388,
    "start_time": "2023-11-16T08:38:48.800Z"
   },
   {
    "duration": 161,
    "start_time": "2023-11-16T08:38:51.190Z"
   },
   {
    "duration": 144,
    "start_time": "2023-11-16T08:38:51.353Z"
   },
   {
    "duration": 45,
    "start_time": "2023-11-16T08:38:51.499Z"
   },
   {
    "duration": 7,
    "start_time": "2023-11-16T08:38:51.546Z"
   },
   {
    "duration": 58,
    "start_time": "2023-11-16T08:38:51.554Z"
   },
   {
    "duration": 20,
    "start_time": "2023-11-16T08:38:51.614Z"
   },
   {
    "duration": 71,
    "start_time": "2023-11-16T08:38:51.636Z"
   },
   {
    "duration": 9,
    "start_time": "2023-11-16T08:38:51.709Z"
   },
   {
    "duration": 637,
    "start_time": "2023-11-16T08:38:51.720Z"
   },
   {
    "duration": 16,
    "start_time": "2023-11-16T08:38:52.359Z"
   },
   {
    "duration": 232,
    "start_time": "2023-11-16T08:38:52.377Z"
   },
   {
    "duration": 282,
    "start_time": "2023-11-16T08:38:52.611Z"
   },
   {
    "duration": 202,
    "start_time": "2023-11-16T08:38:52.894Z"
   },
   {
    "duration": 214,
    "start_time": "2023-11-16T08:38:53.098Z"
   },
   {
    "duration": 150,
    "start_time": "2023-11-16T08:38:53.314Z"
   },
   {
    "duration": 162,
    "start_time": "2023-11-16T08:38:53.466Z"
   },
   {
    "duration": 124,
    "start_time": "2023-11-16T08:38:53.630Z"
   },
   {
    "duration": 162,
    "start_time": "2023-11-16T08:38:53.756Z"
   },
   {
    "duration": 234,
    "start_time": "2023-11-16T08:38:53.919Z"
   },
   {
    "duration": 136,
    "start_time": "2023-11-16T08:38:54.154Z"
   },
   {
    "duration": 4,
    "start_time": "2023-11-16T08:38:54.291Z"
   },
   {
    "duration": 5,
    "start_time": "2023-11-16T08:38:54.297Z"
   },
   {
    "duration": 207,
    "start_time": "2023-11-16T08:38:54.304Z"
   },
   {
    "duration": 517,
    "start_time": "2023-11-16T08:38:54.513Z"
   },
   {
    "duration": 195,
    "start_time": "2023-11-16T08:38:55.034Z"
   },
   {
    "duration": 195,
    "start_time": "2023-11-16T08:38:55.231Z"
   },
   {
    "duration": 200,
    "start_time": "2023-11-16T08:38:55.431Z"
   },
   {
    "duration": 150,
    "start_time": "2023-11-16T08:38:55.633Z"
   },
   {
    "duration": 147,
    "start_time": "2023-11-16T08:38:55.784Z"
   },
   {
    "duration": 302,
    "start_time": "2023-11-16T08:38:55.932Z"
   },
   {
    "duration": 289,
    "start_time": "2023-11-16T08:38:56.236Z"
   },
   {
    "duration": 258,
    "start_time": "2023-11-16T08:38:56.527Z"
   },
   {
    "duration": 171,
    "start_time": "2023-11-16T08:38:56.787Z"
   },
   {
    "duration": 151,
    "start_time": "2023-11-16T08:38:56.959Z"
   },
   {
    "duration": 144,
    "start_time": "2023-11-16T08:38:57.112Z"
   },
   {
    "duration": 24,
    "start_time": "2023-11-16T08:38:57.258Z"
   },
   {
    "duration": 345,
    "start_time": "2023-11-16T08:38:57.288Z"
   },
   {
    "duration": 220,
    "start_time": "2023-11-16T08:38:57.635Z"
   }
  ],
  "kernelspec": {
   "display_name": "Python 3 (ipykernel)",
   "language": "python",
   "name": "python3"
  },
  "language_info": {
   "codemirror_mode": {
    "name": "ipython",
    "version": 3
   },
   "file_extension": ".py",
   "mimetype": "text/x-python",
   "name": "python",
   "nbconvert_exporter": "python",
   "pygments_lexer": "ipython3",
   "version": "3.12.9"
  },
  "toc": {
   "base_numbering": 1,
   "nav_menu": {},
   "number_sections": true,
   "sideBar": true,
   "skip_h1_title": true,
   "title_cell": "Table of Contents",
   "title_sidebar": "Contents",
   "toc_cell": false,
   "toc_position": {},
   "toc_section_display": true,
   "toc_window_display": false
  }
 },
 "nbformat": 4,
 "nbformat_minor": 4
}
